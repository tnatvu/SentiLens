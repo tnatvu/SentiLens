{
 "cells": [
  {
   "cell_type": "markdown",
   "metadata": {},
   "source": [
    "Introduction\n"
   ]
  },
  {
   "cell_type": "markdown",
   "metadata": {},
   "source": [
    "**Table of contents**<a id='toc0_'></a>    \n",
    "- 1. [Data preparation](#toc1_)    \n",
    "  - 1.1. [Tokenize sentence and aspect BIO encoding class](#toc1_1_)    \n",
    "  - 1.2. [Load data](#toc1_2_)    \n",
    "  - 1.3. [Inspect tagging issues](#toc1_3_)    \n",
    "- 2. [BERT](#toc2_)    \n",
    "  - 2.1. [Convert df to HuggingFace datasets](#toc2_1_)    \n",
    "  - 2.2. [Define model](#toc2_2_)    \n",
    "    - 2.2.1. [Define tokenizer](#toc2_2_1_)    \n",
    "    - 2.2.2. [Define token classification model](#toc2_2_2_)    \n",
    "  - 2.3. [Data preparation](#toc2_3_)    \n",
    "  - 2.4. [Performance metrics](#toc2_4_)    \n",
    "  - 2.5. [Training](#toc2_5_)    \n",
    "    - 2.5.1. [Define trainer](#toc2_5_1_)    \n",
    "    - 2.5.2. [Training results](#toc2_5_2_)    \n",
    "  - 2.6. [Model performance](#toc2_6_)    \n",
    "    - 2.6.1. [Perform prediction on validation dataset](#toc2_6_1_)    \n",
    "    - 2.6.2. [Model performance](#toc2_6_2_)    \n",
    "  - 2.7. [Error analysis](#toc2_7_)    \n",
    "    - 2.7.1. [Group by word token](#toc2_7_1_)    \n",
    "    - 2.7.2. [Group by Tag ID](#toc2_7_2_)    \n",
    "  - 2.8. [Save model](#toc2_8_)    \n",
    "  - 2.9. [Load saved model](#toc2_9_)    \n",
    "    - 2.9.1. [Load model manually](#toc2_9_1_)    \n",
    "    - 2.9.2. [Pipeline](#toc2_9_2_)    \n",
    "\n",
    "<!-- vscode-jupyter-toc-config\n",
    "\tnumbering=true\n",
    "\tanchor=true\n",
    "\tflat=false\n",
    "\tminLevel=1\n",
    "\tmaxLevel=6\n",
    "\t/vscode-jupyter-toc-config -->\n",
    "<!-- THIS CELL WILL BE REPLACED ON TOC UPDATE. DO NOT WRITE YOUR TEXT IN THIS CELL -->"
   ]
  },
  {
   "cell_type": "code",
   "execution_count": 1,
   "metadata": {},
   "outputs": [],
   "source": [
    "import os \n",
    "os.environ['PYTORCH_MPS_HIGH_WATERMARK_RATIO'] = '0.0' # this setting is needed to run NN on my Mac\n",
    "\n",
    "import re\n",
    "import pandas as pd\n",
    "import numpy as np\n",
    "from collections import Counter\n",
    "from collections import defaultdict\n",
    "\n",
    "import plotly.express as px\n",
    "import plotly.graph_objects as go\n",
    "from plotly.subplots import make_subplots\n",
    "import matplotlib\n",
    "import matplotlib.pyplot as plt\n",
    "import seaborn as sns\n",
    "from highlight_text import HighlightText, ax_text, fig_text\n",
    "\n",
    "\n",
    "from nltk.tokenize import TreebankWordTokenizer\n",
    "\n",
    "from sklearn.model_selection import train_test_split\n",
    "from sklearn.metrics import confusion_matrix, ConfusionMatrixDisplay\n",
    "from seqeval.metrics import f1_score, classification_report\n",
    "\n",
    "# pip install torch==2.2.0 torchtext --index-url https://download.pytorch.org/whl/test/cpu\n",
    "# pip install torch==2.3.0.dev20240121 # this does not work\n",
    "\n",
    "# pip3 install --pre torch torchvision torchaudio --extra-index-url https://download.pytorch.org/whl/nightly/cpu # run this in CLI before running the notebook\n",
    "\n",
    "# import torch\n",
    "# if torch.backends.mps.is_available():\n",
    "#     mps_device = torch.device(\"mps\")\n",
    "#     x = torch.ones(1, device=mps_device)\n",
    "#     print (x)\n",
    "# else:\n",
    "#     print (\"MPS device not found.\")"
   ]
  },
  {
   "cell_type": "markdown",
   "metadata": {},
   "source": [
    "# 1. <a id='toc1_'></a>[Data preparation](#toc0_)"
   ]
  },
  {
   "cell_type": "markdown",
   "metadata": {},
   "source": [
    "## 1.1. <a id='toc1_1_'></a>[Tokenize sentence and aspect BIO encoding class](#toc0_)"
   ]
  },
  {
   "cell_type": "code",
   "execution_count": 2,
   "metadata": {},
   "outputs": [],
   "source": [
    "class SentenceToken:\n",
    "  '''\n",
    "    SentenceToken\n",
    "\n",
    "    This class takes care of word tokenize and tagging aspect entities\n",
    "  '''\n",
    "  def __init__(self, sentence, aspect_type=None, aspects=None, sentence_id=None):\n",
    "    \n",
    "    if sentence_id is not None:\n",
    "      print(sentence_id)\n",
    "\n",
    "    self.sentence_id = sentence_id\n",
    "    self.sentence = sentence.replace(u\"\\u00A0\", \" \").replace(u'\\xa0',' ') # replace unicode space character\n",
    "                            \n",
    "    self.aspect_bio_tags = None\n",
    "    self.unified_aspect_bio_tags = None\n",
    "    self.token_span = None\n",
    "    self.space_pre_token = None\n",
    "\n",
    "    # Tokenize sentence\n",
    "    self.__tokenize_sentence(self.sentence)\n",
    "\n",
    "    if aspect_type == 'dict':\n",
    "      self.set_aspect_tagging_from_dict(aspects)\n",
    "    elif aspect_type == 'bio':\n",
    "      self.set_aspect_bio_tags(aspects)\n",
    "    elif aspect_type == 'unified bio':\n",
    "      self.set_aspect_unified_bio_tags(aspects)\n",
    "  \n",
    "  def __tokenize_sentence(self, sentence):\n",
    "    '''\n",
    "    __tokenize_sentence\n",
    "\n",
    "    Break sentence into word token span\n",
    "    '''\n",
    "    token_span = list(TreebankWordTokenizer().span_tokenize(sentence))\n",
    "    \n",
    "    self.token_span = token_span\n",
    "    self.space_pre_token = [True if sentence[k[0]-1:k[0]] == ' ' else False for i,k in enumerate(token_span)]\n",
    "\n",
    "  def set_aspect_tagging_from_dict(self, aspects):\n",
    "    '''\n",
    "    set_aspect_tagging_from_dict\n",
    "\n",
    "    Calculate & assign aspect entities to token given an array of aspects (term, start_index, to_index, and polarity)\n",
    "    '''\n",
    "    polarity_map = {'positive':'POS'\n",
    "              ,'negative': 'NEG'\n",
    "              ,'conflict': 'CON'\n",
    "              ,'neutral': 'NEU'}\n",
    "    \n",
    "    bio_tags = ['O'] * len(self.token_span)\n",
    "    unified_bio_tags = bio_tags\n",
    "\n",
    "    for x in aspects:\n",
    "      if x['term'] != '':\n",
    "        aspect_from = int(x['from'])\n",
    "        aspect_to = int(x['to'])\n",
    "        polarity = '-' + polarity_map[x['polarity']]\n",
    "\n",
    "        aspect_from_index = [i for i, v in enumerate(self.token_span) if (v[0] <= aspect_from) & (v[1] >= aspect_from)][0]\n",
    "        aspect_to_index = [i for i, v in enumerate(self.token_span) if (v[0] <= aspect_to) & (v[1] >= aspect_to)][0]\n",
    "      \n",
    "        aspect_length = aspect_to_index - aspect_from_index\n",
    "        bio_tags = bio_tags[:aspect_from_index] + ['B'] + ['I'] * (aspect_length) + bio_tags[aspect_to_index+1:]\n",
    "        unified_bio_tags = unified_bio_tags[:aspect_from_index] + ['B' + polarity] + ['I'+ polarity] * (aspect_length) + unified_bio_tags[aspect_to_index+1:]\n",
    "\n",
    "    self.set_aspect_bio_tags(bio_tags)\n",
    "    self.set_aspect_unified_bio_tags(unified_bio_tags)\n",
    "\n",
    "  def rebuild_sentence_from_token(self):\n",
    "    '''\n",
    "    rebuild_sentence_from_token\n",
    "\n",
    "    Return sentence built from computed tokens\n",
    "    '''\n",
    "    return ''.join([(' ' if self.space_pre_token[i] else '') + self.sentence[k[0]:k[1]] for i, k in enumerate(self.token_span)])\n",
    " \n",
    "  def set_aspect_bio_tags(self, aspect_bio_tags):\n",
    "    '''\n",
    "    set_aspect_bio_tags\n",
    "\n",
    "    Setter method to set aspect_unified_bio_tags and aspect_bio_tags\n",
    "    '''\n",
    "    self.aspect_bio_tags = aspect_bio_tags\n",
    "    self.aspect_unified_bio_tags = aspect_bio_tags\n",
    "\n",
    "  def set_aspect_unified_bio_tags(self, aspect_unified_bio_tags):\n",
    "    ''''\n",
    "    set_aspect_unified_bio_tags\n",
    "    \n",
    "    Setter method to set aspect_unified_bio_tags and aspect_bio_tags\n",
    "    '''\n",
    "    self.aspect_unified_bio_tags = aspect_unified_bio_tags\n",
    "    self.aspect_bio_tags = [k[0:1] for k in aspect_unified_bio_tags]\n",
    "\n",
    "  def get_tokens(self):\n",
    "    '''\n",
    "    get_tokens()\n",
    "    Return an array of sentence word tokens\n",
    "    '''\n",
    "    return [self.sentence[k[0]:k[1]] for k in self.token_span]\n",
    "  \n",
    "  def check_rebuild_sentence_from_token(self):\n",
    "    '''\n",
    "    check_rebuild_sentence_from_token()\n",
    "\n",
    "    This is a test / debugger function.\n",
    "    This help validating if we have computed the sentence to token properly and whether we can re-compute the exact sentence from information stored.\n",
    "    '''\n",
    "    return re.sub(r'\\s+', ' ',self.sentence.strip()) == self.rebuild_sentence_from_token().strip()\n",
    "  \n",
    "  def check_rebuild_aspect_terms(self, aspect_dict):\n",
    "    '''\n",
    "    check_rebuild_aspect_terms(aspect_dict)\n",
    "\n",
    "    This is a test / debugger fucntion. \n",
    "    This help validate if we have compute the correct aspect terms as given by the aspect dict\n",
    "\n",
    "    INPUT:\n",
    "    aspect dict: array of aspect dictionaries in the following format\n",
    "      [{'term': 'storage', \n",
    "       'polarity': 'positive', \n",
    "       'from': '14', \n",
    "       'to': '21'}]\n",
    "    '''\n",
    "    aspect_dict = sorted(aspect_dict, key=lambda d: int(d['from']))\n",
    "    aspect_input = [k['term'].replace(u\"\\u00A0\", \" \").replace(u'\\xa0',' ') for k in aspect_dict if k['term'] != '' ]\n",
    "    aspect_computed = []\n",
    "    aspect = ''\n",
    "    \n",
    "    for i,k in enumerate(self.aspect_bio_tags):\n",
    "      token = self.sentence[self.token_span[i][0]:self.token_span[i][1]]\n",
    "      \n",
    "      if k == 'B':\n",
    "        if (self.aspect_bio_tags[i-1] == 'B' if i > 0 else False):\n",
    "          aspect_computed.append(aspect)\n",
    "        aspect = token\n",
    "      elif k == 'I':\n",
    "        aspect += ' ' * ((self.token_span[i][0] -  self.token_span[i-1][1]) if i > 0 else 0) + token\n",
    "      \n",
    "      if (aspect != '') & ((k == 'O') or (i == (len(self.aspect_bio_tags) - 1))):\n",
    "          aspect_computed.append(aspect)\n",
    "          aspect = ''\n",
    "\n",
    "    return [aspect_input == aspect_computed, aspect_input, aspect_computed]\n",
    "\n",
    "  def __str__(self):\n",
    "    return self.rebuild_sentence_from_token()\n"
   ]
  },
  {
   "cell_type": "markdown",
   "metadata": {},
   "source": [
    "## 1.2. <a id='toc1_2_'></a>[Load data](#toc0_)"
   ]
  },
  {
   "cell_type": "code",
   "execution_count": 3,
   "metadata": {},
   "outputs": [],
   "source": [
    "def reload_Data():\n",
    "  df_train = pd.read_json('data/laptop/train.json')\n",
    "  # First, I will need to drop some duplicated data in our training dataset, as identified in the EDA process.\n",
    "  # We have removed 12 duplicated records in our training dataset\n",
    "  df_train.drop_duplicates(subset='text', inplace=True)\n",
    "  print('df_train shape: ', df_train.shape)\n",
    "\n",
    "  df_val = pd.read_json('data/laptop/validate.json') # This will only be used for the very last step to evaluate how well the model is, but is input now for validating the BIO tagging to ensure the function works properly\n",
    "  print('df_val shape: ', df_val.shape)\n",
    "\n",
    "  df_train['sentence_token'] = df_train.apply(lambda x: SentenceToken(x['text'], 'dict', x['aspects']), axis=1)\n",
    "  df_train['sentence_check'] = df_train.apply(lambda x: x['sentence_token'].check_rebuild_sentence_from_token(), axis=1)\n",
    "  df_train['aspect_check'] = df_train.apply(lambda x: x['sentence_token'].check_rebuild_aspect_terms(x['aspects']), axis=1)\n",
    "  df_train['aspect_check_TF'] = df_train.apply(lambda x: x['sentence_token'].check_rebuild_aspect_terms(x['aspects'])[0], axis=1)\n",
    "  df_train['tokens'] = df_train.apply(lambda x: x['sentence_token'].get_tokens(), axis=1)\n",
    "  df_train['tags'] = df_train.apply(lambda x: x['sentence_token'].aspect_unified_bio_tags, axis=1)\n",
    "\n",
    "  df_val['sentence_token'] = df_val.apply(lambda x: SentenceToken(x['text'], 'dict', x['aspects']), axis=1)\n",
    "  df_val['sentence_check'] = df_val.apply(lambda x: x['sentence_token'].check_rebuild_sentence_from_token(), axis=1)\n",
    "  df_val['aspect_check'] = df_val.apply(lambda x: x['sentence_token'].check_rebuild_aspect_terms(x['aspects']), axis=1)\n",
    "  df_val['aspect_check_TF'] = df_val.apply(lambda x: x['sentence_token'].check_rebuild_aspect_terms(x['aspects'])[0], axis=1)\n",
    "  df_val['tokens'] = df_val.apply(lambda x: x['sentence_token'].get_tokens(), axis=1)\n",
    "  df_val['tags'] = df_val.apply(lambda x: x['sentence_token'].aspect_unified_bio_tags, axis=1)\n",
    "  return df_train, df_val"
   ]
  },
  {
   "cell_type": "code",
   "execution_count": 4,
   "metadata": {},
   "outputs": [
    {
     "name": "stdout",
     "output_type": "stream",
     "text": [
      "df_train shape:  (3036, 3)\n",
      "df_val shape:  (800, 3)\n",
      "# of df_train records having tokenizing issues:  0\n",
      "# of df_train records having aspect bio tagging issues:  36\n",
      "# of df_test records having tokenizing issues:  0\n",
      "# of df_test records having aspect bio tagging issues:  9\n"
     ]
    }
   ],
   "source": [
    "df_train, df_test = reload_Data()\n",
    "print('# of df_train records having tokenizing issues: ', len(df_train[df_train['sentence_check']==False]))\n",
    "print('# of df_train records having aspect bio tagging issues: ', len(df_train[df_train['aspect_check_TF']==False]))\n",
    "print('# of df_test records having tokenizing issues: ', len(df_test[df_test['sentence_check']==False]))\n",
    "print('# of df_test records having aspect bio tagging issues: ', len(df_test[df_test['aspect_check_TF']==False]))"
   ]
  },
  {
   "cell_type": "markdown",
   "metadata": {},
   "source": [
    "## 1.3. <a id='toc1_3_'></a>[Inspect tagging issues](#toc0_)"
   ]
  },
  {
   "cell_type": "code",
   "execution_count": 5,
   "metadata": {},
   "outputs": [
    {
     "name": "stdout",
     "output_type": "stream",
     "text": [
      "Index([ 125,  140,  220,  293,  374,  375,  431,  612,  656,  834,  922,  924,\n",
      "        953,  999, 1031, 1374, 1456, 1502, 1631, 1716, 1936, 1958, 2113, 2160,\n",
      "       2244, 2392, 2502, 2533, 2587, 2606, 2783, 2831, 2842, 2876, 2930, 2940],\n",
      "      dtype='int64')\n"
     ]
    }
   ],
   "source": [
    "print(df_train[df_train['aspect_check_TF']==False].index)"
   ]
  },
  {
   "cell_type": "code",
   "execution_count": 6,
   "metadata": {},
   "outputs": [
    {
     "name": "stdout",
     "output_type": "stream",
     "text": [
      "[{'term': 'delivery service', 'polarity': 'negative', 'from': '59', 'to': '75'}]\n",
      "After way too many times sending the thing in for repairs (delivery service was slow, and without the laptop I had no access to the internet, and thus no way of tracking it to find out when I might hope to see my computer again), it finally kicked the bucket after just over 2 years.\n",
      "[False, ['delivery service'], ['(delivery service']]\n",
      "['After', 'way', 'too', 'many', 'times', 'sending', 'the', 'thing', 'in', 'for', 'repairs', '(', 'delivery', 'service', 'was', 'slow', ',', 'and', 'without', 'the', 'laptop', 'I', 'had', 'no', 'access', 'to', 'the', 'internet', ',', 'and', 'thus', 'no', 'way', 'of', 'tracking', 'it', 'to', 'find', 'out', 'when', 'I', 'might', 'hope', 'to', 'see', 'my', 'computer', 'again', ')', ',', 'it', 'finally', 'kicked', 'the', 'bucket', 'after', 'just', 'over', '2', 'years', '.']\n"
     ]
    }
   ],
   "source": [
    "num = 2606\n",
    "\n",
    "print(df_train.loc[num]['aspects'])\n",
    "print(df_train.loc[num]['text'])\n",
    "print(df_train.loc[num]['aspect_check'])\n",
    "print(df_train.loc[num]['tokens'])"
   ]
  },
  {
   "cell_type": "markdown",
   "metadata": {},
   "source": [
    "Most of the tagging issues due to word that are not separated properly from special characters/ punctuations. The issue is unavoidable in practice as reviews may not adherent to perfect grammar.\n",
    "\n",
    "I have tried to fix this issues to have 100% accuracy with further token breakdown to match the specified aspect tokens, however, this can break some of the standard logics for word tokenizer and further modelling. \n",
    "\n",
    "Therefore, I decided to include a whole token where the aspect may start or end, even if the index is in the middle of token, which may results with aspect tokens that could include extra characters than planned. This is the risk we will accept for this approach, and we can perform a cleaning process to remove these extra characters during implementation with actual use cases."
   ]
  },
  {
   "cell_type": "markdown",
   "metadata": {},
   "source": [
    "# 2. <a id='toc2_'></a>[BERT](#toc0_)"
   ]
  },
  {
   "cell_type": "code",
   "execution_count": 7,
   "metadata": {},
   "outputs": [
    {
     "name": "stderr",
     "output_type": "stream",
     "text": [
      "/Users/tina.vu/work/fun/sentilens_env_wipp/lib/python3.9/site-packages/transformers/utils/generic.py:441: UserWarning: torch.utils._pytree._register_pytree_node is deprecated. Please use torch.utils._pytree.register_pytree_node instead.\n",
      "  _torch_pytree._register_pytree_node(\n",
      "/Users/tina.vu/work/fun/sentilens_env_wipp/lib/python3.9/site-packages/transformers/utils/generic.py:309: UserWarning: torch.utils._pytree._register_pytree_node is deprecated. Please use torch.utils._pytree.register_pytree_node instead.\n",
      "  _torch_pytree._register_pytree_node(\n",
      "2024-01-30 11:52:05.537383: I tensorflow/core/platform/cpu_feature_guard.cc:182] This TensorFlow binary is optimized to use available CPU instructions in performance-critical operations.\n",
      "To enable the following instructions: AVX2 FMA, in other operations, rebuild TensorFlow with the appropriate compiler flags.\n"
     ]
    }
   ],
   "source": [
    "import datasets\n",
    "from datasets import Dataset, DatasetDict, Features, Sequence, Value, ClassLabel\n",
    "\n",
    "import torch\n",
    "import torch.nn as nn\n",
    "from torch.nn.functional import cross_entropy\n",
    "\n",
    "from transformers import AutoConfig, DistilBertConfig, AutoTokenizer, TrainingArguments, DataCollatorForTokenClassification, Trainer\n",
    "from transformers.modeling_outputs import TokenClassifierOutput\n",
    "from transformers.models.distilbert.modeling_distilbert import DistilBertModel\n",
    "from transformers.models.distilbert.modeling_distilbert import DistilBertPreTrainedModel\n",
    "\n",
    "device = torch.device('mps') # This is required for Mac"
   ]
  },
  {
   "cell_type": "markdown",
   "metadata": {},
   "source": [
    "## 2.1. <a id='toc2_1_'></a>[Convert df to HuggingFace datasets](#toc0_)"
   ]
  },
  {
   "cell_type": "markdown",
   "metadata": {},
   "source": [
    "Convert aspect tag to id"
   ]
  },
  {
   "cell_type": "code",
   "execution_count": 8,
   "metadata": {},
   "outputs": [],
   "source": [
    "# Generate list of unique aspect tags\n",
    "tags = list(set(sum(df_train['tags'],[])))\n",
    "tags.sort()\n",
    "tag2idx = {k:i for i,k in enumerate(tags)}\n",
    "\n",
    "# Convert aspect tag text to ids\n",
    "df_train['tags_idx'] = df_train['tags'].apply(lambda x: [tag2idx[k] for k in x])\n",
    "df_test['tags_idx'] = df_test['tags'].apply(lambda x: [tag2idx[k] for k in x])"
   ]
  },
  {
   "cell_type": "markdown",
   "metadata": {},
   "source": [
    "Convert pandas to HuggingFace datasets"
   ]
  },
  {
   "cell_type": "code",
   "execution_count": 9,
   "metadata": {},
   "outputs": [],
   "source": [
    "# Split train into train & validation set\n",
    "df_train_ori, df_val = train_test_split(df_train, test_size=0.3, random_state=42,)"
   ]
  },
  {
   "cell_type": "code",
   "execution_count": 10,
   "metadata": {},
   "outputs": [
    {
     "name": "stdout",
     "output_type": "stream",
     "text": [
      "DatasetDict({\n",
      "    train: Dataset({\n",
      "        features: ['tokens', 'tags_idx'],\n",
      "        num_rows: 2125\n",
      "    })\n",
      "    validation: Dataset({\n",
      "        features: ['tokens', 'tags_idx'],\n",
      "        num_rows: 911\n",
      "    })\n",
      "    test: Dataset({\n",
      "        features: ['tokens', 'tags_idx'],\n",
      "        num_rows: 800\n",
      "    })\n",
      "})\n"
     ]
    }
   ],
   "source": [
    "# Define dataset features\n",
    "features = Features({'tokens': Sequence(Value(dtype='string', id=None)),\n",
    "                    'tags_idx': Sequence(ClassLabel(names=tags))\n",
    "                    })\n",
    "\n",
    "tds = Dataset.from_pandas(df_train_ori[['tokens','tags_idx']], features=features, preserve_index=False)\n",
    "vds = Dataset.from_pandas(df_val[['tokens','tags_idx']], features=features,  preserve_index=False)\n",
    "tsds = Dataset.from_pandas(df_test[['tokens','tags_idx']], features=features, preserve_index=False)\n",
    "\n",
    "ds = DatasetDict()\n",
    "\n",
    "ds['train'] = tds\n",
    "ds['validation'] = vds\n",
    "ds['test'] = tsds\n",
    "\n",
    "print(ds)"
   ]
  },
  {
   "cell_type": "markdown",
   "metadata": {},
   "source": [
    "Check for total counts per aspect type in each data split"
   ]
  },
  {
   "cell_type": "code",
   "execution_count": 11,
   "metadata": {},
   "outputs": [
    {
     "data": {
      "application/vnd.jupyter.widget-view+json": {
       "model_id": "b9ba91d9ac344155a812ae0a9ddf3500",
       "version_major": 2,
       "version_minor": 0
      },
      "text/plain": [
       "Map:   0%|          | 0/2125 [00:00<?, ? examples/s]"
      ]
     },
     "metadata": {},
     "output_type": "display_data"
    },
    {
     "data": {
      "application/vnd.jupyter.widget-view+json": {
       "model_id": "7a885c350a23482fbac49d90a7bd0d8a",
       "version_major": 2,
       "version_minor": 0
      },
      "text/plain": [
       "Map:   0%|          | 0/911 [00:00<?, ? examples/s]"
      ]
     },
     "metadata": {},
     "output_type": "display_data"
    },
    {
     "data": {
      "application/vnd.jupyter.widget-view+json": {
       "model_id": "bc314f6269974e0380bc747cb8f7b9ae",
       "version_major": 2,
       "version_minor": 0
      },
      "text/plain": [
       "Map:   0%|          | 0/800 [00:00<?, ? examples/s]"
      ]
     },
     "metadata": {},
     "output_type": "display_data"
    }
   ],
   "source": [
    "# Convert aspect idx to aspect aspect text\n",
    "def create_tag_names(batch):\n",
    "    return {\"tags\": [ds[\"train\"].features[\"tags_idx\"].feature.int2str(idx) for idx in batch[\"tags_idx\"]]}\n",
    "\n",
    "ds = ds.map(create_tag_names)"
   ]
  },
  {
   "cell_type": "code",
   "execution_count": 12,
   "metadata": {},
   "outputs": [
    {
     "data": {
      "text/html": [
       "<div>\n",
       "<style scoped>\n",
       "    .dataframe tbody tr th:only-of-type {\n",
       "        vertical-align: middle;\n",
       "    }\n",
       "\n",
       "    .dataframe tbody tr th {\n",
       "        vertical-align: top;\n",
       "    }\n",
       "\n",
       "    .dataframe thead th {\n",
       "        text-align: right;\n",
       "    }\n",
       "</style>\n",
       "<table border=\"1\" class=\"dataframe\">\n",
       "  <thead>\n",
       "    <tr style=\"text-align: right;\">\n",
       "      <th></th>\n",
       "      <th>NEG</th>\n",
       "      <th>POS</th>\n",
       "      <th>NEU</th>\n",
       "      <th>CON</th>\n",
       "    </tr>\n",
       "  </thead>\n",
       "  <tbody>\n",
       "    <tr>\n",
       "      <th>train</th>\n",
       "      <td>552</td>\n",
       "      <td>675</td>\n",
       "      <td>304</td>\n",
       "      <td>30</td>\n",
       "    </tr>\n",
       "    <tr>\n",
       "      <th>validation</th>\n",
       "      <td>310</td>\n",
       "      <td>312</td>\n",
       "      <td>157</td>\n",
       "      <td>15</td>\n",
       "    </tr>\n",
       "    <tr>\n",
       "      <th>test</th>\n",
       "      <td>128</td>\n",
       "      <td>340</td>\n",
       "      <td>169</td>\n",
       "      <td>16</td>\n",
       "    </tr>\n",
       "  </tbody>\n",
       "</table>\n",
       "</div>"
      ],
      "text/plain": [
       "            NEG  POS  NEU  CON\n",
       "train       552  675  304   30\n",
       "validation  310  312  157   15\n",
       "test        128  340  169   16"
      ]
     },
     "execution_count": 12,
     "metadata": {},
     "output_type": "execute_result"
    }
   ],
   "source": [
    "# Perform aspect type counts per each dataset split\n",
    "split2freqs = defaultdict(Counter)\n",
    "for split, dataset in ds.items():\n",
    "    for row in dataset[\"tags\"]:\n",
    "        for tag in row:\n",
    "            if tag.startswith(\"B\"):\n",
    "                tag_type = tag.split(\"-\")[1]\n",
    "                split2freqs[split][tag_type] += 1\n",
    "                \n",
    "pd.DataFrame.from_dict(split2freqs, orient=\"index\")"
   ]
  },
  {
   "cell_type": "markdown",
   "metadata": {},
   "source": [
    "## 2.2. <a id='toc2_2_'></a>[Define model](#toc0_)"
   ]
  },
  {
   "cell_type": "code",
   "execution_count": 13,
   "metadata": {},
   "outputs": [],
   "source": [
    "distilbert_model_name = \"distilbert-base-uncased\""
   ]
  },
  {
   "cell_type": "markdown",
   "metadata": {},
   "source": [
    "### 2.2.1. <a id='toc2_2_1_'></a>[Define tokenizer](#toc0_)"
   ]
  },
  {
   "cell_type": "code",
   "execution_count": 14,
   "metadata": {},
   "outputs": [],
   "source": [
    "distilbert_tokenizer = AutoTokenizer.from_pretrained(distilbert_model_name)"
   ]
  },
  {
   "cell_type": "markdown",
   "metadata": {},
   "source": [
    "### 2.2.2. <a id='toc2_2_2_'></a>[Define token classification model](#toc0_)"
   ]
  },
  {
   "cell_type": "code",
   "execution_count": 15,
   "metadata": {},
   "outputs": [
    {
     "data": {
      "text/plain": [
       "ClassLabel(names=['B-CON', 'B-NEG', 'B-NEU', 'B-POS', 'I-CON', 'I-NEG', 'I-NEU', 'I-POS', 'O'], id=None)"
      ]
     },
     "execution_count": 15,
     "metadata": {},
     "output_type": "execute_result"
    }
   ],
   "source": [
    "tags = ds['train'].features['tags_idx'].feature\n",
    "\n",
    "index2tag = {idx: tag for idx, tag in enumerate(tags.names)}\n",
    "tag2index = {tag: idx for idx, tag in enumerate(tags.names)}\n",
    "tags"
   ]
  },
  {
   "cell_type": "code",
   "execution_count": 16,
   "metadata": {},
   "outputs": [],
   "source": [
    "distilbert_config = AutoConfig.from_pretrained(distilbert_model_name, \n",
    "                                         num_labels=tags.num_classes,\n",
    "                                         id2label=index2tag, label2id=tag2index)"
   ]
  },
  {
   "cell_type": "code",
   "execution_count": 17,
   "metadata": {},
   "outputs": [],
   "source": [
    "class DistilBertForABSA(DistilBertPreTrainedModel):\n",
    "    config_class = DistilBertConfig\n",
    "\n",
    "    def __init__(self, config):\n",
    "        super().__init__(config)\n",
    "        # Roberta body\n",
    "        self.num_labels = config.num_labels\n",
    "        self.distilbert = DistilBertModel(config)#, add_pooling_layer=False)\n",
    "\n",
    "        # Classification head\n",
    "        self.dropout = nn.Dropout(config.dropout)#hidden_dropout_prob)\n",
    "        self.classifier = nn.Linear(config.hidden_size, config.num_labels)\n",
    "\n",
    "        # Load and initialize weights from pretrained\n",
    "        self.init_weights()\n",
    "\n",
    "    def forward(self, input_ids=None, attention_mask=None, token_type_ids=None, \n",
    "                labels=None, **kwargs):\n",
    "        \n",
    "        # Use model body to get encoder representations\n",
    "        outputs = self.distilbert(input_ids, attention_mask=attention_mask,\n",
    "                            #    token_type_ids=token_type_ids,\n",
    "                                 **kwargs)\n",
    "        \n",
    "        # Apply classifier to encoder representation (model head)\n",
    "        sequence_output = self.dropout(outputs[0])\n",
    "        logits = self.classifier(sequence_output)\n",
    "        \n",
    "        # Calculate losses\n",
    "        loss = None\n",
    "        if labels is not None:\n",
    "            loss_fct = nn.CrossEntropyLoss()\n",
    "            loss = loss_fct(logits.view(-1, self.num_labels), labels.view(-1))\n",
    "            \n",
    "        # Return model output object\n",
    "        return TokenClassifierOutput(loss=loss, logits=logits, \n",
    "                                     hidden_states=outputs.hidden_states, \n",
    "                                     attentions=outputs.attentions)\n",
    "     "
   ]
  },
  {
   "cell_type": "markdown",
   "metadata": {},
   "source": [
    "## 2.3. <a id='toc2_3_'></a>[Data preparation](#toc0_)"
   ]
  },
  {
   "cell_type": "code",
   "execution_count": 18,
   "metadata": {},
   "outputs": [],
   "source": [
    "def tokenize_and_align_labels(examples):\n",
    "    tokenized_inputs = distilbert_tokenizer(examples[\"tokens\"], truncation=True, \n",
    "                                      is_split_into_words=True)\n",
    "    labels = []\n",
    "    for idx, label in enumerate(examples[\"tags_idx\"]):\n",
    "        word_ids = tokenized_inputs.word_ids(batch_index=idx)\n",
    "        previous_word_idx = None\n",
    "        label_ids = []\n",
    "        for word_idx in word_ids:\n",
    "            if word_idx is None or word_idx == previous_word_idx:\n",
    "                label_ids.append(-100)\n",
    "            else:\n",
    "                label_ids.append(label[word_idx])\n",
    "            previous_word_idx = word_idx\n",
    "        labels.append(label_ids)\n",
    "    tokenized_inputs[\"labels\"] = labels\n",
    "    return tokenized_inputs"
   ]
  },
  {
   "cell_type": "code",
   "execution_count": 19,
   "metadata": {},
   "outputs": [],
   "source": [
    "def encode_dataset(corpus):\n",
    "    return corpus.map(tokenize_and_align_labels, batched=True, \n",
    "                      remove_columns=['tags_idx', 'tokens','tags']\n",
    "                      )"
   ]
  },
  {
   "cell_type": "code",
   "execution_count": 20,
   "metadata": {},
   "outputs": [
    {
     "data": {
      "application/vnd.jupyter.widget-view+json": {
       "model_id": "271b9d5dc4424bc6a27bd8da9775de59",
       "version_major": 2,
       "version_minor": 0
      },
      "text/plain": [
       "Map:   0%|          | 0/2125 [00:00<?, ? examples/s]"
      ]
     },
     "metadata": {},
     "output_type": "display_data"
    },
    {
     "data": {
      "application/vnd.jupyter.widget-view+json": {
       "model_id": "dbd251cfac044c649ce7d42706559de5",
       "version_major": 2,
       "version_minor": 0
      },
      "text/plain": [
       "Map:   0%|          | 0/911 [00:00<?, ? examples/s]"
      ]
     },
     "metadata": {},
     "output_type": "display_data"
    },
    {
     "data": {
      "application/vnd.jupyter.widget-view+json": {
       "model_id": "d10a8ff01db347328f153147368db5c7",
       "version_major": 2,
       "version_minor": 0
      },
      "text/plain": [
       "Map:   0%|          | 0/800 [00:00<?, ? examples/s]"
      ]
     },
     "metadata": {},
     "output_type": "display_data"
    }
   ],
   "source": [
    "# hide_output\n",
    "ds_encoded = encode_dataset(ds)"
   ]
  },
  {
   "cell_type": "markdown",
   "metadata": {},
   "source": [
    "## 2.4. <a id='toc2_4_'></a>[Performance metrics](#toc0_)"
   ]
  },
  {
   "cell_type": "code",
   "execution_count": 21,
   "metadata": {},
   "outputs": [],
   "source": [
    "def align_predictions(predictions, label_ids):\n",
    "    preds = np.argmax(predictions, axis=2)\n",
    "    batch_size, seq_len = preds.shape\n",
    "    labels_list, preds_list = [], []\n",
    "\n",
    "    for batch_idx in range(batch_size):\n",
    "        example_labels, example_preds = [], []\n",
    "        for seq_idx in range(seq_len):\n",
    "            # Ignore label IDs = -100\n",
    "            if label_ids[batch_idx, seq_idx] != -100:\n",
    "                index2tag = distilbert_config.id2label.copy()\n",
    "                example_labels.append(index2tag[label_ids[batch_idx][seq_idx]])\n",
    "                example_preds.append(index2tag[preds[batch_idx][seq_idx]])\n",
    "\n",
    "        labels_list.append(example_labels)\n",
    "        preds_list.append(example_preds)\n",
    "\n",
    "    return preds_list, labels_list"
   ]
  },
  {
   "cell_type": "code",
   "execution_count": 22,
   "metadata": {},
   "outputs": [],
   "source": [
    "# Define performance metrics\n",
    "def compute_metrics(eval_pred):\n",
    "    y_pred, y_true = align_predictions(eval_pred.predictions, \n",
    "                                       eval_pred.label_ids)\n",
    "    return {\"f1\": f1_score(y_true, y_pred, average='macro')}"
   ]
  },
  {
   "cell_type": "markdown",
   "metadata": {},
   "source": [
    "## 2.5. <a id='toc2_5_'></a>[Training](#toc0_)"
   ]
  },
  {
   "cell_type": "markdown",
   "metadata": {},
   "source": [
    "### 2.5.1. <a id='toc2_5_1_'></a>[Define trainer](#toc0_)"
   ]
  },
  {
   "cell_type": "code",
   "execution_count": 23,
   "metadata": {},
   "outputs": [],
   "source": [
    "# Define training arguments\n",
    "num_epochs = 20\n",
    "batch_size = 24\n",
    "logging_steps = len(ds[\"train\"]) // batch_size\n",
    "model_name = f\"{distilbert_model_name}-absa-resample\"\n",
    "\n",
    "training_args = TrainingArguments(\n",
    "    output_dir=\"model/\" + model_name, log_level=\"error\", num_train_epochs=num_epochs, \n",
    "    per_device_train_batch_size=batch_size, \n",
    "    per_device_eval_batch_size=batch_size, evaluation_strategy=\"epoch\", \n",
    "    save_steps=1e6, weight_decay=0.01, disable_tqdm=False, \n",
    "    logging_steps=logging_steps, push_to_hub=False)\n",
    "\n",
    "# Define data collator for data batching \n",
    "data_collator = DataCollatorForTokenClassification(distilbert_tokenizer)\n",
    "     \n",
    "# Model init\n",
    "def model_init():\n",
    "    return (DistilBertForABSA\n",
    "            .from_pretrained(distilbert_model_name, config=distilbert_config)\n",
    "            .to(device))\n",
    "     \n",
    "trainer = Trainer(model_init=model_init, args=training_args, \n",
    "                  data_collator=data_collator, compute_metrics=compute_metrics,\n",
    "                  train_dataset=ds_encoded[\"train\"],\n",
    "                  eval_dataset=ds_encoded[\"validation\"], \n",
    "                  tokenizer=distilbert_tokenizer)"
   ]
  },
  {
   "cell_type": "code",
   "execution_count": 24,
   "metadata": {},
   "outputs": [
    {
     "data": {
      "application/vnd.jupyter.widget-view+json": {
       "model_id": "f50e400875f047e1b0f00c421ada01ad",
       "version_major": 2,
       "version_minor": 0
      },
      "text/plain": [
       "  0%|          | 0/1780 [00:00<?, ?it/s]"
      ]
     },
     "metadata": {},
     "output_type": "display_data"
    },
    {
     "name": "stdout",
     "output_type": "stream",
     "text": [
      "{'loss': 0.2938, 'learning_rate': 4.752808988764045e-05, 'epoch': 0.99}\n"
     ]
    },
    {
     "data": {
      "application/vnd.jupyter.widget-view+json": {
       "model_id": "c29fcac4eac24178a3d3b26c5eb3a1ef",
       "version_major": 2,
       "version_minor": 0
      },
      "text/plain": [
       "  0%|          | 0/38 [00:00<?, ?it/s]"
      ]
     },
     "metadata": {},
     "output_type": "display_data"
    },
    {
     "name": "stdout",
     "output_type": "stream",
     "text": [
      "{'eval_loss': 0.18712544441223145, 'eval_f1': 0.21641486603793886, 'eval_runtime': 7.0578, 'eval_samples_per_second': 129.077, 'eval_steps_per_second': 5.384, 'epoch': 1.0}\n",
      "{'loss': 0.1177, 'learning_rate': 4.50561797752809e-05, 'epoch': 1.98}\n"
     ]
    },
    {
     "data": {
      "application/vnd.jupyter.widget-view+json": {
       "model_id": "5566b6f3ae994d19810e9a4fbc0f59f0",
       "version_major": 2,
       "version_minor": 0
      },
      "text/plain": [
       "  0%|          | 0/38 [00:00<?, ?it/s]"
      ]
     },
     "metadata": {},
     "output_type": "display_data"
    },
    {
     "name": "stdout",
     "output_type": "stream",
     "text": [
      "{'eval_loss': 0.15950267016887665, 'eval_f1': 0.2927486942435401, 'eval_runtime': 3.4822, 'eval_samples_per_second': 261.617, 'eval_steps_per_second': 10.913, 'epoch': 2.0}\n",
      "{'loss': 0.0721, 'learning_rate': 4.258426966292135e-05, 'epoch': 2.97}\n"
     ]
    },
    {
     "data": {
      "application/vnd.jupyter.widget-view+json": {
       "model_id": "f0ddb2f24ed44a5d818282c24a667073",
       "version_major": 2,
       "version_minor": 0
      },
      "text/plain": [
       "  0%|          | 0/38 [00:00<?, ?it/s]"
      ]
     },
     "metadata": {},
     "output_type": "display_data"
    },
    {
     "name": "stdout",
     "output_type": "stream",
     "text": [
      "{'eval_loss': 0.16179735958576202, 'eval_f1': 0.3297831759366874, 'eval_runtime': 3.3688, 'eval_samples_per_second': 270.425, 'eval_steps_per_second': 11.28, 'epoch': 3.0}\n",
      "{'loss': 0.0407, 'learning_rate': 4.01123595505618e-05, 'epoch': 3.96}\n"
     ]
    },
    {
     "data": {
      "application/vnd.jupyter.widget-view+json": {
       "model_id": "52faf4c2e0a441f1982629f0c842ce99",
       "version_major": 2,
       "version_minor": 0
      },
      "text/plain": [
       "  0%|          | 0/38 [00:00<?, ?it/s]"
      ]
     },
     "metadata": {},
     "output_type": "display_data"
    },
    {
     "name": "stdout",
     "output_type": "stream",
     "text": [
      "{'eval_loss': 0.1833256334066391, 'eval_f1': 0.37975809294649676, 'eval_runtime': 3.4135, 'eval_samples_per_second': 266.884, 'eval_steps_per_second': 11.132, 'epoch': 4.0}\n",
      "{'loss': 0.0249, 'learning_rate': 3.764044943820225e-05, 'epoch': 4.94}\n"
     ]
    },
    {
     "data": {
      "application/vnd.jupyter.widget-view+json": {
       "model_id": "16bb9abb828b4148a7b900ea6069ff37",
       "version_major": 2,
       "version_minor": 0
      },
      "text/plain": [
       "  0%|          | 0/38 [00:00<?, ?it/s]"
      ]
     },
     "metadata": {},
     "output_type": "display_data"
    },
    {
     "name": "stdout",
     "output_type": "stream",
     "text": [
      "{'eval_loss': 0.19174760580062866, 'eval_f1': 0.36794407457519795, 'eval_runtime': 3.4564, 'eval_samples_per_second': 263.571, 'eval_steps_per_second': 10.994, 'epoch': 5.0}\n",
      "{'loss': 0.0152, 'learning_rate': 3.51685393258427e-05, 'epoch': 5.93}\n"
     ]
    },
    {
     "data": {
      "application/vnd.jupyter.widget-view+json": {
       "model_id": "5fdddf0990b74dbca2cc57d49c54843f",
       "version_major": 2,
       "version_minor": 0
      },
      "text/plain": [
       "  0%|          | 0/38 [00:00<?, ?it/s]"
      ]
     },
     "metadata": {},
     "output_type": "display_data"
    },
    {
     "name": "stdout",
     "output_type": "stream",
     "text": [
      "{'eval_loss': 0.20865541696548462, 'eval_f1': 0.36974623334252193, 'eval_runtime': 3.4243, 'eval_samples_per_second': 266.04, 'eval_steps_per_second': 11.097, 'epoch': 6.0}\n",
      "{'loss': 0.0095, 'learning_rate': 3.269662921348315e-05, 'epoch': 6.92}\n"
     ]
    },
    {
     "data": {
      "application/vnd.jupyter.widget-view+json": {
       "model_id": "7be69195949240a4b782b0601a4667d6",
       "version_major": 2,
       "version_minor": 0
      },
      "text/plain": [
       "  0%|          | 0/38 [00:00<?, ?it/s]"
      ]
     },
     "metadata": {},
     "output_type": "display_data"
    },
    {
     "name": "stdout",
     "output_type": "stream",
     "text": [
      "{'eval_loss': 0.21046331524848938, 'eval_f1': 0.37420472456079656, 'eval_runtime': 3.4314, 'eval_samples_per_second': 265.493, 'eval_steps_per_second': 11.074, 'epoch': 7.0}\n",
      "{'loss': 0.0063, 'learning_rate': 3.02247191011236e-05, 'epoch': 7.91}\n"
     ]
    },
    {
     "data": {
      "application/vnd.jupyter.widget-view+json": {
       "model_id": "53bb53dc6e2d4ff99973ec78da7e6eb5",
       "version_major": 2,
       "version_minor": 0
      },
      "text/plain": [
       "  0%|          | 0/38 [00:00<?, ?it/s]"
      ]
     },
     "metadata": {},
     "output_type": "display_data"
    },
    {
     "name": "stdout",
     "output_type": "stream",
     "text": [
      "{'eval_loss': 0.22632268071174622, 'eval_f1': 0.3981918927603001, 'eval_runtime': 3.4443, 'eval_samples_per_second': 264.493, 'eval_steps_per_second': 11.033, 'epoch': 8.0}\n",
      "{'loss': 0.0039, 'learning_rate': 2.7752808988764045e-05, 'epoch': 8.9}\n"
     ]
    },
    {
     "data": {
      "application/vnd.jupyter.widget-view+json": {
       "model_id": "1d1196d0ce3849c59e9d5386784c278c",
       "version_major": 2,
       "version_minor": 0
      },
      "text/plain": [
       "  0%|          | 0/38 [00:00<?, ?it/s]"
      ]
     },
     "metadata": {},
     "output_type": "display_data"
    },
    {
     "name": "stdout",
     "output_type": "stream",
     "text": [
      "{'eval_loss': 0.23364131152629852, 'eval_f1': 0.3784367942010648, 'eval_runtime': 3.5027, 'eval_samples_per_second': 260.082, 'eval_steps_per_second': 10.849, 'epoch': 9.0}\n",
      "{'loss': 0.0036, 'learning_rate': 2.5280898876404497e-05, 'epoch': 9.89}\n"
     ]
    },
    {
     "data": {
      "application/vnd.jupyter.widget-view+json": {
       "model_id": "c9b7cef88fa14d68bf9248d7582369ba",
       "version_major": 2,
       "version_minor": 0
      },
      "text/plain": [
       "  0%|          | 0/38 [00:00<?, ?it/s]"
      ]
     },
     "metadata": {},
     "output_type": "display_data"
    },
    {
     "name": "stdout",
     "output_type": "stream",
     "text": [
      "{'eval_loss': 0.23736639320850372, 'eval_f1': 0.40184228752751905, 'eval_runtime': 3.5916, 'eval_samples_per_second': 253.646, 'eval_steps_per_second': 10.58, 'epoch': 10.0}\n",
      "{'loss': 0.0022, 'learning_rate': 2.2808988764044944e-05, 'epoch': 10.88}\n"
     ]
    },
    {
     "data": {
      "application/vnd.jupyter.widget-view+json": {
       "model_id": "24d887bfdb4b4f8a889a74076aff31ff",
       "version_major": 2,
       "version_minor": 0
      },
      "text/plain": [
       "  0%|          | 0/38 [00:00<?, ?it/s]"
      ]
     },
     "metadata": {},
     "output_type": "display_data"
    },
    {
     "name": "stdout",
     "output_type": "stream",
     "text": [
      "{'eval_loss': 0.2501075863838196, 'eval_f1': 0.36077461389961396, 'eval_runtime': 3.4632, 'eval_samples_per_second': 263.049, 'eval_steps_per_second': 10.972, 'epoch': 11.0}\n",
      "{'loss': 0.002, 'learning_rate': 2.0337078651685396e-05, 'epoch': 11.87}\n"
     ]
    },
    {
     "data": {
      "application/vnd.jupyter.widget-view+json": {
       "model_id": "1a3c17c8912340cebfe94a4560e418e8",
       "version_major": 2,
       "version_minor": 0
      },
      "text/plain": [
       "  0%|          | 0/38 [00:00<?, ?it/s]"
      ]
     },
     "metadata": {},
     "output_type": "display_data"
    },
    {
     "name": "stdout",
     "output_type": "stream",
     "text": [
      "{'eval_loss': 0.2502264678478241, 'eval_f1': 0.3694222330714659, 'eval_runtime': 3.4226, 'eval_samples_per_second': 266.175, 'eval_steps_per_second': 11.103, 'epoch': 12.0}\n",
      "{'loss': 0.0014, 'learning_rate': 1.7865168539325843e-05, 'epoch': 12.85}\n"
     ]
    },
    {
     "data": {
      "application/vnd.jupyter.widget-view+json": {
       "model_id": "2f1049f462c44726ad995f6ccf3bf138",
       "version_major": 2,
       "version_minor": 0
      },
      "text/plain": [
       "  0%|          | 0/38 [00:00<?, ?it/s]"
      ]
     },
     "metadata": {},
     "output_type": "display_data"
    },
    {
     "name": "stdout",
     "output_type": "stream",
     "text": [
      "{'eval_loss': 0.25151076912879944, 'eval_f1': 0.38182031476792544, 'eval_runtime': 3.3835, 'eval_samples_per_second': 269.251, 'eval_steps_per_second': 11.231, 'epoch': 13.0}\n",
      "{'loss': 0.0016, 'learning_rate': 1.5393258426966292e-05, 'epoch': 13.84}\n"
     ]
    },
    {
     "data": {
      "application/vnd.jupyter.widget-view+json": {
       "model_id": "a85f2c18e9504ba9aeea53e608975cfe",
       "version_major": 2,
       "version_minor": 0
      },
      "text/plain": [
       "  0%|          | 0/38 [00:00<?, ?it/s]"
      ]
     },
     "metadata": {},
     "output_type": "display_data"
    },
    {
     "name": "stdout",
     "output_type": "stream",
     "text": [
      "{'eval_loss': 0.254599004983902, 'eval_f1': 0.3683015995001113, 'eval_runtime': 3.5506, 'eval_samples_per_second': 256.575, 'eval_steps_per_second': 10.702, 'epoch': 14.0}\n",
      "{'loss': 0.0011, 'learning_rate': 1.2921348314606743e-05, 'epoch': 14.83}\n"
     ]
    },
    {
     "data": {
      "application/vnd.jupyter.widget-view+json": {
       "model_id": "6871bb6b89984043b98ba0e171247397",
       "version_major": 2,
       "version_minor": 0
      },
      "text/plain": [
       "  0%|          | 0/38 [00:00<?, ?it/s]"
      ]
     },
     "metadata": {},
     "output_type": "display_data"
    },
    {
     "name": "stdout",
     "output_type": "stream",
     "text": [
      "{'eval_loss': 0.258319616317749, 'eval_f1': 0.3775410659863364, 'eval_runtime': 3.4239, 'eval_samples_per_second': 266.069, 'eval_steps_per_second': 11.098, 'epoch': 15.0}\n",
      "{'loss': 0.0007, 'learning_rate': 1.0449438202247191e-05, 'epoch': 15.82}\n"
     ]
    },
    {
     "data": {
      "application/vnd.jupyter.widget-view+json": {
       "model_id": "cc07e9bb0d114becb80d95e28f96f8f4",
       "version_major": 2,
       "version_minor": 0
      },
      "text/plain": [
       "  0%|          | 0/38 [00:00<?, ?it/s]"
      ]
     },
     "metadata": {},
     "output_type": "display_data"
    },
    {
     "name": "stdout",
     "output_type": "stream",
     "text": [
      "{'eval_loss': 0.2610917091369629, 'eval_f1': 0.3733885479796809, 'eval_runtime': 3.6067, 'eval_samples_per_second': 252.588, 'eval_steps_per_second': 10.536, 'epoch': 16.0}\n",
      "{'loss': 0.0011, 'learning_rate': 7.97752808988764e-06, 'epoch': 16.81}\n"
     ]
    },
    {
     "data": {
      "application/vnd.jupyter.widget-view+json": {
       "model_id": "9ede4ed85a7e4665830d30a7468ce4ec",
       "version_major": 2,
       "version_minor": 0
      },
      "text/plain": [
       "  0%|          | 0/38 [00:00<?, ?it/s]"
      ]
     },
     "metadata": {},
     "output_type": "display_data"
    },
    {
     "name": "stdout",
     "output_type": "stream",
     "text": [
      "{'eval_loss': 0.25953444838523865, 'eval_f1': 0.39441352171972155, 'eval_runtime': 3.4024, 'eval_samples_per_second': 267.755, 'eval_steps_per_second': 11.169, 'epoch': 17.0}\n",
      "{'loss': 0.0008, 'learning_rate': 5.50561797752809e-06, 'epoch': 17.8}\n"
     ]
    },
    {
     "data": {
      "application/vnd.jupyter.widget-view+json": {
       "model_id": "a1cb5aec1db340fe8637dc8824b80ece",
       "version_major": 2,
       "version_minor": 0
      },
      "text/plain": [
       "  0%|          | 0/38 [00:00<?, ?it/s]"
      ]
     },
     "metadata": {},
     "output_type": "display_data"
    },
    {
     "name": "stdout",
     "output_type": "stream",
     "text": [
      "{'eval_loss': 0.26144808530807495, 'eval_f1': 0.4014409924556865, 'eval_runtime': 3.4579, 'eval_samples_per_second': 263.458, 'eval_steps_per_second': 10.989, 'epoch': 18.0}\n",
      "{'loss': 0.0006, 'learning_rate': 3.0337078651685396e-06, 'epoch': 18.79}\n"
     ]
    },
    {
     "data": {
      "application/vnd.jupyter.widget-view+json": {
       "model_id": "86a22f3ff31b4ea0804b9847b1dd8dd8",
       "version_major": 2,
       "version_minor": 0
      },
      "text/plain": [
       "  0%|          | 0/38 [00:00<?, ?it/s]"
      ]
     },
     "metadata": {},
     "output_type": "display_data"
    },
    {
     "name": "stdout",
     "output_type": "stream",
     "text": [
      "{'eval_loss': 0.26203426718711853, 'eval_f1': 0.40146562702473243, 'eval_runtime': 3.4465, 'eval_samples_per_second': 264.323, 'eval_steps_per_second': 11.026, 'epoch': 19.0}\n",
      "{'loss': 0.0011, 'learning_rate': 5.617977528089887e-07, 'epoch': 19.78}\n"
     ]
    },
    {
     "data": {
      "application/vnd.jupyter.widget-view+json": {
       "model_id": "05cb7387e9aa420ebeef950fa1fd11b1",
       "version_major": 2,
       "version_minor": 0
      },
      "text/plain": [
       "  0%|          | 0/38 [00:00<?, ?it/s]"
      ]
     },
     "metadata": {},
     "output_type": "display_data"
    },
    {
     "name": "stdout",
     "output_type": "stream",
     "text": [
      "{'eval_loss': 0.26218917965888977, 'eval_f1': 0.4030127358299058, 'eval_runtime': 3.4013, 'eval_samples_per_second': 267.837, 'eval_steps_per_second': 11.172, 'epoch': 20.0}\n",
      "{'train_runtime': 1172.6464, 'train_samples_per_second': 36.243, 'train_steps_per_second': 1.518, 'train_loss': 0.0296831427105399, 'epoch': 20.0}\n"
     ]
    },
    {
     "data": {
      "text/plain": [
       "TrainOutput(global_step=1780, training_loss=0.0296831427105399, metrics={'train_runtime': 1172.6464, 'train_samples_per_second': 36.243, 'train_steps_per_second': 1.518, 'train_loss': 0.0296831427105399, 'epoch': 20.0})"
      ]
     },
     "execution_count": 24,
     "metadata": {},
     "output_type": "execute_result"
    }
   ],
   "source": [
    "trainer.train()"
   ]
  },
  {
   "cell_type": "markdown",
   "metadata": {},
   "source": [
    "### 2.5.2. <a id='toc2_5_2_'></a>[Training results](#toc0_)"
   ]
  },
  {
   "cell_type": "code",
   "execution_count": 25,
   "metadata": {},
   "outputs": [
    {
     "data": {
      "text/html": [
       "<div>\n",
       "<style scoped>\n",
       "    .dataframe tbody tr th:only-of-type {\n",
       "        vertical-align: middle;\n",
       "    }\n",
       "\n",
       "    .dataframe tbody tr th {\n",
       "        vertical-align: top;\n",
       "    }\n",
       "\n",
       "    .dataframe thead th {\n",
       "        text-align: right;\n",
       "    }\n",
       "</style>\n",
       "<table border=\"1\" class=\"dataframe\">\n",
       "  <thead>\n",
       "    <tr style=\"text-align: right;\">\n",
       "      <th></th>\n",
       "      <th>Epoch</th>\n",
       "      <th>Training Loss</th>\n",
       "      <th>Validation Loss</th>\n",
       "      <th>F1</th>\n",
       "    </tr>\n",
       "  </thead>\n",
       "  <tbody>\n",
       "    <tr>\n",
       "      <th>0</th>\n",
       "      <td>1</td>\n",
       "      <td>0.2938</td>\n",
       "      <td>0.187125</td>\n",
       "      <td>0.216415</td>\n",
       "    </tr>\n",
       "    <tr>\n",
       "      <th>2</th>\n",
       "      <td>2</td>\n",
       "      <td>0.1177</td>\n",
       "      <td>0.159503</td>\n",
       "      <td>0.292749</td>\n",
       "    </tr>\n",
       "    <tr>\n",
       "      <th>4</th>\n",
       "      <td>3</td>\n",
       "      <td>0.0721</td>\n",
       "      <td>0.161797</td>\n",
       "      <td>0.329783</td>\n",
       "    </tr>\n",
       "    <tr>\n",
       "      <th>6</th>\n",
       "      <td>4</td>\n",
       "      <td>0.0407</td>\n",
       "      <td>0.183326</td>\n",
       "      <td>0.379758</td>\n",
       "    </tr>\n",
       "    <tr>\n",
       "      <th>8</th>\n",
       "      <td>5</td>\n",
       "      <td>0.0249</td>\n",
       "      <td>0.191748</td>\n",
       "      <td>0.367944</td>\n",
       "    </tr>\n",
       "    <tr>\n",
       "      <th>10</th>\n",
       "      <td>6</td>\n",
       "      <td>0.0152</td>\n",
       "      <td>0.208655</td>\n",
       "      <td>0.369746</td>\n",
       "    </tr>\n",
       "    <tr>\n",
       "      <th>12</th>\n",
       "      <td>7</td>\n",
       "      <td>0.0095</td>\n",
       "      <td>0.210463</td>\n",
       "      <td>0.374205</td>\n",
       "    </tr>\n",
       "    <tr>\n",
       "      <th>14</th>\n",
       "      <td>8</td>\n",
       "      <td>0.0063</td>\n",
       "      <td>0.226323</td>\n",
       "      <td>0.398192</td>\n",
       "    </tr>\n",
       "    <tr>\n",
       "      <th>16</th>\n",
       "      <td>9</td>\n",
       "      <td>0.0039</td>\n",
       "      <td>0.233641</td>\n",
       "      <td>0.378437</td>\n",
       "    </tr>\n",
       "    <tr>\n",
       "      <th>18</th>\n",
       "      <td>10</td>\n",
       "      <td>0.0036</td>\n",
       "      <td>0.237366</td>\n",
       "      <td>0.401842</td>\n",
       "    </tr>\n",
       "    <tr>\n",
       "      <th>20</th>\n",
       "      <td>11</td>\n",
       "      <td>0.0022</td>\n",
       "      <td>0.250108</td>\n",
       "      <td>0.360775</td>\n",
       "    </tr>\n",
       "    <tr>\n",
       "      <th>22</th>\n",
       "      <td>12</td>\n",
       "      <td>0.0020</td>\n",
       "      <td>0.250226</td>\n",
       "      <td>0.369422</td>\n",
       "    </tr>\n",
       "    <tr>\n",
       "      <th>24</th>\n",
       "      <td>13</td>\n",
       "      <td>0.0014</td>\n",
       "      <td>0.251511</td>\n",
       "      <td>0.381820</td>\n",
       "    </tr>\n",
       "    <tr>\n",
       "      <th>26</th>\n",
       "      <td>14</td>\n",
       "      <td>0.0016</td>\n",
       "      <td>0.254599</td>\n",
       "      <td>0.368302</td>\n",
       "    </tr>\n",
       "    <tr>\n",
       "      <th>28</th>\n",
       "      <td>15</td>\n",
       "      <td>0.0011</td>\n",
       "      <td>0.258320</td>\n",
       "      <td>0.377541</td>\n",
       "    </tr>\n",
       "    <tr>\n",
       "      <th>30</th>\n",
       "      <td>16</td>\n",
       "      <td>0.0007</td>\n",
       "      <td>0.261092</td>\n",
       "      <td>0.373389</td>\n",
       "    </tr>\n",
       "    <tr>\n",
       "      <th>32</th>\n",
       "      <td>17</td>\n",
       "      <td>0.0011</td>\n",
       "      <td>0.259534</td>\n",
       "      <td>0.394414</td>\n",
       "    </tr>\n",
       "    <tr>\n",
       "      <th>34</th>\n",
       "      <td>18</td>\n",
       "      <td>0.0008</td>\n",
       "      <td>0.261448</td>\n",
       "      <td>0.401441</td>\n",
       "    </tr>\n",
       "    <tr>\n",
       "      <th>36</th>\n",
       "      <td>19</td>\n",
       "      <td>0.0006</td>\n",
       "      <td>0.262034</td>\n",
       "      <td>0.401466</td>\n",
       "    </tr>\n",
       "    <tr>\n",
       "      <th>38</th>\n",
       "      <td>20</td>\n",
       "      <td>0.0011</td>\n",
       "      <td>0.262189</td>\n",
       "      <td>0.403013</td>\n",
       "    </tr>\n",
       "  </tbody>\n",
       "</table>\n",
       "</div>"
      ],
      "text/plain": [
       "    Epoch  Training Loss  Validation Loss        F1\n",
       "0       1         0.2938         0.187125  0.216415\n",
       "2       2         0.1177         0.159503  0.292749\n",
       "4       3         0.0721         0.161797  0.329783\n",
       "6       4         0.0407         0.183326  0.379758\n",
       "8       5         0.0249         0.191748  0.367944\n",
       "10      6         0.0152         0.208655  0.369746\n",
       "12      7         0.0095         0.210463  0.374205\n",
       "14      8         0.0063         0.226323  0.398192\n",
       "16      9         0.0039         0.233641  0.378437\n",
       "18     10         0.0036         0.237366  0.401842\n",
       "20     11         0.0022         0.250108  0.360775\n",
       "22     12         0.0020         0.250226  0.369422\n",
       "24     13         0.0014         0.251511  0.381820\n",
       "26     14         0.0016         0.254599  0.368302\n",
       "28     15         0.0011         0.258320  0.377541\n",
       "30     16         0.0007         0.261092  0.373389\n",
       "32     17         0.0011         0.259534  0.394414\n",
       "34     18         0.0008         0.261448  0.401441\n",
       "36     19         0.0006         0.262034  0.401466\n",
       "38     20         0.0011         0.262189  0.403013"
      ]
     },
     "execution_count": 25,
     "metadata": {},
     "output_type": "execute_result"
    }
   ],
   "source": [
    "df = pd.DataFrame(trainer.state.log_history)[['epoch','loss' ,'eval_loss','eval_f1']]\n",
    "df = df.rename(columns={\"epoch\":\"Epoch\",\"loss\": \"Training Loss\", \"eval_loss\": \"Validation Loss\", 'eval_f1':'F1'})\n",
    "df['Epoch'] = df[\"Epoch\"].apply(lambda x: round(x))\n",
    "df['Training Loss'] = df[\"Training Loss\"].ffill()\n",
    "df[['Validation Loss', 'F1']] = df[['Validation Loss', 'F1']].bfill().ffill()\n",
    "df.drop_duplicates()"
   ]
  },
  {
   "cell_type": "markdown",
   "metadata": {},
   "source": [
    "## 2.6. <a id='toc2_6_'></a>[Model performance](#toc0_)"
   ]
  },
  {
   "cell_type": "markdown",
   "metadata": {},
   "source": [
    "### 2.6.1. <a id='toc2_6_1_'></a>[Perform prediction on validation dataset](#toc0_)"
   ]
  },
  {
   "cell_type": "code",
   "execution_count": 26,
   "metadata": {},
   "outputs": [],
   "source": [
    "def forward_pass_with_label(batch):\n",
    "    # Convert dict of lists to list of dicts suitable for data collator\n",
    "    features = [dict(zip(batch, t)) for t in zip(*batch.values())]\n",
    "    # Pad inputs and labels and put all tensors on device\n",
    "    batch = data_collator(features)\n",
    "    input_ids = batch[\"input_ids\"].to(device)\n",
    "    attention_mask = batch[\"attention_mask\"].to(device)\n",
    "    labels = batch[\"labels\"].to(device)\n",
    "    with torch.no_grad():\n",
    "        # Pass data through model  \n",
    "        output = trainer.model(input_ids, attention_mask)\n",
    "\n",
    "        # Logit.size: [batch_size, sequence_length, classes]\n",
    "        # Predict class with largest logit value on classes axis\n",
    "        predicted_label = torch.argmax(output.logits, axis=-1).cpu().numpy()\n",
    "    # Calculate loss per token after flattening batch dimension with view\n",
    "    loss = cross_entropy(output.logits.view(-1, tags.num_classes), \n",
    "                         labels.view(-1), reduction=\"none\")\n",
    "    # Unflatten batch dimension and convert to numpy array\n",
    "    loss = loss.view(len(input_ids), -1).cpu().numpy()\n",
    "\n",
    "    return {\"loss\":loss, \"predicted_label\": predicted_label}\n",
    "     "
   ]
  },
  {
   "cell_type": "code",
   "execution_count": 27,
   "metadata": {},
   "outputs": [
    {
     "data": {
      "application/vnd.jupyter.widget-view+json": {
       "model_id": "cfb7950e5f0749549589fc5d61e17919",
       "version_major": 2,
       "version_minor": 0
      },
      "text/plain": [
       "Map:   0%|          | 0/911 [00:00<?, ? examples/s]"
      ]
     },
     "metadata": {},
     "output_type": "display_data"
    }
   ],
   "source": [
    "validation_set = ds_encoded[\"validation\"]\n",
    "validation_set = validation_set.map(forward_pass_with_label, batched=True, batch_size=32)\n",
    "df_validation = validation_set.to_pandas()"
   ]
  },
  {
   "cell_type": "code",
   "execution_count": 28,
   "metadata": {},
   "outputs": [],
   "source": [
    "# Cleanup & conver id2text \n",
    "index2tag = trainer.model.config.id2label.copy()\n",
    "index2tag[-100] = \"IGN\"\n",
    "df_validation[\"input_tokens\"] = df_validation[\"input_ids\"].apply(\n",
    "    lambda x: distilbert_tokenizer.convert_ids_to_tokens(x))\n",
    "df_validation[\"predicted_label\"] = df_validation[\"predicted_label\"].apply(\n",
    "    lambda x: [index2tag[i] for i in x])\n",
    "df_validation[\"labels\"] = df_validation[\"labels\"].apply(\n",
    "    lambda x: [index2tag[i] for i in x])\n",
    "df_validation['loss'] = df_validation.apply(\n",
    "    lambda x: x['loss'][:len(x['input_ids'])], axis=1) # Remove padding tokens\n",
    "df_validation['predicted_label'] = df_validation.apply(\n",
    "    lambda x: x['predicted_label'][:len(x['input_ids'])], axis=1) # Remove padding tokens\n",
    "\n",
    "# Flatten the outputs\n",
    "df_tokens = df_validation.apply(pd.Series.explode)\n",
    "df_tokens = df_tokens.query(\"labels != 'IGN'\")\n",
    "df_tokens[\"loss\"] = df_tokens[\"loss\"].astype(float).round(2)"
   ]
  },
  {
   "cell_type": "markdown",
   "metadata": {},
   "source": [
    "### 2.6.2. <a id='toc2_6_2_'></a>[Model performance](#toc0_)"
   ]
  },
  {
   "cell_type": "code",
   "execution_count": 29,
   "metadata": {},
   "outputs": [
    {
     "name": "stdout",
     "output_type": "stream",
     "text": [
      "F1 Score: 0.54\n",
      "              precision    recall  f1-score   support\n",
      "\n",
      "         CON       0.20      0.07      0.10        15\n",
      "         NEG       0.55      0.56      0.55       310\n",
      "         NEU       0.29      0.34      0.31       157\n",
      "         POS       0.61      0.69      0.65       312\n",
      "\n",
      "   micro avg       0.52      0.56      0.54       794\n",
      "   macro avg       0.41      0.41      0.40       794\n",
      "weighted avg       0.52      0.56      0.53       794\n",
      "\n"
     ]
    }
   ],
   "source": [
    "df_validation_metrics = df_validation.copy()\n",
    "\n",
    "df_validation_metrics['predicted_label'] = df_validation_metrics.apply(lambda x: [x['predicted_label'][i] for i,k in enumerate(x['labels']) if k != 'IGN' ], axis=1)\n",
    "df_validation_metrics['labels'] = df_validation_metrics.apply(lambda x: [k for i,k in enumerate(x['labels']) if k != 'IGN' ], axis=1)\n",
    "\n",
    "print(f\"F1 Score: {f1_score(df_validation_metrics['labels'], df_validation_metrics['predicted_label']).round(2)}\")\n",
    "print(classification_report(df_validation_metrics['labels'], df_validation_metrics['predicted_label'], zero_division=0))"
   ]
  },
  {
   "cell_type": "markdown",
   "metadata": {},
   "source": [
    "## 2.7. <a id='toc2_7_'></a>[Error analysis](#toc0_)"
   ]
  },
  {
   "cell_type": "markdown",
   "metadata": {},
   "source": [
    "### 2.7.1. <a id='toc2_7_1_'></a>[Group by word token](#toc0_)"
   ]
  },
  {
   "cell_type": "code",
   "execution_count": 30,
   "metadata": {},
   "outputs": [
    {
     "data": {
      "text/html": [
       "<div>\n",
       "<style scoped>\n",
       "    .dataframe tbody tr th:only-of-type {\n",
       "        vertical-align: middle;\n",
       "    }\n",
       "\n",
       "    .dataframe tbody tr th {\n",
       "        vertical-align: top;\n",
       "    }\n",
       "\n",
       "    .dataframe thead th {\n",
       "        text-align: right;\n",
       "    }\n",
       "</style>\n",
       "<table border=\"1\" class=\"dataframe\">\n",
       "  <thead>\n",
       "    <tr style=\"text-align: right;\">\n",
       "      <th></th>\n",
       "      <th>0</th>\n",
       "      <th>1</th>\n",
       "      <th>2</th>\n",
       "      <th>3</th>\n",
       "      <th>4</th>\n",
       "      <th>5</th>\n",
       "      <th>6</th>\n",
       "      <th>7</th>\n",
       "      <th>8</th>\n",
       "      <th>9</th>\n",
       "    </tr>\n",
       "  </thead>\n",
       "  <tbody>\n",
       "    <tr>\n",
       "      <th>input_tokens</th>\n",
       "      <td>the</td>\n",
       "      <td>screen</td>\n",
       "      <td>battery</td>\n",
       "      <td>windows</td>\n",
       "      <td>of</td>\n",
       "      <td>system</td>\n",
       "      <td>games</td>\n",
       "      <td>service</td>\n",
       "      <td>-</td>\n",
       "      <td>cost</td>\n",
       "    </tr>\n",
       "    <tr>\n",
       "      <th>count</th>\n",
       "      <td>696</td>\n",
       "      <td>43</td>\n",
       "      <td>45</td>\n",
       "      <td>43</td>\n",
       "      <td>191</td>\n",
       "      <td>17</td>\n",
       "      <td>7</td>\n",
       "      <td>13</td>\n",
       "      <td>35</td>\n",
       "      <td>9</td>\n",
       "    </tr>\n",
       "    <tr>\n",
       "      <th>mean</th>\n",
       "      <td>0.14</td>\n",
       "      <td>1.94</td>\n",
       "      <td>1.61</td>\n",
       "      <td>1.64</td>\n",
       "      <td>0.36</td>\n",
       "      <td>3.49</td>\n",
       "      <td>7.21</td>\n",
       "      <td>3.8</td>\n",
       "      <td>1.2</td>\n",
       "      <td>4.56</td>\n",
       "    </tr>\n",
       "    <tr>\n",
       "      <th>sum</th>\n",
       "      <td>98.07</td>\n",
       "      <td>83.36</td>\n",
       "      <td>72.37</td>\n",
       "      <td>70.37</td>\n",
       "      <td>68.95</td>\n",
       "      <td>59.4</td>\n",
       "      <td>50.47</td>\n",
       "      <td>49.35</td>\n",
       "      <td>41.87</td>\n",
       "      <td>41.06</td>\n",
       "    </tr>\n",
       "  </tbody>\n",
       "</table>\n",
       "</div>"
      ],
      "text/plain": [
       "                  0       1        2        3      4       5      6        7  \\\n",
       "input_tokens    the  screen  battery  windows     of  system  games  service   \n",
       "count           696      43       45       43    191      17      7       13   \n",
       "mean           0.14    1.94     1.61     1.64   0.36    3.49   7.21      3.8   \n",
       "sum           98.07   83.36    72.37    70.37  68.95    59.4  50.47    49.35   \n",
       "\n",
       "                  8      9  \n",
       "input_tokens      -   cost  \n",
       "count            35      9  \n",
       "mean            1.2   4.56  \n",
       "sum           41.87  41.06  "
      ]
     },
     "execution_count": 30,
     "metadata": {},
     "output_type": "execute_result"
    }
   ],
   "source": [
    "(\n",
    "    df_tokens.groupby(\"input_tokens\")[[\"loss\"]]\n",
    "    .agg([\"count\", \"mean\", \"sum\"])\n",
    "    .droplevel(level=0, axis=1)  # Get rid of multi-level columns\n",
    "    .sort_values(by=\"sum\", ascending=False)\n",
    "    .reset_index()\n",
    "    .round(2)\n",
    "    .head(10)\n",
    "    .T\n",
    ")"
   ]
  },
  {
   "cell_type": "code",
   "execution_count": 31,
   "metadata": {},
   "outputs": [
    {
     "data": {
      "text/html": [
       "<div>\n",
       "<style scoped>\n",
       "    .dataframe tbody tr th:only-of-type {\n",
       "        vertical-align: middle;\n",
       "    }\n",
       "\n",
       "    .dataframe tbody tr th {\n",
       "        vertical-align: top;\n",
       "    }\n",
       "\n",
       "    .dataframe thead th {\n",
       "        text-align: right;\n",
       "    }\n",
       "</style>\n",
       "<table border=\"1\" class=\"dataframe\">\n",
       "  <thead>\n",
       "    <tr style=\"text-align: right;\">\n",
       "      <th></th>\n",
       "      <th>0</th>\n",
       "      <th>1</th>\n",
       "      <th>2</th>\n",
       "      <th>3</th>\n",
       "      <th>4</th>\n",
       "      <th>5</th>\n",
       "      <th>6</th>\n",
       "      <th>7</th>\n",
       "      <th>8</th>\n",
       "      <th>9</th>\n",
       "    </tr>\n",
       "  </thead>\n",
       "  <tbody>\n",
       "    <tr>\n",
       "      <th>predicted_label</th>\n",
       "      <td>B-POS</td>\n",
       "      <td>B-POS</td>\n",
       "      <td>B-NEG</td>\n",
       "      <td>I-NEG</td>\n",
       "      <td>B-NEG</td>\n",
       "      <td>B-POS</td>\n",
       "      <td>B-NEG</td>\n",
       "      <td>I-NEU</td>\n",
       "      <td>I-NEG</td>\n",
       "      <td>B-POS</td>\n",
       "    </tr>\n",
       "    <tr>\n",
       "      <th>labels</th>\n",
       "      <td>B-CON</td>\n",
       "      <td>B-NEG</td>\n",
       "      <td>O</td>\n",
       "      <td>B-POS</td>\n",
       "      <td>B-NEU</td>\n",
       "      <td>B-NEU</td>\n",
       "      <td>B-POS</td>\n",
       "      <td>I-CON</td>\n",
       "      <td>B-NEG</td>\n",
       "      <td>B-POS</td>\n",
       "    </tr>\n",
       "    <tr>\n",
       "      <th>count</th>\n",
       "      <td>2</td>\n",
       "      <td>2</td>\n",
       "      <td>1</td>\n",
       "      <td>1</td>\n",
       "      <td>1</td>\n",
       "      <td>2</td>\n",
       "      <td>2</td>\n",
       "      <td>1</td>\n",
       "      <td>1</td>\n",
       "      <td>12</td>\n",
       "    </tr>\n",
       "    <tr>\n",
       "      <th>mean</th>\n",
       "      <td>6.86</td>\n",
       "      <td>6.4</td>\n",
       "      <td>10.31</td>\n",
       "      <td>8.8</td>\n",
       "      <td>5.98</td>\n",
       "      <td>2.92</td>\n",
       "      <td>2.72</td>\n",
       "      <td>4.72</td>\n",
       "      <td>4.08</td>\n",
       "      <td>0.03</td>\n",
       "    </tr>\n",
       "    <tr>\n",
       "      <th>sum</th>\n",
       "      <td>13.73</td>\n",
       "      <td>12.8</td>\n",
       "      <td>10.31</td>\n",
       "      <td>8.8</td>\n",
       "      <td>5.98</td>\n",
       "      <td>5.84</td>\n",
       "      <td>5.44</td>\n",
       "      <td>4.72</td>\n",
       "      <td>4.08</td>\n",
       "      <td>0.42</td>\n",
       "    </tr>\n",
       "  </tbody>\n",
       "</table>\n",
       "</div>"
      ],
      "text/plain": [
       "                     0      1      2      3      4      5      6      7  \\\n",
       "predicted_label  B-POS  B-POS  B-NEG  I-NEG  B-NEG  B-POS  B-NEG  I-NEU   \n",
       "labels           B-CON  B-NEG      O  B-POS  B-NEU  B-NEU  B-POS  I-CON   \n",
       "count                2      2      1      1      1      2      2      1   \n",
       "mean              6.86    6.4  10.31    8.8   5.98   2.92   2.72   4.72   \n",
       "sum              13.73   12.8  10.31    8.8   5.98   5.84   5.44   4.72   \n",
       "\n",
       "                     8      9  \n",
       "predicted_label  I-NEG  B-POS  \n",
       "labels           B-NEG  B-POS  \n",
       "count                1     12  \n",
       "mean              4.08   0.03  \n",
       "sum               4.08   0.42  "
      ]
     },
     "execution_count": 31,
     "metadata": {},
     "output_type": "execute_result"
    }
   ],
   "source": [
    "(\n",
    "  df_tokens[df_tokens['input_tokens']=='battery'].groupby([\"predicted_label\", 'labels'])[[\"loss\"]]\n",
    "    .agg([\"count\", \"mean\", \"sum\"])\n",
    "    .droplevel(level=0, axis=1)  # Get rid of multi-level columns\n",
    "    .sort_values(by=\"sum\", ascending=False)\n",
    "    .reset_index()\n",
    "    .round(2)\n",
    "    .head(10)\n",
    "    .T\n",
    ")"
   ]
  },
  {
   "cell_type": "markdown",
   "metadata": {},
   "source": [
    "### 2.7.2. <a id='toc2_7_2_'></a>[Group by Tag ID](#toc0_)"
   ]
  },
  {
   "cell_type": "code",
   "execution_count": 32,
   "metadata": {},
   "outputs": [
    {
     "data": {
      "text/html": [
       "<div>\n",
       "<style scoped>\n",
       "    .dataframe tbody tr th:only-of-type {\n",
       "        vertical-align: middle;\n",
       "    }\n",
       "\n",
       "    .dataframe tbody tr th {\n",
       "        vertical-align: top;\n",
       "    }\n",
       "\n",
       "    .dataframe thead th {\n",
       "        text-align: right;\n",
       "    }\n",
       "</style>\n",
       "<table border=\"1\" class=\"dataframe\">\n",
       "  <thead>\n",
       "    <tr style=\"text-align: right;\">\n",
       "      <th></th>\n",
       "      <th>0</th>\n",
       "      <th>1</th>\n",
       "      <th>2</th>\n",
       "      <th>3</th>\n",
       "      <th>4</th>\n",
       "      <th>5</th>\n",
       "      <th>6</th>\n",
       "      <th>7</th>\n",
       "      <th>8</th>\n",
       "    </tr>\n",
       "  </thead>\n",
       "  <tbody>\n",
       "    <tr>\n",
       "      <th>labels</th>\n",
       "      <td>B-CON</td>\n",
       "      <td>I-CON</td>\n",
       "      <td>B-NEU</td>\n",
       "      <td>I-POS</td>\n",
       "      <td>I-NEU</td>\n",
       "      <td>I-NEG</td>\n",
       "      <td>B-NEG</td>\n",
       "      <td>B-POS</td>\n",
       "      <td>O</td>\n",
       "    </tr>\n",
       "    <tr>\n",
       "      <th>count</th>\n",
       "      <td>15</td>\n",
       "      <td>9</td>\n",
       "      <td>157</td>\n",
       "      <td>158</td>\n",
       "      <td>122</td>\n",
       "      <td>158</td>\n",
       "      <td>310</td>\n",
       "      <td>312</td>\n",
       "      <td>14503</td>\n",
       "    </tr>\n",
       "    <tr>\n",
       "      <th>mean</th>\n",
       "      <td>5.6</td>\n",
       "      <td>4.89</td>\n",
       "      <td>3.65</td>\n",
       "      <td>3.49</td>\n",
       "      <td>3.04</td>\n",
       "      <td>2.97</td>\n",
       "      <td>2.45</td>\n",
       "      <td>1.8</td>\n",
       "      <td>0.05</td>\n",
       "    </tr>\n",
       "    <tr>\n",
       "      <th>sum</th>\n",
       "      <td>84.05</td>\n",
       "      <td>44.01</td>\n",
       "      <td>572.48</td>\n",
       "      <td>552.03</td>\n",
       "      <td>370.39</td>\n",
       "      <td>468.86</td>\n",
       "      <td>760.06</td>\n",
       "      <td>561.19</td>\n",
       "      <td>708.6</td>\n",
       "    </tr>\n",
       "  </tbody>\n",
       "</table>\n",
       "</div>"
      ],
      "text/plain": [
       "            0      1       2       3       4       5       6       7      8\n",
       "labels  B-CON  I-CON   B-NEU   I-POS   I-NEU   I-NEG   B-NEG   B-POS      O\n",
       "count      15      9     157     158     122     158     310     312  14503\n",
       "mean      5.6   4.89    3.65    3.49    3.04    2.97    2.45     1.8   0.05\n",
       "sum     84.05  44.01  572.48  552.03  370.39  468.86  760.06  561.19  708.6"
      ]
     },
     "execution_count": 32,
     "metadata": {},
     "output_type": "execute_result"
    }
   ],
   "source": [
    "(\n",
    "    df_tokens.groupby(\"labels\")[[\"loss\"]] \n",
    "    .agg([\"count\", \"mean\", \"sum\"])\n",
    "    .droplevel(level=0, axis=1)\n",
    "    .sort_values(by=\"mean\", ascending=False)\n",
    "    .reset_index()\n",
    "    .round(2)\n",
    "    .T\n",
    ")"
   ]
  },
  {
   "cell_type": "code",
   "execution_count": 33,
   "metadata": {},
   "outputs": [],
   "source": [
    "def plot_confusion_matrix(y_preds, y_true, labels):\n",
    "    cm = confusion_matrix(y_true, y_preds, normalize=\"true\")\n",
    "    fig, ax = plt.subplots(figsize=(6, 6))\n",
    "    disp = ConfusionMatrixDisplay(confusion_matrix=cm, display_labels=labels)\n",
    "    disp.plot(cmap=\"Blues\", values_format=\".2f\", ax=ax, colorbar=False)\n",
    "    plt.title(\"Normalized confusion matrix\")\n",
    "    plt.show()"
   ]
  },
  {
   "cell_type": "code",
   "execution_count": 34,
   "metadata": {},
   "outputs": [
    {
     "data": {
      "image/png": "[encoded data removed]",
      "text/plain": [
       "<Figure size 600x600 with 1 Axes>"
      ]
     },
     "metadata": {},
     "output_type": "display_data"
    }
   ],
   "source": [
    "plot_confusion_matrix(df_tokens[\"labels\"], df_tokens[\"predicted_label\"],\n",
    "                      list(tag2index.keys()))\n"
   ]
  },
  {
   "cell_type": "code",
   "execution_count": 35,
   "metadata": {},
   "outputs": [
    {
     "data": {
      "text/html": [
       "<div>\n",
       "<style scoped>\n",
       "    .dataframe tbody tr th:only-of-type {\n",
       "        vertical-align: middle;\n",
       "    }\n",
       "\n",
       "    .dataframe tbody tr th {\n",
       "        vertical-align: top;\n",
       "    }\n",
       "\n",
       "    .dataframe thead th {\n",
       "        text-align: right;\n",
       "    }\n",
       "</style>\n",
       "<table border=\"1\" class=\"dataframe\">\n",
       "  <thead>\n",
       "    <tr style=\"text-align: right;\">\n",
       "      <th></th>\n",
       "      <th>tokens</th>\n",
       "      <th>labels</th>\n",
       "      <th>preds</th>\n",
       "      <th>losses</th>\n",
       "    </tr>\n",
       "  </thead>\n",
       "  <tbody>\n",
       "    <tr>\n",
       "      <th>0</th>\n",
       "      <td>since</td>\n",
       "      <td>O</td>\n",
       "      <td>O</td>\n",
       "      <td>0.00</td>\n",
       "    </tr>\n",
       "    <tr>\n",
       "      <th>1</th>\n",
       "      <td>i</td>\n",
       "      <td>O</td>\n",
       "      <td>O</td>\n",
       "      <td>0.00</td>\n",
       "    </tr>\n",
       "    <tr>\n",
       "      <th>2</th>\n",
       "      <td>keyboard</td>\n",
       "      <td>O</td>\n",
       "      <td>O</td>\n",
       "      <td>0.01</td>\n",
       "    </tr>\n",
       "    <tr>\n",
       "      <th>3</th>\n",
       "      <td>over</td>\n",
       "      <td>O</td>\n",
       "      <td>O</td>\n",
       "      <td>0.00</td>\n",
       "    </tr>\n",
       "    <tr>\n",
       "      <th>4</th>\n",
       "      <td>100</td>\n",
       "      <td>O</td>\n",
       "      <td>O</td>\n",
       "      <td>0.00</td>\n",
       "    </tr>\n",
       "    <tr>\n",
       "      <th>5</th>\n",
       "      <td>w</td>\n",
       "      <td>O</td>\n",
       "      <td>O</td>\n",
       "      <td>0.00</td>\n",
       "    </tr>\n",
       "    <tr>\n",
       "      <th>6</th>\n",
       "      <td>##pm</td>\n",
       "      <td>IGN</td>\n",
       "      <td>O</td>\n",
       "      <td>-0.00</td>\n",
       "    </tr>\n",
       "    <tr>\n",
       "      <th>7</th>\n",
       "      <td>,</td>\n",
       "      <td>O</td>\n",
       "      <td>O</td>\n",
       "      <td>0.00</td>\n",
       "    </tr>\n",
       "    <tr>\n",
       "      <th>8</th>\n",
       "      <td>i</td>\n",
       "      <td>O</td>\n",
       "      <td>O</td>\n",
       "      <td>0.00</td>\n",
       "    </tr>\n",
       "    <tr>\n",
       "      <th>9</th>\n",
       "      <td>look</td>\n",
       "      <td>O</td>\n",
       "      <td>O</td>\n",
       "      <td>0.00</td>\n",
       "    </tr>\n",
       "    <tr>\n",
       "      <th>10</th>\n",
       "      <td>for</td>\n",
       "      <td>O</td>\n",
       "      <td>O</td>\n",
       "      <td>0.00</td>\n",
       "    </tr>\n",
       "    <tr>\n",
       "      <th>11</th>\n",
       "      <td>a</td>\n",
       "      <td>O</td>\n",
       "      <td>O</td>\n",
       "      <td>0.00</td>\n",
       "    </tr>\n",
       "    <tr>\n",
       "      <th>12</th>\n",
       "      <td>unit</td>\n",
       "      <td>O</td>\n",
       "      <td>O</td>\n",
       "      <td>0.00</td>\n",
       "    </tr>\n",
       "    <tr>\n",
       "      <th>13</th>\n",
       "      <td>that</td>\n",
       "      <td>O</td>\n",
       "      <td>O</td>\n",
       "      <td>0.00</td>\n",
       "    </tr>\n",
       "    <tr>\n",
       "      <th>14</th>\n",
       "      <td>has</td>\n",
       "      <td>O</td>\n",
       "      <td>O</td>\n",
       "      <td>0.00</td>\n",
       "    </tr>\n",
       "    <tr>\n",
       "      <th>15</th>\n",
       "      <td>a</td>\n",
       "      <td>O</td>\n",
       "      <td>O</td>\n",
       "      <td>0.00</td>\n",
       "    </tr>\n",
       "    <tr>\n",
       "      <th>16</th>\n",
       "      <td>comfort</td>\n",
       "      <td>O</td>\n",
       "      <td>O</td>\n",
       "      <td>0.00</td>\n",
       "    </tr>\n",
       "    <tr>\n",
       "      <th>17</th>\n",
       "      <td>##ble</td>\n",
       "      <td>IGN</td>\n",
       "      <td>O</td>\n",
       "      <td>-0.00</td>\n",
       "    </tr>\n",
       "    <tr>\n",
       "      <th>18</th>\n",
       "      <td>keyboard</td>\n",
       "      <td>B-POS</td>\n",
       "      <td>B-POS</td>\n",
       "      <td>0.00</td>\n",
       "    </tr>\n",
       "    <tr>\n",
       "      <th>19</th>\n",
       "      <td>(</td>\n",
       "      <td>O</td>\n",
       "      <td>O</td>\n",
       "      <td>0.01</td>\n",
       "    </tr>\n",
       "    <tr>\n",
       "      <th>20</th>\n",
       "      <td>no</td>\n",
       "      <td>O</td>\n",
       "      <td>O</td>\n",
       "      <td>0.00</td>\n",
       "    </tr>\n",
       "    <tr>\n",
       "      <th>21</th>\n",
       "      <td>keys</td>\n",
       "      <td>B-POS</td>\n",
       "      <td>B-NEG</td>\n",
       "      <td>7.90</td>\n",
       "    </tr>\n",
       "    <tr>\n",
       "      <th>22</th>\n",
       "      <td>sticking</td>\n",
       "      <td>O</td>\n",
       "      <td>O</td>\n",
       "      <td>0.00</td>\n",
       "    </tr>\n",
       "    <tr>\n",
       "      <th>23</th>\n",
       "      <td>or</td>\n",
       "      <td>O</td>\n",
       "      <td>O</td>\n",
       "      <td>0.00</td>\n",
       "    </tr>\n",
       "    <tr>\n",
       "      <th>24</th>\n",
       "      <td>la</td>\n",
       "      <td>O</td>\n",
       "      <td>O</td>\n",
       "      <td>0.00</td>\n",
       "    </tr>\n",
       "    <tr>\n",
       "      <th>25</th>\n",
       "      <td>##gging</td>\n",
       "      <td>IGN</td>\n",
       "      <td>O</td>\n",
       "      <td>-0.00</td>\n",
       "    </tr>\n",
       "    <tr>\n",
       "      <th>26</th>\n",
       "      <td>,</td>\n",
       "      <td>O</td>\n",
       "      <td>O</td>\n",
       "      <td>0.00</td>\n",
       "    </tr>\n",
       "    <tr>\n",
       "      <th>27</th>\n",
       "      <td>strange</td>\n",
       "      <td>O</td>\n",
       "      <td>O</td>\n",
       "      <td>0.00</td>\n",
       "    </tr>\n",
       "    <tr>\n",
       "      <th>28</th>\n",
       "      <td>configuration</td>\n",
       "      <td>B-POS</td>\n",
       "      <td>O</td>\n",
       "      <td>10.46</td>\n",
       "    </tr>\n",
       "    <tr>\n",
       "      <th>29</th>\n",
       "      <td>of</td>\n",
       "      <td>I-POS</td>\n",
       "      <td>O</td>\n",
       "      <td>10.77</td>\n",
       "    </tr>\n",
       "    <tr>\n",
       "      <th>30</th>\n",
       "      <td>\"</td>\n",
       "      <td>I-POS</td>\n",
       "      <td>O</td>\n",
       "      <td>10.64</td>\n",
       "    </tr>\n",
       "    <tr>\n",
       "      <th>31</th>\n",
       "      <td>extra</td>\n",
       "      <td>I-POS</td>\n",
       "      <td>O</td>\n",
       "      <td>8.98</td>\n",
       "    </tr>\n",
       "    <tr>\n",
       "      <th>32</th>\n",
       "      <td>key</td>\n",
       "      <td>I-POS</td>\n",
       "      <td>I-NEU</td>\n",
       "      <td>7.08</td>\n",
       "    </tr>\n",
       "    <tr>\n",
       "      <th>33</th>\n",
       "      <td>\"</td>\n",
       "      <td>I-POS</td>\n",
       "      <td>O</td>\n",
       "      <td>8.14</td>\n",
       "    </tr>\n",
       "    <tr>\n",
       "      <th>34</th>\n",
       "      <td>,</td>\n",
       "      <td>O</td>\n",
       "      <td>O</td>\n",
       "      <td>0.00</td>\n",
       "    </tr>\n",
       "    <tr>\n",
       "      <th>35</th>\n",
       "      <td>etc</td>\n",
       "      <td>O</td>\n",
       "      <td>O</td>\n",
       "      <td>0.00</td>\n",
       "    </tr>\n",
       "    <tr>\n",
       "      <th>36</th>\n",
       "      <td>.</td>\n",
       "      <td>O</td>\n",
       "      <td>O</td>\n",
       "      <td>0.00</td>\n",
       "    </tr>\n",
       "    <tr>\n",
       "      <th>37</th>\n",
       "      <td>[SEP]</td>\n",
       "      <td>IGN</td>\n",
       "      <td>O</td>\n",
       "      <td>-0.00</td>\n",
       "    </tr>\n",
       "  </tbody>\n",
       "</table>\n",
       "</div>"
      ],
      "text/plain": [
       "           tokens labels  preds losses\n",
       "0           since      O      O   0.00\n",
       "1               i      O      O   0.00\n",
       "2        keyboard      O      O   0.01\n",
       "3            over      O      O   0.00\n",
       "4             100      O      O   0.00\n",
       "5               w      O      O   0.00\n",
       "6            ##pm    IGN      O  -0.00\n",
       "7               ,      O      O   0.00\n",
       "8               i      O      O   0.00\n",
       "9            look      O      O   0.00\n",
       "10            for      O      O   0.00\n",
       "11              a      O      O   0.00\n",
       "12           unit      O      O   0.00\n",
       "13           that      O      O   0.00\n",
       "14            has      O      O   0.00\n",
       "15              a      O      O   0.00\n",
       "16        comfort      O      O   0.00\n",
       "17          ##ble    IGN      O  -0.00\n",
       "18       keyboard  B-POS  B-POS   0.00\n",
       "19              (      O      O   0.01\n",
       "20             no      O      O   0.00\n",
       "21           keys  B-POS  B-NEG   7.90\n",
       "22       sticking      O      O   0.00\n",
       "23             or      O      O   0.00\n",
       "24             la      O      O   0.00\n",
       "25        ##gging    IGN      O  -0.00\n",
       "26              ,      O      O   0.00\n",
       "27        strange      O      O   0.00\n",
       "28  configuration  B-POS      O  10.46\n",
       "29             of  I-POS      O  10.77\n",
       "30              \"  I-POS      O  10.64\n",
       "31          extra  I-POS      O   8.98\n",
       "32            key  I-POS  I-NEU   7.08\n",
       "33              \"  I-POS      O   8.14\n",
       "34              ,      O      O   0.00\n",
       "35            etc      O      O   0.00\n",
       "36              .      O      O   0.00\n",
       "37          [SEP]    IGN      O  -0.00"
      ]
     },
     "metadata": {},
     "output_type": "display_data"
    },
    {
     "data": {
      "text/html": [
       "<div>\n",
       "<style scoped>\n",
       "    .dataframe tbody tr th:only-of-type {\n",
       "        vertical-align: middle;\n",
       "    }\n",
       "\n",
       "    .dataframe tbody tr th {\n",
       "        vertical-align: top;\n",
       "    }\n",
       "\n",
       "    .dataframe thead th {\n",
       "        text-align: right;\n",
       "    }\n",
       "</style>\n",
       "<table border=\"1\" class=\"dataframe\">\n",
       "  <thead>\n",
       "    <tr style=\"text-align: right;\">\n",
       "      <th></th>\n",
       "      <th>tokens</th>\n",
       "      <th>labels</th>\n",
       "      <th>preds</th>\n",
       "      <th>losses</th>\n",
       "    </tr>\n",
       "  </thead>\n",
       "  <tbody>\n",
       "    <tr>\n",
       "      <th>0</th>\n",
       "      <td>even</td>\n",
       "      <td>O</td>\n",
       "      <td>O</td>\n",
       "      <td>0.00</td>\n",
       "    </tr>\n",
       "    <tr>\n",
       "      <th>1</th>\n",
       "      <td>though</td>\n",
       "      <td>O</td>\n",
       "      <td>O</td>\n",
       "      <td>0.00</td>\n",
       "    </tr>\n",
       "    <tr>\n",
       "      <th>2</th>\n",
       "      <td>it</td>\n",
       "      <td>O</td>\n",
       "      <td>O</td>\n",
       "      <td>0.00</td>\n",
       "    </tr>\n",
       "    <tr>\n",
       "      <th>3</th>\n",
       "      <td>is</td>\n",
       "      <td>O</td>\n",
       "      <td>O</td>\n",
       "      <td>0.00</td>\n",
       "    </tr>\n",
       "    <tr>\n",
       "      <th>4</th>\n",
       "      <td>running</td>\n",
       "      <td>O</td>\n",
       "      <td>O</td>\n",
       "      <td>0.00</td>\n",
       "    </tr>\n",
       "    <tr>\n",
       "      <th>5</th>\n",
       "      <td>snow</td>\n",
       "      <td>B-POS</td>\n",
       "      <td>B-NEU</td>\n",
       "      <td>7.71</td>\n",
       "    </tr>\n",
       "    <tr>\n",
       "      <th>6</th>\n",
       "      <td>leopard</td>\n",
       "      <td>I-POS</td>\n",
       "      <td>I-NEU</td>\n",
       "      <td>5.84</td>\n",
       "    </tr>\n",
       "    <tr>\n",
       "      <th>7</th>\n",
       "      <td>,</td>\n",
       "      <td>O</td>\n",
       "      <td>O</td>\n",
       "      <td>0.00</td>\n",
       "    </tr>\n",
       "    <tr>\n",
       "      <th>8</th>\n",
       "      <td>2</td>\n",
       "      <td>O</td>\n",
       "      <td>O</td>\n",
       "      <td>0.00</td>\n",
       "    </tr>\n",
       "    <tr>\n",
       "      <th>9</th>\n",
       "      <td>.</td>\n",
       "      <td>IGN</td>\n",
       "      <td>O</td>\n",
       "      <td>-0.00</td>\n",
       "    </tr>\n",
       "    <tr>\n",
       "      <th>10</th>\n",
       "      <td>4</td>\n",
       "      <td>IGN</td>\n",
       "      <td>O</td>\n",
       "      <td>-0.00</td>\n",
       "    </tr>\n",
       "    <tr>\n",
       "      <th>11</th>\n",
       "      <td>ghz</td>\n",
       "      <td>O</td>\n",
       "      <td>O</td>\n",
       "      <td>0.01</td>\n",
       "    </tr>\n",
       "    <tr>\n",
       "      <th>12</th>\n",
       "      <td>c2</td>\n",
       "      <td>O</td>\n",
       "      <td>B-NEU</td>\n",
       "      <td>4.23</td>\n",
       "    </tr>\n",
       "    <tr>\n",
       "      <th>13</th>\n",
       "      <td>##d</td>\n",
       "      <td>IGN</td>\n",
       "      <td>I-NEU</td>\n",
       "      <td>-0.00</td>\n",
       "    </tr>\n",
       "    <tr>\n",
       "      <th>14</th>\n",
       "      <td>is</td>\n",
       "      <td>O</td>\n",
       "      <td>O</td>\n",
       "      <td>0.00</td>\n",
       "    </tr>\n",
       "    <tr>\n",
       "      <th>15</th>\n",
       "      <td>a</td>\n",
       "      <td>O</td>\n",
       "      <td>O</td>\n",
       "      <td>0.00</td>\n",
       "    </tr>\n",
       "    <tr>\n",
       "      <th>16</th>\n",
       "      <td>bit</td>\n",
       "      <td>O</td>\n",
       "      <td>O</td>\n",
       "      <td>0.00</td>\n",
       "    </tr>\n",
       "    <tr>\n",
       "      <th>17</th>\n",
       "      <td>of</td>\n",
       "      <td>O</td>\n",
       "      <td>O</td>\n",
       "      <td>0.00</td>\n",
       "    </tr>\n",
       "    <tr>\n",
       "      <th>18</th>\n",
       "      <td>an</td>\n",
       "      <td>O</td>\n",
       "      <td>O</td>\n",
       "      <td>0.00</td>\n",
       "    </tr>\n",
       "    <tr>\n",
       "      <th>19</th>\n",
       "      <td>anti</td>\n",
       "      <td>O</td>\n",
       "      <td>O</td>\n",
       "      <td>0.00</td>\n",
       "    </tr>\n",
       "    <tr>\n",
       "      <th>20</th>\n",
       "      <td>##qua</td>\n",
       "      <td>IGN</td>\n",
       "      <td>O</td>\n",
       "      <td>-0.00</td>\n",
       "    </tr>\n",
       "    <tr>\n",
       "      <th>21</th>\n",
       "      <td>##ted</td>\n",
       "      <td>IGN</td>\n",
       "      <td>O</td>\n",
       "      <td>-0.00</td>\n",
       "    </tr>\n",
       "    <tr>\n",
       "      <th>22</th>\n",
       "      <td>cpu</td>\n",
       "      <td>B-NEG</td>\n",
       "      <td>B-NEG</td>\n",
       "      <td>0.01</td>\n",
       "    </tr>\n",
       "    <tr>\n",
       "      <th>23</th>\n",
       "      <td>and</td>\n",
       "      <td>O</td>\n",
       "      <td>O</td>\n",
       "      <td>0.00</td>\n",
       "    </tr>\n",
       "    <tr>\n",
       "      <th>24</th>\n",
       "      <td>thus</td>\n",
       "      <td>O</td>\n",
       "      <td>O</td>\n",
       "      <td>0.00</td>\n",
       "    </tr>\n",
       "    <tr>\n",
       "      <th>25</th>\n",
       "      <td>the</td>\n",
       "      <td>O</td>\n",
       "      <td>O</td>\n",
       "      <td>0.00</td>\n",
       "    </tr>\n",
       "    <tr>\n",
       "      <th>26</th>\n",
       "      <td>occasional</td>\n",
       "      <td>O</td>\n",
       "      <td>O</td>\n",
       "      <td>0.00</td>\n",
       "    </tr>\n",
       "    <tr>\n",
       "      <th>27</th>\n",
       "      <td>spinning</td>\n",
       "      <td>B-NEG</td>\n",
       "      <td>O</td>\n",
       "      <td>1.70</td>\n",
       "    </tr>\n",
       "    <tr>\n",
       "      <th>28</th>\n",
       "      <td>wheel</td>\n",
       "      <td>I-NEG</td>\n",
       "      <td>O</td>\n",
       "      <td>2.64</td>\n",
       "    </tr>\n",
       "    <tr>\n",
       "      <th>29</th>\n",
       "      <td>would</td>\n",
       "      <td>O</td>\n",
       "      <td>O</td>\n",
       "      <td>0.00</td>\n",
       "    </tr>\n",
       "    <tr>\n",
       "      <th>30</th>\n",
       "      <td>appear</td>\n",
       "      <td>O</td>\n",
       "      <td>O</td>\n",
       "      <td>0.00</td>\n",
       "    </tr>\n",
       "    <tr>\n",
       "      <th>31</th>\n",
       "      <td>when</td>\n",
       "      <td>O</td>\n",
       "      <td>O</td>\n",
       "      <td>0.00</td>\n",
       "    </tr>\n",
       "    <tr>\n",
       "      <th>32</th>\n",
       "      <td>running</td>\n",
       "      <td>O</td>\n",
       "      <td>O</td>\n",
       "      <td>0.00</td>\n",
       "    </tr>\n",
       "    <tr>\n",
       "      <th>33</th>\n",
       "      <td>office</td>\n",
       "      <td>B-NEG</td>\n",
       "      <td>B-NEU</td>\n",
       "      <td>6.90</td>\n",
       "    </tr>\n",
       "    <tr>\n",
       "      <th>34</th>\n",
       "      <td>mac</td>\n",
       "      <td>I-NEG</td>\n",
       "      <td>I-NEU</td>\n",
       "      <td>6.09</td>\n",
       "    </tr>\n",
       "    <tr>\n",
       "      <th>35</th>\n",
       "      <td>applications</td>\n",
       "      <td>I-NEG</td>\n",
       "      <td>I-NEU</td>\n",
       "      <td>5.14</td>\n",
       "    </tr>\n",
       "    <tr>\n",
       "      <th>36</th>\n",
       "      <td>such</td>\n",
       "      <td>O</td>\n",
       "      <td>O</td>\n",
       "      <td>0.00</td>\n",
       "    </tr>\n",
       "    <tr>\n",
       "      <th>37</th>\n",
       "      <td>as</td>\n",
       "      <td>O</td>\n",
       "      <td>O</td>\n",
       "      <td>0.00</td>\n",
       "    </tr>\n",
       "    <tr>\n",
       "      <th>38</th>\n",
       "      <td>word</td>\n",
       "      <td>B-NEG</td>\n",
       "      <td>B-NEU</td>\n",
       "      <td>8.16</td>\n",
       "    </tr>\n",
       "    <tr>\n",
       "      <th>39</th>\n",
       "      <td>or</td>\n",
       "      <td>O</td>\n",
       "      <td>O</td>\n",
       "      <td>0.00</td>\n",
       "    </tr>\n",
       "    <tr>\n",
       "      <th>40</th>\n",
       "      <td>excel</td>\n",
       "      <td>B-NEG</td>\n",
       "      <td>B-NEU</td>\n",
       "      <td>8.31</td>\n",
       "    </tr>\n",
       "    <tr>\n",
       "      <th>41</th>\n",
       "      <td>.</td>\n",
       "      <td>O</td>\n",
       "      <td>O</td>\n",
       "      <td>0.00</td>\n",
       "    </tr>\n",
       "    <tr>\n",
       "      <th>42</th>\n",
       "      <td>[SEP]</td>\n",
       "      <td>IGN</td>\n",
       "      <td>O</td>\n",
       "      <td>-0.00</td>\n",
       "    </tr>\n",
       "  </tbody>\n",
       "</table>\n",
       "</div>"
      ],
      "text/plain": [
       "          tokens labels  preds losses\n",
       "0           even      O      O   0.00\n",
       "1         though      O      O   0.00\n",
       "2             it      O      O   0.00\n",
       "3             is      O      O   0.00\n",
       "4        running      O      O   0.00\n",
       "5           snow  B-POS  B-NEU   7.71\n",
       "6        leopard  I-POS  I-NEU   5.84\n",
       "7              ,      O      O   0.00\n",
       "8              2      O      O   0.00\n",
       "9              .    IGN      O  -0.00\n",
       "10             4    IGN      O  -0.00\n",
       "11           ghz      O      O   0.01\n",
       "12            c2      O  B-NEU   4.23\n",
       "13           ##d    IGN  I-NEU  -0.00\n",
       "14            is      O      O   0.00\n",
       "15             a      O      O   0.00\n",
       "16           bit      O      O   0.00\n",
       "17            of      O      O   0.00\n",
       "18            an      O      O   0.00\n",
       "19          anti      O      O   0.00\n",
       "20         ##qua    IGN      O  -0.00\n",
       "21         ##ted    IGN      O  -0.00\n",
       "22           cpu  B-NEG  B-NEG   0.01\n",
       "23           and      O      O   0.00\n",
       "24          thus      O      O   0.00\n",
       "25           the      O      O   0.00\n",
       "26    occasional      O      O   0.00\n",
       "27      spinning  B-NEG      O   1.70\n",
       "28         wheel  I-NEG      O   2.64\n",
       "29         would      O      O   0.00\n",
       "30        appear      O      O   0.00\n",
       "31          when      O      O   0.00\n",
       "32       running      O      O   0.00\n",
       "33        office  B-NEG  B-NEU   6.90\n",
       "34           mac  I-NEG  I-NEU   6.09\n",
       "35  applications  I-NEG  I-NEU   5.14\n",
       "36          such      O      O   0.00\n",
       "37            as      O      O   0.00\n",
       "38          word  B-NEG  B-NEU   8.16\n",
       "39            or      O      O   0.00\n",
       "40         excel  B-NEG  B-NEU   8.31\n",
       "41             .      O      O   0.00\n",
       "42         [SEP]    IGN      O  -0.00"
      ]
     },
     "metadata": {},
     "output_type": "display_data"
    },
    {
     "data": {
      "text/html": [
       "<div>\n",
       "<style scoped>\n",
       "    .dataframe tbody tr th:only-of-type {\n",
       "        vertical-align: middle;\n",
       "    }\n",
       "\n",
       "    .dataframe tbody tr th {\n",
       "        vertical-align: top;\n",
       "    }\n",
       "\n",
       "    .dataframe thead th {\n",
       "        text-align: right;\n",
       "    }\n",
       "</style>\n",
       "<table border=\"1\" class=\"dataframe\">\n",
       "  <thead>\n",
       "    <tr style=\"text-align: right;\">\n",
       "      <th></th>\n",
       "      <th>tokens</th>\n",
       "      <th>labels</th>\n",
       "      <th>preds</th>\n",
       "      <th>losses</th>\n",
       "    </tr>\n",
       "  </thead>\n",
       "  <tbody>\n",
       "    <tr>\n",
       "      <th>0</th>\n",
       "      <td>i</td>\n",
       "      <td>O</td>\n",
       "      <td>O</td>\n",
       "      <td>0.00</td>\n",
       "    </tr>\n",
       "    <tr>\n",
       "      <th>1</th>\n",
       "      <td>re</td>\n",
       "      <td>O</td>\n",
       "      <td>O</td>\n",
       "      <td>0.00</td>\n",
       "    </tr>\n",
       "    <tr>\n",
       "      <th>2</th>\n",
       "      <td>##loaded</td>\n",
       "      <td>IGN</td>\n",
       "      <td>O</td>\n",
       "      <td>-0.00</td>\n",
       "    </tr>\n",
       "    <tr>\n",
       "      <th>3</th>\n",
       "      <td>with</td>\n",
       "      <td>O</td>\n",
       "      <td>O</td>\n",
       "      <td>0.00</td>\n",
       "    </tr>\n",
       "    <tr>\n",
       "      <th>4</th>\n",
       "      <td>windows</td>\n",
       "      <td>B-NEG</td>\n",
       "      <td>B-NEU</td>\n",
       "      <td>9.61</td>\n",
       "    </tr>\n",
       "    <tr>\n",
       "      <th>5</th>\n",
       "      <td>7</td>\n",
       "      <td>I-NEG</td>\n",
       "      <td>I-NEU</td>\n",
       "      <td>10.10</td>\n",
       "    </tr>\n",
       "    <tr>\n",
       "      <th>6</th>\n",
       "      <td>ultimate</td>\n",
       "      <td>I-NEG</td>\n",
       "      <td>I-NEU</td>\n",
       "      <td>10.39</td>\n",
       "    </tr>\n",
       "    <tr>\n",
       "      <th>7</th>\n",
       "      <td>,</td>\n",
       "      <td>O</td>\n",
       "      <td>O</td>\n",
       "      <td>0.00</td>\n",
       "    </tr>\n",
       "    <tr>\n",
       "      <th>8</th>\n",
       "      <td>and</td>\n",
       "      <td>O</td>\n",
       "      <td>O</td>\n",
       "      <td>0.00</td>\n",
       "    </tr>\n",
       "    <tr>\n",
       "      <th>9</th>\n",
       "      <td>the</td>\n",
       "      <td>O</td>\n",
       "      <td>O</td>\n",
       "      <td>0.00</td>\n",
       "    </tr>\n",
       "    <tr>\n",
       "      <th>10</th>\n",
       "      <td>blue</td>\n",
       "      <td>B-NEG</td>\n",
       "      <td>B-NEU</td>\n",
       "      <td>5.21</td>\n",
       "    </tr>\n",
       "    <tr>\n",
       "      <th>11</th>\n",
       "      <td>##tooth</td>\n",
       "      <td>IGN</td>\n",
       "      <td>I-NEU</td>\n",
       "      <td>-0.00</td>\n",
       "    </tr>\n",
       "    <tr>\n",
       "      <th>12</th>\n",
       "      <td>and</td>\n",
       "      <td>O</td>\n",
       "      <td>O</td>\n",
       "      <td>0.00</td>\n",
       "    </tr>\n",
       "    <tr>\n",
       "      <th>13</th>\n",
       "      <td>finger</td>\n",
       "      <td>B-NEG</td>\n",
       "      <td>B-NEU</td>\n",
       "      <td>6.92</td>\n",
       "    </tr>\n",
       "    <tr>\n",
       "      <th>14</th>\n",
       "      <td>##print</td>\n",
       "      <td>IGN</td>\n",
       "      <td>I-NEU</td>\n",
       "      <td>-0.00</td>\n",
       "    </tr>\n",
       "    <tr>\n",
       "      <th>15</th>\n",
       "      <td>reader</td>\n",
       "      <td>I-NEG</td>\n",
       "      <td>I-NEU</td>\n",
       "      <td>5.15</td>\n",
       "    </tr>\n",
       "    <tr>\n",
       "      <th>16</th>\n",
       "      <td>(</td>\n",
       "      <td>B-NEG</td>\n",
       "      <td>B-NEU</td>\n",
       "      <td>3.56</td>\n",
       "    </tr>\n",
       "    <tr>\n",
       "      <th>17</th>\n",
       "      <td>software</td>\n",
       "      <td>I-NEG</td>\n",
       "      <td>I-NEU</td>\n",
       "      <td>1.55</td>\n",
       "    </tr>\n",
       "    <tr>\n",
       "      <th>18</th>\n",
       "      <td>)</td>\n",
       "      <td>O</td>\n",
       "      <td>O</td>\n",
       "      <td>0.00</td>\n",
       "    </tr>\n",
       "    <tr>\n",
       "      <th>19</th>\n",
       "      <td>would</td>\n",
       "      <td>O</td>\n",
       "      <td>O</td>\n",
       "      <td>0.00</td>\n",
       "    </tr>\n",
       "    <tr>\n",
       "      <th>20</th>\n",
       "      <td>not</td>\n",
       "      <td>O</td>\n",
       "      <td>O</td>\n",
       "      <td>0.00</td>\n",
       "    </tr>\n",
       "    <tr>\n",
       "      <th>21</th>\n",
       "      <td>load</td>\n",
       "      <td>O</td>\n",
       "      <td>O</td>\n",
       "      <td>0.00</td>\n",
       "    </tr>\n",
       "    <tr>\n",
       "      <th>22</th>\n",
       "      <td>.</td>\n",
       "      <td>O</td>\n",
       "      <td>O</td>\n",
       "      <td>0.00</td>\n",
       "    </tr>\n",
       "    <tr>\n",
       "      <th>23</th>\n",
       "      <td>[SEP]</td>\n",
       "      <td>IGN</td>\n",
       "      <td>O</td>\n",
       "      <td>-0.00</td>\n",
       "    </tr>\n",
       "  </tbody>\n",
       "</table>\n",
       "</div>"
      ],
      "text/plain": [
       "      tokens labels  preds losses\n",
       "0          i      O      O   0.00\n",
       "1         re      O      O   0.00\n",
       "2   ##loaded    IGN      O  -0.00\n",
       "3       with      O      O   0.00\n",
       "4    windows  B-NEG  B-NEU   9.61\n",
       "5          7  I-NEG  I-NEU  10.10\n",
       "6   ultimate  I-NEG  I-NEU  10.39\n",
       "7          ,      O      O   0.00\n",
       "8        and      O      O   0.00\n",
       "9        the      O      O   0.00\n",
       "10      blue  B-NEG  B-NEU   5.21\n",
       "11   ##tooth    IGN  I-NEU  -0.00\n",
       "12       and      O      O   0.00\n",
       "13    finger  B-NEG  B-NEU   6.92\n",
       "14   ##print    IGN  I-NEU  -0.00\n",
       "15    reader  I-NEG  I-NEU   5.15\n",
       "16         (  B-NEG  B-NEU   3.56\n",
       "17  software  I-NEG  I-NEU   1.55\n",
       "18         )      O      O   0.00\n",
       "19     would      O      O   0.00\n",
       "20       not      O      O   0.00\n",
       "21      load      O      O   0.00\n",
       "22         .      O      O   0.00\n",
       "23     [SEP]    IGN      O  -0.00"
      ]
     },
     "metadata": {},
     "output_type": "display_data"
    }
   ],
   "source": [
    "def get_samples(df):\n",
    "    for _, row in df.iterrows():\n",
    "        labels, preds, tokens, losses = [], [], [], []\n",
    "        for i, mask in enumerate(row[\"attention_mask\"]):\n",
    "            if i not in {0, len(row[\"attention_mask\"])}:\n",
    "                labels.append(row[\"labels\"][i])\n",
    "                preds.append(row[\"predicted_label\"][i])\n",
    "                tokens.append(row[\"input_tokens\"][i])\n",
    "                losses.append(f\"{row['loss'][i]:.2f}\")\n",
    "        df_tmp = pd.DataFrame({\"tokens\": tokens, \"labels\": labels, \n",
    "                               \"preds\": preds, \"losses\": losses}).T\n",
    "        yield df_tmp\n",
    "\n",
    "df_validation[\"total_loss\"] = df_validation[\"loss\"].apply(sum)\n",
    "df_tmp = df_validation.sort_values(by=\"total_loss\", ascending=False).head(3)\n",
    "\n",
    "for sample in get_samples(df_tmp):\n",
    "    display(sample.T)\n",
    "     "
   ]
  },
  {
   "cell_type": "markdown",
   "metadata": {},
   "source": [
    "Errors could be from human / annotation errors: United Nations is ORG, not PER, similar to Central African Republic. This can happen as data was annotated using rule based, it is better with human annotations, but mistakes can always occur."
   ]
  },
  {
   "cell_type": "code",
   "execution_count": 36,
   "metadata": {},
   "outputs": [],
   "source": [
    "df_tmp = df_validation.loc[df_validation[\"input_tokens\"].apply(lambda x: u\"\\u2581(\" in x)].head(2)\n",
    "for sample in get_samples(df_tmp):\n",
    "    display(sample.T)"
   ]
  },
  {
   "cell_type": "markdown",
   "metadata": {},
   "source": [
    "## 2.8. <a id='toc2_8_'></a>[Save model](#toc0_)"
   ]
  },
  {
   "cell_type": "code",
   "execution_count": 37,
   "metadata": {},
   "outputs": [],
   "source": [
    "trainer.save_model('model/distilbert-base-uncased-absa-resample')\n"
   ]
  },
  {
   "cell_type": "markdown",
   "metadata": {},
   "source": [
    "## 2.9. <a id='toc2_9_'></a>[Load saved model](#toc0_)"
   ]
  },
  {
   "cell_type": "markdown",
   "metadata": {},
   "source": [
    "### 2.9.1. <a id='toc2_9_1_'></a>[Load model manually](#toc0_)"
   ]
  },
  {
   "cell_type": "code",
   "execution_count": 38,
   "metadata": {},
   "outputs": [],
   "source": [
    "from transformers import AutoModelForTokenClassification\n",
    "\n",
    "# Reload the model\n",
    "loaded_model = AutoModelForTokenClassification.from_pretrained('model/distilbert-base-uncased-absa-resample').to(device) #output_model_dir\n",
    "loaded_tokenizer = AutoTokenizer.from_pretrained('model/distilbert-base-uncased-absa-resample')\n"
   ]
  },
  {
   "cell_type": "code",
   "execution_count": 39,
   "metadata": {},
   "outputs": [
    {
     "name": "stdout",
     "output_type": "stream",
     "text": [
      "It rarely works and when it does it's incredibly slow.\n",
      "[{'term': 'works', 'polarity': 'negative', 'from': '10', 'to': '15'}]\n"
     ]
    }
   ],
   "source": [
    "num = 99\n",
    "sample_input = df_train.iloc[num]['text']\n",
    "print(sample_input)\n",
    "print(df_train.iloc[num]['aspects'])"
   ]
  },
  {
   "cell_type": "code",
   "execution_count": 40,
   "metadata": {},
   "outputs": [],
   "source": [
    "# Assuming you have some input data\n",
    "input_data = [sample_input]\n",
    "\n",
    "# Tokenize and get predictions\n",
    "inputs = loaded_tokenizer(input_data, is_split_into_words=True, return_tensors=\"pt\")\n",
    "\n",
    "input_ids = inputs[\"input_ids\"].to(device)\n",
    "attention_mask = inputs[\"attention_mask\"].to(device)\n",
    "\n",
    "# Make predictions\n",
    "with torch.no_grad():\n",
    "  outputs = loaded_model(input_ids, attention_mask)\n",
    "\n",
    "predicted_label_idx = torch.argmax(outputs.logits, axis=-1).cpu().numpy()\n",
    "df_res = pd.DataFrame({'predicted_label': predicted_label_idx.tolist(), \n",
    "                      'input_ids': inputs['input_ids'].numpy().tolist()}\n",
    "                      )"
   ]
  },
  {
   "cell_type": "code",
   "execution_count": 41,
   "metadata": {},
   "outputs": [
    {
     "data": {
      "text/html": [
       "<div>\n",
       "<style scoped>\n",
       "    .dataframe tbody tr th:only-of-type {\n",
       "        vertical-align: middle;\n",
       "    }\n",
       "\n",
       "    .dataframe tbody tr th {\n",
       "        vertical-align: top;\n",
       "    }\n",
       "\n",
       "    .dataframe thead th {\n",
       "        text-align: right;\n",
       "    }\n",
       "</style>\n",
       "<table border=\"1\" class=\"dataframe\">\n",
       "  <thead>\n",
       "    <tr style=\"text-align: right;\">\n",
       "      <th></th>\n",
       "      <th>predicted_label</th>\n",
       "      <th>input_ids</th>\n",
       "      <th>input_tokens</th>\n",
       "      <th>predicted_label_text</th>\n",
       "    </tr>\n",
       "  </thead>\n",
       "  <tbody>\n",
       "    <tr>\n",
       "      <th>0</th>\n",
       "      <td>8</td>\n",
       "      <td>101</td>\n",
       "      <td>[CLS]</td>\n",
       "      <td>O</td>\n",
       "    </tr>\n",
       "    <tr>\n",
       "      <th>0</th>\n",
       "      <td>8</td>\n",
       "      <td>2009</td>\n",
       "      <td>it</td>\n",
       "      <td>O</td>\n",
       "    </tr>\n",
       "    <tr>\n",
       "      <th>0</th>\n",
       "      <td>8</td>\n",
       "      <td>6524</td>\n",
       "      <td>rarely</td>\n",
       "      <td>O</td>\n",
       "    </tr>\n",
       "    <tr>\n",
       "      <th>0</th>\n",
       "      <td>1</td>\n",
       "      <td>2573</td>\n",
       "      <td>works</td>\n",
       "      <td>B-NEG</td>\n",
       "    </tr>\n",
       "    <tr>\n",
       "      <th>0</th>\n",
       "      <td>8</td>\n",
       "      <td>1998</td>\n",
       "      <td>and</td>\n",
       "      <td>O</td>\n",
       "    </tr>\n",
       "    <tr>\n",
       "      <th>0</th>\n",
       "      <td>8</td>\n",
       "      <td>2043</td>\n",
       "      <td>when</td>\n",
       "      <td>O</td>\n",
       "    </tr>\n",
       "    <tr>\n",
       "      <th>0</th>\n",
       "      <td>8</td>\n",
       "      <td>2009</td>\n",
       "      <td>it</td>\n",
       "      <td>O</td>\n",
       "    </tr>\n",
       "    <tr>\n",
       "      <th>0</th>\n",
       "      <td>8</td>\n",
       "      <td>2515</td>\n",
       "      <td>does</td>\n",
       "      <td>O</td>\n",
       "    </tr>\n",
       "    <tr>\n",
       "      <th>0</th>\n",
       "      <td>8</td>\n",
       "      <td>2009</td>\n",
       "      <td>it</td>\n",
       "      <td>O</td>\n",
       "    </tr>\n",
       "    <tr>\n",
       "      <th>0</th>\n",
       "      <td>8</td>\n",
       "      <td>1005</td>\n",
       "      <td>'</td>\n",
       "      <td>O</td>\n",
       "    </tr>\n",
       "    <tr>\n",
       "      <th>0</th>\n",
       "      <td>8</td>\n",
       "      <td>1055</td>\n",
       "      <td>s</td>\n",
       "      <td>O</td>\n",
       "    </tr>\n",
       "    <tr>\n",
       "      <th>0</th>\n",
       "      <td>8</td>\n",
       "      <td>11757</td>\n",
       "      <td>incredibly</td>\n",
       "      <td>O</td>\n",
       "    </tr>\n",
       "    <tr>\n",
       "      <th>0</th>\n",
       "      <td>8</td>\n",
       "      <td>4030</td>\n",
       "      <td>slow</td>\n",
       "      <td>O</td>\n",
       "    </tr>\n",
       "    <tr>\n",
       "      <th>0</th>\n",
       "      <td>8</td>\n",
       "      <td>1012</td>\n",
       "      <td>.</td>\n",
       "      <td>O</td>\n",
       "    </tr>\n",
       "    <tr>\n",
       "      <th>0</th>\n",
       "      <td>8</td>\n",
       "      <td>102</td>\n",
       "      <td>[SEP]</td>\n",
       "      <td>O</td>\n",
       "    </tr>\n",
       "  </tbody>\n",
       "</table>\n",
       "</div>"
      ],
      "text/plain": [
       "  predicted_label input_ids input_tokens predicted_label_text\n",
       "0               8       101        [CLS]                    O\n",
       "0               8      2009           it                    O\n",
       "0               8      6524       rarely                    O\n",
       "0               1      2573        works                B-NEG\n",
       "0               8      1998          and                    O\n",
       "0               8      2043         when                    O\n",
       "0               8      2009           it                    O\n",
       "0               8      2515         does                    O\n",
       "0               8      2009           it                    O\n",
       "0               8      1005            '                    O\n",
       "0               8      1055            s                    O\n",
       "0               8     11757   incredibly                    O\n",
       "0               8      4030         slow                    O\n",
       "0               8      1012            .                    O\n",
       "0               8       102        [SEP]                    O"
      ]
     },
     "execution_count": 41,
     "metadata": {},
     "output_type": "execute_result"
    }
   ],
   "source": [
    "index2tag_new = loaded_model.config.id2label.copy()\n",
    "index2tag_new[-100] = \"IGN\"\n",
    "df_res[\"input_tokens\"] = df_res[\"input_ids\"].apply(\n",
    "    lambda x: loaded_tokenizer.convert_ids_to_tokens(x))\n",
    "df_res[\"predicted_label_text\"] = df_res[\"predicted_label\"].apply(\n",
    "    lambda x: [index2tag_new[i] for i in x])\n",
    "df_res['predicted_label'] = df_res.apply(\n",
    "    lambda x: x['predicted_label'][:len(x['input_ids'])], axis=1)\n",
    "df_res['predicted_label_text'] = df_res.apply(\n",
    "    lambda x: x['predicted_label_text'][:len(x['input_ids'])], axis=1)\n",
    "\n",
    "df_res_tokens = df_res.apply(pd.Series.explode)\n",
    "\n",
    "df_res_tokens"
   ]
  },
  {
   "cell_type": "markdown",
   "metadata": {},
   "source": [
    "### 2.9.2. <a id='toc2_9_2_'></a>[Pipeline](#toc0_)"
   ]
  },
  {
   "cell_type": "code",
   "execution_count": 42,
   "metadata": {},
   "outputs": [
    {
     "data": {
      "text/plain": [
       "[{'entity_group': 'NEG',\n",
       "  'score': 0.92406064,\n",
       "  'word': 'works',\n",
       "  'start': 10,\n",
       "  'end': 15}]"
      ]
     },
     "execution_count": 42,
     "metadata": {},
     "output_type": "execute_result"
    }
   ],
   "source": [
    "from transformers import pipeline\n",
    "\n",
    "token_classifier = pipeline(\n",
    "    \"token-classification\", model='model/distilbert-base-uncased-absa', aggregation_strategy=\"simple\"\n",
    ")\n",
    "token_classifier(sample_input)"
   ]
  },
  {
   "cell_type": "markdown",
   "metadata": {},
   "source": [
    "# DistilBert with resampling"
   ]
  },
  {
   "cell_type": "code",
   "execution_count": 43,
   "metadata": {},
   "outputs": [],
   "source": [
    "# def custom_sampling_based_on_score(df, score_column='Score', target_samples_per_score=100):\n",
    "#     sampled_data = []\n",
    "    \n",
    "#     # Calculate the sampling probabilities based on the scores\n",
    "#     scores = df[score_column].unique() \n",
    "#     probabilities = scores / sum(scores)\n",
    "\n",
    "#     probabilities_df = pd.DataFrame({'probability': probabilities}, index=scores)\n",
    "#     probabilities_df['num_samples'] = np.round(probabilities_df['probability'] * target_samples_per_score).astype(int)\n",
    "#     probabilities_df.loc[probabilities_df.index[-1], 'num_samples'] += target_samples_per_score - probabilities_df['num_samples'].sum()\n",
    "#     # Determine the number of samples to draw for each score\n",
    "#     # samples_per_score = np.round(probabilities * target_samples_per_score).astype(int)\n",
    "    \n",
    "#     # Ensure the total number of samples is equal to the target_samples_per_score\n",
    "#     # samples_per_score[-1] += target_samples_per_score - samples_per_score.sum()\n",
    "    \n",
    "#     # Iterate over unique scores and sample sentences accordingly\n",
    "#     for score_value in probabilities_df.index:\n",
    "#         num_samples = probabilities_df.loc[score_value]['num_samples']\n",
    "        \n",
    "#         # Extract sentences with a specific score\n",
    "#         subset = df[df[score_column] == score_value]\n",
    "        \n",
    "#         # Sample sentences based on the calculated number of samples\n",
    "#         sampled_subset = subset.sample(n=int(num_samples), replace=True, random_state=42)\n",
    "        \n",
    "#         # Append the sampled subset to the list\n",
    "#         sampled_data.append(sampled_subset)\n",
    "    \n",
    "#     # Concatenate the sampled subsets to create the final upsampled DataFrame\n",
    "#     custom_sampled_df = pd.concat(sampled_data, ignore_index=True)\n",
    "    \n",
    "#     return custom_sampled_df\n",
    "\n"
   ]
  },
  {
   "cell_type": "code",
   "execution_count": 44,
   "metadata": {},
   "outputs": [],
   "source": [
    "# def custom_sampling_based_on_score(df):\n",
    "#     sampled_data = []\n",
    "    \n",
    "#     df['score'] = df['tags'].apply(lambda x: sum([ 0 if tag.startswith('O') else 1 for tag in x  ]) + 1)\n",
    "    \n",
    "#     custom_sampled_df = pd.DataFrame(columns=df.columns)\n",
    "\n",
    "#     for idx in range(len(df)):\n",
    "#         num_samples = df.iloc[idx]['score']\n",
    "#         sent = df.iloc[idx].to_dict()\n",
    "\n",
    "#         for i in range(num_samples):\n",
    "#         # Append the sampled subset to the list\n",
    "#           sampled_data.append(sent)\n",
    "#           # custom_sampled_df = pd.concat([custom_sampled_df, df.iloc[idx]], ignore_index=True, axis = 0)\n",
    "#     # Concatenate the sampled subsets to create the final upsampled DataFrame\n",
    "#     custom_sampled_df = pd.concat([custom_sampled_df, pd.DataFrame(sampled_data)], ignore_index=True)\n",
    "    \n",
    "#     return custom_sampled_df\n",
    "\n"
   ]
  },
  {
   "cell_type": "code",
   "execution_count": 45,
   "metadata": {},
   "outputs": [
    {
     "ename": "NameError",
     "evalue": "name 'custom_sampling_based_on_score' is not defined",
     "output_type": "error",
     "traceback": [
      "\u001b[0;31m---------------------------------------------------------------------------\u001b[0m",
      "\u001b[0;31mNameError\u001b[0m                                 Traceback (most recent call last)",
      "Cell \u001b[0;32mIn[45], line 5\u001b[0m\n\u001b[1;32m      2\u001b[0m target_samples_per_score \u001b[38;5;241m=\u001b[39m \u001b[38;5;241m3000\u001b[39m\n\u001b[1;32m      4\u001b[0m \u001b[38;5;66;03m# Use the custom sampling method\u001b[39;00m\n\u001b[0;32m----> 5\u001b[0m custom_sampled_df \u001b[38;5;241m=\u001b[39m \u001b[43mcustom_sampling_based_on_score\u001b[49m(df_train_ori\u001b[38;5;241m.\u001b[39mcopy(), \u001b[38;5;124m'\u001b[39m\u001b[38;5;124msCR\u001b[39m\u001b[38;5;124m'\u001b[39m)\n\u001b[1;32m      7\u001b[0m \u001b[38;5;66;03m# Check the distribution of scores in the custom sampled DataFrame\u001b[39;00m\n\u001b[1;32m      8\u001b[0m \u001b[38;5;66;03m# print(custom_sampled_df['entities_score'].value_counts())\u001b[39;00m\n\u001b[1;32m      9\u001b[0m \u001b[38;5;28mprint\u001b[39m(\u001b[38;5;28mlen\u001b[39m(custom_sampled_df))\n",
      "\u001b[0;31mNameError\u001b[0m: name 'custom_sampling_based_on_score' is not defined"
     ]
    }
   ],
   "source": [
    "\n",
    "# Set the target number of samples per score\n",
    "target_samples_per_score = 3000\n",
    "\n",
    "# Use the custom sampling method\n",
    "custom_sampled_df = custom_sampling_based_on_score(df_train_ori.copy(), 'sCR')\n",
    "\n",
    "# Check the distribution of scores in the custom sampled DataFrame\n",
    "# print(custom_sampled_df['entities_score'].value_counts())\n",
    "print(len(custom_sampled_df))"
   ]
  },
  {
   "cell_type": "code",
   "execution_count": null,
   "metadata": {},
   "outputs": [],
   "source": [
    "# Perform aspect type counts per each dataset split\n",
    "split2freqs = defaultdict(Counter)\n",
    "\n",
    "for row in df_train_ori[\"tags\"]:\n",
    "    for tag in row:\n",
    "        # if tag.startswith(\"B\"):\n",
    "        #     tag_type = tag.split(\"-\")[1]\n",
    "        split2freqs['train'][tag] += 1\n",
    "                \n",
    "pd.DataFrame.from_dict(split2freqs, orient=\"index\")"
   ]
  },
  {
   "cell_type": "code",
   "execution_count": null,
   "metadata": {},
   "outputs": [],
   "source": [
    "for row in custom_sampled_df[\"tags\"]:\n",
    "    for tag in row:\n",
    "        # if tag.startswith(\"B\"):\n",
    "        #     tag_type = tag.split(\"-\")[1]\n",
    "        split2freqs['sCR'][tag] += 1\n",
    "\n",
    "pd.DataFrame.from_dict(split2freqs, orient=\"index\")"
   ]
  },
  {
   "cell_type": "code",
   "execution_count": null,
   "metadata": {},
   "outputs": [],
   "source": [
    "from math import log,sqrt, ceil\n",
    "\n",
    "def custom_sampling_based_on_score(df, method):\n",
    "  # Get stats of the class distribution of the dataset\n",
    "  labels = sum(df['tags'],[])\n",
    "  num_tokens = len(labels)\n",
    "  ent = [label[2:] for label in labels if label != 'O']\n",
    "  stats = Counter(ent)\n",
    "  for key in stats:\n",
    "      #Use frequency instead of count\n",
    "      stats[key] = stats[key]/num_tokens\n",
    "\n",
    "  if method not in ['sc','sCR','sCRD','nsCRD']:\n",
    "    raise ValueError(\"Unidentified Resampling Method\")\n",
    "\n",
    "\n",
    "  \n",
    "  # df['score'] = df['tags'].apply(lambda x: sum([ 0 if tag.startswith('O') else 1 for tag in x  ]) + 1)\n",
    "  \n",
    "  custom_sampled_df = pd.DataFrame(columns=df.columns)\n",
    "\n",
    "  # for idx in range(len(df)):\n",
    "  #     num_samples = df.iloc[idx]['score']\n",
    "  #     sent = df.iloc[idx].to_dict()\n",
    "\n",
    "  #     for i in range(num_samples):\n",
    "  #     # Append the sampled subset to the list\n",
    "  #       sampled_data.append(sent)\n",
    "  #       # custom_sampled_df = pd.concat([custom_sampled_df, df.iloc[idx]], ignore_index=True, axis = 0)\n",
    "  # # Concatenate the sampled subsets to create the final upsampled DataFrame\n",
    "  # custom_sampled_df = pd.concat([custom_sampled_df, pd.DataFrame(sampled_data)], ignore_index=True)\n",
    "  \n",
    "  for sen in range(len(df)):\n",
    "    sampled_data = [] \n",
    "    # Resampling time can at least be 1, which means sentence without \n",
    "    # entity will be reserved in the dataset  \n",
    "    rsp_time = 1\n",
    "    sen_len = len(df.iloc[sen]['tags'])\n",
    "    ents = Counter([label[2:] for label in df.iloc[sen]['tags'] if label != 'O'])\n",
    "          # Pass if there's no entity in a sentence\n",
    "    \n",
    "    \n",
    "    if ents:\n",
    "      for ent in ents.keys():\n",
    "        # Resampling method selection and resampling time calculation, \n",
    "        # see section 'Resampling Functions' in our paper for details.\n",
    "        if method == 'sc':\n",
    "          rsp_time += ents[ent]\n",
    "        if method == 'sCR' or method == 'sCRD':\n",
    "          weight = -log(stats[ent],2)\n",
    "          rsp_time += ents[ent]*weight\n",
    "        if method == 'nsCRD':\n",
    "          weight = -log(stats[ent],2)\n",
    "          rsp_time += sqrt(ents[ent])*weight\n",
    "        if method == 'sCR':\n",
    "          rsp_time = sqrt(rsp_time)\n",
    "        if method == 'sCRD' or method == 'nsCRD':\n",
    "          rsp_time = rsp_time/sqrt(sen_len)\n",
    "      # Ceiling to ensure the integrity of resamling time\n",
    "      rsp_time = ceil(rsp_time) \n",
    "    \n",
    "    for t in range(rsp_time):\n",
    "      # for token in range(sen_len):\n",
    "      sampled_data.append(df.iloc[sen].to_dict())\n",
    "\n",
    "\n",
    "    custom_sampled_df = pd.concat([custom_sampled_df, pd.DataFrame(sampled_data)], ignore_index=True)\n",
    "\n",
    "\n",
    "\n",
    "\n",
    "  return custom_sampled_df\n",
    "\n"
   ]
  },
  {
   "cell_type": "code",
   "execution_count": null,
   "metadata": {},
   "outputs": [],
   "source": []
  },
  {
   "cell_type": "code",
   "execution_count": null,
   "metadata": {},
   "outputs": [],
   "source": []
  },
  {
   "cell_type": "code",
   "execution_count": null,
   "metadata": {},
   "outputs": [],
   "source": []
  }
 ],
 "metadata": {
  "kernelspec": {
   "display_name": "sentilens_env",
   "language": "python",
   "name": "python3"
  },
  "language_info": {
   "codemirror_mode": {
    "name": "ipython",
    "version": 3
   },
   "file_extension": ".py",
   "mimetype": "text/x-python",
   "name": "python",
   "nbconvert_exporter": "python",
   "pygments_lexer": "ipython3",
   "version": "3.9.18"
  }
 },
 "nbformat": 4,
 "nbformat_minor": 2
}
