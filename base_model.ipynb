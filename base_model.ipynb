{
 "cells": [
  {
   "cell_type": "markdown",
   "metadata": {},
   "source": [
    "<div style='font-size: 3em'>SentiLens - Uncover reviews' hidden emotion</div>\n",
    "\n",
    "__Prepared by:__ Tina Vu</br>\n",
    "__Date:__ 20231208</br>\n",
    "\n",
    "Employing aspect-based sentiment analysis (ABSA) to extract valuable feature insights from e-commerce product reviews, thereby empowering consumers to make more informed purchasing decisions and enhancing their overall user experience on the platform.\n",
    "\n",
    "Utilizing manually annotated reviews for aspect sentiment analysis to extract aspects and predict sentiments from reviews. This enables consumers to obtain a condensed overview of sentiments related to various product features, eliminating the need to delve into an extensive array of reviews. As a result, the decision-making process becomes more streamlined and user-friendly.\n",
    "\n",
    "__Approach:__\n",
    "\n",
    "ABSA\n",
    "\n",
    "__Phase:__\n",
    "1. Supervised ABSA (What, How)\n",
    "2. Unsupervised ABSA\n",
    "3. Add 'Why' into ABSA\n",
    "\n",
    "<div style='font-size: 2em'>Phase 1 - Aspect Extration</div>"
   ]
  },
  {
   "cell_type": "markdown",
   "metadata": {},
   "source": [
    "**Table of contents**<a id='toc0_'></a>    \n",
    "- 1. [Import & prepare dataset](#toc1_)    \n",
    "  - 1.1. [Import data](#toc1_1_)    \n",
    "  - 1.2. [Preparing dataset for modelling](#toc1_2_)    \n",
    "    - 1.2.1. [Unified BIO tagging encode](#toc1_2_1_)    \n",
    "\n",
    "<!-- vscode-jupyter-toc-config\n",
    "\tnumbering=true\n",
    "\tanchor=true\n",
    "\tflat=false\n",
    "\tminLevel=1\n",
    "\tmaxLevel=6\n",
    "\t/vscode-jupyter-toc-config -->\n",
    "<!-- THIS CELL WILL BE REPLACED ON TOC UPDATE. DO NOT WRITE YOUR TEXT IN THIS CELL -->"
   ]
  },
  {
   "cell_type": "code",
   "execution_count": 328,
   "metadata": {},
   "outputs": [
    {
     "name": "stderr",
     "output_type": "stream",
     "text": [
      "[nltk_data] Downloading package punkt to /Users/tina.vu/nltk_data...\n",
      "[nltk_data]   Package punkt is already up-to-date!\n",
      "[nltk_data] Downloading package opinion_lexicon to\n",
      "[nltk_data]     /Users/tina.vu/nltk_data...\n",
      "[nltk_data]   Package opinion_lexicon is already up-to-date!\n"
     ]
    }
   ],
   "source": [
    "from datasets import load_dataset\n",
    "import numpy as np\n",
    "import pandas as pd\n",
    "import re\n",
    "\n",
    "import plotly.graph_objects as go\n",
    "from plotly.subplots import make_subplots\n",
    "\n",
    "import nltk\n",
    "from nltk.tokenize import word_tokenize\n",
    "from nltk.corpus import stopwords, opinion_lexicon\n",
    "\n",
    "# Download NLTK resources (if not already downloaded)\n",
    "nltk.download('punkt')\n",
    "nltk.download('opinion_lexicon')\n",
    "\n",
    "# Load positive and negative words from the opinion lexicon\n",
    "POSITIVE_WORDS = set(opinion_lexicon.positive())\n",
    "NEGATIVE_WORDS = set(opinion_lexicon.negative())\n",
    "EN_STOP_WORDS = set(stopwords.words('english'))\n",
    "CONTEXT_SWITCHING_WORDS = ['but', 'yet', 'however', 'nevertheless', 'still', 'nonetheless', 'although', 'though', 'even though', 'while']\n",
    "# nltk.download()\n",
    "\n",
    "\n",
    "from sklearn.model_selection import train_test_split\n",
    "from sklearn.preprocessing import StandardScaler\n",
    "from sklearn.decomposition import PCA\n",
    "from sklearn.metrics import accuracy_score, classification_report\n",
    "\n",
    "\n",
    "from sklearn_crfsuite import CRF\n",
    "from sklearn.ensemble import RandomForestClassifier\n",
    "\n"
   ]
  },
  {
   "cell_type": "markdown",
   "metadata": {},
   "source": [
    "# 1. <a id='toc1_'></a>[Import & prepare dataset](#toc0_)"
   ]
  },
  {
   "cell_type": "markdown",
   "metadata": {},
   "source": [
    "## 1.1. <a id='toc1_1_'></a>[Import data](#toc0_)\n",
    "\n",
    "We will load laptop reviews dataset with aspect term & sentiment annotations.\n",
    "\n",
    "The dataset comes in two parts:\n",
    "- train: 3,048 records\n",
    "- test: 800 records\n",
    "\n",
    "Each record is a sentence with zero, one or multiple aspect terms. Each aspect term has the following features:\n",
    "- start character index\n",
    "- end character index\n",
    "- sentiment/ polarity (positive or negative)"
   ]
  },
  {
   "cell_type": "code",
   "execution_count": 2,
   "metadata": {},
   "outputs": [
    {
     "data": {
      "text/plain": [
       "(3048, 3)"
      ]
     },
     "execution_count": 2,
     "metadata": {},
     "output_type": "execute_result"
    }
   ],
   "source": [
    "df_train = pd.read_json('data/laptop/train.json')\n",
    "df_val = pd.read_json('data/laptop/validate.json') # This will only be used for the very last step to evaluate how well the model is, but is input now for validating the BIO tagging to ensure the function works properly\n",
    "df_train.shape"
   ]
  },
  {
   "cell_type": "code",
   "execution_count": 3,
   "metadata": {},
   "outputs": [
    {
     "data": {
      "text/html": [
       "<div>\n",
       "<style scoped>\n",
       "    .dataframe tbody tr th:only-of-type {\n",
       "        vertical-align: middle;\n",
       "    }\n",
       "\n",
       "    .dataframe tbody tr th {\n",
       "        vertical-align: top;\n",
       "    }\n",
       "\n",
       "    .dataframe thead th {\n",
       "        text-align: right;\n",
       "    }\n",
       "</style>\n",
       "<table border=\"1\" class=\"dataframe\">\n",
       "  <thead>\n",
       "    <tr style=\"text-align: right;\">\n",
       "      <th></th>\n",
       "      <th>id</th>\n",
       "      <th>text</th>\n",
       "      <th>aspects</th>\n",
       "    </tr>\n",
       "  </thead>\n",
       "  <tbody>\n",
       "    <tr>\n",
       "      <th>0</th>\n",
       "      <td>2339</td>\n",
       "      <td>I charge it at night and skip taking the cord ...</td>\n",
       "      <td>[{'term': 'cord', 'polarity': 'neutral', 'from...</td>\n",
       "    </tr>\n",
       "    <tr>\n",
       "      <th>1</th>\n",
       "      <td>812</td>\n",
       "      <td>I bought a HP Pavilion DV4-1222nr laptop and h...</td>\n",
       "      <td>[{'term': '', 'polarity': '', 'from': 0, 'to':...</td>\n",
       "    </tr>\n",
       "    <tr>\n",
       "      <th>2</th>\n",
       "      <td>1316</td>\n",
       "      <td>The tech guy then said the service center does...</td>\n",
       "      <td>[{'term': 'service center', 'polarity': 'negat...</td>\n",
       "    </tr>\n",
       "    <tr>\n",
       "      <th>3</th>\n",
       "      <td>2328</td>\n",
       "      <td>I investigated netbooks and saw the Toshiba NB...</td>\n",
       "      <td>[{'term': '', 'polarity': '', 'from': 0, 'to':...</td>\n",
       "    </tr>\n",
       "    <tr>\n",
       "      <th>4</th>\n",
       "      <td>2193</td>\n",
       "      <td>The other day I had a presentation to do for a...</td>\n",
       "      <td>[{'term': '', 'polarity': '', 'from': 0, 'to':...</td>\n",
       "    </tr>\n",
       "  </tbody>\n",
       "</table>\n",
       "</div>"
      ],
      "text/plain": [
       "     id                                               text  \\\n",
       "0  2339  I charge it at night and skip taking the cord ...   \n",
       "1   812  I bought a HP Pavilion DV4-1222nr laptop and h...   \n",
       "2  1316  The tech guy then said the service center does...   \n",
       "3  2328  I investigated netbooks and saw the Toshiba NB...   \n",
       "4  2193  The other day I had a presentation to do for a...   \n",
       "\n",
       "                                             aspects  \n",
       "0  [{'term': 'cord', 'polarity': 'neutral', 'from...  \n",
       "1  [{'term': '', 'polarity': '', 'from': 0, 'to':...  \n",
       "2  [{'term': 'service center', 'polarity': 'negat...  \n",
       "3  [{'term': '', 'polarity': '', 'from': 0, 'to':...  \n",
       "4  [{'term': '', 'polarity': '', 'from': 0, 'to':...  "
      ]
     },
     "execution_count": 3,
     "metadata": {},
     "output_type": "execute_result"
    }
   ],
   "source": [
    "df_train.head()"
   ]
  },
  {
   "cell_type": "markdown",
   "metadata": {},
   "source": [
    "## 1.2. <a id='toc1_2_'></a>[Preparing dataset for modelling](#toc0_)\n",
    "\n",
    "The task we are solving is Named Entity Recognition (NER) which is a sequential labeling task, a.k.a we would like to predict whether a token (word) in each sentence is part of an aspect term or not.\n",
    "\n",
    "In order to prepare the data for NER task, we need to label our tokens. Here, I implemented a unified BIO tagging technique which combines aspect boundaries and aspect sentiment.\n",
    "\n",
    "Word boundaries:\n",
    "- B: indicates the 1st word in the aspect term\n",
    "- I: indicates the subsequent word in the aspect term\n",
    "- O: indicates words that are not part of any aspect term\n",
    "\n",
    "Aspect sentiment:\n",
    "- POS: positive\n",
    "- NEU: neutral\n",
    "- NEG: conflict\n",
    "\n",
    "This BIO label technique is more effective in recognizing unigram and n-gram aspect terms comparing to a binary classification (whether a token is part of an aspect). By using a unified a approach, we can combine two tasks: aspect extraction and sentiment classification into one task."
   ]
  },
  {
   "cell_type": "code",
   "execution_count": 4,
   "metadata": {},
   "outputs": [
    {
     "data": {
      "text/plain": [
       "(3036, 3)"
      ]
     },
     "execution_count": 4,
     "metadata": {},
     "output_type": "execute_result"
    }
   ],
   "source": [
    "# First, I will need to drop some duplicated data in our training dataset, as identified in the EDA process.\n",
    "df_train.drop_duplicates(subset='text', inplace=True)\n",
    "\n",
    "# We have removed 12 duplicated records in our training dataset\n",
    "df_train.shape"
   ]
  },
  {
   "cell_type": "markdown",
   "metadata": {},
   "source": [
    "### 1.2.1. <a id='toc1_2_1_'></a>[BIO tagging encode](#toc0_)"
   ]
  },
  {
   "cell_type": "markdown",
   "metadata": {},
   "source": [
    "Here, I defined a function to encode our sentences' aspects using a unified BIO tagging technique (<a href='https://arxiv.org/pdf/1811.05082.pdf'>reference</a>) that combines aspect boundaries and aspect sentiment in a single label.\n",
    "\n",
    "Word boundaries:\n",
    "- B: indicates the 1st word in the aspect term\n",
    "- I: indicates the subsequent word in the aspect term\n",
    "- O: indicates words that are not part of any aspect term\n",
    "\n",
    "Aspect sentiment:\n",
    "- POS: positive\n",
    "- NEU: neutral\n",
    "- NEG: conflict\n",
    "\n",
    "Unified BIO tagging will be like: B-NEU, I-NEU\n",
    "\n",
    "For example:\n",
    "['I', 'charge', 'it', 'at', 'night', 'and', 'skip', 'taking', 'the', 'cord', 'with', 'me', 'because', 'of', 'the', 'good', 'battery', 'life', '.']\n",
    "['O', 'O', 'O', 'O', 'O', 'O', 'O', 'O', 'O', 'B-NEU', 'I-NEU', 'O', 'O', 'O', 'O', 'O', 'B-POS', 'I-POS', 'I-POS']"
   ]
  },
  {
   "cell_type": "markdown",
   "metadata": {},
   "source": [
    "Since the dataset provides a full sentence and annotates aspect term using character index, we cannot perform word_tokenize directly on the raw text due to:\n",
    "  1. Word_tokenize separates punctuation as a single normal token which makes it difficult to re-string (combine) word tokens (using ' '.join(tokens)) for character index, as it adds extra spaces between word and punctuations, thus invalidate character index for aspect terms. This makes it very difficult to align the aspect term character index and word index accurately.</br>\n",
    "  E.g. \"I love pizza, cheese.\", term indexes are (7,12),(16,22), re-string tokens from word_tokenize (' '.join(tokens)) can turn the sentence into \"I love pizza__\\<extra space\\>__, cheese__\\<extra space\\>__.\". The char index of the aspect terms now become (7,12), `(17,23)`.\n",
    "  \n",
    "  2. Word_tokenize tends to not separate words that have special characters between them (other than space and common punctuations like <,.:;>), while some terms treated those chunks as separated terms. \n",
    "  E.g. \"size/screen\" is a single token based on word_tokenize, while terms defined this as two separate tokens. \n",
    "\n",
    "Therefore, I applied the below approach to acoomodate the above short commings:\n",
    "  1. Add aspect_prefix & aspect_suffix (with additional spaces in order to overcome issue #2) to the start & end of each aspect term (to overcome issue #1) in the sentence using from, to char index as supplied by the dataset\n",
    "  2. Perform word_tokenize on the new aspect_annotated_sentence\n",
    "  3. Perform BIO tagging on the sentence token"
   ]
  },
  {
   "cell_type": "code",
   "execution_count": 178,
   "metadata": {},
   "outputs": [],
   "source": [
    "def encode_unified_BIO (x, sentiment_tag=False):\n",
    "  '''  This function puts aspect's details into a dictionary, and multiple aspect as an array\n",
    "  \n",
    "  Parameter:\n",
    "  - ASPECTS: dictionary array\n",
    "    dictionary of\n",
    "    - term\n",
    "    - polarity\n",
    "    - term_start\n",
    "    - term_end\n",
    "\n",
    "    For example:\n",
    "    [\n",
    "      {'term':'cord', 'polarity':'neutral', 'from': 41, 'to': 45},\n",
    "      {'term':'battery life', 'polarity':'positive', 'from': 74, 'to': 86}\n",
    "    ]\n",
    "  - SENTIMENT_TAG: boolean\n",
    "    True: if we want to return sentiment polarity with BIO tagging (unified BIO)\n",
    "    False: if we do not want to return sentiment polarity with BIO tagging (just pure BIO)\n",
    "    \n",
    "  Output: \n",
    "  - TEXT_TOKENS: array of string\n",
    "    Sentence tokens\n",
    "    E.g. ['Boot', 'time', 'is', 'super', 'fast', ',', 'around', 'anywhere', 'from', '35', 'seconds', 'to', '1', 'minute', '.']\n",
    "    \n",
    "  - TAGS: array of string\n",
    "    Unified BIO tags (if sentiment_tag paratement is set to True) or BIO tags (if sentiment_tag is set to False)\n",
    "      Aspect boundaries:\n",
    "        B: beginning of aspect term\n",
    "        I: subsequent words of aspect term\n",
    "        O: outside of aspect term\n",
    "      Sentiment:\n",
    "        POS: positive\n",
    "        NEG: negative\n",
    "        NEU: neutral\n",
    "        CON: conflict\n",
    "    E.g. ['B-POS', 'I-POS', 'O', 'O', 'O', 'O', 'O', 'O', 'O', 'O', 'O', 'O', 'O', 'O', 'O']\n",
    "\n",
    "  - ASPECT_COMPUTE_PAIRS: tuple of two strings\n",
    "    1st String combining of all aspect terms as provided by the dataset\n",
    "    2nd String combining of all aspect terms from annotated BIO tagged using text_token\n",
    "    E.g.(' Boot time', ' Boot time')\n",
    "\n",
    "  - IS_INCORRECT_TAGGING: boolean\n",
    "    True: when ASPECT_COMPUTE_PAIRS is different from each other\n",
    "    False: when ASPECT_COMPUTE_PAIRS is exactly like each other\n",
    "    This may return False, when there is some special characters in aspect term that causing them to be splitted into a different token.\n",
    "    E.g. aspect_term `15\" TV`, computed_term can return `15 \" TV`. Thus, they are not exactly matching each other, but they should be okay\n",
    "  '''\n",
    "\n",
    "  aspects = x['aspects']\n",
    "  aspects = sorted(aspects, key=lambda d: int(d['from']))  # sort aspects based on from, some aspects are not sorted: later terms in the sentence sometimes are placed before terms appear earlier. \n",
    "  \n",
    "  text = x['text']\n",
    "\n",
    "  sentiment_tag_map = {'neutral': '-NEU'\n",
    "                       ,'conflict':'-CON'\n",
    "                       ,'positive':'-POS'\n",
    "                       ,'negative':'-NEG'}\n",
    "  \n",
    "  aspect_prefix = ' XXATBXX' # add leading space to break words if they are in the same chunk. E.g. \"size/window\" --> \"size / window\"\n",
    "  aspect_suffix = 'XXATEXX ' # add trailing space\n",
    "\n",
    "  # these are for validation to ensure the BIO tagging is accurate\n",
    "  aspect_terms = ''\n",
    "  aspect_terms_compute = ''\n",
    "\n",
    "  # we cannot perform word_tokenize directly on the raw text due to:\n",
    "  # 1. there is no space between punctuation and word, which makes it difficult to calculate word index from char index when concatenating word tokens for word index search\n",
    "  # 2. terms can be partial of a word token, e.g. \"size/screen\" is a single token based on word_token, while terms defined this as two separate terms. \n",
    "  # Therefore, I applied the below approach:\n",
    "  # 1. Add aspect_prefix & aspect_suffix to the start & end of each aspect term in the sentence using from, to char index as supplied by the dataset\n",
    "  # 2. Perform word_tokenize on the new aspect_annotated_sentence\n",
    "  # 3. Perform BIO tagging on the sentence token\n",
    "\n",
    "  # 1. Add aspect prefix & suffix to the sentence\n",
    "  aspect_annotated_sentence = text\n",
    "\n",
    "  for i, k in enumerate(aspects):\n",
    "    term = k['term']\n",
    "    \n",
    "    if k['term'] != '': # there are empty aspects but still have an empty dict structure, so we only perform tagging for those that has `term` != ''\n",
    "      # this is for validation purposes only\n",
    "      aspect_terms += ' ' + term \n",
    "\n",
    "      if k['polarity'] == '':\n",
    "        print(k['id'])\n",
    "\n",
    "      polarity = sentiment_tag_map[k['polarity']] if sentiment_tag == True else '' # get polarity encode\n",
    "  \n",
    "      i_from = int(k['from']) + i * (len(aspect_prefix) + len(aspect_suffix) + len(polarity)) # re-calculate from & by shifting them by the length of additional character added for aspect prefix & suffix\n",
    "      i_to = int(k['to']) + i * (len(aspect_prefix) + len(aspect_suffix) + len(polarity))\n",
    "      \n",
    "      aspect_annotated_sentence = aspect_annotated_sentence[:i_from] + aspect_prefix+ polarity + aspect_annotated_sentence[i_from:i_to] + aspect_suffix + aspect_annotated_sentence[i_to:]\n",
    "  \n",
    "  # Tokenize aspect annotated sentence\n",
    "  text_tokens = word_tokenize(aspect_annotated_sentence)\n",
    "\n",
    "  # Perfom BIO tagging\n",
    "  tags = []\n",
    "  aspect_start = False\n",
    "  polarity = ''\n",
    "\n",
    "  for i,k in enumerate(text_tokens):\n",
    "    tag = 'O' # default token tag as 'O' outside of aspect term\n",
    "\n",
    "    if k[:7] == aspect_prefix.strip(): # if we see aspect prefix in a term, update tag as 'B' & set aspect_start as True\n",
    "      aspect_start = True\n",
    "      polarity = k[7:11] # extract polarity for next following tokens if there is\n",
    "      tag = 'B' + polarity\n",
    "      \n",
    "    elif aspect_start == True: # if token does not have aspect_prefx, set tag to I if aspect_start is still True\n",
    "      tag = 'I' + polarity\n",
    "      \n",
    "    else: # if aspect_start is False or if there is no aspect prefix\n",
    "      tag = 'O'\n",
    "\n",
    "    text_tokens[i] = re.sub(aspect_prefix.strip() + '.{4}', '',text_tokens[i]).replace(aspect_suffix.strip(),'') # clean text token by removing aspect prefix, polarity & aspect suffix if any\n",
    "    tags.append(tag) \n",
    "    \n",
    "    if k[-7:] == aspect_suffix.strip(): # If token contains aspect_suffix, restart aspect_start as False and polarity as empty\n",
    "      aspect_start = False\n",
    "      polarity = ''\n",
    "    \n",
    "  # This is for validation purposes only\n",
    "  for i, k in enumerate(tags):\n",
    "    if k != 'O':\n",
    "      aspect_terms_compute += ' ' + text_tokens[i]\n",
    "  \n",
    "  # This is for validation purposes only\n",
    "  aspect_compute_pairs = (aspect_terms, aspect_terms_compute)\n",
    "  is_incorrect_tagging = True if aspect_terms != aspect_terms_compute  else False\n",
    "  \n",
    "  return pd.Series([text_tokens, tags, aspect_compute_pairs, is_incorrect_tagging])"
   ]
  },
  {
   "cell_type": "code",
   "execution_count": 179,
   "metadata": {},
   "outputs": [],
   "source": [
    "df_train[['text_token','aspect_unified_bio','aspect_compute_pairs','is_incorrect_tagging']] = df_train.apply(lambda x: encode_unified_BIO(x, True), axis=1)\n",
    "df_val[['text_token','aspect_unified_bio','aspect_compute_pairs','is_incorrect_tagging']] = df_val.apply(lambda x: encode_unified_BIO(x, True), axis=1)"
   ]
  },
  {
   "cell_type": "markdown",
   "metadata": {},
   "source": [
    "After performing BIO encode, we want to check if there is any misclassification using is_incorrect_tagging.\n",
    "\n",
    "There are only 20 possible inccorect BIO labels in df_train and 10 for df_val.\n",
    "\n",
    "Looking through a few examples, it seems like the issues are mainly around special characters inside aspect terms that cause the comparision strings to be different, however, the BIO labels are still accurate. "
   ]
  },
  {
   "cell_type": "code",
   "execution_count": 180,
   "metadata": {},
   "outputs": [
    {
     "name": "stdout",
     "output_type": "stream",
     "text": [
      "# of possible incorrect labels in df_train:  20\n",
      "# of possible incorrect labels in df_train:  10\n",
      "\n",
      "\n",
      " Some examples\n",
      "['The', 'tech', 'guy', 'then', 'said', 'the', 'service', 'center', 'does', 'not', 'do', '1-to-1', 'exchange', 'and', 'I', 'have', 'to', 'direct', 'my', 'concern', 'to', 'the', '', \"''\", 'sales', \"''\", 'team', ',', 'which', 'is', 'the', 'retail', 'shop', 'which', 'I', 'bought', 'my', 'netbook', 'from', '.']\n",
      "[{'term': 'service center', 'polarity': 'negative', 'from': '27', 'to': '41'}, {'term': '\"sales\" team', 'polarity': 'negative', 'from': '109', 'to': '121'}, {'term': 'tech guy', 'polarity': 'neutral', 'from': '4', 'to': '12'}]\n",
      "(' tech guy service center \"sales\" team', \" tech guy service center  '' sales '' team\")\n",
      "['O', 'B-NEU', 'I-NEU', 'O', 'O', 'O', 'B-NEG', 'I-NEG', 'O', 'O', 'O', 'O', 'O', 'O', 'O', 'O', 'O', 'O', 'O', 'O', 'O', 'O', 'B-NEG', 'I-NEG', 'I-NEG', 'I-NEG', 'I-NEG', 'O', 'O', 'O', 'O', 'O', 'O', 'O', 'O', 'O', 'O', 'O', 'O', 'O']\n",
      "40\n",
      "40\n",
      "\n",
      "\n",
      "['I', 'also', 'got', 'the', 'added', 'bonus', 'of', 'a', '30', \"''\", 'HD', 'Monitor', ',', 'which', 'really', 'helps', 'to', 'extend', 'my', 'screen', 'and', 'keep', 'my', 'eyes', 'fresh', '!']\n",
      "[{'term': '30\" HD Monitor', 'polarity': 'positive', 'from': '32', 'to': '46'}, {'term': 'screen', 'polarity': 'neutral', 'from': '80', 'to': '86'}]\n",
      "(' 30\" HD Monitor screen', \" 30 '' HD Monitor screen\")\n",
      "['O', 'O', 'O', 'O', 'O', 'O', 'O', 'O', 'B-POS', 'I-POS', 'I-POS', 'I-POS', 'O', 'O', 'O', 'O', 'O', 'O', 'O', 'B-NEU', 'O', 'O', 'O', 'O', 'O', 'O']\n",
      "26\n",
      "26\n",
      "\n",
      "\n"
     ]
    }
   ],
   "source": [
    "print('# of possible incorrect labels in df_train: ', df_train['is_incorrect_tagging'].sum())\n",
    "print('# of possible incorrect labels in df_train: ', df_val['is_incorrect_tagging'].sum())\n",
    "print('\\n\\n Some examples')\n",
    "\n",
    "n_samples = 2\n",
    "sample = df_train[df_train['is_incorrect_tagging']].copy().reset_index()\n",
    "\n",
    "for i in range(0, n_samples):\n",
    "  s = sample.iloc[i]\n",
    "  print(s['text_token'])\n",
    "  print(s['aspects'])\n",
    "  print(s['aspect_compute_pairs'])\n",
    "  print(s['aspect_unified_bio'])\n",
    "  print(len(s['text_token']))\n",
    "  print(len(s['aspect_unified_bio']))\n",
    "  print('\\n')"
   ]
  },
  {
   "cell_type": "markdown",
   "metadata": {},
   "source": [
    "### Word features\n",
    "Here we will populate some word features for each token in the sentence, such as:\n",
    "- word\n",
    "- stemming / lemming versions of word\n",
    "- part of speech (POS) of word\n",
    "- words sentiment POS\n",
    "- context words within a pre-defined window (5 words surrounding the token)\n",
    "- context words stemming/ lemming\n",
    "- context words POS\n",
    "- context words sentiment POS\n",
    "- ...\n",
    "\n",
    "The list is not exhaustive, and is an iterative process as we perform EDA and go back and refining/ adding more features."
   ]
  },
  {
   "cell_type": "code",
   "execution_count": 237,
   "metadata": {},
   "outputs": [],
   "source": [
    "# Function to convert sentences into features\n",
    "def word2features(sent, i, window_size=5): \n",
    "    word = sent[i]\n",
    "\n",
    "    _, pos = zip(*nltk.pos_tag(sent))\n",
    "\n",
    "    window_size = int((window_size - 1)/ 2 if (window_size % 2) == 1 else window_size / 2)\n",
    "    tag_sentiment = lambda word: 'POS' if word in POSITIVE_WORDS else 'NEG' if word in NEGATIVE_WORDS else 'NEU'\n",
    "    features = {\n",
    "        'word.lower()': word.lower(), # word\n",
    "        'word.index()': i,\n",
    "        'word.reverseindex()': len(sent) - 1 - i, # reverse index - nth word from end of sentence\n",
    "        'word.pos': pos[i],\n",
    "        'word.opinionlexicon': tag_sentiment(word.lower()),\n",
    "        'word.contextswitching': word.lower() in CONTEXT_SWITCHING_WORDS,\n",
    "        'word.isstopword()': word.lower() in EN_STOP_WORDS,\n",
    "        'word[-3:]': word[-3:], # last 4 char\n",
    "        'word[-2:]': word[-2:], # last 3 char - in case of -ing, -ion, etc.\n",
    "        'word.isupper()': word.isupper(), # is the word in upper case\n",
    "        'word.istitle()': word.istitle(), # is the first letter of the word in upper case\n",
    "        'word.isdigit()': word.isdigit(), # is the word full of digit\n",
    "        'word.isspecialchar()': re.sub('[^\\w,\\d,\\s]', '', word.lower()) == '', # is punctuation/ special characters\n",
    "    }\n",
    "    if i > 0:\n",
    "        for k in range(1, min(window_size, i)+1):\n",
    "            prev_word = sent[i - k]\n",
    "            prev_pos = pos[i - k]\n",
    "            \n",
    "            features.update({\n",
    "                f'-{k}:word.lower()': prev_word.lower(),\n",
    "                f'-{k}:word.pos': prev_pos,\n",
    "                f'-{k}:word.opinionlexicon': tag_sentiment(word.lower()),\n",
    "                f'-{k}:word.contextswitching': prev_word.lower() in CONTEXT_SWITCHING_WORDS,\n",
    "                f'-{k}:word.isstopword()': prev_word in en_stop_words,\n",
    "                f'-{k}:word.istitle()': prev_word.istitle(),\n",
    "                f'-{k}:word.isupper()': prev_word.isupper(),\n",
    "                f'-{k}:word.isspecialchar()': re.sub('[^\\w,\\d,\\s]', '', prev_word.lower()) == '', # is punctuation/ special characters\n",
    "            })\n",
    "    else:\n",
    "        features['BOS'] = True  # Beginning of sentence\n",
    "\n",
    "    if i < len(sent) - 1:\n",
    "        for k in range(1, min(window_size, len(sent) - i - 1)+1):\n",
    "            next_word = sent[i + k]\n",
    "            next_pos = pos[i + k]\n",
    "\n",
    "            features.update({\n",
    "                f'+{k}:word.lower()': next_word.lower(),\n",
    "                f'+{k}:word.pos': next_pos,\n",
    "                f'+{k}:word.opinionlexicon': tag_sentiment(word.lower()),\n",
    "                f'+{k}:word.contextswitching': next_word.lower() in CONTEXT_SWITCHING_WORDS,\n",
    "                f'+{k}:word.isstopword()': next_word in en_stop_words,\n",
    "                f'+{k}:word.istitle()': next_word.istitle(),\n",
    "                f'+{k}:word.isupper()': next_word.isupper(),\n",
    "                f'+{k}:word.isspecialchar()': re.sub('[^\\w,\\d,\\s]', '', next_word.lower()) == '', # is punctuation/ special characters\n",
    "            })\n",
    "    else:\n",
    "        features['EOS'] = True  # End of sentence\n",
    "\n",
    "    return features\n",
    "\n",
    "# Function to convert sentences into feature sequences\n",
    "def sent2features(sent, window_size=5):\n",
    "    return [word2features(sent, i, window_size) for i in range(len(sent))]"
   ]
  },
  {
   "cell_type": "markdown",
   "metadata": {},
   "source": [
    "### Define data processing functions\n",
    "These functions help us streamline and ensure consistencies in our data preparation"
   ]
  },
  {
   "cell_type": "code",
   "execution_count": 238,
   "metadata": {},
   "outputs": [],
   "source": [
    "def prepare_df(df_input, window_size=5, show_BIO_errors=False):\n",
    "  df = df_input.copy()\n",
    "  df[['text_token','aspect_unified_bio','aspect_compute_pairs', 'is_incorrect_tagging']] = df.apply(lambda x: encode_unified_BIO(x, True), axis=1)\n",
    "  X =  [sent2features(sentence, window_size) for sentence in df['text_token']]\n",
    "  y = df['aspect_unified_bio']\n",
    "    \n",
    "  # These are for showing examples if there are any issues during BIO tagging\n",
    "  errors = df['is_incorrect_tagging'].sum()\n",
    "  print('# of possible incorrect labels in df: ', errors, f'({errors/len(df)*100:.0f}% total records)')\n",
    "  print('\\n\\n Some incorrect examples')\n",
    "\n",
    "  if errors > 0:\n",
    "    n_samples = 2\n",
    "    sample = df[df['is_incorrect_tagging']].copy().reset_index()\n",
    "\n",
    "    for i in range(0, n_samples):\n",
    "      s = sample.iloc[i]\n",
    "      print('Text token: ', s['text_token'])\n",
    "      print('Dataset provided aspects - original form: ', s['aspects'])\n",
    "      print('Dataset provided aspects - Computed aspects: ', s['aspect_compute_pairs'])\n",
    "      print('Unified BIO tagging: ', s['aspect_unified_bio'])\n",
    "      print('Total text tokens: ', len(s['text_token']))\n",
    "      print('Total BIO tags: ', len(s['aspect_unified_bio']))\n",
    "      print('\\n')\n",
    "\n",
    "  return pd.Series([X,y])"
   ]
  },
  {
   "cell_type": "code",
   "execution_count": 239,
   "metadata": {},
   "outputs": [],
   "source": [
    "def sentences_to_features(sentences, window_size=5):\n",
    "  sentences_token = [word_tokenize(sentence) for sentence in sentences]\n",
    "  X =  [sent2features(sentence, window_size) for sentence in sentences_token]\n",
    "  return X"
   ]
  },
  {
   "cell_type": "markdown",
   "metadata": {},
   "source": [
    "### Complete data preparation\n",
    "\n",
    "df_train looks ok with the errors we have found previously."
   ]
  },
  {
   "cell_type": "code",
   "execution_count": 270,
   "metadata": {},
   "outputs": [
    {
     "name": "stdout",
     "output_type": "stream",
     "text": [
      "# of possible incorrect labels in df:  20 (1% total records)\n",
      "\n",
      "\n",
      " Some incorrect examples\n",
      "Text token:  ['The', 'tech', 'guy', 'then', 'said', 'the', 'service', 'center', 'does', 'not', 'do', '1-to-1', 'exchange', 'and', 'I', 'have', 'to', 'direct', 'my', 'concern', 'to', 'the', '', \"''\", 'sales', \"''\", 'team', ',', 'which', 'is', 'the', 'retail', 'shop', 'which', 'I', 'bought', 'my', 'netbook', 'from', '.']\n",
      "Dataset provided aspects - original form:  [{'term': 'service center', 'polarity': 'negative', 'from': '27', 'to': '41'}, {'term': '\"sales\" team', 'polarity': 'negative', 'from': '109', 'to': '121'}, {'term': 'tech guy', 'polarity': 'neutral', 'from': '4', 'to': '12'}]\n",
      "Dataset provided aspects - Computed aspects:  (' tech guy service center \"sales\" team', \" tech guy service center  '' sales '' team\")\n",
      "Unified BIO tagging:  ['O', 'B-NEU', 'I-NEU', 'O', 'O', 'O', 'B-NEG', 'I-NEG', 'O', 'O', 'O', 'O', 'O', 'O', 'O', 'O', 'O', 'O', 'O', 'O', 'O', 'O', 'B-NEG', 'I-NEG', 'I-NEG', 'I-NEG', 'I-NEG', 'O', 'O', 'O', 'O', 'O', 'O', 'O', 'O', 'O', 'O', 'O', 'O', 'O']\n",
      "Total text tokens:  40\n",
      "Total BIO tags:  40\n",
      "\n",
      "\n",
      "Text token:  ['I', 'also', 'got', 'the', 'added', 'bonus', 'of', 'a', '30', \"''\", 'HD', 'Monitor', ',', 'which', 'really', 'helps', 'to', 'extend', 'my', 'screen', 'and', 'keep', 'my', 'eyes', 'fresh', '!']\n",
      "Dataset provided aspects - original form:  [{'term': '30\" HD Monitor', 'polarity': 'positive', 'from': '32', 'to': '46'}, {'term': 'screen', 'polarity': 'neutral', 'from': '80', 'to': '86'}]\n",
      "Dataset provided aspects - Computed aspects:  (' 30\" HD Monitor screen', \" 30 '' HD Monitor screen\")\n",
      "Unified BIO tagging:  ['O', 'O', 'O', 'O', 'O', 'O', 'O', 'O', 'B-POS', 'I-POS', 'I-POS', 'I-POS', 'O', 'O', 'O', 'O', 'O', 'O', 'O', 'B-NEU', 'O', 'O', 'O', 'O', 'O', 'O']\n",
      "Total text tokens:  26\n",
      "Total BIO tags:  26\n",
      "\n",
      "\n"
     ]
    }
   ],
   "source": [
    "# Reload the data to make sure we have the clean data\n",
    "df_train = pd.read_json('data/laptop/train.json')\n",
    "\n",
    "# Drop duplicates as we identified and inspected previously\n",
    "df_train.drop_duplicates(subset='text',inplace=True)\n",
    "\n",
    "# Prepare the data: BIO tagging & get word features\n",
    "df_train[['features', 'unified_BIO_tag']] = prepare_df(df_train, 9, True)"
   ]
  },
  {
   "cell_type": "code",
   "execution_count": 241,
   "metadata": {},
   "outputs": [
    {
     "data": {
      "text/html": [
       "<div>\n",
       "<style scoped>\n",
       "    .dataframe tbody tr th:only-of-type {\n",
       "        vertical-align: middle;\n",
       "    }\n",
       "\n",
       "    .dataframe tbody tr th {\n",
       "        vertical-align: top;\n",
       "    }\n",
       "\n",
       "    .dataframe thead th {\n",
       "        text-align: right;\n",
       "    }\n",
       "</style>\n",
       "<table border=\"1\" class=\"dataframe\">\n",
       "  <thead>\n",
       "    <tr style=\"text-align: right;\">\n",
       "      <th></th>\n",
       "      <th>id</th>\n",
       "      <th>text</th>\n",
       "      <th>aspects</th>\n",
       "      <th>features</th>\n",
       "      <th>unified_BIO_tag</th>\n",
       "    </tr>\n",
       "  </thead>\n",
       "  <tbody>\n",
       "    <tr>\n",
       "      <th>0</th>\n",
       "      <td>2339</td>\n",
       "      <td>I charge it at night and skip taking the cord ...</td>\n",
       "      <td>[{'term': 'cord', 'polarity': 'neutral', 'from...</td>\n",
       "      <td>[{'word.lower()': 'i', 'word.index()': 0, 'wor...</td>\n",
       "      <td>[O, O, O, O, O, O, O, O, O, B-NEU, O, O, O, O,...</td>\n",
       "    </tr>\n",
       "    <tr>\n",
       "      <th>1</th>\n",
       "      <td>812</td>\n",
       "      <td>I bought a HP Pavilion DV4-1222nr laptop and h...</td>\n",
       "      <td>[{'term': '', 'polarity': '', 'from': 0, 'to':...</td>\n",
       "      <td>[{'word.lower()': 'i', 'word.index()': 0, 'wor...</td>\n",
       "      <td>[O, O, O, O, O, O, O, O, O, O, O, O, O, O, O, ...</td>\n",
       "    </tr>\n",
       "    <tr>\n",
       "      <th>2</th>\n",
       "      <td>1316</td>\n",
       "      <td>The tech guy then said the service center does...</td>\n",
       "      <td>[{'term': 'service center', 'polarity': 'negat...</td>\n",
       "      <td>[{'word.lower()': 'the', 'word.index()': 0, 'w...</td>\n",
       "      <td>[O, B-NEU, I-NEU, O, O, O, B-NEG, I-NEG, O, O,...</td>\n",
       "    </tr>\n",
       "    <tr>\n",
       "      <th>3</th>\n",
       "      <td>2328</td>\n",
       "      <td>I investigated netbooks and saw the Toshiba NB...</td>\n",
       "      <td>[{'term': '', 'polarity': '', 'from': 0, 'to':...</td>\n",
       "      <td>[{'word.lower()': 'i', 'word.index()': 0, 'wor...</td>\n",
       "      <td>[O, O, O, O, O, O, O, O, O]</td>\n",
       "    </tr>\n",
       "    <tr>\n",
       "      <th>4</th>\n",
       "      <td>2193</td>\n",
       "      <td>The other day I had a presentation to do for a...</td>\n",
       "      <td>[{'term': '', 'polarity': '', 'from': 0, 'to':...</td>\n",
       "      <td>[{'word.lower()': 'the', 'word.index()': 0, 'w...</td>\n",
       "      <td>[O, O, O, O, O, O, O, O, O, O, O, O, O, O, O, ...</td>\n",
       "    </tr>\n",
       "  </tbody>\n",
       "</table>\n",
       "</div>"
      ],
      "text/plain": [
       "     id                                               text  \\\n",
       "0  2339  I charge it at night and skip taking the cord ...   \n",
       "1   812  I bought a HP Pavilion DV4-1222nr laptop and h...   \n",
       "2  1316  The tech guy then said the service center does...   \n",
       "3  2328  I investigated netbooks and saw the Toshiba NB...   \n",
       "4  2193  The other day I had a presentation to do for a...   \n",
       "\n",
       "                                             aspects  \\\n",
       "0  [{'term': 'cord', 'polarity': 'neutral', 'from...   \n",
       "1  [{'term': '', 'polarity': '', 'from': 0, 'to':...   \n",
       "2  [{'term': 'service center', 'polarity': 'negat...   \n",
       "3  [{'term': '', 'polarity': '', 'from': 0, 'to':...   \n",
       "4  [{'term': '', 'polarity': '', 'from': 0, 'to':...   \n",
       "\n",
       "                                            features  \\\n",
       "0  [{'word.lower()': 'i', 'word.index()': 0, 'wor...   \n",
       "1  [{'word.lower()': 'i', 'word.index()': 0, 'wor...   \n",
       "2  [{'word.lower()': 'the', 'word.index()': 0, 'w...   \n",
       "3  [{'word.lower()': 'i', 'word.index()': 0, 'wor...   \n",
       "4  [{'word.lower()': 'the', 'word.index()': 0, 'w...   \n",
       "\n",
       "                                     unified_BIO_tag  \n",
       "0  [O, O, O, O, O, O, O, O, O, B-NEU, O, O, O, O,...  \n",
       "1  [O, O, O, O, O, O, O, O, O, O, O, O, O, O, O, ...  \n",
       "2  [O, B-NEU, I-NEU, O, O, O, B-NEG, I-NEG, O, O,...  \n",
       "3                        [O, O, O, O, O, O, O, O, O]  \n",
       "4  [O, O, O, O, O, O, O, O, O, O, O, O, O, O, O, ...  "
      ]
     },
     "execution_count": 241,
     "metadata": {},
     "output_type": "execute_result"
    }
   ],
   "source": [
    "df_train.head()"
   ]
  },
  {
   "cell_type": "markdown",
   "metadata": {},
   "source": [
    "# Exploratory data analysis\n",
    "\n",
    "1. POS:\n",
    "  - aspect - sentiment - neither\n",
    "  - context\n",
    "2. Word form (compact Xx)\n",
    "3. Word index\n",
    "4. Sentiment terms around aspects"
   ]
  },
  {
   "cell_type": "markdown",
   "metadata": {},
   "source": [
    "## Flatten word features\n",
    "\n",
    "We are going to flatten our word features into a pandas dataframe for easier exploration."
   ]
  },
  {
   "cell_type": "code",
   "execution_count": 242,
   "metadata": {},
   "outputs": [],
   "source": [
    "def features2df(sentence_index, X):\n",
    "  '''\n",
    "  This function takes in array of (array of dictionary) and flattens it to a pandas dataframe with all features as columns.\n",
    "  Each element in an array is a sentence which is an array of dictionaries of each word and its features\n",
    "  Missing features will have a null value.\n",
    "\n",
    "  INPUT: \n",
    "  -----------------------\n",
    "  SENTENCE INDEX: int\n",
    "  This give the index of the sentence\n",
    "\n",
    "  '''\n",
    "  df = pd.DataFrame(X)\n",
    "  df['nth_sentence'] = sentence_index\n",
    "  return df"
   ]
  },
  {
   "cell_type": "code",
   "execution_count": 271,
   "metadata": {},
   "outputs": [],
   "source": [
    "# Convert word features into data frame\n",
    "df_features = pd.concat([features2df(df_train.iloc[i]['id'], df_train.iloc[i]['features']) for i in range(0, len(df_train))], ignore_index=True)\n",
    "df_features['unified_BIO_tag'] = [tag for sentence in df_train['unified_BIO_tag'] for tag in sentence]\n",
    "\n",
    "# Generalized aspect tag\n",
    "df_features['is_aspect'] = df_features['unified_BIO_tag'].str[:1].apply(lambda x: 'aspect' if x in ['B','I'] else 'non-aspect')\n",
    "df_features['sentiment'] = df_features['unified_BIO_tag'].str[-3:]"
   ]
  },
  {
   "cell_type": "markdown",
   "metadata": {},
   "source": [
    "## Part-of-speech\n",
    "\n",
    "Aspect terms are often nouns and are verb objectives or subject. Let's inspect their part of speech to confirm this.\n",
    "\n",
    "Same definition of POS tags:\n",
    "- __CD__: Cardinal number (e.g., \"one\", \"two\", \"3\")\n",
    "- __DT__: Determiner (e.g., \"the\", \"a\", \"this\")\n",
    "- __IN__: Preposition or subordinating conjunction (e.g., \"in\", \"on\", \"at\")\n",
    "- __IN__: Preposition or subordinating conjunction (e.g., \"in\", \"on\", \"at\")\n",
    "- __JJ__: Adjective (e.g., \"big\", \"happy\", \"green\")\n",
    "- __NN__: Noun, singular or mass (e.g., \"dog\", \"city\", \"love\")\n",
    "- __NNP__: Proper noun, singular (e.g., \"John\", \"Paris\", \"December\")\n",
    "- __NNS__: Noun, plural (e.g., \"dogs\", \"cities\", \"loves\")\n",
    "- __PRP__: Personal pronoun (e.g., \"I\", \"you\", \"he\")\n",
    "- __RB__: Adverb (e.g., \"quickly\", \"very\", \"well\")\n",
    "- __VB__: Verb, base form (e.g., \"eat\", \"run\", \"play\")\n",
    "\n",
    "\\>80% aspect terms are nouns, while non-aspect words have very uniform distribution for all part-of-speech."
   ]
  },
  {
   "cell_type": "code",
   "execution_count": 245,
   "metadata": {},
   "outputs": [
    {
     "data": {
      "application/vnd.plotly.v1+json": {
       "config": {
        "plotlyServerURL": "https://plot.ly"
       },
       "data": [
        {
         "direction": "clockwise",
         "domain": {
          "x": [
           0,
           0.45
          ],
          "y": [
           0,
           1
          ]
         },
         "hole": 0.4,
         "labels": [
          "''",
          "(",
          ")",
          ",",
          "CC",
          "CD",
          "DT",
          "FW",
          "IN",
          "JJ",
          "JJS",
          "NN",
          "NNP",
          "NNS",
          "POS",
          "PRP",
          "PRP$",
          "RB",
          "RP",
          "TO",
          "VB",
          "VBD",
          "VBG",
          "VBN",
          "VBP",
          "VBZ",
          "``"
         ],
         "name": "aspects",
         "showlegend": false,
         "textinfo": "label+percent",
         "textposition": "inside",
         "type": "pie",
         "values": [
          12,
          1,
          2,
          1,
          5,
          73,
          25,
          1,
          36,
          251,
          1,
          1923,
          522,
          372,
          5,
          1,
          3,
          4,
          20,
          5,
          107,
          16,
          55,
          30,
          13,
          44,
          4
         ]
        },
        {
         "direction": "clockwise",
         "domain": {
          "x": [
           0.55,
           1
          ],
          "y": [
           0,
           1
          ]
         },
         "hole": 0.4,
         "labels": [
          "#",
          "$",
          "''",
          "(",
          ")",
          ",",
          ".",
          ":",
          "CC",
          "CD",
          "DT",
          "EX",
          "FW",
          "IN",
          "JJ",
          "JJR",
          "JJS",
          "LS",
          "MD",
          "NN",
          "NNP",
          "NNPS",
          "NNS",
          "PDT",
          "POS",
          "PRP",
          "PRP$",
          "RB",
          "RBR",
          "RBS",
          "RP",
          "TO",
          "UH",
          "VB",
          "VBD",
          "VBG",
          "VBN",
          "VBP",
          "VBZ",
          "WDT",
          "WP",
          "WRB",
          "``"
         ],
         "name": "non aspects",
         "showlegend": false,
         "textinfo": "label+percent",
         "textposition": "inside",
         "type": "pie",
         "values": [
          2,
          55,
          66,
          160,
          165,
          1614,
          2992,
          175,
          1782,
          718,
          4612,
          66,
          28,
          4383,
          3104,
          217,
          132,
          2,
          716,
          4660,
          1537,
          1,
          1309,
          54,
          39,
          4126,
          771,
          3375,
          81,
          14,
          246,
          1286,
          20,
          2007,
          1850,
          799,
          801,
          1441,
          1568,
          203,
          131,
          234,
          71
         ]
        }
       ],
       "layout": {
        "annotations": [
         {
          "font": {
           "size": 16
          },
          "showarrow": false,
          "text": "Aspect",
          "x": 0.188,
          "y": 0.5
         },
         {
          "font": {
           "size": 16
          },
          "showarrow": false,
          "text": "Non-aspect",
          "x": 0.83,
          "y": 0.5
         }
        ],
        "height": 500,
        "template": {
         "data": {
          "bar": [
           {
            "error_x": {
             "color": "#2a3f5f"
            },
            "error_y": {
             "color": "#2a3f5f"
            },
            "marker": {
             "line": {
              "color": "#E5ECF6",
              "width": 0.5
             },
             "pattern": {
              "fillmode": "overlay",
              "size": 10,
              "solidity": 0.2
             }
            },
            "type": "bar"
           }
          ],
          "barpolar": [
           {
            "marker": {
             "line": {
              "color": "#E5ECF6",
              "width": 0.5
             },
             "pattern": {
              "fillmode": "overlay",
              "size": 10,
              "solidity": 0.2
             }
            },
            "type": "barpolar"
           }
          ],
          "carpet": [
           {
            "aaxis": {
             "endlinecolor": "#2a3f5f",
             "gridcolor": "white",
             "linecolor": "white",
             "minorgridcolor": "white",
             "startlinecolor": "#2a3f5f"
            },
            "baxis": {
             "endlinecolor": "#2a3f5f",
             "gridcolor": "white",
             "linecolor": "white",
             "minorgridcolor": "white",
             "startlinecolor": "#2a3f5f"
            },
            "type": "carpet"
           }
          ],
          "choropleth": [
           {
            "colorbar": {
             "outlinewidth": 0,
             "ticks": ""
            },
            "type": "choropleth"
           }
          ],
          "contour": [
           {
            "colorbar": {
             "outlinewidth": 0,
             "ticks": ""
            },
            "colorscale": [
             [
              0,
              "#0d0887"
             ],
             [
              0.1111111111111111,
              "#46039f"
             ],
             [
              0.2222222222222222,
              "#7201a8"
             ],
             [
              0.3333333333333333,
              "#9c179e"
             ],
             [
              0.4444444444444444,
              "#bd3786"
             ],
             [
              0.5555555555555556,
              "#d8576b"
             ],
             [
              0.6666666666666666,
              "#ed7953"
             ],
             [
              0.7777777777777778,
              "#fb9f3a"
             ],
             [
              0.8888888888888888,
              "#fdca26"
             ],
             [
              1,
              "#f0f921"
             ]
            ],
            "type": "contour"
           }
          ],
          "contourcarpet": [
           {
            "colorbar": {
             "outlinewidth": 0,
             "ticks": ""
            },
            "type": "contourcarpet"
           }
          ],
          "heatmap": [
           {
            "colorbar": {
             "outlinewidth": 0,
             "ticks": ""
            },
            "colorscale": [
             [
              0,
              "#0d0887"
             ],
             [
              0.1111111111111111,
              "#46039f"
             ],
             [
              0.2222222222222222,
              "#7201a8"
             ],
             [
              0.3333333333333333,
              "#9c179e"
             ],
             [
              0.4444444444444444,
              "#bd3786"
             ],
             [
              0.5555555555555556,
              "#d8576b"
             ],
             [
              0.6666666666666666,
              "#ed7953"
             ],
             [
              0.7777777777777778,
              "#fb9f3a"
             ],
             [
              0.8888888888888888,
              "#fdca26"
             ],
             [
              1,
              "#f0f921"
             ]
            ],
            "type": "heatmap"
           }
          ],
          "heatmapgl": [
           {
            "colorbar": {
             "outlinewidth": 0,
             "ticks": ""
            },
            "colorscale": [
             [
              0,
              "#0d0887"
             ],
             [
              0.1111111111111111,
              "#46039f"
             ],
             [
              0.2222222222222222,
              "#7201a8"
             ],
             [
              0.3333333333333333,
              "#9c179e"
             ],
             [
              0.4444444444444444,
              "#bd3786"
             ],
             [
              0.5555555555555556,
              "#d8576b"
             ],
             [
              0.6666666666666666,
              "#ed7953"
             ],
             [
              0.7777777777777778,
              "#fb9f3a"
             ],
             [
              0.8888888888888888,
              "#fdca26"
             ],
             [
              1,
              "#f0f921"
             ]
            ],
            "type": "heatmapgl"
           }
          ],
          "histogram": [
           {
            "marker": {
             "pattern": {
              "fillmode": "overlay",
              "size": 10,
              "solidity": 0.2
             }
            },
            "type": "histogram"
           }
          ],
          "histogram2d": [
           {
            "colorbar": {
             "outlinewidth": 0,
             "ticks": ""
            },
            "colorscale": [
             [
              0,
              "#0d0887"
             ],
             [
              0.1111111111111111,
              "#46039f"
             ],
             [
              0.2222222222222222,
              "#7201a8"
             ],
             [
              0.3333333333333333,
              "#9c179e"
             ],
             [
              0.4444444444444444,
              "#bd3786"
             ],
             [
              0.5555555555555556,
              "#d8576b"
             ],
             [
              0.6666666666666666,
              "#ed7953"
             ],
             [
              0.7777777777777778,
              "#fb9f3a"
             ],
             [
              0.8888888888888888,
              "#fdca26"
             ],
             [
              1,
              "#f0f921"
             ]
            ],
            "type": "histogram2d"
           }
          ],
          "histogram2dcontour": [
           {
            "colorbar": {
             "outlinewidth": 0,
             "ticks": ""
            },
            "colorscale": [
             [
              0,
              "#0d0887"
             ],
             [
              0.1111111111111111,
              "#46039f"
             ],
             [
              0.2222222222222222,
              "#7201a8"
             ],
             [
              0.3333333333333333,
              "#9c179e"
             ],
             [
              0.4444444444444444,
              "#bd3786"
             ],
             [
              0.5555555555555556,
              "#d8576b"
             ],
             [
              0.6666666666666666,
              "#ed7953"
             ],
             [
              0.7777777777777778,
              "#fb9f3a"
             ],
             [
              0.8888888888888888,
              "#fdca26"
             ],
             [
              1,
              "#f0f921"
             ]
            ],
            "type": "histogram2dcontour"
           }
          ],
          "mesh3d": [
           {
            "colorbar": {
             "outlinewidth": 0,
             "ticks": ""
            },
            "type": "mesh3d"
           }
          ],
          "parcoords": [
           {
            "line": {
             "colorbar": {
              "outlinewidth": 0,
              "ticks": ""
             }
            },
            "type": "parcoords"
           }
          ],
          "pie": [
           {
            "automargin": true,
            "type": "pie"
           }
          ],
          "scatter": [
           {
            "fillpattern": {
             "fillmode": "overlay",
             "size": 10,
             "solidity": 0.2
            },
            "type": "scatter"
           }
          ],
          "scatter3d": [
           {
            "line": {
             "colorbar": {
              "outlinewidth": 0,
              "ticks": ""
             }
            },
            "marker": {
             "colorbar": {
              "outlinewidth": 0,
              "ticks": ""
             }
            },
            "type": "scatter3d"
           }
          ],
          "scattercarpet": [
           {
            "marker": {
             "colorbar": {
              "outlinewidth": 0,
              "ticks": ""
             }
            },
            "type": "scattercarpet"
           }
          ],
          "scattergeo": [
           {
            "marker": {
             "colorbar": {
              "outlinewidth": 0,
              "ticks": ""
             }
            },
            "type": "scattergeo"
           }
          ],
          "scattergl": [
           {
            "marker": {
             "colorbar": {
              "outlinewidth": 0,
              "ticks": ""
             }
            },
            "type": "scattergl"
           }
          ],
          "scattermapbox": [
           {
            "marker": {
             "colorbar": {
              "outlinewidth": 0,
              "ticks": ""
             }
            },
            "type": "scattermapbox"
           }
          ],
          "scatterpolar": [
           {
            "marker": {
             "colorbar": {
              "outlinewidth": 0,
              "ticks": ""
             }
            },
            "type": "scatterpolar"
           }
          ],
          "scatterpolargl": [
           {
            "marker": {
             "colorbar": {
              "outlinewidth": 0,
              "ticks": ""
             }
            },
            "type": "scatterpolargl"
           }
          ],
          "scatterternary": [
           {
            "marker": {
             "colorbar": {
              "outlinewidth": 0,
              "ticks": ""
             }
            },
            "type": "scatterternary"
           }
          ],
          "surface": [
           {
            "colorbar": {
             "outlinewidth": 0,
             "ticks": ""
            },
            "colorscale": [
             [
              0,
              "#0d0887"
             ],
             [
              0.1111111111111111,
              "#46039f"
             ],
             [
              0.2222222222222222,
              "#7201a8"
             ],
             [
              0.3333333333333333,
              "#9c179e"
             ],
             [
              0.4444444444444444,
              "#bd3786"
             ],
             [
              0.5555555555555556,
              "#d8576b"
             ],
             [
              0.6666666666666666,
              "#ed7953"
             ],
             [
              0.7777777777777778,
              "#fb9f3a"
             ],
             [
              0.8888888888888888,
              "#fdca26"
             ],
             [
              1,
              "#f0f921"
             ]
            ],
            "type": "surface"
           }
          ],
          "table": [
           {
            "cells": {
             "fill": {
              "color": "#EBF0F8"
             },
             "line": {
              "color": "white"
             }
            },
            "header": {
             "fill": {
              "color": "#C8D4E3"
             },
             "line": {
              "color": "white"
             }
            },
            "type": "table"
           }
          ]
         },
         "layout": {
          "annotationdefaults": {
           "arrowcolor": "#2a3f5f",
           "arrowhead": 0,
           "arrowwidth": 1
          },
          "autotypenumbers": "strict",
          "coloraxis": {
           "colorbar": {
            "outlinewidth": 0,
            "ticks": ""
           }
          },
          "colorscale": {
           "diverging": [
            [
             0,
             "#8e0152"
            ],
            [
             0.1,
             "#c51b7d"
            ],
            [
             0.2,
             "#de77ae"
            ],
            [
             0.3,
             "#f1b6da"
            ],
            [
             0.4,
             "#fde0ef"
            ],
            [
             0.5,
             "#f7f7f7"
            ],
            [
             0.6,
             "#e6f5d0"
            ],
            [
             0.7,
             "#b8e186"
            ],
            [
             0.8,
             "#7fbc41"
            ],
            [
             0.9,
             "#4d9221"
            ],
            [
             1,
             "#276419"
            ]
           ],
           "sequential": [
            [
             0,
             "#0d0887"
            ],
            [
             0.1111111111111111,
             "#46039f"
            ],
            [
             0.2222222222222222,
             "#7201a8"
            ],
            [
             0.3333333333333333,
             "#9c179e"
            ],
            [
             0.4444444444444444,
             "#bd3786"
            ],
            [
             0.5555555555555556,
             "#d8576b"
            ],
            [
             0.6666666666666666,
             "#ed7953"
            ],
            [
             0.7777777777777778,
             "#fb9f3a"
            ],
            [
             0.8888888888888888,
             "#fdca26"
            ],
            [
             1,
             "#f0f921"
            ]
           ],
           "sequentialminus": [
            [
             0,
             "#0d0887"
            ],
            [
             0.1111111111111111,
             "#46039f"
            ],
            [
             0.2222222222222222,
             "#7201a8"
            ],
            [
             0.3333333333333333,
             "#9c179e"
            ],
            [
             0.4444444444444444,
             "#bd3786"
            ],
            [
             0.5555555555555556,
             "#d8576b"
            ],
            [
             0.6666666666666666,
             "#ed7953"
            ],
            [
             0.7777777777777778,
             "#fb9f3a"
            ],
            [
             0.8888888888888888,
             "#fdca26"
            ],
            [
             1,
             "#f0f921"
            ]
           ]
          },
          "colorway": [
           "#636efa",
           "#EF553B",
           "#00cc96",
           "#ab63fa",
           "#FFA15A",
           "#19d3f3",
           "#FF6692",
           "#B6E880",
           "#FF97FF",
           "#FECB52"
          ],
          "font": {
           "color": "#2a3f5f"
          },
          "geo": {
           "bgcolor": "white",
           "lakecolor": "white",
           "landcolor": "#E5ECF6",
           "showlakes": true,
           "showland": true,
           "subunitcolor": "white"
          },
          "hoverlabel": {
           "align": "left"
          },
          "hovermode": "closest",
          "mapbox": {
           "style": "light"
          },
          "paper_bgcolor": "white",
          "plot_bgcolor": "#E5ECF6",
          "polar": {
           "angularaxis": {
            "gridcolor": "white",
            "linecolor": "white",
            "ticks": ""
           },
           "bgcolor": "#E5ECF6",
           "radialaxis": {
            "gridcolor": "white",
            "linecolor": "white",
            "ticks": ""
           }
          },
          "scene": {
           "xaxis": {
            "backgroundcolor": "#E5ECF6",
            "gridcolor": "white",
            "gridwidth": 2,
            "linecolor": "white",
            "showbackground": true,
            "ticks": "",
            "zerolinecolor": "white"
           },
           "yaxis": {
            "backgroundcolor": "#E5ECF6",
            "gridcolor": "white",
            "gridwidth": 2,
            "linecolor": "white",
            "showbackground": true,
            "ticks": "",
            "zerolinecolor": "white"
           },
           "zaxis": {
            "backgroundcolor": "#E5ECF6",
            "gridcolor": "white",
            "gridwidth": 2,
            "linecolor": "white",
            "showbackground": true,
            "ticks": "",
            "zerolinecolor": "white"
           }
          },
          "shapedefaults": {
           "line": {
            "color": "#2a3f5f"
           }
          },
          "ternary": {
           "aaxis": {
            "gridcolor": "white",
            "linecolor": "white",
            "ticks": ""
           },
           "baxis": {
            "gridcolor": "white",
            "linecolor": "white",
            "ticks": ""
           },
           "bgcolor": "#E5ECF6",
           "caxis": {
            "gridcolor": "white",
            "linecolor": "white",
            "ticks": ""
           }
          },
          "title": {
           "x": 0.05
          },
          "xaxis": {
           "automargin": true,
           "gridcolor": "white",
           "linecolor": "white",
           "ticks": "",
           "title": {
            "standoff": 15
           },
           "zerolinecolor": "white",
           "zerolinewidth": 2
          },
          "yaxis": {
           "automargin": true,
           "gridcolor": "white",
           "linecolor": "white",
           "ticks": "",
           "title": {
            "standoff": 15
           },
           "zerolinecolor": "white",
           "zerolinewidth": 2
          }
         }
        },
        "title": {
         "text": "Part-of-speech per word tag"
        },
        "width": 1000
       }
      }
     },
     "metadata": {},
     "output_type": "display_data"
    }
   ],
   "source": [
    "# Count words per each POS per each tag\n",
    "pos_counts = df_features.groupby(['is_aspect', 'word.pos']).agg(word_count=pd.NamedAgg(column='is_aspect', aggfunc='count')).reset_index()\n",
    "\n",
    "# Separate data to aspect & non-aspect words\n",
    "aspect_pos_counts = pos_counts[pos_counts['is_aspect'] == 'aspect']\n",
    "non_aspect_pos_counts = pos_counts[pos_counts['is_aspect'] == 'non-aspect']\n",
    "\n",
    "# Plot POS per word type\n",
    "fig = make_subplots(rows=1, cols=2, specs=[[{'type':'domain'}, {'type':'domain'}]])\n",
    "# Aspects\n",
    "fig.add_trace(go.Pie(labels=aspect_pos_counts['word.pos'], values=aspect_pos_counts['word_count'], name=\"aspects\"),\n",
    "              1, 1)\n",
    "# Non-aspects\n",
    "fig.add_trace(go.Pie(labels=pos_counts_non_aspect['word.pos'], values=pos_counts_non_aspect['word_count'], name=\"non aspects\"),\n",
    "              1, 2)\n",
    "\n",
    "fig.update_traces(hole=.4, direction='clockwise', textinfo='label+percent', textposition='inside',showlegend = False)\n",
    "fig.update_layout(\n",
    "    width=1000,\n",
    "    height=500,\n",
    "    title_text=\"Part-of-speech per word tag\",\n",
    "    annotations=[dict(text='Aspect', x=0.188, y=0.5, font_size=16, showarrow=False),\n",
    "                 dict(text='Non-aspect', x=0.83, y=0.5, font_size=16, showarrow=False)])\n",
    "fig.show()"
   ]
  },
  {
   "cell_type": "markdown",
   "metadata": {},
   "source": [
    "## Opinion Lexicon - Aspect vs non-aspect terms"
   ]
  },
  {
   "cell_type": "code",
   "execution_count": 273,
   "metadata": {},
   "outputs": [
    {
     "data": {
      "text/html": [
       "<div>\n",
       "<style scoped>\n",
       "    .dataframe tbody tr th:only-of-type {\n",
       "        vertical-align: middle;\n",
       "    }\n",
       "\n",
       "    .dataframe tbody tr th {\n",
       "        vertical-align: top;\n",
       "    }\n",
       "\n",
       "    .dataframe thead th {\n",
       "        text-align: right;\n",
       "    }\n",
       "</style>\n",
       "<table border=\"1\" class=\"dataframe\">\n",
       "  <thead>\n",
       "    <tr style=\"text-align: right;\">\n",
       "      <th></th>\n",
       "      <th>POS_word_counts</th>\n",
       "      <th>NEG_word_counts</th>\n",
       "      <th>NEU_word_counts</th>\n",
       "    </tr>\n",
       "    <tr>\n",
       "      <th>sentiment</th>\n",
       "      <th></th>\n",
       "      <th></th>\n",
       "      <th></th>\n",
       "    </tr>\n",
       "  </thead>\n",
       "  <tbody>\n",
       "    <tr>\n",
       "      <th>CON</th>\n",
       "      <td>0.000000</td>\n",
       "      <td>0.015152</td>\n",
       "      <td>0.984848</td>\n",
       "    </tr>\n",
       "    <tr>\n",
       "      <th>NEU</th>\n",
       "      <td>0.015584</td>\n",
       "      <td>0.027273</td>\n",
       "      <td>0.957143</td>\n",
       "    </tr>\n",
       "    <tr>\n",
       "      <th>POS</th>\n",
       "      <td>0.025492</td>\n",
       "      <td>0.009468</td>\n",
       "      <td>0.965040</td>\n",
       "    </tr>\n",
       "    <tr>\n",
       "      <th>NEG</th>\n",
       "      <td>0.029478</td>\n",
       "      <td>0.022676</td>\n",
       "      <td>0.947846</td>\n",
       "    </tr>\n",
       "  </tbody>\n",
       "</table>\n",
       "</div>"
      ],
      "text/plain": [
       "           POS_word_counts  NEG_word_counts  NEU_word_counts\n",
       "sentiment                                                   \n",
       "CON               0.000000         0.015152         0.984848\n",
       "NEU               0.015584         0.027273         0.957143\n",
       "POS               0.025492         0.009468         0.965040\n",
       "NEG               0.029478         0.022676         0.947846"
      ]
     },
     "execution_count": 273,
     "metadata": {},
     "output_type": "execute_result"
    }
   ],
   "source": [
    "opnion_lexicon_columns = [x for x in list(df_features.columns) if re.match('.*opinionlexicon.*', x)]\n",
    "opnion_lexicon_columns.remove('word.opinionlexicon')\n",
    "\n",
    "df_aspects = df_features[df_features['is_aspect']=='aspect'].copy()\n",
    "df_opnions = df_aspects[opnion_lexicon_columns]\n",
    "df_aspects['POS_word_counts'] = df_opnions.map(lambda cell: bool(re.match('POS', str(cell)))).max(axis=1)\n",
    "df_aspects['NEG_word_counts'] = df_opnions.map(lambda cell: bool(re.match('NEG', str(cell)))).max(axis=1)\n",
    "df_aspects['NEU_word_counts'] = df_opnions.map(lambda cell: bool(re.match('NEU', str(cell)))).max(axis=1)\n",
    "\n",
    "df_aspects[df_aspects['is_aspect']=='aspect'].groupby('sentiment')[['POS_word_counts','NEG_word_counts','NEU_word_counts']].agg('mean').sort_values(by=['POS_word_counts'])"
   ]
  },
  {
   "cell_type": "code",
   "execution_count": null,
   "metadata": {},
   "outputs": [
    {
     "name": "stdout",
     "output_type": "stream",
     "text": [
      "['-No backlit keyboard, but not an issue for me.']\n",
      "[[{'term': 'keyboard', 'polarity': 'conflict', 'from': '12', 'to': '20'}]]\n",
      "\n",
      "[\"Speakers don't get that loud, but good enough.\"]\n",
      "[[{'term': 'Speakers', 'polarity': 'conflict', 'from': '0', 'to': '8'}]]\n",
      "\n",
      "['Yes, they cost more, but they more than make up for it in speed, construction quality, and longevity.']\n",
      "[[{'term': 'speed', 'polarity': 'positive', 'from': '58', 'to': '63'}, {'term': 'construction quality', 'polarity': 'positive', 'from': '65', 'to': '85'}, {'term': 'longevity', 'polarity': 'positive', 'from': '91', 'to': '100'}, {'term': 'cost', 'polarity': 'conflict', 'from': '10', 'to': '14'}]]\n",
      "\n",
      "['It absolutely is more expensive than most PC laptops, but the ease of use, security, and minimal problems that have arisen make it well worth the pricetag.']\n",
      "[[{'term': 'use', 'polarity': 'positive', 'from': '70', 'to': '73'}, {'term': 'security', 'polarity': 'positive', 'from': '75', 'to': '83'}, {'term': 'pricetag', 'polarity': 'conflict', 'from': '146', 'to': '154'}]]\n",
      "\n"
     ]
    }
   ],
   "source": [
    "for id in [1054, 2390, 2001, 599]:\n",
    "  print(df_train[df_train['id']==id]['text'].to_list())\n",
    "  print(df_train[df_train['id']==id]['aspects'].to_list())\n",
    "  print()"
   ]
  },
  {
   "cell_type": "code",
   "execution_count": 286,
   "metadata": {},
   "outputs": [
    {
     "data": {
      "application/vnd.plotly.v1+json": {
       "config": {
        "plotlyServerURL": "https://plot.ly"
       },
       "data": [
        {
         "alignmentgroup": "True",
         "hovertemplate": "Word Count Type=POS_word_counts<br>Sentiment=%{x}<br>Mean Word Count=%{y}<extra></extra>",
         "legendgroup": "POS_word_counts",
         "marker": {
          "color": "#636efa",
          "pattern": {
           "shape": ""
          }
         },
         "name": "POS_word_counts",
         "offsetgroup": "POS_word_counts",
         "orientation": "v",
         "showlegend": true,
         "textposition": "auto",
         "type": "bar",
         "x": [
          "CON",
          "NEU",
          "POS",
          "NEG"
         ],
         "xaxis": "x",
         "y": [
          0,
          0.015584415584415584,
          0.025491624180626365,
          0.02947845804988662
         ],
         "yaxis": "y"
        },
        {
         "alignmentgroup": "True",
         "hovertemplate": "Word Count Type=NEG_word_counts<br>Sentiment=%{x}<br>Mean Word Count=%{y}<extra></extra>",
         "legendgroup": "NEG_word_counts",
         "marker": {
          "color": "#EF553B",
          "pattern": {
           "shape": ""
          }
         },
         "name": "NEG_word_counts",
         "offsetgroup": "NEG_word_counts",
         "orientation": "v",
         "showlegend": true,
         "textposition": "auto",
         "type": "bar",
         "x": [
          "CON",
          "NEU",
          "POS",
          "NEG"
         ],
         "xaxis": "x",
         "y": [
          0.015151515151515152,
          0.02727272727272727,
          0.009468317552804079,
          0.022675736961451247
         ],
         "yaxis": "y"
        },
        {
         "alignmentgroup": "True",
         "hovertemplate": "Word Count Type=contextswitching_word_counts<br>Sentiment=%{x}<br>Mean Word Count=%{y}<extra></extra>",
         "legendgroup": "contextswitching_word_counts",
         "marker": {
          "color": "#00cc96",
          "pattern": {
           "shape": ""
          }
         },
         "name": "contextswitching_word_counts",
         "offsetgroup": "contextswitching_word_counts",
         "orientation": "v",
         "showlegend": true,
         "textposition": "auto",
         "type": "bar",
         "x": [
          "CON",
          "NEU",
          "POS",
          "NEG"
         ],
         "xaxis": "x",
         "y": [
          0.2878787878787879,
          0.04415584415584416,
          0.04005826656955572,
          0.061224489795918366
         ],
         "yaxis": "y"
        }
       ],
       "layout": {
        "barmode": "group",
        "legend": {
         "title": {
          "text": "Word Count Type"
         },
         "tracegroupgap": 0
        },
        "template": {
         "data": {
          "bar": [
           {
            "error_x": {
             "color": "#2a3f5f"
            },
            "error_y": {
             "color": "#2a3f5f"
            },
            "marker": {
             "line": {
              "color": "#E5ECF6",
              "width": 0.5
             },
             "pattern": {
              "fillmode": "overlay",
              "size": 10,
              "solidity": 0.2
             }
            },
            "type": "bar"
           }
          ],
          "barpolar": [
           {
            "marker": {
             "line": {
              "color": "#E5ECF6",
              "width": 0.5
             },
             "pattern": {
              "fillmode": "overlay",
              "size": 10,
              "solidity": 0.2
             }
            },
            "type": "barpolar"
           }
          ],
          "carpet": [
           {
            "aaxis": {
             "endlinecolor": "#2a3f5f",
             "gridcolor": "white",
             "linecolor": "white",
             "minorgridcolor": "white",
             "startlinecolor": "#2a3f5f"
            },
            "baxis": {
             "endlinecolor": "#2a3f5f",
             "gridcolor": "white",
             "linecolor": "white",
             "minorgridcolor": "white",
             "startlinecolor": "#2a3f5f"
            },
            "type": "carpet"
           }
          ],
          "choropleth": [
           {
            "colorbar": {
             "outlinewidth": 0,
             "ticks": ""
            },
            "type": "choropleth"
           }
          ],
          "contour": [
           {
            "colorbar": {
             "outlinewidth": 0,
             "ticks": ""
            },
            "colorscale": [
             [
              0,
              "#0d0887"
             ],
             [
              0.1111111111111111,
              "#46039f"
             ],
             [
              0.2222222222222222,
              "#7201a8"
             ],
             [
              0.3333333333333333,
              "#9c179e"
             ],
             [
              0.4444444444444444,
              "#bd3786"
             ],
             [
              0.5555555555555556,
              "#d8576b"
             ],
             [
              0.6666666666666666,
              "#ed7953"
             ],
             [
              0.7777777777777778,
              "#fb9f3a"
             ],
             [
              0.8888888888888888,
              "#fdca26"
             ],
             [
              1,
              "#f0f921"
             ]
            ],
            "type": "contour"
           }
          ],
          "contourcarpet": [
           {
            "colorbar": {
             "outlinewidth": 0,
             "ticks": ""
            },
            "type": "contourcarpet"
           }
          ],
          "heatmap": [
           {
            "colorbar": {
             "outlinewidth": 0,
             "ticks": ""
            },
            "colorscale": [
             [
              0,
              "#0d0887"
             ],
             [
              0.1111111111111111,
              "#46039f"
             ],
             [
              0.2222222222222222,
              "#7201a8"
             ],
             [
              0.3333333333333333,
              "#9c179e"
             ],
             [
              0.4444444444444444,
              "#bd3786"
             ],
             [
              0.5555555555555556,
              "#d8576b"
             ],
             [
              0.6666666666666666,
              "#ed7953"
             ],
             [
              0.7777777777777778,
              "#fb9f3a"
             ],
             [
              0.8888888888888888,
              "#fdca26"
             ],
             [
              1,
              "#f0f921"
             ]
            ],
            "type": "heatmap"
           }
          ],
          "heatmapgl": [
           {
            "colorbar": {
             "outlinewidth": 0,
             "ticks": ""
            },
            "colorscale": [
             [
              0,
              "#0d0887"
             ],
             [
              0.1111111111111111,
              "#46039f"
             ],
             [
              0.2222222222222222,
              "#7201a8"
             ],
             [
              0.3333333333333333,
              "#9c179e"
             ],
             [
              0.4444444444444444,
              "#bd3786"
             ],
             [
              0.5555555555555556,
              "#d8576b"
             ],
             [
              0.6666666666666666,
              "#ed7953"
             ],
             [
              0.7777777777777778,
              "#fb9f3a"
             ],
             [
              0.8888888888888888,
              "#fdca26"
             ],
             [
              1,
              "#f0f921"
             ]
            ],
            "type": "heatmapgl"
           }
          ],
          "histogram": [
           {
            "marker": {
             "pattern": {
              "fillmode": "overlay",
              "size": 10,
              "solidity": 0.2
             }
            },
            "type": "histogram"
           }
          ],
          "histogram2d": [
           {
            "colorbar": {
             "outlinewidth": 0,
             "ticks": ""
            },
            "colorscale": [
             [
              0,
              "#0d0887"
             ],
             [
              0.1111111111111111,
              "#46039f"
             ],
             [
              0.2222222222222222,
              "#7201a8"
             ],
             [
              0.3333333333333333,
              "#9c179e"
             ],
             [
              0.4444444444444444,
              "#bd3786"
             ],
             [
              0.5555555555555556,
              "#d8576b"
             ],
             [
              0.6666666666666666,
              "#ed7953"
             ],
             [
              0.7777777777777778,
              "#fb9f3a"
             ],
             [
              0.8888888888888888,
              "#fdca26"
             ],
             [
              1,
              "#f0f921"
             ]
            ],
            "type": "histogram2d"
           }
          ],
          "histogram2dcontour": [
           {
            "colorbar": {
             "outlinewidth": 0,
             "ticks": ""
            },
            "colorscale": [
             [
              0,
              "#0d0887"
             ],
             [
              0.1111111111111111,
              "#46039f"
             ],
             [
              0.2222222222222222,
              "#7201a8"
             ],
             [
              0.3333333333333333,
              "#9c179e"
             ],
             [
              0.4444444444444444,
              "#bd3786"
             ],
             [
              0.5555555555555556,
              "#d8576b"
             ],
             [
              0.6666666666666666,
              "#ed7953"
             ],
             [
              0.7777777777777778,
              "#fb9f3a"
             ],
             [
              0.8888888888888888,
              "#fdca26"
             ],
             [
              1,
              "#f0f921"
             ]
            ],
            "type": "histogram2dcontour"
           }
          ],
          "mesh3d": [
           {
            "colorbar": {
             "outlinewidth": 0,
             "ticks": ""
            },
            "type": "mesh3d"
           }
          ],
          "parcoords": [
           {
            "line": {
             "colorbar": {
              "outlinewidth": 0,
              "ticks": ""
             }
            },
            "type": "parcoords"
           }
          ],
          "pie": [
           {
            "automargin": true,
            "type": "pie"
           }
          ],
          "scatter": [
           {
            "fillpattern": {
             "fillmode": "overlay",
             "size": 10,
             "solidity": 0.2
            },
            "type": "scatter"
           }
          ],
          "scatter3d": [
           {
            "line": {
             "colorbar": {
              "outlinewidth": 0,
              "ticks": ""
             }
            },
            "marker": {
             "colorbar": {
              "outlinewidth": 0,
              "ticks": ""
             }
            },
            "type": "scatter3d"
           }
          ],
          "scattercarpet": [
           {
            "marker": {
             "colorbar": {
              "outlinewidth": 0,
              "ticks": ""
             }
            },
            "type": "scattercarpet"
           }
          ],
          "scattergeo": [
           {
            "marker": {
             "colorbar": {
              "outlinewidth": 0,
              "ticks": ""
             }
            },
            "type": "scattergeo"
           }
          ],
          "scattergl": [
           {
            "marker": {
             "colorbar": {
              "outlinewidth": 0,
              "ticks": ""
             }
            },
            "type": "scattergl"
           }
          ],
          "scattermapbox": [
           {
            "marker": {
             "colorbar": {
              "outlinewidth": 0,
              "ticks": ""
             }
            },
            "type": "scattermapbox"
           }
          ],
          "scatterpolar": [
           {
            "marker": {
             "colorbar": {
              "outlinewidth": 0,
              "ticks": ""
             }
            },
            "type": "scatterpolar"
           }
          ],
          "scatterpolargl": [
           {
            "marker": {
             "colorbar": {
              "outlinewidth": 0,
              "ticks": ""
             }
            },
            "type": "scatterpolargl"
           }
          ],
          "scatterternary": [
           {
            "marker": {
             "colorbar": {
              "outlinewidth": 0,
              "ticks": ""
             }
            },
            "type": "scatterternary"
           }
          ],
          "surface": [
           {
            "colorbar": {
             "outlinewidth": 0,
             "ticks": ""
            },
            "colorscale": [
             [
              0,
              "#0d0887"
             ],
             [
              0.1111111111111111,
              "#46039f"
             ],
             [
              0.2222222222222222,
              "#7201a8"
             ],
             [
              0.3333333333333333,
              "#9c179e"
             ],
             [
              0.4444444444444444,
              "#bd3786"
             ],
             [
              0.5555555555555556,
              "#d8576b"
             ],
             [
              0.6666666666666666,
              "#ed7953"
             ],
             [
              0.7777777777777778,
              "#fb9f3a"
             ],
             [
              0.8888888888888888,
              "#fdca26"
             ],
             [
              1,
              "#f0f921"
             ]
            ],
            "type": "surface"
           }
          ],
          "table": [
           {
            "cells": {
             "fill": {
              "color": "#EBF0F8"
             },
             "line": {
              "color": "white"
             }
            },
            "header": {
             "fill": {
              "color": "#C8D4E3"
             },
             "line": {
              "color": "white"
             }
            },
            "type": "table"
           }
          ]
         },
         "layout": {
          "annotationdefaults": {
           "arrowcolor": "#2a3f5f",
           "arrowhead": 0,
           "arrowwidth": 1
          },
          "autotypenumbers": "strict",
          "coloraxis": {
           "colorbar": {
            "outlinewidth": 0,
            "ticks": ""
           }
          },
          "colorscale": {
           "diverging": [
            [
             0,
             "#8e0152"
            ],
            [
             0.1,
             "#c51b7d"
            ],
            [
             0.2,
             "#de77ae"
            ],
            [
             0.3,
             "#f1b6da"
            ],
            [
             0.4,
             "#fde0ef"
            ],
            [
             0.5,
             "#f7f7f7"
            ],
            [
             0.6,
             "#e6f5d0"
            ],
            [
             0.7,
             "#b8e186"
            ],
            [
             0.8,
             "#7fbc41"
            ],
            [
             0.9,
             "#4d9221"
            ],
            [
             1,
             "#276419"
            ]
           ],
           "sequential": [
            [
             0,
             "#0d0887"
            ],
            [
             0.1111111111111111,
             "#46039f"
            ],
            [
             0.2222222222222222,
             "#7201a8"
            ],
            [
             0.3333333333333333,
             "#9c179e"
            ],
            [
             0.4444444444444444,
             "#bd3786"
            ],
            [
             0.5555555555555556,
             "#d8576b"
            ],
            [
             0.6666666666666666,
             "#ed7953"
            ],
            [
             0.7777777777777778,
             "#fb9f3a"
            ],
            [
             0.8888888888888888,
             "#fdca26"
            ],
            [
             1,
             "#f0f921"
            ]
           ],
           "sequentialminus": [
            [
             0,
             "#0d0887"
            ],
            [
             0.1111111111111111,
             "#46039f"
            ],
            [
             0.2222222222222222,
             "#7201a8"
            ],
            [
             0.3333333333333333,
             "#9c179e"
            ],
            [
             0.4444444444444444,
             "#bd3786"
            ],
            [
             0.5555555555555556,
             "#d8576b"
            ],
            [
             0.6666666666666666,
             "#ed7953"
            ],
            [
             0.7777777777777778,
             "#fb9f3a"
            ],
            [
             0.8888888888888888,
             "#fdca26"
            ],
            [
             1,
             "#f0f921"
            ]
           ]
          },
          "colorway": [
           "#636efa",
           "#EF553B",
           "#00cc96",
           "#ab63fa",
           "#FFA15A",
           "#19d3f3",
           "#FF6692",
           "#B6E880",
           "#FF97FF",
           "#FECB52"
          ],
          "font": {
           "color": "#2a3f5f"
          },
          "geo": {
           "bgcolor": "white",
           "lakecolor": "white",
           "landcolor": "#E5ECF6",
           "showlakes": true,
           "showland": true,
           "subunitcolor": "white"
          },
          "hoverlabel": {
           "align": "left"
          },
          "hovermode": "closest",
          "mapbox": {
           "style": "light"
          },
          "paper_bgcolor": "white",
          "plot_bgcolor": "#E5ECF6",
          "polar": {
           "angularaxis": {
            "gridcolor": "white",
            "linecolor": "white",
            "ticks": ""
           },
           "bgcolor": "#E5ECF6",
           "radialaxis": {
            "gridcolor": "white",
            "linecolor": "white",
            "ticks": ""
           }
          },
          "scene": {
           "xaxis": {
            "backgroundcolor": "#E5ECF6",
            "gridcolor": "white",
            "gridwidth": 2,
            "linecolor": "white",
            "showbackground": true,
            "ticks": "",
            "zerolinecolor": "white"
           },
           "yaxis": {
            "backgroundcolor": "#E5ECF6",
            "gridcolor": "white",
            "gridwidth": 2,
            "linecolor": "white",
            "showbackground": true,
            "ticks": "",
            "zerolinecolor": "white"
           },
           "zaxis": {
            "backgroundcolor": "#E5ECF6",
            "gridcolor": "white",
            "gridwidth": 2,
            "linecolor": "white",
            "showbackground": true,
            "ticks": "",
            "zerolinecolor": "white"
           }
          },
          "shapedefaults": {
           "line": {
            "color": "#2a3f5f"
           }
          },
          "ternary": {
           "aaxis": {
            "gridcolor": "white",
            "linecolor": "white",
            "ticks": ""
           },
           "baxis": {
            "gridcolor": "white",
            "linecolor": "white",
            "ticks": ""
           },
           "bgcolor": "#E5ECF6",
           "caxis": {
            "gridcolor": "white",
            "linecolor": "white",
            "ticks": ""
           }
          },
          "title": {
           "x": 0.05
          },
          "xaxis": {
           "automargin": true,
           "gridcolor": "white",
           "linecolor": "white",
           "ticks": "",
           "title": {
            "standoff": 15
           },
           "zerolinecolor": "white",
           "zerolinewidth": 2
          },
          "yaxis": {
           "automargin": true,
           "gridcolor": "white",
           "linecolor": "white",
           "ticks": "",
           "title": {
            "standoff": 15
           },
           "zerolinecolor": "white",
           "zerolinewidth": 2
          }
         }
        },
        "title": {
         "text": "% aspect words contains positive, negative, and context switching context words by Sentiment"
        },
        "xaxis": {
         "anchor": "y",
         "domain": [
          0,
          1
         ],
         "title": {
          "text": "Sentiment"
         }
        },
        "yaxis": {
         "anchor": "x",
         "domain": [
          0,
          1
         ],
         "title": {
          "text": "Mean Word Count"
         }
        }
       }
      }
     },
     "metadata": {},
     "output_type": "display_data"
    }
   ],
   "source": [
    "context_switching_columns = [x for x in list(df_features.columns) if re.match('.*contextswitching.*', x)]\n",
    "\n",
    "df_aspects['contextswitching_word_counts'] = df_aspects[context_switching_columns].max(axis=1)\n",
    "sentiment_context_summary = df_aspects[df_aspects['is_aspect']=='aspect'].groupby('sentiment')[['POS_word_counts','NEG_word_counts','contextswitching_word_counts']].agg('mean').sort_values(by=['POS_word_counts'])\n",
    "\n",
    "fig = px.bar( sentiment_context_summary.astype(float), x=sentiment_context_summary.index, y=['POS_word_counts', 'NEG_word_counts', 'contextswitching_word_counts'],\n",
    "             title='% aspect words contains positive, negative, and context switching context words by Sentiment',\n",
    "             labels={'value': 'Mean Word Count', 'variable': 'Word Count Type', 'sentiment': 'Sentiment'},\n",
    "             barmode='group')\n",
    "\n",
    "sentiment_context_summary\n",
    "# Show the plot\n",
    "fig.show()"
   ]
  },
  {
   "cell_type": "markdown",
   "metadata": {},
   "source": [
    "# Split data"
   ]
  },
  {
   "cell_type": "code",
   "execution_count": 345,
   "metadata": {},
   "outputs": [
    {
     "name": "stdout",
     "output_type": "stream",
     "text": [
      "# of possible incorrect labels in df:  20 (1% total records)\n",
      "\n",
      "\n",
      " Some incorrect examples\n",
      "Text token:  ['The', 'tech', 'guy', 'then', 'said', 'the', 'service', 'center', 'does', 'not', 'do', '1-to-1', 'exchange', 'and', 'I', 'have', 'to', 'direct', 'my', 'concern', 'to', 'the', '', \"''\", 'sales', \"''\", 'team', ',', 'which', 'is', 'the', 'retail', 'shop', 'which', 'I', 'bought', 'my', 'netbook', 'from', '.']\n",
      "Dataset provided aspects - original form:  [{'term': 'service center', 'polarity': 'negative', 'from': '27', 'to': '41'}, {'term': '\"sales\" team', 'polarity': 'negative', 'from': '109', 'to': '121'}, {'term': 'tech guy', 'polarity': 'neutral', 'from': '4', 'to': '12'}]\n",
      "Dataset provided aspects - Computed aspects:  (' tech guy service center \"sales\" team', \" tech guy service center  '' sales '' team\")\n",
      "Unified BIO tagging:  ['O', 'B-NEU', 'I-NEU', 'O', 'O', 'O', 'B-NEG', 'I-NEG', 'O', 'O', 'O', 'O', 'O', 'O', 'O', 'O', 'O', 'O', 'O', 'O', 'O', 'O', 'B-NEG', 'I-NEG', 'I-NEG', 'I-NEG', 'I-NEG', 'O', 'O', 'O', 'O', 'O', 'O', 'O', 'O', 'O', 'O', 'O', 'O', 'O']\n",
      "Total text tokens:  40\n",
      "Total BIO tags:  40\n",
      "\n",
      "\n",
      "Text token:  ['I', 'also', 'got', 'the', 'added', 'bonus', 'of', 'a', '30', \"''\", 'HD', 'Monitor', ',', 'which', 'really', 'helps', 'to', 'extend', 'my', 'screen', 'and', 'keep', 'my', 'eyes', 'fresh', '!']\n",
      "Dataset provided aspects - original form:  [{'term': '30\" HD Monitor', 'polarity': 'positive', 'from': '32', 'to': '46'}, {'term': 'screen', 'polarity': 'neutral', 'from': '80', 'to': '86'}]\n",
      "Dataset provided aspects - Computed aspects:  (' 30\" HD Monitor screen', \" 30 '' HD Monitor screen\")\n",
      "Unified BIO tagging:  ['O', 'O', 'O', 'O', 'O', 'O', 'O', 'O', 'B-POS', 'I-POS', 'I-POS', 'I-POS', 'O', 'O', 'O', 'O', 'O', 'O', 'O', 'B-NEU', 'O', 'O', 'O', 'O', 'O', 'O']\n",
      "Total text tokens:  26\n",
      "Total BIO tags:  26\n",
      "\n",
      "\n",
      "2428 2428\n",
      "608 608\n"
     ]
    }
   ],
   "source": [
    "# Reload the data to make sure we have the clean data\n",
    "df_train = pd.read_json('data/laptop/train.json')\n",
    "\n",
    "# Drop duplicates as we identified and inspected previously\n",
    "df_train.drop_duplicates(subset='text',inplace=True)\n",
    "\n",
    "# Prepare the data: BIO tagging & get word features\n",
    "df_train[['features', 'unified_BIO_tag']] = prepare_df(df_train, 9, True)\n",
    "\n",
    "X = df_train[['id','features']]\n",
    "y = df_train['unified_BIO_tag']\n",
    "\n",
    "X_train, X_test, y_train, y_test = train_test_split(X, y, test_size=0.2, random_state=42)\n",
    "\n",
    "print(len(X_train), len(y_train))\n",
    "print(len(X_test), len(y_test))"
   ]
  },
  {
   "cell_type": "code",
   "execution_count": 423,
   "metadata": {},
   "outputs": [
    {
     "data": {
      "text/html": [
       "<div>\n",
       "<style scoped>\n",
       "    .dataframe tbody tr th:only-of-type {\n",
       "        vertical-align: middle;\n",
       "    }\n",
       "\n",
       "    .dataframe tbody tr th {\n",
       "        vertical-align: top;\n",
       "    }\n",
       "\n",
       "    .dataframe thead th {\n",
       "        text-align: right;\n",
       "    }\n",
       "</style>\n",
       "<table border=\"1\" class=\"dataframe\">\n",
       "  <thead>\n",
       "    <tr style=\"text-align: right;\">\n",
       "      <th></th>\n",
       "      <th>id</th>\n",
       "      <th>features</th>\n",
       "    </tr>\n",
       "  </thead>\n",
       "  <tbody>\n",
       "    <tr>\n",
       "      <th>228</th>\n",
       "      <td>2465</td>\n",
       "      <td>[{'word.lower()': 'since', 'word.index()': 0, ...</td>\n",
       "    </tr>\n",
       "    <tr>\n",
       "      <th>366</th>\n",
       "      <td>924</td>\n",
       "      <td>[{'word.lower()': 'no', 'word.index()': 0, 'wo...</td>\n",
       "    </tr>\n",
       "    <tr>\n",
       "      <th>2935</th>\n",
       "      <td>112</td>\n",
       "      <td>[{'word.lower()': 'the', 'word.index()': 0, 'w...</td>\n",
       "    </tr>\n",
       "    <tr>\n",
       "      <th>2507</th>\n",
       "      <td>2689</td>\n",
       "      <td>[{'word.lower()': 'i', 'word.index()': 0, 'wor...</td>\n",
       "    </tr>\n",
       "    <tr>\n",
       "      <th>2005</th>\n",
       "      <td>254</td>\n",
       "      <td>[{'word.lower()': 'maybe', 'word.index()': 0, ...</td>\n",
       "    </tr>\n",
       "  </tbody>\n",
       "</table>\n",
       "</div>"
      ],
      "text/plain": [
       "        id                                           features\n",
       "228   2465  [{'word.lower()': 'since', 'word.index()': 0, ...\n",
       "366    924  [{'word.lower()': 'no', 'word.index()': 0, 'wo...\n",
       "2935   112  [{'word.lower()': 'the', 'word.index()': 0, 'w...\n",
       "2507  2689  [{'word.lower()': 'i', 'word.index()': 0, 'wor...\n",
       "2005   254  [{'word.lower()': 'maybe', 'word.index()': 0, ..."
      ]
     },
     "execution_count": 423,
     "metadata": {},
     "output_type": "execute_result"
    }
   ],
   "source": [
    "X_train.head()"
   ]
  },
  {
   "cell_type": "markdown",
   "metadata": {},
   "source": [
    "# Random forest\n",
    "\n",
    "- Scale the data\n",
    "- Add regularization"
   ]
  },
  {
   "cell_type": "markdown",
   "metadata": {},
   "source": [
    "## Data prepration"
   ]
  },
  {
   "cell_type": "code",
   "execution_count": 431,
   "metadata": {},
   "outputs": [],
   "source": [
    "# Convert word features into data frame\n",
    "def data_prep_rf(X, y, one_hot_encoder=None):\n",
    "  X_rf = pd.concat([features2df(X.iloc[i]['id'], X.iloc[i]['features']) for i in range(0, len(X))], ignore_index=True)\n",
    "  y_rf = [tag for sentence in y for tag in sentence]\n",
    "\n",
    "  X_rf.replace(True,1, inplace=True)\n",
    "  X_rf.replace(False,0, inplace=True)\n",
    "\n",
    "  # List of object-type columns\n",
    "  object_columns = X_rf.select_dtypes(include=['object']).columns\n",
    "\n",
    "  # Fill NaN values in object-type columns with a specific value\n",
    "  X_rf[object_columns] = X_rf[object_columns].fillna(value='missing')\n",
    "\n",
    "  X_rf = X_rf.fillna(-1)\n",
    "  \n",
    "  drop_cols = [x for x in list(X_rf.columns) if re.match('(.*word\\.lower\\(\\))|(.*word\\[-\\d\\:])', x)] + ['nth_sentence'] # word columns\n",
    "  X_rf = X_rf.drop(columns=drop_cols, axis=1)\n",
    "  # X_rf = pd.get_dummies(X_rf, drop_first=True)\n",
    "\n",
    "  if one_hot_encoder is None:\n",
    "    # Initialize the OneHotEncoder\n",
    "    one_hot_encoder = OneHotEncoder(sparse_output=False, drop='first')  # 'drop' parameter is optional, set to 'first' to avoid multicollinearity\n",
    "\n",
    "    # Fit and transform the categorical column\n",
    "    encoded_data = one_hot_encoder.fit_transform(X_rf.select_dtypes(include=['object']))\n",
    "  else:\n",
    "    encoded_data = one_hot_encoder.transform(X_rf.select_dtypes(include=['object']))\n",
    "\n",
    "  # Display the one-hot encoded data as a DataFrame\n",
    "  df_encoded = pd.DataFrame(encoded_data, columns=one_hot_encoder.get_feature_names_out(X_rf.select_dtypes(include=['object']).columns))\n",
    "\n",
    "  # Concatenate the original DataFrame and the one-hot encoded DataFrame\n",
    "  X_rf = pd.concat([X_rf, df_encoded], axis=1)\n",
    "\n",
    "  X_rf.drop(columns=X_rf.select_dtypes(include=['object']).columns, inplace=True)\n",
    "\n",
    "  return X_rf, y_rf, one_hot_encoder"
   ]
  },
  {
   "cell_type": "code",
   "execution_count": 433,
   "metadata": {},
   "outputs": [],
   "source": [
    "X_train_rf, y_train_rf, one_hot_encoder = data_prep_rf(X_train, y_train)\n",
    "X_test_rf, y_test_rf, _ = data_prep_rf(X_test, y_test, one_hot_encoder)"
   ]
  },
  {
   "cell_type": "code",
   "execution_count": 478,
   "metadata": {},
   "outputs": [
    {
     "name": "stdout",
     "output_type": "stream",
     "text": [
      "Class distribution before oversampling: Counter({'O': 38080, 'B-POS': 789, 'B-NEG': 651, 'I-NEG': 352, 'B-NEU': 348, 'I-POS': 286, 'I-NEU': 218, 'B-CON': 36, 'I-CON': 14})\n",
      "Class distribution after oversampling: Counter({'O': 38080, 'B-POS': 38080, 'I-POS': 38080, 'B-NEG': 38080, 'B-NEU': 38080, 'I-NEU': 38080, 'I-NEG': 38080, 'B-CON': 38080, 'I-CON': 38080})\n"
     ]
    }
   ],
   "source": [
    "from imblearn.over_sampling import SMOTE\n",
    "\n",
    "\n",
    "# Display class distribution before oversampling\n",
    "print(\"Class distribution before oversampling:\", Counter(y_train_rf))\n",
    "\n",
    "# Apply SMOTE to upsample the minority class\n",
    "smote = SMOTE(random_state=42)\n",
    "X_train_rf_resampled, y_train_rf_resampled = smote.fit_resample(X_train_rf, y_train_rf)\n",
    "\n",
    "# Display class distribution after oversampling\n",
    "print(\"Class distribution after oversampling:\", Counter(y_train_rf_resampled))"
   ]
  },
  {
   "cell_type": "code",
   "execution_count": 457,
   "metadata": {},
   "outputs": [
    {
     "name": "stdout",
     "output_type": "stream",
     "text": [
      "(342720, 456) 342720\n",
      "(10371, 456) 10371\n"
     ]
    }
   ],
   "source": [
    "# Initialize the StandardScaler\n",
    "scaler = StandardScaler()\n",
    "\n",
    "# Fit and transform the features\n",
    "X_train_rf_scaled = scaler.fit_transform(X_train_rf_resampled)\n",
    "X_test_rf_scaled = scaler.transform(X_test_rf) # Double check why we are seeing more columns in test????\n",
    "\n",
    "print(X_train_rf_scaled.shape, len(y_train_rf_resampled))\n",
    "print(X_test_rf_scaled.shape, len(y_test_rf))"
   ]
  },
  {
   "cell_type": "markdown",
   "metadata": {},
   "source": [
    "## Default model"
   ]
  },
  {
   "cell_type": "code",
   "execution_count": 458,
   "metadata": {},
   "outputs": [
    {
     "data": {
      "text/html": [
       "<style>#sk-container-id-6 {color: black;}#sk-container-id-6 pre{padding: 0;}#sk-container-id-6 div.sk-toggleable {background-color: white;}#sk-container-id-6 label.sk-toggleable__label {cursor: pointer;display: block;width: 100%;margin-bottom: 0;padding: 0.3em;box-sizing: border-box;text-align: center;}#sk-container-id-6 label.sk-toggleable__label-arrow:before {content: \"▸\";float: left;margin-right: 0.25em;color: #696969;}#sk-container-id-6 label.sk-toggleable__label-arrow:hover:before {color: black;}#sk-container-id-6 div.sk-estimator:hover label.sk-toggleable__label-arrow:before {color: black;}#sk-container-id-6 div.sk-toggleable__content {max-height: 0;max-width: 0;overflow: hidden;text-align: left;background-color: #f0f8ff;}#sk-container-id-6 div.sk-toggleable__content pre {margin: 0.2em;color: black;border-radius: 0.25em;background-color: #f0f8ff;}#sk-container-id-6 input.sk-toggleable__control:checked~div.sk-toggleable__content {max-height: 200px;max-width: 100%;overflow: auto;}#sk-container-id-6 input.sk-toggleable__control:checked~label.sk-toggleable__label-arrow:before {content: \"▾\";}#sk-container-id-6 div.sk-estimator input.sk-toggleable__control:checked~label.sk-toggleable__label {background-color: #d4ebff;}#sk-container-id-6 div.sk-label input.sk-toggleable__control:checked~label.sk-toggleable__label {background-color: #d4ebff;}#sk-container-id-6 input.sk-hidden--visually {border: 0;clip: rect(1px 1px 1px 1px);clip: rect(1px, 1px, 1px, 1px);height: 1px;margin: -1px;overflow: hidden;padding: 0;position: absolute;width: 1px;}#sk-container-id-6 div.sk-estimator {font-family: monospace;background-color: #f0f8ff;border: 1px dotted black;border-radius: 0.25em;box-sizing: border-box;margin-bottom: 0.5em;}#sk-container-id-6 div.sk-estimator:hover {background-color: #d4ebff;}#sk-container-id-6 div.sk-parallel-item::after {content: \"\";width: 100%;border-bottom: 1px solid gray;flex-grow: 1;}#sk-container-id-6 div.sk-label:hover label.sk-toggleable__label {background-color: #d4ebff;}#sk-container-id-6 div.sk-serial::before {content: \"\";position: absolute;border-left: 1px solid gray;box-sizing: border-box;top: 0;bottom: 0;left: 50%;z-index: 0;}#sk-container-id-6 div.sk-serial {display: flex;flex-direction: column;align-items: center;background-color: white;padding-right: 0.2em;padding-left: 0.2em;position: relative;}#sk-container-id-6 div.sk-item {position: relative;z-index: 1;}#sk-container-id-6 div.sk-parallel {display: flex;align-items: stretch;justify-content: center;background-color: white;position: relative;}#sk-container-id-6 div.sk-item::before, #sk-container-id-6 div.sk-parallel-item::before {content: \"\";position: absolute;border-left: 1px solid gray;box-sizing: border-box;top: 0;bottom: 0;left: 50%;z-index: -1;}#sk-container-id-6 div.sk-parallel-item {display: flex;flex-direction: column;z-index: 1;position: relative;background-color: white;}#sk-container-id-6 div.sk-parallel-item:first-child::after {align-self: flex-end;width: 50%;}#sk-container-id-6 div.sk-parallel-item:last-child::after {align-self: flex-start;width: 50%;}#sk-container-id-6 div.sk-parallel-item:only-child::after {width: 0;}#sk-container-id-6 div.sk-dashed-wrapped {border: 1px dashed gray;margin: 0 0.4em 0.5em 0.4em;box-sizing: border-box;padding-bottom: 0.4em;background-color: white;}#sk-container-id-6 div.sk-label label {font-family: monospace;font-weight: bold;display: inline-block;line-height: 1.2em;}#sk-container-id-6 div.sk-label-container {text-align: center;}#sk-container-id-6 div.sk-container {/* jupyter's `normalize.less` sets `[hidden] { display: none; }` but bootstrap.min.css set `[hidden] { display: none !important; }` so we also need the `!important` here to be able to override the default hidden behavior on the sphinx rendered scikit-learn.org. See: https://github.com/scikit-learn/scikit-learn/issues/21755 */display: inline-block !important;position: relative;}#sk-container-id-6 div.sk-text-repr-fallback {display: none;}</style><div id=\"sk-container-id-6\" class=\"sk-top-container\"><div class=\"sk-text-repr-fallback\"><pre>RandomForestClassifier(n_estimators=50, random_state=42)</pre><b>In a Jupyter environment, please rerun this cell to show the HTML representation or trust the notebook. <br />On GitHub, the HTML representation is unable to render, please try loading this page with nbviewer.org.</b></div><div class=\"sk-container\" hidden><div class=\"sk-item\"><div class=\"sk-estimator sk-toggleable\"><input class=\"sk-toggleable__control sk-hidden--visually\" id=\"sk-estimator-id-6\" type=\"checkbox\" checked><label for=\"sk-estimator-id-6\" class=\"sk-toggleable__label sk-toggleable__label-arrow\">RandomForestClassifier</label><div class=\"sk-toggleable__content\"><pre>RandomForestClassifier(n_estimators=50, random_state=42)</pre></div></div></div></div></div>"
      ],
      "text/plain": [
       "RandomForestClassifier(n_estimators=50, random_state=42)"
      ]
     },
     "execution_count": 458,
     "metadata": {},
     "output_type": "execute_result"
    }
   ],
   "source": [
    "# Create a Random Forest classifier\n",
    "rf_classifier = RandomForestClassifier(n_estimators=50, random_state=42)\n",
    "\n",
    "# Train the model\n",
    "rf_classifier.fit(X_train_rf_scaled, y_train_rf)"
   ]
  },
  {
   "cell_type": "code",
   "execution_count": 460,
   "metadata": {},
   "outputs": [
    {
     "name": "stdout",
     "output_type": "stream",
     "text": [
      "Accuracy: 0.9188120721241925\n",
      "Classification Report:\n",
      "              precision    recall  f1-score   support\n",
      "\n",
      "       B-CON       0.00      0.00      0.00         9\n",
      "       B-NEG       0.39      0.03      0.06       215\n",
      "       B-NEU       0.20      0.01      0.02       115\n",
      "       B-POS       0.36      0.12      0.17       199\n",
      "       I-CON       0.00      0.00      0.00         7\n",
      "       I-NEG       0.29      0.02      0.04       105\n",
      "       I-NEU       0.33      0.01      0.02        89\n",
      "       I-POS       0.28      0.07      0.11        99\n",
      "           O       0.93      1.00      0.96      9533\n",
      "\n",
      "    accuracy                           0.92     10371\n",
      "   macro avg       0.31      0.14      0.15     10371\n",
      "weighted avg       0.88      0.92      0.89     10371\n",
      "\n"
     ]
    },
    {
     "name": "stderr",
     "output_type": "stream",
     "text": [
      "/Users/tina.vu/work/fun/brainstation_capstone_env/brainstation_capstone/lib/python3.9/site-packages/sklearn/metrics/_classification.py:1469: UndefinedMetricWarning:\n",
      "\n",
      "Precision and F-score are ill-defined and being set to 0.0 in labels with no predicted samples. Use `zero_division` parameter to control this behavior.\n",
      "\n",
      "/Users/tina.vu/work/fun/brainstation_capstone_env/brainstation_capstone/lib/python3.9/site-packages/sklearn/metrics/_classification.py:1469: UndefinedMetricWarning:\n",
      "\n",
      "Precision and F-score are ill-defined and being set to 0.0 in labels with no predicted samples. Use `zero_division` parameter to control this behavior.\n",
      "\n",
      "/Users/tina.vu/work/fun/brainstation_capstone_env/brainstation_capstone/lib/python3.9/site-packages/sklearn/metrics/_classification.py:1469: UndefinedMetricWarning:\n",
      "\n",
      "Precision and F-score are ill-defined and being set to 0.0 in labels with no predicted samples. Use `zero_division` parameter to control this behavior.\n",
      "\n"
     ]
    }
   ],
   "source": [
    "# Make predictions on the test set\n",
    "y_pred_rf = rf_classifier.predict(X_test_rf_scaled)\n",
    "\n",
    "# Evaluate the model\n",
    "accuracy = accuracy_score(y_test_rf, y_pred_rf)\n",
    "classification_rep = classification_report(y_test_rf, y_pred_rf)\n",
    "\n",
    "print(f\"Accuracy: {accuracy}\")\n",
    "print(\"Classification Report:\")\n",
    "print(classification_rep)"
   ]
  },
  {
   "cell_type": "code",
   "execution_count": 465,
   "metadata": {},
   "outputs": [
    {
     "data": {
      "text/plain": [
       "array([[   0,    0,    0,    2,    0,    0,    0,    0,    7],\n",
       "       [   0,    7,    0,    6,    0,    0,    0,    1,  201],\n",
       "       [   0,    1,    1,    3,    0,    0,    0,    1,  109],\n",
       "       [   0,    3,    1,   23,    0,    0,    0,    2,  170],\n",
       "       [   0,    0,    0,    0,    0,    0,    0,    0,    7],\n",
       "       [   0,    0,    0,    2,    0,    2,    1,    4,   96],\n",
       "       [   0,    0,    0,    2,    0,    1,    1,    1,   84],\n",
       "       [   0,    1,    0,    1,    0,    2,    1,    7,   87],\n",
       "       [   0,    6,    3,   25,    0,    2,    0,    9, 9488]])"
      ]
     },
     "execution_count": 465,
     "metadata": {},
     "output_type": "execute_result"
    }
   ],
   "source": [
    "conf_matrix"
   ]
  },
  {
   "cell_type": "code",
   "execution_count": 472,
   "metadata": {},
   "outputs": [
    {
     "data": {
      "image/png": "[encoded data removed]",
      "text/plain": [
       "<Figure size 800x600 with 2 Axes>"
      ]
     },
     "metadata": {},
     "output_type": "display_data"
    }
   ],
   "source": [
    "from sklearn.metrics import confusion_matrix\n",
    "\n",
    "# Compute confusion matrix\n",
    "conf_matrix = confusion_matrix(y_test_rf, y_pred_rf)\n",
    "\n",
    "# Plot the confusion matrix with seaborn\n",
    "plt.figure(figsize=(8, 6))\n",
    "sns.heatmap(conf_matrix, annot=True, fmt='d', cmap='Blues', xticklabels=rf_classifier.classes_, yticklabels=rf_classifier.classes_, vmax=10)\n",
    "plt.title('Confusion Matrix')\n",
    "plt.xlabel('Predicted Label')\n",
    "plt.ylabel('True Label')\n",
    "plt.show()"
   ]
  },
  {
   "cell_type": "markdown",
   "metadata": {},
   "source": [
    "# CRF model"
   ]
  },
  {
   "cell_type": "code",
   "execution_count": null,
   "metadata": {},
   "outputs": [],
   "source": [
    "# Create and train CRF model\n",
    "crf_model = CRF(algorithm='lbfgs', c1=0.1, c2=0.1, max_iterations=100)\n",
    "try:\n",
    "  crf_model.fit(X_train, y_train)\n",
    "except AttributeError:\n",
    "  pass"
   ]
  },
  {
   "cell_type": "code",
   "execution_count": null,
   "metadata": {},
   "outputs": [],
   "source": [
    "# def post_process_predictions(predictions):\n",
    "#   for i in range(1, len(predictions)):\n",
    "#       if predictions[i] == 'I' and predictions[i - 1] == 'O':\n",
    "#           predictions[i] = 'O'  # Change 'I' to 'O' if not preceded by 'B'\n",
    "#   return predictions"
   ]
  },
  {
   "cell_type": "markdown",
   "metadata": {},
   "source": [
    "# Model evaluation"
   ]
  },
  {
   "cell_type": "markdown",
   "metadata": {},
   "source": [
    "## Sample visualization"
   ]
  },
  {
   "cell_type": "code",
   "execution_count": null,
   "metadata": {},
   "outputs": [],
   "source": [
    "import matplotlib.pyplot as plt\n",
    "import matplotlib\n",
    "import random\n",
    "from highlight_text import HighlightText, ax_text, fig_text\n",
    "\n",
    "def vizualize_samples (sentences, pred_tags, tags = None):\n",
    "\n",
    "  fig, ax = plt.subplots(figsize=(30,10))\n",
    "  font = {'family' : 'arial',\n",
    "          'size'   : 16}\n",
    "  matplotlib.rc('font', **font)\n",
    "  final_text = []\n",
    "  color = []\n",
    "  pos_element = {\"bbox\": {\"edgecolor\": \"Green\", \"facecolor\": \"#99FF00\", \"linewidth\": 1.5, \"pad\": 1}} \n",
    "  neu_element = {\"bbox\": {\"edgecolor\": \"Orange\", \"facecolor\": \"Yellow\", \"linewidth\": 1.5, \"pad\": 1.5}} \n",
    "  neg_element = {\"bbox\": {\"edgecolor\": \"Red\", \"facecolor\": \"#FF99CC\", \"linewidth\": 1.5, \"pad\": 1}}\n",
    "  \n",
    "  color_map = {'POS': pos_element, 'NEU': neu_element, 'NEG':neg_element}\n",
    "\n",
    "  for s in range(0, len(sentences)):\n",
    "    final_text.append('(P) ')\n",
    "    chunk = []\n",
    "    next_tag = ''\n",
    "    \n",
    "    for w in range(0, len(sentences[s])):\n",
    "      # print(w)\n",
    "      word = sentences[s][w]\n",
    "      tag = pred_tags[s][w]\n",
    "      # print(tag[2:])  \n",
    "      if w + 1 < len(sentences[s]):\n",
    "        next_tag = pred_tags[s][w+1]\n",
    "      else:\n",
    "        next_tag = 'O'\n",
    "      \n",
    "      # print(word, tag, next_tag)\n",
    "\n",
    "      if tag == 'O':\n",
    "        final_text.append(word)\n",
    "      elif (tag in ['I-POS','I-NEG', 'I-NEU','B-POS','B-NEG', 'B-NEU']):\n",
    "        chunk.append(word)\n",
    "\n",
    "      if (next_tag in ['B-POS','B-NEG', 'B-NEU', 'O']) & (len(chunk) > 0):\n",
    "        final_text.append(f'  <{\" \".join(chunk)}>  ')\n",
    "        color.append(color_map[tag[2:]])\n",
    "        chunk = []\n",
    "\n",
    "    if tags is not None:\n",
    "      final_text.append('\\n')\n",
    "      final_text.append('(A) ')\n",
    "      for w in range(0, len(sentences[s])):\n",
    "        # print(w)\n",
    "        word = sentences[s][w]\n",
    "        tag = tags[s][w]\n",
    "        if w + 1 < len(sentences[s]):\n",
    "          next_tag = tags[s][w+1]\n",
    "        else:\n",
    "          next_tag = 'O'\n",
    "          \n",
    "        if tag == 'O':\n",
    "          final_text.append(word)\n",
    "        elif (tag in ['I-POS','I-NEG', 'I-NEU','B-POS','B-NEG', 'B-NEU']):\n",
    "          chunk.append(word)\n",
    "\n",
    "        if (next_tag in ['B-POS','B-NEG', 'B-NEU', 'O']) & (len(chunk) > 0):\n",
    "          final_text.append(f'  <{\" \".join(chunk)}>  ')\n",
    "          color.append(pos_element)\n",
    "          chunk = []\n",
    "  \n",
    "\n",
    "\n",
    "    \n",
    "\n",
    "    # if tags is not None:\n",
    "    #   final_text.append('\\n')\n",
    "    #   final_text.append('(A) ')\n",
    "    #   for w in range(0, len(sentences[s])):\n",
    "    #     word = sentences[s][w]\n",
    "    #     tag = tags[s][w]\n",
    "\n",
    "    #     if tag !='O':\n",
    "    #       final_text.append('<{}>'.format(word))\n",
    "    #       if tag in ['I-POS','I-NEG', 'I-NEU']:\n",
    "    #         # color.append(color[-1])\n",
    "    #         color.append(pos_element)\n",
    "    #       else:\n",
    "    #         color.append ({'color':random.choice(['blue','green','red','magenta'])})\n",
    "    #     else:\n",
    "    #       final_text.append(word)\n",
    "    \n",
    "    final_text.append('\\n---------------\\n')\n",
    "\n",
    "\n",
    "    HighlightText(x=0, y=1,\n",
    "                s=' '.join(final_text),\n",
    "                highlight_textprops=color,\n",
    "                ax=ax)\n",
    "                \n",
    "    plt.axis('off')"
   ]
  },
  {
   "cell_type": "code",
   "execution_count": null,
   "metadata": {},
   "outputs": [],
   "source": [
    "samples = 10\n",
    "integer = 285 #random.randint(0,500)\n",
    "tags = y_val[integer:integer+samples].array\n",
    "pred_tags = crf_model.predict(X_val[integer:integer+samples])\n",
    "sentences = [[x['word.lower()'] for x in sentence] for sentence in X_val[integer:integer+samples]]\n",
    "\n",
    "print(integer)\n",
    "vizualize_samples(sentences, pred_tags, tags)\n"
   ]
  },
  {
   "cell_type": "code",
   "execution_count": null,
   "metadata": {},
   "outputs": [],
   "source": [
    "i = 0\n",
    "nth = integer + i\n",
    "print(nth)\n",
    "print(df_val.iloc[nth]['text'])\n",
    "\n",
    "print(df_val.iloc[nth]['aspects'])\n",
    "\n",
    "print(df_val.iloc[nth]['pairs'])\n",
    "\n",
    "print(pred_tags[i])\n",
    "print(tags[i])\n"
   ]
  },
  {
   "cell_type": "code",
   "execution_count": null,
   "metadata": {},
   "outputs": [],
   "source": [
    "# Test the model with new data\n",
    "sample = pd.Series(['I was pleasantly surprised by the quality of this laptop for the money. '\n",
    "            ,'I am not super techy so it may be difficult for me to comment on the technical specifications of the laptop, but I was pleasantly surprised with the quality of the product especially at this price point.'])\n",
    "sample_text_token = [word_tokenize(sentence) for sentence in sample]\n",
    "X_sample = [sent2features(sentence, 5) for sentence in sample_text_token]\n",
    "\n",
    "predicted_labels = crf_model.predict(X_sample)\n",
    "\n",
    "vizualize_samples(sample_text_token, predicted_labels)\n"
   ]
  },
  {
   "cell_type": "code",
   "execution_count": null,
   "metadata": {},
   "outputs": [],
   "source": [
    "import numpy as np\n",
    "from sklearn.metrics import classification_report\n",
    "\n",
    "\n",
    "tags = y_train\n",
    "pred_tags = crf_model.predict(X_train)\n",
    "\n",
    "\n",
    "# Create a mapping of labels to indices\n",
    "labels = {\"B-POS\": 0, \"I-POS\": 1, \"B-NEU\": 2, \"I-NEU\": 3, \"B-NEG\": 4, \"I-NEG\": 5, \"O\":6}\n",
    "\n",
    "# Convert the sequences of tags into a 1-dimensional array\n",
    "predictions = np.array([labels[x] for x in sum([tag for tag in pred_tags],[])])\n",
    "truths = np.array([labels[x] for x in sum([tag for tag in tags],[])])\n",
    "\n",
    "# Print out the classification report\n",
    "print(classification_report(\n",
    "    truths, predictions,\n",
    "    target_names= [\"B-POS\", \"I-POS\", \"B-NEU\", \"I-NEU\", \"B-NEG\", \"I-NEG\", \"O\"])\n",
    "    )"
   ]
  },
  {
   "cell_type": "code",
   "execution_count": null,
   "metadata": {},
   "outputs": [],
   "source": [
    "\n",
    "tags = y_val\n",
    "pred_tags = crf_model.predict(X_val)\n",
    "\n",
    "\n",
    "\n",
    "# Convert the sequences of tags into a 1-dimensional array\n",
    "predictions = np.array([labels[x] for x in sum([tag for tag in pred_tags],[])])\n",
    "truths = np.array([labels[x] for x in sum([tag for tag in tags],[])])\n",
    "\n",
    "# Print out the classification report\n",
    "print(classification_report(\n",
    "    truths, predictions,\n",
    "    target_names=[\"B-POS\", \"I-POS\", \"B-NEU\", \"I-NEU\", \"B-NEG\", \"I-NEG\", \"O\"])\n",
    "    )"
   ]
  },
  {
   "cell_type": "markdown",
   "metadata": {},
   "source": [
    "# Next steps\n",
    "- Add more features:\n",
    "  - head words\n",
    "  - Google Word2Vec cluster_id\n",
    "  - Stemming / Lemming\n",
    "  - word index from beggining & ending of the sentence\n",
    "- Employ pre-trained word embeddings\n",
    "- Re-train model using rule-based aspect term extraction on larger dataset"
   ]
  },
  {
   "cell_type": "markdown",
   "metadata": {},
   "source": []
  },
  {
   "cell_type": "markdown",
   "metadata": {},
   "source": []
  },
  {
   "cell_type": "markdown",
   "metadata": {},
   "source": []
  },
  {
   "cell_type": "markdown",
   "metadata": {},
   "source": []
  },
  {
   "cell_type": "markdown",
   "metadata": {},
   "source": []
  }
 ],
 "metadata": {
  "kernelspec": {
   "display_name": "brainstation_capstone",
   "language": "python",
   "name": "python3"
  },
  "language_info": {
   "codemirror_mode": {
    "name": "ipython",
    "version": 3
   },
   "file_extension": ".py",
   "mimetype": "text/x-python",
   "name": "python",
   "nbconvert_exporter": "python",
   "pygments_lexer": "ipython3",
   "version": "3.9.18"
  }
 },
 "nbformat": 4,
 "nbformat_minor": 2
}
