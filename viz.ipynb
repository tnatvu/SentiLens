{
 "cells": [
  {
   "cell_type": "markdown",
   "metadata": {},
   "source": [
    "https://stackoverflow.com/questions/76730700/how-to-visualize-entities-predicted-by-ner-model"
   ]
  },
  {
   "cell_type": "code",
   "execution_count": null,
   "metadata": {},
   "outputs": [],
   "source": [
    "import spacy\n",
    "from spacy import displacy\n",
    "from spacy.tokens import Doc\n",
    "\n",
    "# prepare data\n",
    "nlp = spacy.blank('en')\n",
    "doc = Doc(nlp.vocab,\n",
    "          words=['Peter', 'Parker', 'went', 'to', 'Berlin', '.'],\n",
    "          spaces=[True, True, True, True, True, False])\n",
    "# this means this is the tokenized version of: 'Peter Parker went to Berlin.' \n",
    "# in this case all tokens have spaces behind them except the last.\n",
    "\n",
    "# prepare annotations in format (start_character, end_character, label)\n",
    "annotations_char_spans = [(0, 12, 'fictional character'), (21, 27, 'location')]\n",
    "\n",
    "# add custom entities to SpaCy doc object\n",
    "custom_entitites = []\n",
    "for span_start, span_end, label in annotations_char_spans:\n",
    "    ent = doc.char_span(span_start, span_end, label=label)\n",
    "    if ent is None:\n",
    "        continue\n",
    "    custom_entitites.append(ent)\n",
    "doc.ents = custom_entitites\n",
    "\n",
    "# display (open localhost:5000 in your browser)\n",
    "options = {\"ents\": ['fictional character', 'location'],\n",
    "           \"colors\": {'fictional character': \"#85C1E9\", \"location\": \"#FF6961\"}}\n",
    "displacy.serve(doc, style=\"ent\", host=\"localhost\", port=5000, options=options)"
   ]
  }
 ],
 "metadata": {
  "language_info": {
   "name": "python"
  }
 },
 "nbformat": 4,
 "nbformat_minor": 2
}
