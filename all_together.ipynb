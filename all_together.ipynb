{
 "cells": [
  {
   "cell_type": "markdown",
   "metadata": {},
   "source": [
    "Introduction\n"
   ]
  },
  {
   "cell_type": "markdown",
   "metadata": {},
   "source": [
    "**Table of contents**<a id='toc0_'></a>    \n",
    "- 1. [Data preparation](#toc1_)    \n",
    "  - 1.1. [Tokenize sentence and aspect BIO encoding class](#toc1_1_)    \n",
    "  - 1.2. [Load data](#toc1_2_)    \n",
    "  - 1.3. [Inspect tagging issues](#toc1_3_)    \n",
    "  - 1.4. [Merge conflict to negative & remove neutral](#toc1_4_)    \n",
    "  - 1.5. [Convert df to HuggingFace datasets](#toc1_5_)    \n",
    "  - 1.6. [Word features](#toc1_6_)    \n",
    "- 2. [EDA](#toc2_)    \n",
    "- 3. [Model performance class](#toc3_)    \n",
    "- 4. [Random forest](#toc4_)    \n",
    "- 5. [CRF](#toc5_)    \n",
    "- 6. [Bi-LSTM](#toc6_)    \n",
    "- 7. [BERT](#toc7_)    \n",
    "  - 7.1. [Model](#toc7_1_)    \n",
    "  - 7.2. [Data preparation](#toc7_2_)    \n",
    "  - 7.3. [Upsampling / downsampling](#toc7_3_)    \n",
    "  - 7.4. [Model tuning](#toc7_4_)    \n",
    "  - 7.5. [Error analysis](#toc7_5_)    \n",
    "    - 7.5.1. [Group by word token](#toc7_5_1_)    \n",
    "    - 7.5.2. [Group by Tag ID](#toc7_5_2_)    \n",
    "  - 7.6. [Load saved model](#toc7_6_)    \n",
    "    - 7.6.1. [Load model manually](#toc7_6_1_)    \n",
    "    - 7.6.2. [Pipeline](#toc7_6_2_)    \n",
    "\n",
    "<!-- vscode-jupyter-toc-config\n",
    "\tnumbering=true\n",
    "\tanchor=true\n",
    "\tflat=false\n",
    "\tminLevel=1\n",
    "\tmaxLevel=6\n",
    "\t/vscode-jupyter-toc-config -->\n",
    "<!-- THIS CELL WILL BE REPLACED ON TOC UPDATE. DO NOT WRITE YOUR TEXT IN THIS CELL -->"
   ]
  },
  {
   "cell_type": "code",
   "execution_count": 1,
   "metadata": {},
   "outputs": [],
   "source": [
    "import os \n",
    "os.environ['PYTORCH_MPS_HIGH_WATERMARK_RATIO'] = '0.0' # this setting is needed to run NN on my Mac\n",
    "\n",
    "import re\n",
    "import pandas as pd\n",
    "import numpy as np\n",
    "from collections import Counter\n",
    "from collections import defaultdict\n",
    "\n",
    "import plotly.express as px\n",
    "import plotly.graph_objects as go\n",
    "# from plotly.subplots import make_subplots\n",
    "import matplotlib\n",
    "import matplotlib.pyplot as plt\n",
    "import seaborn as sns\n",
    "# from highlight_text import HighlightText, ax_text, fig_text\n",
    "\n",
    "\n",
    "from nltk.tokenize import TreebankWordTokenizer\n",
    "\n",
    "from sklearn.model_selection import train_test_split\n",
    "# from sklearn.metrics import confusion_matrix, ConfusionMatrixDisplay\n",
    "from seqeval.metrics import f1_score, classification_report\n",
    "from sklearn.metrics import f1_score as sklearn_f1_score\n",
    "\n",
    "# pip install torch==2.2.0 torchtext --index-url https://download.pytorch.org/whl/test/cpu\n",
    "# pip install torch==2.3.0.dev20240121 # this does not work\n",
    "\n",
    "# pip3 install --pre torch torchvision torchaudio --extra-index-url https://download.pytorch.org/whl/nightly/cpu # run this in CLI before running the notebook\n",
    "\n",
    "# import torch\n",
    "# if torch.backends.mps.is_available():\n",
    "#     mps_device = torch.device(\"mps\")\n",
    "#     x = torch.ones(1, device=mps_device)\n",
    "#     print (x)\n",
    "# else:\n",
    "#     print (\"MPS device not found.\")"
   ]
  },
  {
   "cell_type": "markdown",
   "metadata": {},
   "source": [
    "# 1. <a id='toc1_'></a>[Data preparation](#toc0_)"
   ]
  },
  {
   "cell_type": "markdown",
   "metadata": {},
   "source": [
    "## 1.1. <a id='toc1_1_'></a>[Tokenize sentence and aspect BIO encoding class](#toc0_)"
   ]
  },
  {
   "cell_type": "code",
   "execution_count": 2,
   "metadata": {},
   "outputs": [],
   "source": [
    "class SentenceToken:\n",
    "  '''\n",
    "    SentenceToken\n",
    "\n",
    "    This class takes care of word tokenize and tagging aspect entities\n",
    "  '''\n",
    "  def __init__(self, sentence, aspect_type=None, aspects=None, sentence_id=None):\n",
    "    \n",
    "    if sentence_id is not None:\n",
    "      print(sentence_id)\n",
    "\n",
    "    self.sentence_id = sentence_id\n",
    "    self.sentence = sentence.replace(u\"\\u00A0\", \" \").replace(u'\\xa0',' ') # replace unicode space character\n",
    "                            \n",
    "    self.aspect_bio_tags = None\n",
    "    self.unified_aspect_bio_tags = None\n",
    "    self.token_span = None\n",
    "    self.space_pre_token = None\n",
    "\n",
    "    # Tokenize sentence\n",
    "    self.__tokenize_sentence(self.sentence)\n",
    "\n",
    "    if aspect_type == 'dict':\n",
    "      self.set_aspect_tagging_from_dict(aspects)\n",
    "    elif aspect_type == 'bio':\n",
    "      self.set_aspect_bio_tags(aspects)\n",
    "    elif aspect_type == 'unified bio':\n",
    "      self.set_aspect_unified_bio_tags(aspects)\n",
    "  \n",
    "  def __tokenize_sentence(self, sentence):\n",
    "    '''\n",
    "    __tokenize_sentence\n",
    "\n",
    "    Break sentence into word token span\n",
    "    '''\n",
    "    token_span = list(TreebankWordTokenizer().span_tokenize(sentence))\n",
    "    \n",
    "    self.token_span = token_span\n",
    "    self.space_pre_token = [True if sentence[k[0]-1:k[0]] == ' ' else False for i,k in enumerate(token_span)]\n",
    "\n",
    "  def set_aspect_tagging_from_dict(self, aspects):\n",
    "    '''\n",
    "    set_aspect_tagging_from_dict\n",
    "\n",
    "    Calculate & assign aspect entities to token given an array of aspects (term, start_index, to_index, and polarity)\n",
    "    '''\n",
    "    polarity_map = {'positive':'POS'\n",
    "              ,'negative': 'NEG'\n",
    "              ,'conflict': 'CON'\n",
    "              ,'neutral': 'NEU'}\n",
    "    \n",
    "    bio_tags = ['O'] * len(self.token_span)\n",
    "    unified_bio_tags = bio_tags\n",
    "\n",
    "    for x in aspects:\n",
    "      if x['term'] != '':\n",
    "        aspect_from = int(x['from'])\n",
    "        aspect_to = int(x['to'])\n",
    "        polarity = '-' + polarity_map[x['polarity']]\n",
    "\n",
    "        aspect_from_index = [i for i, v in enumerate(self.token_span) if (v[0] <= aspect_from) & (v[1] >= aspect_from)][0]\n",
    "        aspect_to_index = [i for i, v in enumerate(self.token_span) if (v[0] <= aspect_to) & (v[1] >= aspect_to)][0]\n",
    "      \n",
    "        aspect_length = aspect_to_index - aspect_from_index\n",
    "        bio_tags = bio_tags[:aspect_from_index] + ['B'] + ['I'] * (aspect_length) + bio_tags[aspect_to_index+1:]\n",
    "        unified_bio_tags = unified_bio_tags[:aspect_from_index] + ['B' + polarity] + ['I'+ polarity] * (aspect_length) + unified_bio_tags[aspect_to_index+1:]\n",
    "\n",
    "    self.set_aspect_bio_tags(bio_tags)\n",
    "    self.set_aspect_unified_bio_tags(unified_bio_tags)\n",
    "\n",
    "  def rebuild_sentence_from_token(self):\n",
    "    '''\n",
    "    rebuild_sentence_from_token\n",
    "\n",
    "    Return sentence built from computed tokens\n",
    "    '''\n",
    "    return ''.join([(' ' if self.space_pre_token[i] else '') + self.sentence[k[0]:k[1]] for i, k in enumerate(self.token_span)])\n",
    " \n",
    "  def set_aspect_bio_tags(self, aspect_bio_tags):\n",
    "    '''\n",
    "    set_aspect_bio_tags\n",
    "\n",
    "    Setter method to set aspect_unified_bio_tags and aspect_bio_tags\n",
    "    '''\n",
    "    self.aspect_bio_tags = aspect_bio_tags\n",
    "    self.aspect_unified_bio_tags = aspect_bio_tags\n",
    "\n",
    "  def set_aspect_unified_bio_tags(self, aspect_unified_bio_tags):\n",
    "    ''''\n",
    "    set_aspect_unified_bio_tags\n",
    "    \n",
    "    Setter method to set aspect_unified_bio_tags and aspect_bio_tags\n",
    "    '''\n",
    "    self.aspect_unified_bio_tags = aspect_unified_bio_tags\n",
    "    self.aspect_bio_tags = [k[0:1] for k in aspect_unified_bio_tags]\n",
    "\n",
    "  def get_tokens(self):\n",
    "    '''\n",
    "    get_tokens()\n",
    "    Return an array of sentence word tokens\n",
    "    '''\n",
    "    return [self.sentence[k[0]:k[1]] for k in self.token_span]\n",
    "  \n",
    "  def check_rebuild_sentence_from_token(self):\n",
    "    '''\n",
    "    check_rebuild_sentence_from_token()\n",
    "\n",
    "    This is a test / debugger function.\n",
    "    This help validating if we have computed the sentence to token properly and whether we can re-compute the exact sentence from information stored.\n",
    "    '''\n",
    "    return re.sub(r'\\s+', ' ',self.sentence.strip()) == self.rebuild_sentence_from_token().strip()\n",
    "  \n",
    "  def check_rebuild_aspect_terms(self, aspect_dict):\n",
    "    '''\n",
    "    check_rebuild_aspect_terms(aspect_dict)\n",
    "\n",
    "    This is a test / debugger fucntion. \n",
    "    This help validate if we have compute the correct aspect terms as given by the aspect dict\n",
    "\n",
    "    INPUT:\n",
    "    aspect dict: array of aspect dictionaries in the following format\n",
    "      [{'term': 'storage', \n",
    "       'polarity': 'positive', \n",
    "       'from': '14', \n",
    "       'to': '21'}]\n",
    "    '''\n",
    "    aspect_dict = sorted(aspect_dict, key=lambda d: int(d['from']))\n",
    "    aspect_input = [k['term'].replace(u\"\\u00A0\", \" \").replace(u'\\xa0',' ') for k in aspect_dict if k['term'] != '' ]\n",
    "    aspect_computed = []\n",
    "    aspect = ''\n",
    "    \n",
    "    for i,k in enumerate(self.aspect_bio_tags):\n",
    "      token = self.sentence[self.token_span[i][0]:self.token_span[i][1]]\n",
    "      \n",
    "      if k == 'B':\n",
    "        if (self.aspect_bio_tags[i-1] == 'B' if i > 0 else False):\n",
    "          aspect_computed.append(aspect)\n",
    "        aspect = token\n",
    "      elif k == 'I':\n",
    "        aspect += ' ' * ((self.token_span[i][0] -  self.token_span[i-1][1]) if i > 0 else 0) + token\n",
    "      \n",
    "      if (aspect != '') & ((k == 'O') or (i == (len(self.aspect_bio_tags) - 1))):\n",
    "          aspect_computed.append(aspect)\n",
    "          aspect = ''\n",
    "\n",
    "    return [aspect_input == aspect_computed, aspect_input, aspect_computed]\n",
    "\n",
    "  def __str__(self):\n",
    "    return self.rebuild_sentence_from_token()\n"
   ]
  },
  {
   "cell_type": "markdown",
   "metadata": {},
   "source": [
    "## 1.2. <a id='toc1_2_'></a>[Load data](#toc0_)"
   ]
  },
  {
   "cell_type": "code",
   "execution_count": 3,
   "metadata": {},
   "outputs": [],
   "source": [
    "def reload_Data():\n",
    "  df_train = pd.read_json('data/laptop/train.json')\n",
    "  # First, I will need to drop some duplicated data in our training dataset, as identified in the EDA process.\n",
    "  # We have removed 12 duplicated records in our training dataset\n",
    "  df_train.drop_duplicates(subset='text', inplace=True)\n",
    "  print('df_train shape: ', df_train.shape)\n",
    "\n",
    "  df_val = pd.read_json('data/laptop/validate.json') # This will only be used for the very last step to evaluate how well the model is, but is input now for validating the BIO tagging to ensure the function works properly\n",
    "  print('df_val shape: ', df_val.shape)\n",
    "\n",
    "  df_train['sentence_token'] = df_train.apply(lambda x: SentenceToken(x['text'], 'dict', x['aspects']), axis=1)\n",
    "  df_train['sentence_check'] = df_train.apply(lambda x: x['sentence_token'].check_rebuild_sentence_from_token(), axis=1)\n",
    "  df_train['aspect_check'] = df_train.apply(lambda x: x['sentence_token'].check_rebuild_aspect_terms(x['aspects']), axis=1)\n",
    "  df_train['aspect_check_TF'] = df_train.apply(lambda x: x['sentence_token'].check_rebuild_aspect_terms(x['aspects'])[0], axis=1)\n",
    "  df_train['tokens'] = df_train.apply(lambda x: x['sentence_token'].get_tokens(), axis=1)\n",
    "  df_train['tags'] = df_train.apply(lambda x: x['sentence_token'].aspect_unified_bio_tags, axis=1)\n",
    "\n",
    "  df_val['sentence_token'] = df_val.apply(lambda x: SentenceToken(x['text'], 'dict', x['aspects']), axis=1)\n",
    "  df_val['sentence_check'] = df_val.apply(lambda x: x['sentence_token'].check_rebuild_sentence_from_token(), axis=1)\n",
    "  df_val['aspect_check'] = df_val.apply(lambda x: x['sentence_token'].check_rebuild_aspect_terms(x['aspects']), axis=1)\n",
    "  df_val['aspect_check_TF'] = df_val.apply(lambda x: x['sentence_token'].check_rebuild_aspect_terms(x['aspects'])[0], axis=1)\n",
    "  df_val['tokens'] = df_val.apply(lambda x: x['sentence_token'].get_tokens(), axis=1)\n",
    "  df_val['tags'] = df_val.apply(lambda x: x['sentence_token'].aspect_unified_bio_tags, axis=1)\n",
    "  return df_train, df_val"
   ]
  },
  {
   "cell_type": "code",
   "execution_count": 4,
   "metadata": {},
   "outputs": [
    {
     "name": "stdout",
     "output_type": "stream",
     "text": [
      "df_train shape:  (3036, 3)\n",
      "df_val shape:  (800, 3)\n",
      "# of df_train records having tokenizing issues:  0\n",
      "# of df_train records having aspect bio tagging issues:  36\n",
      "# of df_test records having tokenizing issues:  0\n",
      "# of df_test records having aspect bio tagging issues:  9\n"
     ]
    }
   ],
   "source": [
    "df_train, df_test = reload_Data()\n",
    "print('# of df_train records having tokenizing issues: ', len(df_train[df_train['sentence_check']==False]))\n",
    "print('# of df_train records having aspect bio tagging issues: ', len(df_train[df_train['aspect_check_TF']==False]))\n",
    "print('# of df_test records having tokenizing issues: ', len(df_test[df_test['sentence_check']==False]))\n",
    "print('# of df_test records having aspect bio tagging issues: ', len(df_test[df_test['aspect_check_TF']==False]))"
   ]
  },
  {
   "cell_type": "markdown",
   "metadata": {},
   "source": [
    "## 1.3. <a id='toc1_3_'></a>[Inspect tagging issues](#toc0_)"
   ]
  },
  {
   "cell_type": "code",
   "execution_count": 5,
   "metadata": {},
   "outputs": [
    {
     "name": "stdout",
     "output_type": "stream",
     "text": [
      "Index([ 125,  140,  220,  293,  374,  375,  431,  612,  656,  834,  922,  924,\n",
      "        953,  999, 1031, 1374, 1456, 1502, 1631, 1716, 1936, 1958, 2113, 2160,\n",
      "       2244, 2392, 2502, 2533, 2587, 2606, 2783, 2831, 2842, 2876, 2930, 2940],\n",
      "      dtype='int64')\n"
     ]
    }
   ],
   "source": [
    "print(df_train[df_train['aspect_check_TF']==False].index)"
   ]
  },
  {
   "cell_type": "code",
   "execution_count": 6,
   "metadata": {},
   "outputs": [
    {
     "name": "stdout",
     "output_type": "stream",
     "text": [
      "[{'term': 'delivery service', 'polarity': 'negative', 'from': '59', 'to': '75'}]\n",
      "After way too many times sending the thing in for repairs (delivery service was slow, and without the laptop I had no access to the internet, and thus no way of tracking it to find out when I might hope to see my computer again), it finally kicked the bucket after just over 2 years.\n",
      "[False, ['delivery service'], ['(delivery service']]\n",
      "['After', 'way', 'too', 'many', 'times', 'sending', 'the', 'thing', 'in', 'for', 'repairs', '(', 'delivery', 'service', 'was', 'slow', ',', 'and', 'without', 'the', 'laptop', 'I', 'had', 'no', 'access', 'to', 'the', 'internet', ',', 'and', 'thus', 'no', 'way', 'of', 'tracking', 'it', 'to', 'find', 'out', 'when', 'I', 'might', 'hope', 'to', 'see', 'my', 'computer', 'again', ')', ',', 'it', 'finally', 'kicked', 'the', 'bucket', 'after', 'just', 'over', '2', 'years', '.']\n"
     ]
    }
   ],
   "source": [
    "num = 2606\n",
    "\n",
    "print(df_train.loc[num]['aspects'])\n",
    "print(df_train.loc[num]['text'])\n",
    "print(df_train.loc[num]['aspect_check'])\n",
    "print(df_train.loc[num]['tokens'])"
   ]
  },
  {
   "cell_type": "markdown",
   "metadata": {},
   "source": [
    "Most of the tagging issues due to word that are not separated properly from special characters/ punctuations. The issue is unavoidable in practice as reviews may not adherent to perfect grammar.\n",
    "\n",
    "I have tried to fix this issues to have 100% accuracy with further token breakdown to match the specified aspect tokens, however, this can break some of the standard logics for word tokenizer and further modelling. \n",
    "\n",
    "Therefore, I decided to include a whole token where the aspect may start or end, even if the index is in the middle of token, which may results with aspect tokens that could include extra characters than planned. This is the risk we will accept for this approach, and we can perform a cleaning process to remove these extra characters during implementation with actual use cases."
   ]
  },
  {
   "cell_type": "markdown",
   "metadata": {},
   "source": [
    "## 1.4. <a id='toc1_4_'></a>[Merge conflict to negative & remove neutral](#toc0_)"
   ]
  },
  {
   "cell_type": "code",
   "execution_count": 7,
   "metadata": {},
   "outputs": [],
   "source": [
    "df_train['tags'] = df_train['tags'].apply(lambda x: [tag[:2] + 'NEG' if tag[2:] == 'CON' else tag for tag in x ])\n",
    "df_test['tags'] = df_test['tags'].apply(lambda x: [tag[:2] + 'NEG' if tag[2:] == 'CON' else tag for tag in x])"
   ]
  },
  {
   "cell_type": "code",
   "execution_count": 8,
   "metadata": {},
   "outputs": [],
   "source": [
    "# df_train['tags'] = df_train['tags'].apply(lambda x: ['O' if tag[2:] == 'NEU' else tag for tag in x])\n",
    "# df_test['tags'] = df_test['tags'].apply(lambda x: ['O' if tag[2:] == 'NEU' else tag for tag in x])"
   ]
  },
  {
   "cell_type": "markdown",
   "metadata": {},
   "source": [
    "## 1.5. <a id='toc1_5_'></a>[Convert df to HuggingFace datasets](#toc0_)"
   ]
  },
  {
   "cell_type": "code",
   "execution_count": 9,
   "metadata": {},
   "outputs": [],
   "source": [
    "import datasets\n",
    "from datasets import Dataset, DatasetDict, Features, Sequence, Value, ClassLabel"
   ]
  },
  {
   "cell_type": "markdown",
   "metadata": {},
   "source": [
    "Convert aspect tag to id"
   ]
  },
  {
   "cell_type": "code",
   "execution_count": 10,
   "metadata": {},
   "outputs": [],
   "source": [
    "# Generate list of unique aspect tags\n",
    "tags = list(set(sum(df_train['tags'],[])))\n",
    "tags.sort()\n",
    "\n",
    "tag2idx = {k:i for i,k in enumerate(tags)}\n",
    "idx2tag = {i:k for i,k in enumerate(tags)}\n",
    "\n",
    "# Convert aspect tag text to ids\n",
    "df_train['tags_idx'] = df_train['tags'].apply(lambda x: [tag2idx[k] for k in x])\n",
    "df_test['tags_idx'] = df_test['tags'].apply(lambda x: [tag2idx[k] for k in x])"
   ]
  },
  {
   "cell_type": "code",
   "execution_count": 11,
   "metadata": {},
   "outputs": [
    {
     "data": {
      "text/plain": [
       "{0: 'B-NEG',\n",
       " 1: 'B-NEU',\n",
       " 2: 'B-POS',\n",
       " 3: 'I-NEG',\n",
       " 4: 'I-NEU',\n",
       " 5: 'I-POS',\n",
       " 6: 'O'}"
      ]
     },
     "execution_count": 11,
     "metadata": {},
     "output_type": "execute_result"
    }
   ],
   "source": [
    "idx2tag"
   ]
  },
  {
   "cell_type": "code",
   "execution_count": 12,
   "metadata": {},
   "outputs": [
    {
     "data": {
      "text/plain": [
       "['B-NEG', 'B-NEU', 'B-POS', 'I-NEG', 'I-NEU', 'I-POS', 'O']"
      ]
     },
     "execution_count": 12,
     "metadata": {},
     "output_type": "execute_result"
    }
   ],
   "source": [
    "tags"
   ]
  },
  {
   "cell_type": "markdown",
   "metadata": {},
   "source": [
    "Convert pandas to HuggingFace datasets"
   ]
  },
  {
   "cell_type": "code",
   "execution_count": 13,
   "metadata": {},
   "outputs": [],
   "source": [
    "# Split train into train & validation set\n",
    "df_train_ori, df_val = train_test_split(df_train, test_size=0.3, random_state=42,)"
   ]
  },
  {
   "cell_type": "code",
   "execution_count": 14,
   "metadata": {},
   "outputs": [
    {
     "name": "stdout",
     "output_type": "stream",
     "text": [
      "DatasetDict({\n",
      "    train: Dataset({\n",
      "        features: ['tokens', 'tags_idx'],\n",
      "        num_rows: 2125\n",
      "    })\n",
      "    validation: Dataset({\n",
      "        features: ['tokens', 'tags_idx'],\n",
      "        num_rows: 911\n",
      "    })\n",
      "    test: Dataset({\n",
      "        features: ['tokens', 'tags_idx'],\n",
      "        num_rows: 800\n",
      "    })\n",
      "})\n"
     ]
    }
   ],
   "source": [
    "# Define dataset features\n",
    "features = Features({'tokens': Sequence(Value(dtype='string', id=None)),\n",
    "                    'tags_idx': Sequence(ClassLabel(names=tags))\n",
    "                    })\n",
    "\n",
    "tds = Dataset.from_pandas(df_train_ori[['tokens','tags_idx']], features=features, preserve_index=False)\n",
    "vds = Dataset.from_pandas(df_val[['tokens','tags_idx']], features=features,  preserve_index=False)\n",
    "tsds = Dataset.from_pandas(df_test[['tokens','tags_idx']], features=features, preserve_index=False)\n",
    "\n",
    "ds = DatasetDict()\n",
    "\n",
    "ds['train'] = tds\n",
    "ds['validation'] = vds\n",
    "ds['test'] = tsds\n",
    "\n",
    "print(ds)"
   ]
  },
  {
   "cell_type": "markdown",
   "metadata": {},
   "source": [
    "Check for total counts per aspect type in each data split"
   ]
  },
  {
   "cell_type": "code",
   "execution_count": 15,
   "metadata": {},
   "outputs": [
    {
     "data": {
      "application/vnd.jupyter.widget-view+json": {
       "model_id": "628a5947a2f24c06b7eb6d581d750256",
       "version_major": 2,
       "version_minor": 0
      },
      "text/plain": [
       "Map:   0%|          | 0/2125 [00:00<?, ? examples/s]"
      ]
     },
     "metadata": {},
     "output_type": "display_data"
    },
    {
     "data": {
      "application/vnd.jupyter.widget-view+json": {
       "model_id": "45712c2cfdd04dddb1d8c6c63308ce38",
       "version_major": 2,
       "version_minor": 0
      },
      "text/plain": [
       "Map:   0%|          | 0/911 [00:00<?, ? examples/s]"
      ]
     },
     "metadata": {},
     "output_type": "display_data"
    },
    {
     "data": {
      "application/vnd.jupyter.widget-view+json": {
       "model_id": "97d1345f742c4a7d9991c1bd4a6825fa",
       "version_major": 2,
       "version_minor": 0
      },
      "text/plain": [
       "Map:   0%|          | 0/800 [00:00<?, ? examples/s]"
      ]
     },
     "metadata": {},
     "output_type": "display_data"
    }
   ],
   "source": [
    "# Convert aspect idx to aspect aspect text\n",
    "def create_tag_names(batch):\n",
    "    return {\"tags\": [ds[\"train\"].features[\"tags_idx\"].feature.int2str(idx) for idx in batch[\"tags_idx\"]]}\n",
    "\n",
    "ds = ds.map(create_tag_names)"
   ]
  },
  {
   "cell_type": "code",
   "execution_count": 16,
   "metadata": {},
   "outputs": [
    {
     "data": {
      "text/html": [
       "<div>\n",
       "<style scoped>\n",
       "    .dataframe tbody tr th:only-of-type {\n",
       "        vertical-align: middle;\n",
       "    }\n",
       "\n",
       "    .dataframe tbody tr th {\n",
       "        vertical-align: top;\n",
       "    }\n",
       "\n",
       "    .dataframe thead th {\n",
       "        text-align: right;\n",
       "    }\n",
       "</style>\n",
       "<table border=\"1\" class=\"dataframe\">\n",
       "  <thead>\n",
       "    <tr style=\"text-align: right;\">\n",
       "      <th></th>\n",
       "      <th>NEG</th>\n",
       "      <th>POS</th>\n",
       "      <th>NEU</th>\n",
       "    </tr>\n",
       "  </thead>\n",
       "  <tbody>\n",
       "    <tr>\n",
       "      <th>train</th>\n",
       "      <td>582</td>\n",
       "      <td>675</td>\n",
       "      <td>304</td>\n",
       "    </tr>\n",
       "    <tr>\n",
       "      <th>validation</th>\n",
       "      <td>325</td>\n",
       "      <td>312</td>\n",
       "      <td>157</td>\n",
       "    </tr>\n",
       "    <tr>\n",
       "      <th>test</th>\n",
       "      <td>144</td>\n",
       "      <td>340</td>\n",
       "      <td>169</td>\n",
       "    </tr>\n",
       "  </tbody>\n",
       "</table>\n",
       "</div>"
      ],
      "text/plain": [
       "            NEG  POS  NEU\n",
       "train       582  675  304\n",
       "validation  325  312  157\n",
       "test        144  340  169"
      ]
     },
     "execution_count": 16,
     "metadata": {},
     "output_type": "execute_result"
    }
   ],
   "source": [
    "# Perform aspect type counts per each dataset split\n",
    "split2freqs = defaultdict(Counter)\n",
    "for split, dataset in ds.items():\n",
    "    for row in dataset[\"tags\"]:\n",
    "        for tag in row:\n",
    "            if tag.startswith(\"B\"):\n",
    "                tag_type = tag.split(\"-\")[1]\n",
    "                split2freqs[split][tag_type] += 1\n",
    "                \n",
    "pd.DataFrame.from_dict(split2freqs, orient=\"index\")"
   ]
  },
  {
   "cell_type": "markdown",
   "metadata": {},
   "source": [
    "## 1.6. <a id='toc1_6_'></a>[Word features](#toc0_)"
   ]
  },
  {
   "cell_type": "code",
   "execution_count": null,
   "metadata": {},
   "outputs": [],
   "source": [
    "import nltk\n",
    "from nltk.corpus import stopwords, opinion_lexicon\n",
    "import string\n",
    "\n",
    "# Load positive and negative words from the opinion lexicon\n",
    "POSITIVE_WORDS = set(opinion_lexicon.positive())\n",
    "NEGATIVE_WORDS = set(opinion_lexicon.negative())\n",
    "# Load common stop words in english\n",
    "EN_STOP_WORDS = set(stopwords.words('english'))"
   ]
  },
  {
   "cell_type": "code",
   "execution_count": null,
   "metadata": {},
   "outputs": [],
   "source": [
    "# Function to convert sentences into features\n",
    "def word2features(sent, word_idx, backward_window_size=5, forward_window_size=5): \n",
    "    word = sent[word_idx][0]\n",
    "\n",
    "    _, pos = zip(*nltk.pos_tag([x[0] for x in sent]))\n",
    "\n",
    "    tag_sentiment = lambda word: 'POS' if word in POSITIVE_WORDS else 'NEG' if word in NEGATIVE_WORDS else 'NEU'\n",
    "    features = {\n",
    "        'word.lower()': word.lower(), # word\n",
    "        'word.index()': word_idx,\n",
    "        'word.reverseindex()': len(sent) - 1 - word_idx, # reverse index - nth word from end of sentence\n",
    "        'word.pos': pos[word_idx],\n",
    "        'word.opinionlexicon': tag_sentiment(word.lower()),\n",
    "        'word.isstopword()': word.lower() in EN_STOP_WORDS,\n",
    "        'word[-3:]': word[-3:], # last 4 char\n",
    "        'word[-2:]': word[-2:], # last 3 char - in case of -ing, -ion, etc.\n",
    "        'word.isupper()': word.isupper(), # is the word in upper case\n",
    "        'word.istitle()': word.istitle(), # is the first letter of the word in upper case\n",
    "        'word.isdigit()': word.isdigit(), # is the word full of digit\n",
    "        'word.ispunctuation()': word.lower() in string.punctuation, # is punctuation\n",
    "    }\n",
    "\n",
    "    if word_idx > 0:\n",
    "        for k in range(1, min(backward_window_size, word_idx)+1):\n",
    "            prev_word = sent[word_idx - k][0]\n",
    "            prev_pos = pos[word_idx - k]\n",
    "            \n",
    "            features.update({\n",
    "                f'-{k}:word.lower()': prev_word.lower(),\n",
    "                f'-{k}:word.pos': prev_pos,\n",
    "                f'-{k}:word.opinionlexicon': tag_sentiment(word.lower()),\n",
    "                f'-{k}:word.isstopword()': prev_word in EN_STOP_WORDS,\n",
    "                f'-{k}:word.istitle()': prev_word.istitle(),\n",
    "                f'-{k}:word.isupper()': prev_word.isupper(),\n",
    "                f'-{k}:word.ispunctuation()': prev_word.lower() in string.punctuation, # is punctuation\n",
    "            })\n",
    "    else:\n",
    "        features['BOS'] = True  # Beginning of sentence\n",
    "\n",
    "    if word_idx < len(sent) - 1:\n",
    "        for k in range(1, min(forward_window_size, len(sent) - word_idx - 1)+1):\n",
    "            next_word = sent[word_idx + k][0]\n",
    "            next_pos = pos[word_idx + k]\n",
    "\n",
    "            features.update({\n",
    "                f'+{k}:word.lower()': next_word.lower(),\n",
    "                f'+{k}:word.pos': next_pos,\n",
    "                f'+{k}:word.opinionlexicon': tag_sentiment(word.lower()),\n",
    "                f'+{k}:word.isstopword()': next_word in EN_STOP_WORDS,\n",
    "                f'+{k}:word.istitle()': next_word.istitle(),\n",
    "                f'+{k}:word.isupper()': next_word.isupper(),\n",
    "                f'+{k}:word.ispunctuation()': next_word.lower() in string.punctuation, # is punctuation\n",
    "            })\n",
    "    else:\n",
    "        features['EOS'] = True  # End of sentence\n",
    "\n",
    "    return features\n",
    "\n",
    "# Function to convert sentences into feature sequences\n",
    "def sent2features(sent, backward_window_size=5, forward_window_size=5):\n",
    "    return [word2features(sent, i, backward_window_size, forward_window_size) for i in range(len(sent))]\n",
    "\n",
    "def get_features(example):\n",
    "    example['word_features'] = [ sent2features(sent) for sent in example['tokens']]\n",
    "    return example"
   ]
  },
  {
   "cell_type": "code",
   "execution_count": null,
   "metadata": {},
   "outputs": [],
   "source": [
    "ds_features = ds.map(get_features, batched=True)"
   ]
  },
  {
   "cell_type": "markdown",
   "metadata": {},
   "source": [
    "# 2. <a id='toc2_'></a>[EDA](#toc0_)"
   ]
  },
  {
   "cell_type": "code",
   "execution_count": null,
   "metadata": {},
   "outputs": [],
   "source": [
    "# "
   ]
  },
  {
   "cell_type": "markdown",
   "metadata": {},
   "source": [
    "# 3. <a id='toc3_'></a>[Model performance class](#toc0_)"
   ]
  },
  {
   "cell_type": "code",
   "execution_count": 17,
   "metadata": {},
   "outputs": [],
   "source": [
    "class ModelPerformanceLog:\n",
    "  \n",
    "  def __init__(self, y_true):\n",
    "    self.y_true = y_true\n",
    "    self.log = {}\n",
    "\n",
    "  def add_model_performance(self, model_name, y_pred, model=None): # Model can be path to the model or something like that\n",
    "    sklearn_f1_score, f1, clf_report = self.__calculate_metrics(y_pred)\n",
    "\n",
    "    model_perf = {'y_pred': y_pred\n",
    "                  ,'model': model\n",
    "                  ,'sklearn_f1_score': sklearn_f1_score.round(2)\n",
    "                  ,'f1': f1.round(4)\n",
    "                  ,'report': clf_report\n",
    "                  }\n",
    "    \n",
    "    self.log[model_name] = model_perf\n",
    "\n",
    "  def __calculate_sklearn_f1(self, y_pred):\n",
    "    y_pred = sum(y_pred,[])\n",
    "    y_true = sum(self.y_true,[])\n",
    "    return sklearn_f1_score(y_true, y_pred, average='macro', zero_division=0)\n",
    "\n",
    "  def __calculate_metrics(self, y_pred):\n",
    "    return self.__calculate_sklearn_f1(y_pred), f1_score(self.y_true, y_pred), classification_report(self.y_true, y_pred, zero_division=0)\n",
    "\n",
    "  def get_logs(self):\n",
    "    logs_df = pd.DataFrame(list(self.log.values()), index=self.log.keys())\n",
    "    return logs_df[['sklearn_f1_score', 'f1']]\n",
    "  \n",
    "    "
   ]
  },
  {
   "cell_type": "code",
   "execution_count": 18,
   "metadata": {},
   "outputs": [],
   "source": [
    "y_val = ds['validation'].to_pandas()['tags_idx']\n",
    "y_val = [[idx2tag[tag] for tag in sent] for sent in y_val]\n",
    "\n",
    "modelPerformanceLog = ModelPerformanceLog(y_val)\n",
    "# modelPerformanceLog.get_logs()"
   ]
  },
  {
   "cell_type": "markdown",
   "metadata": {},
   "source": [
    "# 4. <a id='toc4_'></a>[Random forest](#toc0_)"
   ]
  },
  {
   "cell_type": "code",
   "execution_count": null,
   "metadata": {},
   "outputs": [],
   "source": [
    "from sklearn.preprocessing import OneHotEncoder\n",
    "from sklearn.preprocessing import StandardScaler\n",
    "from sklearn.ensemble import RandomForestClassifier"
   ]
  },
  {
   "cell_type": "code",
   "execution_count": null,
   "metadata": {},
   "outputs": [],
   "source": [
    "def features2df(sent, sent_idx):\n",
    "  sent_df = pd.DataFrame(list(sent))\n",
    "  sent_df['sentence_idx'] = sent_idx\n",
    "\n",
    "  return sent_df"
   ]
  },
  {
   "cell_type": "code",
   "execution_count": null,
   "metadata": {},
   "outputs": [],
   "source": [
    "def tags2df(tags, sent_idx):\n",
    "  tags_df = pd.DataFrame({'tags': tags})\n",
    "\n",
    "  tags_df['sentence_idx'] = sent_idx\n",
    "  return tags_df"
   ]
  },
  {
   "cell_type": "code",
   "execution_count": null,
   "metadata": {},
   "outputs": [],
   "source": [
    "def random_forest_data_prepare(ds, one_hot_encoder=None):\n",
    "  X_train = ds.to_pandas()['word_features']\n",
    "  X_train = pd.concat([features2df(sent, i) for i, sent in enumerate(X_train)], ignore_index=True)\n",
    "\n",
    "  X_train.replace(True,1, inplace=True)\n",
    "  X_train.replace(False,0, inplace=True)\n",
    "\n",
    "    # Fill NaN values in object-type columns with a 'missing'\n",
    "  object_columns = X_train.select_dtypes(include=['object']).columns\n",
    "  X_train[object_columns] = X_train[object_columns].fillna(value='missing')\n",
    "\n",
    "  # Fill the rest NaN with -1, since most of missing features are boolean\n",
    "  X_train = X_train.fillna(-1)\n",
    "\n",
    "  # We renove all categorical columns that are not POS, or sentiment lexicon + nth_sentence which the number of the sentence we we use to string back the data at the end, but is not needed for training\n",
    "  drop_cols = [x for x in list(X_train.columns) if re.match('(.*word\\.lower\\(\\))|(.*word\\[-\\d\\:])', x)] # word columns\n",
    "  X_train = X_train.drop(columns=drop_cols, axis=1)\n",
    "\n",
    "    # Perform one-hot-encoder on the reamining columns\n",
    "  if one_hot_encoder is None: # This is to make sure we use the same one-hot-encoder for both train & test split (avoiding data leakage)\n",
    "    one_hot_encoder = OneHotEncoder(sparse_output=False, handle_unknown='ignore', drop='first')  # 'drop' parameter is optional, set to 'first' to avoid multicollinearity\n",
    "    encoded_data = one_hot_encoder.fit_transform(X_train.select_dtypes(include=['object']))\n",
    "\n",
    "  else: # when we perform data prep for test data, we can reuse the one-hot-encoder used during training data preparation\n",
    "    encoded_data = one_hot_encoder.transform(X_train.select_dtypes(include=['object']))\n",
    "\n",
    "  # Re-added one-hot-encoding data back to the main dataframe\n",
    "  df_encoded = pd.DataFrame(encoded_data, columns=one_hot_encoder.get_feature_names_out(X_train.select_dtypes(include=['object']).columns))\n",
    "  X_train = pd.concat([X_train, df_encoded], axis=1)\n",
    "\n",
    "  # Dropped all the categorical features that have already been one-hot-encoded\n",
    "  X_train.drop(columns=X_train.select_dtypes(include=['object']).columns, inplace=True)\n",
    "\n",
    "  y_train =  pd.concat([tags2df(sent, i) for i, sent in enumerate(ds.to_pandas()['tags_idx'])], ignore_index=True)# sum(ds.to_pandas()['tags_idx'], [])\n",
    "  return X_train, y_train, one_hot_encoder\n"
   ]
  },
  {
   "cell_type": "code",
   "execution_count": null,
   "metadata": {},
   "outputs": [],
   "source": [
    "X_train, y_train, one_hot_encoder = random_forest_data_prepare(ds_features['train'])\n",
    "X_val, y_val, _ = random_forest_data_prepare(ds_features['validation'], one_hot_encoder)"
   ]
  },
  {
   "cell_type": "code",
   "execution_count": null,
   "metadata": {},
   "outputs": [],
   "source": [
    "# Initialize the StandardScaler\n",
    "scaler = StandardScaler()\n",
    "\n",
    "# Fit and transform the features\n",
    "X_train_scaled = scaler.fit_transform(X_train.drop('sentence_idx', axis=1))\n",
    "X_val_scaled = scaler.transform(X_val.drop('sentence_idx', axis=1)) # Double check why we are seeing more columns in test????"
   ]
  },
  {
   "cell_type": "code",
   "execution_count": null,
   "metadata": {},
   "outputs": [],
   "source": [
    "rf_classifier = RandomForestClassifier(n_estimators=100, max_depth=10, min_samples_split=5, min_samples_leaf=5, random_state=42)\n",
    "rf_classifier.fit(X_train_scaled, y_train['tags'])\n",
    "\n",
    "y_pred_rf = rf_classifier.predict(X_val_scaled)"
   ]
  },
  {
   "cell_type": "code",
   "execution_count": null,
   "metadata": {},
   "outputs": [],
   "source": [
    "# Add back to validation set to get sentence id\n",
    "y_val['predict'] = y_pred_rf \n",
    "\n",
    "# Collapse back to the required format\n",
    "y_pred_rf = y_val.groupby('sentence_idx')['predict'].agg(lambda x: x.tolist())\n",
    "\n",
    "# Convert to name lablel\n",
    "y_pred_rf = [[idx2tag[tag] for tag in sent] for sent in y_pred_rf]\n",
    "\n",
    "modelPerformanceLog.add_model_performance('random forest',y_pred_rf)\n",
    "modelPerformanceLog.get_logs()"
   ]
  },
  {
   "cell_type": "markdown",
   "metadata": {},
   "source": [
    "# 5. <a id='toc5_'></a>[CRF](#toc0_)"
   ]
  },
  {
   "cell_type": "code",
   "execution_count": null,
   "metadata": {},
   "outputs": [],
   "source": [
    "from sklearn_crfsuite import CRF"
   ]
  },
  {
   "cell_type": "code",
   "execution_count": null,
   "metadata": {},
   "outputs": [],
   "source": [
    "X_train = ds_features['train'].to_pandas()['word_features']\n",
    "y_train = ds_features['train'].to_pandas()['tags_idx']\n",
    "y_train = [[idx2tag[tag] for tag in sent] for sent in y_train]\n",
    "\n",
    "X_val = ds_features['validation'].to_pandas()['word_features']"
   ]
  },
  {
   "cell_type": "code",
   "execution_count": null,
   "metadata": {},
   "outputs": [],
   "source": [
    "# Create and train CRF model\n",
    "crf_model = CRF(algorithm='lbfgs',\n",
    "                max_iterations=100,\n",
    "                c1=0.5,\n",
    "                c2=0.05)\n",
    "\n",
    "# There is this error existing with this library: 'CRF' object has no attribute 'keep_tempfiles'\n",
    "# which has not been resolved and we can bypass it using this trick.\n",
    "try:\n",
    "  crf_model.fit(X_train, y_train)\n",
    "except AttributeError:\n",
    "  pass"
   ]
  },
  {
   "cell_type": "code",
   "execution_count": null,
   "metadata": {},
   "outputs": [],
   "source": [
    "y_pred_crf = crf_model.predict(X_val)"
   ]
  },
  {
   "cell_type": "code",
   "execution_count": null,
   "metadata": {},
   "outputs": [],
   "source": [
    "modelPerformanceLog.add_model_performance('crf',y_pred_crf)\n",
    "modelPerformanceLog.get_logs()"
   ]
  },
  {
   "cell_type": "markdown",
   "metadata": {},
   "source": [
    "# 6. <a id='toc6_'></a>[Bi-LSTM](#toc0_)"
   ]
  },
  {
   "cell_type": "code",
   "execution_count": null,
   "metadata": {},
   "outputs": [],
   "source": [
    "# # Author: Robert Guthrie\n",
    "\n",
    "# import torch\n",
    "# import torch.autograd as autograd\n",
    "# import torch.nn as nn\n",
    "# import torch.optim as optim\n",
    "\n",
    "# torch.manual_seed(1)"
   ]
  },
  {
   "cell_type": "code",
   "execution_count": null,
   "metadata": {},
   "outputs": [],
   "source": [
    "# def argmax(vec):\n",
    "#     # return the argmax as a python int\n",
    "#     _, idx = torch.max(vec, 1)\n",
    "#     return idx.item()\n",
    "\n",
    "\n",
    "# def prepare_sequence(seq, to_ix):\n",
    "#     idxs = [to_ix[w] for w in seq]\n",
    "#     return torch.tensor(idxs, dtype=torch.long)\n",
    "\n",
    "\n",
    "# # Compute log sum exp in a numerically stable way for the forward algorithm\n",
    "# def log_sum_exp(vec):\n",
    "#     max_score = vec[0, argmax(vec)]\n",
    "#     max_score_broadcast = max_score.view(1, -1).expand(1, vec.size()[1])\n",
    "#     return max_score + \\\n",
    "#         torch.log(torch.sum(torch.exp(vec - max_score_broadcast)))"
   ]
  },
  {
   "cell_type": "code",
   "execution_count": null,
   "metadata": {},
   "outputs": [],
   "source": [
    "# class BiLSTM_CRF(nn.Module):\n",
    "\n",
    "#     def __init__(self, vocab_size, tag_to_ix, embedding_dim, hidden_dim):\n",
    "#         super(BiLSTM_CRF, self).__init__()\n",
    "#         self.embedding_dim = embedding_dim\n",
    "#         self.hidden_dim = hidden_dim\n",
    "#         self.vocab_size = vocab_size\n",
    "#         self.tag_to_ix = tag_to_ix\n",
    "#         self.tagset_size = len(tag_to_ix)\n",
    "\n",
    "#         self.word_embeds = nn.Embedding(vocab_size, embedding_dim)\n",
    "#         self.lstm = nn.LSTM(embedding_dim, hidden_dim // 2,\n",
    "#                             num_layers=1, bidirectional=True)\n",
    "\n",
    "#         # Maps the output of the LSTM into tag space.\n",
    "#         self.hidden2tag = nn.Linear(hidden_dim, self.tagset_size)\n",
    "\n",
    "#         # Matrix of transition parameters.  Entry i,j is the score of\n",
    "#         # transitioning *to* i *from* j.\n",
    "#         self.transitions = nn.Parameter(\n",
    "#             torch.randn(self.tagset_size, self.tagset_size))\n",
    "\n",
    "#         # These two statements enforce the constraint that we never transfer\n",
    "#         # to the start tag and we never transfer from the stop tag\n",
    "#         self.transitions.data[tag_to_ix[START_TAG], :] = -10000\n",
    "#         self.transitions.data[:, tag_to_ix[STOP_TAG]] = -10000\n",
    "\n",
    "#         self.hidden = self.init_hidden()\n",
    "\n",
    "#     def init_hidden(self):\n",
    "#         return (torch.randn(2, 1, self.hidden_dim // 2),\n",
    "#                 torch.randn(2, 1, self.hidden_dim // 2))\n",
    "\n",
    "#     def _forward_alg(self, feats):\n",
    "#         # Do the forward algorithm to compute the partition function\n",
    "#         init_alphas = torch.full((1, self.tagset_size), -10000.)\n",
    "#         # START_TAG has all of the score.\n",
    "#         init_alphas[0][self.tag_to_ix[START_TAG]] = 0.\n",
    "\n",
    "#         # Wrap in a variable so that we will get automatic backprop\n",
    "#         forward_var = init_alphas\n",
    "\n",
    "#         # Iterate through the sentence\n",
    "#         for feat in feats:\n",
    "#             alphas_t = []  # The forward tensors at this timestep\n",
    "#             for next_tag in range(self.tagset_size):\n",
    "#                 # broadcast the emission score: it is the same regardless of\n",
    "#                 # the previous tag\n",
    "#                 emit_score = feat[next_tag].view(\n",
    "#                     1, -1).expand(1, self.tagset_size)\n",
    "#                 # the ith entry of trans_score is the score of transitioning to\n",
    "#                 # next_tag from i\n",
    "#                 trans_score = self.transitions[next_tag].view(1, -1)\n",
    "#                 # The ith entry of next_tag_var is the value for the\n",
    "#                 # edge (i -> next_tag) before we do log-sum-exp\n",
    "#                 next_tag_var = forward_var + trans_score + emit_score\n",
    "#                 # The forward variable for this tag is log-sum-exp of all the\n",
    "#                 # scores.\n",
    "#                 alphas_t.append(log_sum_exp(next_tag_var).view(1))\n",
    "#             forward_var = torch.cat(alphas_t).view(1, -1)\n",
    "#         terminal_var = forward_var + self.transitions[self.tag_to_ix[STOP_TAG]]\n",
    "#         alpha = log_sum_exp(terminal_var)\n",
    "#         return alpha\n",
    "\n",
    "#     def _get_lstm_features(self, sentence):\n",
    "#         self.hidden = self.init_hidden()\n",
    "#         embeds = self.word_embeds(sentence).view(len(sentence), 1, -1)\n",
    "#         lstm_out, self.hidden = self.lstm(embeds, self.hidden)\n",
    "#         lstm_out = lstm_out.view(len(sentence), self.hidden_dim)\n",
    "#         lstm_feats = self.hidden2tag(lstm_out)\n",
    "#         return lstm_feats\n",
    "\n",
    "#     def _score_sentence(self, feats, tags):\n",
    "#         # Gives the score of a provided tag sequence\n",
    "#         score = torch.zeros(1)\n",
    "#         tags = torch.cat([torch.tensor([self.tag_to_ix[START_TAG]], dtype=torch.long), tags])\n",
    "#         for i, feat in enumerate(feats):\n",
    "#             score = score + \\\n",
    "#                 self.transitions[tags[i + 1], tags[i]] + feat[tags[i + 1]]\n",
    "#         score = score + self.transitions[self.tag_to_ix[STOP_TAG], tags[-1]]\n",
    "#         return score\n",
    "\n",
    "#     def _viterbi_decode(self, feats):\n",
    "#         backpointers = []\n",
    "\n",
    "#         # Initialize the viterbi variables in log space\n",
    "#         init_vvars = torch.full((1, self.tagset_size), -10000.)\n",
    "#         init_vvars[0][self.tag_to_ix[START_TAG]] = 0\n",
    "\n",
    "#         # forward_var at step i holds the viterbi variables for step i-1\n",
    "#         forward_var = init_vvars\n",
    "#         for feat in feats:\n",
    "#             bptrs_t = []  # holds the backpointers for this step\n",
    "#             viterbivars_t = []  # holds the viterbi variables for this step\n",
    "\n",
    "#             for next_tag in range(self.tagset_size):\n",
    "#                 # next_tag_var[i] holds the viterbi variable for tag i at the\n",
    "#                 # previous step, plus the score of transitioning\n",
    "#                 # from tag i to next_tag.\n",
    "#                 # We don't include the emission scores here because the max\n",
    "#                 # does not depend on them (we add them in below)\n",
    "#                 next_tag_var = forward_var + self.transitions[next_tag]\n",
    "#                 best_tag_id = argmax(next_tag_var)\n",
    "#                 bptrs_t.append(best_tag_id)\n",
    "#                 viterbivars_t.append(next_tag_var[0][best_tag_id].view(1))\n",
    "#             # Now add in the emission scores, and assign forward_var to the set\n",
    "#             # of viterbi variables we just computed\n",
    "#             forward_var = (torch.cat(viterbivars_t) + feat).view(1, -1)\n",
    "#             backpointers.append(bptrs_t)\n",
    "\n",
    "#         # Transition to STOP_TAG\n",
    "#         terminal_var = forward_var + self.transitions[self.tag_to_ix[STOP_TAG]]\n",
    "#         best_tag_id = argmax(terminal_var)\n",
    "#         path_score = terminal_var[0][best_tag_id]\n",
    "\n",
    "#         # Follow the back pointers to decode the best path.\n",
    "#         best_path = [best_tag_id]\n",
    "#         for bptrs_t in reversed(backpointers):\n",
    "#             best_tag_id = bptrs_t[best_tag_id]\n",
    "#             best_path.append(best_tag_id)\n",
    "#         # Pop off the start tag (we dont want to return that to the caller)\n",
    "#         start = best_path.pop()\n",
    "#         assert start == self.tag_to_ix[START_TAG]  # Sanity check\n",
    "#         best_path.reverse()\n",
    "#         return path_score, best_path\n",
    "\n",
    "#     def neg_log_likelihood(self, sentence, tags):\n",
    "#         feats = self._get_lstm_features(sentence)\n",
    "#         forward_score = self._forward_alg(feats)\n",
    "#         gold_score = self._score_sentence(feats, tags)\n",
    "#         return forward_score - gold_score\n",
    "\n",
    "#     def forward(self, sentence):  # dont confuse this with _forward_alg above.\n",
    "#         # Get the emission scores from the BiLSTM\n",
    "#         lstm_feats = self._get_lstm_features(sentence)\n",
    "\n",
    "#         # Find the best path, given the features.\n",
    "#         score, tag_seq = self._viterbi_decode(lstm_feats)\n",
    "#         return score, tag_seq"
   ]
  },
  {
   "cell_type": "code",
   "execution_count": null,
   "metadata": {},
   "outputs": [],
   "source": [
    "# START_TAG = \"<START>\"\n",
    "# STOP_TAG = \"<STOP>\"\n",
    "# EMBEDDING_DIM = 5\n",
    "# HIDDEN_DIM = 4\n",
    "\n",
    "# # Make up some training data\n",
    "# training_data = [(\n",
    "#     \"the wall street journal reported today that apple corporation made money\".split(),\n",
    "#     \"B I I I O O O B I O O\".split()\n",
    "# ), (\n",
    "#     \"georgia tech is a university in georgia\".split(),\n",
    "#     \"B I O O O O B\".split()\n",
    "# )]\n",
    "\n",
    "# word_to_ix = {}\n",
    "# for sentence, tags in training_data:\n",
    "#     for word in sentence:\n",
    "#         if word not in word_to_ix:\n",
    "#             word_to_ix[word] = len(word_to_ix)\n",
    "\n",
    "# tag_to_ix = {\"B\": 0, \"I\": 1, \"O\": 2, START_TAG: 3, STOP_TAG: 4}\n",
    "\n",
    "# model = BiLSTM_CRF(len(word_to_ix), tag_to_ix, EMBEDDING_DIM, HIDDEN_DIM)\n",
    "# optimizer = optim.SGD(model.parameters(), lr=0.01, weight_decay=1e-4)\n",
    "\n",
    "# # Check predictions before training\n",
    "# with torch.no_grad():\n",
    "#     precheck_sent = prepare_sequence(training_data[0][0], word_to_ix)\n",
    "#     precheck_tags = torch.tensor([tag_to_ix[t] for t in training_data[0][1]], dtype=torch.long)\n",
    "#     print(model(precheck_sent))\n",
    "\n",
    "# # Make sure prepare_sequence from earlier in the LSTM section is loaded\n",
    "# for epoch in range(\n",
    "#         300):  # again, normally you would NOT do 300 epochs, it is toy data\n",
    "#     for sentence, tags in training_data:\n",
    "#         # Step 1. Remember that Pytorch accumulates gradients.\n",
    "#         # We need to clear them out before each instance\n",
    "#         model.zero_grad()\n",
    "\n",
    "#         # Step 2. Get our inputs ready for the network, that is,\n",
    "#         # turn them into Tensors of word indices.\n",
    "#         sentence_in = prepare_sequence(sentence, word_to_ix)\n",
    "#         targets = torch.tensor([tag_to_ix[t] for t in tags], dtype=torch.long)\n",
    "\n",
    "#         # Step 3. Run our forward pass.\n",
    "#         loss = model.neg_log_likelihood(sentence_in, targets)\n",
    "\n",
    "#         # Step 4. Compute the loss, gradients, and update the parameters by\n",
    "#         # calling optimizer.step()\n",
    "#         loss.backward()\n",
    "#         optimizer.step()\n",
    "\n",
    "# # Check predictions after training\n",
    "# with torch.no_grad():\n",
    "#     precheck_sent = prepare_sequence(training_data[0][0], word_to_ix)\n",
    "#     print(model(precheck_sent))\n",
    "# # We got it!"
   ]
  },
  {
   "cell_type": "markdown",
   "metadata": {},
   "source": [
    "# 7. <a id='toc7_'></a>[BERT](#toc0_)"
   ]
  },
  {
   "cell_type": "code",
   "execution_count": 19,
   "metadata": {},
   "outputs": [
    {
     "name": "stderr",
     "output_type": "stream",
     "text": [
      "2024-02-03 00:26:54.206898: I tensorflow/core/platform/cpu_feature_guard.cc:182] This TensorFlow binary is optimized to use available CPU instructions in performance-critical operations.\n",
      "To enable the following instructions: AVX2 FMA, in other operations, rebuild TensorFlow with the appropriate compiler flags.\n"
     ]
    }
   ],
   "source": [
    "\n",
    "import torch\n",
    "import torch.nn as nn\n",
    "from torch.nn.functional import cross_entropy\n",
    "\n",
    "from transformers import AutoConfig, DistilBertConfig, AutoTokenizer, TrainingArguments, DataCollatorForTokenClassification, Trainer\n",
    "from transformers.modeling_outputs import TokenClassifierOutput\n",
    "from transformers.models.distilbert.modeling_distilbert import DistilBertModel\n",
    "from transformers.models.distilbert.modeling_distilbert import DistilBertPreTrainedModel\n",
    "\n",
    "device = torch.device('mps') # This is required for Mac\n",
    "# torch.mps.empty_cache()"
   ]
  },
  {
   "cell_type": "markdown",
   "metadata": {},
   "source": [
    "## 7.1. <a id='toc7_1_'></a>[Model](#toc0_)"
   ]
  },
  {
   "cell_type": "code",
   "execution_count": 20,
   "metadata": {},
   "outputs": [],
   "source": [
    "class DistilBertForABSA(DistilBertPreTrainedModel):\n",
    "  config_class = DistilBertConfig\n",
    "\n",
    "  def __init__(self, config, architecture, loss_token_weights):\n",
    "    super().__init__(config)\n",
    "    # Roberta body\n",
    "    self.num_labels = config.num_labels\n",
    "    self.distilbert = DistilBertModel(config)#, add_pooling_layer=False)\n",
    "    self.architecture = architecture\n",
    "    self.loss_token_weights = loss_token_weights\n",
    "    # Classification head\n",
    "    self.dropout = nn.Dropout(config.dropout)#hidden_dropout_prob)\n",
    "    \n",
    "\n",
    "    if architecture == 'additional_linear':\n",
    "        # Additional layer\n",
    "        self.additional_linear = nn.Linear(config.hidden_size, 10)\n",
    "        self.additional_dropout = nn.Dropout(0.5)#hidden_dropout_prob)\n",
    "        self.classifier = nn.Linear(10, config.num_labels)\n",
    "        \n",
    "\n",
    "    elif architecture == 'lstm':\n",
    "        self.lstm = nn.LSTM(config.hidden_size, 30, bidirectional=True)\n",
    "        self.additional_dropout = nn.Dropout(0.5)#hidden_dropout_prob)\n",
    "        self.classifier = nn.Linear(60, config.num_labels)\n",
    "    else:\n",
    "        self.classifier = nn.Linear(config.hidden_size, config.num_labels)\n",
    "\n",
    "    # Load and initialize weights from pretrained\n",
    "    self.init_weights()\n",
    "\n",
    "  def forward(self, input_ids=None, attention_mask=None, token_type_ids=None, \n",
    "                labels=None, **kwargs):\n",
    "        \n",
    "    # Use model body to get encoder representations\n",
    "    outputs = self.distilbert(input_ids, attention_mask=attention_mask,\n",
    "                        #    token_type_ids=token_type_ids,\n",
    "                                **kwargs)\n",
    "    \n",
    "    # Apply classifier to encoder representation (model head)\n",
    "    sequence_output = self.dropout(outputs[0])\n",
    "\n",
    "    if self.architecture == 'additional_linear':\n",
    "        # Additional layer\n",
    "      additional_linear_output = self.additional_linear(sequence_output)\n",
    "      logit_input = self.additional_dropout(additional_linear_output)\n",
    "    elif self.architecture == 'lstm':\n",
    "      lstm_output, _ = self.lstm(sequence_output)\n",
    "      logit_input = self.additional_dropout(lstm_output)\n",
    "    else:\n",
    "      logit_input = sequence_output\n",
    "    \n",
    "    logits = self.classifier(logit_input)\n",
    "    \n",
    "    # Calculate losses\n",
    "    loss = None\n",
    "    if labels is not None:\n",
    "        if len(self.loss_token_weights) > 0:\n",
    "          # loss_weights = torch.tensor(self.loss_token_weights, dtype=torch.float16).to(device) # This kills the kernel, not sure why\n",
    "          loss_fct = nn.CrossEntropyLoss()\n",
    "        else:\n",
    "          loss_fct = nn.CrossEntropyLoss()\n",
    "        loss = loss_fct(logits.view(-1, self.num_labels), labels.view(-1))\n",
    "        \n",
    "    # Return model output object\n",
    "    return TokenClassifierOutput(loss=loss, logits=logits, \n",
    "                                     hidden_states=outputs.hidden_states, \n",
    "                                     attentions=outputs.attentions)\n",
    "    "
   ]
  },
  {
   "cell_type": "markdown",
   "metadata": {},
   "source": [
    "## 7.3. <a id='toc7_3_'></a>[Upsampling / downsampling](#toc0_)"
   ]
  },
  {
   "cell_type": "markdown",
   "metadata": {},
   "source": [
    "## Downsampling"
   ]
  },
  {
   "cell_type": "code",
   "execution_count": 21,
   "metadata": {},
   "outputs": [],
   "source": [
    "from random import randint\n",
    "df_train_ori['aspect_token_counts'] = df_train_ori['tags'].apply(lambda x: sum([1 for tag in x if tag != 'O']))\n",
    "df_train_ori['select'] = df_train_ori['aspect_token_counts'].apply(lambda x: randint(0,2) if x == 0 else 1)\n",
    "\n",
    "downsample_df_train = df_train_ori[df_train_ori['select']==1].copy()"
   ]
  },
  {
   "cell_type": "code",
   "execution_count": null,
   "metadata": {},
   "outputs": [],
   "source": []
  },
  {
   "cell_type": "code",
   "execution_count": 22,
   "metadata": {},
   "outputs": [
    {
     "name": "stdout",
     "output_type": "stream",
     "text": [
      "DatasetDict({\n",
      "    train: Dataset({\n",
      "        features: ['tokens', 'tags_idx', 'tags'],\n",
      "        num_rows: 1378\n",
      "    })\n",
      "    validation: Dataset({\n",
      "        features: ['tokens', 'tags_idx', 'tags'],\n",
      "        num_rows: 911\n",
      "    })\n",
      "    test: Dataset({\n",
      "        features: ['tokens', 'tags_idx', 'tags'],\n",
      "        num_rows: 800\n",
      "    })\n",
      "})\n",
      "DatasetDict({\n",
      "    train: Dataset({\n",
      "        features: ['tokens', 'tags_idx', 'tags'],\n",
      "        num_rows: 2125\n",
      "    })\n",
      "    validation: Dataset({\n",
      "        features: ['tokens', 'tags_idx', 'tags'],\n",
      "        num_rows: 911\n",
      "    })\n",
      "    test: Dataset({\n",
      "        features: ['tokens', 'tags_idx', 'tags'],\n",
      "        num_rows: 800\n",
      "    })\n",
      "})\n"
     ]
    }
   ],
   "source": [
    "import copy\n",
    "\n",
    "\n",
    "downsample_tds = Dataset.from_pandas(downsample_df_train[['tokens','tags_idx','tags']], features=ds['train'].features, preserve_index=False)\n",
    "\n",
    "downsample_ds = copy.copy(ds)\n",
    "\n",
    "downsample_ds['train'] = downsample_tds\n",
    "\n",
    "\n",
    "print(downsample_ds)\n",
    "print(ds)"
   ]
  },
  {
   "cell_type": "markdown",
   "metadata": {},
   "source": [
    "### Upsampling"
   ]
  },
  {
   "cell_type": "code",
   "execution_count": null,
   "metadata": {},
   "outputs": [],
   "source": []
  },
  {
   "cell_type": "code",
   "execution_count": 23,
   "metadata": {},
   "outputs": [],
   "source": [
    "# # Set the target number of samples per score\n",
    "# target_samples_per_score = 3000\n",
    "\n",
    "# # Use the custom sampling method\n",
    "# custom_sampled_df = custom_sampling_based_on_score(df_train_ori.copy(), 'nsCRD')\n",
    "\n",
    "# # Check the distribution of scores in the custom sampled DataFrame\n",
    "# # print(custom_sampled_df['entities_score'].value_counts())\n",
    "# print(len(custom_sampled_df))"
   ]
  },
  {
   "cell_type": "code",
   "execution_count": 24,
   "metadata": {},
   "outputs": [],
   "source": [
    "# # Perform aspect type counts per each dataset split\n",
    "# split2freqs = defaultdict(Counter)\n",
    "\n",
    "# for row in df_train_ori[\"tags\"]:\n",
    "#     for tag in row:\n",
    "#         # if tag.startswith(\"B\"):\n",
    "#         #     tag_type = tag.split(\"-\")[1]\n",
    "#         split2freqs['train'][tag] += 1\n",
    "                \n",
    "# pd.DataFrame.from_dict(split2freqs, orient=\"index\")"
   ]
  },
  {
   "cell_type": "code",
   "execution_count": 25,
   "metadata": {},
   "outputs": [],
   "source": [
    "# df_train_ori['score'] = df_train_ori['tags'].apply(lambda x:sum([ 1 for tag in x if tag != 'O']))"
   ]
  },
  {
   "cell_type": "code",
   "execution_count": 26,
   "metadata": {},
   "outputs": [],
   "source": [
    "# print(len(df_train_ori))\n",
    "# print(len(df_train_ori[df_train_ori['score']==0]))"
   ]
  },
  {
   "cell_type": "code",
   "execution_count": 27,
   "metadata": {},
   "outputs": [],
   "source": [
    "# from random import randint\n",
    "# df_train_ori['select'] = df_train_ori['score'].apply(lambda x: randint(0,2) if x == 0 else 1)"
   ]
  },
  {
   "cell_type": "code",
   "execution_count": 28,
   "metadata": {},
   "outputs": [],
   "source": [
    "# custom_sampled_df = df_train_ori[df_train_ori['select']==1].copy()"
   ]
  },
  {
   "cell_type": "code",
   "execution_count": 29,
   "metadata": {},
   "outputs": [],
   "source": [
    "# for row in custom_sampled_df[\"tags\"]:\n",
    "#     for tag in row:\n",
    "#         # if tag.startswith(\"B\"):\n",
    "#         #     tag_type = tag.split(\"-\")[1]\n",
    "#         split2freqs['down_sample_1_3'][tag] += 1\n",
    "\n",
    "# pd.DataFrame.from_dict(split2freqs, orient=\"index\")"
   ]
  },
  {
   "cell_type": "code",
   "execution_count": 30,
   "metadata": {},
   "outputs": [],
   "source": [
    "# tag_counts = pd.DataFrame.from_dict(split2freqs, orient=\"index\")\n",
    "\n",
    "# tag_counts['total_tag'] = tag_counts.sum(axis=1)\n",
    "# tag_counts['entity_ratio'] = tag_counts['O'] / tag_counts['total_tag']\n",
    "# tag_counts"
   ]
  },
  {
   "cell_type": "code",
   "execution_count": 31,
   "metadata": {},
   "outputs": [],
   "source": [
    "# from math import log,sqrt, ceil\n",
    "\n",
    "# def custom_sampling_based_on_score(df, method):\n",
    "#   # Get stats of the class distribution of the dataset\n",
    "#   labels = sum(df['tags'],[])\n",
    "#   num_tokens = len(labels)\n",
    "#   ent = [label[2:] for label in labels if label != 'O']\n",
    "#   stats = Counter(ent)\n",
    "#   for key in stats:\n",
    "#       #Use frequency instead of count\n",
    "#       stats[key] = stats[key]/num_tokens\n",
    "\n",
    "#   if method not in ['sc','sCR','sCRD','nsCRD']:\n",
    "#     raise ValueError(\"Unidentified Resampling Method\")\n",
    "\n",
    "\n",
    "  \n",
    "#   # df['score'] = df['tags'].apply(lambda x: sum([ 0 if tag.startswith('O') else 1 for tag in x  ]) + 1)\n",
    "  \n",
    "#   custom_sampled_df = pd.DataFrame(columns=df.columns)\n",
    "\n",
    "#   # for idx in range(len(df)):\n",
    "#   #     num_samples = df.iloc[idx]['score']\n",
    "#   #     sent = df.iloc[idx].to_dict()\n",
    "\n",
    "#   #     for i in range(num_samples):\n",
    "#   #     # Append the sampled subset to the list\n",
    "#   #       sampled_data.append(sent)\n",
    "#   #       # custom_sampled_df = pd.concat([custom_sampled_df, df.iloc[idx]], ignore_index=True, axis = 0)\n",
    "#   # # Concatenate the sampled subsets to create the final upsampled DataFrame\n",
    "#   # custom_sampled_df = pd.concat([custom_sampled_df, pd.DataFrame(sampled_data)], ignore_index=True)\n",
    "  \n",
    "#   for sen in range(len(df)):\n",
    "#     sampled_data = [] \n",
    "#     # Resampling time can at least be 1, which means sentence without \n",
    "#     # entity will be reserved in the dataset  \n",
    "#     rsp_time = 1\n",
    "#     sen_len = len(df.iloc[sen]['tags'])\n",
    "#     ents = Counter([label[2:] for label in df.iloc[sen]['tags'] if label != 'O'])\n",
    "#           # Pass if there's no entity in a sentence\n",
    "    \n",
    "    \n",
    "#     if ents:\n",
    "#       for ent in ents.keys():\n",
    "#         # Resampling method selection and resampling time calculation, \n",
    "#         # see section 'Resampling Functions' in our paper for details.\n",
    "#         if method == 'sc':\n",
    "#           rsp_time += ents[ent]\n",
    "#         if method == 'sCR' or method == 'sCRD':\n",
    "#           weight = -log(stats[ent],2)\n",
    "#           rsp_time += ents[ent]*weight\n",
    "#         if method == 'nsCRD':\n",
    "#           weight = -log(stats[ent],2)\n",
    "#           rsp_time += sqrt(ents[ent])*weight\n",
    "#         if method == 'sCR':\n",
    "#           rsp_time = sqrt(rsp_time)\n",
    "#         if method == 'sCRD' or method == 'nsCRD':\n",
    "#           rsp_time = rsp_time/sqrt(sen_len)\n",
    "#       # Ceiling to ensure the integrity of resamling time\n",
    "#       rsp_time = ceil(rsp_time) \n",
    "    \n",
    "#     for t in range(rsp_time):\n",
    "#       for token in range(sen_len):\n",
    "#         sampled_data.append(df.iloc[sen].to_dict())\n",
    "\n",
    "\n",
    "#     custom_sampled_df = pd.concat([custom_sampled_df, pd.DataFrame(sampled_data)], ignore_index=True)\n",
    "\n",
    "\n",
    "\n",
    "\n",
    "#   return custom_sampled_df\n",
    "\n"
   ]
  },
  {
   "cell_type": "markdown",
   "metadata": {},
   "source": [
    "## 7.4. <a id='toc7_4_'></a>[Model tuning](#toc0_)"
   ]
  },
  {
   "cell_type": "code",
   "execution_count": 32,
   "metadata": {},
   "outputs": [],
   "source": [
    "class ModelTuning:\n",
    "  def __init__(self, pretrained_model_name, index2tag, tag2index, y_validation=None, modelPerformanceLog=None):\n",
    "    \n",
    "    self.pretrained_model_name = pretrained_model_name\n",
    "    self.index2tag = index2tag\n",
    "    self.tag2index = tag2index\n",
    "\n",
    "    self.pretrained_model_config = AutoConfig.from_pretrained(pretrained_model_name, \n",
    "                                        num_labels=len(self.index2tag),\n",
    "                                        id2label=index2tag, label2id=tag2index)\n",
    "    \n",
    "    if modelPerformanceLog != None:\n",
    "      self.modelPerformanceLog = modelPerformanceLog\n",
    "    else:\n",
    "      self.modelPerformanceLog = ModelPerformanceLog(y_validation)\n",
    "\n",
    "  def model_init(self, architecture, loss_token_weights):\n",
    "    return (DistilBertForABSA\n",
    "            .from_pretrained(self.pretrained_model_name, config=self.pretrained_model_config, architecture=architecture, loss_token_weights=loss_token_weights)\n",
    "            .to(device))\n",
    "  \n",
    "  def align_predictions(self, predictions, label_ids):\n",
    "    preds = np.argmax(predictions, axis=2)\n",
    "\n",
    "    batch_size, seq_len = preds.shape\n",
    "    labels_list, preds_list = [], []\n",
    "\n",
    "    for batch_idx in range(batch_size):\n",
    "        example_labels, example_preds = [], []\n",
    "        for seq_idx in range(seq_len):\n",
    "            # Ignore label IDs = -100\n",
    "            if label_ids[batch_idx, seq_idx] != -100:\n",
    "                index2tag = self.pretrained_model_config.id2label.copy()\n",
    "                example_labels.append(index2tag[label_ids[batch_idx][seq_idx]])\n",
    "                example_preds.append(index2tag[preds[batch_idx][seq_idx]])\n",
    "\n",
    "        labels_list.append(example_labels)\n",
    "        preds_list.append(example_preds)\n",
    "\n",
    "    return preds_list, labels_list\n",
    "\n",
    "  # Define performance metrics\n",
    "  def compute_metrics(self, eval_pred):\n",
    "    y_pred, y_true = self.align_predictions(eval_pred.predictions, \n",
    "                                        eval_pred.label_ids)\n",
    "    return {\"f1\": f1_score(y_true, y_pred, average='macro')}\n",
    "\n",
    "  def forward_pass_with_label(self,data_collator, trainer, batch):\n",
    "    # Convert dict of lists to list of dicts suitable for data collator\n",
    "    features = [dict(zip(batch, t)) for t in zip(*batch.values())]\n",
    "    # Pad inputs and labels and put all tensors on device\n",
    "    batch = data_collator(features)\n",
    "    input_ids = batch[\"input_ids\"].to(device)\n",
    "    attention_mask = batch[\"attention_mask\"].to(device)\n",
    "    labels = batch[\"labels\"].to(device)\n",
    "    with torch.no_grad():\n",
    "        # Pass data through model  \n",
    "        output = trainer.model.to(device)(input_ids, attention_mask)\n",
    "\n",
    "        # Logit.size: [batch_size, sequence_length, classes]\n",
    "        # Predict class with largest logit value on classes axis\n",
    "        predicted_label = torch.argmax(output.logits, axis=-1).cpu().numpy()\n",
    "    # Calculate loss per token after flattening batch dimension with view\n",
    "    loss = cross_entropy(output.logits.view(-1, tags.num_classes), \n",
    "                          labels.view(-1), reduction=\"none\")\n",
    "    # Unflatten batch dimension and convert to numpy array\n",
    "    loss = loss.view(len(input_ids), -1).cpu().numpy()\n",
    "\n",
    "    return {\"loss\":loss, \"predicted_label\": predicted_label}\n",
    "\n",
    "  def tokenize_and_align_labels(self, tokenizer, examples):\n",
    "    tokenized_inputs = tokenizer(examples[\"tokens\"], truncation=True, \n",
    "                                      is_split_into_words=True)\n",
    "    labels = []\n",
    "    for idx, label in enumerate(examples[\"tags_idx\"]):\n",
    "        word_ids = tokenized_inputs.word_ids(batch_index=idx)\n",
    "        previous_word_idx = None\n",
    "        label_ids = []\n",
    "        for word_idx in word_ids:\n",
    "            if word_idx is None or word_idx == previous_word_idx:\n",
    "                label_ids.append(-100)\n",
    "            else:\n",
    "                label_ids.append(label[word_idx])\n",
    "            previous_word_idx = word_idx\n",
    "        labels.append(label_ids)\n",
    "    tokenized_inputs[\"labels\"] = labels\n",
    "    return tokenized_inputs\n",
    "  \n",
    "  def encode_dataset(self, tokenizer, corpus):\n",
    "    return corpus.map(lambda examples: self.tokenize_and_align_labels(tokenizer, examples), \n",
    "                      batched=True, \n",
    "                      remove_columns=['tags_idx', 'tokens','tags']\n",
    "                      )\n",
    "     \n",
    "  def fine_tune_model(self, ds, model_name, architecture, num_epochs=6, batch_size=35, weight_decay=0.01, loss_token_weights=None):\n",
    "\n",
    "    \n",
    "    # Define tokenizer\n",
    "    pretrained_tokenizer = AutoTokenizer.from_pretrained(self.pretrained_model_name)\n",
    "\n",
    "    # Define data collator for data batching \n",
    "    data_collator = DataCollatorForTokenClassification(pretrained_tokenizer)\n",
    "\n",
    "    ds_encoded = self.encode_dataset(pretrained_tokenizer, ds)\n",
    "\n",
    "    logging_steps = len(ds_encoded['train']) // batch_size\n",
    "    model_name_ = f\"{self.pretrained_model_name}\" + model_name + f'_e{num_epochs}_ld{re.sub(r\"[^0-9]+\",\"\",str(weight_decay))}_w{\"T\" if len(loss_token_weights) > 0 else \"F\"}' \n",
    "    print(model_name_)\n",
    "    training_args = TrainingArguments(output_dir=\"models/\" + model_name_\n",
    "                                      ,log_level=\"error\"\n",
    "                                      ,num_train_epochs=num_epochs\n",
    "                                      ,per_device_train_batch_size=batch_size\n",
    "                                      ,per_device_eval_batch_size=batch_size\n",
    "                                      ,evaluation_strategy=\"epoch\"\n",
    "                                      ,save_steps=1e6\n",
    "                                      ,weight_decay=weight_decay\n",
    "                                      ,disable_tqdm=False\n",
    "                                      ,logging_steps=logging_steps\n",
    "                                      ,push_to_hub=False)\n",
    "    \n",
    "    trainer = Trainer(model_init=lambda: self.model_init(architecture, loss_token_weights)\n",
    "                      ,args=training_args\n",
    "                      ,data_collator=data_collator\n",
    "                      ,compute_metrics=self.compute_metrics\n",
    "                      ,train_dataset=ds_encoded[\"train\"]\n",
    "                      ,eval_dataset=ds_encoded[\"validation\"]\n",
    "                      ,tokenizer=pretrained_tokenizer)\n",
    "    \n",
    "    trainer.train()\n",
    "    # self.trainer = trainer\n",
    "\n",
    "    trainer_res_df = pd.DataFrame(trainer.state.log_history)[['epoch','loss' ,'eval_loss','eval_f1']]\n",
    "    trainer_res_df = trainer_res_df.rename(columns={\"epoch\":\"Epoch\",\"loss\": \"Training Loss\", \"eval_loss\": \"Validation Loss\", 'eval_f1':'F1'})\n",
    "    trainer_res_df['Epoch'] = trainer_res_df[\"Epoch\"].apply(lambda x: round(x))\n",
    "    trainer_res_df['Training Loss'] = trainer_res_df[\"Training Loss\"].ffill()\n",
    "    trainer_res_df[['Validation Loss', 'F1']] = trainer_res_df[['Validation Loss', 'F1']].bfill().ffill()\n",
    "    trainer_res_df.drop_duplicates()\n",
    "\n",
    "\n",
    "    validation_set = ds_encoded[\"validation\"]\n",
    "    validation_set = validation_set.map(lambda batch: self.forward_pass_with_label(data_collator, trainer, batch), batched=True, batch_size=32)\n",
    "    df_validation = validation_set.to_pandas()\n",
    "\n",
    "    # Cleanup & conver id2text \n",
    "    index2tag = trainer.model.config.id2label.copy()\n",
    "    index2tag[-100] = \"IGN\"\n",
    "    df_validation[\"input_tokens\"] = df_validation[\"input_ids\"].apply(\n",
    "        lambda x: pretrained_tokenizer.convert_ids_to_tokens(x))\n",
    "    df_validation[\"predicted_label_txt\"] = df_validation[\"predicted_label\"].apply(\n",
    "        lambda x: [index2tag[i] for i in x])\n",
    "    df_validation[\"labels_txt\"] = df_validation[\"labels\"].apply(\n",
    "        lambda x: [index2tag[i] for i in x])\n",
    "    df_validation['loss'] = df_validation.apply(\n",
    "        lambda x: x['loss'][:len(x['input_ids'])], axis=1) # Remove padding tokens\n",
    "    df_validation['predicted_label'] = df_validation.apply(\n",
    "        lambda x: x['predicted_label'][:len(x['input_ids'])], axis=1) # Remove padding tokens\n",
    "    df_validation['predicted_label_txt'] = df_validation.apply(\n",
    "        lambda x: x['predicted_label_txt'][:len(x['input_ids'])], axis=1) # Remove padding tokens\n",
    "    df_validation['labels_txt'] = df_validation.apply(\n",
    "        lambda x: x['labels_txt'][:len(x['input_ids'])], axis=1) # Remove padding tokens\n",
    "\n",
    "\n",
    "    # Flatten the outputs\n",
    "    df_tokens = df_validation.apply(pd.Series.explode)\n",
    "    df_tokens = df_tokens.query(\"labels != 'IGN'\")\n",
    "    df_tokens[\"loss\"] = df_tokens[\"loss\"].astype(float).round(2)\n",
    "\n",
    "    df_validation_metrics = df_validation.copy()\n",
    "\n",
    "    df_validation_metrics['predicted_label_txt'] = df_validation_metrics.apply(lambda x: [x['predicted_label_txt'][i] for i,k in enumerate(x['labels_txt']) if k != 'IGN' ], axis=1)\n",
    "    # df_validation_metrics['labels_txt'] = df_validation_metrics.apply(lambda x: [k for i,k in enumerate(x['labels_txt']) if k != 'IGN' ], axis=1)\n",
    "\n",
    "    self.modelPerformanceLog.add_model_performance(model_name_,df_validation_metrics['predicted_label_txt'])\n",
    "\n",
    "    trainer.save_model('models/saved/'+ model_name_)\n",
    "    return model_name_, trainer, trainer_res_df, df_validation, df_tokens, df_validation_metrics"
   ]
  },
  {
   "cell_type": "code",
   "execution_count": 33,
   "metadata": {},
   "outputs": [],
   "source": [
    "pretrained_model_name = \"distilbert-base-uncased\"\n",
    "tags = ds['train'].features['tags_idx'].feature\n",
    "index2tag = {idx: tag for idx, tag in enumerate(tags.names)}\n",
    "tag2index = {tag: idx for idx, tag in enumerate(tags.names)}\n",
    "\n",
    "y_val = ds['validation'].to_pandas()['tags_idx']\n",
    "y_val = [[index2tag[tag] for tag in sent] for sent in y_val]\n",
    "\n",
    "modelTuning = ModelTuning(pretrained_model_name, index2tag, tag2index, y_val, modelPerformanceLog)"
   ]
  },
  {
   "cell_type": "code",
   "execution_count": 34,
   "metadata": {},
   "outputs": [
    {
     "data": {
      "text/plain": [
       "<__main__.ModelPerformanceLog at 0x13710ba90>"
      ]
     },
     "execution_count": 34,
     "metadata": {},
     "output_type": "execute_result"
    }
   ],
   "source": [
    "modelTuning.modelPerformanceLog"
   ]
  },
  {
   "cell_type": "code",
   "execution_count": 35,
   "metadata": {},
   "outputs": [
    {
     "data": {
      "application/vnd.jupyter.widget-view+json": {
       "model_id": "abc7d207c8b94052a92617b1d74be240",
       "version_major": 2,
       "version_minor": 0
      },
      "text/plain": [
       "Map:   0%|          | 0/1378 [00:00<?, ? examples/s]"
      ]
     },
     "metadata": {},
     "output_type": "display_data"
    },
    {
     "data": {
      "application/vnd.jupyter.widget-view+json": {
       "model_id": "6b7e3267f45b4652821cf3f9c77bc4ab",
       "version_major": 2,
       "version_minor": 0
      },
      "text/plain": [
       "Map:   0%|          | 0/911 [00:00<?, ? examples/s]"
      ]
     },
     "metadata": {},
     "output_type": "display_data"
    },
    {
     "data": {
      "application/vnd.jupyter.widget-view+json": {
       "model_id": "058bcdadb21b4ec88b9f3a2856b9a77d",
       "version_major": 2,
       "version_minor": 0
      },
      "text/plain": [
       "Map:   0%|          | 0/800 [00:00<?, ? examples/s]"
      ]
     },
     "metadata": {},
     "output_type": "display_data"
    },
    {
     "name": "stdout",
     "output_type": "stream",
     "text": [
      "distilbert-base-uncased_ds_down_sample_linear_0_e10_ld01_wF\n"
     ]
    },
    {
     "name": "stderr",
     "output_type": "stream",
     "text": [
      "/Users/tina.vu/work/fun/sentilens_env_wipp/lib/python3.9/site-packages/transformers/optimization.py:391: FutureWarning: This implementation of AdamW is deprecated and will be removed in a future version. Use the PyTorch implementation torch.optim.AdamW instead, or set `no_deprecation_warning=True` to disable this warning\n",
      "  warnings.warn(\n"
     ]
    },
    {
     "data": {
      "application/vnd.jupyter.widget-view+json": {
       "model_id": "5a51b26273764e8a89d61a7a7ed8049d",
       "version_major": 2,
       "version_minor": 0
      },
      "text/plain": [
       "  0%|          | 0/400 [00:00<?, ?it/s]"
      ]
     },
     "metadata": {},
     "output_type": "display_data"
    },
    {
     "name": "stdout",
     "output_type": "stream",
     "text": [
      "{'loss': 0.4724, 'learning_rate': 4.5125e-05, 'epoch': 0.97}\n"
     ]
    },
    {
     "data": {
      "application/vnd.jupyter.widget-view+json": {
       "model_id": "5dc0c0aeae2b47b0bc949cb9ea99ee8d",
       "version_major": 2,
       "version_minor": 0
      },
      "text/plain": [
       "  0%|          | 0/27 [00:00<?, ?it/s]"
      ]
     },
     "metadata": {},
     "output_type": "display_data"
    },
    {
     "name": "stdout",
     "output_type": "stream",
     "text": [
      "{'eval_loss': 0.2128618210554123, 'eval_f1': 0.18206225657043715, 'eval_runtime': 14.6974, 'eval_samples_per_second': 61.984, 'eval_steps_per_second': 1.837, 'epoch': 1.0}\n",
      "{'loss': 0.1959, 'learning_rate': 4.025e-05, 'epoch': 1.95}\n"
     ]
    },
    {
     "data": {
      "application/vnd.jupyter.widget-view+json": {
       "model_id": "4bfd9a795971484184957f69b57f3736",
       "version_major": 2,
       "version_minor": 0
      },
      "text/plain": [
       "  0%|          | 0/27 [00:00<?, ?it/s]"
      ]
     },
     "metadata": {},
     "output_type": "display_data"
    },
    {
     "name": "stdout",
     "output_type": "stream",
     "text": [
      "{'eval_loss': 0.16786329448223114, 'eval_f1': 0.32287614699951805, 'eval_runtime': 15.4717, 'eval_samples_per_second': 58.882, 'eval_steps_per_second': 1.745, 'epoch': 2.0}\n",
      "{'loss': 0.1216, 'learning_rate': 3.5375e-05, 'epoch': 2.92}\n"
     ]
    },
    {
     "data": {
      "application/vnd.jupyter.widget-view+json": {
       "model_id": "00d162595641406ca76b24ba4ad03422",
       "version_major": 2,
       "version_minor": 0
      },
      "text/plain": [
       "  0%|          | 0/27 [00:00<?, ?it/s]"
      ]
     },
     "metadata": {},
     "output_type": "display_data"
    },
    {
     "name": "stdout",
     "output_type": "stream",
     "text": [
      "{'eval_loss': 0.16024702787399292, 'eval_f1': 0.4446768793468918, 'eval_runtime': 14.9652, 'eval_samples_per_second': 60.875, 'eval_steps_per_second': 1.804, 'epoch': 3.0}\n",
      "{'loss': 0.0802, 'learning_rate': 3.05e-05, 'epoch': 3.9}\n"
     ]
    },
    {
     "data": {
      "application/vnd.jupyter.widget-view+json": {
       "model_id": "2de16363cfc0429fb1eba4a6ee2db93d",
       "version_major": 2,
       "version_minor": 0
      },
      "text/plain": [
       "  0%|          | 0/27 [00:00<?, ?it/s]"
      ]
     },
     "metadata": {},
     "output_type": "display_data"
    },
    {
     "name": "stdout",
     "output_type": "stream",
     "text": [
      "{'eval_loss': 0.16346952319145203, 'eval_f1': 0.4591944641157925, 'eval_runtime': 16.4663, 'eval_samples_per_second': 55.325, 'eval_steps_per_second': 1.64, 'epoch': 4.0}\n",
      "{'loss': 0.0541, 'learning_rate': 2.5625e-05, 'epoch': 4.88}\n"
     ]
    },
    {
     "data": {
      "application/vnd.jupyter.widget-view+json": {
       "model_id": "253e516bc09949d686cf312452e3bca1",
       "version_major": 2,
       "version_minor": 0
      },
      "text/plain": [
       "  0%|          | 0/27 [00:00<?, ?it/s]"
      ]
     },
     "metadata": {},
     "output_type": "display_data"
    },
    {
     "name": "stdout",
     "output_type": "stream",
     "text": [
      "{'eval_loss': 0.17491748929023743, 'eval_f1': 0.49634239940237485, 'eval_runtime': 14.5479, 'eval_samples_per_second': 62.621, 'eval_steps_per_second': 1.856, 'epoch': 5.0}\n",
      "{'loss': 0.0374, 'learning_rate': 2.075e-05, 'epoch': 5.85}\n"
     ]
    },
    {
     "data": {
      "application/vnd.jupyter.widget-view+json": {
       "model_id": "70145e4e3c094eedb1dc9149047f1b69",
       "version_major": 2,
       "version_minor": 0
      },
      "text/plain": [
       "  0%|          | 0/27 [00:00<?, ?it/s]"
      ]
     },
     "metadata": {},
     "output_type": "display_data"
    },
    {
     "name": "stdout",
     "output_type": "stream",
     "text": [
      "{'eval_loss': 0.18740133941173553, 'eval_f1': 0.513165956870871, 'eval_runtime': 14.9741, 'eval_samples_per_second': 60.838, 'eval_steps_per_second': 1.803, 'epoch': 6.0}\n",
      "{'loss': 0.0254, 'learning_rate': 1.5875e-05, 'epoch': 6.83}\n"
     ]
    },
    {
     "data": {
      "application/vnd.jupyter.widget-view+json": {
       "model_id": "8c2e6192154142c0afc2a01788b4fbdd",
       "version_major": 2,
       "version_minor": 0
      },
      "text/plain": [
       "  0%|          | 0/27 [00:00<?, ?it/s]"
      ]
     },
     "metadata": {},
     "output_type": "display_data"
    },
    {
     "name": "stdout",
     "output_type": "stream",
     "text": [
      "{'eval_loss': 0.1959841251373291, 'eval_f1': 0.5150786558729429, 'eval_runtime': 14.8085, 'eval_samples_per_second': 61.519, 'eval_steps_per_second': 1.823, 'epoch': 7.0}\n",
      "{'loss': 0.0206, 'learning_rate': 1.1000000000000001e-05, 'epoch': 7.8}\n"
     ]
    },
    {
     "data": {
      "application/vnd.jupyter.widget-view+json": {
       "model_id": "045a78accebd4d49979e84bb3a725fc1",
       "version_major": 2,
       "version_minor": 0
      },
      "text/plain": [
       "  0%|          | 0/27 [00:00<?, ?it/s]"
      ]
     },
     "metadata": {},
     "output_type": "display_data"
    },
    {
     "name": "stdout",
     "output_type": "stream",
     "text": [
      "{'eval_loss': 0.1924658566713333, 'eval_f1': 0.4939261543873683, 'eval_runtime': 14.4267, 'eval_samples_per_second': 63.147, 'eval_steps_per_second': 1.872, 'epoch': 8.0}\n",
      "{'loss': 0.0152, 'learning_rate': 6.125e-06, 'epoch': 8.78}\n"
     ]
    },
    {
     "data": {
      "application/vnd.jupyter.widget-view+json": {
       "model_id": "f8a2e417aed345f8b88ff60955b11c9e",
       "version_major": 2,
       "version_minor": 0
      },
      "text/plain": [
       "  0%|          | 0/27 [00:00<?, ?it/s]"
      ]
     },
     "metadata": {},
     "output_type": "display_data"
    },
    {
     "name": "stdout",
     "output_type": "stream",
     "text": [
      "{'eval_loss': 0.19366851449012756, 'eval_f1': 0.5150004513964707, 'eval_runtime': 15.1131, 'eval_samples_per_second': 60.279, 'eval_steps_per_second': 1.787, 'epoch': 9.0}\n",
      "{'loss': 0.0141, 'learning_rate': 1.25e-06, 'epoch': 9.75}\n"
     ]
    },
    {
     "data": {
      "application/vnd.jupyter.widget-view+json": {
       "model_id": "c76f256d83db480f8dcd23e5c0a08304",
       "version_major": 2,
       "version_minor": 0
      },
      "text/plain": [
       "  0%|          | 0/27 [00:00<?, ?it/s]"
      ]
     },
     "metadata": {},
     "output_type": "display_data"
    },
    {
     "name": "stdout",
     "output_type": "stream",
     "text": [
      "{'eval_loss': 0.19829359650611877, 'eval_f1': 0.5139055371429192, 'eval_runtime': 14.5357, 'eval_samples_per_second': 62.673, 'eval_steps_per_second': 1.857, 'epoch': 10.0}\n",
      "{'train_runtime': 871.1671, 'train_samples_per_second': 15.818, 'train_steps_per_second': 0.459, 'train_loss': 0.10142942138016224, 'epoch': 10.0}\n"
     ]
    },
    {
     "data": {
      "application/vnd.jupyter.widget-view+json": {
       "model_id": "cf619234bc11406eb888748e4eaa31ce",
       "version_major": 2,
       "version_minor": 0
      },
      "text/plain": [
       "Map:   0%|          | 0/911 [00:00<?, ? examples/s]"
      ]
     },
     "metadata": {},
     "output_type": "display_data"
    },
    {
     "data": {
      "application/vnd.jupyter.widget-view+json": {
       "model_id": "7fe57edd0f4b41f3b00157eac20ad523",
       "version_major": 2,
       "version_minor": 0
      },
      "text/plain": [
       "Map:   0%|          | 0/1378 [00:00<?, ? examples/s]"
      ]
     },
     "metadata": {},
     "output_type": "display_data"
    },
    {
     "data": {
      "application/vnd.jupyter.widget-view+json": {
       "model_id": "dba4709578c2496bac9db11af2fd16ef",
       "version_major": 2,
       "version_minor": 0
      },
      "text/plain": [
       "Map:   0%|          | 0/911 [00:00<?, ? examples/s]"
      ]
     },
     "metadata": {},
     "output_type": "display_data"
    },
    {
     "data": {
      "application/vnd.jupyter.widget-view+json": {
       "model_id": "e75aa830a2894ae28ea44b841bc0a35c",
       "version_major": 2,
       "version_minor": 0
      },
      "text/plain": [
       "Map:   0%|          | 0/800 [00:00<?, ? examples/s]"
      ]
     },
     "metadata": {},
     "output_type": "display_data"
    },
    {
     "name": "stdout",
     "output_type": "stream",
     "text": [
      "distilbert-base-uncased_ds_down_sample_linear_0_e10_ld001_wF\n"
     ]
    },
    {
     "name": "stderr",
     "output_type": "stream",
     "text": [
      "/Users/tina.vu/work/fun/sentilens_env_wipp/lib/python3.9/site-packages/transformers/optimization.py:391: FutureWarning: This implementation of AdamW is deprecated and will be removed in a future version. Use the PyTorch implementation torch.optim.AdamW instead, or set `no_deprecation_warning=True` to disable this warning\n",
      "  warnings.warn(\n"
     ]
    },
    {
     "data": {
      "application/vnd.jupyter.widget-view+json": {
       "model_id": "ad8c785b60f648adb50e9438cfd2487d",
       "version_major": 2,
       "version_minor": 0
      },
      "text/plain": [
       "  0%|          | 0/400 [00:00<?, ?it/s]"
      ]
     },
     "metadata": {},
     "output_type": "display_data"
    },
    {
     "name": "stdout",
     "output_type": "stream",
     "text": [
      "{'loss': 0.4724, 'learning_rate': 4.5125e-05, 'epoch': 0.97}\n"
     ]
    },
    {
     "data": {
      "application/vnd.jupyter.widget-view+json": {
       "model_id": "5488a65d093f4851a439818a83840091",
       "version_major": 2,
       "version_minor": 0
      },
      "text/plain": [
       "  0%|          | 0/27 [00:00<?, ?it/s]"
      ]
     },
     "metadata": {},
     "output_type": "display_data"
    },
    {
     "name": "stdout",
     "output_type": "stream",
     "text": [
      "{'eval_loss': 0.2128612995147705, 'eval_f1': 0.18206225657043715, 'eval_runtime': 14.2944, 'eval_samples_per_second': 63.731, 'eval_steps_per_second': 1.889, 'epoch': 1.0}\n",
      "{'loss': 0.1959, 'learning_rate': 4.025e-05, 'epoch': 1.95}\n"
     ]
    },
    {
     "data": {
      "application/vnd.jupyter.widget-view+json": {
       "model_id": "b862515ef82d47a3a8dab7423ace9c0e",
       "version_major": 2,
       "version_minor": 0
      },
      "text/plain": [
       "  0%|          | 0/27 [00:00<?, ?it/s]"
      ]
     },
     "metadata": {},
     "output_type": "display_data"
    },
    {
     "name": "stdout",
     "output_type": "stream",
     "text": [
      "{'eval_loss': 0.16786745190620422, 'eval_f1': 0.32287614699951805, 'eval_runtime': 16.29, 'eval_samples_per_second': 55.924, 'eval_steps_per_second': 1.657, 'epoch': 2.0}\n",
      "{'loss': 0.1216, 'learning_rate': 3.5375e-05, 'epoch': 2.92}\n"
     ]
    },
    {
     "data": {
      "application/vnd.jupyter.widget-view+json": {
       "model_id": "c39fa50d642f476898316ef3b0d51aa9",
       "version_major": 2,
       "version_minor": 0
      },
      "text/plain": [
       "  0%|          | 0/27 [00:00<?, ?it/s]"
      ]
     },
     "metadata": {},
     "output_type": "display_data"
    },
    {
     "name": "stdout",
     "output_type": "stream",
     "text": [
      "{'eval_loss': 0.16027745604515076, 'eval_f1': 0.44497793965877097, 'eval_runtime': 14.3382, 'eval_samples_per_second': 63.537, 'eval_steps_per_second': 1.883, 'epoch': 3.0}\n",
      "{'loss': 0.0802, 'learning_rate': 3.05e-05, 'epoch': 3.9}\n"
     ]
    },
    {
     "data": {
      "application/vnd.jupyter.widget-view+json": {
       "model_id": "fb089f3054b3446eb7efafdd28f9857f",
       "version_major": 2,
       "version_minor": 0
      },
      "text/plain": [
       "  0%|          | 0/27 [00:00<?, ?it/s]"
      ]
     },
     "metadata": {},
     "output_type": "display_data"
    },
    {
     "name": "stdout",
     "output_type": "stream",
     "text": [
      "{'eval_loss': 0.163471981883049, 'eval_f1': 0.4591944641157925, 'eval_runtime': 15.2181, 'eval_samples_per_second': 59.863, 'eval_steps_per_second': 1.774, 'epoch': 4.0}\n",
      "{'loss': 0.0541, 'learning_rate': 2.5625e-05, 'epoch': 4.88}\n"
     ]
    },
    {
     "data": {
      "application/vnd.jupyter.widget-view+json": {
       "model_id": "cc94bd20a46c41ed90ce3b6baf90ed40",
       "version_major": 2,
       "version_minor": 0
      },
      "text/plain": [
       "  0%|          | 0/27 [00:00<?, ?it/s]"
      ]
     },
     "metadata": {},
     "output_type": "display_data"
    },
    {
     "name": "stdout",
     "output_type": "stream",
     "text": [
      "{'eval_loss': 0.17496511340141296, 'eval_f1': 0.4980776683977986, 'eval_runtime': 14.6519, 'eval_samples_per_second': 62.176, 'eval_steps_per_second': 1.843, 'epoch': 5.0}\n",
      "{'loss': 0.0374, 'learning_rate': 2.075e-05, 'epoch': 5.85}\n"
     ]
    },
    {
     "data": {
      "application/vnd.jupyter.widget-view+json": {
       "model_id": "0b1425f3857a4a999f4fc71f9005ec34",
       "version_major": 2,
       "version_minor": 0
      },
      "text/plain": [
       "  0%|          | 0/27 [00:00<?, ?it/s]"
      ]
     },
     "metadata": {},
     "output_type": "display_data"
    },
    {
     "name": "stdout",
     "output_type": "stream",
     "text": [
      "{'eval_loss': 0.18750901520252228, 'eval_f1': 0.5128653083290166, 'eval_runtime': 14.6403, 'eval_samples_per_second': 62.225, 'eval_steps_per_second': 1.844, 'epoch': 6.0}\n",
      "{'loss': 0.0254, 'learning_rate': 1.5875e-05, 'epoch': 6.83}\n"
     ]
    },
    {
     "data": {
      "application/vnd.jupyter.widget-view+json": {
       "model_id": "90b3363590d54e588321c4c4de65ff49",
       "version_major": 2,
       "version_minor": 0
      },
      "text/plain": [
       "  0%|          | 0/27 [00:00<?, ?it/s]"
      ]
     },
     "metadata": {},
     "output_type": "display_data"
    },
    {
     "name": "stdout",
     "output_type": "stream",
     "text": [
      "{'eval_loss': 0.19612093269824982, 'eval_f1': 0.5144804944886286, 'eval_runtime': 14.3594, 'eval_samples_per_second': 63.443, 'eval_steps_per_second': 1.88, 'epoch': 7.0}\n",
      "{'loss': 0.0206, 'learning_rate': 1.1000000000000001e-05, 'epoch': 7.8}\n"
     ]
    },
    {
     "data": {
      "application/vnd.jupyter.widget-view+json": {
       "model_id": "d12def3c36a14de0a2c5237498b9f9db",
       "version_major": 2,
       "version_minor": 0
      },
      "text/plain": [
       "  0%|          | 0/27 [00:00<?, ?it/s]"
      ]
     },
     "metadata": {},
     "output_type": "display_data"
    },
    {
     "name": "stdout",
     "output_type": "stream",
     "text": [
      "{'eval_loss': 0.1925591677427292, 'eval_f1': 0.4939261543873683, 'eval_runtime': 14.3717, 'eval_samples_per_second': 63.388, 'eval_steps_per_second': 1.879, 'epoch': 8.0}\n",
      "{'loss': 0.0152, 'learning_rate': 6.125e-06, 'epoch': 8.78}\n"
     ]
    },
    {
     "data": {
      "application/vnd.jupyter.widget-view+json": {
       "model_id": "01137e30153745d1881cd907a6c1c0c6",
       "version_major": 2,
       "version_minor": 0
      },
      "text/plain": [
       "  0%|          | 0/27 [00:00<?, ?it/s]"
      ]
     },
     "metadata": {},
     "output_type": "display_data"
    },
    {
     "name": "stdout",
     "output_type": "stream",
     "text": [
      "{'eval_loss': 0.19374990463256836, 'eval_f1': 0.5149586934803404, 'eval_runtime': 15.9552, 'eval_samples_per_second': 57.097, 'eval_steps_per_second': 1.692, 'epoch': 9.0}\n",
      "{'loss': 0.0141, 'learning_rate': 1.25e-06, 'epoch': 9.75}\n"
     ]
    },
    {
     "data": {
      "application/vnd.jupyter.widget-view+json": {
       "model_id": "003de39ab7324242a63feaccb05a58b2",
       "version_major": 2,
       "version_minor": 0
      },
      "text/plain": [
       "  0%|          | 0/27 [00:00<?, ?it/s]"
      ]
     },
     "metadata": {},
     "output_type": "display_data"
    },
    {
     "name": "stdout",
     "output_type": "stream",
     "text": [
      "{'eval_loss': 0.19835667312145233, 'eval_f1': 0.5138534048218327, 'eval_runtime': 14.4789, 'eval_samples_per_second': 62.919, 'eval_steps_per_second': 1.865, 'epoch': 10.0}\n",
      "{'train_runtime': 858.9707, 'train_samples_per_second': 16.042, 'train_steps_per_second': 0.466, 'train_loss': 0.10142505098134279, 'epoch': 10.0}\n"
     ]
    },
    {
     "data": {
      "application/vnd.jupyter.widget-view+json": {
       "model_id": "0266e861f8ff4073bdefad192fe6d675",
       "version_major": 2,
       "version_minor": 0
      },
      "text/plain": [
       "Map:   0%|          | 0/911 [00:00<?, ? examples/s]"
      ]
     },
     "metadata": {},
     "output_type": "display_data"
    },
    {
     "data": {
      "application/vnd.jupyter.widget-view+json": {
       "model_id": "9b054a8567264df490c7c6e0fc772e0b",
       "version_major": 2,
       "version_minor": 0
      },
      "text/plain": [
       "Map:   0%|          | 0/1378 [00:00<?, ? examples/s]"
      ]
     },
     "metadata": {},
     "output_type": "display_data"
    },
    {
     "data": {
      "application/vnd.jupyter.widget-view+json": {
       "model_id": "5a3be531e21243439c9d40e58fc7a978",
       "version_major": 2,
       "version_minor": 0
      },
      "text/plain": [
       "Map:   0%|          | 0/911 [00:00<?, ? examples/s]"
      ]
     },
     "metadata": {},
     "output_type": "display_data"
    },
    {
     "data": {
      "application/vnd.jupyter.widget-view+json": {
       "model_id": "bd0d85c81f3d4e3d9241d34253b3a0b2",
       "version_major": 2,
       "version_minor": 0
      },
      "text/plain": [
       "Map:   0%|          | 0/800 [00:00<?, ? examples/s]"
      ]
     },
     "metadata": {},
     "output_type": "display_data"
    },
    {
     "name": "stdout",
     "output_type": "stream",
     "text": [
      "distilbert-base-uncased_ds_down_sample_linear_0_e20_ld0001_wF\n"
     ]
    },
    {
     "name": "stderr",
     "output_type": "stream",
     "text": [
      "/Users/tina.vu/work/fun/sentilens_env_wipp/lib/python3.9/site-packages/transformers/optimization.py:391: FutureWarning: This implementation of AdamW is deprecated and will be removed in a future version. Use the PyTorch implementation torch.optim.AdamW instead, or set `no_deprecation_warning=True` to disable this warning\n",
      "  warnings.warn(\n"
     ]
    },
    {
     "data": {
      "application/vnd.jupyter.widget-view+json": {
       "model_id": "e13df0524cb84a9b911992480f519e21",
       "version_major": 2,
       "version_minor": 0
      },
      "text/plain": [
       "  0%|          | 0/800 [00:00<?, ?it/s]"
      ]
     },
     "metadata": {},
     "output_type": "display_data"
    },
    {
     "name": "stdout",
     "output_type": "stream",
     "text": [
      "{'loss': 0.4719, 'learning_rate': 4.7562500000000004e-05, 'epoch': 0.97}\n"
     ]
    },
    {
     "data": {
      "application/vnd.jupyter.widget-view+json": {
       "model_id": "a1264d058a79459e903f5d151dc47246",
       "version_major": 2,
       "version_minor": 0
      },
      "text/plain": [
       "  0%|          | 0/27 [00:00<?, ?it/s]"
      ]
     },
     "metadata": {},
     "output_type": "display_data"
    },
    {
     "name": "stdout",
     "output_type": "stream",
     "text": [
      "{'eval_loss': 0.21177852153778076, 'eval_f1': 0.19211996006391865, 'eval_runtime': 14.229, 'eval_samples_per_second': 64.024, 'eval_steps_per_second': 1.898, 'epoch': 1.0}\n",
      "{'loss': 0.1935, 'learning_rate': 4.5125e-05, 'epoch': 1.95}\n"
     ]
    },
    {
     "data": {
      "application/vnd.jupyter.widget-view+json": {
       "model_id": "6f30a4f5754c42c69a973925ef856d97",
       "version_major": 2,
       "version_minor": 0
      },
      "text/plain": [
       "  0%|          | 0/27 [00:00<?, ?it/s]"
      ]
     },
     "metadata": {},
     "output_type": "display_data"
    },
    {
     "name": "stdout",
     "output_type": "stream",
     "text": [
      "{'eval_loss': 0.16590313613414764, 'eval_f1': 0.3363683613532011, 'eval_runtime': 15.0519, 'eval_samples_per_second': 60.524, 'eval_steps_per_second': 1.794, 'epoch': 2.0}\n",
      "{'loss': 0.1172, 'learning_rate': 4.26875e-05, 'epoch': 2.92}\n"
     ]
    },
    {
     "data": {
      "application/vnd.jupyter.widget-view+json": {
       "model_id": "3e782b973eeb412fbc08e7c6dcd0ef34",
       "version_major": 2,
       "version_minor": 0
      },
      "text/plain": [
       "  0%|          | 0/27 [00:00<?, ?it/s]"
      ]
     },
     "metadata": {},
     "output_type": "display_data"
    },
    {
     "name": "stdout",
     "output_type": "stream",
     "text": [
      "{'eval_loss': 0.16140368580818176, 'eval_f1': 0.4524975759824601, 'eval_runtime': 14.7484, 'eval_samples_per_second': 61.769, 'eval_steps_per_second': 1.831, 'epoch': 3.0}\n",
      "{'loss': 0.0747, 'learning_rate': 4.025e-05, 'epoch': 3.9}\n"
     ]
    },
    {
     "data": {
      "application/vnd.jupyter.widget-view+json": {
       "model_id": "8e9d1696cced4265a815f690e71be2a0",
       "version_major": 2,
       "version_minor": 0
      },
      "text/plain": [
       "  0%|          | 0/27 [00:00<?, ?it/s]"
      ]
     },
     "metadata": {},
     "output_type": "display_data"
    },
    {
     "name": "stdout",
     "output_type": "stream",
     "text": [
      "{'eval_loss': 0.16506926715373993, 'eval_f1': 0.4553578854784612, 'eval_runtime': 14.1572, 'eval_samples_per_second': 64.349, 'eval_steps_per_second': 1.907, 'epoch': 4.0}\n",
      "{'loss': 0.0462, 'learning_rate': 3.78125e-05, 'epoch': 4.88}\n"
     ]
    },
    {
     "data": {
      "application/vnd.jupyter.widget-view+json": {
       "model_id": "9680c45edc4d45fe9074355a5b1cb405",
       "version_major": 2,
       "version_minor": 0
      },
      "text/plain": [
       "  0%|          | 0/27 [00:00<?, ?it/s]"
      ]
     },
     "metadata": {},
     "output_type": "display_data"
    },
    {
     "name": "stdout",
     "output_type": "stream",
     "text": [
      "{'eval_loss': 0.1792248785495758, 'eval_f1': 0.4963127036244847, 'eval_runtime': 14.2931, 'eval_samples_per_second': 63.737, 'eval_steps_per_second': 1.889, 'epoch': 5.0}\n",
      "{'loss': 0.0301, 'learning_rate': 3.5375e-05, 'epoch': 5.85}\n"
     ]
    },
    {
     "data": {
      "application/vnd.jupyter.widget-view+json": {
       "model_id": "62bce748758e487fb77971cd4a01c31f",
       "version_major": 2,
       "version_minor": 0
      },
      "text/plain": [
       "  0%|          | 0/27 [00:00<?, ?it/s]"
      ]
     },
     "metadata": {},
     "output_type": "display_data"
    },
    {
     "name": "stdout",
     "output_type": "stream",
     "text": [
      "{'eval_loss': 0.19021853804588318, 'eval_f1': 0.5195332686680306, 'eval_runtime': 14.2564, 'eval_samples_per_second': 63.901, 'eval_steps_per_second': 1.894, 'epoch': 6.0}\n",
      "{'loss': 0.0181, 'learning_rate': 3.29375e-05, 'epoch': 6.83}\n"
     ]
    },
    {
     "data": {
      "application/vnd.jupyter.widget-view+json": {
       "model_id": "2f0c7999f670436297f1e0a615cefdd5",
       "version_major": 2,
       "version_minor": 0
      },
      "text/plain": [
       "  0%|          | 0/27 [00:00<?, ?it/s]"
      ]
     },
     "metadata": {},
     "output_type": "display_data"
    },
    {
     "name": "stdout",
     "output_type": "stream",
     "text": [
      "{'eval_loss': 0.2018585354089737, 'eval_f1': 0.5144299728293243, 'eval_runtime': 16.2872, 'eval_samples_per_second': 55.933, 'eval_steps_per_second': 1.658, 'epoch': 7.0}\n",
      "{'loss': 0.0133, 'learning_rate': 3.05e-05, 'epoch': 7.8}\n"
     ]
    },
    {
     "data": {
      "application/vnd.jupyter.widget-view+json": {
       "model_id": "e0d18660629146139462e98d2c9e09ac",
       "version_major": 2,
       "version_minor": 0
      },
      "text/plain": [
       "  0%|          | 0/27 [00:00<?, ?it/s]"
      ]
     },
     "metadata": {},
     "output_type": "display_data"
    },
    {
     "name": "stdout",
     "output_type": "stream",
     "text": [
      "{'eval_loss': 0.20431531965732574, 'eval_f1': 0.5116270640549186, 'eval_runtime': 14.2942, 'eval_samples_per_second': 63.732, 'eval_steps_per_second': 1.889, 'epoch': 8.0}\n",
      "{'loss': 0.0099, 'learning_rate': 2.80625e-05, 'epoch': 8.78}\n"
     ]
    },
    {
     "data": {
      "application/vnd.jupyter.widget-view+json": {
       "model_id": "b18498e53c1b4378bbf1c47dc0a50fc7",
       "version_major": 2,
       "version_minor": 0
      },
      "text/plain": [
       "  0%|          | 0/27 [00:00<?, ?it/s]"
      ]
     },
     "metadata": {},
     "output_type": "display_data"
    },
    {
     "name": "stdout",
     "output_type": "stream",
     "text": [
      "{'eval_loss': 0.2219531089067459, 'eval_f1': 0.4875019572525199, 'eval_runtime': 14.9999, 'eval_samples_per_second': 60.734, 'eval_steps_per_second': 1.8, 'epoch': 9.0}\n",
      "{'loss': 0.0075, 'learning_rate': 2.5625e-05, 'epoch': 9.75}\n"
     ]
    },
    {
     "data": {
      "application/vnd.jupyter.widget-view+json": {
       "model_id": "a3ce3dbde9884ae9a00a88a284aa51b4",
       "version_major": 2,
       "version_minor": 0
      },
      "text/plain": [
       "  0%|          | 0/27 [00:00<?, ?it/s]"
      ]
     },
     "metadata": {},
     "output_type": "display_data"
    },
    {
     "name": "stdout",
     "output_type": "stream",
     "text": [
      "{'eval_loss': 0.2166098803281784, 'eval_f1': 0.50792132762037, 'eval_runtime': 14.7375, 'eval_samples_per_second': 61.815, 'eval_steps_per_second': 1.832, 'epoch': 10.0}\n",
      "{'loss': 0.0062, 'learning_rate': 2.31875e-05, 'epoch': 10.72}\n"
     ]
    },
    {
     "data": {
      "application/vnd.jupyter.widget-view+json": {
       "model_id": "30c68f8e9412449abf6bfe6995116ae9",
       "version_major": 2,
       "version_minor": 0
      },
      "text/plain": [
       "  0%|          | 0/27 [00:00<?, ?it/s]"
      ]
     },
     "metadata": {},
     "output_type": "display_data"
    },
    {
     "name": "stdout",
     "output_type": "stream",
     "text": [
      "{'eval_loss': 0.2245166152715683, 'eval_f1': 0.5173856800815911, 'eval_runtime': 14.2071, 'eval_samples_per_second': 64.123, 'eval_steps_per_second': 1.9, 'epoch': 11.0}\n",
      "{'loss': 0.0046, 'learning_rate': 2.075e-05, 'epoch': 11.7}\n"
     ]
    },
    {
     "data": {
      "application/vnd.jupyter.widget-view+json": {
       "model_id": "90459ddf5e104961af61693b2e009177",
       "version_major": 2,
       "version_minor": 0
      },
      "text/plain": [
       "  0%|          | 0/27 [00:00<?, ?it/s]"
      ]
     },
     "metadata": {},
     "output_type": "display_data"
    },
    {
     "name": "stdout",
     "output_type": "stream",
     "text": [
      "{'eval_loss': 0.22300857305526733, 'eval_f1': 0.5138817015436529, 'eval_runtime': 15.0086, 'eval_samples_per_second': 60.698, 'eval_steps_per_second': 1.799, 'epoch': 12.0}\n",
      "{'loss': 0.0036, 'learning_rate': 1.83125e-05, 'epoch': 12.68}\n"
     ]
    },
    {
     "data": {
      "application/vnd.jupyter.widget-view+json": {
       "model_id": "17ff522544384964b55d3c90efccfaee",
       "version_major": 2,
       "version_minor": 0
      },
      "text/plain": [
       "  0%|          | 0/27 [00:00<?, ?it/s]"
      ]
     },
     "metadata": {},
     "output_type": "display_data"
    },
    {
     "name": "stdout",
     "output_type": "stream",
     "text": [
      "{'eval_loss': 0.2300647646188736, 'eval_f1': 0.5089930883966666, 'eval_runtime': 14.2537, 'eval_samples_per_second': 63.913, 'eval_steps_per_second': 1.894, 'epoch': 13.0}\n",
      "{'loss': 0.0026, 'learning_rate': 1.5875e-05, 'epoch': 13.65}\n"
     ]
    },
    {
     "data": {
      "application/vnd.jupyter.widget-view+json": {
       "model_id": "5db90580e9774ad696535266b37de691",
       "version_major": 2,
       "version_minor": 0
      },
      "text/plain": [
       "  0%|          | 0/27 [00:00<?, ?it/s]"
      ]
     },
     "metadata": {},
     "output_type": "display_data"
    },
    {
     "name": "stdout",
     "output_type": "stream",
     "text": [
      "{'eval_loss': 0.23141086101531982, 'eval_f1': 0.5201462247150267, 'eval_runtime': 15.2604, 'eval_samples_per_second': 59.697, 'eval_steps_per_second': 1.769, 'epoch': 14.0}\n",
      "{'loss': 0.0033, 'learning_rate': 1.34375e-05, 'epoch': 14.62}\n"
     ]
    },
    {
     "data": {
      "application/vnd.jupyter.widget-view+json": {
       "model_id": "e7e1157dc3d44c83b476bb357a510ba8",
       "version_major": 2,
       "version_minor": 0
      },
      "text/plain": [
       "  0%|          | 0/27 [00:00<?, ?it/s]"
      ]
     },
     "metadata": {},
     "output_type": "display_data"
    },
    {
     "name": "stdout",
     "output_type": "stream",
     "text": [
      "{'eval_loss': 0.23908217251300812, 'eval_f1': 0.5017581203908686, 'eval_runtime': 14.3647, 'eval_samples_per_second': 63.419, 'eval_steps_per_second': 1.88, 'epoch': 15.0}\n",
      "{'loss': 0.0025, 'learning_rate': 1.1000000000000001e-05, 'epoch': 15.6}\n"
     ]
    },
    {
     "data": {
      "application/vnd.jupyter.widget-view+json": {
       "model_id": "6c8d0f608c6f43d0813523e9bb3a0778",
       "version_major": 2,
       "version_minor": 0
      },
      "text/plain": [
       "  0%|          | 0/27 [00:00<?, ?it/s]"
      ]
     },
     "metadata": {},
     "output_type": "display_data"
    },
    {
     "name": "stdout",
     "output_type": "stream",
     "text": [
      "{'eval_loss': 0.2309611588716507, 'eval_f1': 0.5179547574661044, 'eval_runtime': 14.6071, 'eval_samples_per_second': 62.367, 'eval_steps_per_second': 1.848, 'epoch': 16.0}\n",
      "{'loss': 0.0022, 'learning_rate': 8.562500000000001e-06, 'epoch': 16.57}\n"
     ]
    },
    {
     "data": {
      "application/vnd.jupyter.widget-view+json": {
       "model_id": "0258c1cfe8274516b1fa72ffeb805445",
       "version_major": 2,
       "version_minor": 0
      },
      "text/plain": [
       "  0%|          | 0/27 [00:00<?, ?it/s]"
      ]
     },
     "metadata": {},
     "output_type": "display_data"
    },
    {
     "name": "stdout",
     "output_type": "stream",
     "text": [
      "{'eval_loss': 0.23375903069972992, 'eval_f1': 0.5202402304973309, 'eval_runtime': 15.3369, 'eval_samples_per_second': 59.399, 'eval_steps_per_second': 1.76, 'epoch': 17.0}\n",
      "{'loss': 0.0021, 'learning_rate': 6.125e-06, 'epoch': 17.55}\n"
     ]
    },
    {
     "data": {
      "application/vnd.jupyter.widget-view+json": {
       "model_id": "9846bee16d014519b86d0478b8c44a5b",
       "version_major": 2,
       "version_minor": 0
      },
      "text/plain": [
       "  0%|          | 0/27 [00:00<?, ?it/s]"
      ]
     },
     "metadata": {},
     "output_type": "display_data"
    },
    {
     "name": "stdout",
     "output_type": "stream",
     "text": [
      "{'eval_loss': 0.2385297268629074, 'eval_f1': 0.5110974528442785, 'eval_runtime': 14.3897, 'eval_samples_per_second': 63.309, 'eval_steps_per_second': 1.876, 'epoch': 18.0}\n",
      "{'loss': 0.0018, 'learning_rate': 3.6875e-06, 'epoch': 18.52}\n"
     ]
    },
    {
     "data": {
      "application/vnd.jupyter.widget-view+json": {
       "model_id": "60af3f0695a34ed4a201e16f5e0658e8",
       "version_major": 2,
       "version_minor": 0
      },
      "text/plain": [
       "  0%|          | 0/27 [00:00<?, ?it/s]"
      ]
     },
     "metadata": {},
     "output_type": "display_data"
    },
    {
     "name": "stdout",
     "output_type": "stream",
     "text": [
      "{'eval_loss': 0.2406781017780304, 'eval_f1': 0.5121301823053236, 'eval_runtime': 15.308, 'eval_samples_per_second': 59.511, 'eval_steps_per_second': 1.764, 'epoch': 19.0}\n",
      "{'loss': 0.0018, 'learning_rate': 1.25e-06, 'epoch': 19.5}\n"
     ]
    },
    {
     "data": {
      "application/vnd.jupyter.widget-view+json": {
       "model_id": "d35b980f4e78419098d32e7217abde39",
       "version_major": 2,
       "version_minor": 0
      },
      "text/plain": [
       "  0%|          | 0/27 [00:00<?, ?it/s]"
      ]
     },
     "metadata": {},
     "output_type": "display_data"
    },
    {
     "name": "stdout",
     "output_type": "stream",
     "text": [
      "{'eval_loss': 0.2409926950931549, 'eval_f1': 0.511216555946419, 'eval_runtime': 15.2168, 'eval_samples_per_second': 59.868, 'eval_steps_per_second': 1.774, 'epoch': 20.0}\n",
      "{'train_runtime': 1702.7101, 'train_samples_per_second': 16.186, 'train_steps_per_second': 0.47, 'train_loss': 0.049420588796492665, 'epoch': 20.0}\n"
     ]
    },
    {
     "data": {
      "application/vnd.jupyter.widget-view+json": {
       "model_id": "ba7c4c5734d7403cbb51baf7bdaf71da",
       "version_major": 2,
       "version_minor": 0
      },
      "text/plain": [
       "Map:   0%|          | 0/911 [00:00<?, ? examples/s]"
      ]
     },
     "metadata": {},
     "output_type": "display_data"
    },
    {
     "data": {
      "application/vnd.jupyter.widget-view+json": {
       "model_id": "e2847470f23f487998c16960cfa99b9a",
       "version_major": 2,
       "version_minor": 0
      },
      "text/plain": [
       "Map:   0%|          | 0/2125 [00:00<?, ? examples/s]"
      ]
     },
     "metadata": {},
     "output_type": "display_data"
    },
    {
     "data": {
      "application/vnd.jupyter.widget-view+json": {
       "model_id": "bce37ebbd653427db9fbc3436d0b8407",
       "version_major": 2,
       "version_minor": 0
      },
      "text/plain": [
       "Map:   0%|          | 0/911 [00:00<?, ? examples/s]"
      ]
     },
     "metadata": {},
     "output_type": "display_data"
    },
    {
     "data": {
      "application/vnd.jupyter.widget-view+json": {
       "model_id": "ac181a6ee9074484a06fcecb4e3a7281",
       "version_major": 2,
       "version_minor": 0
      },
      "text/plain": [
       "Map:   0%|          | 0/800 [00:00<?, ? examples/s]"
      ]
     },
     "metadata": {},
     "output_type": "display_data"
    },
    {
     "name": "stdout",
     "output_type": "stream",
     "text": [
      "distilbert-base-uncased_ds_normal_linear_3_e10_ld01_wF\n"
     ]
    },
    {
     "name": "stderr",
     "output_type": "stream",
     "text": [
      "/Users/tina.vu/work/fun/sentilens_env_wipp/lib/python3.9/site-packages/transformers/optimization.py:391: FutureWarning: This implementation of AdamW is deprecated and will be removed in a future version. Use the PyTorch implementation torch.optim.AdamW instead, or set `no_deprecation_warning=True` to disable this warning\n",
      "  warnings.warn(\n"
     ]
    },
    {
     "data": {
      "application/vnd.jupyter.widget-view+json": {
       "model_id": "1907837ac97442fa9c18326ed1924254",
       "version_major": 2,
       "version_minor": 0
      },
      "text/plain": [
       "  0%|          | 0/610 [00:00<?, ?it/s]"
      ]
     },
     "metadata": {},
     "output_type": "display_data"
    },
    {
     "name": "stdout",
     "output_type": "stream",
     "text": [
      "{'loss': 0.3209, 'learning_rate': 4.508196721311476e-05, 'epoch': 0.98}\n"
     ]
    },
    {
     "data": {
      "application/vnd.jupyter.widget-view+json": {
       "model_id": "7f3a89e102e8425d9905785ae0993a35",
       "version_major": 2,
       "version_minor": 0
      },
      "text/plain": [
       "  0%|          | 0/27 [00:00<?, ?it/s]"
      ]
     },
     "metadata": {},
     "output_type": "display_data"
    },
    {
     "name": "stdout",
     "output_type": "stream",
     "text": [
      "{'eval_loss': 0.1946050077676773, 'eval_f1': 0.22571598000202245, 'eval_runtime': 15.1177, 'eval_samples_per_second': 60.261, 'eval_steps_per_second': 1.786, 'epoch': 1.0}\n",
      "{'loss': 0.1282, 'learning_rate': 4.016393442622951e-05, 'epoch': 1.97}\n"
     ]
    },
    {
     "data": {
      "application/vnd.jupyter.widget-view+json": {
       "model_id": "e3cf0bf10e6347d2bb0dafd54ff0b9d2",
       "version_major": 2,
       "version_minor": 0
      },
      "text/plain": [
       "  0%|          | 0/27 [00:00<?, ?it/s]"
      ]
     },
     "metadata": {},
     "output_type": "display_data"
    },
    {
     "name": "stdout",
     "output_type": "stream",
     "text": [
      "{'eval_loss': 0.15511974692344666, 'eval_f1': 0.39245406077704215, 'eval_runtime': 15.1863, 'eval_samples_per_second': 59.988, 'eval_steps_per_second': 1.778, 'epoch': 2.0}\n",
      "{'loss': 0.0751, 'learning_rate': 3.524590163934427e-05, 'epoch': 2.95}\n"
     ]
    },
    {
     "data": {
      "application/vnd.jupyter.widget-view+json": {
       "model_id": "1356d35c7b8b42a3970a5e9f6643ce7b",
       "version_major": 2,
       "version_minor": 0
      },
      "text/plain": [
       "  0%|          | 0/27 [00:00<?, ?it/s]"
      ]
     },
     "metadata": {},
     "output_type": "display_data"
    },
    {
     "name": "stdout",
     "output_type": "stream",
     "text": [
      "{'eval_loss': 0.15562933683395386, 'eval_f1': 0.4677002609526226, 'eval_runtime': 15.0199, 'eval_samples_per_second': 60.653, 'eval_steps_per_second': 1.798, 'epoch': 3.0}\n",
      "{'loss': 0.0428, 'learning_rate': 3.0327868852459017e-05, 'epoch': 3.93}\n"
     ]
    },
    {
     "data": {
      "application/vnd.jupyter.widget-view+json": {
       "model_id": "a440b61f15d04e35b2d32c6c713ff536",
       "version_major": 2,
       "version_minor": 0
      },
      "text/plain": [
       "  0%|          | 0/27 [00:00<?, ?it/s]"
      ]
     },
     "metadata": {},
     "output_type": "display_data"
    },
    {
     "name": "stdout",
     "output_type": "stream",
     "text": [
      "{'eval_loss': 0.16630321741104126, 'eval_f1': 0.48289092492574, 'eval_runtime': 15.1801, 'eval_samples_per_second': 60.013, 'eval_steps_per_second': 1.779, 'epoch': 4.0}\n",
      "{'loss': 0.0267, 'learning_rate': 2.540983606557377e-05, 'epoch': 4.92}\n"
     ]
    },
    {
     "data": {
      "application/vnd.jupyter.widget-view+json": {
       "model_id": "4f14fbaf1f1141ce96e20579953ef5a4",
       "version_major": 2,
       "version_minor": 0
      },
      "text/plain": [
       "  0%|          | 0/27 [00:00<?, ?it/s]"
      ]
     },
     "metadata": {},
     "output_type": "display_data"
    },
    {
     "name": "stdout",
     "output_type": "stream",
     "text": [
      "{'eval_loss': 0.17425210773944855, 'eval_f1': 0.4872907230707561, 'eval_runtime': 15.0056, 'eval_samples_per_second': 60.711, 'eval_steps_per_second': 1.799, 'epoch': 5.0}\n",
      "{'loss': 0.0185, 'learning_rate': 2.0491803278688525e-05, 'epoch': 5.9}\n"
     ]
    },
    {
     "data": {
      "application/vnd.jupyter.widget-view+json": {
       "model_id": "858345e37e884e738e2aab486684b5f3",
       "version_major": 2,
       "version_minor": 0
      },
      "text/plain": [
       "  0%|          | 0/27 [00:00<?, ?it/s]"
      ]
     },
     "metadata": {},
     "output_type": "display_data"
    },
    {
     "name": "stdout",
     "output_type": "stream",
     "text": [
      "{'eval_loss': 0.19043166935443878, 'eval_f1': 0.5063686720578217, 'eval_runtime': 14.7431, 'eval_samples_per_second': 61.792, 'eval_steps_per_second': 1.831, 'epoch': 6.0}\n",
      "{'loss': 0.0109, 'learning_rate': 1.557377049180328e-05, 'epoch': 6.89}\n"
     ]
    },
    {
     "data": {
      "application/vnd.jupyter.widget-view+json": {
       "model_id": "182913d4b3454eea82eec4012df08a83",
       "version_major": 2,
       "version_minor": 0
      },
      "text/plain": [
       "  0%|          | 0/27 [00:00<?, ?it/s]"
      ]
     },
     "metadata": {},
     "output_type": "display_data"
    },
    {
     "name": "stdout",
     "output_type": "stream",
     "text": [
      "{'eval_loss': 0.19124126434326172, 'eval_f1': 0.5128099457380314, 'eval_runtime': 14.9504, 'eval_samples_per_second': 60.935, 'eval_steps_per_second': 1.806, 'epoch': 7.0}\n",
      "{'loss': 0.0082, 'learning_rate': 1.0655737704918032e-05, 'epoch': 7.87}\n"
     ]
    },
    {
     "data": {
      "application/vnd.jupyter.widget-view+json": {
       "model_id": "41f8eeb3ced74066991ab8cf361bc477",
       "version_major": 2,
       "version_minor": 0
      },
      "text/plain": [
       "  0%|          | 0/27 [00:00<?, ?it/s]"
      ]
     },
     "metadata": {},
     "output_type": "display_data"
    },
    {
     "name": "stdout",
     "output_type": "stream",
     "text": [
      "{'eval_loss': 0.20506803691387177, 'eval_f1': 0.5151965325809327, 'eval_runtime': 14.5776, 'eval_samples_per_second': 62.493, 'eval_steps_per_second': 1.852, 'epoch': 8.0}\n",
      "{'loss': 0.0065, 'learning_rate': 5.737704918032787e-06, 'epoch': 8.85}\n"
     ]
    },
    {
     "data": {
      "application/vnd.jupyter.widget-view+json": {
       "model_id": "17d123c9730d4265837dd717141ee306",
       "version_major": 2,
       "version_minor": 0
      },
      "text/plain": [
       "  0%|          | 0/27 [00:00<?, ?it/s]"
      ]
     },
     "metadata": {},
     "output_type": "display_data"
    },
    {
     "name": "stdout",
     "output_type": "stream",
     "text": [
      "{'eval_loss': 0.20639446377754211, 'eval_f1': 0.5074174379845725, 'eval_runtime': 14.5729, 'eval_samples_per_second': 62.513, 'eval_steps_per_second': 1.853, 'epoch': 9.0}\n",
      "{'loss': 0.0055, 'learning_rate': 8.19672131147541e-07, 'epoch': 9.84}\n"
     ]
    },
    {
     "data": {
      "application/vnd.jupyter.widget-view+json": {
       "model_id": "6c67001ee42f4910ab50025072fb2e2e",
       "version_major": 2,
       "version_minor": 0
      },
      "text/plain": [
       "  0%|          | 0/27 [00:00<?, ?it/s]"
      ]
     },
     "metadata": {},
     "output_type": "display_data"
    },
    {
     "name": "stdout",
     "output_type": "stream",
     "text": [
      "{'eval_loss': 0.20728695392608643, 'eval_f1': 0.5021439751072198, 'eval_runtime': 14.6183, 'eval_samples_per_second': 62.319, 'eval_steps_per_second': 1.847, 'epoch': 10.0}\n",
      "{'train_runtime': 1181.2679, 'train_samples_per_second': 17.989, 'train_steps_per_second': 0.516, 'train_loss': 0.06335363940137331, 'epoch': 10.0}\n"
     ]
    },
    {
     "data": {
      "application/vnd.jupyter.widget-view+json": {
       "model_id": "0f45bab026bf4825873ef4a77aaccf32",
       "version_major": 2,
       "version_minor": 0
      },
      "text/plain": [
       "Map:   0%|          | 0/911 [00:00<?, ? examples/s]"
      ]
     },
     "metadata": {},
     "output_type": "display_data"
    },
    {
     "data": {
      "application/vnd.jupyter.widget-view+json": {
       "model_id": "75f2680a980e4e0e8f8c8c5bc9beda78",
       "version_major": 2,
       "version_minor": 0
      },
      "text/plain": [
       "Map:   0%|          | 0/2125 [00:00<?, ? examples/s]"
      ]
     },
     "metadata": {},
     "output_type": "display_data"
    },
    {
     "data": {
      "application/vnd.jupyter.widget-view+json": {
       "model_id": "ebf1d1a70dd74c168f736837be2d7735",
       "version_major": 2,
       "version_minor": 0
      },
      "text/plain": [
       "Map:   0%|          | 0/911 [00:00<?, ? examples/s]"
      ]
     },
     "metadata": {},
     "output_type": "display_data"
    },
    {
     "data": {
      "application/vnd.jupyter.widget-view+json": {
       "model_id": "e90aac350b3344e390a081bb077287cb",
       "version_major": 2,
       "version_minor": 0
      },
      "text/plain": [
       "Map:   0%|          | 0/800 [00:00<?, ? examples/s]"
      ]
     },
     "metadata": {},
     "output_type": "display_data"
    },
    {
     "name": "stdout",
     "output_type": "stream",
     "text": [
      "distilbert-base-uncased_ds_normal_linear_3_e10_ld001_wF\n"
     ]
    },
    {
     "name": "stderr",
     "output_type": "stream",
     "text": [
      "/Users/tina.vu/work/fun/sentilens_env_wipp/lib/python3.9/site-packages/transformers/optimization.py:391: FutureWarning: This implementation of AdamW is deprecated and will be removed in a future version. Use the PyTorch implementation torch.optim.AdamW instead, or set `no_deprecation_warning=True` to disable this warning\n",
      "  warnings.warn(\n"
     ]
    },
    {
     "data": {
      "application/vnd.jupyter.widget-view+json": {
       "model_id": "501027c2a64047328cd19fa504a5f29e",
       "version_major": 2,
       "version_minor": 0
      },
      "text/plain": [
       "  0%|          | 0/610 [00:00<?, ?it/s]"
      ]
     },
     "metadata": {},
     "output_type": "display_data"
    },
    {
     "name": "stdout",
     "output_type": "stream",
     "text": [
      "{'loss': 0.3209, 'learning_rate': 4.508196721311476e-05, 'epoch': 0.98}\n"
     ]
    },
    {
     "data": {
      "application/vnd.jupyter.widget-view+json": {
       "model_id": "6ad458a76fa842e2b83df9f8e29d9e51",
       "version_major": 2,
       "version_minor": 0
      },
      "text/plain": [
       "  0%|          | 0/27 [00:00<?, ?it/s]"
      ]
     },
     "metadata": {},
     "output_type": "display_data"
    },
    {
     "name": "stdout",
     "output_type": "stream",
     "text": [
      "{'eval_loss': 0.19460882246494293, 'eval_f1': 0.2256508768463652, 'eval_runtime': 14.5371, 'eval_samples_per_second': 62.667, 'eval_steps_per_second': 1.857, 'epoch': 1.0}\n",
      "{'loss': 0.1282, 'learning_rate': 4.016393442622951e-05, 'epoch': 1.97}\n"
     ]
    },
    {
     "data": {
      "application/vnd.jupyter.widget-view+json": {
       "model_id": "769b5582004d4ab789b2cd6a6eb4fc76",
       "version_major": 2,
       "version_minor": 0
      },
      "text/plain": [
       "  0%|          | 0/27 [00:00<?, ?it/s]"
      ]
     },
     "metadata": {},
     "output_type": "display_data"
    },
    {
     "name": "stdout",
     "output_type": "stream",
     "text": [
      "{'eval_loss': 0.15514208376407623, 'eval_f1': 0.39195892106812485, 'eval_runtime': 14.414, 'eval_samples_per_second': 63.202, 'eval_steps_per_second': 1.873, 'epoch': 2.0}\n",
      "{'loss': 0.0751, 'learning_rate': 3.524590163934427e-05, 'epoch': 2.95}\n"
     ]
    },
    {
     "data": {
      "application/vnd.jupyter.widget-view+json": {
       "model_id": "3c4939d3a8ea4875b8efdc71d14ed345",
       "version_major": 2,
       "version_minor": 0
      },
      "text/plain": [
       "  0%|          | 0/27 [00:00<?, ?it/s]"
      ]
     },
     "metadata": {},
     "output_type": "display_data"
    },
    {
     "name": "stdout",
     "output_type": "stream",
     "text": [
      "{'eval_loss': 0.15567290782928467, 'eval_f1': 0.46997304685167346, 'eval_runtime': 14.4052, 'eval_samples_per_second': 63.241, 'eval_steps_per_second': 1.874, 'epoch': 3.0}\n",
      "{'loss': 0.0428, 'learning_rate': 3.0327868852459017e-05, 'epoch': 3.93}\n"
     ]
    },
    {
     "data": {
      "application/vnd.jupyter.widget-view+json": {
       "model_id": "c6468186d2e443ebb5109c1cfe311c27",
       "version_major": 2,
       "version_minor": 0
      },
      "text/plain": [
       "  0%|          | 0/27 [00:00<?, ?it/s]"
      ]
     },
     "metadata": {},
     "output_type": "display_data"
    },
    {
     "name": "stdout",
     "output_type": "stream",
     "text": [
      "{'eval_loss': 0.16639429330825806, 'eval_f1': 0.4849271974268339, 'eval_runtime': 14.5957, 'eval_samples_per_second': 62.416, 'eval_steps_per_second': 1.85, 'epoch': 4.0}\n",
      "{'loss': 0.0266, 'learning_rate': 2.540983606557377e-05, 'epoch': 4.92}\n"
     ]
    },
    {
     "data": {
      "application/vnd.jupyter.widget-view+json": {
       "model_id": "d621dc8205e14b60a2a6247b3cf8226d",
       "version_major": 2,
       "version_minor": 0
      },
      "text/plain": [
       "  0%|          | 0/27 [00:00<?, ?it/s]"
      ]
     },
     "metadata": {},
     "output_type": "display_data"
    },
    {
     "name": "stdout",
     "output_type": "stream",
     "text": [
      "{'eval_loss': 0.17428702116012573, 'eval_f1': 0.4867099621223738, 'eval_runtime': 14.6942, 'eval_samples_per_second': 61.997, 'eval_steps_per_second': 1.837, 'epoch': 5.0}\n",
      "{'loss': 0.0185, 'learning_rate': 2.0491803278688525e-05, 'epoch': 5.9}\n"
     ]
    },
    {
     "data": {
      "application/vnd.jupyter.widget-view+json": {
       "model_id": "68e6f8aa0c6f4bd6b4fe9c3c5362eb16",
       "version_major": 2,
       "version_minor": 0
      },
      "text/plain": [
       "  0%|          | 0/27 [00:00<?, ?it/s]"
      ]
     },
     "metadata": {},
     "output_type": "display_data"
    },
    {
     "name": "stdout",
     "output_type": "stream",
     "text": [
      "{'eval_loss': 0.19045916199684143, 'eval_f1': 0.504887455486125, 'eval_runtime': 14.5538, 'eval_samples_per_second': 62.595, 'eval_steps_per_second': 1.855, 'epoch': 6.0}\n",
      "{'loss': 0.0109, 'learning_rate': 1.557377049180328e-05, 'epoch': 6.89}\n"
     ]
    },
    {
     "data": {
      "application/vnd.jupyter.widget-view+json": {
       "model_id": "b2692085a0db429ea19daab38a311a63",
       "version_major": 2,
       "version_minor": 0
      },
      "text/plain": [
       "  0%|          | 0/27 [00:00<?, ?it/s]"
      ]
     },
     "metadata": {},
     "output_type": "display_data"
    },
    {
     "name": "stdout",
     "output_type": "stream",
     "text": [
      "{'eval_loss': 0.19123443961143494, 'eval_f1': 0.5124028540618103, 'eval_runtime': 14.5943, 'eval_samples_per_second': 62.422, 'eval_steps_per_second': 1.85, 'epoch': 7.0}\n",
      "{'loss': 0.0082, 'learning_rate': 1.0655737704918032e-05, 'epoch': 7.87}\n"
     ]
    },
    {
     "data": {
      "application/vnd.jupyter.widget-view+json": {
       "model_id": "e89255aec30c43299e7b16dd52ef3468",
       "version_major": 2,
       "version_minor": 0
      },
      "text/plain": [
       "  0%|          | 0/27 [00:00<?, ?it/s]"
      ]
     },
     "metadata": {},
     "output_type": "display_data"
    },
    {
     "name": "stdout",
     "output_type": "stream",
     "text": [
      "{'eval_loss': 0.20516861975193024, 'eval_f1': 0.5122889056138594, 'eval_runtime': 14.4963, 'eval_samples_per_second': 62.844, 'eval_steps_per_second': 1.863, 'epoch': 8.0}\n",
      "{'loss': 0.0065, 'learning_rate': 5.737704918032787e-06, 'epoch': 8.85}\n"
     ]
    },
    {
     "data": {
      "application/vnd.jupyter.widget-view+json": {
       "model_id": "8bec86084aad4cf08b3aecba93b2df5c",
       "version_major": 2,
       "version_minor": 0
      },
      "text/plain": [
       "  0%|          | 0/27 [00:00<?, ?it/s]"
      ]
     },
     "metadata": {},
     "output_type": "display_data"
    },
    {
     "name": "stdout",
     "output_type": "stream",
     "text": [
      "{'eval_loss': 0.2068147510290146, 'eval_f1': 0.5052632804523879, 'eval_runtime': 14.6752, 'eval_samples_per_second': 62.078, 'eval_steps_per_second': 1.84, 'epoch': 9.0}\n",
      "{'loss': 0.0055, 'learning_rate': 8.19672131147541e-07, 'epoch': 9.84}\n"
     ]
    },
    {
     "data": {
      "application/vnd.jupyter.widget-view+json": {
       "model_id": "9fc06c6f9c6c423f84148a265d42b1f2",
       "version_major": 2,
       "version_minor": 0
      },
      "text/plain": [
       "  0%|          | 0/27 [00:00<?, ?it/s]"
      ]
     },
     "metadata": {},
     "output_type": "display_data"
    },
    {
     "name": "stdout",
     "output_type": "stream",
     "text": [
      "{'eval_loss': 0.2075616419315338, 'eval_f1': 0.49878178332066603, 'eval_runtime': 15.0283, 'eval_samples_per_second': 60.619, 'eval_steps_per_second': 1.797, 'epoch': 10.0}\n",
      "{'train_runtime': 1188.8838, 'train_samples_per_second': 17.874, 'train_steps_per_second': 0.513, 'train_loss': 0.06334003956347216, 'epoch': 10.0}\n"
     ]
    },
    {
     "data": {
      "application/vnd.jupyter.widget-view+json": {
       "model_id": "fc02473d2ea447b79d4f33ceee35d11e",
       "version_major": 2,
       "version_minor": 0
      },
      "text/plain": [
       "Map:   0%|          | 0/911 [00:00<?, ? examples/s]"
      ]
     },
     "metadata": {},
     "output_type": "display_data"
    },
    {
     "data": {
      "application/vnd.jupyter.widget-view+json": {
       "model_id": "764643a40ca445b2b77ac93799aa6af2",
       "version_major": 2,
       "version_minor": 0
      },
      "text/plain": [
       "Map:   0%|          | 0/2125 [00:00<?, ? examples/s]"
      ]
     },
     "metadata": {},
     "output_type": "display_data"
    },
    {
     "data": {
      "application/vnd.jupyter.widget-view+json": {
       "model_id": "3fdab7486a95492f815b7f0853e45cc7",
       "version_major": 2,
       "version_minor": 0
      },
      "text/plain": [
       "Map:   0%|          | 0/911 [00:00<?, ? examples/s]"
      ]
     },
     "metadata": {},
     "output_type": "display_data"
    },
    {
     "data": {
      "application/vnd.jupyter.widget-view+json": {
       "model_id": "ca4a6734dcdb4de7a3c94685ea01b873",
       "version_major": 2,
       "version_minor": 0
      },
      "text/plain": [
       "Map:   0%|          | 0/800 [00:00<?, ? examples/s]"
      ]
     },
     "metadata": {},
     "output_type": "display_data"
    },
    {
     "name": "stdout",
     "output_type": "stream",
     "text": [
      "distilbert-base-uncased_ds_normal_linear_3_e20_ld0001_wF\n"
     ]
    },
    {
     "name": "stderr",
     "output_type": "stream",
     "text": [
      "/Users/tina.vu/work/fun/sentilens_env_wipp/lib/python3.9/site-packages/transformers/optimization.py:391: FutureWarning: This implementation of AdamW is deprecated and will be removed in a future version. Use the PyTorch implementation torch.optim.AdamW instead, or set `no_deprecation_warning=True` to disable this warning\n",
      "  warnings.warn(\n"
     ]
    },
    {
     "data": {
      "application/vnd.jupyter.widget-view+json": {
       "model_id": "d3305396511647609b115faf292192f9",
       "version_major": 2,
       "version_minor": 0
      },
      "text/plain": [
       "  0%|          | 0/1220 [00:00<?, ?it/s]"
      ]
     },
     "metadata": {},
     "output_type": "display_data"
    },
    {
     "name": "stdout",
     "output_type": "stream",
     "text": [
      "{'loss': 0.3203, 'learning_rate': 4.754098360655738e-05, 'epoch': 0.98}\n"
     ]
    },
    {
     "data": {
      "application/vnd.jupyter.widget-view+json": {
       "model_id": "06c684b3ea2d4895b23f9dca2a9cce86",
       "version_major": 2,
       "version_minor": 0
      },
      "text/plain": [
       "  0%|          | 0/27 [00:00<?, ?it/s]"
      ]
     },
     "metadata": {},
     "output_type": "display_data"
    },
    {
     "name": "stdout",
     "output_type": "stream",
     "text": [
      "{'eval_loss': 0.1932099312543869, 'eval_f1': 0.229869109341143, 'eval_runtime': 14.7452, 'eval_samples_per_second': 61.783, 'eval_steps_per_second': 1.831, 'epoch': 1.0}\n",
      "{'loss': 0.1267, 'learning_rate': 4.508196721311476e-05, 'epoch': 1.97}\n"
     ]
    },
    {
     "data": {
      "application/vnd.jupyter.widget-view+json": {
       "model_id": "2167167000ae4284b2bd99019d4b38d8",
       "version_major": 2,
       "version_minor": 0
      },
      "text/plain": [
       "  0%|          | 0/27 [00:00<?, ?it/s]"
      ]
     },
     "metadata": {},
     "output_type": "display_data"
    },
    {
     "name": "stdout",
     "output_type": "stream",
     "text": [
      "{'eval_loss': 0.15410146117210388, 'eval_f1': 0.40679723749745406, 'eval_runtime': 14.6295, 'eval_samples_per_second': 62.271, 'eval_steps_per_second': 1.846, 'epoch': 2.0}\n",
      "{'loss': 0.0728, 'learning_rate': 4.262295081967213e-05, 'epoch': 2.95}\n"
     ]
    },
    {
     "data": {
      "application/vnd.jupyter.widget-view+json": {
       "model_id": "737fc2f11c4a498d81a9a99f73d90011",
       "version_major": 2,
       "version_minor": 0
      },
      "text/plain": [
       "  0%|          | 0/27 [00:00<?, ?it/s]"
      ]
     },
     "metadata": {},
     "output_type": "display_data"
    },
    {
     "name": "stdout",
     "output_type": "stream",
     "text": [
      "{'eval_loss': 0.15624181926250458, 'eval_f1': 0.4684078277476717, 'eval_runtime': 14.8236, 'eval_samples_per_second': 61.456, 'eval_steps_per_second': 1.821, 'epoch': 3.0}\n",
      "{'loss': 0.04, 'learning_rate': 4.016393442622951e-05, 'epoch': 3.93}\n"
     ]
    },
    {
     "data": {
      "application/vnd.jupyter.widget-view+json": {
       "model_id": "31abce55d11f4441aaf86426b0610bca",
       "version_major": 2,
       "version_minor": 0
      },
      "text/plain": [
       "  0%|          | 0/27 [00:00<?, ?it/s]"
      ]
     },
     "metadata": {},
     "output_type": "display_data"
    },
    {
     "name": "stdout",
     "output_type": "stream",
     "text": [
      "{'eval_loss': 0.1712285429239273, 'eval_f1': 0.4948471635521199, 'eval_runtime': 14.8045, 'eval_samples_per_second': 61.535, 'eval_steps_per_second': 1.824, 'epoch': 4.0}\n",
      "{'loss': 0.0236, 'learning_rate': 3.7704918032786885e-05, 'epoch': 4.92}\n"
     ]
    },
    {
     "data": {
      "application/vnd.jupyter.widget-view+json": {
       "model_id": "4cf0ed321f2746909d7fcdc53d5c40e8",
       "version_major": 2,
       "version_minor": 0
      },
      "text/plain": [
       "  0%|          | 0/27 [00:00<?, ?it/s]"
      ]
     },
     "metadata": {},
     "output_type": "display_data"
    },
    {
     "name": "stdout",
     "output_type": "stream",
     "text": [
      "{'eval_loss': 0.18028676509857178, 'eval_f1': 0.4878094967094963, 'eval_runtime': 14.7715, 'eval_samples_per_second': 61.673, 'eval_steps_per_second': 1.828, 'epoch': 5.0}\n",
      "{'loss': 0.0165, 'learning_rate': 3.524590163934427e-05, 'epoch': 5.9}\n"
     ]
    },
    {
     "data": {
      "application/vnd.jupyter.widget-view+json": {
       "model_id": "97e08d77b0ca461d99b57ed46c989285",
       "version_major": 2,
       "version_minor": 0
      },
      "text/plain": [
       "  0%|          | 0/27 [00:00<?, ?it/s]"
      ]
     },
     "metadata": {},
     "output_type": "display_data"
    },
    {
     "name": "stdout",
     "output_type": "stream",
     "text": [
      "{'eval_loss': 0.19794082641601562, 'eval_f1': 0.5079519283372463, 'eval_runtime': 14.7375, 'eval_samples_per_second': 61.815, 'eval_steps_per_second': 1.832, 'epoch': 6.0}\n",
      "{'loss': 0.0098, 'learning_rate': 3.2786885245901635e-05, 'epoch': 6.89}\n"
     ]
    },
    {
     "data": {
      "application/vnd.jupyter.widget-view+json": {
       "model_id": "50a26900017e48ceb1bc9fa23e5dedcc",
       "version_major": 2,
       "version_minor": 0
      },
      "text/plain": [
       "  0%|          | 0/27 [00:00<?, ?it/s]"
      ]
     },
     "metadata": {},
     "output_type": "display_data"
    },
    {
     "name": "stdout",
     "output_type": "stream",
     "text": [
      "{'eval_loss': 0.20145638287067413, 'eval_f1': 0.522877340362704, 'eval_runtime': 14.8214, 'eval_samples_per_second': 61.465, 'eval_steps_per_second': 1.822, 'epoch': 7.0}\n",
      "{'loss': 0.0064, 'learning_rate': 3.0327868852459017e-05, 'epoch': 7.87}\n"
     ]
    },
    {
     "data": {
      "application/vnd.jupyter.widget-view+json": {
       "model_id": "8fcc351803384bdfb1cb84d8e3fad6f2",
       "version_major": 2,
       "version_minor": 0
      },
      "text/plain": [
       "  0%|          | 0/27 [00:00<?, ?it/s]"
      ]
     },
     "metadata": {},
     "output_type": "display_data"
    },
    {
     "name": "stdout",
     "output_type": "stream",
     "text": [
      "{'eval_loss': 0.22588595747947693, 'eval_f1': 0.5022727990569315, 'eval_runtime': 14.8051, 'eval_samples_per_second': 61.533, 'eval_steps_per_second': 1.824, 'epoch': 8.0}\n",
      "{'loss': 0.0047, 'learning_rate': 2.7868852459016392e-05, 'epoch': 8.85}\n"
     ]
    },
    {
     "data": {
      "application/vnd.jupyter.widget-view+json": {
       "model_id": "99fe592f3a8b4c36b921d20b278e51ba",
       "version_major": 2,
       "version_minor": 0
      },
      "text/plain": [
       "  0%|          | 0/27 [00:00<?, ?it/s]"
      ]
     },
     "metadata": {},
     "output_type": "display_data"
    },
    {
     "name": "stdout",
     "output_type": "stream",
     "text": [
      "{'eval_loss': 0.2172440141439438, 'eval_f1': 0.5249482619523659, 'eval_runtime': 14.718, 'eval_samples_per_second': 61.897, 'eval_steps_per_second': 1.834, 'epoch': 9.0}\n",
      "{'loss': 0.0031, 'learning_rate': 2.540983606557377e-05, 'epoch': 9.84}\n"
     ]
    },
    {
     "data": {
      "application/vnd.jupyter.widget-view+json": {
       "model_id": "8464edd4e41c4e069493246c06ea3e28",
       "version_major": 2,
       "version_minor": 0
      },
      "text/plain": [
       "  0%|          | 0/27 [00:00<?, ?it/s]"
      ]
     },
     "metadata": {},
     "output_type": "display_data"
    },
    {
     "name": "stdout",
     "output_type": "stream",
     "text": [
      "{'eval_loss': 0.2268398404121399, 'eval_f1': 0.5156093710150721, 'eval_runtime': 14.8, 'eval_samples_per_second': 61.554, 'eval_steps_per_second': 1.824, 'epoch': 10.0}\n",
      "{'loss': 0.0033, 'learning_rate': 2.295081967213115e-05, 'epoch': 10.82}\n"
     ]
    },
    {
     "data": {
      "application/vnd.jupyter.widget-view+json": {
       "model_id": "149db8d173d242e9b41b8a9962ce7bfd",
       "version_major": 2,
       "version_minor": 0
      },
      "text/plain": [
       "  0%|          | 0/27 [00:00<?, ?it/s]"
      ]
     },
     "metadata": {},
     "output_type": "display_data"
    },
    {
     "name": "stdout",
     "output_type": "stream",
     "text": [
      "{'eval_loss': 0.22144214808940887, 'eval_f1': 0.506635497204777, 'eval_runtime': 14.7221, 'eval_samples_per_second': 61.88, 'eval_steps_per_second': 1.834, 'epoch': 11.0}\n",
      "{'loss': 0.0025, 'learning_rate': 2.0491803278688525e-05, 'epoch': 11.8}\n"
     ]
    },
    {
     "data": {
      "application/vnd.jupyter.widget-view+json": {
       "model_id": "5fd35efaf5fc47e993310ab777977ce0",
       "version_major": 2,
       "version_minor": 0
      },
      "text/plain": [
       "  0%|          | 0/27 [00:00<?, ?it/s]"
      ]
     },
     "metadata": {},
     "output_type": "display_data"
    },
    {
     "name": "stdout",
     "output_type": "stream",
     "text": [
      "{'eval_loss': 0.22871501743793488, 'eval_f1': 0.5087359503273952, 'eval_runtime': 14.869, 'eval_samples_per_second': 61.268, 'eval_steps_per_second': 1.816, 'epoch': 12.0}\n",
      "{'loss': 0.0018, 'learning_rate': 1.8032786885245903e-05, 'epoch': 12.79}\n"
     ]
    },
    {
     "data": {
      "application/vnd.jupyter.widget-view+json": {
       "model_id": "c36c6c6b38a54e07906cb50f313ccbb2",
       "version_major": 2,
       "version_minor": 0
      },
      "text/plain": [
       "  0%|          | 0/27 [00:00<?, ?it/s]"
      ]
     },
     "metadata": {},
     "output_type": "display_data"
    },
    {
     "name": "stdout",
     "output_type": "stream",
     "text": [
      "{'eval_loss': 0.2388649582862854, 'eval_f1': 0.5066950487676098, 'eval_runtime': 15.315, 'eval_samples_per_second': 59.484, 'eval_steps_per_second': 1.763, 'epoch': 13.0}\n",
      "{'loss': 0.0014, 'learning_rate': 1.557377049180328e-05, 'epoch': 13.77}\n"
     ]
    },
    {
     "data": {
      "application/vnd.jupyter.widget-view+json": {
       "model_id": "9b9c65121b954bec896022b35a953179",
       "version_major": 2,
       "version_minor": 0
      },
      "text/plain": [
       "  0%|          | 0/27 [00:00<?, ?it/s]"
      ]
     },
     "metadata": {},
     "output_type": "display_data"
    },
    {
     "name": "stdout",
     "output_type": "stream",
     "text": [
      "{'eval_loss': 0.2423437386751175, 'eval_f1': 0.5062109103122917, 'eval_runtime': 14.742, 'eval_samples_per_second': 61.796, 'eval_steps_per_second': 1.832, 'epoch': 14.0}\n",
      "{'loss': 0.0013, 'learning_rate': 1.3114754098360657e-05, 'epoch': 14.75}\n"
     ]
    },
    {
     "data": {
      "application/vnd.jupyter.widget-view+json": {
       "model_id": "7572fe7c8b5d4b91a866c32d541dea90",
       "version_major": 2,
       "version_minor": 0
      },
      "text/plain": [
       "  0%|          | 0/27 [00:00<?, ?it/s]"
      ]
     },
     "metadata": {},
     "output_type": "display_data"
    },
    {
     "name": "stdout",
     "output_type": "stream",
     "text": [
      "{'eval_loss': 0.2438676357269287, 'eval_f1': 0.5075978253771328, 'eval_runtime': 14.8025, 'eval_samples_per_second': 61.544, 'eval_steps_per_second': 1.824, 'epoch': 15.0}\n",
      "{'loss': 0.0012, 'learning_rate': 1.0655737704918032e-05, 'epoch': 15.74}\n"
     ]
    },
    {
     "data": {
      "application/vnd.jupyter.widget-view+json": {
       "model_id": "7cdc57be4b0a43aaa58ad9bf6dcaa78e",
       "version_major": 2,
       "version_minor": 0
      },
      "text/plain": [
       "  0%|          | 0/27 [00:00<?, ?it/s]"
      ]
     },
     "metadata": {},
     "output_type": "display_data"
    },
    {
     "name": "stdout",
     "output_type": "stream",
     "text": [
      "{'eval_loss': 0.24653781950473785, 'eval_f1': 0.5026229861469723, 'eval_runtime': 14.7954, 'eval_samples_per_second': 61.573, 'eval_steps_per_second': 1.825, 'epoch': 16.0}\n",
      "{'loss': 0.0011, 'learning_rate': 8.196721311475409e-06, 'epoch': 16.72}\n"
     ]
    },
    {
     "data": {
      "application/vnd.jupyter.widget-view+json": {
       "model_id": "8088750a8a3a4165a075e868c1dee678",
       "version_major": 2,
       "version_minor": 0
      },
      "text/plain": [
       "  0%|          | 0/27 [00:00<?, ?it/s]"
      ]
     },
     "metadata": {},
     "output_type": "display_data"
    },
    {
     "name": "stdout",
     "output_type": "stream",
     "text": [
      "{'eval_loss': 0.2495047152042389, 'eval_f1': 0.5067365932504645, 'eval_runtime': 14.9544, 'eval_samples_per_second': 60.919, 'eval_steps_per_second': 1.805, 'epoch': 17.0}\n",
      "{'loss': 0.0011, 'learning_rate': 5.737704918032787e-06, 'epoch': 17.7}\n"
     ]
    },
    {
     "data": {
      "application/vnd.jupyter.widget-view+json": {
       "model_id": "83f06df71fe449eeabe198ae0df41ce2",
       "version_major": 2,
       "version_minor": 0
      },
      "text/plain": [
       "  0%|          | 0/27 [00:00<?, ?it/s]"
      ]
     },
     "metadata": {},
     "output_type": "display_data"
    },
    {
     "name": "stdout",
     "output_type": "stream",
     "text": [
      "{'eval_loss': 0.2513341009616852, 'eval_f1': 0.5065752031168328, 'eval_runtime': 15.2196, 'eval_samples_per_second': 59.857, 'eval_steps_per_second': 1.774, 'epoch': 18.0}\n",
      "{'loss': 0.001, 'learning_rate': 3.278688524590164e-06, 'epoch': 18.69}\n"
     ]
    },
    {
     "data": {
      "application/vnd.jupyter.widget-view+json": {
       "model_id": "72cc5e6820cc4b1b81c992dcaf067071",
       "version_major": 2,
       "version_minor": 0
      },
      "text/plain": [
       "  0%|          | 0/27 [00:00<?, ?it/s]"
      ]
     },
     "metadata": {},
     "output_type": "display_data"
    },
    {
     "name": "stdout",
     "output_type": "stream",
     "text": [
      "{'eval_loss': 0.249953031539917, 'eval_f1': 0.5109769096530773, 'eval_runtime': 14.8639, 'eval_samples_per_second': 61.289, 'eval_steps_per_second': 1.816, 'epoch': 19.0}\n",
      "{'loss': 0.0009, 'learning_rate': 8.19672131147541e-07, 'epoch': 19.67}\n"
     ]
    },
    {
     "data": {
      "application/vnd.jupyter.widget-view+json": {
       "model_id": "d22898f9247c4c5589feab4c62056765",
       "version_major": 2,
       "version_minor": 0
      },
      "text/plain": [
       "  0%|          | 0/27 [00:00<?, ?it/s]"
      ]
     },
     "metadata": {},
     "output_type": "display_data"
    },
    {
     "name": "stdout",
     "output_type": "stream",
     "text": [
      "{'eval_loss': 0.24995870888233185, 'eval_f1': 0.5103053536895349, 'eval_runtime': 14.8748, 'eval_samples_per_second': 61.245, 'eval_steps_per_second': 1.815, 'epoch': 20.0}\n",
      "{'train_runtime': 2390.9303, 'train_samples_per_second': 17.776, 'train_steps_per_second': 0.51, 'train_loss': 0.03145407277434209, 'epoch': 20.0}\n"
     ]
    },
    {
     "data": {
      "application/vnd.jupyter.widget-view+json": {
       "model_id": "115f35fbdbf7442598da141b22389f53",
       "version_major": 2,
       "version_minor": 0
      },
      "text/plain": [
       "Map:   0%|          | 0/911 [00:00<?, ? examples/s]"
      ]
     },
     "metadata": {},
     "output_type": "display_data"
    },
    {
     "data": {
      "application/vnd.jupyter.widget-view+json": {
       "model_id": "c5e84d20f34e4365a7ca35d1a28ebc9f",
       "version_major": 2,
       "version_minor": 0
      },
      "text/plain": [
       "Map:   0%|          | 0/1378 [00:00<?, ? examples/s]"
      ]
     },
     "metadata": {},
     "output_type": "display_data"
    },
    {
     "data": {
      "application/vnd.jupyter.widget-view+json": {
       "model_id": "dd60eaf5a624426ebc1e960fd4020d22",
       "version_major": 2,
       "version_minor": 0
      },
      "text/plain": [
       "Map:   0%|          | 0/911 [00:00<?, ? examples/s]"
      ]
     },
     "metadata": {},
     "output_type": "display_data"
    },
    {
     "data": {
      "application/vnd.jupyter.widget-view+json": {
       "model_id": "9a03bb09d3d34cad9702177f53533a4e",
       "version_major": 2,
       "version_minor": 0
      },
      "text/plain": [
       "Map:   0%|          | 0/800 [00:00<?, ? examples/s]"
      ]
     },
     "metadata": {},
     "output_type": "display_data"
    },
    {
     "name": "stdout",
     "output_type": "stream",
     "text": [
      "distilbert-base-uncased_ds_down_sample_additional_linear_6_e10_ld01_wF\n"
     ]
    },
    {
     "name": "stderr",
     "output_type": "stream",
     "text": [
      "/Users/tina.vu/work/fun/sentilens_env_wipp/lib/python3.9/site-packages/transformers/optimization.py:391: FutureWarning: This implementation of AdamW is deprecated and will be removed in a future version. Use the PyTorch implementation torch.optim.AdamW instead, or set `no_deprecation_warning=True` to disable this warning\n",
      "  warnings.warn(\n"
     ]
    },
    {
     "data": {
      "application/vnd.jupyter.widget-view+json": {
       "model_id": "1f910810c1664ad88d62199dc72b8aee",
       "version_major": 2,
       "version_minor": 0
      },
      "text/plain": [
       "  0%|          | 0/400 [00:00<?, ?it/s]"
      ]
     },
     "metadata": {},
     "output_type": "display_data"
    },
    {
     "name": "stdout",
     "output_type": "stream",
     "text": [
      "{'loss': 1.5235, 'learning_rate': 4.5125e-05, 'epoch': 0.97}\n"
     ]
    },
    {
     "data": {
      "application/vnd.jupyter.widget-view+json": {
       "model_id": "a7941428e5184f7ba757c1292237df73",
       "version_major": 2,
       "version_minor": 0
      },
      "text/plain": [
       "  0%|          | 0/27 [00:00<?, ?it/s]"
      ]
     },
     "metadata": {},
     "output_type": "display_data"
    },
    {
     "name": "stdout",
     "output_type": "stream",
     "text": [
      "{'eval_loss': 1.2759716510772705, 'eval_f1': 0.0, 'eval_runtime': 14.8385, 'eval_samples_per_second': 61.395, 'eval_steps_per_second': 1.82, 'epoch': 1.0}\n",
      "{'loss': 1.2579, 'learning_rate': 4.025e-05, 'epoch': 1.95}\n"
     ]
    },
    {
     "data": {
      "application/vnd.jupyter.widget-view+json": {
       "model_id": "8bfd0a136b3741778e18be46daabc338",
       "version_major": 2,
       "version_minor": 0
      },
      "text/plain": [
       "  0%|          | 0/27 [00:00<?, ?it/s]"
      ]
     },
     "metadata": {},
     "output_type": "display_data"
    },
    {
     "name": "stdout",
     "output_type": "stream",
     "text": [
      "{'eval_loss': 1.1098004579544067, 'eval_f1': 0.0, 'eval_runtime': 15.6802, 'eval_samples_per_second': 58.099, 'eval_steps_per_second': 1.722, 'epoch': 2.0}\n",
      "{'loss': 1.1191, 'learning_rate': 3.5375e-05, 'epoch': 2.92}\n"
     ]
    },
    {
     "data": {
      "application/vnd.jupyter.widget-view+json": {
       "model_id": "ee681995872544519fdd3f0c640bc44c",
       "version_major": 2,
       "version_minor": 0
      },
      "text/plain": [
       "  0%|          | 0/27 [00:00<?, ?it/s]"
      ]
     },
     "metadata": {},
     "output_type": "display_data"
    },
    {
     "name": "stdout",
     "output_type": "stream",
     "text": [
      "{'eval_loss': 0.9567229747772217, 'eval_f1': 0.0, 'eval_runtime': 14.8043, 'eval_samples_per_second': 61.536, 'eval_steps_per_second': 1.824, 'epoch': 3.0}\n",
      "{'loss': 0.9944, 'learning_rate': 3.05e-05, 'epoch': 3.9}\n"
     ]
    },
    {
     "data": {
      "application/vnd.jupyter.widget-view+json": {
       "model_id": "7578c9a51933477a95483ac7d509c830",
       "version_major": 2,
       "version_minor": 0
      },
      "text/plain": [
       "  0%|          | 0/27 [00:00<?, ?it/s]"
      ]
     },
     "metadata": {},
     "output_type": "display_data"
    },
    {
     "name": "stdout",
     "output_type": "stream",
     "text": [
      "{'eval_loss': 0.824664294719696, 'eval_f1': 0.0, 'eval_runtime': 15.204, 'eval_samples_per_second': 59.918, 'eval_steps_per_second': 1.776, 'epoch': 4.0}\n",
      "{'loss': 0.8895, 'learning_rate': 2.5625e-05, 'epoch': 4.88}\n"
     ]
    },
    {
     "data": {
      "application/vnd.jupyter.widget-view+json": {
       "model_id": "2dbf60084ccf43be8e8725676b870651",
       "version_major": 2,
       "version_minor": 0
      },
      "text/plain": [
       "  0%|          | 0/27 [00:00<?, ?it/s]"
      ]
     },
     "metadata": {},
     "output_type": "display_data"
    },
    {
     "name": "stdout",
     "output_type": "stream",
     "text": [
      "{'eval_loss': 0.7202605605125427, 'eval_f1': 0.0, 'eval_runtime': 14.7234, 'eval_samples_per_second': 61.874, 'eval_steps_per_second': 1.834, 'epoch': 5.0}\n",
      "{'loss': 0.8114, 'learning_rate': 2.075e-05, 'epoch': 5.85}\n"
     ]
    },
    {
     "data": {
      "application/vnd.jupyter.widget-view+json": {
       "model_id": "7f07dd1a676c4b50853d56ce3f47dab2",
       "version_major": 2,
       "version_minor": 0
      },
      "text/plain": [
       "  0%|          | 0/27 [00:00<?, ?it/s]"
      ]
     },
     "metadata": {},
     "output_type": "display_data"
    },
    {
     "name": "stdout",
     "output_type": "stream",
     "text": [
      "{'eval_loss': 0.6435599327087402, 'eval_f1': 0.0, 'eval_runtime': 14.9562, 'eval_samples_per_second': 60.911, 'eval_steps_per_second': 1.805, 'epoch': 6.0}\n",
      "{'loss': 0.7558, 'learning_rate': 1.5875e-05, 'epoch': 6.83}\n"
     ]
    },
    {
     "data": {
      "application/vnd.jupyter.widget-view+json": {
       "model_id": "61d4963d4a6241c3ab381839dd99c016",
       "version_major": 2,
       "version_minor": 0
      },
      "text/plain": [
       "  0%|          | 0/27 [00:00<?, ?it/s]"
      ]
     },
     "metadata": {},
     "output_type": "display_data"
    },
    {
     "name": "stdout",
     "output_type": "stream",
     "text": [
      "{'eval_loss': 0.5910199880599976, 'eval_f1': 0.0, 'eval_runtime': 15.9719, 'eval_samples_per_second': 57.038, 'eval_steps_per_second': 1.69, 'epoch': 7.0}\n",
      "{'loss': 0.7216, 'learning_rate': 1.1000000000000001e-05, 'epoch': 7.8}\n"
     ]
    },
    {
     "data": {
      "application/vnd.jupyter.widget-view+json": {
       "model_id": "d122b3eb4ae64fb68ea33fd6b833a7a1",
       "version_major": 2,
       "version_minor": 0
      },
      "text/plain": [
       "  0%|          | 0/27 [00:00<?, ?it/s]"
      ]
     },
     "metadata": {},
     "output_type": "display_data"
    },
    {
     "name": "stdout",
     "output_type": "stream",
     "text": [
      "{'eval_loss': 0.5574891567230225, 'eval_f1': 0.0, 'eval_runtime': 14.9351, 'eval_samples_per_second': 60.997, 'eval_steps_per_second': 1.808, 'epoch': 8.0}\n",
      "{'loss': 0.6847, 'learning_rate': 6.125e-06, 'epoch': 8.78}\n"
     ]
    },
    {
     "data": {
      "application/vnd.jupyter.widget-view+json": {
       "model_id": "da44a630fe074017b6bb357be271b73f",
       "version_major": 2,
       "version_minor": 0
      },
      "text/plain": [
       "  0%|          | 0/27 [00:00<?, ?it/s]"
      ]
     },
     "metadata": {},
     "output_type": "display_data"
    },
    {
     "name": "stdout",
     "output_type": "stream",
     "text": [
      "{'eval_loss': 0.5394842028617859, 'eval_f1': 0.0, 'eval_runtime': 15.0645, 'eval_samples_per_second': 60.473, 'eval_steps_per_second': 1.792, 'epoch': 9.0}\n",
      "{'loss': 0.6836, 'learning_rate': 1.25e-06, 'epoch': 9.75}\n"
     ]
    },
    {
     "data": {
      "application/vnd.jupyter.widget-view+json": {
       "model_id": "ad21cdd5a8ef46409e18853db3572f62",
       "version_major": 2,
       "version_minor": 0
      },
      "text/plain": [
       "  0%|          | 0/27 [00:00<?, ?it/s]"
      ]
     },
     "metadata": {},
     "output_type": "display_data"
    },
    {
     "name": "stdout",
     "output_type": "stream",
     "text": [
      "{'eval_loss': 0.5331201553344727, 'eval_f1': 0.0, 'eval_runtime': 14.9293, 'eval_samples_per_second': 61.021, 'eval_steps_per_second': 1.809, 'epoch': 10.0}\n",
      "{'train_runtime': 866.9542, 'train_samples_per_second': 15.895, 'train_steps_per_second': 0.461, 'train_loss': 0.9373731112480164, 'epoch': 10.0}\n"
     ]
    },
    {
     "data": {
      "application/vnd.jupyter.widget-view+json": {
       "model_id": "c9c2e14627124ccc9433693fa834d0b6",
       "version_major": 2,
       "version_minor": 0
      },
      "text/plain": [
       "Map:   0%|          | 0/911 [00:00<?, ? examples/s]"
      ]
     },
     "metadata": {},
     "output_type": "display_data"
    },
    {
     "data": {
      "application/vnd.jupyter.widget-view+json": {
       "model_id": "2be4d9347c2b40eda3000ee1328534a4",
       "version_major": 2,
       "version_minor": 0
      },
      "text/plain": [
       "Map:   0%|          | 0/1378 [00:00<?, ? examples/s]"
      ]
     },
     "metadata": {},
     "output_type": "display_data"
    },
    {
     "data": {
      "application/vnd.jupyter.widget-view+json": {
       "model_id": "9d090ebc945c4bfe877f4e93267b79c2",
       "version_major": 2,
       "version_minor": 0
      },
      "text/plain": [
       "Map:   0%|          | 0/911 [00:00<?, ? examples/s]"
      ]
     },
     "metadata": {},
     "output_type": "display_data"
    },
    {
     "data": {
      "application/vnd.jupyter.widget-view+json": {
       "model_id": "bcde663be8944394a4d7f5db576fb31f",
       "version_major": 2,
       "version_minor": 0
      },
      "text/plain": [
       "Map:   0%|          | 0/800 [00:00<?, ? examples/s]"
      ]
     },
     "metadata": {},
     "output_type": "display_data"
    },
    {
     "name": "stdout",
     "output_type": "stream",
     "text": [
      "distilbert-base-uncased_ds_down_sample_additional_linear_6_e10_ld001_wF\n"
     ]
    },
    {
     "name": "stderr",
     "output_type": "stream",
     "text": [
      "/Users/tina.vu/work/fun/sentilens_env_wipp/lib/python3.9/site-packages/transformers/optimization.py:391: FutureWarning: This implementation of AdamW is deprecated and will be removed in a future version. Use the PyTorch implementation torch.optim.AdamW instead, or set `no_deprecation_warning=True` to disable this warning\n",
      "  warnings.warn(\n"
     ]
    },
    {
     "data": {
      "application/vnd.jupyter.widget-view+json": {
       "model_id": "b5eb53ffe04348fda24e71dbbdf590ae",
       "version_major": 2,
       "version_minor": 0
      },
      "text/plain": [
       "  0%|          | 0/400 [00:00<?, ?it/s]"
      ]
     },
     "metadata": {},
     "output_type": "display_data"
    },
    {
     "name": "stdout",
     "output_type": "stream",
     "text": [
      "{'loss': 1.5234, 'learning_rate': 4.5125e-05, 'epoch': 0.97}\n"
     ]
    },
    {
     "data": {
      "application/vnd.jupyter.widget-view+json": {
       "model_id": "063c83f50f4c4f78bdc40ca414e4a979",
       "version_major": 2,
       "version_minor": 0
      },
      "text/plain": [
       "  0%|          | 0/27 [00:00<?, ?it/s]"
      ]
     },
     "metadata": {},
     "output_type": "display_data"
    },
    {
     "name": "stdout",
     "output_type": "stream",
     "text": [
      "{'eval_loss': 1.2757861614227295, 'eval_f1': 0.0, 'eval_runtime': 14.7625, 'eval_samples_per_second': 61.711, 'eval_steps_per_second': 1.829, 'epoch': 1.0}\n",
      "{'loss': 1.2577, 'learning_rate': 4.025e-05, 'epoch': 1.95}\n"
     ]
    },
    {
     "data": {
      "application/vnd.jupyter.widget-view+json": {
       "model_id": "c978be92d0fe422d8d65e0e5ed7aa311",
       "version_major": 2,
       "version_minor": 0
      },
      "text/plain": [
       "  0%|          | 0/27 [00:00<?, ?it/s]"
      ]
     },
     "metadata": {},
     "output_type": "display_data"
    },
    {
     "name": "stdout",
     "output_type": "stream",
     "text": [
      "{'eval_loss': 1.1094162464141846, 'eval_f1': 0.0, 'eval_runtime': 16.4919, 'eval_samples_per_second': 55.239, 'eval_steps_per_second': 1.637, 'epoch': 2.0}\n",
      "{'loss': 1.1188, 'learning_rate': 3.5375e-05, 'epoch': 2.92}\n"
     ]
    },
    {
     "data": {
      "application/vnd.jupyter.widget-view+json": {
       "model_id": "28560dce33284ce49533aaadaa39825f",
       "version_major": 2,
       "version_minor": 0
      },
      "text/plain": [
       "  0%|          | 0/27 [00:00<?, ?it/s]"
      ]
     },
     "metadata": {},
     "output_type": "display_data"
    },
    {
     "name": "stdout",
     "output_type": "stream",
     "text": [
      "{'eval_loss': 0.9561669826507568, 'eval_f1': 0.0, 'eval_runtime': 14.8961, 'eval_samples_per_second': 61.157, 'eval_steps_per_second': 1.813, 'epoch': 3.0}\n",
      "{'loss': 0.9939, 'learning_rate': 3.05e-05, 'epoch': 3.9}\n"
     ]
    },
    {
     "data": {
      "application/vnd.jupyter.widget-view+json": {
       "model_id": "0623a614e6674c9285538ccf83ddf663",
       "version_major": 2,
       "version_minor": 0
      },
      "text/plain": [
       "  0%|          | 0/27 [00:00<?, ?it/s]"
      ]
     },
     "metadata": {},
     "output_type": "display_data"
    },
    {
     "name": "stdout",
     "output_type": "stream",
     "text": [
      "{'eval_loss': 0.8239898681640625, 'eval_f1': 0.0, 'eval_runtime': 15.2857, 'eval_samples_per_second': 59.598, 'eval_steps_per_second': 1.766, 'epoch': 4.0}\n",
      "{'loss': 0.8889, 'learning_rate': 2.5625e-05, 'epoch': 4.88}\n"
     ]
    },
    {
     "data": {
      "application/vnd.jupyter.widget-view+json": {
       "model_id": "910ea68cd5424094b36e5746d5bbfdfa",
       "version_major": 2,
       "version_minor": 0
      },
      "text/plain": [
       "  0%|          | 0/27 [00:00<?, ?it/s]"
      ]
     },
     "metadata": {},
     "output_type": "display_data"
    },
    {
     "name": "stdout",
     "output_type": "stream",
     "text": [
      "{'eval_loss': 0.7195295095443726, 'eval_f1': 0.0, 'eval_runtime': 14.9051, 'eval_samples_per_second': 61.12, 'eval_steps_per_second': 1.811, 'epoch': 5.0}\n",
      "{'loss': 0.8109, 'learning_rate': 2.075e-05, 'epoch': 5.85}\n"
     ]
    },
    {
     "data": {
      "application/vnd.jupyter.widget-view+json": {
       "model_id": "0eefa32c498a4ef4920b8214f14b66a4",
       "version_major": 2,
       "version_minor": 0
      },
      "text/plain": [
       "  0%|          | 0/27 [00:00<?, ?it/s]"
      ]
     },
     "metadata": {},
     "output_type": "display_data"
    },
    {
     "name": "stdout",
     "output_type": "stream",
     "text": [
      "{'eval_loss': 0.6428227424621582, 'eval_f1': 0.0, 'eval_runtime': 14.919, 'eval_samples_per_second': 61.063, 'eval_steps_per_second': 1.81, 'epoch': 6.0}\n",
      "{'loss': 0.7552, 'learning_rate': 1.5875e-05, 'epoch': 6.83}\n"
     ]
    },
    {
     "data": {
      "application/vnd.jupyter.widget-view+json": {
       "model_id": "cced5c2666944de980dfdf7297d4f047",
       "version_major": 2,
       "version_minor": 0
      },
      "text/plain": [
       "  0%|          | 0/27 [00:00<?, ?it/s]"
      ]
     },
     "metadata": {},
     "output_type": "display_data"
    },
    {
     "name": "stdout",
     "output_type": "stream",
     "text": [
      "{'eval_loss': 0.5903072953224182, 'eval_f1': 0.0, 'eval_runtime': 14.928, 'eval_samples_per_second': 61.026, 'eval_steps_per_second': 1.809, 'epoch': 7.0}\n",
      "{'loss': 0.7211, 'learning_rate': 1.1000000000000001e-05, 'epoch': 7.8}\n"
     ]
    },
    {
     "data": {
      "application/vnd.jupyter.widget-view+json": {
       "model_id": "2e3aee995d9e4eefbef1a8b3ec2c06c1",
       "version_major": 2,
       "version_minor": 0
      },
      "text/plain": [
       "  0%|          | 0/27 [00:00<?, ?it/s]"
      ]
     },
     "metadata": {},
     "output_type": "display_data"
    },
    {
     "name": "stdout",
     "output_type": "stream",
     "text": [
      "{'eval_loss': 0.5568073391914368, 'eval_f1': 0.0, 'eval_runtime': 15.0407, 'eval_samples_per_second': 60.569, 'eval_steps_per_second': 1.795, 'epoch': 8.0}\n",
      "{'loss': 0.6842, 'learning_rate': 6.125e-06, 'epoch': 8.78}\n"
     ]
    },
    {
     "data": {
      "application/vnd.jupyter.widget-view+json": {
       "model_id": "b30946c993fb42079c579d1807c88398",
       "version_major": 2,
       "version_minor": 0
      },
      "text/plain": [
       "  0%|          | 0/27 [00:00<?, ?it/s]"
      ]
     },
     "metadata": {},
     "output_type": "display_data"
    },
    {
     "name": "stdout",
     "output_type": "stream",
     "text": [
      "{'eval_loss': 0.5388299822807312, 'eval_f1': 0.0, 'eval_runtime': 16.1839, 'eval_samples_per_second': 56.29, 'eval_steps_per_second': 1.668, 'epoch': 9.0}\n",
      "{'loss': 0.6831, 'learning_rate': 1.25e-06, 'epoch': 9.75}\n"
     ]
    },
    {
     "data": {
      "application/vnd.jupyter.widget-view+json": {
       "model_id": "f79436bad1b946aab7bce94ef6f32475",
       "version_major": 2,
       "version_minor": 0
      },
      "text/plain": [
       "  0%|          | 0/27 [00:00<?, ?it/s]"
      ]
     },
     "metadata": {},
     "output_type": "display_data"
    },
    {
     "name": "stdout",
     "output_type": "stream",
     "text": [
      "{'eval_loss': 0.5324733257293701, 'eval_f1': 0.0, 'eval_runtime': 15.0567, 'eval_samples_per_second': 60.505, 'eval_steps_per_second': 1.793, 'epoch': 10.0}\n",
      "{'train_runtime': 866.8704, 'train_samples_per_second': 15.896, 'train_steps_per_second': 0.461, 'train_loss': 0.9369285500049591, 'epoch': 10.0}\n"
     ]
    },
    {
     "data": {
      "application/vnd.jupyter.widget-view+json": {
       "model_id": "6519be4d2a4f48dab5489f392af2102f",
       "version_major": 2,
       "version_minor": 0
      },
      "text/plain": [
       "Map:   0%|          | 0/911 [00:00<?, ? examples/s]"
      ]
     },
     "metadata": {},
     "output_type": "display_data"
    },
    {
     "data": {
      "application/vnd.jupyter.widget-view+json": {
       "model_id": "249efda5907141cbb7b2d1187eeffb7b",
       "version_major": 2,
       "version_minor": 0
      },
      "text/plain": [
       "Map:   0%|          | 0/1378 [00:00<?, ? examples/s]"
      ]
     },
     "metadata": {},
     "output_type": "display_data"
    },
    {
     "data": {
      "application/vnd.jupyter.widget-view+json": {
       "model_id": "9353e284ae9c4b999e8edd0b6f530f4c",
       "version_major": 2,
       "version_minor": 0
      },
      "text/plain": [
       "Map:   0%|          | 0/911 [00:00<?, ? examples/s]"
      ]
     },
     "metadata": {},
     "output_type": "display_data"
    },
    {
     "data": {
      "application/vnd.jupyter.widget-view+json": {
       "model_id": "260b2a8e9232481f8fa136f74968f5a8",
       "version_major": 2,
       "version_minor": 0
      },
      "text/plain": [
       "Map:   0%|          | 0/800 [00:00<?, ? examples/s]"
      ]
     },
     "metadata": {},
     "output_type": "display_data"
    },
    {
     "name": "stdout",
     "output_type": "stream",
     "text": [
      "distilbert-base-uncased_ds_down_sample_additional_linear_6_e20_ld0001_wF\n"
     ]
    },
    {
     "name": "stderr",
     "output_type": "stream",
     "text": [
      "/Users/tina.vu/work/fun/sentilens_env_wipp/lib/python3.9/site-packages/transformers/optimization.py:391: FutureWarning: This implementation of AdamW is deprecated and will be removed in a future version. Use the PyTorch implementation torch.optim.AdamW instead, or set `no_deprecation_warning=True` to disable this warning\n",
      "  warnings.warn(\n"
     ]
    },
    {
     "data": {
      "application/vnd.jupyter.widget-view+json": {
       "model_id": "7c2eb4e347ca4031ac44de6d2312e496",
       "version_major": 2,
       "version_minor": 0
      },
      "text/plain": [
       "  0%|          | 0/800 [00:00<?, ?it/s]"
      ]
     },
     "metadata": {},
     "output_type": "display_data"
    },
    {
     "name": "stdout",
     "output_type": "stream",
     "text": [
      "{'loss': 1.5216, 'learning_rate': 4.7562500000000004e-05, 'epoch': 0.97}\n"
     ]
    },
    {
     "data": {
      "application/vnd.jupyter.widget-view+json": {
       "model_id": "6fc3de83a81e47adb95894179abd8ac4",
       "version_major": 2,
       "version_minor": 0
      },
      "text/plain": [
       "  0%|          | 0/27 [00:00<?, ?it/s]"
      ]
     },
     "metadata": {},
     "output_type": "display_data"
    },
    {
     "name": "stdout",
     "output_type": "stream",
     "text": [
      "{'eval_loss': 1.2713514566421509, 'eval_f1': 0.0, 'eval_runtime': 15.1586, 'eval_samples_per_second': 60.098, 'eval_steps_per_second': 1.781, 'epoch': 1.0}\n",
      "{'loss': 1.2485, 'learning_rate': 4.5125e-05, 'epoch': 1.95}\n"
     ]
    },
    {
     "data": {
      "application/vnd.jupyter.widget-view+json": {
       "model_id": "6734831ef7584b97a11e1b7439fb4886",
       "version_major": 2,
       "version_minor": 0
      },
      "text/plain": [
       "  0%|          | 0/27 [00:00<?, ?it/s]"
      ]
     },
     "metadata": {},
     "output_type": "display_data"
    },
    {
     "name": "stdout",
     "output_type": "stream",
     "text": [
      "{'eval_loss': 1.0900472402572632, 'eval_f1': 0.0, 'eval_runtime': 15.7175, 'eval_samples_per_second': 57.961, 'eval_steps_per_second': 1.718, 'epoch': 2.0}\n",
      "{'loss': 1.0925, 'learning_rate': 4.26875e-05, 'epoch': 2.92}\n"
     ]
    },
    {
     "data": {
      "application/vnd.jupyter.widget-view+json": {
       "model_id": "77da9c2f2f2e4a919a5418a675c01ae4",
       "version_major": 2,
       "version_minor": 0
      },
      "text/plain": [
       "  0%|          | 0/27 [00:00<?, ?it/s]"
      ]
     },
     "metadata": {},
     "output_type": "display_data"
    },
    {
     "name": "stdout",
     "output_type": "stream",
     "text": [
      "{'eval_loss': 0.9114000201225281, 'eval_f1': 0.0, 'eval_runtime': 15.4401, 'eval_samples_per_second': 59.002, 'eval_steps_per_second': 1.749, 'epoch': 3.0}\n",
      "{'loss': 0.9443, 'learning_rate': 4.025e-05, 'epoch': 3.9}\n"
     ]
    },
    {
     "data": {
      "application/vnd.jupyter.widget-view+json": {
       "model_id": "70fd4477f0fe482f85dd63ec7cc5a3ed",
       "version_major": 2,
       "version_minor": 0
      },
      "text/plain": [
       "  0%|          | 0/27 [00:00<?, ?it/s]"
      ]
     },
     "metadata": {},
     "output_type": "display_data"
    },
    {
     "name": "stdout",
     "output_type": "stream",
     "text": [
      "{'eval_loss': 0.748833417892456, 'eval_f1': 0.0, 'eval_runtime': 16.3672, 'eval_samples_per_second': 55.66, 'eval_steps_per_second': 1.65, 'epoch': 4.0}\n",
      "{'loss': 0.8149, 'learning_rate': 3.78125e-05, 'epoch': 4.88}\n"
     ]
    },
    {
     "data": {
      "application/vnd.jupyter.widget-view+json": {
       "model_id": "32e91c858bf647879c5c5c3a270fa6a0",
       "version_major": 2,
       "version_minor": 0
      },
      "text/plain": [
       "  0%|          | 0/27 [00:00<?, ?it/s]"
      ]
     },
     "metadata": {},
     "output_type": "display_data"
    },
    {
     "name": "stdout",
     "output_type": "stream",
     "text": [
      "{'eval_loss': 0.6173351407051086, 'eval_f1': 0.0, 'eval_runtime': 15.0215, 'eval_samples_per_second': 60.646, 'eval_steps_per_second': 1.797, 'epoch': 5.0}\n",
      "{'loss': 0.7169, 'learning_rate': 3.5375e-05, 'epoch': 5.85}\n"
     ]
    },
    {
     "data": {
      "application/vnd.jupyter.widget-view+json": {
       "model_id": "db856b0203624d429bcc47c3314cbc9a",
       "version_major": 2,
       "version_minor": 0
      },
      "text/plain": [
       "  0%|          | 0/27 [00:00<?, ?it/s]"
      ]
     },
     "metadata": {},
     "output_type": "display_data"
    },
    {
     "name": "stdout",
     "output_type": "stream",
     "text": [
      "{'eval_loss': 0.5225992798805237, 'eval_f1': 0.0, 'eval_runtime': 15.7654, 'eval_samples_per_second': 57.785, 'eval_steps_per_second': 1.713, 'epoch': 6.0}\n",
      "{'loss': 0.6484, 'learning_rate': 3.29375e-05, 'epoch': 6.83}\n"
     ]
    },
    {
     "data": {
      "application/vnd.jupyter.widget-view+json": {
       "model_id": "4da86cededc14065bc8618ccc7a6ea90",
       "version_major": 2,
       "version_minor": 0
      },
      "text/plain": [
       "  0%|          | 0/27 [00:00<?, ?it/s]"
      ]
     },
     "metadata": {},
     "output_type": "display_data"
    },
    {
     "name": "stdout",
     "output_type": "stream",
     "text": [
      "{'eval_loss': 0.46344470977783203, 'eval_f1': 0.0, 'eval_runtime': 15.337, 'eval_samples_per_second': 59.399, 'eval_steps_per_second': 1.76, 'epoch': 7.0}\n",
      "{'loss': 0.6112, 'learning_rate': 3.05e-05, 'epoch': 7.8}\n"
     ]
    },
    {
     "data": {
      "application/vnd.jupyter.widget-view+json": {
       "model_id": "32a4a974dc2b4914ace52a41d540454e",
       "version_major": 2,
       "version_minor": 0
      },
      "text/plain": [
       "  0%|          | 0/27 [00:00<?, ?it/s]"
      ]
     },
     "metadata": {},
     "output_type": "display_data"
    },
    {
     "name": "stdout",
     "output_type": "stream",
     "text": [
      "{'eval_loss': 0.43182072043418884, 'eval_f1': 0.0, 'eval_runtime': 15.1619, 'eval_samples_per_second': 60.085, 'eval_steps_per_second': 1.781, 'epoch': 8.0}\n",
      "{'loss': 0.567, 'learning_rate': 2.80625e-05, 'epoch': 8.78}\n"
     ]
    },
    {
     "data": {
      "application/vnd.jupyter.widget-view+json": {
       "model_id": "e20f37614e0a4744a740552ed395acea",
       "version_major": 2,
       "version_minor": 0
      },
      "text/plain": [
       "  0%|          | 0/27 [00:00<?, ?it/s]"
      ]
     },
     "metadata": {},
     "output_type": "display_data"
    },
    {
     "name": "stdout",
     "output_type": "stream",
     "text": [
      "{'eval_loss': 0.4195595383644104, 'eval_f1': 0.0, 'eval_runtime': 15.1687, 'eval_samples_per_second': 60.058, 'eval_steps_per_second': 1.78, 'epoch': 9.0}\n",
      "{'loss': 0.5429, 'learning_rate': 2.5625e-05, 'epoch': 9.75}\n"
     ]
    },
    {
     "data": {
      "application/vnd.jupyter.widget-view+json": {
       "model_id": "3fa6a095ed59421eb267c96dbf45f5cb",
       "version_major": 2,
       "version_minor": 0
      },
      "text/plain": [
       "  0%|          | 0/27 [00:00<?, ?it/s]"
      ]
     },
     "metadata": {},
     "output_type": "display_data"
    },
    {
     "name": "stdout",
     "output_type": "stream",
     "text": [
      "{'eval_loss': 0.3058982491493225, 'eval_f1': 0.0, 'eval_runtime': 15.3545, 'eval_samples_per_second': 59.331, 'eval_steps_per_second': 1.758, 'epoch': 10.0}\n",
      "{'loss': 0.405, 'learning_rate': 2.31875e-05, 'epoch': 10.72}\n"
     ]
    },
    {
     "data": {
      "application/vnd.jupyter.widget-view+json": {
       "model_id": "c44f1d1c691f4cca8dd7b5c109b0cd2f",
       "version_major": 2,
       "version_minor": 0
      },
      "text/plain": [
       "  0%|          | 0/27 [00:00<?, ?it/s]"
      ]
     },
     "metadata": {},
     "output_type": "display_data"
    },
    {
     "name": "stdout",
     "output_type": "stream",
     "text": [
      "{'eval_loss': 0.26332059502601624, 'eval_f1': 0.08258527827648114, 'eval_runtime': 16.2262, 'eval_samples_per_second': 56.144, 'eval_steps_per_second': 1.664, 'epoch': 11.0}\n",
      "{'loss': 0.3561, 'learning_rate': 2.075e-05, 'epoch': 11.7}\n"
     ]
    },
    {
     "data": {
      "application/vnd.jupyter.widget-view+json": {
       "model_id": "e6c4ccb9a7024ddb88c72169cf171396",
       "version_major": 2,
       "version_minor": 0
      },
      "text/plain": [
       "  0%|          | 0/27 [00:00<?, ?it/s]"
      ]
     },
     "metadata": {},
     "output_type": "display_data"
    },
    {
     "name": "stdout",
     "output_type": "stream",
     "text": [
      "{'eval_loss': 0.2476634383201599, 'eval_f1': 0.08278508771929824, 'eval_runtime': 15.116, 'eval_samples_per_second': 60.267, 'eval_steps_per_second': 1.786, 'epoch': 12.0}\n",
      "{'loss': 0.3073, 'learning_rate': 1.83125e-05, 'epoch': 12.68}\n"
     ]
    },
    {
     "data": {
      "application/vnd.jupyter.widget-view+json": {
       "model_id": "899987c343a54530811a9fcd09323fa3",
       "version_major": 2,
       "version_minor": 0
      },
      "text/plain": [
       "  0%|          | 0/27 [00:00<?, ?it/s]"
      ]
     },
     "metadata": {},
     "output_type": "display_data"
    },
    {
     "name": "stdout",
     "output_type": "stream",
     "text": [
      "{'eval_loss': 0.23465193808078766, 'eval_f1': 0.08496732026143793, 'eval_runtime': 15.6151, 'eval_samples_per_second': 58.341, 'eval_steps_per_second': 1.729, 'epoch': 13.0}\n",
      "{'loss': 0.292, 'learning_rate': 1.5875e-05, 'epoch': 13.65}\n"
     ]
    },
    {
     "data": {
      "application/vnd.jupyter.widget-view+json": {
       "model_id": "0705acbb02134a278cb76b12be21b6ec",
       "version_major": 2,
       "version_minor": 0
      },
      "text/plain": [
       "  0%|          | 0/27 [00:00<?, ?it/s]"
      ]
     },
     "metadata": {},
     "output_type": "display_data"
    },
    {
     "name": "stdout",
     "output_type": "stream",
     "text": [
      "{'eval_loss': 0.235091432929039, 'eval_f1': 0.08352088022005501, 'eval_runtime': 15.2464, 'eval_samples_per_second': 59.752, 'eval_steps_per_second': 1.771, 'epoch': 14.0}\n",
      "{'loss': 0.2687, 'learning_rate': 1.34375e-05, 'epoch': 14.62}\n"
     ]
    },
    {
     "data": {
      "application/vnd.jupyter.widget-view+json": {
       "model_id": "c2bf3fb8d97b467e901438cec8d1c042",
       "version_major": 2,
       "version_minor": 0
      },
      "text/plain": [
       "  0%|          | 0/27 [00:00<?, ?it/s]"
      ]
     },
     "metadata": {},
     "output_type": "display_data"
    },
    {
     "name": "stdout",
     "output_type": "stream",
     "text": [
      "{'eval_loss': 0.23265288770198822, 'eval_f1': 0.0796903460837887, 'eval_runtime': 16.8074, 'eval_samples_per_second': 54.202, 'eval_steps_per_second': 1.606, 'epoch': 15.0}\n",
      "{'loss': 0.2533, 'learning_rate': 1.1000000000000001e-05, 'epoch': 15.6}\n"
     ]
    },
    {
     "data": {
      "application/vnd.jupyter.widget-view+json": {
       "model_id": "93e546a3e91b4a0f9b3741d07d6d087f",
       "version_major": 2,
       "version_minor": 0
      },
      "text/plain": [
       "  0%|          | 0/27 [00:00<?, ?it/s]"
      ]
     },
     "metadata": {},
     "output_type": "display_data"
    },
    {
     "name": "stdout",
     "output_type": "stream",
     "text": [
      "{'eval_loss': 0.24378187954425812, 'eval_f1': 0.07595459236326109, 'eval_runtime': 15.2197, 'eval_samples_per_second': 59.856, 'eval_steps_per_second': 1.774, 'epoch': 16.0}\n",
      "{'loss': 0.2409, 'learning_rate': 8.562500000000001e-06, 'epoch': 16.57}\n"
     ]
    },
    {
     "data": {
      "application/vnd.jupyter.widget-view+json": {
       "model_id": "3f2528b2d1dc47b5bf94c7797de4a273",
       "version_major": 2,
       "version_minor": 0
      },
      "text/plain": [
       "  0%|          | 0/27 [00:00<?, ?it/s]"
      ]
     },
     "metadata": {},
     "output_type": "display_data"
    },
    {
     "name": "stdout",
     "output_type": "stream",
     "text": [
      "{'eval_loss': 0.2346777617931366, 'eval_f1': 0.09795281224084945, 'eval_runtime': 15.8477, 'eval_samples_per_second': 57.485, 'eval_steps_per_second': 1.704, 'epoch': 17.0}\n",
      "{'loss': 0.2327, 'learning_rate': 6.125e-06, 'epoch': 17.55}\n"
     ]
    },
    {
     "data": {
      "application/vnd.jupyter.widget-view+json": {
       "model_id": "81c356261c5b4ccaaaa59d833fdd5dfa",
       "version_major": 2,
       "version_minor": 0
      },
      "text/plain": [
       "  0%|          | 0/27 [00:00<?, ?it/s]"
      ]
     },
     "metadata": {},
     "output_type": "display_data"
    },
    {
     "name": "stdout",
     "output_type": "stream",
     "text": [
      "{'eval_loss': 0.23535709083080292, 'eval_f1': 0.09874151065505384, 'eval_runtime': 15.7149, 'eval_samples_per_second': 57.97, 'eval_steps_per_second': 1.718, 'epoch': 18.0}\n",
      "{'loss': 0.2349, 'learning_rate': 3.6875e-06, 'epoch': 18.52}\n"
     ]
    },
    {
     "data": {
      "application/vnd.jupyter.widget-view+json": {
       "model_id": "b76974c03f9f47ba9e0175b0957d8455",
       "version_major": 2,
       "version_minor": 0
      },
      "text/plain": [
       "  0%|          | 0/27 [00:00<?, ?it/s]"
      ]
     },
     "metadata": {},
     "output_type": "display_data"
    },
    {
     "name": "stdout",
     "output_type": "stream",
     "text": [
      "{'eval_loss': 0.23595638573169708, 'eval_f1': 0.10676417017954086, 'eval_runtime': 15.3057, 'eval_samples_per_second': 59.52, 'eval_steps_per_second': 1.764, 'epoch': 19.0}\n",
      "{'loss': 0.223, 'learning_rate': 1.25e-06, 'epoch': 19.5}\n"
     ]
    },
    {
     "data": {
      "application/vnd.jupyter.widget-view+json": {
       "model_id": "7e9d493b52e047958806780c074df129",
       "version_major": 2,
       "version_minor": 0
      },
      "text/plain": [
       "  0%|          | 0/27 [00:00<?, ?it/s]"
      ]
     },
     "metadata": {},
     "output_type": "display_data"
    },
    {
     "name": "stdout",
     "output_type": "stream",
     "text": [
      "{'eval_loss': 0.235331729054451, 'eval_f1': 0.11585317619728458, 'eval_runtime': 15.4388, 'eval_samples_per_second': 59.007, 'eval_steps_per_second': 1.749, 'epoch': 20.0}\n",
      "{'train_runtime': 1744.0073, 'train_samples_per_second': 15.803, 'train_steps_per_second': 0.459, 'train_loss': 0.5674139708280563, 'epoch': 20.0}\n"
     ]
    },
    {
     "data": {
      "application/vnd.jupyter.widget-view+json": {
       "model_id": "c047487ed07a411292c10eaee2b7c3a6",
       "version_major": 2,
       "version_minor": 0
      },
      "text/plain": [
       "Map:   0%|          | 0/911 [00:00<?, ? examples/s]"
      ]
     },
     "metadata": {},
     "output_type": "display_data"
    },
    {
     "data": {
      "application/vnd.jupyter.widget-view+json": {
       "model_id": "a6aa4839789b4d63ab9a7676f3997e3e",
       "version_major": 2,
       "version_minor": 0
      },
      "text/plain": [
       "Map:   0%|          | 0/2125 [00:00<?, ? examples/s]"
      ]
     },
     "metadata": {},
     "output_type": "display_data"
    },
    {
     "data": {
      "application/vnd.jupyter.widget-view+json": {
       "model_id": "6e05ccbacb6b47c7800714407b9de1bb",
       "version_major": 2,
       "version_minor": 0
      },
      "text/plain": [
       "Map:   0%|          | 0/911 [00:00<?, ? examples/s]"
      ]
     },
     "metadata": {},
     "output_type": "display_data"
    },
    {
     "data": {
      "application/vnd.jupyter.widget-view+json": {
       "model_id": "cf2d89bcbb7846d9988c1be5df22e8a4",
       "version_major": 2,
       "version_minor": 0
      },
      "text/plain": [
       "Map:   0%|          | 0/800 [00:00<?, ? examples/s]"
      ]
     },
     "metadata": {},
     "output_type": "display_data"
    },
    {
     "name": "stdout",
     "output_type": "stream",
     "text": [
      "distilbert-base-uncased_ds_normal_additional_linear_9_e10_ld01_wF\n"
     ]
    },
    {
     "name": "stderr",
     "output_type": "stream",
     "text": [
      "/Users/tina.vu/work/fun/sentilens_env_wipp/lib/python3.9/site-packages/transformers/optimization.py:391: FutureWarning: This implementation of AdamW is deprecated and will be removed in a future version. Use the PyTorch implementation torch.optim.AdamW instead, or set `no_deprecation_warning=True` to disable this warning\n",
      "  warnings.warn(\n"
     ]
    },
    {
     "data": {
      "application/vnd.jupyter.widget-view+json": {
       "model_id": "c67b4630038342f7b6f1d619e6459990",
       "version_major": 2,
       "version_minor": 0
      },
      "text/plain": [
       "  0%|          | 0/610 [00:00<?, ?it/s]"
      ]
     },
     "metadata": {},
     "output_type": "display_data"
    },
    {
     "name": "stdout",
     "output_type": "stream",
     "text": [
      "{'loss': 1.4209, 'learning_rate': 4.508196721311476e-05, 'epoch': 0.98}\n"
     ]
    },
    {
     "data": {
      "application/vnd.jupyter.widget-view+json": {
       "model_id": "dc52dcf8d1d04a2b89e989289bc32c8b",
       "version_major": 2,
       "version_minor": 0
      },
      "text/plain": [
       "  0%|          | 0/27 [00:00<?, ?it/s]"
      ]
     },
     "metadata": {},
     "output_type": "display_data"
    },
    {
     "name": "stdout",
     "output_type": "stream",
     "text": [
      "{'eval_loss': 1.1786997318267822, 'eval_f1': 0.0, 'eval_runtime': 16.3276, 'eval_samples_per_second': 55.795, 'eval_steps_per_second': 1.654, 'epoch': 1.0}\n",
      "{'loss': 1.0932, 'learning_rate': 4.016393442622951e-05, 'epoch': 1.97}\n"
     ]
    },
    {
     "data": {
      "application/vnd.jupyter.widget-view+json": {
       "model_id": "1186c4f98a464b23bc66e6391e2d8814",
       "version_major": 2,
       "version_minor": 0
      },
      "text/plain": [
       "  0%|          | 0/27 [00:00<?, ?it/s]"
      ]
     },
     "metadata": {},
     "output_type": "display_data"
    },
    {
     "name": "stdout",
     "output_type": "stream",
     "text": [
      "{'eval_loss': 0.9158585667610168, 'eval_f1': 0.0, 'eval_runtime': 16.3409, 'eval_samples_per_second': 55.75, 'eval_steps_per_second': 1.652, 'epoch': 2.0}\n",
      "{'loss': 0.8644, 'learning_rate': 3.524590163934427e-05, 'epoch': 2.95}\n"
     ]
    },
    {
     "data": {
      "application/vnd.jupyter.widget-view+json": {
       "model_id": "1ed2cac5ff98467288bb3bdce985d1a6",
       "version_major": 2,
       "version_minor": 0
      },
      "text/plain": [
       "  0%|          | 0/27 [00:00<?, ?it/s]"
      ]
     },
     "metadata": {},
     "output_type": "display_data"
    },
    {
     "name": "stdout",
     "output_type": "stream",
     "text": [
      "{'eval_loss': 0.6953145265579224, 'eval_f1': 0.0, 'eval_runtime': 16.5115, 'eval_samples_per_second': 55.174, 'eval_steps_per_second': 1.635, 'epoch': 3.0}\n",
      "{'loss': 0.6856, 'learning_rate': 3.0327868852459017e-05, 'epoch': 3.93}\n"
     ]
    },
    {
     "data": {
      "application/vnd.jupyter.widget-view+json": {
       "model_id": "c96b602fb1f443fe800b112989e82371",
       "version_major": 2,
       "version_minor": 0
      },
      "text/plain": [
       "  0%|          | 0/27 [00:00<?, ?it/s]"
      ]
     },
     "metadata": {},
     "output_type": "display_data"
    },
    {
     "name": "stdout",
     "output_type": "stream",
     "text": [
      "{'eval_loss': 0.5462683439254761, 'eval_f1': 0.0, 'eval_runtime': 16.5888, 'eval_samples_per_second': 54.917, 'eval_steps_per_second': 1.628, 'epoch': 4.0}\n",
      "{'loss': 0.5715, 'learning_rate': 2.540983606557377e-05, 'epoch': 4.92}\n"
     ]
    },
    {
     "data": {
      "application/vnd.jupyter.widget-view+json": {
       "model_id": "ec2d488d86c24725bca7b8256d25208e",
       "version_major": 2,
       "version_minor": 0
      },
      "text/plain": [
       "  0%|          | 0/27 [00:00<?, ?it/s]"
      ]
     },
     "metadata": {},
     "output_type": "display_data"
    },
    {
     "name": "stdout",
     "output_type": "stream",
     "text": [
      "{'eval_loss': 0.46493402123451233, 'eval_f1': 0.0, 'eval_runtime': 16.9487, 'eval_samples_per_second': 53.75, 'eval_steps_per_second': 1.593, 'epoch': 5.0}\n",
      "{'loss': 0.5127, 'learning_rate': 2.0491803278688525e-05, 'epoch': 5.9}\n"
     ]
    },
    {
     "data": {
      "application/vnd.jupyter.widget-view+json": {
       "model_id": "5127583dbe254e8d9d451add168a4c7b",
       "version_major": 2,
       "version_minor": 0
      },
      "text/plain": [
       "  0%|          | 0/27 [00:00<?, ?it/s]"
      ]
     },
     "metadata": {},
     "output_type": "display_data"
    },
    {
     "name": "stdout",
     "output_type": "stream",
     "text": [
      "{'eval_loss': 0.4298838675022125, 'eval_f1': 0.0, 'eval_runtime': 16.9484, 'eval_samples_per_second': 53.751, 'eval_steps_per_second': 1.593, 'epoch': 6.0}\n",
      "{'loss': 0.4695, 'learning_rate': 1.557377049180328e-05, 'epoch': 6.89}\n"
     ]
    },
    {
     "data": {
      "application/vnd.jupyter.widget-view+json": {
       "model_id": "6588abe87ca149cf81feac9bb676ed95",
       "version_major": 2,
       "version_minor": 0
      },
      "text/plain": [
       "  0%|          | 0/27 [00:00<?, ?it/s]"
      ]
     },
     "metadata": {},
     "output_type": "display_data"
    },
    {
     "name": "stdout",
     "output_type": "stream",
     "text": [
      "{'eval_loss': 0.4181499183177948, 'eval_f1': 0.0, 'eval_runtime': 17.1383, 'eval_samples_per_second': 53.156, 'eval_steps_per_second': 1.575, 'epoch': 7.0}\n",
      "{'loss': 0.4556, 'learning_rate': 1.0655737704918032e-05, 'epoch': 7.87}\n"
     ]
    },
    {
     "data": {
      "application/vnd.jupyter.widget-view+json": {
       "model_id": "defb53e272d44d3d954af3b6e0d9f73f",
       "version_major": 2,
       "version_minor": 0
      },
      "text/plain": [
       "  0%|          | 0/27 [00:00<?, ?it/s]"
      ]
     },
     "metadata": {},
     "output_type": "display_data"
    },
    {
     "name": "stdout",
     "output_type": "stream",
     "text": [
      "{'eval_loss': 0.41591134667396545, 'eval_f1': 0.0, 'eval_runtime': 17.3744, 'eval_samples_per_second': 52.433, 'eval_steps_per_second': 1.554, 'epoch': 8.0}\n",
      "{'loss': 0.4485, 'learning_rate': 5.737704918032787e-06, 'epoch': 8.85}\n"
     ]
    },
    {
     "data": {
      "application/vnd.jupyter.widget-view+json": {
       "model_id": "ed1c62dea19740038735515885a2c32b",
       "version_major": 2,
       "version_minor": 0
      },
      "text/plain": [
       "  0%|          | 0/27 [00:00<?, ?it/s]"
      ]
     },
     "metadata": {},
     "output_type": "display_data"
    },
    {
     "name": "stdout",
     "output_type": "stream",
     "text": [
      "{'eval_loss': 0.4149896204471588, 'eval_f1': 0.0, 'eval_runtime': 17.0443, 'eval_samples_per_second': 53.449, 'eval_steps_per_second': 1.584, 'epoch': 9.0}\n",
      "{'loss': 0.4427, 'learning_rate': 8.19672131147541e-07, 'epoch': 9.84}\n"
     ]
    },
    {
     "data": {
      "application/vnd.jupyter.widget-view+json": {
       "model_id": "b979f1c2c7d644208ec9764a8fe31601",
       "version_major": 2,
       "version_minor": 0
      },
      "text/plain": [
       "  0%|          | 0/27 [00:00<?, ?it/s]"
      ]
     },
     "metadata": {},
     "output_type": "display_data"
    },
    {
     "name": "stdout",
     "output_type": "stream",
     "text": [
      "{'eval_loss': 0.3965504467487335, 'eval_f1': 0.0, 'eval_runtime': 17.0816, 'eval_samples_per_second': 53.332, 'eval_steps_per_second': 1.581, 'epoch': 10.0}\n",
      "{'train_runtime': 1211.9029, 'train_samples_per_second': 17.534, 'train_steps_per_second': 0.503, 'train_loss': 0.6921148675387023, 'epoch': 10.0}\n"
     ]
    },
    {
     "data": {
      "application/vnd.jupyter.widget-view+json": {
       "model_id": "f90dc5c8c4f84d939097d696356b54af",
       "version_major": 2,
       "version_minor": 0
      },
      "text/plain": [
       "Map:   0%|          | 0/911 [00:00<?, ? examples/s]"
      ]
     },
     "metadata": {},
     "output_type": "display_data"
    },
    {
     "data": {
      "application/vnd.jupyter.widget-view+json": {
       "model_id": "559d1e1762f14d99b77c72caa5fd6417",
       "version_major": 2,
       "version_minor": 0
      },
      "text/plain": [
       "Map:   0%|          | 0/2125 [00:00<?, ? examples/s]"
      ]
     },
     "metadata": {},
     "output_type": "display_data"
    },
    {
     "data": {
      "application/vnd.jupyter.widget-view+json": {
       "model_id": "9b2e030c3dad4ea9bbb81fdb3900fde2",
       "version_major": 2,
       "version_minor": 0
      },
      "text/plain": [
       "Map:   0%|          | 0/911 [00:00<?, ? examples/s]"
      ]
     },
     "metadata": {},
     "output_type": "display_data"
    },
    {
     "data": {
      "application/vnd.jupyter.widget-view+json": {
       "model_id": "f7a3979831194c8caa025229174dabec",
       "version_major": 2,
       "version_minor": 0
      },
      "text/plain": [
       "Map:   0%|          | 0/800 [00:00<?, ? examples/s]"
      ]
     },
     "metadata": {},
     "output_type": "display_data"
    },
    {
     "name": "stdout",
     "output_type": "stream",
     "text": [
      "distilbert-base-uncased_ds_normal_additional_linear_9_e10_ld001_wF\n"
     ]
    },
    {
     "name": "stderr",
     "output_type": "stream",
     "text": [
      "/Users/tina.vu/work/fun/sentilens_env_wipp/lib/python3.9/site-packages/transformers/optimization.py:391: FutureWarning: This implementation of AdamW is deprecated and will be removed in a future version. Use the PyTorch implementation torch.optim.AdamW instead, or set `no_deprecation_warning=True` to disable this warning\n",
      "  warnings.warn(\n"
     ]
    },
    {
     "data": {
      "application/vnd.jupyter.widget-view+json": {
       "model_id": "80579ef5d1894403a220efdd58947251",
       "version_major": 2,
       "version_minor": 0
      },
      "text/plain": [
       "  0%|          | 0/610 [00:00<?, ?it/s]"
      ]
     },
     "metadata": {},
     "output_type": "display_data"
    },
    {
     "name": "stdout",
     "output_type": "stream",
     "text": [
      "{'loss': 1.4208, 'learning_rate': 4.508196721311476e-05, 'epoch': 0.98}\n"
     ]
    },
    {
     "data": {
      "application/vnd.jupyter.widget-view+json": {
       "model_id": "96ba5f4b8d3049fd9940d715c7452f24",
       "version_major": 2,
       "version_minor": 0
      },
      "text/plain": [
       "  0%|          | 0/27 [00:00<?, ?it/s]"
      ]
     },
     "metadata": {},
     "output_type": "display_data"
    },
    {
     "name": "stdout",
     "output_type": "stream",
     "text": [
      "{'eval_loss': 1.1783984899520874, 'eval_f1': 0.0, 'eval_runtime': 15.6812, 'eval_samples_per_second': 58.095, 'eval_steps_per_second': 1.722, 'epoch': 1.0}\n",
      "{'loss': 1.0928, 'learning_rate': 4.016393442622951e-05, 'epoch': 1.97}\n"
     ]
    },
    {
     "data": {
      "application/vnd.jupyter.widget-view+json": {
       "model_id": "f01479751b41468ea25070f56c7cec0d",
       "version_major": 2,
       "version_minor": 0
      },
      "text/plain": [
       "  0%|          | 0/27 [00:00<?, ?it/s]"
      ]
     },
     "metadata": {},
     "output_type": "display_data"
    },
    {
     "name": "stdout",
     "output_type": "stream",
     "text": [
      "{'eval_loss': 0.9152612686157227, 'eval_f1': 0.0, 'eval_runtime': 15.8251, 'eval_samples_per_second': 57.567, 'eval_steps_per_second': 1.706, 'epoch': 2.0}\n",
      "{'loss': 0.8638, 'learning_rate': 3.524590163934427e-05, 'epoch': 2.95}\n"
     ]
    },
    {
     "data": {
      "application/vnd.jupyter.widget-view+json": {
       "model_id": "00cf9be7dceb414ea1ce0e1d01e36eb0",
       "version_major": 2,
       "version_minor": 0
      },
      "text/plain": [
       "  0%|          | 0/27 [00:00<?, ?it/s]"
      ]
     },
     "metadata": {},
     "output_type": "display_data"
    },
    {
     "name": "stdout",
     "output_type": "stream",
     "text": [
      "{'eval_loss': 0.6945751905441284, 'eval_f1': 0.0, 'eval_runtime': 15.6757, 'eval_samples_per_second': 58.116, 'eval_steps_per_second': 1.722, 'epoch': 3.0}\n",
      "{'loss': 0.685, 'learning_rate': 3.0327868852459017e-05, 'epoch': 3.93}\n"
     ]
    },
    {
     "data": {
      "application/vnd.jupyter.widget-view+json": {
       "model_id": "01460a4516cb4fdc9998e8e8fbff5846",
       "version_major": 2,
       "version_minor": 0
      },
      "text/plain": [
       "  0%|          | 0/27 [00:00<?, ?it/s]"
      ]
     },
     "metadata": {},
     "output_type": "display_data"
    },
    {
     "name": "stdout",
     "output_type": "stream",
     "text": [
      "{'eval_loss': 0.5455976128578186, 'eval_f1': 0.0, 'eval_runtime': 15.5572, 'eval_samples_per_second': 58.558, 'eval_steps_per_second': 1.736, 'epoch': 4.0}\n",
      "{'loss': 0.5709, 'learning_rate': 2.540983606557377e-05, 'epoch': 4.92}\n"
     ]
    },
    {
     "data": {
      "application/vnd.jupyter.widget-view+json": {
       "model_id": "ab69c2e2678a4f8b9fcc17ec4dbb0023",
       "version_major": 2,
       "version_minor": 0
      },
      "text/plain": [
       "  0%|          | 0/27 [00:00<?, ?it/s]"
      ]
     },
     "metadata": {},
     "output_type": "display_data"
    },
    {
     "name": "stdout",
     "output_type": "stream",
     "text": [
      "{'eval_loss': 0.4644652307033539, 'eval_f1': 0.0, 'eval_runtime': 15.7904, 'eval_samples_per_second': 57.693, 'eval_steps_per_second': 1.71, 'epoch': 5.0}\n",
      "{'loss': 0.5123, 'learning_rate': 2.0491803278688525e-05, 'epoch': 5.9}\n"
     ]
    },
    {
     "data": {
      "application/vnd.jupyter.widget-view+json": {
       "model_id": "10c2139b1da5455684cb4f64b908b55c",
       "version_major": 2,
       "version_minor": 0
      },
      "text/plain": [
       "  0%|          | 0/27 [00:00<?, ?it/s]"
      ]
     },
     "metadata": {},
     "output_type": "display_data"
    },
    {
     "name": "stdout",
     "output_type": "stream",
     "text": [
      "{'eval_loss': 0.42963168025016785, 'eval_f1': 0.0, 'eval_runtime': 16.0172, 'eval_samples_per_second': 56.876, 'eval_steps_per_second': 1.686, 'epoch': 6.0}\n",
      "{'loss': 0.4692, 'learning_rate': 1.557377049180328e-05, 'epoch': 6.89}\n"
     ]
    },
    {
     "data": {
      "application/vnd.jupyter.widget-view+json": {
       "model_id": "438feb8baa014b5bb6911554fcf94fbb",
       "version_major": 2,
       "version_minor": 0
      },
      "text/plain": [
       "  0%|          | 0/27 [00:00<?, ?it/s]"
      ]
     },
     "metadata": {},
     "output_type": "display_data"
    },
    {
     "name": "stdout",
     "output_type": "stream",
     "text": [
      "{'eval_loss': 0.4180600643157959, 'eval_f1': 0.0, 'eval_runtime': 15.9249, 'eval_samples_per_second': 57.206, 'eval_steps_per_second': 1.695, 'epoch': 7.0}\n",
      "{'loss': 0.4554, 'learning_rate': 1.0655737704918032e-05, 'epoch': 7.87}\n"
     ]
    },
    {
     "data": {
      "application/vnd.jupyter.widget-view+json": {
       "model_id": "ca2e5ad1096145fb8a23fead7f115a71",
       "version_major": 2,
       "version_minor": 0
      },
      "text/plain": [
       "  0%|          | 0/27 [00:00<?, ?it/s]"
      ]
     },
     "metadata": {},
     "output_type": "display_data"
    },
    {
     "name": "stdout",
     "output_type": "stream",
     "text": [
      "{'eval_loss': 0.41590380668640137, 'eval_f1': 0.0, 'eval_runtime': 15.8515, 'eval_samples_per_second': 57.471, 'eval_steps_per_second': 1.703, 'epoch': 8.0}\n",
      "{'loss': 0.4484, 'learning_rate': 5.737704918032787e-06, 'epoch': 8.85}\n"
     ]
    },
    {
     "data": {
      "application/vnd.jupyter.widget-view+json": {
       "model_id": "d5e119b442dd471ea4ba3c4318dabc5a",
       "version_major": 2,
       "version_minor": 0
      },
      "text/plain": [
       "  0%|          | 0/27 [00:00<?, ?it/s]"
      ]
     },
     "metadata": {},
     "output_type": "display_data"
    },
    {
     "name": "stdout",
     "output_type": "stream",
     "text": [
      "{'eval_loss': 0.41489851474761963, 'eval_f1': 0.0, 'eval_runtime': 15.7315, 'eval_samples_per_second': 57.909, 'eval_steps_per_second': 1.716, 'epoch': 9.0}\n",
      "{'loss': 0.442, 'learning_rate': 8.19672131147541e-07, 'epoch': 9.84}\n"
     ]
    },
    {
     "data": {
      "application/vnd.jupyter.widget-view+json": {
       "model_id": "2ff18fdbaefa4ba6bd330ed918e164f3",
       "version_major": 2,
       "version_minor": 0
      },
      "text/plain": [
       "  0%|          | 0/27 [00:00<?, ?it/s]"
      ]
     },
     "metadata": {},
     "output_type": "display_data"
    },
    {
     "name": "stdout",
     "output_type": "stream",
     "text": [
      "{'eval_loss': 0.3960726857185364, 'eval_f1': 0.0, 'eval_runtime': 15.719, 'eval_samples_per_second': 57.955, 'eval_steps_per_second': 1.718, 'epoch': 10.0}\n",
      "{'train_runtime': 1211.8951, 'train_samples_per_second': 17.535, 'train_steps_per_second': 0.503, 'train_loss': 0.6917178404135782, 'epoch': 10.0}\n"
     ]
    },
    {
     "data": {
      "application/vnd.jupyter.widget-view+json": {
       "model_id": "5a98db98c60f41c4ad2891a267708cbe",
       "version_major": 2,
       "version_minor": 0
      },
      "text/plain": [
       "Map:   0%|          | 0/911 [00:00<?, ? examples/s]"
      ]
     },
     "metadata": {},
     "output_type": "display_data"
    },
    {
     "data": {
      "application/vnd.jupyter.widget-view+json": {
       "model_id": "efb644b9bc034fccafa38da54ba06e04",
       "version_major": 2,
       "version_minor": 0
      },
      "text/plain": [
       "Map:   0%|          | 0/2125 [00:00<?, ? examples/s]"
      ]
     },
     "metadata": {},
     "output_type": "display_data"
    },
    {
     "data": {
      "application/vnd.jupyter.widget-view+json": {
       "model_id": "3872b249fe25410a9e074ccf836f86ac",
       "version_major": 2,
       "version_minor": 0
      },
      "text/plain": [
       "Map:   0%|          | 0/911 [00:00<?, ? examples/s]"
      ]
     },
     "metadata": {},
     "output_type": "display_data"
    },
    {
     "data": {
      "application/vnd.jupyter.widget-view+json": {
       "model_id": "cf7999d6e17944b3ba2fb3d8e4b91f28",
       "version_major": 2,
       "version_minor": 0
      },
      "text/plain": [
       "Map:   0%|          | 0/800 [00:00<?, ? examples/s]"
      ]
     },
     "metadata": {},
     "output_type": "display_data"
    },
    {
     "name": "stdout",
     "output_type": "stream",
     "text": [
      "distilbert-base-uncased_ds_normal_additional_linear_9_e20_ld0001_wF\n"
     ]
    },
    {
     "name": "stderr",
     "output_type": "stream",
     "text": [
      "/Users/tina.vu/work/fun/sentilens_env_wipp/lib/python3.9/site-packages/transformers/optimization.py:391: FutureWarning: This implementation of AdamW is deprecated and will be removed in a future version. Use the PyTorch implementation torch.optim.AdamW instead, or set `no_deprecation_warning=True` to disable this warning\n",
      "  warnings.warn(\n"
     ]
    },
    {
     "data": {
      "application/vnd.jupyter.widget-view+json": {
       "model_id": "1577b59e4cdc49bc93b0a9a8f753a461",
       "version_major": 2,
       "version_minor": 0
      },
      "text/plain": [
       "  0%|          | 0/1220 [00:00<?, ?it/s]"
      ]
     },
     "metadata": {},
     "output_type": "display_data"
    },
    {
     "name": "stdout",
     "output_type": "stream",
     "text": [
      "{'loss': 1.4185, 'learning_rate': 4.754098360655738e-05, 'epoch': 0.98}\n"
     ]
    },
    {
     "data": {
      "application/vnd.jupyter.widget-view+json": {
       "model_id": "7d783526bfd348039882d52505933c9b",
       "version_major": 2,
       "version_minor": 0
      },
      "text/plain": [
       "  0%|          | 0/27 [00:00<?, ?it/s]"
      ]
     },
     "metadata": {},
     "output_type": "display_data"
    },
    {
     "name": "stdout",
     "output_type": "stream",
     "text": [
      "{'eval_loss': 1.1712859869003296, 'eval_f1': 0.0, 'eval_runtime': 15.9252, 'eval_samples_per_second': 57.205, 'eval_steps_per_second': 1.695, 'epoch': 1.0}\n",
      "{'loss': 1.077, 'learning_rate': 4.508196721311476e-05, 'epoch': 1.97}\n"
     ]
    },
    {
     "data": {
      "application/vnd.jupyter.widget-view+json": {
       "model_id": "3c57ea2773064acaa46c6688a2735094",
       "version_major": 2,
       "version_minor": 0
      },
      "text/plain": [
       "  0%|          | 0/27 [00:00<?, ?it/s]"
      ]
     },
     "metadata": {},
     "output_type": "display_data"
    },
    {
     "name": "stdout",
     "output_type": "stream",
     "text": [
      "{'eval_loss': 0.8850183486938477, 'eval_f1': 0.0, 'eval_runtime': 15.8865, 'eval_samples_per_second': 57.344, 'eval_steps_per_second': 1.7, 'epoch': 2.0}\n",
      "{'loss': 0.8236, 'learning_rate': 4.262295081967213e-05, 'epoch': 2.95}\n"
     ]
    },
    {
     "data": {
      "application/vnd.jupyter.widget-view+json": {
       "model_id": "ea0bb52fc14244c8abfd973ba6fdf334",
       "version_major": 2,
       "version_minor": 0
      },
      "text/plain": [
       "  0%|          | 0/27 [00:00<?, ?it/s]"
      ]
     },
     "metadata": {},
     "output_type": "display_data"
    },
    {
     "name": "stdout",
     "output_type": "stream",
     "text": [
      "{'eval_loss': 0.6381950378417969, 'eval_f1': 0.0, 'eval_runtime': 15.9458, 'eval_samples_per_second': 57.131, 'eval_steps_per_second': 1.693, 'epoch': 3.0}\n",
      "{'loss': 0.625, 'learning_rate': 4.016393442622951e-05, 'epoch': 3.93}\n"
     ]
    },
    {
     "data": {
      "application/vnd.jupyter.widget-view+json": {
       "model_id": "5d49f06bfcba4565bea06f70f770ff18",
       "version_major": 2,
       "version_minor": 0
      },
      "text/plain": [
       "  0%|          | 0/27 [00:00<?, ?it/s]"
      ]
     },
     "metadata": {},
     "output_type": "display_data"
    },
    {
     "name": "stdout",
     "output_type": "stream",
     "text": [
      "{'eval_loss': 0.48300501704216003, 'eval_f1': 0.0, 'eval_runtime': 15.8742, 'eval_samples_per_second': 57.389, 'eval_steps_per_second': 1.701, 'epoch': 4.0}\n",
      "{'loss': 0.5064, 'learning_rate': 3.7704918032786885e-05, 'epoch': 4.92}\n"
     ]
    },
    {
     "data": {
      "application/vnd.jupyter.widget-view+json": {
       "model_id": "85881c805a9a49809cc3cf6ea1086fca",
       "version_major": 2,
       "version_minor": 0
      },
      "text/plain": [
       "  0%|          | 0/27 [00:00<?, ?it/s]"
      ]
     },
     "metadata": {},
     "output_type": "display_data"
    },
    {
     "name": "stdout",
     "output_type": "stream",
     "text": [
      "{'eval_loss': 0.4229793846607208, 'eval_f1': 0.0, 'eval_runtime': 16.0355, 'eval_samples_per_second': 56.812, 'eval_steps_per_second': 1.684, 'epoch': 5.0}\n",
      "{'loss': 0.4634, 'learning_rate': 3.524590163934427e-05, 'epoch': 5.9}\n"
     ]
    },
    {
     "data": {
      "application/vnd.jupyter.widget-view+json": {
       "model_id": "e6c6f54d56404616bb92caed25faa19b",
       "version_major": 2,
       "version_minor": 0
      },
      "text/plain": [
       "  0%|          | 0/27 [00:00<?, ?it/s]"
      ]
     },
     "metadata": {},
     "output_type": "display_data"
    },
    {
     "name": "stdout",
     "output_type": "stream",
     "text": [
      "{'eval_loss': 0.41585901379585266, 'eval_f1': 0.0, 'eval_runtime': 15.9558, 'eval_samples_per_second': 57.095, 'eval_steps_per_second': 1.692, 'epoch': 6.0}\n",
      "{'loss': 0.4135, 'learning_rate': 3.2786885245901635e-05, 'epoch': 6.89}\n"
     ]
    },
    {
     "data": {
      "application/vnd.jupyter.widget-view+json": {
       "model_id": "f93034019acc4926a76d5eb41173b7b1",
       "version_major": 2,
       "version_minor": 0
      },
      "text/plain": [
       "  0%|          | 0/27 [00:00<?, ?it/s]"
      ]
     },
     "metadata": {},
     "output_type": "display_data"
    },
    {
     "name": "stdout",
     "output_type": "stream",
     "text": [
      "{'eval_loss': 0.2681785225868225, 'eval_f1': 0.0, 'eval_runtime': 15.8549, 'eval_samples_per_second': 57.459, 'eval_steps_per_second': 1.703, 'epoch': 7.0}\n",
      "{'loss': 0.2801, 'learning_rate': 3.0327868852459017e-05, 'epoch': 7.87}\n"
     ]
    },
    {
     "data": {
      "application/vnd.jupyter.widget-view+json": {
       "model_id": "d934845a42444b5e99d7cfa5ab71f67b",
       "version_major": 2,
       "version_minor": 0
      },
      "text/plain": [
       "  0%|          | 0/27 [00:00<?, ?it/s]"
      ]
     },
     "metadata": {},
     "output_type": "display_data"
    },
    {
     "name": "stdout",
     "output_type": "stream",
     "text": [
      "{'eval_loss': 0.2274855673313141, 'eval_f1': 0.05595523581135092, 'eval_runtime': 15.8574, 'eval_samples_per_second': 57.45, 'eval_steps_per_second': 1.703, 'epoch': 8.0}\n",
      "{'loss': 0.2257, 'learning_rate': 2.7868852459016392e-05, 'epoch': 8.85}\n"
     ]
    },
    {
     "data": {
      "application/vnd.jupyter.widget-view+json": {
       "model_id": "708ca26da62b48719dcd62256a621164",
       "version_major": 2,
       "version_minor": 0
      },
      "text/plain": [
       "  0%|          | 0/27 [00:00<?, ?it/s]"
      ]
     },
     "metadata": {},
     "output_type": "display_data"
    },
    {
     "name": "stdout",
     "output_type": "stream",
     "text": [
      "{'eval_loss': 0.21714311838150024, 'eval_f1': 0.08130081300813007, 'eval_runtime': 15.8949, 'eval_samples_per_second': 57.314, 'eval_steps_per_second': 1.699, 'epoch': 9.0}\n",
      "{'loss': 0.1883, 'learning_rate': 2.540983606557377e-05, 'epoch': 9.84}\n"
     ]
    },
    {
     "data": {
      "application/vnd.jupyter.widget-view+json": {
       "model_id": "4ac91b19b1fa4c9ca708b7606ad8ebf9",
       "version_major": 2,
       "version_minor": 0
      },
      "text/plain": [
       "  0%|          | 0/27 [00:00<?, ?it/s]"
      ]
     },
     "metadata": {},
     "output_type": "display_data"
    },
    {
     "name": "stdout",
     "output_type": "stream",
     "text": [
      "{'eval_loss': 0.2178662270307541, 'eval_f1': 0.08094869811807166, 'eval_runtime': 15.9533, 'eval_samples_per_second': 57.104, 'eval_steps_per_second': 1.692, 'epoch': 10.0}\n",
      "{'loss': 0.1678, 'learning_rate': 2.295081967213115e-05, 'epoch': 10.82}\n"
     ]
    },
    {
     "data": {
      "application/vnd.jupyter.widget-view+json": {
       "model_id": "7c85669deaf0429a8a3584ef337eb9df",
       "version_major": 2,
       "version_minor": 0
      },
      "text/plain": [
       "  0%|          | 0/27 [00:00<?, ?it/s]"
      ]
     },
     "metadata": {},
     "output_type": "display_data"
    },
    {
     "name": "stdout",
     "output_type": "stream",
     "text": [
      "{'eval_loss': 0.2326333373785019, 'eval_f1': 0.1122495075983448, 'eval_runtime': 15.88, 'eval_samples_per_second': 57.368, 'eval_steps_per_second': 1.7, 'epoch': 11.0}\n",
      "{'loss': 0.1618, 'learning_rate': 2.0491803278688525e-05, 'epoch': 11.8}\n"
     ]
    },
    {
     "data": {
      "application/vnd.jupyter.widget-view+json": {
       "model_id": "99e08c41f15441779bafd17119d2efbe",
       "version_major": 2,
       "version_minor": 0
      },
      "text/plain": [
       "  0%|          | 0/27 [00:00<?, ?it/s]"
      ]
     },
     "metadata": {},
     "output_type": "display_data"
    },
    {
     "name": "stdout",
     "output_type": "stream",
     "text": [
      "{'eval_loss': 0.2292935997247696, 'eval_f1': 0.16953890615375933, 'eval_runtime': 16.4675, 'eval_samples_per_second': 55.321, 'eval_steps_per_second': 1.64, 'epoch': 12.0}\n",
      "{'loss': 0.1446, 'learning_rate': 1.8032786885245903e-05, 'epoch': 12.79}\n"
     ]
    },
    {
     "data": {
      "application/vnd.jupyter.widget-view+json": {
       "model_id": "1df21a7047864807a2d67cd0a0258e1e",
       "version_major": 2,
       "version_minor": 0
      },
      "text/plain": [
       "  0%|          | 0/27 [00:00<?, ?it/s]"
      ]
     },
     "metadata": {},
     "output_type": "display_data"
    },
    {
     "name": "stdout",
     "output_type": "stream",
     "text": [
      "{'eval_loss': 0.24378633499145508, 'eval_f1': 0.13342017011112906, 'eval_runtime': 16.2674, 'eval_samples_per_second': 56.002, 'eval_steps_per_second': 1.66, 'epoch': 13.0}\n",
      "{'loss': 0.1417, 'learning_rate': 1.557377049180328e-05, 'epoch': 13.77}\n"
     ]
    },
    {
     "data": {
      "application/vnd.jupyter.widget-view+json": {
       "model_id": "6a2f08ee12a84629b2efe5291a4431de",
       "version_major": 2,
       "version_minor": 0
      },
      "text/plain": [
       "  0%|          | 0/27 [00:00<?, ?it/s]"
      ]
     },
     "metadata": {},
     "output_type": "display_data"
    },
    {
     "name": "stdout",
     "output_type": "stream",
     "text": [
      "{'eval_loss': 0.23789238929748535, 'eval_f1': 0.14823318049862672, 'eval_runtime': 16.2654, 'eval_samples_per_second': 56.008, 'eval_steps_per_second': 1.66, 'epoch': 14.0}\n",
      "{'loss': 0.1346, 'learning_rate': 1.3114754098360657e-05, 'epoch': 14.75}\n"
     ]
    },
    {
     "data": {
      "application/vnd.jupyter.widget-view+json": {
       "model_id": "ca877c089e77452db07d25e9258d2855",
       "version_major": 2,
       "version_minor": 0
      },
      "text/plain": [
       "  0%|          | 0/27 [00:00<?, ?it/s]"
      ]
     },
     "metadata": {},
     "output_type": "display_data"
    },
    {
     "name": "stdout",
     "output_type": "stream",
     "text": [
      "{'eval_loss': 0.24124553799629211, 'eval_f1': 0.2039136321810349, 'eval_runtime': 16.7769, 'eval_samples_per_second': 54.301, 'eval_steps_per_second': 1.609, 'epoch': 15.0}\n",
      "{'loss': 0.1318, 'learning_rate': 1.0655737704918032e-05, 'epoch': 15.74}\n"
     ]
    },
    {
     "data": {
      "application/vnd.jupyter.widget-view+json": {
       "model_id": "19f1b31e8642481fb896cf0efa2b62e9",
       "version_major": 2,
       "version_minor": 0
      },
      "text/plain": [
       "  0%|          | 0/27 [00:00<?, ?it/s]"
      ]
     },
     "metadata": {},
     "output_type": "display_data"
    },
    {
     "name": "stdout",
     "output_type": "stream",
     "text": [
      "{'eval_loss': 0.24168507754802704, 'eval_f1': 0.21083811775301134, 'eval_runtime': 17.1316, 'eval_samples_per_second': 53.177, 'eval_steps_per_second': 1.576, 'epoch': 16.0}\n",
      "{'loss': 0.1317, 'learning_rate': 8.196721311475409e-06, 'epoch': 16.72}\n"
     ]
    },
    {
     "data": {
      "application/vnd.jupyter.widget-view+json": {
       "model_id": "f0f2f519931c448d96d3c1282f80cc8b",
       "version_major": 2,
       "version_minor": 0
      },
      "text/plain": [
       "  0%|          | 0/27 [00:00<?, ?it/s]"
      ]
     },
     "metadata": {},
     "output_type": "display_data"
    },
    {
     "name": "stdout",
     "output_type": "stream",
     "text": [
      "{'eval_loss': 0.244218647480011, 'eval_f1': 0.21688975434316302, 'eval_runtime': 17.4235, 'eval_samples_per_second': 52.286, 'eval_steps_per_second': 1.55, 'epoch': 17.0}\n",
      "{'loss': 0.1271, 'learning_rate': 5.737704918032787e-06, 'epoch': 17.7}\n"
     ]
    },
    {
     "data": {
      "application/vnd.jupyter.widget-view+json": {
       "model_id": "d9165630086b45b78036f9d3373dc59e",
       "version_major": 2,
       "version_minor": 0
      },
      "text/plain": [
       "  0%|          | 0/27 [00:00<?, ?it/s]"
      ]
     },
     "metadata": {},
     "output_type": "display_data"
    },
    {
     "name": "stdout",
     "output_type": "stream",
     "text": [
      "{'eval_loss': 0.2455293983221054, 'eval_f1': 0.21721944707386842, 'eval_runtime': 17.5441, 'eval_samples_per_second': 51.926, 'eval_steps_per_second': 1.539, 'epoch': 18.0}\n",
      "{'loss': 0.1257, 'learning_rate': 3.278688524590164e-06, 'epoch': 18.69}\n"
     ]
    },
    {
     "data": {
      "application/vnd.jupyter.widget-view+json": {
       "model_id": "75e82ef4041440c89808901b3576abf4",
       "version_major": 2,
       "version_minor": 0
      },
      "text/plain": [
       "  0%|          | 0/27 [00:00<?, ?it/s]"
      ]
     },
     "metadata": {},
     "output_type": "display_data"
    },
    {
     "name": "stdout",
     "output_type": "stream",
     "text": [
      "{'eval_loss': 0.24609589576721191, 'eval_f1': 0.21805858279154985, 'eval_runtime': 17.3009, 'eval_samples_per_second': 52.656, 'eval_steps_per_second': 1.561, 'epoch': 19.0}\n",
      "{'loss': 0.1286, 'learning_rate': 8.19672131147541e-07, 'epoch': 19.67}\n"
     ]
    },
    {
     "data": {
      "application/vnd.jupyter.widget-view+json": {
       "model_id": "6f88850bc0a74350b33e29620b718ce2",
       "version_major": 2,
       "version_minor": 0
      },
      "text/plain": [
       "  0%|          | 0/27 [00:00<?, ?it/s]"
      ]
     },
     "metadata": {},
     "output_type": "display_data"
    },
    {
     "name": "stdout",
     "output_type": "stream",
     "text": [
      "{'eval_loss': 0.24557140469551086, 'eval_f1': 0.21654288839049207, 'eval_runtime': 16.5289, 'eval_samples_per_second': 55.116, 'eval_steps_per_second': 1.634, 'epoch': 20.0}\n",
      "{'train_runtime': 2449.9598, 'train_samples_per_second': 17.347, 'train_steps_per_second': 0.498, 'train_loss': 0.3667953801936791, 'epoch': 20.0}\n"
     ]
    },
    {
     "data": {
      "application/vnd.jupyter.widget-view+json": {
       "model_id": "52afe903b30d4c3caf424215b5cf7926",
       "version_major": 2,
       "version_minor": 0
      },
      "text/plain": [
       "Map:   0%|          | 0/911 [00:00<?, ? examples/s]"
      ]
     },
     "metadata": {},
     "output_type": "display_data"
    },
    {
     "data": {
      "application/vnd.jupyter.widget-view+json": {
       "model_id": "23f613dc452f4730810bf06ab18a7e4f",
       "version_major": 2,
       "version_minor": 0
      },
      "text/plain": [
       "Map:   0%|          | 0/1378 [00:00<?, ? examples/s]"
      ]
     },
     "metadata": {},
     "output_type": "display_data"
    },
    {
     "data": {
      "application/vnd.jupyter.widget-view+json": {
       "model_id": "986500c54bf14357835bbeee6c819f79",
       "version_major": 2,
       "version_minor": 0
      },
      "text/plain": [
       "Map:   0%|          | 0/911 [00:00<?, ? examples/s]"
      ]
     },
     "metadata": {},
     "output_type": "display_data"
    },
    {
     "data": {
      "application/vnd.jupyter.widget-view+json": {
       "model_id": "71a43735e8854a03a11586ded7f5c0e6",
       "version_major": 2,
       "version_minor": 0
      },
      "text/plain": [
       "Map:   0%|          | 0/800 [00:00<?, ? examples/s]"
      ]
     },
     "metadata": {},
     "output_type": "display_data"
    },
    {
     "name": "stdout",
     "output_type": "stream",
     "text": [
      "distilbert-base-uncased_ds_down_sample_lstm_12_e10_ld01_wF\n"
     ]
    },
    {
     "name": "stderr",
     "output_type": "stream",
     "text": [
      "/Users/tina.vu/work/fun/sentilens_env_wipp/lib/python3.9/site-packages/transformers/optimization.py:391: FutureWarning: This implementation of AdamW is deprecated and will be removed in a future version. Use the PyTorch implementation torch.optim.AdamW instead, or set `no_deprecation_warning=True` to disable this warning\n",
      "  warnings.warn(\n"
     ]
    },
    {
     "data": {
      "application/vnd.jupyter.widget-view+json": {
       "model_id": "19e1faab59ad486194e7797026138169",
       "version_major": 2,
       "version_minor": 0
      },
      "text/plain": [
       "  0%|          | 0/400 [00:00<?, ?it/s]"
      ]
     },
     "metadata": {},
     "output_type": "display_data"
    },
    {
     "name": "stdout",
     "output_type": "stream",
     "text": [
      "{'loss': 1.4462, 'learning_rate': 4.5125e-05, 'epoch': 0.97}\n"
     ]
    },
    {
     "data": {
      "application/vnd.jupyter.widget-view+json": {
       "model_id": "00440b76fbb346fa95833e15ea14480f",
       "version_major": 2,
       "version_minor": 0
      },
      "text/plain": [
       "  0%|          | 0/27 [00:00<?, ?it/s]"
      ]
     },
     "metadata": {},
     "output_type": "display_data"
    },
    {
     "name": "stdout",
     "output_type": "stream",
     "text": [
      "{'eval_loss': 1.21419095993042, 'eval_f1': 0.0, 'eval_runtime': 16.2988, 'eval_samples_per_second': 55.894, 'eval_steps_per_second': 1.657, 'epoch': 1.0}\n",
      "{'loss': 1.1735, 'learning_rate': 4.025e-05, 'epoch': 1.95}\n"
     ]
    },
    {
     "data": {
      "application/vnd.jupyter.widget-view+json": {
       "model_id": "9778d15f34d141df82a4457cfa8b630b",
       "version_major": 2,
       "version_minor": 0
      },
      "text/plain": [
       "  0%|          | 0/27 [00:00<?, ?it/s]"
      ]
     },
     "metadata": {},
     "output_type": "display_data"
    },
    {
     "name": "stdout",
     "output_type": "stream",
     "text": [
      "{'eval_loss': 1.0783045291900635, 'eval_f1': 0.0, 'eval_runtime': 16.8831, 'eval_samples_per_second': 53.959, 'eval_steps_per_second': 1.599, 'epoch': 2.0}\n",
      "{'loss': 1.0652, 'learning_rate': 3.5375e-05, 'epoch': 2.92}\n"
     ]
    },
    {
     "data": {
      "application/vnd.jupyter.widget-view+json": {
       "model_id": "923e0a7a2dba438c99ad7de40b8b0c6b",
       "version_major": 2,
       "version_minor": 0
      },
      "text/plain": [
       "  0%|          | 0/27 [00:00<?, ?it/s]"
      ]
     },
     "metadata": {},
     "output_type": "display_data"
    },
    {
     "name": "stdout",
     "output_type": "stream",
     "text": [
      "{'eval_loss': 0.9825959205627441, 'eval_f1': 0.0, 'eval_runtime': 16.3658, 'eval_samples_per_second': 55.665, 'eval_steps_per_second': 1.65, 'epoch': 3.0}\n",
      "{'loss': 0.9803, 'learning_rate': 3.05e-05, 'epoch': 3.9}\n"
     ]
    },
    {
     "data": {
      "application/vnd.jupyter.widget-view+json": {
       "model_id": "0393c6e2b470425dbed83fab4e80979e",
       "version_major": 2,
       "version_minor": 0
      },
      "text/plain": [
       "  0%|          | 0/27 [00:00<?, ?it/s]"
      ]
     },
     "metadata": {},
     "output_type": "display_data"
    },
    {
     "name": "stdout",
     "output_type": "stream",
     "text": [
      "{'eval_loss': 0.9076592922210693, 'eval_f1': 0.0, 'eval_runtime': 16.8948, 'eval_samples_per_second': 53.922, 'eval_steps_per_second': 1.598, 'epoch': 4.0}\n",
      "{'loss': 0.921, 'learning_rate': 2.5625e-05, 'epoch': 4.88}\n"
     ]
    },
    {
     "data": {
      "application/vnd.jupyter.widget-view+json": {
       "model_id": "19432677641d40f1ac545bdc55ed0c0b",
       "version_major": 2,
       "version_minor": 0
      },
      "text/plain": [
       "  0%|          | 0/27 [00:00<?, ?it/s]"
      ]
     },
     "metadata": {},
     "output_type": "display_data"
    },
    {
     "name": "stdout",
     "output_type": "stream",
     "text": [
      "{'eval_loss': 0.8471328616142273, 'eval_f1': 0.0, 'eval_runtime': 16.4357, 'eval_samples_per_second': 55.428, 'eval_steps_per_second': 1.643, 'epoch': 5.0}\n",
      "{'loss': 0.8707, 'learning_rate': 2.075e-05, 'epoch': 5.85}\n"
     ]
    },
    {
     "data": {
      "application/vnd.jupyter.widget-view+json": {
       "model_id": "fb7d7c652235469da6a0181d321dd096",
       "version_major": 2,
       "version_minor": 0
      },
      "text/plain": [
       "  0%|          | 0/27 [00:00<?, ?it/s]"
      ]
     },
     "metadata": {},
     "output_type": "display_data"
    },
    {
     "name": "stdout",
     "output_type": "stream",
     "text": [
      "{'eval_loss': 0.8016242384910583, 'eval_f1': 0.0, 'eval_runtime': 17.4733, 'eval_samples_per_second': 52.137, 'eval_steps_per_second': 1.545, 'epoch': 6.0}\n",
      "{'loss': 0.8306, 'learning_rate': 1.5875e-05, 'epoch': 6.83}\n"
     ]
    },
    {
     "data": {
      "application/vnd.jupyter.widget-view+json": {
       "model_id": "71b48f1cf9014ce286fe54f20d34d40e",
       "version_major": 2,
       "version_minor": 0
      },
      "text/plain": [
       "  0%|          | 0/27 [00:00<?, ?it/s]"
      ]
     },
     "metadata": {},
     "output_type": "display_data"
    },
    {
     "name": "stdout",
     "output_type": "stream",
     "text": [
      "{'eval_loss': 0.7685974836349487, 'eval_f1': 0.0, 'eval_runtime': 16.3477, 'eval_samples_per_second': 55.726, 'eval_steps_per_second': 1.652, 'epoch': 7.0}\n",
      "{'loss': 0.8014, 'learning_rate': 1.1000000000000001e-05, 'epoch': 7.8}\n"
     ]
    },
    {
     "data": {
      "application/vnd.jupyter.widget-view+json": {
       "model_id": "54340bc80fd94260aa5995c34cb7363b",
       "version_major": 2,
       "version_minor": 0
      },
      "text/plain": [
       "  0%|          | 0/27 [00:00<?, ?it/s]"
      ]
     },
     "metadata": {},
     "output_type": "display_data"
    },
    {
     "name": "stdout",
     "output_type": "stream",
     "text": [
      "{'eval_loss': 0.7461584806442261, 'eval_f1': 0.0, 'eval_runtime': 16.9955, 'eval_samples_per_second': 53.602, 'eval_steps_per_second': 1.589, 'epoch': 8.0}\n",
      "{'loss': 0.7825, 'learning_rate': 6.125e-06, 'epoch': 8.78}\n"
     ]
    },
    {
     "data": {
      "application/vnd.jupyter.widget-view+json": {
       "model_id": "494874010d1b437f922c6028dc27fcb2",
       "version_major": 2,
       "version_minor": 0
      },
      "text/plain": [
       "  0%|          | 0/27 [00:00<?, ?it/s]"
      ]
     },
     "metadata": {},
     "output_type": "display_data"
    },
    {
     "name": "stdout",
     "output_type": "stream",
     "text": [
      "{'eval_loss': 0.7330175042152405, 'eval_f1': 0.0, 'eval_runtime': 16.4503, 'eval_samples_per_second': 55.379, 'eval_steps_per_second': 1.641, 'epoch': 9.0}\n",
      "{'loss': 0.7703, 'learning_rate': 1.25e-06, 'epoch': 9.75}\n"
     ]
    },
    {
     "data": {
      "application/vnd.jupyter.widget-view+json": {
       "model_id": "b06cbb8830a9468585fde4e8201ecde8",
       "version_major": 2,
       "version_minor": 0
      },
      "text/plain": [
       "  0%|          | 0/27 [00:00<?, ?it/s]"
      ]
     },
     "metadata": {},
     "output_type": "display_data"
    },
    {
     "name": "stdout",
     "output_type": "stream",
     "text": [
      "{'eval_loss': 0.728420615196228, 'eval_f1': 0.0, 'eval_runtime': 17.793, 'eval_samples_per_second': 51.2, 'eval_steps_per_second': 1.517, 'epoch': 10.0}\n",
      "{'train_runtime': 916.7164, 'train_samples_per_second': 15.032, 'train_steps_per_second': 0.436, 'train_loss': 0.9593195521831512, 'epoch': 10.0}\n"
     ]
    },
    {
     "data": {
      "application/vnd.jupyter.widget-view+json": {
       "model_id": "35d3d4546be74408b60b797a84d47c98",
       "version_major": 2,
       "version_minor": 0
      },
      "text/plain": [
       "Map:   0%|          | 0/911 [00:00<?, ? examples/s]"
      ]
     },
     "metadata": {},
     "output_type": "display_data"
    },
    {
     "data": {
      "application/vnd.jupyter.widget-view+json": {
       "model_id": "e34f10003285456c97b237eccb6d1724",
       "version_major": 2,
       "version_minor": 0
      },
      "text/plain": [
       "Map:   0%|          | 0/1378 [00:00<?, ? examples/s]"
      ]
     },
     "metadata": {},
     "output_type": "display_data"
    },
    {
     "data": {
      "application/vnd.jupyter.widget-view+json": {
       "model_id": "97e4a9e74b1e4ec39b9d991843e27993",
       "version_major": 2,
       "version_minor": 0
      },
      "text/plain": [
       "Map:   0%|          | 0/911 [00:00<?, ? examples/s]"
      ]
     },
     "metadata": {},
     "output_type": "display_data"
    },
    {
     "data": {
      "application/vnd.jupyter.widget-view+json": {
       "model_id": "074b73ca025b4fdebce15efbdbfe5760",
       "version_major": 2,
       "version_minor": 0
      },
      "text/plain": [
       "Map:   0%|          | 0/800 [00:00<?, ? examples/s]"
      ]
     },
     "metadata": {},
     "output_type": "display_data"
    },
    {
     "name": "stdout",
     "output_type": "stream",
     "text": [
      "distilbert-base-uncased_ds_down_sample_lstm_12_e10_ld001_wF\n"
     ]
    },
    {
     "name": "stderr",
     "output_type": "stream",
     "text": [
      "/Users/tina.vu/work/fun/sentilens_env_wipp/lib/python3.9/site-packages/transformers/optimization.py:391: FutureWarning: This implementation of AdamW is deprecated and will be removed in a future version. Use the PyTorch implementation torch.optim.AdamW instead, or set `no_deprecation_warning=True` to disable this warning\n",
      "  warnings.warn(\n"
     ]
    },
    {
     "data": {
      "application/vnd.jupyter.widget-view+json": {
       "model_id": "cd6f868f08c9460c8f08d445b8949b60",
       "version_major": 2,
       "version_minor": 0
      },
      "text/plain": [
       "  0%|          | 0/400 [00:00<?, ?it/s]"
      ]
     },
     "metadata": {},
     "output_type": "display_data"
    },
    {
     "name": "stdout",
     "output_type": "stream",
     "text": [
      "{'loss': 1.4461, 'learning_rate': 4.5125e-05, 'epoch': 0.97}\n"
     ]
    },
    {
     "data": {
      "application/vnd.jupyter.widget-view+json": {
       "model_id": "72c513f2b9f248f48fbfaddc74287193",
       "version_major": 2,
       "version_minor": 0
      },
      "text/plain": [
       "  0%|          | 0/27 [00:00<?, ?it/s]"
      ]
     },
     "metadata": {},
     "output_type": "display_data"
    },
    {
     "name": "stdout",
     "output_type": "stream",
     "text": [
      "{'eval_loss': 1.2140908241271973, 'eval_f1': 0.0, 'eval_runtime': 16.9837, 'eval_samples_per_second': 53.64, 'eval_steps_per_second': 1.59, 'epoch': 1.0}\n",
      "{'loss': 1.1733, 'learning_rate': 4.025e-05, 'epoch': 1.95}\n"
     ]
    },
    {
     "data": {
      "application/vnd.jupyter.widget-view+json": {
       "model_id": "f418bd16a2d342c59f6175120416ffcc",
       "version_major": 2,
       "version_minor": 0
      },
      "text/plain": [
       "  0%|          | 0/27 [00:00<?, ?it/s]"
      ]
     },
     "metadata": {},
     "output_type": "display_data"
    },
    {
     "name": "stdout",
     "output_type": "stream",
     "text": [
      "{'eval_loss': 1.0781110525131226, 'eval_f1': 0.0, 'eval_runtime': 16.475, 'eval_samples_per_second': 55.296, 'eval_steps_per_second': 1.639, 'epoch': 2.0}\n",
      "{'loss': 1.065, 'learning_rate': 3.5375e-05, 'epoch': 2.92}\n"
     ]
    },
    {
     "data": {
      "application/vnd.jupyter.widget-view+json": {
       "model_id": "de85b3793844439bb55f68ae2d3326d2",
       "version_major": 2,
       "version_minor": 0
      },
      "text/plain": [
       "  0%|          | 0/27 [00:00<?, ?it/s]"
      ]
     },
     "metadata": {},
     "output_type": "display_data"
    },
    {
     "name": "stdout",
     "output_type": "stream",
     "text": [
      "{'eval_loss': 0.9823240637779236, 'eval_f1': 0.0, 'eval_runtime': 16.7841, 'eval_samples_per_second': 54.278, 'eval_steps_per_second': 1.609, 'epoch': 3.0}\n",
      "{'loss': 0.98, 'learning_rate': 3.05e-05, 'epoch': 3.9}\n"
     ]
    },
    {
     "data": {
      "application/vnd.jupyter.widget-view+json": {
       "model_id": "7760d46ab4e94606977a3fbd28620630",
       "version_major": 2,
       "version_minor": 0
      },
      "text/plain": [
       "  0%|          | 0/27 [00:00<?, ?it/s]"
      ]
     },
     "metadata": {},
     "output_type": "display_data"
    },
    {
     "name": "stdout",
     "output_type": "stream",
     "text": [
      "{'eval_loss': 0.9073264002799988, 'eval_f1': 0.0, 'eval_runtime': 16.6557, 'eval_samples_per_second': 54.696, 'eval_steps_per_second': 1.621, 'epoch': 4.0}\n",
      "{'loss': 0.9206, 'learning_rate': 2.5625e-05, 'epoch': 4.88}\n"
     ]
    },
    {
     "data": {
      "application/vnd.jupyter.widget-view+json": {
       "model_id": "1ab35c79f0b0494abe7a3042686b6234",
       "version_major": 2,
       "version_minor": 0
      },
      "text/plain": [
       "  0%|          | 0/27 [00:00<?, ?it/s]"
      ]
     },
     "metadata": {},
     "output_type": "display_data"
    },
    {
     "name": "stdout",
     "output_type": "stream",
     "text": [
      "{'eval_loss': 0.8467550873756409, 'eval_f1': 0.0, 'eval_runtime': 16.7122, 'eval_samples_per_second': 54.511, 'eval_steps_per_second': 1.616, 'epoch': 5.0}\n",
      "{'loss': 0.8703, 'learning_rate': 2.075e-05, 'epoch': 5.85}\n"
     ]
    },
    {
     "data": {
      "application/vnd.jupyter.widget-view+json": {
       "model_id": "0418ca7842df44e18d343522c1c4424b",
       "version_major": 2,
       "version_minor": 0
      },
      "text/plain": [
       "  0%|          | 0/27 [00:00<?, ?it/s]"
      ]
     },
     "metadata": {},
     "output_type": "display_data"
    },
    {
     "name": "stdout",
     "output_type": "stream",
     "text": [
      "{'eval_loss': 0.8012105822563171, 'eval_f1': 0.0, 'eval_runtime': 16.577, 'eval_samples_per_second': 54.956, 'eval_steps_per_second': 1.629, 'epoch': 6.0}\n",
      "{'loss': 0.8302, 'learning_rate': 1.5875e-05, 'epoch': 6.83}\n"
     ]
    },
    {
     "data": {
      "application/vnd.jupyter.widget-view+json": {
       "model_id": "01048c826b9e492f9ac06220ff1ac4b7",
       "version_major": 2,
       "version_minor": 0
      },
      "text/plain": [
       "  0%|          | 0/27 [00:00<?, ?it/s]"
      ]
     },
     "metadata": {},
     "output_type": "display_data"
    },
    {
     "name": "stdout",
     "output_type": "stream",
     "text": [
      "{'eval_loss': 0.7681602239608765, 'eval_f1': 0.0, 'eval_runtime': 16.5606, 'eval_samples_per_second': 55.01, 'eval_steps_per_second': 1.63, 'epoch': 7.0}\n",
      "{'loss': 0.8009, 'learning_rate': 1.1000000000000001e-05, 'epoch': 7.8}\n"
     ]
    },
    {
     "data": {
      "application/vnd.jupyter.widget-view+json": {
       "model_id": "e43a4e3039094a9da85333ab62f6ce8b",
       "version_major": 2,
       "version_minor": 0
      },
      "text/plain": [
       "  0%|          | 0/27 [00:00<?, ?it/s]"
      ]
     },
     "metadata": {},
     "output_type": "display_data"
    },
    {
     "name": "stdout",
     "output_type": "stream",
     "text": [
      "{'eval_loss': 0.7457064390182495, 'eval_f1': 0.0, 'eval_runtime': 16.805, 'eval_samples_per_second': 54.21, 'eval_steps_per_second': 1.607, 'epoch': 8.0}\n",
      "{'loss': 0.7821, 'learning_rate': 6.125e-06, 'epoch': 8.78}\n"
     ]
    },
    {
     "data": {
      "application/vnd.jupyter.widget-view+json": {
       "model_id": "ce84c27effcb42a2b73bbe7190d9d782",
       "version_major": 2,
       "version_minor": 0
      },
      "text/plain": [
       "  0%|          | 0/27 [00:00<?, ?it/s]"
      ]
     },
     "metadata": {},
     "output_type": "display_data"
    },
    {
     "name": "stdout",
     "output_type": "stream",
     "text": [
      "{'eval_loss': 0.7325652241706848, 'eval_f1': 0.0, 'eval_runtime': 16.7425, 'eval_samples_per_second': 54.412, 'eval_steps_per_second': 1.613, 'epoch': 9.0}\n",
      "{'loss': 0.7699, 'learning_rate': 1.25e-06, 'epoch': 9.75}\n"
     ]
    },
    {
     "data": {
      "application/vnd.jupyter.widget-view+json": {
       "model_id": "144ae4a28dbc43548664b942db3284b7",
       "version_major": 2,
       "version_minor": 0
      },
      "text/plain": [
       "  0%|          | 0/27 [00:00<?, ?it/s]"
      ]
     },
     "metadata": {},
     "output_type": "display_data"
    },
    {
     "name": "stdout",
     "output_type": "stream",
     "text": [
      "{'eval_loss': 0.7279801964759827, 'eval_f1': 0.0, 'eval_runtime': 17.347, 'eval_samples_per_second': 52.516, 'eval_steps_per_second': 1.556, 'epoch': 10.0}\n",
      "{'train_runtime': 914.0154, 'train_samples_per_second': 15.076, 'train_steps_per_second': 0.438, 'train_loss': 0.9590131306648254, 'epoch': 10.0}\n"
     ]
    },
    {
     "data": {
      "application/vnd.jupyter.widget-view+json": {
       "model_id": "cfb21e82783140598619ff96d04a0b32",
       "version_major": 2,
       "version_minor": 0
      },
      "text/plain": [
       "Map:   0%|          | 0/911 [00:00<?, ? examples/s]"
      ]
     },
     "metadata": {},
     "output_type": "display_data"
    },
    {
     "data": {
      "application/vnd.jupyter.widget-view+json": {
       "model_id": "6fc7df8a540344048a11268287db594f",
       "version_major": 2,
       "version_minor": 0
      },
      "text/plain": [
       "Map:   0%|          | 0/1378 [00:00<?, ? examples/s]"
      ]
     },
     "metadata": {},
     "output_type": "display_data"
    },
    {
     "data": {
      "application/vnd.jupyter.widget-view+json": {
       "model_id": "5ce1742bd4c84658b4f615fa982c6f6c",
       "version_major": 2,
       "version_minor": 0
      },
      "text/plain": [
       "Map:   0%|          | 0/911 [00:00<?, ? examples/s]"
      ]
     },
     "metadata": {},
     "output_type": "display_data"
    },
    {
     "data": {
      "application/vnd.jupyter.widget-view+json": {
       "model_id": "1b3a85e29ed241b493f964dfaf319731",
       "version_major": 2,
       "version_minor": 0
      },
      "text/plain": [
       "Map:   0%|          | 0/800 [00:00<?, ? examples/s]"
      ]
     },
     "metadata": {},
     "output_type": "display_data"
    },
    {
     "name": "stdout",
     "output_type": "stream",
     "text": [
      "distilbert-base-uncased_ds_down_sample_lstm_12_e20_ld0001_wF\n"
     ]
    },
    {
     "name": "stderr",
     "output_type": "stream",
     "text": [
      "/Users/tina.vu/work/fun/sentilens_env_wipp/lib/python3.9/site-packages/transformers/optimization.py:391: FutureWarning: This implementation of AdamW is deprecated and will be removed in a future version. Use the PyTorch implementation torch.optim.AdamW instead, or set `no_deprecation_warning=True` to disable this warning\n",
      "  warnings.warn(\n"
     ]
    },
    {
     "data": {
      "application/vnd.jupyter.widget-view+json": {
       "model_id": "94d4a61620ac4864834b5fa2d1801274",
       "version_major": 2,
       "version_minor": 0
      },
      "text/plain": [
       "  0%|          | 0/800 [00:00<?, ?it/s]"
      ]
     },
     "metadata": {},
     "output_type": "display_data"
    },
    {
     "name": "stdout",
     "output_type": "stream",
     "text": [
      "{'loss': 1.4444, 'learning_rate': 4.7562500000000004e-05, 'epoch': 0.97}\n"
     ]
    },
    {
     "data": {
      "application/vnd.jupyter.widget-view+json": {
       "model_id": "8d10e02ea4ee400699fbd95dc8a28e94",
       "version_major": 2,
       "version_minor": 0
      },
      "text/plain": [
       "  0%|          | 0/27 [00:00<?, ?it/s]"
      ]
     },
     "metadata": {},
     "output_type": "display_data"
    },
    {
     "name": "stdout",
     "output_type": "stream",
     "text": [
      "{'eval_loss': 1.209304928779602, 'eval_f1': 0.0, 'eval_runtime': 17.8886, 'eval_samples_per_second': 50.926, 'eval_steps_per_second': 1.509, 'epoch': 1.0}\n",
      "{'loss': 1.1658, 'learning_rate': 4.5125e-05, 'epoch': 1.95}\n"
     ]
    },
    {
     "data": {
      "application/vnd.jupyter.widget-view+json": {
       "model_id": "91b30516baf24c7c81f34760c63623ec",
       "version_major": 2,
       "version_minor": 0
      },
      "text/plain": [
       "  0%|          | 0/27 [00:00<?, ?it/s]"
      ]
     },
     "metadata": {},
     "output_type": "display_data"
    },
    {
     "name": "stdout",
     "output_type": "stream",
     "text": [
      "{'eval_loss': 1.0650442838668823, 'eval_f1': 0.0, 'eval_runtime': 16.9078, 'eval_samples_per_second': 53.88, 'eval_steps_per_second': 1.597, 'epoch': 2.0}\n",
      "{'loss': 1.0469, 'learning_rate': 4.26875e-05, 'epoch': 2.92}\n"
     ]
    },
    {
     "data": {
      "application/vnd.jupyter.widget-view+json": {
       "model_id": "17523314999447cdaf570c1bb32b0522",
       "version_major": 2,
       "version_minor": 0
      },
      "text/plain": [
       "  0%|          | 0/27 [00:00<?, ?it/s]"
      ]
     },
     "metadata": {},
     "output_type": "display_data"
    },
    {
     "name": "stdout",
     "output_type": "stream",
     "text": [
      "{'eval_loss': 0.9557068347930908, 'eval_f1': 0.0, 'eval_runtime': 17.0641, 'eval_samples_per_second': 53.387, 'eval_steps_per_second': 1.582, 'epoch': 3.0}\n",
      "{'loss': 0.9479, 'learning_rate': 4.025e-05, 'epoch': 3.9}\n"
     ]
    },
    {
     "data": {
      "application/vnd.jupyter.widget-view+json": {
       "model_id": "155a2e037c2844efae9a7ce5a7d92249",
       "version_major": 2,
       "version_minor": 0
      },
      "text/plain": [
       "  0%|          | 0/27 [00:00<?, ?it/s]"
      ]
     },
     "metadata": {},
     "output_type": "display_data"
    },
    {
     "name": "stdout",
     "output_type": "stream",
     "text": [
      "{'eval_loss': 0.8634740114212036, 'eval_f1': 0.0, 'eval_runtime': 16.7664, 'eval_samples_per_second': 54.335, 'eval_steps_per_second': 1.61, 'epoch': 4.0}\n",
      "{'loss': 0.8715, 'learning_rate': 3.78125e-05, 'epoch': 4.88}\n"
     ]
    },
    {
     "data": {
      "application/vnd.jupyter.widget-view+json": {
       "model_id": "84ca40c2c3e2424e8d0ba7e82bf5ff9b",
       "version_major": 2,
       "version_minor": 0
      },
      "text/plain": [
       "  0%|          | 0/27 [00:00<?, ?it/s]"
      ]
     },
     "metadata": {},
     "output_type": "display_data"
    },
    {
     "name": "stdout",
     "output_type": "stream",
     "text": [
      "{'eval_loss': 0.7844447493553162, 'eval_f1': 0.0, 'eval_runtime': 17.868, 'eval_samples_per_second': 50.985, 'eval_steps_per_second': 1.511, 'epoch': 5.0}\n",
      "{'loss': 0.8044, 'learning_rate': 3.5375e-05, 'epoch': 5.85}\n"
     ]
    },
    {
     "data": {
      "application/vnd.jupyter.widget-view+json": {
       "model_id": "d4dd6c994821409fa73d77f3cb2e0304",
       "version_major": 2,
       "version_minor": 0
      },
      "text/plain": [
       "  0%|          | 0/27 [00:00<?, ?it/s]"
      ]
     },
     "metadata": {},
     "output_type": "display_data"
    },
    {
     "name": "stdout",
     "output_type": "stream",
     "text": [
      "{'eval_loss': 0.7198536992073059, 'eval_f1': 0.0, 'eval_runtime': 16.7185, 'eval_samples_per_second': 54.49, 'eval_steps_per_second': 1.615, 'epoch': 6.0}\n",
      "{'loss': 0.7465, 'learning_rate': 3.29375e-05, 'epoch': 6.83}\n"
     ]
    },
    {
     "data": {
      "application/vnd.jupyter.widget-view+json": {
       "model_id": "caf3e13fbf6241d8b5b882ac850e8bfc",
       "version_major": 2,
       "version_minor": 0
      },
      "text/plain": [
       "  0%|          | 0/27 [00:00<?, ?it/s]"
      ]
     },
     "metadata": {},
     "output_type": "display_data"
    },
    {
     "name": "stdout",
     "output_type": "stream",
     "text": [
      "{'eval_loss': 0.6666336059570312, 'eval_f1': 0.0, 'eval_runtime': 16.9583, 'eval_samples_per_second': 53.72, 'eval_steps_per_second': 1.592, 'epoch': 7.0}\n",
      "{'loss': 0.698, 'learning_rate': 3.05e-05, 'epoch': 7.8}\n"
     ]
    },
    {
     "data": {
      "application/vnd.jupyter.widget-view+json": {
       "model_id": "9065773974b64fbbb1dda2b3ddd8f598",
       "version_major": 2,
       "version_minor": 0
      },
      "text/plain": [
       "  0%|          | 0/27 [00:00<?, ?it/s]"
      ]
     },
     "metadata": {},
     "output_type": "display_data"
    },
    {
     "name": "stdout",
     "output_type": "stream",
     "text": [
      "{'eval_loss': 0.6214365363121033, 'eval_f1': 0.0, 'eval_runtime': 16.6683, 'eval_samples_per_second': 54.655, 'eval_steps_per_second': 1.62, 'epoch': 8.0}\n",
      "{'loss': 0.6583, 'learning_rate': 2.80625e-05, 'epoch': 8.78}\n"
     ]
    },
    {
     "data": {
      "application/vnd.jupyter.widget-view+json": {
       "model_id": "6e82b4b079cd496a810075e33376da8b",
       "version_major": 2,
       "version_minor": 0
      },
      "text/plain": [
       "  0%|          | 0/27 [00:00<?, ?it/s]"
      ]
     },
     "metadata": {},
     "output_type": "display_data"
    },
    {
     "name": "stdout",
     "output_type": "stream",
     "text": [
      "{'eval_loss': 0.5852837562561035, 'eval_f1': 0.0, 'eval_runtime': 17.0928, 'eval_samples_per_second': 53.297, 'eval_steps_per_second': 1.58, 'epoch': 9.0}\n",
      "{'loss': 0.6244, 'learning_rate': 2.5625e-05, 'epoch': 9.75}\n"
     ]
    },
    {
     "data": {
      "application/vnd.jupyter.widget-view+json": {
       "model_id": "42250275dd6b45ec89161b9477c4bb47",
       "version_major": 2,
       "version_minor": 0
      },
      "text/plain": [
       "  0%|          | 0/27 [00:00<?, ?it/s]"
      ]
     },
     "metadata": {},
     "output_type": "display_data"
    },
    {
     "name": "stdout",
     "output_type": "stream",
     "text": [
      "{'eval_loss': 0.5563048720359802, 'eval_f1': 0.0, 'eval_runtime': 17.3864, 'eval_samples_per_second': 52.397, 'eval_steps_per_second': 1.553, 'epoch': 10.0}\n",
      "{'loss': 0.6029, 'learning_rate': 2.31875e-05, 'epoch': 10.72}\n"
     ]
    },
    {
     "data": {
      "application/vnd.jupyter.widget-view+json": {
       "model_id": "3518a64e956d4f028a6e4b7d59775195",
       "version_major": 2,
       "version_minor": 0
      },
      "text/plain": [
       "  0%|          | 0/27 [00:00<?, ?it/s]"
      ]
     },
     "metadata": {},
     "output_type": "display_data"
    },
    {
     "name": "stdout",
     "output_type": "stream",
     "text": [
      "{'eval_loss': 0.5331260561943054, 'eval_f1': 0.0, 'eval_runtime': 16.9118, 'eval_samples_per_second': 53.868, 'eval_steps_per_second': 1.597, 'epoch': 11.0}\n",
      "{'loss': 0.5753, 'learning_rate': 2.075e-05, 'epoch': 11.7}\n"
     ]
    },
    {
     "data": {
      "application/vnd.jupyter.widget-view+json": {
       "model_id": "1c818fbba713418caa276c597f53636d",
       "version_major": 2,
       "version_minor": 0
      },
      "text/plain": [
       "  0%|          | 0/27 [00:00<?, ?it/s]"
      ]
     },
     "metadata": {},
     "output_type": "display_data"
    },
    {
     "name": "stdout",
     "output_type": "stream",
     "text": [
      "{'eval_loss': 0.5146582126617432, 'eval_f1': 0.0, 'eval_runtime': 15.3301, 'eval_samples_per_second': 59.425, 'eval_steps_per_second': 1.761, 'epoch': 12.0}\n",
      "{'loss': 0.5762, 'learning_rate': 1.83125e-05, 'epoch': 12.68}\n"
     ]
    },
    {
     "data": {
      "application/vnd.jupyter.widget-view+json": {
       "model_id": "08e213d1c4ac4fd385955419c8c8dc99",
       "version_major": 2,
       "version_minor": 0
      },
      "text/plain": [
       "  0%|          | 0/27 [00:00<?, ?it/s]"
      ]
     },
     "metadata": {},
     "output_type": "display_data"
    },
    {
     "name": "stdout",
     "output_type": "stream",
     "text": [
      "{'eval_loss': 0.5000900626182556, 'eval_f1': 0.0, 'eval_runtime': 14.8279, 'eval_samples_per_second': 61.438, 'eval_steps_per_second': 1.821, 'epoch': 13.0}\n",
      "{'loss': 0.5572, 'learning_rate': 1.5875e-05, 'epoch': 13.65}\n"
     ]
    },
    {
     "data": {
      "application/vnd.jupyter.widget-view+json": {
       "model_id": "d74f1306465540a28c1d6fd65280a828",
       "version_major": 2,
       "version_minor": 0
      },
      "text/plain": [
       "  0%|          | 0/27 [00:00<?, ?it/s]"
      ]
     },
     "metadata": {},
     "output_type": "display_data"
    },
    {
     "name": "stdout",
     "output_type": "stream",
     "text": [
      "{'eval_loss': 0.4888235926628113, 'eval_f1': 0.0, 'eval_runtime': 15.9378, 'eval_samples_per_second': 57.16, 'eval_steps_per_second': 1.694, 'epoch': 14.0}\n",
      "{'loss': 0.5313, 'learning_rate': 1.34375e-05, 'epoch': 14.62}\n"
     ]
    },
    {
     "data": {
      "application/vnd.jupyter.widget-view+json": {
       "model_id": "f2359d4b434e4996a11cc55678aa1309",
       "version_major": 2,
       "version_minor": 0
      },
      "text/plain": [
       "  0%|          | 0/27 [00:00<?, ?it/s]"
      ]
     },
     "metadata": {},
     "output_type": "display_data"
    },
    {
     "name": "stdout",
     "output_type": "stream",
     "text": [
      "{'eval_loss': 0.48008304834365845, 'eval_f1': 0.0, 'eval_runtime': 14.9782, 'eval_samples_per_second': 60.822, 'eval_steps_per_second': 1.803, 'epoch': 15.0}\n",
      "{'loss': 0.5469, 'learning_rate': 1.1000000000000001e-05, 'epoch': 15.6}\n"
     ]
    },
    {
     "data": {
      "application/vnd.jupyter.widget-view+json": {
       "model_id": "dd71984afc4649eba94ddec221686ab4",
       "version_major": 2,
       "version_minor": 0
      },
      "text/plain": [
       "  0%|          | 0/27 [00:00<?, ?it/s]"
      ]
     },
     "metadata": {},
     "output_type": "display_data"
    },
    {
     "name": "stdout",
     "output_type": "stream",
     "text": [
      "{'eval_loss': 0.4737832844257355, 'eval_f1': 0.0, 'eval_runtime': 15.2989, 'eval_samples_per_second': 59.547, 'eval_steps_per_second': 1.765, 'epoch': 16.0}\n",
      "{'loss': 0.5254, 'learning_rate': 8.562500000000001e-06, 'epoch': 16.57}\n"
     ]
    },
    {
     "data": {
      "application/vnd.jupyter.widget-view+json": {
       "model_id": "aa2f31ee26bc4a91805c1e2c9405081e",
       "version_major": 2,
       "version_minor": 0
      },
      "text/plain": [
       "  0%|          | 0/27 [00:00<?, ?it/s]"
      ]
     },
     "metadata": {},
     "output_type": "display_data"
    },
    {
     "name": "stdout",
     "output_type": "stream",
     "text": [
      "{'eval_loss': 0.4692218005657196, 'eval_f1': 0.0, 'eval_runtime': 14.9457, 'eval_samples_per_second': 60.954, 'eval_steps_per_second': 1.807, 'epoch': 17.0}\n",
      "{'loss': 0.5188, 'learning_rate': 6.125e-06, 'epoch': 17.55}\n"
     ]
    },
    {
     "data": {
      "application/vnd.jupyter.widget-view+json": {
       "model_id": "8e7e91b5476148ee9bddfd3b53a2328f",
       "version_major": 2,
       "version_minor": 0
      },
      "text/plain": [
       "  0%|          | 0/27 [00:00<?, ?it/s]"
      ]
     },
     "metadata": {},
     "output_type": "display_data"
    },
    {
     "name": "stdout",
     "output_type": "stream",
     "text": [
      "{'eval_loss': 0.4661783277988434, 'eval_f1': 0.0, 'eval_runtime': 16.3753, 'eval_samples_per_second': 55.633, 'eval_steps_per_second': 1.649, 'epoch': 18.0}\n",
      "{'loss': 0.5265, 'learning_rate': 3.6875e-06, 'epoch': 18.52}\n"
     ]
    },
    {
     "data": {
      "application/vnd.jupyter.widget-view+json": {
       "model_id": "1066850ab6b643e49a2e05d7ba882ee9",
       "version_major": 2,
       "version_minor": 0
      },
      "text/plain": [
       "  0%|          | 0/27 [00:00<?, ?it/s]"
      ]
     },
     "metadata": {},
     "output_type": "display_data"
    },
    {
     "name": "stdout",
     "output_type": "stream",
     "text": [
      "{'eval_loss': 0.46446675062179565, 'eval_f1': 0.0, 'eval_runtime': 14.4242, 'eval_samples_per_second': 63.158, 'eval_steps_per_second': 1.872, 'epoch': 19.0}\n",
      "{'loss': 0.521, 'learning_rate': 1.25e-06, 'epoch': 19.5}\n"
     ]
    },
    {
     "data": {
      "application/vnd.jupyter.widget-view+json": {
       "model_id": "ba911c07e0d944798f845a43f4c12de3",
       "version_major": 2,
       "version_minor": 0
      },
      "text/plain": [
       "  0%|          | 0/27 [00:00<?, ?it/s]"
      ]
     },
     "metadata": {},
     "output_type": "display_data"
    },
    {
     "name": "stdout",
     "output_type": "stream",
     "text": [
      "{'eval_loss': 0.46389609575271606, 'eval_f1': 0.0, 'eval_runtime': 14.5481, 'eval_samples_per_second': 62.62, 'eval_steps_per_second': 1.856, 'epoch': 20.0}\n",
      "{'train_runtime': 1852.4159, 'train_samples_per_second': 14.878, 'train_steps_per_second': 0.432, 'train_loss': 0.7194743502140045, 'epoch': 20.0}\n"
     ]
    },
    {
     "data": {
      "application/vnd.jupyter.widget-view+json": {
       "model_id": "a3c913bb694b467e92549d1044e353fa",
       "version_major": 2,
       "version_minor": 0
      },
      "text/plain": [
       "Map:   0%|          | 0/911 [00:00<?, ? examples/s]"
      ]
     },
     "metadata": {},
     "output_type": "display_data"
    },
    {
     "data": {
      "application/vnd.jupyter.widget-view+json": {
       "model_id": "5f706b97dec4467b9642bd9663665e3e",
       "version_major": 2,
       "version_minor": 0
      },
      "text/plain": [
       "Map:   0%|          | 0/2125 [00:00<?, ? examples/s]"
      ]
     },
     "metadata": {},
     "output_type": "display_data"
    },
    {
     "data": {
      "application/vnd.jupyter.widget-view+json": {
       "model_id": "4d05fa58b3574a029bb78da9f09f7f8e",
       "version_major": 2,
       "version_minor": 0
      },
      "text/plain": [
       "Map:   0%|          | 0/911 [00:00<?, ? examples/s]"
      ]
     },
     "metadata": {},
     "output_type": "display_data"
    },
    {
     "data": {
      "application/vnd.jupyter.widget-view+json": {
       "model_id": "dc1a74567c874a41973c26a4272308ec",
       "version_major": 2,
       "version_minor": 0
      },
      "text/plain": [
       "Map:   0%|          | 0/800 [00:00<?, ? examples/s]"
      ]
     },
     "metadata": {},
     "output_type": "display_data"
    },
    {
     "name": "stdout",
     "output_type": "stream",
     "text": [
      "distilbert-base-uncased_ds_normal_lstm_15_e10_ld01_wF\n"
     ]
    },
    {
     "name": "stderr",
     "output_type": "stream",
     "text": [
      "/Users/tina.vu/work/fun/sentilens_env_wipp/lib/python3.9/site-packages/transformers/optimization.py:391: FutureWarning: This implementation of AdamW is deprecated and will be removed in a future version. Use the PyTorch implementation torch.optim.AdamW instead, or set `no_deprecation_warning=True` to disable this warning\n",
      "  warnings.warn(\n"
     ]
    },
    {
     "data": {
      "application/vnd.jupyter.widget-view+json": {
       "model_id": "fce01791290b443ca4db8d9d9f13aefb",
       "version_major": 2,
       "version_minor": 0
      },
      "text/plain": [
       "  0%|          | 0/610 [00:00<?, ?it/s]"
      ]
     },
     "metadata": {},
     "output_type": "display_data"
    },
    {
     "name": "stdout",
     "output_type": "stream",
     "text": [
      "{'loss': 1.3398, 'learning_rate': 4.508196721311476e-05, 'epoch': 0.98}\n"
     ]
    },
    {
     "data": {
      "application/vnd.jupyter.widget-view+json": {
       "model_id": "289db5669cff4a18a541dd5046a37616",
       "version_major": 2,
       "version_minor": 0
      },
      "text/plain": [
       "  0%|          | 0/27 [00:00<?, ?it/s]"
      ]
     },
     "metadata": {},
     "output_type": "display_data"
    },
    {
     "name": "stdout",
     "output_type": "stream",
     "text": [
      "{'eval_loss': 1.132246494293213, 'eval_f1': 0.0, 'eval_runtime': 15.5947, 'eval_samples_per_second': 58.417, 'eval_steps_per_second': 1.731, 'epoch': 1.0}\n",
      "{'loss': 1.0418, 'learning_rate': 4.016393442622951e-05, 'epoch': 1.97}\n"
     ]
    },
    {
     "data": {
      "application/vnd.jupyter.widget-view+json": {
       "model_id": "4c20dac063bf4dfcb9a26c3e75806ab7",
       "version_major": 2,
       "version_minor": 0
      },
      "text/plain": [
       "  0%|          | 0/27 [00:00<?, ?it/s]"
      ]
     },
     "metadata": {},
     "output_type": "display_data"
    },
    {
     "name": "stdout",
     "output_type": "stream",
     "text": [
      "{'eval_loss': 0.961115837097168, 'eval_f1': 0.0, 'eval_runtime': 15.3158, 'eval_samples_per_second': 59.481, 'eval_steps_per_second': 1.763, 'epoch': 2.0}\n",
      "{'loss': 0.8911, 'learning_rate': 3.524590163934427e-05, 'epoch': 2.95}\n"
     ]
    },
    {
     "data": {
      "application/vnd.jupyter.widget-view+json": {
       "model_id": "61a909f8ca15464c93bc3528047e489a",
       "version_major": 2,
       "version_minor": 0
      },
      "text/plain": [
       "  0%|          | 0/27 [00:00<?, ?it/s]"
      ]
     },
     "metadata": {},
     "output_type": "display_data"
    },
    {
     "name": "stdout",
     "output_type": "stream",
     "text": [
      "{'eval_loss': 0.8361011743545532, 'eval_f1': 0.0, 'eval_runtime': 14.8558, 'eval_samples_per_second': 61.323, 'eval_steps_per_second': 1.817, 'epoch': 3.0}\n",
      "{'loss': 0.779, 'learning_rate': 3.0327868852459017e-05, 'epoch': 3.93}\n"
     ]
    },
    {
     "data": {
      "application/vnd.jupyter.widget-view+json": {
       "model_id": "3fea8fb8ea674478b70dc0958c674441",
       "version_major": 2,
       "version_minor": 0
      },
      "text/plain": [
       "  0%|          | 0/27 [00:00<?, ?it/s]"
      ]
     },
     "metadata": {},
     "output_type": "display_data"
    },
    {
     "name": "stdout",
     "output_type": "stream",
     "text": [
      "{'eval_loss': 0.7377026677131653, 'eval_f1': 0.0, 'eval_runtime': 14.3361, 'eval_samples_per_second': 63.546, 'eval_steps_per_second': 1.883, 'epoch': 4.0}\n",
      "{'loss': 0.6903, 'learning_rate': 2.540983606557377e-05, 'epoch': 4.92}\n"
     ]
    },
    {
     "data": {
      "application/vnd.jupyter.widget-view+json": {
       "model_id": "eea33f4990674e5285fd8635bce6388b",
       "version_major": 2,
       "version_minor": 0
      },
      "text/plain": [
       "  0%|          | 0/27 [00:00<?, ?it/s]"
      ]
     },
     "metadata": {},
     "output_type": "display_data"
    },
    {
     "name": "stdout",
     "output_type": "stream",
     "text": [
      "{'eval_loss': 0.6685205698013306, 'eval_f1': 0.0, 'eval_runtime': 14.229, 'eval_samples_per_second': 64.024, 'eval_steps_per_second': 1.898, 'epoch': 5.0}\n",
      "{'loss': 0.6338, 'learning_rate': 2.0491803278688525e-05, 'epoch': 5.9}\n"
     ]
    },
    {
     "data": {
      "application/vnd.jupyter.widget-view+json": {
       "model_id": "5ab1c87913ef42f593918ea071df84f0",
       "version_major": 2,
       "version_minor": 0
      },
      "text/plain": [
       "  0%|          | 0/27 [00:00<?, ?it/s]"
      ]
     },
     "metadata": {},
     "output_type": "display_data"
    },
    {
     "name": "stdout",
     "output_type": "stream",
     "text": [
      "{'eval_loss': 0.6199754476547241, 'eval_f1': 0.0, 'eval_runtime': 14.1706, 'eval_samples_per_second': 64.288, 'eval_steps_per_second': 1.905, 'epoch': 6.0}\n",
      "{'loss': 0.5857, 'learning_rate': 1.557377049180328e-05, 'epoch': 6.89}\n"
     ]
    },
    {
     "data": {
      "application/vnd.jupyter.widget-view+json": {
       "model_id": "2750f08db0ec4471b345133c0868464b",
       "version_major": 2,
       "version_minor": 0
      },
      "text/plain": [
       "  0%|          | 0/27 [00:00<?, ?it/s]"
      ]
     },
     "metadata": {},
     "output_type": "display_data"
    },
    {
     "name": "stdout",
     "output_type": "stream",
     "text": [
      "{'eval_loss': 0.5867698788642883, 'eval_f1': 0.0, 'eval_runtime': 14.3386, 'eval_samples_per_second': 63.535, 'eval_steps_per_second': 1.883, 'epoch': 7.0}\n",
      "{'loss': 0.5596, 'learning_rate': 1.0655737704918032e-05, 'epoch': 7.87}\n"
     ]
    },
    {
     "data": {
      "application/vnd.jupyter.widget-view+json": {
       "model_id": "8acc285823af4467bf0d0c68044a971d",
       "version_major": 2,
       "version_minor": 0
      },
      "text/plain": [
       "  0%|          | 0/27 [00:00<?, ?it/s]"
      ]
     },
     "metadata": {},
     "output_type": "display_data"
    },
    {
     "name": "stdout",
     "output_type": "stream",
     "text": [
      "{'eval_loss': 0.5653645396232605, 'eval_f1': 0.0, 'eval_runtime': 14.1447, 'eval_samples_per_second': 64.406, 'eval_steps_per_second': 1.909, 'epoch': 8.0}\n",
      "{'loss': 0.54, 'learning_rate': 5.737704918032787e-06, 'epoch': 8.85}\n"
     ]
    },
    {
     "data": {
      "application/vnd.jupyter.widget-view+json": {
       "model_id": "7aefd3fef82c44d2ae85c72706e7367d",
       "version_major": 2,
       "version_minor": 0
      },
      "text/plain": [
       "  0%|          | 0/27 [00:00<?, ?it/s]"
      ]
     },
     "metadata": {},
     "output_type": "display_data"
    },
    {
     "name": "stdout",
     "output_type": "stream",
     "text": [
      "{'eval_loss': 0.5533748269081116, 'eval_f1': 0.0, 'eval_runtime': 14.1635, 'eval_samples_per_second': 64.32, 'eval_steps_per_second': 1.906, 'epoch': 9.0}\n",
      "{'loss': 0.5263, 'learning_rate': 8.19672131147541e-07, 'epoch': 9.84}\n"
     ]
    },
    {
     "data": {
      "application/vnd.jupyter.widget-view+json": {
       "model_id": "b77f22bc5a734a3ab08ba28220138fb6",
       "version_major": 2,
       "version_minor": 0
      },
      "text/plain": [
       "  0%|          | 0/27 [00:00<?, ?it/s]"
      ]
     },
     "metadata": {},
     "output_type": "display_data"
    },
    {
     "name": "stdout",
     "output_type": "stream",
     "text": [
      "{'eval_loss': 0.5494852066040039, 'eval_f1': 0.0, 'eval_runtime': 14.3114, 'eval_samples_per_second': 63.656, 'eval_steps_per_second': 1.887, 'epoch': 10.0}\n",
      "{'train_runtime': 1178.0732, 'train_samples_per_second': 18.038, 'train_steps_per_second': 0.518, 'train_loss': 0.7552296896449855, 'epoch': 10.0}\n"
     ]
    },
    {
     "data": {
      "application/vnd.jupyter.widget-view+json": {
       "model_id": "3530a07d30fa415095b1d578d3481323",
       "version_major": 2,
       "version_minor": 0
      },
      "text/plain": [
       "Map:   0%|          | 0/911 [00:00<?, ? examples/s]"
      ]
     },
     "metadata": {},
     "output_type": "display_data"
    },
    {
     "data": {
      "application/vnd.jupyter.widget-view+json": {
       "model_id": "a767ec47440e44e8a759530e2d438cdc",
       "version_major": 2,
       "version_minor": 0
      },
      "text/plain": [
       "Map:   0%|          | 0/2125 [00:00<?, ? examples/s]"
      ]
     },
     "metadata": {},
     "output_type": "display_data"
    },
    {
     "data": {
      "application/vnd.jupyter.widget-view+json": {
       "model_id": "89068964a7554c21bec9831e97c31a79",
       "version_major": 2,
       "version_minor": 0
      },
      "text/plain": [
       "Map:   0%|          | 0/911 [00:00<?, ? examples/s]"
      ]
     },
     "metadata": {},
     "output_type": "display_data"
    },
    {
     "data": {
      "application/vnd.jupyter.widget-view+json": {
       "model_id": "63b381b1d6a5437b9335d41ee7e2b5af",
       "version_major": 2,
       "version_minor": 0
      },
      "text/plain": [
       "Map:   0%|          | 0/800 [00:00<?, ? examples/s]"
      ]
     },
     "metadata": {},
     "output_type": "display_data"
    },
    {
     "name": "stdout",
     "output_type": "stream",
     "text": [
      "distilbert-base-uncased_ds_normal_lstm_15_e10_ld001_wF\n"
     ]
    },
    {
     "name": "stderr",
     "output_type": "stream",
     "text": [
      "/Users/tina.vu/work/fun/sentilens_env_wipp/lib/python3.9/site-packages/transformers/optimization.py:391: FutureWarning: This implementation of AdamW is deprecated and will be removed in a future version. Use the PyTorch implementation torch.optim.AdamW instead, or set `no_deprecation_warning=True` to disable this warning\n",
      "  warnings.warn(\n"
     ]
    },
    {
     "data": {
      "application/vnd.jupyter.widget-view+json": {
       "model_id": "424abcee18a94a57aed5ae7fe6daf43c",
       "version_major": 2,
       "version_minor": 0
      },
      "text/plain": [
       "  0%|          | 0/610 [00:00<?, ?it/s]"
      ]
     },
     "metadata": {},
     "output_type": "display_data"
    },
    {
     "name": "stdout",
     "output_type": "stream",
     "text": [
      "{'loss': 1.3397, 'learning_rate': 4.508196721311476e-05, 'epoch': 0.98}\n"
     ]
    },
    {
     "data": {
      "application/vnd.jupyter.widget-view+json": {
       "model_id": "c44a4769961a410db8e59f387dde1ec7",
       "version_major": 2,
       "version_minor": 0
      },
      "text/plain": [
       "  0%|          | 0/27 [00:00<?, ?it/s]"
      ]
     },
     "metadata": {},
     "output_type": "display_data"
    },
    {
     "name": "stdout",
     "output_type": "stream",
     "text": [
      "{'eval_loss': 1.1320909261703491, 'eval_f1': 0.0, 'eval_runtime': 15.1949, 'eval_samples_per_second': 59.954, 'eval_steps_per_second': 1.777, 'epoch': 1.0}\n",
      "{'loss': 1.0416, 'learning_rate': 4.016393442622951e-05, 'epoch': 1.97}\n"
     ]
    },
    {
     "data": {
      "application/vnd.jupyter.widget-view+json": {
       "model_id": "9dc27bbf7194497c85a908727d9f24c9",
       "version_major": 2,
       "version_minor": 0
      },
      "text/plain": [
       "  0%|          | 0/27 [00:00<?, ?it/s]"
      ]
     },
     "metadata": {},
     "output_type": "display_data"
    },
    {
     "name": "stdout",
     "output_type": "stream",
     "text": [
      "{'eval_loss': 0.9608249664306641, 'eval_f1': 0.0, 'eval_runtime': 15.5701, 'eval_samples_per_second': 58.51, 'eval_steps_per_second': 1.734, 'epoch': 2.0}\n",
      "{'loss': 0.8907, 'learning_rate': 3.524590163934427e-05, 'epoch': 2.95}\n"
     ]
    },
    {
     "data": {
      "application/vnd.jupyter.widget-view+json": {
       "model_id": "97cb77ba77494f71895e402a4171b4fe",
       "version_major": 2,
       "version_minor": 0
      },
      "text/plain": [
       "  0%|          | 0/27 [00:00<?, ?it/s]"
      ]
     },
     "metadata": {},
     "output_type": "display_data"
    },
    {
     "name": "stdout",
     "output_type": "stream",
     "text": [
      "{'eval_loss': 0.835716962814331, 'eval_f1': 0.0, 'eval_runtime': 16.0007, 'eval_samples_per_second': 56.935, 'eval_steps_per_second': 1.687, 'epoch': 3.0}\n",
      "{'loss': 0.7786, 'learning_rate': 3.0327868852459017e-05, 'epoch': 3.93}\n"
     ]
    },
    {
     "data": {
      "application/vnd.jupyter.widget-view+json": {
       "model_id": "e0bfcea7380e4246bd5e0f0a47328a9a",
       "version_major": 2,
       "version_minor": 0
      },
      "text/plain": [
       "  0%|          | 0/27 [00:00<?, ?it/s]"
      ]
     },
     "metadata": {},
     "output_type": "display_data"
    },
    {
     "name": "stdout",
     "output_type": "stream",
     "text": [
      "{'eval_loss': 0.7372533082962036, 'eval_f1': 0.0, 'eval_runtime': 16.6261, 'eval_samples_per_second': 54.793, 'eval_steps_per_second': 1.624, 'epoch': 4.0}\n",
      "{'loss': 0.6898, 'learning_rate': 2.540983606557377e-05, 'epoch': 4.92}\n"
     ]
    },
    {
     "data": {
      "application/vnd.jupyter.widget-view+json": {
       "model_id": "a70d0a154f51409c9001e046e322f67c",
       "version_major": 2,
       "version_minor": 0
      },
      "text/plain": [
       "  0%|          | 0/27 [00:00<?, ?it/s]"
      ]
     },
     "metadata": {},
     "output_type": "display_data"
    },
    {
     "name": "stdout",
     "output_type": "stream",
     "text": [
      "{'eval_loss': 0.6680334806442261, 'eval_f1': 0.0, 'eval_runtime': 16.513, 'eval_samples_per_second': 55.169, 'eval_steps_per_second': 1.635, 'epoch': 5.0}\n",
      "{'loss': 0.6333, 'learning_rate': 2.0491803278688525e-05, 'epoch': 5.9}\n"
     ]
    },
    {
     "data": {
      "application/vnd.jupyter.widget-view+json": {
       "model_id": "97b1642ceee840d9aebe8413258e3d8d",
       "version_major": 2,
       "version_minor": 0
      },
      "text/plain": [
       "  0%|          | 0/27 [00:00<?, ?it/s]"
      ]
     },
     "metadata": {},
     "output_type": "display_data"
    },
    {
     "name": "stdout",
     "output_type": "stream",
     "text": [
      "{'eval_loss': 0.6194727420806885, 'eval_f1': 0.0, 'eval_runtime': 16.3702, 'eval_samples_per_second': 55.65, 'eval_steps_per_second': 1.649, 'epoch': 6.0}\n",
      "{'loss': 0.5852, 'learning_rate': 1.557377049180328e-05, 'epoch': 6.89}\n"
     ]
    },
    {
     "data": {
      "application/vnd.jupyter.widget-view+json": {
       "model_id": "2c496cf261fb4c30b66f1fe190d7d2ff",
       "version_major": 2,
       "version_minor": 0
      },
      "text/plain": [
       "  0%|          | 0/27 [00:00<?, ?it/s]"
      ]
     },
     "metadata": {},
     "output_type": "display_data"
    },
    {
     "name": "stdout",
     "output_type": "stream",
     "text": [
      "{'eval_loss': 0.5862643718719482, 'eval_f1': 0.0, 'eval_runtime': 16.2235, 'eval_samples_per_second': 56.153, 'eval_steps_per_second': 1.664, 'epoch': 7.0}\n",
      "{'loss': 0.5591, 'learning_rate': 1.0655737704918032e-05, 'epoch': 7.87}\n"
     ]
    },
    {
     "data": {
      "application/vnd.jupyter.widget-view+json": {
       "model_id": "6282b1e14d8245dea6d33527c8f0402a",
       "version_major": 2,
       "version_minor": 0
      },
      "text/plain": [
       "  0%|          | 0/27 [00:00<?, ?it/s]"
      ]
     },
     "metadata": {},
     "output_type": "display_data"
    },
    {
     "name": "stdout",
     "output_type": "stream",
     "text": [
      "{'eval_loss': 0.5648615956306458, 'eval_f1': 0.0, 'eval_runtime': 16.2308, 'eval_samples_per_second': 56.128, 'eval_steps_per_second': 1.664, 'epoch': 8.0}\n",
      "{'loss': 0.5395, 'learning_rate': 5.737704918032787e-06, 'epoch': 8.85}\n"
     ]
    },
    {
     "data": {
      "application/vnd.jupyter.widget-view+json": {
       "model_id": "a8d6cdde2aaa421787fdd6c9f49fcc80",
       "version_major": 2,
       "version_minor": 0
      },
      "text/plain": [
       "  0%|          | 0/27 [00:00<?, ?it/s]"
      ]
     },
     "metadata": {},
     "output_type": "display_data"
    },
    {
     "name": "stdout",
     "output_type": "stream",
     "text": [
      "{'eval_loss': 0.5528757572174072, 'eval_f1': 0.0, 'eval_runtime': 16.8539, 'eval_samples_per_second': 54.053, 'eval_steps_per_second': 1.602, 'epoch': 9.0}\n",
      "{'loss': 0.5258, 'learning_rate': 8.19672131147541e-07, 'epoch': 9.84}\n"
     ]
    },
    {
     "data": {
      "application/vnd.jupyter.widget-view+json": {
       "model_id": "02a107b8ca744b7ab074e59095abc5f1",
       "version_major": 2,
       "version_minor": 0
      },
      "text/plain": [
       "  0%|          | 0/27 [00:00<?, ?it/s]"
      ]
     },
     "metadata": {},
     "output_type": "display_data"
    },
    {
     "name": "stdout",
     "output_type": "stream",
     "text": [
      "{'eval_loss': 0.5489872694015503, 'eval_f1': 0.0, 'eval_runtime': 16.7066, 'eval_samples_per_second': 54.529, 'eval_steps_per_second': 1.616, 'epoch': 10.0}\n",
      "{'train_runtime': 1187.7442, 'train_samples_per_second': 17.891, 'train_steps_per_second': 0.514, 'train_loss': 0.754817310708468, 'epoch': 10.0}\n"
     ]
    },
    {
     "data": {
      "application/vnd.jupyter.widget-view+json": {
       "model_id": "68ccadfea6d449d38e3993f222aa9368",
       "version_major": 2,
       "version_minor": 0
      },
      "text/plain": [
       "Map:   0%|          | 0/911 [00:00<?, ? examples/s]"
      ]
     },
     "metadata": {},
     "output_type": "display_data"
    },
    {
     "data": {
      "application/vnd.jupyter.widget-view+json": {
       "model_id": "5c3fc5ff68f04fcbadbb276339f0f885",
       "version_major": 2,
       "version_minor": 0
      },
      "text/plain": [
       "Map:   0%|          | 0/2125 [00:00<?, ? examples/s]"
      ]
     },
     "metadata": {},
     "output_type": "display_data"
    },
    {
     "data": {
      "application/vnd.jupyter.widget-view+json": {
       "model_id": "1dff2744ced74860aa23cfb3d077b9d7",
       "version_major": 2,
       "version_minor": 0
      },
      "text/plain": [
       "Map:   0%|          | 0/911 [00:00<?, ? examples/s]"
      ]
     },
     "metadata": {},
     "output_type": "display_data"
    },
    {
     "data": {
      "application/vnd.jupyter.widget-view+json": {
       "model_id": "3da860800aef41388519b89fdac1743a",
       "version_major": 2,
       "version_minor": 0
      },
      "text/plain": [
       "Map:   0%|          | 0/800 [00:00<?, ? examples/s]"
      ]
     },
     "metadata": {},
     "output_type": "display_data"
    },
    {
     "name": "stdout",
     "output_type": "stream",
     "text": [
      "distilbert-base-uncased_ds_normal_lstm_15_e20_ld0001_wF\n"
     ]
    },
    {
     "name": "stderr",
     "output_type": "stream",
     "text": [
      "/Users/tina.vu/work/fun/sentilens_env_wipp/lib/python3.9/site-packages/transformers/optimization.py:391: FutureWarning: This implementation of AdamW is deprecated and will be removed in a future version. Use the PyTorch implementation torch.optim.AdamW instead, or set `no_deprecation_warning=True` to disable this warning\n",
      "  warnings.warn(\n"
     ]
    },
    {
     "data": {
      "application/vnd.jupyter.widget-view+json": {
       "model_id": "2d09f73ff2c940238a97638d21837dfc",
       "version_major": 2,
       "version_minor": 0
      },
      "text/plain": [
       "  0%|          | 0/1220 [00:00<?, ?it/s]"
      ]
     },
     "metadata": {},
     "output_type": "display_data"
    },
    {
     "name": "stdout",
     "output_type": "stream",
     "text": [
      "{'loss': 1.3377, 'learning_rate': 4.754098360655738e-05, 'epoch': 0.98}\n"
     ]
    },
    {
     "data": {
      "application/vnd.jupyter.widget-view+json": {
       "model_id": "6ab91d6cc28e4e6e83c696764db40f12",
       "version_major": 2,
       "version_minor": 0
      },
      "text/plain": [
       "  0%|          | 0/27 [00:00<?, ?it/s]"
      ]
     },
     "metadata": {},
     "output_type": "display_data"
    },
    {
     "name": "stdout",
     "output_type": "stream",
     "text": [
      "{'eval_loss': 1.1268360614776611, 'eval_f1': 0.0, 'eval_runtime': 14.3059, 'eval_samples_per_second': 63.68, 'eval_steps_per_second': 1.887, 'epoch': 1.0}\n",
      "{'loss': 1.0307, 'learning_rate': 4.508196721311476e-05, 'epoch': 1.97}\n"
     ]
    },
    {
     "data": {
      "application/vnd.jupyter.widget-view+json": {
       "model_id": "2bacf6992a7d4f0b8ecf907a7f01d79a",
       "version_major": 2,
       "version_minor": 0
      },
      "text/plain": [
       "  0%|          | 0/27 [00:00<?, ?it/s]"
      ]
     },
     "metadata": {},
     "output_type": "display_data"
    },
    {
     "name": "stdout",
     "output_type": "stream",
     "text": [
      "{'eval_loss': 0.9430714249610901, 'eval_f1': 0.0, 'eval_runtime': 14.4529, 'eval_samples_per_second': 63.032, 'eval_steps_per_second': 1.868, 'epoch': 2.0}\n",
      "{'loss': 0.8652, 'learning_rate': 4.262295081967213e-05, 'epoch': 2.95}\n"
     ]
    },
    {
     "data": {
      "application/vnd.jupyter.widget-view+json": {
       "model_id": "e092eb4cf06e4d00a9fa6da142821fe4",
       "version_major": 2,
       "version_minor": 0
      },
      "text/plain": [
       "  0%|          | 0/27 [00:00<?, ?it/s]"
      ]
     },
     "metadata": {},
     "output_type": "display_data"
    },
    {
     "name": "stdout",
     "output_type": "stream",
     "text": [
      "{'eval_loss': 0.8006307482719421, 'eval_f1': 0.0, 'eval_runtime': 14.3768, 'eval_samples_per_second': 63.366, 'eval_steps_per_second': 1.878, 'epoch': 3.0}\n",
      "{'loss': 0.735, 'learning_rate': 4.016393442622951e-05, 'epoch': 3.93}\n"
     ]
    },
    {
     "data": {
      "application/vnd.jupyter.widget-view+json": {
       "model_id": "b127893660674445ba72fc74c10afd99",
       "version_major": 2,
       "version_minor": 0
      },
      "text/plain": [
       "  0%|          | 0/27 [00:00<?, ?it/s]"
      ]
     },
     "metadata": {},
     "output_type": "display_data"
    },
    {
     "name": "stdout",
     "output_type": "stream",
     "text": [
      "{'eval_loss': 0.6858651041984558, 'eval_f1': 0.0, 'eval_runtime': 14.4734, 'eval_samples_per_second': 62.943, 'eval_steps_per_second': 1.865, 'epoch': 4.0}\n",
      "{'loss': 0.63, 'learning_rate': 3.7704918032786885e-05, 'epoch': 4.92}\n"
     ]
    },
    {
     "data": {
      "application/vnd.jupyter.widget-view+json": {
       "model_id": "2e3a27e9b8cd4af0b47259fe56b0e005",
       "version_major": 2,
       "version_minor": 0
      },
      "text/plain": [
       "  0%|          | 0/27 [00:00<?, ?it/s]"
      ]
     },
     "metadata": {},
     "output_type": "display_data"
    },
    {
     "name": "stdout",
     "output_type": "stream",
     "text": [
      "{'eval_loss': 0.6020771861076355, 'eval_f1': 0.0, 'eval_runtime': 14.399, 'eval_samples_per_second': 63.268, 'eval_steps_per_second': 1.875, 'epoch': 5.0}\n",
      "{'loss': 0.5595, 'learning_rate': 3.524590163934427e-05, 'epoch': 5.9}\n"
     ]
    },
    {
     "data": {
      "application/vnd.jupyter.widget-view+json": {
       "model_id": "5d0d903fcc354bf1b8de8bc2d375c61c",
       "version_major": 2,
       "version_minor": 0
      },
      "text/plain": [
       "  0%|          | 0/27 [00:00<?, ?it/s]"
      ]
     },
     "metadata": {},
     "output_type": "display_data"
    },
    {
     "name": "stdout",
     "output_type": "stream",
     "text": [
      "{'eval_loss': 0.5411965250968933, 'eval_f1': 0.0, 'eval_runtime': 14.3166, 'eval_samples_per_second': 63.632, 'eval_steps_per_second': 1.886, 'epoch': 6.0}\n",
      "{'loss': 0.4975, 'learning_rate': 3.2786885245901635e-05, 'epoch': 6.89}\n"
     ]
    },
    {
     "data": {
      "application/vnd.jupyter.widget-view+json": {
       "model_id": "6ea7f63954cf46bf95eef4a26d494ae4",
       "version_major": 2,
       "version_minor": 0
      },
      "text/plain": [
       "  0%|          | 0/27 [00:00<?, ?it/s]"
      ]
     },
     "metadata": {},
     "output_type": "display_data"
    },
    {
     "name": "stdout",
     "output_type": "stream",
     "text": [
      "{'eval_loss': 0.4977376461029053, 'eval_f1': 0.0, 'eval_runtime': 14.68, 'eval_samples_per_second': 62.057, 'eval_steps_per_second': 1.839, 'epoch': 7.0}\n",
      "{'loss': 0.4609, 'learning_rate': 3.0327868852459017e-05, 'epoch': 7.87}\n"
     ]
    },
    {
     "data": {
      "application/vnd.jupyter.widget-view+json": {
       "model_id": "05af8cb977964c298b75aca4067ab35b",
       "version_major": 2,
       "version_minor": 0
      },
      "text/plain": [
       "  0%|          | 0/27 [00:00<?, ?it/s]"
      ]
     },
     "metadata": {},
     "output_type": "display_data"
    },
    {
     "name": "stdout",
     "output_type": "stream",
     "text": [
      "{'eval_loss': 0.46745648980140686, 'eval_f1': 0.0, 'eval_runtime': 14.4291, 'eval_samples_per_second': 63.137, 'eval_steps_per_second': 1.871, 'epoch': 8.0}\n",
      "{'loss': 0.4308, 'learning_rate': 2.7868852459016392e-05, 'epoch': 8.85}\n"
     ]
    },
    {
     "data": {
      "application/vnd.jupyter.widget-view+json": {
       "model_id": "beb96430cb094107bdfb15898c795ca4",
       "version_major": 2,
       "version_minor": 0
      },
      "text/plain": [
       "  0%|          | 0/27 [00:00<?, ?it/s]"
      ]
     },
     "metadata": {},
     "output_type": "display_data"
    },
    {
     "name": "stdout",
     "output_type": "stream",
     "text": [
      "{'eval_loss': 0.4477671980857849, 'eval_f1': 0.0, 'eval_runtime': 14.3287, 'eval_samples_per_second': 63.579, 'eval_steps_per_second': 1.884, 'epoch': 9.0}\n",
      "{'loss': 0.4059, 'learning_rate': 2.540983606557377e-05, 'epoch': 9.84}\n"
     ]
    },
    {
     "data": {
      "application/vnd.jupyter.widget-view+json": {
       "model_id": "a77ba17d70c4471f96be4692dcaaad85",
       "version_major": 2,
       "version_minor": 0
      },
      "text/plain": [
       "  0%|          | 0/27 [00:00<?, ?it/s]"
      ]
     },
     "metadata": {},
     "output_type": "display_data"
    },
    {
     "name": "stdout",
     "output_type": "stream",
     "text": [
      "{'eval_loss': 0.4359986484050751, 'eval_f1': 0.0, 'eval_runtime': 16.1315, 'eval_samples_per_second': 56.473, 'eval_steps_per_second': 1.674, 'epoch': 10.0}\n",
      "{'loss': 0.3945, 'learning_rate': 2.295081967213115e-05, 'epoch': 10.82}\n"
     ]
    },
    {
     "data": {
      "application/vnd.jupyter.widget-view+json": {
       "model_id": "14dcc56de7fa4f7a832bc3b9296c53db",
       "version_major": 2,
       "version_minor": 0
      },
      "text/plain": [
       "  0%|          | 0/27 [00:00<?, ?it/s]"
      ]
     },
     "metadata": {},
     "output_type": "display_data"
    },
    {
     "name": "stdout",
     "output_type": "stream",
     "text": [
      "{'eval_loss': 0.42889267206192017, 'eval_f1': 0.0, 'eval_runtime': 14.3658, 'eval_samples_per_second': 63.415, 'eval_steps_per_second': 1.879, 'epoch': 11.0}\n",
      "{'loss': 0.3969, 'learning_rate': 2.0491803278688525e-05, 'epoch': 11.8}\n"
     ]
    },
    {
     "data": {
      "application/vnd.jupyter.widget-view+json": {
       "model_id": "2936d83991054d399201acfe4169f55f",
       "version_major": 2,
       "version_minor": 0
      },
      "text/plain": [
       "  0%|          | 0/27 [00:00<?, ?it/s]"
      ]
     },
     "metadata": {},
     "output_type": "display_data"
    },
    {
     "name": "stdout",
     "output_type": "stream",
     "text": [
      "{'eval_loss': 0.4245545268058777, 'eval_f1': 0.0, 'eval_runtime': 14.3314, 'eval_samples_per_second': 63.567, 'eval_steps_per_second': 1.884, 'epoch': 12.0}\n",
      "{'loss': 0.3907, 'learning_rate': 1.8032786885245903e-05, 'epoch': 12.79}\n"
     ]
    },
    {
     "data": {
      "application/vnd.jupyter.widget-view+json": {
       "model_id": "19ca54a76cef4650ab8c867658258d7e",
       "version_major": 2,
       "version_minor": 0
      },
      "text/plain": [
       "  0%|          | 0/27 [00:00<?, ?it/s]"
      ]
     },
     "metadata": {},
     "output_type": "display_data"
    },
    {
     "name": "stdout",
     "output_type": "stream",
     "text": [
      "{'eval_loss': 0.4216626286506653, 'eval_f1': 0.0, 'eval_runtime': 14.2672, 'eval_samples_per_second': 63.853, 'eval_steps_per_second': 1.892, 'epoch': 13.0}\n",
      "{'loss': 0.38, 'learning_rate': 1.557377049180328e-05, 'epoch': 13.77}\n"
     ]
    },
    {
     "data": {
      "application/vnd.jupyter.widget-view+json": {
       "model_id": "54bda520eea74472b7c2ad8e73f95c18",
       "version_major": 2,
       "version_minor": 0
      },
      "text/plain": [
       "  0%|          | 0/27 [00:00<?, ?it/s]"
      ]
     },
     "metadata": {},
     "output_type": "display_data"
    },
    {
     "name": "stdout",
     "output_type": "stream",
     "text": [
      "{'eval_loss': 0.41965630650520325, 'eval_f1': 0.0, 'eval_runtime': 14.3835, 'eval_samples_per_second': 63.336, 'eval_steps_per_second': 1.877, 'epoch': 14.0}\n",
      "{'loss': 0.3775, 'learning_rate': 1.3114754098360657e-05, 'epoch': 14.75}\n"
     ]
    },
    {
     "data": {
      "application/vnd.jupyter.widget-view+json": {
       "model_id": "64abf5b22a4249708ed050778203081b",
       "version_major": 2,
       "version_minor": 0
      },
      "text/plain": [
       "  0%|          | 0/27 [00:00<?, ?it/s]"
      ]
     },
     "metadata": {},
     "output_type": "display_data"
    },
    {
     "name": "stdout",
     "output_type": "stream",
     "text": [
      "{'eval_loss': 0.41829562187194824, 'eval_f1': 0.0, 'eval_runtime': 14.3382, 'eval_samples_per_second': 63.536, 'eval_steps_per_second': 1.883, 'epoch': 15.0}\n",
      "{'loss': 0.3761, 'learning_rate': 1.0655737704918032e-05, 'epoch': 15.74}\n"
     ]
    },
    {
     "data": {
      "application/vnd.jupyter.widget-view+json": {
       "model_id": "9c2e555cfd0a47bdbf869a10758549e4",
       "version_major": 2,
       "version_minor": 0
      },
      "text/plain": [
       "  0%|          | 0/27 [00:00<?, ?it/s]"
      ]
     },
     "metadata": {},
     "output_type": "display_data"
    },
    {
     "name": "stdout",
     "output_type": "stream",
     "text": [
      "{'eval_loss': 0.4173718988895416, 'eval_f1': 0.0, 'eval_runtime': 15.6072, 'eval_samples_per_second': 58.371, 'eval_steps_per_second': 1.73, 'epoch': 16.0}\n",
      "{'loss': 0.3838, 'learning_rate': 8.196721311475409e-06, 'epoch': 16.72}\n"
     ]
    },
    {
     "data": {
      "application/vnd.jupyter.widget-view+json": {
       "model_id": "e7ce92057be64811b42c6fb83f1ae077",
       "version_major": 2,
       "version_minor": 0
      },
      "text/plain": [
       "  0%|          | 0/27 [00:00<?, ?it/s]"
      ]
     },
     "metadata": {},
     "output_type": "display_data"
    },
    {
     "name": "stdout",
     "output_type": "stream",
     "text": [
      "{'eval_loss': 0.41675227880477905, 'eval_f1': 0.0, 'eval_runtime': 14.4665, 'eval_samples_per_second': 62.973, 'eval_steps_per_second': 1.866, 'epoch': 17.0}\n",
      "{'loss': 0.3727, 'learning_rate': 5.737704918032787e-06, 'epoch': 17.7}\n"
     ]
    },
    {
     "data": {
      "application/vnd.jupyter.widget-view+json": {
       "model_id": "1b29592e2160462eab40e41c328f4bb5",
       "version_major": 2,
       "version_minor": 0
      },
      "text/plain": [
       "  0%|          | 0/27 [00:00<?, ?it/s]"
      ]
     },
     "metadata": {},
     "output_type": "display_data"
    },
    {
     "name": "stdout",
     "output_type": "stream",
     "text": [
      "{'eval_loss': 0.41634446382522583, 'eval_f1': 0.0, 'eval_runtime': 15.0069, 'eval_samples_per_second': 60.705, 'eval_steps_per_second': 1.799, 'epoch': 18.0}\n",
      "{'loss': 0.3796, 'learning_rate': 3.278688524590164e-06, 'epoch': 18.69}\n"
     ]
    },
    {
     "data": {
      "application/vnd.jupyter.widget-view+json": {
       "model_id": "afaaece1d0074523a1cbdc4ba7c62ac5",
       "version_major": 2,
       "version_minor": 0
      },
      "text/plain": [
       "  0%|          | 0/27 [00:00<?, ?it/s]"
      ]
     },
     "metadata": {},
     "output_type": "display_data"
    },
    {
     "name": "stdout",
     "output_type": "stream",
     "text": [
      "{'eval_loss': 0.41611364483833313, 'eval_f1': 0.0, 'eval_runtime': 14.3757, 'eval_samples_per_second': 63.371, 'eval_steps_per_second': 1.878, 'epoch': 19.0}\n",
      "{'loss': 0.3683, 'learning_rate': 8.19672131147541e-07, 'epoch': 19.67}\n"
     ]
    },
    {
     "data": {
      "application/vnd.jupyter.widget-view+json": {
       "model_id": "19fd487effa74ff1b0102d7b14b23391",
       "version_major": 2,
       "version_minor": 0
      },
      "text/plain": [
       "  0%|          | 0/27 [00:00<?, ?it/s]"
      ]
     },
     "metadata": {},
     "output_type": "display_data"
    },
    {
     "name": "stdout",
     "output_type": "stream",
     "text": [
      "{'eval_loss': 0.41603225469589233, 'eval_f1': 0.0, 'eval_runtime': 14.876, 'eval_samples_per_second': 61.24, 'eval_steps_per_second': 1.815, 'epoch': 20.0}\n",
      "{'train_runtime': 4057.8452, 'train_samples_per_second': 10.474, 'train_steps_per_second': 0.301, 'train_loss': 0.5359337822335666, 'epoch': 20.0}\n"
     ]
    },
    {
     "data": {
      "application/vnd.jupyter.widget-view+json": {
       "model_id": "bc55b45c554c4296890c87c035bc001c",
       "version_major": 2,
       "version_minor": 0
      },
      "text/plain": [
       "Map:   0%|          | 0/911 [00:00<?, ? examples/s]"
      ]
     },
     "metadata": {},
     "output_type": "display_data"
    }
   ],
   "source": [
    "weight_decays = [0.1, 0.01, 0.001]\n",
    "model_architectures = {'linear': None\n",
    "                       ,'additional_linear':'additional_linear'\n",
    "                       ,'lstm':'lstm'}\n",
    "epoch = 10\n",
    "\n",
    "trainer_res = pd.DataFrame()\n",
    "batch_size = 35\n",
    "datasets = {'down_sample': downsample_ds\n",
    "            ,'normal': ds\n",
    "            }\n",
    "\n",
    "# Define token weights for loss calculation\n",
    "# flatten_tags = sum(ds['train']['tags'],[])\n",
    "# inverse_weights = Counter(flatten_tags)\n",
    "# inverse_weights = [inverse_weights[x] for x in tags.names]\n",
    "# inverse_weights = 1 / np.array(inverse_weights)\n",
    "\n",
    "token_weights_options = {\n",
    "                        'no_weight': []\n",
    "                        }\n",
    "\n",
    "i = 0\n",
    "for model_architecture in model_architectures:\n",
    "  for dataset in datasets:\n",
    "    model_name_input = '_ds_'+ dataset + '_' + model_architecture + '_' + str(i)\n",
    "    for weight_decay in weight_decays:\n",
    "      if weight_decay < 0.01:\n",
    "        epoch = 20\n",
    "      else:\n",
    "        epoch = 10\n",
    "        \n",
    "      for loss_token_weights in token_weights_options:\n",
    "            # Clear cache\n",
    "        torch.mps.empty_cache()\n",
    "        os.environ['PYTORCH_MPS_HIGH_WATERMARK_RATIO'] = '0.0' # this setting is needed to run NN on my Mac\n",
    "        device = torch.device('mps') # This is required for Mac\n",
    "        \n",
    "        model_name, _, trainer_res_df,_,_, df_validation_metrics = modelTuning.fine_tune_model(datasets[dataset], model_name_input, model_architecture, epoch,batch_size,weight_decay,token_weights_options[loss_token_weights])\n",
    "        trainer_res_df['Model'] = model_name\n",
    "        df_validation_metrics[['input_tokens','predicted_label_txt']].to_csv('models/predictions/'+ model_name +'.csv')\n",
    "        trainer_res = pd.concat([trainer_res, trainer_res_df])\n",
    "        \n",
    "        i += 1\n",
    "modelPerformanceLog = modelTuning.modelPerformanceLog\n",
    "modelTuning.modelPerformanceLog.get_logs()\n",
    "trainer_res_df.to_csv('models/tuning_results.csv')"
   ]
  },
  {
   "cell_type": "code",
   "execution_count": 37,
   "metadata": {},
   "outputs": [
    {
     "data": {
      "text/html": [
       "<div>\n",
       "<style scoped>\n",
       "    .dataframe tbody tr th:only-of-type {\n",
       "        vertical-align: middle;\n",
       "    }\n",
       "\n",
       "    .dataframe tbody tr th {\n",
       "        vertical-align: top;\n",
       "    }\n",
       "\n",
       "    .dataframe thead th {\n",
       "        text-align: right;\n",
       "    }\n",
       "</style>\n",
       "<table border=\"1\" class=\"dataframe\">\n",
       "  <thead>\n",
       "    <tr style=\"text-align: right;\">\n",
       "      <th></th>\n",
       "      <th>sklearn_f1_score</th>\n",
       "      <th>f1</th>\n",
       "    </tr>\n",
       "  </thead>\n",
       "  <tbody>\n",
       "    <tr>\n",
       "      <th>distilbert-base-uncased_ds_down_sample_linear_0_e10_ld01_wF</th>\n",
       "      <td>0.62</td>\n",
       "      <td>0.5458</td>\n",
       "    </tr>\n",
       "    <tr>\n",
       "      <th>distilbert-base-uncased_ds_down_sample_linear_0_e10_ld001_wF</th>\n",
       "      <td>0.62</td>\n",
       "      <td>0.5458</td>\n",
       "    </tr>\n",
       "    <tr>\n",
       "      <th>distilbert-base-uncased_ds_down_sample_linear_0_e20_ld0001_wF</th>\n",
       "      <td>0.62</td>\n",
       "      <td>0.5474</td>\n",
       "    </tr>\n",
       "    <tr>\n",
       "      <th>distilbert-base-uncased_ds_normal_linear_3_e10_ld01_wF</th>\n",
       "      <td>0.61</td>\n",
       "      <td>0.5366</td>\n",
       "    </tr>\n",
       "    <tr>\n",
       "      <th>distilbert-base-uncased_ds_normal_linear_3_e10_ld001_wF</th>\n",
       "      <td>0.61</td>\n",
       "      <td>0.5337</td>\n",
       "    </tr>\n",
       "    <tr>\n",
       "      <th>distilbert-base-uncased_ds_normal_linear_3_e20_ld0001_wF</th>\n",
       "      <td>0.60</td>\n",
       "      <td>0.5475</td>\n",
       "    </tr>\n",
       "    <tr>\n",
       "      <th>distilbert-base-uncased_ds_down_sample_additional_linear_6_e10_ld01_wF</th>\n",
       "      <td>0.14</td>\n",
       "      <td>0.0000</td>\n",
       "    </tr>\n",
       "    <tr>\n",
       "      <th>distilbert-base-uncased_ds_down_sample_additional_linear_6_e10_ld001_wF</th>\n",
       "      <td>0.14</td>\n",
       "      <td>0.0000</td>\n",
       "    </tr>\n",
       "    <tr>\n",
       "      <th>distilbert-base-uncased_ds_down_sample_additional_linear_6_e20_ld0001_wF</th>\n",
       "      <td>0.26</td>\n",
       "      <td>0.1931</td>\n",
       "    </tr>\n",
       "    <tr>\n",
       "      <th>distilbert-base-uncased_ds_normal_additional_linear_9_e10_ld01_wF</th>\n",
       "      <td>0.14</td>\n",
       "      <td>0.0000</td>\n",
       "    </tr>\n",
       "    <tr>\n",
       "      <th>distilbert-base-uncased_ds_normal_additional_linear_9_e10_ld001_wF</th>\n",
       "      <td>0.14</td>\n",
       "      <td>0.0000</td>\n",
       "    </tr>\n",
       "    <tr>\n",
       "      <th>distilbert-base-uncased_ds_normal_additional_linear_9_e20_ld0001_wF</th>\n",
       "      <td>0.34</td>\n",
       "      <td>0.2558</td>\n",
       "    </tr>\n",
       "    <tr>\n",
       "      <th>distilbert-base-uncased_ds_down_sample_lstm_12_e10_ld01_wF</th>\n",
       "      <td>0.14</td>\n",
       "      <td>0.0000</td>\n",
       "    </tr>\n",
       "    <tr>\n",
       "      <th>distilbert-base-uncased_ds_down_sample_lstm_12_e10_ld001_wF</th>\n",
       "      <td>0.14</td>\n",
       "      <td>0.0000</td>\n",
       "    </tr>\n",
       "    <tr>\n",
       "      <th>distilbert-base-uncased_ds_down_sample_lstm_12_e20_ld0001_wF</th>\n",
       "      <td>0.14</td>\n",
       "      <td>0.0000</td>\n",
       "    </tr>\n",
       "    <tr>\n",
       "      <th>distilbert-base-uncased_ds_normal_lstm_15_e10_ld01_wF</th>\n",
       "      <td>0.14</td>\n",
       "      <td>0.0000</td>\n",
       "    </tr>\n",
       "    <tr>\n",
       "      <th>distilbert-base-uncased_ds_normal_lstm_15_e10_ld001_wF</th>\n",
       "      <td>0.14</td>\n",
       "      <td>0.0000</td>\n",
       "    </tr>\n",
       "    <tr>\n",
       "      <th>distilbert-base-uncased_ds_normal_lstm_15_e20_ld0001_wF</th>\n",
       "      <td>0.14</td>\n",
       "      <td>0.0000</td>\n",
       "    </tr>\n",
       "  </tbody>\n",
       "</table>\n",
       "</div>"
      ],
      "text/plain": [
       "                                                    sklearn_f1_score      f1\n",
       "distilbert-base-uncased_ds_down_sample_linear_0...              0.62  0.5458\n",
       "distilbert-base-uncased_ds_down_sample_linear_0...              0.62  0.5458\n",
       "distilbert-base-uncased_ds_down_sample_linear_0...              0.62  0.5474\n",
       "distilbert-base-uncased_ds_normal_linear_3_e10_...              0.61  0.5366\n",
       "distilbert-base-uncased_ds_normal_linear_3_e10_...              0.61  0.5337\n",
       "distilbert-base-uncased_ds_normal_linear_3_e20_...              0.60  0.5475\n",
       "distilbert-base-uncased_ds_down_sample_addition...              0.14  0.0000\n",
       "distilbert-base-uncased_ds_down_sample_addition...              0.14  0.0000\n",
       "distilbert-base-uncased_ds_down_sample_addition...              0.26  0.1931\n",
       "distilbert-base-uncased_ds_normal_additional_li...              0.14  0.0000\n",
       "distilbert-base-uncased_ds_normal_additional_li...              0.14  0.0000\n",
       "distilbert-base-uncased_ds_normal_additional_li...              0.34  0.2558\n",
       "distilbert-base-uncased_ds_down_sample_lstm_12_...              0.14  0.0000\n",
       "distilbert-base-uncased_ds_down_sample_lstm_12_...              0.14  0.0000\n",
       "distilbert-base-uncased_ds_down_sample_lstm_12_...              0.14  0.0000\n",
       "distilbert-base-uncased_ds_normal_lstm_15_e10_l...              0.14  0.0000\n",
       "distilbert-base-uncased_ds_normal_lstm_15_e10_l...              0.14  0.0000\n",
       "distilbert-base-uncased_ds_normal_lstm_15_e20_l...              0.14  0.0000"
      ]
     },
     "execution_count": 37,
     "metadata": {},
     "output_type": "execute_result"
    }
   ],
   "source": [
    "modelTuning.modelPerformanceLog.get_logs()"
   ]
  },
  {
   "cell_type": "code",
   "execution_count": 41,
   "metadata": {},
   "outputs": [
    {
     "data": {
      "text/plain": [
       "array(['distilbert-base-uncased_ds_normal_lstm_15_e20_ld0001_wF'],\n",
       "      dtype=object)"
      ]
     },
     "execution_count": 41,
     "metadata": {},
     "output_type": "execute_result"
    }
   ],
   "source": [
    "trainer_res_df['Model'].unique()"
   ]
  },
  {
   "cell_type": "code",
   "execution_count": 40,
   "metadata": {},
   "outputs": [
    {
     "data": {
      "text/html": [
       "<div>\n",
       "<style scoped>\n",
       "    .dataframe tbody tr th:only-of-type {\n",
       "        vertical-align: middle;\n",
       "    }\n",
       "\n",
       "    .dataframe tbody tr th {\n",
       "        vertical-align: top;\n",
       "    }\n",
       "\n",
       "    .dataframe thead th {\n",
       "        text-align: right;\n",
       "    }\n",
       "</style>\n",
       "<table border=\"1\" class=\"dataframe\">\n",
       "  <thead>\n",
       "    <tr style=\"text-align: right;\">\n",
       "      <th></th>\n",
       "      <th>Model</th>\n",
       "      <th>Epoch</th>\n",
       "      <th>Training Loss</th>\n",
       "      <th>Validation Loss</th>\n",
       "      <th>F1</th>\n",
       "    </tr>\n",
       "  </thead>\n",
       "  <tbody>\n",
       "    <tr>\n",
       "      <th>0</th>\n",
       "      <td>distilbert-base-uncased_ds_normal_lstm_15_e20_...</td>\n",
       "      <td>1</td>\n",
       "      <td>1.3377</td>\n",
       "      <td>1.126836</td>\n",
       "      <td>0.0</td>\n",
       "    </tr>\n",
       "    <tr>\n",
       "      <th>1</th>\n",
       "      <td>distilbert-base-uncased_ds_normal_lstm_15_e20_...</td>\n",
       "      <td>1</td>\n",
       "      <td>1.3377</td>\n",
       "      <td>1.126836</td>\n",
       "      <td>0.0</td>\n",
       "    </tr>\n",
       "    <tr>\n",
       "      <th>2</th>\n",
       "      <td>distilbert-base-uncased_ds_normal_lstm_15_e20_...</td>\n",
       "      <td>2</td>\n",
       "      <td>1.0307</td>\n",
       "      <td>0.943071</td>\n",
       "      <td>0.0</td>\n",
       "    </tr>\n",
       "    <tr>\n",
       "      <th>3</th>\n",
       "      <td>distilbert-base-uncased_ds_normal_lstm_15_e20_...</td>\n",
       "      <td>2</td>\n",
       "      <td>1.0307</td>\n",
       "      <td>0.943071</td>\n",
       "      <td>0.0</td>\n",
       "    </tr>\n",
       "    <tr>\n",
       "      <th>4</th>\n",
       "      <td>distilbert-base-uncased_ds_normal_lstm_15_e20_...</td>\n",
       "      <td>3</td>\n",
       "      <td>0.8652</td>\n",
       "      <td>0.800631</td>\n",
       "      <td>0.0</td>\n",
       "    </tr>\n",
       "    <tr>\n",
       "      <th>5</th>\n",
       "      <td>distilbert-base-uncased_ds_normal_lstm_15_e20_...</td>\n",
       "      <td>3</td>\n",
       "      <td>0.8652</td>\n",
       "      <td>0.800631</td>\n",
       "      <td>0.0</td>\n",
       "    </tr>\n",
       "    <tr>\n",
       "      <th>6</th>\n",
       "      <td>distilbert-base-uncased_ds_normal_lstm_15_e20_...</td>\n",
       "      <td>4</td>\n",
       "      <td>0.7350</td>\n",
       "      <td>0.685865</td>\n",
       "      <td>0.0</td>\n",
       "    </tr>\n",
       "    <tr>\n",
       "      <th>7</th>\n",
       "      <td>distilbert-base-uncased_ds_normal_lstm_15_e20_...</td>\n",
       "      <td>4</td>\n",
       "      <td>0.7350</td>\n",
       "      <td>0.685865</td>\n",
       "      <td>0.0</td>\n",
       "    </tr>\n",
       "    <tr>\n",
       "      <th>8</th>\n",
       "      <td>distilbert-base-uncased_ds_normal_lstm_15_e20_...</td>\n",
       "      <td>5</td>\n",
       "      <td>0.6300</td>\n",
       "      <td>0.602077</td>\n",
       "      <td>0.0</td>\n",
       "    </tr>\n",
       "    <tr>\n",
       "      <th>9</th>\n",
       "      <td>distilbert-base-uncased_ds_normal_lstm_15_e20_...</td>\n",
       "      <td>5</td>\n",
       "      <td>0.6300</td>\n",
       "      <td>0.602077</td>\n",
       "      <td>0.0</td>\n",
       "    </tr>\n",
       "    <tr>\n",
       "      <th>10</th>\n",
       "      <td>distilbert-base-uncased_ds_normal_lstm_15_e20_...</td>\n",
       "      <td>6</td>\n",
       "      <td>0.5595</td>\n",
       "      <td>0.541197</td>\n",
       "      <td>0.0</td>\n",
       "    </tr>\n",
       "    <tr>\n",
       "      <th>11</th>\n",
       "      <td>distilbert-base-uncased_ds_normal_lstm_15_e20_...</td>\n",
       "      <td>6</td>\n",
       "      <td>0.5595</td>\n",
       "      <td>0.541197</td>\n",
       "      <td>0.0</td>\n",
       "    </tr>\n",
       "    <tr>\n",
       "      <th>12</th>\n",
       "      <td>distilbert-base-uncased_ds_normal_lstm_15_e20_...</td>\n",
       "      <td>7</td>\n",
       "      <td>0.4975</td>\n",
       "      <td>0.497738</td>\n",
       "      <td>0.0</td>\n",
       "    </tr>\n",
       "    <tr>\n",
       "      <th>13</th>\n",
       "      <td>distilbert-base-uncased_ds_normal_lstm_15_e20_...</td>\n",
       "      <td>7</td>\n",
       "      <td>0.4975</td>\n",
       "      <td>0.497738</td>\n",
       "      <td>0.0</td>\n",
       "    </tr>\n",
       "    <tr>\n",
       "      <th>14</th>\n",
       "      <td>distilbert-base-uncased_ds_normal_lstm_15_e20_...</td>\n",
       "      <td>8</td>\n",
       "      <td>0.4609</td>\n",
       "      <td>0.467456</td>\n",
       "      <td>0.0</td>\n",
       "    </tr>\n",
       "    <tr>\n",
       "      <th>15</th>\n",
       "      <td>distilbert-base-uncased_ds_normal_lstm_15_e20_...</td>\n",
       "      <td>8</td>\n",
       "      <td>0.4609</td>\n",
       "      <td>0.467456</td>\n",
       "      <td>0.0</td>\n",
       "    </tr>\n",
       "    <tr>\n",
       "      <th>16</th>\n",
       "      <td>distilbert-base-uncased_ds_normal_lstm_15_e20_...</td>\n",
       "      <td>9</td>\n",
       "      <td>0.4308</td>\n",
       "      <td>0.447767</td>\n",
       "      <td>0.0</td>\n",
       "    </tr>\n",
       "    <tr>\n",
       "      <th>17</th>\n",
       "      <td>distilbert-base-uncased_ds_normal_lstm_15_e20_...</td>\n",
       "      <td>9</td>\n",
       "      <td>0.4308</td>\n",
       "      <td>0.447767</td>\n",
       "      <td>0.0</td>\n",
       "    </tr>\n",
       "    <tr>\n",
       "      <th>18</th>\n",
       "      <td>distilbert-base-uncased_ds_normal_lstm_15_e20_...</td>\n",
       "      <td>10</td>\n",
       "      <td>0.4059</td>\n",
       "      <td>0.435999</td>\n",
       "      <td>0.0</td>\n",
       "    </tr>\n",
       "    <tr>\n",
       "      <th>19</th>\n",
       "      <td>distilbert-base-uncased_ds_normal_lstm_15_e20_...</td>\n",
       "      <td>10</td>\n",
       "      <td>0.4059</td>\n",
       "      <td>0.435999</td>\n",
       "      <td>0.0</td>\n",
       "    </tr>\n",
       "    <tr>\n",
       "      <th>20</th>\n",
       "      <td>distilbert-base-uncased_ds_normal_lstm_15_e20_...</td>\n",
       "      <td>11</td>\n",
       "      <td>0.3945</td>\n",
       "      <td>0.428893</td>\n",
       "      <td>0.0</td>\n",
       "    </tr>\n",
       "    <tr>\n",
       "      <th>21</th>\n",
       "      <td>distilbert-base-uncased_ds_normal_lstm_15_e20_...</td>\n",
       "      <td>11</td>\n",
       "      <td>0.3945</td>\n",
       "      <td>0.428893</td>\n",
       "      <td>0.0</td>\n",
       "    </tr>\n",
       "    <tr>\n",
       "      <th>22</th>\n",
       "      <td>distilbert-base-uncased_ds_normal_lstm_15_e20_...</td>\n",
       "      <td>12</td>\n",
       "      <td>0.3969</td>\n",
       "      <td>0.424555</td>\n",
       "      <td>0.0</td>\n",
       "    </tr>\n",
       "    <tr>\n",
       "      <th>23</th>\n",
       "      <td>distilbert-base-uncased_ds_normal_lstm_15_e20_...</td>\n",
       "      <td>12</td>\n",
       "      <td>0.3969</td>\n",
       "      <td>0.424555</td>\n",
       "      <td>0.0</td>\n",
       "    </tr>\n",
       "    <tr>\n",
       "      <th>24</th>\n",
       "      <td>distilbert-base-uncased_ds_normal_lstm_15_e20_...</td>\n",
       "      <td>13</td>\n",
       "      <td>0.3907</td>\n",
       "      <td>0.421663</td>\n",
       "      <td>0.0</td>\n",
       "    </tr>\n",
       "    <tr>\n",
       "      <th>25</th>\n",
       "      <td>distilbert-base-uncased_ds_normal_lstm_15_e20_...</td>\n",
       "      <td>13</td>\n",
       "      <td>0.3907</td>\n",
       "      <td>0.421663</td>\n",
       "      <td>0.0</td>\n",
       "    </tr>\n",
       "    <tr>\n",
       "      <th>26</th>\n",
       "      <td>distilbert-base-uncased_ds_normal_lstm_15_e20_...</td>\n",
       "      <td>14</td>\n",
       "      <td>0.3800</td>\n",
       "      <td>0.419656</td>\n",
       "      <td>0.0</td>\n",
       "    </tr>\n",
       "    <tr>\n",
       "      <th>27</th>\n",
       "      <td>distilbert-base-uncased_ds_normal_lstm_15_e20_...</td>\n",
       "      <td>14</td>\n",
       "      <td>0.3800</td>\n",
       "      <td>0.419656</td>\n",
       "      <td>0.0</td>\n",
       "    </tr>\n",
       "    <tr>\n",
       "      <th>28</th>\n",
       "      <td>distilbert-base-uncased_ds_normal_lstm_15_e20_...</td>\n",
       "      <td>15</td>\n",
       "      <td>0.3775</td>\n",
       "      <td>0.418296</td>\n",
       "      <td>0.0</td>\n",
       "    </tr>\n",
       "    <tr>\n",
       "      <th>29</th>\n",
       "      <td>distilbert-base-uncased_ds_normal_lstm_15_e20_...</td>\n",
       "      <td>15</td>\n",
       "      <td>0.3775</td>\n",
       "      <td>0.418296</td>\n",
       "      <td>0.0</td>\n",
       "    </tr>\n",
       "    <tr>\n",
       "      <th>30</th>\n",
       "      <td>distilbert-base-uncased_ds_normal_lstm_15_e20_...</td>\n",
       "      <td>16</td>\n",
       "      <td>0.3761</td>\n",
       "      <td>0.417372</td>\n",
       "      <td>0.0</td>\n",
       "    </tr>\n",
       "    <tr>\n",
       "      <th>31</th>\n",
       "      <td>distilbert-base-uncased_ds_normal_lstm_15_e20_...</td>\n",
       "      <td>16</td>\n",
       "      <td>0.3761</td>\n",
       "      <td>0.417372</td>\n",
       "      <td>0.0</td>\n",
       "    </tr>\n",
       "    <tr>\n",
       "      <th>32</th>\n",
       "      <td>distilbert-base-uncased_ds_normal_lstm_15_e20_...</td>\n",
       "      <td>17</td>\n",
       "      <td>0.3838</td>\n",
       "      <td>0.416752</td>\n",
       "      <td>0.0</td>\n",
       "    </tr>\n",
       "    <tr>\n",
       "      <th>33</th>\n",
       "      <td>distilbert-base-uncased_ds_normal_lstm_15_e20_...</td>\n",
       "      <td>17</td>\n",
       "      <td>0.3838</td>\n",
       "      <td>0.416752</td>\n",
       "      <td>0.0</td>\n",
       "    </tr>\n",
       "    <tr>\n",
       "      <th>34</th>\n",
       "      <td>distilbert-base-uncased_ds_normal_lstm_15_e20_...</td>\n",
       "      <td>18</td>\n",
       "      <td>0.3727</td>\n",
       "      <td>0.416344</td>\n",
       "      <td>0.0</td>\n",
       "    </tr>\n",
       "    <tr>\n",
       "      <th>35</th>\n",
       "      <td>distilbert-base-uncased_ds_normal_lstm_15_e20_...</td>\n",
       "      <td>18</td>\n",
       "      <td>0.3727</td>\n",
       "      <td>0.416344</td>\n",
       "      <td>0.0</td>\n",
       "    </tr>\n",
       "    <tr>\n",
       "      <th>36</th>\n",
       "      <td>distilbert-base-uncased_ds_normal_lstm_15_e20_...</td>\n",
       "      <td>19</td>\n",
       "      <td>0.3796</td>\n",
       "      <td>0.416114</td>\n",
       "      <td>0.0</td>\n",
       "    </tr>\n",
       "    <tr>\n",
       "      <th>37</th>\n",
       "      <td>distilbert-base-uncased_ds_normal_lstm_15_e20_...</td>\n",
       "      <td>19</td>\n",
       "      <td>0.3796</td>\n",
       "      <td>0.416114</td>\n",
       "      <td>0.0</td>\n",
       "    </tr>\n",
       "    <tr>\n",
       "      <th>38</th>\n",
       "      <td>distilbert-base-uncased_ds_normal_lstm_15_e20_...</td>\n",
       "      <td>20</td>\n",
       "      <td>0.3683</td>\n",
       "      <td>0.416032</td>\n",
       "      <td>0.0</td>\n",
       "    </tr>\n",
       "    <tr>\n",
       "      <th>39</th>\n",
       "      <td>distilbert-base-uncased_ds_normal_lstm_15_e20_...</td>\n",
       "      <td>20</td>\n",
       "      <td>0.3683</td>\n",
       "      <td>0.416032</td>\n",
       "      <td>0.0</td>\n",
       "    </tr>\n",
       "    <tr>\n",
       "      <th>40</th>\n",
       "      <td>distilbert-base-uncased_ds_normal_lstm_15_e20_...</td>\n",
       "      <td>20</td>\n",
       "      <td>0.3683</td>\n",
       "      <td>0.416032</td>\n",
       "      <td>0.0</td>\n",
       "    </tr>\n",
       "  </tbody>\n",
       "</table>\n",
       "</div>"
      ],
      "text/plain": [
       "                                                Model  Epoch  Training Loss  \\\n",
       "0   distilbert-base-uncased_ds_normal_lstm_15_e20_...      1         1.3377   \n",
       "1   distilbert-base-uncased_ds_normal_lstm_15_e20_...      1         1.3377   \n",
       "2   distilbert-base-uncased_ds_normal_lstm_15_e20_...      2         1.0307   \n",
       "3   distilbert-base-uncased_ds_normal_lstm_15_e20_...      2         1.0307   \n",
       "4   distilbert-base-uncased_ds_normal_lstm_15_e20_...      3         0.8652   \n",
       "5   distilbert-base-uncased_ds_normal_lstm_15_e20_...      3         0.8652   \n",
       "6   distilbert-base-uncased_ds_normal_lstm_15_e20_...      4         0.7350   \n",
       "7   distilbert-base-uncased_ds_normal_lstm_15_e20_...      4         0.7350   \n",
       "8   distilbert-base-uncased_ds_normal_lstm_15_e20_...      5         0.6300   \n",
       "9   distilbert-base-uncased_ds_normal_lstm_15_e20_...      5         0.6300   \n",
       "10  distilbert-base-uncased_ds_normal_lstm_15_e20_...      6         0.5595   \n",
       "11  distilbert-base-uncased_ds_normal_lstm_15_e20_...      6         0.5595   \n",
       "12  distilbert-base-uncased_ds_normal_lstm_15_e20_...      7         0.4975   \n",
       "13  distilbert-base-uncased_ds_normal_lstm_15_e20_...      7         0.4975   \n",
       "14  distilbert-base-uncased_ds_normal_lstm_15_e20_...      8         0.4609   \n",
       "15  distilbert-base-uncased_ds_normal_lstm_15_e20_...      8         0.4609   \n",
       "16  distilbert-base-uncased_ds_normal_lstm_15_e20_...      9         0.4308   \n",
       "17  distilbert-base-uncased_ds_normal_lstm_15_e20_...      9         0.4308   \n",
       "18  distilbert-base-uncased_ds_normal_lstm_15_e20_...     10         0.4059   \n",
       "19  distilbert-base-uncased_ds_normal_lstm_15_e20_...     10         0.4059   \n",
       "20  distilbert-base-uncased_ds_normal_lstm_15_e20_...     11         0.3945   \n",
       "21  distilbert-base-uncased_ds_normal_lstm_15_e20_...     11         0.3945   \n",
       "22  distilbert-base-uncased_ds_normal_lstm_15_e20_...     12         0.3969   \n",
       "23  distilbert-base-uncased_ds_normal_lstm_15_e20_...     12         0.3969   \n",
       "24  distilbert-base-uncased_ds_normal_lstm_15_e20_...     13         0.3907   \n",
       "25  distilbert-base-uncased_ds_normal_lstm_15_e20_...     13         0.3907   \n",
       "26  distilbert-base-uncased_ds_normal_lstm_15_e20_...     14         0.3800   \n",
       "27  distilbert-base-uncased_ds_normal_lstm_15_e20_...     14         0.3800   \n",
       "28  distilbert-base-uncased_ds_normal_lstm_15_e20_...     15         0.3775   \n",
       "29  distilbert-base-uncased_ds_normal_lstm_15_e20_...     15         0.3775   \n",
       "30  distilbert-base-uncased_ds_normal_lstm_15_e20_...     16         0.3761   \n",
       "31  distilbert-base-uncased_ds_normal_lstm_15_e20_...     16         0.3761   \n",
       "32  distilbert-base-uncased_ds_normal_lstm_15_e20_...     17         0.3838   \n",
       "33  distilbert-base-uncased_ds_normal_lstm_15_e20_...     17         0.3838   \n",
       "34  distilbert-base-uncased_ds_normal_lstm_15_e20_...     18         0.3727   \n",
       "35  distilbert-base-uncased_ds_normal_lstm_15_e20_...     18         0.3727   \n",
       "36  distilbert-base-uncased_ds_normal_lstm_15_e20_...     19         0.3796   \n",
       "37  distilbert-base-uncased_ds_normal_lstm_15_e20_...     19         0.3796   \n",
       "38  distilbert-base-uncased_ds_normal_lstm_15_e20_...     20         0.3683   \n",
       "39  distilbert-base-uncased_ds_normal_lstm_15_e20_...     20         0.3683   \n",
       "40  distilbert-base-uncased_ds_normal_lstm_15_e20_...     20         0.3683   \n",
       "\n",
       "    Validation Loss   F1  \n",
       "0          1.126836  0.0  \n",
       "1          1.126836  0.0  \n",
       "2          0.943071  0.0  \n",
       "3          0.943071  0.0  \n",
       "4          0.800631  0.0  \n",
       "5          0.800631  0.0  \n",
       "6          0.685865  0.0  \n",
       "7          0.685865  0.0  \n",
       "8          0.602077  0.0  \n",
       "9          0.602077  0.0  \n",
       "10         0.541197  0.0  \n",
       "11         0.541197  0.0  \n",
       "12         0.497738  0.0  \n",
       "13         0.497738  0.0  \n",
       "14         0.467456  0.0  \n",
       "15         0.467456  0.0  \n",
       "16         0.447767  0.0  \n",
       "17         0.447767  0.0  \n",
       "18         0.435999  0.0  \n",
       "19         0.435999  0.0  \n",
       "20         0.428893  0.0  \n",
       "21         0.428893  0.0  \n",
       "22         0.424555  0.0  \n",
       "23         0.424555  0.0  \n",
       "24         0.421663  0.0  \n",
       "25         0.421663  0.0  \n",
       "26         0.419656  0.0  \n",
       "27         0.419656  0.0  \n",
       "28         0.418296  0.0  \n",
       "29         0.418296  0.0  \n",
       "30         0.417372  0.0  \n",
       "31         0.417372  0.0  \n",
       "32         0.416752  0.0  \n",
       "33         0.416752  0.0  \n",
       "34         0.416344  0.0  \n",
       "35         0.416344  0.0  \n",
       "36         0.416114  0.0  \n",
       "37         0.416114  0.0  \n",
       "38         0.416032  0.0  \n",
       "39         0.416032  0.0  \n",
       "40         0.416032  0.0  "
      ]
     },
     "execution_count": 40,
     "metadata": {},
     "output_type": "execute_result"
    }
   ],
   "source": [
    "trainer_res_df[['Model','Epoch','Training Loss','Validation Loss','F1']].sort_values(by=['Model','Epoch'])"
   ]
  },
  {
   "cell_type": "code",
   "execution_count": 42,
   "metadata": {},
   "outputs": [
    {
     "data": {
      "application/vnd.jupyter.widget-view+json": {
       "model_id": "7474fcf6f1ba42328f6322f2e4dc7bec",
       "version_major": 2,
       "version_minor": 0
      },
      "text/plain": [
       "Map:   0%|          | 0/1378 [00:00<?, ? examples/s]"
      ]
     },
     "metadata": {},
     "output_type": "display_data"
    },
    {
     "data": {
      "application/vnd.jupyter.widget-view+json": {
       "model_id": "1cd4c749c66c4b75a71cef6847207a65",
       "version_major": 2,
       "version_minor": 0
      },
      "text/plain": [
       "Map:   0%|          | 0/911 [00:00<?, ? examples/s]"
      ]
     },
     "metadata": {},
     "output_type": "display_data"
    },
    {
     "data": {
      "application/vnd.jupyter.widget-view+json": {
       "model_id": "96738eb07c804dc0aa2fe245b4dbcab2",
       "version_major": 2,
       "version_minor": 0
      },
      "text/plain": [
       "Map:   0%|          | 0/800 [00:00<?, ? examples/s]"
      ]
     },
     "metadata": {},
     "output_type": "display_data"
    },
    {
     "name": "stdout",
     "output_type": "stream",
     "text": [
      "distilbert-base-uncased_ds_down_sample_linear_0_e35_ld001_wF\n"
     ]
    },
    {
     "name": "stderr",
     "output_type": "stream",
     "text": [
      "/Users/tina.vu/work/fun/sentilens_env_wipp/lib/python3.9/site-packages/transformers/optimization.py:391: FutureWarning: This implementation of AdamW is deprecated and will be removed in a future version. Use the PyTorch implementation torch.optim.AdamW instead, or set `no_deprecation_warning=True` to disable this warning\n",
      "  warnings.warn(\n"
     ]
    },
    {
     "data": {
      "application/vnd.jupyter.widget-view+json": {
       "model_id": "9c0cf13fdd8f487daefc8ec7a5e743b8",
       "version_major": 2,
       "version_minor": 0
      },
      "text/plain": [
       "  0%|          | 0/1400 [00:00<?, ?it/s]"
      ]
     },
     "metadata": {},
     "output_type": "display_data"
    },
    {
     "name": "stdout",
     "output_type": "stream",
     "text": [
      "{'loss': 0.4716, 'learning_rate': 4.860714285714286e-05, 'epoch': 0.97}\n"
     ]
    },
    {
     "data": {
      "application/vnd.jupyter.widget-view+json": {
       "model_id": "010091a5ca7a4a52b729d372d1eb6b16",
       "version_major": 2,
       "version_minor": 0
      },
      "text/plain": [
       "  0%|          | 0/27 [00:00<?, ?it/s]"
      ]
     },
     "metadata": {},
     "output_type": "display_data"
    },
    {
     "name": "stdout",
     "output_type": "stream",
     "text": [
      "{'eval_loss': 0.21135777235031128, 'eval_f1': 0.19464706807400564, 'eval_runtime': 18.1028, 'eval_samples_per_second': 50.324, 'eval_steps_per_second': 1.491, 'epoch': 1.0}\n",
      "{'loss': 0.1926, 'learning_rate': 4.721428571428572e-05, 'epoch': 1.95}\n"
     ]
    },
    {
     "data": {
      "application/vnd.jupyter.widget-view+json": {
       "model_id": "2c5111cc04ef4b6194acecebf0788edb",
       "version_major": 2,
       "version_minor": 0
      },
      "text/plain": [
       "  0%|          | 0/27 [00:00<?, ?it/s]"
      ]
     },
     "metadata": {},
     "output_type": "display_data"
    },
    {
     "name": "stdout",
     "output_type": "stream",
     "text": [
      "{'eval_loss': 0.16501115262508392, 'eval_f1': 0.3383700914470145, 'eval_runtime': 16.8217, 'eval_samples_per_second': 54.156, 'eval_steps_per_second': 1.605, 'epoch': 2.0}\n",
      "{'loss': 0.1155, 'learning_rate': 4.582142857142858e-05, 'epoch': 2.92}\n"
     ]
    },
    {
     "data": {
      "application/vnd.jupyter.widget-view+json": {
       "model_id": "fd07846cea72480b831595879ac9d96f",
       "version_major": 2,
       "version_minor": 0
      },
      "text/plain": [
       "  0%|          | 0/27 [00:00<?, ?it/s]"
      ]
     },
     "metadata": {},
     "output_type": "display_data"
    },
    {
     "name": "stdout",
     "output_type": "stream",
     "text": [
      "{'eval_loss': 0.16235391795635223, 'eval_f1': 0.4545104811960032, 'eval_runtime': 16.9784, 'eval_samples_per_second': 53.656, 'eval_steps_per_second': 1.59, 'epoch': 3.0}\n",
      "{'loss': 0.0727, 'learning_rate': 4.442857142857143e-05, 'epoch': 3.9}\n"
     ]
    },
    {
     "data": {
      "application/vnd.jupyter.widget-view+json": {
       "model_id": "f3fb5ca3291f4142af85502d31bc116f",
       "version_major": 2,
       "version_minor": 0
      },
      "text/plain": [
       "  0%|          | 0/27 [00:00<?, ?it/s]"
      ]
     },
     "metadata": {},
     "output_type": "display_data"
    },
    {
     "name": "stdout",
     "output_type": "stream",
     "text": [
      "{'eval_loss': 0.16621273756027222, 'eval_f1': 0.4523689836751285, 'eval_runtime': 16.6616, 'eval_samples_per_second': 54.677, 'eval_steps_per_second': 1.62, 'epoch': 4.0}\n",
      "{'loss': 0.0439, 'learning_rate': 4.303571428571429e-05, 'epoch': 4.88}\n"
     ]
    },
    {
     "data": {
      "application/vnd.jupyter.widget-view+json": {
       "model_id": "48fcd8a5214e4f9891bd038d1dc017f4",
       "version_major": 2,
       "version_minor": 0
      },
      "text/plain": [
       "  0%|          | 0/27 [00:00<?, ?it/s]"
      ]
     },
     "metadata": {},
     "output_type": "display_data"
    },
    {
     "name": "stdout",
     "output_type": "stream",
     "text": [
      "{'eval_loss': 0.18072594702243805, 'eval_f1': 0.49369439892685, 'eval_runtime': 17.1188, 'eval_samples_per_second': 53.216, 'eval_steps_per_second': 1.577, 'epoch': 5.0}\n",
      "{'loss': 0.0279, 'learning_rate': 4.1642857142857144e-05, 'epoch': 5.85}\n"
     ]
    },
    {
     "data": {
      "application/vnd.jupyter.widget-view+json": {
       "model_id": "c1af9f2e759f4828a3a81a0f0020692e",
       "version_major": 2,
       "version_minor": 0
      },
      "text/plain": [
       "  0%|          | 0/27 [00:00<?, ?it/s]"
      ]
     },
     "metadata": {},
     "output_type": "display_data"
    },
    {
     "name": "stdout",
     "output_type": "stream",
     "text": [
      "{'eval_loss': 0.1927441656589508, 'eval_f1': 0.5201579351365729, 'eval_runtime': 16.9889, 'eval_samples_per_second': 53.623, 'eval_steps_per_second': 1.589, 'epoch': 6.0}\n",
      "{'loss': 0.0163, 'learning_rate': 4.025e-05, 'epoch': 6.83}\n"
     ]
    },
    {
     "data": {
      "application/vnd.jupyter.widget-view+json": {
       "model_id": "dedddd1bb9c14c00a047c334eeee55da",
       "version_major": 2,
       "version_minor": 0
      },
      "text/plain": [
       "  0%|          | 0/27 [00:00<?, ?it/s]"
      ]
     },
     "metadata": {},
     "output_type": "display_data"
    },
    {
     "name": "stdout",
     "output_type": "stream",
     "text": [
      "{'eval_loss': 0.20345303416252136, 'eval_f1': 0.5052949095150135, 'eval_runtime': 16.5388, 'eval_samples_per_second': 55.083, 'eval_steps_per_second': 1.633, 'epoch': 7.0}\n",
      "{'loss': 0.0116, 'learning_rate': 3.885714285714286e-05, 'epoch': 7.8}\n"
     ]
    },
    {
     "data": {
      "application/vnd.jupyter.widget-view+json": {
       "model_id": "8c3424dfdbb5460d8431432ce51589c2",
       "version_major": 2,
       "version_minor": 0
      },
      "text/plain": [
       "  0%|          | 0/27 [00:00<?, ?it/s]"
      ]
     },
     "metadata": {},
     "output_type": "display_data"
    },
    {
     "name": "stdout",
     "output_type": "stream",
     "text": [
      "{'eval_loss': 0.21279852092266083, 'eval_f1': 0.49814858178078275, 'eval_runtime': 17.5429, 'eval_samples_per_second': 51.93, 'eval_steps_per_second': 1.539, 'epoch': 8.0}\n",
      "{'loss': 0.0077, 'learning_rate': 3.746428571428572e-05, 'epoch': 8.78}\n"
     ]
    },
    {
     "data": {
      "application/vnd.jupyter.widget-view+json": {
       "model_id": "dce61532190144219ed5894e2d62efc3",
       "version_major": 2,
       "version_minor": 0
      },
      "text/plain": [
       "  0%|          | 0/27 [00:00<?, ?it/s]"
      ]
     },
     "metadata": {},
     "output_type": "display_data"
    },
    {
     "name": "stdout",
     "output_type": "stream",
     "text": [
      "{'eval_loss': 0.2331807166337967, 'eval_f1': 0.48622571667882514, 'eval_runtime': 17.1766, 'eval_samples_per_second': 53.037, 'eval_steps_per_second': 1.572, 'epoch': 9.0}\n",
      "{'loss': 0.0081, 'learning_rate': 3.607142857142857e-05, 'epoch': 9.75}\n"
     ]
    },
    {
     "data": {
      "application/vnd.jupyter.widget-view+json": {
       "model_id": "dae33b89b43946e791e2717bbb43580e",
       "version_major": 2,
       "version_minor": 0
      },
      "text/plain": [
       "  0%|          | 0/27 [00:00<?, ?it/s]"
      ]
     },
     "metadata": {},
     "output_type": "display_data"
    },
    {
     "name": "stdout",
     "output_type": "stream",
     "text": [
      "{'eval_loss': 0.22216306626796722, 'eval_f1': 0.48759755584176584, 'eval_runtime': 17.4358, 'eval_samples_per_second': 52.249, 'eval_steps_per_second': 1.549, 'epoch': 10.0}\n",
      "{'loss': 0.0058, 'learning_rate': 3.4678571428571435e-05, 'epoch': 10.72}\n"
     ]
    },
    {
     "data": {
      "application/vnd.jupyter.widget-view+json": {
       "model_id": "4bd124c385ea43f6b34f9ad724099c26",
       "version_major": 2,
       "version_minor": 0
      },
      "text/plain": [
       "  0%|          | 0/27 [00:00<?, ?it/s]"
      ]
     },
     "metadata": {},
     "output_type": "display_data"
    },
    {
     "name": "stdout",
     "output_type": "stream",
     "text": [
      "{'eval_loss': 0.22459612786769867, 'eval_f1': 0.5150194026274718, 'eval_runtime': 16.7673, 'eval_samples_per_second': 54.332, 'eval_steps_per_second': 1.61, 'epoch': 11.0}\n",
      "{'loss': 0.0051, 'learning_rate': 3.3285714285714286e-05, 'epoch': 11.7}\n"
     ]
    },
    {
     "data": {
      "application/vnd.jupyter.widget-view+json": {
       "model_id": "0453ced8cd904472801ffad4d953935d",
       "version_major": 2,
       "version_minor": 0
      },
      "text/plain": [
       "  0%|          | 0/27 [00:00<?, ?it/s]"
      ]
     },
     "metadata": {},
     "output_type": "display_data"
    },
    {
     "name": "stdout",
     "output_type": "stream",
     "text": [
      "{'eval_loss': 0.23175440728664398, 'eval_f1': 0.49955008265846995, 'eval_runtime': 17.2942, 'eval_samples_per_second': 52.677, 'eval_steps_per_second': 1.561, 'epoch': 12.0}\n",
      "{'loss': 0.0031, 'learning_rate': 3.1892857142857145e-05, 'epoch': 12.68}\n"
     ]
    },
    {
     "data": {
      "application/vnd.jupyter.widget-view+json": {
       "model_id": "fc14e81e083d48d5b9f4b9686583a595",
       "version_major": 2,
       "version_minor": 0
      },
      "text/plain": [
       "  0%|          | 0/27 [00:00<?, ?it/s]"
      ]
     },
     "metadata": {},
     "output_type": "display_data"
    },
    {
     "name": "stdout",
     "output_type": "stream",
     "text": [
      "{'eval_loss': 0.24317745864391327, 'eval_f1': 0.4916060832540654, 'eval_runtime': 16.8236, 'eval_samples_per_second': 54.15, 'eval_steps_per_second': 1.605, 'epoch': 13.0}\n",
      "{'loss': 0.0023, 'learning_rate': 3.05e-05, 'epoch': 13.65}\n"
     ]
    },
    {
     "data": {
      "application/vnd.jupyter.widget-view+json": {
       "model_id": "43b12897b81d40e2b8ff1b582e043acc",
       "version_major": 2,
       "version_minor": 0
      },
      "text/plain": [
       "  0%|          | 0/27 [00:00<?, ?it/s]"
      ]
     },
     "metadata": {},
     "output_type": "display_data"
    },
    {
     "name": "stdout",
     "output_type": "stream",
     "text": [
      "{'eval_loss': 0.24118798971176147, 'eval_f1': 0.5140454748610326, 'eval_runtime': 17.9561, 'eval_samples_per_second': 50.735, 'eval_steps_per_second': 1.504, 'epoch': 14.0}\n",
      "{'loss': 0.0037, 'learning_rate': 2.910714285714286e-05, 'epoch': 14.62}\n"
     ]
    },
    {
     "data": {
      "application/vnd.jupyter.widget-view+json": {
       "model_id": "556d17c535d64028ad48fc6cca999967",
       "version_major": 2,
       "version_minor": 0
      },
      "text/plain": [
       "  0%|          | 0/27 [00:00<?, ?it/s]"
      ]
     },
     "metadata": {},
     "output_type": "display_data"
    },
    {
     "name": "stdout",
     "output_type": "stream",
     "text": [
      "{'eval_loss': 0.24351631104946136, 'eval_f1': 0.5000655187776817, 'eval_runtime': 15.3399, 'eval_samples_per_second': 59.387, 'eval_steps_per_second': 1.76, 'epoch': 15.0}\n",
      "{'loss': 0.0025, 'learning_rate': 2.7714285714285716e-05, 'epoch': 15.6}\n"
     ]
    },
    {
     "data": {
      "application/vnd.jupyter.widget-view+json": {
       "model_id": "d9326dea59c74637b49893c70bc379b6",
       "version_major": 2,
       "version_minor": 0
      },
      "text/plain": [
       "  0%|          | 0/27 [00:00<?, ?it/s]"
      ]
     },
     "metadata": {},
     "output_type": "display_data"
    },
    {
     "name": "stdout",
     "output_type": "stream",
     "text": [
      "{'eval_loss': 0.2365322709083557, 'eval_f1': 0.5168906681876355, 'eval_runtime': 19.1326, 'eval_samples_per_second': 47.615, 'eval_steps_per_second': 1.411, 'epoch': 16.0}\n",
      "{'loss': 0.002, 'learning_rate': 2.6321428571428574e-05, 'epoch': 16.57}\n"
     ]
    },
    {
     "data": {
      "application/vnd.jupyter.widget-view+json": {
       "model_id": "fda00b2d015e469f862d0196848b6e97",
       "version_major": 2,
       "version_minor": 0
      },
      "text/plain": [
       "  0%|          | 0/27 [00:00<?, ?it/s]"
      ]
     },
     "metadata": {},
     "output_type": "display_data"
    },
    {
     "name": "stdout",
     "output_type": "stream",
     "text": [
      "{'eval_loss': 0.24223655462265015, 'eval_f1': 0.5303938336851168, 'eval_runtime': 16.8288, 'eval_samples_per_second': 54.133, 'eval_steps_per_second': 1.604, 'epoch': 17.0}\n",
      "{'loss': 0.0022, 'learning_rate': 2.492857142857143e-05, 'epoch': 17.55}\n"
     ]
    },
    {
     "data": {
      "application/vnd.jupyter.widget-view+json": {
       "model_id": "4a1c560e57874bcbaa1def23370c6c45",
       "version_major": 2,
       "version_minor": 0
      },
      "text/plain": [
       "  0%|          | 0/27 [00:00<?, ?it/s]"
      ]
     },
     "metadata": {},
     "output_type": "display_data"
    },
    {
     "name": "stdout",
     "output_type": "stream",
     "text": [
      "{'eval_loss': 0.24293597042560577, 'eval_f1': 0.5170219798558731, 'eval_runtime': 15.676, 'eval_samples_per_second': 58.114, 'eval_steps_per_second': 1.722, 'epoch': 18.0}\n",
      "{'loss': 0.0026, 'learning_rate': 2.3535714285714287e-05, 'epoch': 18.52}\n"
     ]
    },
    {
     "data": {
      "application/vnd.jupyter.widget-view+json": {
       "model_id": "c0aed9e2f657417db134a468dd7fc149",
       "version_major": 2,
       "version_minor": 0
      },
      "text/plain": [
       "  0%|          | 0/27 [00:00<?, ?it/s]"
      ]
     },
     "metadata": {},
     "output_type": "display_data"
    },
    {
     "name": "stdout",
     "output_type": "stream",
     "text": [
      "{'eval_loss': 0.2570793330669403, 'eval_f1': 0.5214818613972351, 'eval_runtime': 16.1363, 'eval_samples_per_second': 56.457, 'eval_steps_per_second': 1.673, 'epoch': 19.0}\n",
      "{'loss': 0.0016, 'learning_rate': 2.214285714285714e-05, 'epoch': 19.5}\n"
     ]
    },
    {
     "data": {
      "application/vnd.jupyter.widget-view+json": {
       "model_id": "4c725a268fec4e86b70361525e181d19",
       "version_major": 2,
       "version_minor": 0
      },
      "text/plain": [
       "  0%|          | 0/27 [00:00<?, ?it/s]"
      ]
     },
     "metadata": {},
     "output_type": "display_data"
    },
    {
     "name": "stdout",
     "output_type": "stream",
     "text": [
      "{'eval_loss': 0.26062366366386414, 'eval_f1': 0.5140508142937528, 'eval_runtime': 16.6881, 'eval_samples_per_second': 54.59, 'eval_steps_per_second': 1.618, 'epoch': 20.0}\n",
      "{'loss': 0.0018, 'learning_rate': 2.075e-05, 'epoch': 20.48}\n"
     ]
    },
    {
     "data": {
      "application/vnd.jupyter.widget-view+json": {
       "model_id": "87f3d632fbcf4d3ba053f8c00c12630c",
       "version_major": 2,
       "version_minor": 0
      },
      "text/plain": [
       "  0%|          | 0/27 [00:00<?, ?it/s]"
      ]
     },
     "metadata": {},
     "output_type": "display_data"
    },
    {
     "name": "stdout",
     "output_type": "stream",
     "text": [
      "{'eval_loss': 0.2536630928516388, 'eval_f1': 0.5175818597113288, 'eval_runtime': 17.7224, 'eval_samples_per_second': 51.404, 'eval_steps_per_second': 1.523, 'epoch': 21.0}\n",
      "{'loss': 0.0016, 'learning_rate': 1.9357142857142858e-05, 'epoch': 21.45}\n"
     ]
    },
    {
     "data": {
      "application/vnd.jupyter.widget-view+json": {
       "model_id": "f9d0d7c9fafc4e84bce38b5528f97264",
       "version_major": 2,
       "version_minor": 0
      },
      "text/plain": [
       "  0%|          | 0/27 [00:00<?, ?it/s]"
      ]
     },
     "metadata": {},
     "output_type": "display_data"
    },
    {
     "name": "stdout",
     "output_type": "stream",
     "text": [
      "{'eval_loss': 0.2509180009365082, 'eval_f1': 0.5204066490495496, 'eval_runtime': 16.3776, 'eval_samples_per_second': 55.625, 'eval_steps_per_second': 1.649, 'epoch': 22.0}\n",
      "{'loss': 0.0012, 'learning_rate': 1.7964285714285712e-05, 'epoch': 22.43}\n"
     ]
    },
    {
     "data": {
      "application/vnd.jupyter.widget-view+json": {
       "model_id": "98a24fd94c914e3d9717650119e33828",
       "version_major": 2,
       "version_minor": 0
      },
      "text/plain": [
       "  0%|          | 0/27 [00:00<?, ?it/s]"
      ]
     },
     "metadata": {},
     "output_type": "display_data"
    },
    {
     "name": "stdout",
     "output_type": "stream",
     "text": [
      "{'eval_loss': 0.2617315948009491, 'eval_f1': 0.529298234126077, 'eval_runtime': 18.3108, 'eval_samples_per_second': 49.752, 'eval_steps_per_second': 1.475, 'epoch': 23.0}\n",
      "{'loss': 0.0011, 'learning_rate': 1.657142857142857e-05, 'epoch': 23.4}\n"
     ]
    },
    {
     "data": {
      "application/vnd.jupyter.widget-view+json": {
       "model_id": "c0565a6c63fc44c39f42b3a79f772edd",
       "version_major": 2,
       "version_minor": 0
      },
      "text/plain": [
       "  0%|          | 0/27 [00:00<?, ?it/s]"
      ]
     },
     "metadata": {},
     "output_type": "display_data"
    },
    {
     "name": "stdout",
     "output_type": "stream",
     "text": [
      "{'eval_loss': 0.26055076718330383, 'eval_f1': 0.5168935994441622, 'eval_runtime': 16.5832, 'eval_samples_per_second': 54.935, 'eval_steps_per_second': 1.628, 'epoch': 24.0}\n",
      "{'loss': 0.0016, 'learning_rate': 1.5178571428571429e-05, 'epoch': 24.38}\n"
     ]
    },
    {
     "data": {
      "application/vnd.jupyter.widget-view+json": {
       "model_id": "f72beda392d143549fe1bb5ba570f2cc",
       "version_major": 2,
       "version_minor": 0
      },
      "text/plain": [
       "  0%|          | 0/27 [00:00<?, ?it/s]"
      ]
     },
     "metadata": {},
     "output_type": "display_data"
    },
    {
     "name": "stdout",
     "output_type": "stream",
     "text": [
      "{'eval_loss': 0.26344767212867737, 'eval_f1': 0.5219094463400055, 'eval_runtime': 15.7987, 'eval_samples_per_second': 57.663, 'eval_steps_per_second': 1.709, 'epoch': 25.0}\n",
      "{'loss': 0.0008, 'learning_rate': 1.3785714285714285e-05, 'epoch': 25.35}\n"
     ]
    },
    {
     "data": {
      "application/vnd.jupyter.widget-view+json": {
       "model_id": "c6283379b55a44f7922e315d5da490ec",
       "version_major": 2,
       "version_minor": 0
      },
      "text/plain": [
       "  0%|          | 0/27 [00:00<?, ?it/s]"
      ]
     },
     "metadata": {},
     "output_type": "display_data"
    },
    {
     "name": "stdout",
     "output_type": "stream",
     "text": [
      "{'eval_loss': 0.25825566053390503, 'eval_f1': 0.52961464631553, 'eval_runtime': 17.8411, 'eval_samples_per_second': 51.062, 'eval_steps_per_second': 1.513, 'epoch': 26.0}\n",
      "{'loss': 0.001, 'learning_rate': 1.2392857142857143e-05, 'epoch': 26.32}\n"
     ]
    },
    {
     "data": {
      "application/vnd.jupyter.widget-view+json": {
       "model_id": "eeee2ca59fec40c1b93a0ba84fddb159",
       "version_major": 2,
       "version_minor": 0
      },
      "text/plain": [
       "  0%|          | 0/27 [00:00<?, ?it/s]"
      ]
     },
     "metadata": {},
     "output_type": "display_data"
    },
    {
     "name": "stdout",
     "output_type": "stream",
     "text": [
      "{'eval_loss': 0.2681581974029541, 'eval_f1': 0.5267542905152156, 'eval_runtime': 16.0773, 'eval_samples_per_second': 56.664, 'eval_steps_per_second': 1.679, 'epoch': 27.0}\n",
      "{'loss': 0.0013, 'learning_rate': 1.1000000000000001e-05, 'epoch': 27.3}\n"
     ]
    },
    {
     "data": {
      "application/vnd.jupyter.widget-view+json": {
       "model_id": "1b0b349e2fad4849806e404ed28e531c",
       "version_major": 2,
       "version_minor": 0
      },
      "text/plain": [
       "  0%|          | 0/27 [00:00<?, ?it/s]"
      ]
     },
     "metadata": {},
     "output_type": "display_data"
    },
    {
     "name": "stdout",
     "output_type": "stream",
     "text": [
      "{'eval_loss': 0.25942859053611755, 'eval_f1': 0.5316978266315094, 'eval_runtime': 19.0835, 'eval_samples_per_second': 47.738, 'eval_steps_per_second': 1.415, 'epoch': 28.0}\n",
      "{'loss': 0.0007, 'learning_rate': 9.607142857142858e-06, 'epoch': 28.27}\n"
     ]
    },
    {
     "data": {
      "application/vnd.jupyter.widget-view+json": {
       "model_id": "5252de9ece734511bf989e8d922400eb",
       "version_major": 2,
       "version_minor": 0
      },
      "text/plain": [
       "  0%|          | 0/27 [00:00<?, ?it/s]"
      ]
     },
     "metadata": {},
     "output_type": "display_data"
    },
    {
     "name": "stdout",
     "output_type": "stream",
     "text": [
      "{'eval_loss': 0.2627335786819458, 'eval_f1': 0.5324969144644679, 'eval_runtime': 17.8426, 'eval_samples_per_second': 51.058, 'eval_steps_per_second': 1.513, 'epoch': 29.0}\n",
      "{'loss': 0.0009, 'learning_rate': 8.214285714285714e-06, 'epoch': 29.25}\n"
     ]
    },
    {
     "data": {
      "application/vnd.jupyter.widget-view+json": {
       "model_id": "d2006feda531449f956e295b0d4f3f24",
       "version_major": 2,
       "version_minor": 0
      },
      "text/plain": [
       "  0%|          | 0/27 [00:00<?, ?it/s]"
      ]
     },
     "metadata": {},
     "output_type": "display_data"
    },
    {
     "name": "stdout",
     "output_type": "stream",
     "text": [
      "{'eval_loss': 0.26293182373046875, 'eval_f1': 0.5299602292699791, 'eval_runtime': 17.0671, 'eval_samples_per_second': 53.377, 'eval_steps_per_second': 1.582, 'epoch': 30.0}\n",
      "{'loss': 0.0009, 'learning_rate': 6.821428571428572e-06, 'epoch': 30.23}\n"
     ]
    },
    {
     "data": {
      "application/vnd.jupyter.widget-view+json": {
       "model_id": "b038c8923e3f4e188f30600e87711d7d",
       "version_major": 2,
       "version_minor": 0
      },
      "text/plain": [
       "  0%|          | 0/27 [00:00<?, ?it/s]"
      ]
     },
     "metadata": {},
     "output_type": "display_data"
    },
    {
     "name": "stdout",
     "output_type": "stream",
     "text": [
      "{'eval_loss': 0.261945515871048, 'eval_f1': 0.5279790846592466, 'eval_runtime': 23.4821, 'eval_samples_per_second': 38.795, 'eval_steps_per_second': 1.15, 'epoch': 31.0}\n",
      "{'loss': 0.001, 'learning_rate': 5.428571428571429e-06, 'epoch': 31.2}\n"
     ]
    },
    {
     "data": {
      "application/vnd.jupyter.widget-view+json": {
       "model_id": "404ddc0d3de0497dbe3eb24fa0fc95ad",
       "version_major": 2,
       "version_minor": 0
      },
      "text/plain": [
       "  0%|          | 0/27 [00:00<?, ?it/s]"
      ]
     },
     "metadata": {},
     "output_type": "display_data"
    },
    {
     "name": "stdout",
     "output_type": "stream",
     "text": [
      "{'eval_loss': 0.26837795972824097, 'eval_f1': 0.5245204475330025, 'eval_runtime': 17.0313, 'eval_samples_per_second': 53.49, 'eval_steps_per_second': 1.585, 'epoch': 32.0}\n",
      "{'loss': 0.0012, 'learning_rate': 4.035714285714285e-06, 'epoch': 32.17}\n"
     ]
    },
    {
     "data": {
      "application/vnd.jupyter.widget-view+json": {
       "model_id": "e03b1ff4391249f49d030ebae40fa511",
       "version_major": 2,
       "version_minor": 0
      },
      "text/plain": [
       "  0%|          | 0/27 [00:00<?, ?it/s]"
      ]
     },
     "metadata": {},
     "output_type": "display_data"
    },
    {
     "name": "stdout",
     "output_type": "stream",
     "text": [
      "{'eval_loss': 0.2663798928260803, 'eval_f1': 0.53249271605379, 'eval_runtime': 15.6344, 'eval_samples_per_second': 58.269, 'eval_steps_per_second': 1.727, 'epoch': 33.0}\n",
      "{'loss': 0.0008, 'learning_rate': 2.642857142857143e-06, 'epoch': 33.15}\n"
     ]
    },
    {
     "data": {
      "application/vnd.jupyter.widget-view+json": {
       "model_id": "a763da2ecae84afda2b455f6211cbf93",
       "version_major": 2,
       "version_minor": 0
      },
      "text/plain": [
       "  0%|          | 0/27 [00:00<?, ?it/s]"
      ]
     },
     "metadata": {},
     "output_type": "display_data"
    },
    {
     "name": "stdout",
     "output_type": "stream",
     "text": [
      "{'eval_loss': 0.2657262086868286, 'eval_f1': 0.5346761027517557, 'eval_runtime': 17.4811, 'eval_samples_per_second': 52.113, 'eval_steps_per_second': 1.545, 'epoch': 34.0}\n",
      "{'loss': 0.0011, 'learning_rate': 1.25e-06, 'epoch': 34.12}\n"
     ]
    },
    {
     "data": {
      "application/vnd.jupyter.widget-view+json": {
       "model_id": "c2d9e0bcee6245e8b1b159e8763fd06c",
       "version_major": 2,
       "version_minor": 0
      },
      "text/plain": [
       "  0%|          | 0/27 [00:00<?, ?it/s]"
      ]
     },
     "metadata": {},
     "output_type": "display_data"
    },
    {
     "name": "stdout",
     "output_type": "stream",
     "text": [
      "{'eval_loss': 0.26541996002197266, 'eval_f1': 0.5342692332180368, 'eval_runtime': 17.7832, 'eval_samples_per_second': 51.228, 'eval_steps_per_second': 1.518, 'epoch': 35.0}\n",
      "{'train_runtime': 3297.2142, 'train_samples_per_second': 14.627, 'train_steps_per_second': 0.425, 'train_loss': 0.028318430866513932, 'epoch': 35.0}\n"
     ]
    },
    {
     "data": {
      "application/vnd.jupyter.widget-view+json": {
       "model_id": "0a0753255eec4c81b15a937ca97046ad",
       "version_major": 2,
       "version_minor": 0
      },
      "text/plain": [
       "Map:   0%|          | 0/911 [00:00<?, ? examples/s]"
      ]
     },
     "metadata": {},
     "output_type": "display_data"
    },
    {
     "name": "stdout",
     "output_type": "stream",
     "text": [
      "    Epoch  Training Loss  Validation Loss        F1  \\\n",
      "0       1         0.4716         0.211358  0.194647   \n",
      "1       1         0.4716         0.211358  0.194647   \n",
      "2       2         0.1926         0.165011  0.338370   \n",
      "3       2         0.1926         0.165011  0.338370   \n",
      "4       3         0.1155         0.162354  0.454510   \n",
      "..    ...            ...              ...       ...   \n",
      "66     33         0.0008         0.265726  0.534676   \n",
      "67     34         0.0008         0.265726  0.534676   \n",
      "68     34         0.0011         0.265420  0.534269   \n",
      "69     35         0.0011         0.265420  0.534269   \n",
      "70     35         0.0011         0.265420  0.534269   \n",
      "\n",
      "                                                Model  \n",
      "0   distilbert-base-uncased_ds_down_sample_linear_...  \n",
      "1   distilbert-base-uncased_ds_down_sample_linear_...  \n",
      "2   distilbert-base-uncased_ds_down_sample_linear_...  \n",
      "3   distilbert-base-uncased_ds_down_sample_linear_...  \n",
      "4   distilbert-base-uncased_ds_down_sample_linear_...  \n",
      "..                                                ...  \n",
      "66  distilbert-base-uncased_ds_down_sample_linear_...  \n",
      "67  distilbert-base-uncased_ds_down_sample_linear_...  \n",
      "68  distilbert-base-uncased_ds_down_sample_linear_...  \n",
      "69  distilbert-base-uncased_ds_down_sample_linear_...  \n",
      "70  distilbert-base-uncased_ds_down_sample_linear_...  \n",
      "\n",
      "[71 rows x 5 columns]\n"
     ]
    },
    {
     "data": {
      "application/vnd.jupyter.widget-view+json": {
       "model_id": "4f1d8d69d0d14d64ba40008730c109f4",
       "version_major": 2,
       "version_minor": 0
      },
      "text/plain": [
       "Map:   0%|          | 0/1378 [00:00<?, ? examples/s]"
      ]
     },
     "metadata": {},
     "output_type": "display_data"
    },
    {
     "data": {
      "application/vnd.jupyter.widget-view+json": {
       "model_id": "a876dcedcb0543f4a751dc1d14f7237f",
       "version_major": 2,
       "version_minor": 0
      },
      "text/plain": [
       "Map:   0%|          | 0/911 [00:00<?, ? examples/s]"
      ]
     },
     "metadata": {},
     "output_type": "display_data"
    },
    {
     "data": {
      "application/vnd.jupyter.widget-view+json": {
       "model_id": "1b0cf6a8d0e54f8898ef0b5946247d95",
       "version_major": 2,
       "version_minor": 0
      },
      "text/plain": [
       "Map:   0%|          | 0/800 [00:00<?, ? examples/s]"
      ]
     },
     "metadata": {},
     "output_type": "display_data"
    },
    {
     "name": "stdout",
     "output_type": "stream",
     "text": [
      "distilbert-base-uncased_ds_down_sample_additional_linear_1_e35_ld001_wF\n"
     ]
    },
    {
     "name": "stderr",
     "output_type": "stream",
     "text": [
      "/Users/tina.vu/work/fun/sentilens_env_wipp/lib/python3.9/site-packages/transformers/optimization.py:391: FutureWarning: This implementation of AdamW is deprecated and will be removed in a future version. Use the PyTorch implementation torch.optim.AdamW instead, or set `no_deprecation_warning=True` to disable this warning\n",
      "  warnings.warn(\n"
     ]
    },
    {
     "data": {
      "application/vnd.jupyter.widget-view+json": {
       "model_id": "f869c302053445bcbc16a6b9370397c4",
       "version_major": 2,
       "version_minor": 0
      },
      "text/plain": [
       "  0%|          | 0/1400 [00:00<?, ?it/s]"
      ]
     },
     "metadata": {},
     "output_type": "display_data"
    },
    {
     "name": "stdout",
     "output_type": "stream",
     "text": [
      "{'loss': 1.5208, 'learning_rate': 4.860714285714286e-05, 'epoch': 0.97}\n"
     ]
    },
    {
     "data": {
      "application/vnd.jupyter.widget-view+json": {
       "model_id": "f92b9d8f542f4c559e25397c174d71ae",
       "version_major": 2,
       "version_minor": 0
      },
      "text/plain": [
       "  0%|          | 0/27 [00:00<?, ?it/s]"
      ]
     },
     "metadata": {},
     "output_type": "display_data"
    },
    {
     "name": "stdout",
     "output_type": "stream",
     "text": [
      "{'eval_loss': 1.2694894075393677, 'eval_f1': 0.0, 'eval_runtime': 14.9536, 'eval_samples_per_second': 60.922, 'eval_steps_per_second': 1.806, 'epoch': 1.0}\n",
      "{'loss': 1.2446, 'learning_rate': 4.721428571428572e-05, 'epoch': 1.95}\n"
     ]
    },
    {
     "data": {
      "application/vnd.jupyter.widget-view+json": {
       "model_id": "d907a14ad90a4005b0422d660faf1923",
       "version_major": 2,
       "version_minor": 0
      },
      "text/plain": [
       "  0%|          | 0/27 [00:00<?, ?it/s]"
      ]
     },
     "metadata": {},
     "output_type": "display_data"
    },
    {
     "name": "stdout",
     "output_type": "stream",
     "text": [
      "{'eval_loss': 1.081779956817627, 'eval_f1': 0.0, 'eval_runtime': 16.8034, 'eval_samples_per_second': 54.215, 'eval_steps_per_second': 1.607, 'epoch': 2.0}\n",
      "{'loss': 1.0813, 'learning_rate': 4.582142857142858e-05, 'epoch': 2.92}\n"
     ]
    },
    {
     "data": {
      "application/vnd.jupyter.widget-view+json": {
       "model_id": "bc8904a1bc4f4ce4854a5484bd0c1e93",
       "version_major": 2,
       "version_minor": 0
      },
      "text/plain": [
       "  0%|          | 0/27 [00:00<?, ?it/s]"
      ]
     },
     "metadata": {},
     "output_type": "display_data"
    },
    {
     "name": "stdout",
     "output_type": "stream",
     "text": [
      "{'eval_loss': 0.8924559950828552, 'eval_f1': 0.0, 'eval_runtime': 16.4675, 'eval_samples_per_second': 55.321, 'eval_steps_per_second': 1.64, 'epoch': 3.0}\n",
      "{'loss': 0.9237, 'learning_rate': 4.442857142857143e-05, 'epoch': 3.9}\n"
     ]
    },
    {
     "data": {
      "application/vnd.jupyter.widget-view+json": {
       "model_id": "f1c8962d3c0b4bc78616be02454976d0",
       "version_major": 2,
       "version_minor": 0
      },
      "text/plain": [
       "  0%|          | 0/27 [00:00<?, ?it/s]"
      ]
     },
     "metadata": {},
     "output_type": "display_data"
    },
    {
     "name": "stdout",
     "output_type": "stream",
     "text": [
      "{'eval_loss': 0.7182970643043518, 'eval_f1': 0.0, 'eval_runtime': 18.5916, 'eval_samples_per_second': 49.001, 'eval_steps_per_second': 1.452, 'epoch': 4.0}\n",
      "{'loss': 0.7858, 'learning_rate': 4.303571428571429e-05, 'epoch': 4.88}\n"
     ]
    },
    {
     "data": {
      "application/vnd.jupyter.widget-view+json": {
       "model_id": "1fd417c59267449e8b142cb28672bd29",
       "version_major": 2,
       "version_minor": 0
      },
      "text/plain": [
       "  0%|          | 0/27 [00:00<?, ?it/s]"
      ]
     },
     "metadata": {},
     "output_type": "display_data"
    },
    {
     "name": "stdout",
     "output_type": "stream",
     "text": [
      "{'eval_loss': 0.5794704556465149, 'eval_f1': 0.0, 'eval_runtime': 19.9277, 'eval_samples_per_second': 45.715, 'eval_steps_per_second': 1.355, 'epoch': 5.0}\n",
      "{'loss': 0.6838, 'learning_rate': 4.1642857142857144e-05, 'epoch': 5.85}\n"
     ]
    },
    {
     "data": {
      "application/vnd.jupyter.widget-view+json": {
       "model_id": "b95fa36a5cd04f59a9f4176bc992a513",
       "version_major": 2,
       "version_minor": 0
      },
      "text/plain": [
       "  0%|          | 0/27 [00:00<?, ?it/s]"
      ]
     },
     "metadata": {},
     "output_type": "display_data"
    },
    {
     "name": "stdout",
     "output_type": "stream",
     "text": [
      "{'eval_loss': 0.4856452941894531, 'eval_f1': 0.0, 'eval_runtime': 17.5729, 'eval_samples_per_second': 51.841, 'eval_steps_per_second': 1.536, 'epoch': 6.0}\n",
      "{'loss': 0.6171, 'learning_rate': 4.025e-05, 'epoch': 6.83}\n"
     ]
    },
    {
     "data": {
      "application/vnd.jupyter.widget-view+json": {
       "model_id": "e0082a167aef4e1a9bf406318395a8c5",
       "version_major": 2,
       "version_minor": 0
      },
      "text/plain": [
       "  0%|          | 0/27 [00:00<?, ?it/s]"
      ]
     },
     "metadata": {},
     "output_type": "display_data"
    },
    {
     "name": "stdout",
     "output_type": "stream",
     "text": [
      "{'eval_loss': 0.43571847677230835, 'eval_f1': 0.0, 'eval_runtime': 16.4124, 'eval_samples_per_second': 55.507, 'eval_steps_per_second': 1.645, 'epoch': 7.0}\n",
      "{'loss': 0.5879, 'learning_rate': 3.885714285714286e-05, 'epoch': 7.8}\n"
     ]
    },
    {
     "data": {
      "application/vnd.jupyter.widget-view+json": {
       "model_id": "dd1c62e303de4eb4bad54ce26f4bf723",
       "version_major": 2,
       "version_minor": 0
      },
      "text/plain": [
       "  0%|          | 0/27 [00:00<?, ?it/s]"
      ]
     },
     "metadata": {},
     "output_type": "display_data"
    },
    {
     "name": "stdout",
     "output_type": "stream",
     "text": [
      "{'eval_loss': 0.41674020886421204, 'eval_f1': 0.0, 'eval_runtime': 16.6827, 'eval_samples_per_second': 54.607, 'eval_steps_per_second': 1.618, 'epoch': 8.0}\n",
      "{'loss': 0.5138, 'learning_rate': 3.746428571428572e-05, 'epoch': 8.78}\n"
     ]
    },
    {
     "data": {
      "application/vnd.jupyter.widget-view+json": {
       "model_id": "f24430a5af14437c9b34ce1808c3a327",
       "version_major": 2,
       "version_minor": 0
      },
      "text/plain": [
       "  0%|          | 0/27 [00:00<?, ?it/s]"
      ]
     },
     "metadata": {},
     "output_type": "display_data"
    },
    {
     "name": "stdout",
     "output_type": "stream",
     "text": [
      "{'eval_loss': 0.2841697931289673, 'eval_f1': 0.0, 'eval_runtime': 18.683, 'eval_samples_per_second': 48.761, 'eval_steps_per_second': 1.445, 'epoch': 9.0}\n",
      "{'loss': 0.3872, 'learning_rate': 3.607142857142857e-05, 'epoch': 9.75}\n"
     ]
    },
    {
     "data": {
      "application/vnd.jupyter.widget-view+json": {
       "model_id": "1741ba6f3bf648d4b339e82a1cc8c52d",
       "version_major": 2,
       "version_minor": 0
      },
      "text/plain": [
       "  0%|          | 0/27 [00:00<?, ?it/s]"
      ]
     },
     "metadata": {},
     "output_type": "display_data"
    },
    {
     "name": "stdout",
     "output_type": "stream",
     "text": [
      "{'eval_loss': 0.24438752233982086, 'eval_f1': 0.07821229050279328, 'eval_runtime': 16.7682, 'eval_samples_per_second': 54.329, 'eval_steps_per_second': 1.61, 'epoch': 10.0}\n",
      "{'loss': 0.3146, 'learning_rate': 3.4678571428571435e-05, 'epoch': 10.72}\n"
     ]
    },
    {
     "data": {
      "application/vnd.jupyter.widget-view+json": {
       "model_id": "1e8825a1d8e84ba2bd0bd4314f53508a",
       "version_major": 2,
       "version_minor": 0
      },
      "text/plain": [
       "  0%|          | 0/27 [00:00<?, ?it/s]"
      ]
     },
     "metadata": {},
     "output_type": "display_data"
    },
    {
     "name": "stdout",
     "output_type": "stream",
     "text": [
      "{'eval_loss': 0.23687587678432465, 'eval_f1': 0.08237547892720308, 'eval_runtime': 18.2635, 'eval_samples_per_second': 49.881, 'eval_steps_per_second': 1.478, 'epoch': 11.0}\n",
      "{'loss': 0.2794, 'learning_rate': 3.3285714285714286e-05, 'epoch': 11.7}\n"
     ]
    },
    {
     "data": {
      "application/vnd.jupyter.widget-view+json": {
       "model_id": "5722d39cd15c40db99854b99a1d29a7a",
       "version_major": 2,
       "version_minor": 0
      },
      "text/plain": [
       "  0%|          | 0/27 [00:00<?, ?it/s]"
      ]
     },
     "metadata": {},
     "output_type": "display_data"
    },
    {
     "name": "stdout",
     "output_type": "stream",
     "text": [
      "{'eval_loss': 0.23090369999408722, 'eval_f1': 0.08188021228203185, 'eval_runtime': 16.4901, 'eval_samples_per_second': 55.245, 'eval_steps_per_second': 1.637, 'epoch': 12.0}\n",
      "{'loss': 0.2363, 'learning_rate': 3.1892857142857145e-05, 'epoch': 12.68}\n"
     ]
    },
    {
     "data": {
      "application/vnd.jupyter.widget-view+json": {
       "model_id": "5ae9502bb49c405f9195db0bf37ef592",
       "version_major": 2,
       "version_minor": 0
      },
      "text/plain": [
       "  0%|          | 0/27 [00:00<?, ?it/s]"
      ]
     },
     "metadata": {},
     "output_type": "display_data"
    },
    {
     "name": "stdout",
     "output_type": "stream",
     "text": [
      "{'eval_loss': 0.24148862063884735, 'eval_f1': 0.08012192466797301, 'eval_runtime': 16.7597, 'eval_samples_per_second': 54.357, 'eval_steps_per_second': 1.611, 'epoch': 13.0}\n",
      "{'loss': 0.2284, 'learning_rate': 3.05e-05, 'epoch': 13.65}\n"
     ]
    },
    {
     "data": {
      "application/vnd.jupyter.widget-view+json": {
       "model_id": "49954947e4184d44960ec4a2e7565a27",
       "version_major": 2,
       "version_minor": 0
      },
      "text/plain": [
       "  0%|          | 0/27 [00:00<?, ?it/s]"
      ]
     },
     "metadata": {},
     "output_type": "display_data"
    },
    {
     "name": "stdout",
     "output_type": "stream",
     "text": [
      "{'eval_loss': 0.24667306244373322, 'eval_f1': 0.11224523881102695, 'eval_runtime': 17.4279, 'eval_samples_per_second': 52.273, 'eval_steps_per_second': 1.549, 'epoch': 14.0}\n",
      "{'loss': 0.2079, 'learning_rate': 2.910714285714286e-05, 'epoch': 14.62}\n"
     ]
    },
    {
     "data": {
      "application/vnd.jupyter.widget-view+json": {
       "model_id": "dbf72dd55c3747d6b27aa6c367b67f50",
       "version_major": 2,
       "version_minor": 0
      },
      "text/plain": [
       "  0%|          | 0/27 [00:00<?, ?it/s]"
      ]
     },
     "metadata": {},
     "output_type": "display_data"
    },
    {
     "name": "stdout",
     "output_type": "stream",
     "text": [
      "{'eval_loss': 0.22808553278446198, 'eval_f1': 0.11336842429279403, 'eval_runtime': 16.3134, 'eval_samples_per_second': 55.844, 'eval_steps_per_second': 1.655, 'epoch': 15.0}\n",
      "{'loss': 0.1956, 'learning_rate': 2.7714285714285716e-05, 'epoch': 15.6}\n"
     ]
    },
    {
     "data": {
      "application/vnd.jupyter.widget-view+json": {
       "model_id": "1b6537c63814408386ca9e541e4d22fb",
       "version_major": 2,
       "version_minor": 0
      },
      "text/plain": [
       "  0%|          | 0/27 [00:00<?, ?it/s]"
      ]
     },
     "metadata": {},
     "output_type": "display_data"
    },
    {
     "name": "stdout",
     "output_type": "stream",
     "text": [
      "{'eval_loss': 0.23799419403076172, 'eval_f1': 0.11191148421728535, 'eval_runtime': 17.5159, 'eval_samples_per_second': 52.01, 'eval_steps_per_second': 1.541, 'epoch': 16.0}\n",
      "{'loss': 0.1843, 'learning_rate': 2.6321428571428574e-05, 'epoch': 16.57}\n"
     ]
    },
    {
     "data": {
      "application/vnd.jupyter.widget-view+json": {
       "model_id": "b321c14eb4dd40d4bfb3535d7a1b40b0",
       "version_major": 2,
       "version_minor": 0
      },
      "text/plain": [
       "  0%|          | 0/27 [00:00<?, ?it/s]"
      ]
     },
     "metadata": {},
     "output_type": "display_data"
    },
    {
     "name": "stdout",
     "output_type": "stream",
     "text": [
      "{'eval_loss': 0.2496301680803299, 'eval_f1': 0.17524255603880898, 'eval_runtime': 17.9082, 'eval_samples_per_second': 50.871, 'eval_steps_per_second': 1.508, 'epoch': 17.0}\n",
      "{'loss': 0.1791, 'learning_rate': 2.492857142857143e-05, 'epoch': 17.55}\n"
     ]
    },
    {
     "data": {
      "application/vnd.jupyter.widget-view+json": {
       "model_id": "45f699531ef846f9914e69ee271eb472",
       "version_major": 2,
       "version_minor": 0
      },
      "text/plain": [
       "  0%|          | 0/27 [00:00<?, ?it/s]"
      ]
     },
     "metadata": {},
     "output_type": "display_data"
    },
    {
     "name": "stdout",
     "output_type": "stream",
     "text": [
      "{'eval_loss': 0.24739785492420197, 'eval_f1': 0.2068987343474665, 'eval_runtime': 16.4189, 'eval_samples_per_second': 55.485, 'eval_steps_per_second': 1.644, 'epoch': 18.0}\n",
      "{'loss': 0.1761, 'learning_rate': 2.3535714285714287e-05, 'epoch': 18.52}\n"
     ]
    },
    {
     "data": {
      "application/vnd.jupyter.widget-view+json": {
       "model_id": "fcefff4add1746d59f41a5199a0ea606",
       "version_major": 2,
       "version_minor": 0
      },
      "text/plain": [
       "  0%|          | 0/27 [00:00<?, ?it/s]"
      ]
     },
     "metadata": {},
     "output_type": "display_data"
    },
    {
     "name": "stdout",
     "output_type": "stream",
     "text": [
      "{'eval_loss': 0.24592828750610352, 'eval_f1': 0.20148575848025096, 'eval_runtime': 18.4842, 'eval_samples_per_second': 49.285, 'eval_steps_per_second': 1.461, 'epoch': 19.0}\n",
      "{'loss': 0.1626, 'learning_rate': 2.214285714285714e-05, 'epoch': 19.5}\n"
     ]
    },
    {
     "data": {
      "application/vnd.jupyter.widget-view+json": {
       "model_id": "c3a091ee480a4962b489235a17aae3d1",
       "version_major": 2,
       "version_minor": 0
      },
      "text/plain": [
       "  0%|          | 0/27 [00:00<?, ?it/s]"
      ]
     },
     "metadata": {},
     "output_type": "display_data"
    },
    {
     "name": "stdout",
     "output_type": "stream",
     "text": [
      "{'eval_loss': 0.24845579266548157, 'eval_f1': 0.2570063873304993, 'eval_runtime': 17.6013, 'eval_samples_per_second': 51.758, 'eval_steps_per_second': 1.534, 'epoch': 20.0}\n",
      "{'loss': 0.1664, 'learning_rate': 2.075e-05, 'epoch': 20.48}\n"
     ]
    },
    {
     "data": {
      "application/vnd.jupyter.widget-view+json": {
       "model_id": "7895568c776c413b899ef3c1cfb7214f",
       "version_major": 2,
       "version_minor": 0
      },
      "text/plain": [
       "  0%|          | 0/27 [00:00<?, ?it/s]"
      ]
     },
     "metadata": {},
     "output_type": "display_data"
    },
    {
     "name": "stdout",
     "output_type": "stream",
     "text": [
      "{'eval_loss': 0.2519237697124481, 'eval_f1': 0.2598416786289333, 'eval_runtime': 17.4844, 'eval_samples_per_second': 52.103, 'eval_steps_per_second': 1.544, 'epoch': 21.0}\n",
      "{'loss': 0.1651, 'learning_rate': 1.9357142857142858e-05, 'epoch': 21.45}\n"
     ]
    },
    {
     "data": {
      "application/vnd.jupyter.widget-view+json": {
       "model_id": "8fe9d8e28fe4408bbdf400a43e92f6e7",
       "version_major": 2,
       "version_minor": 0
      },
      "text/plain": [
       "  0%|          | 0/27 [00:00<?, ?it/s]"
      ]
     },
     "metadata": {},
     "output_type": "display_data"
    },
    {
     "name": "stdout",
     "output_type": "stream",
     "text": [
      "{'eval_loss': 0.2651626765727997, 'eval_f1': 0.2591467075198731, 'eval_runtime': 18.7254, 'eval_samples_per_second': 48.65, 'eval_steps_per_second': 1.442, 'epoch': 22.0}\n",
      "{'loss': 0.1501, 'learning_rate': 1.7964285714285712e-05, 'epoch': 22.43}\n"
     ]
    },
    {
     "data": {
      "application/vnd.jupyter.widget-view+json": {
       "model_id": "a703d937568249a4aead71e4ace84e4b",
       "version_major": 2,
       "version_minor": 0
      },
      "text/plain": [
       "  0%|          | 0/27 [00:00<?, ?it/s]"
      ]
     },
     "metadata": {},
     "output_type": "display_data"
    },
    {
     "name": "stdout",
     "output_type": "stream",
     "text": [
      "{'eval_loss': 0.26064032316207886, 'eval_f1': 0.2438538052531023, 'eval_runtime': 16.2131, 'eval_samples_per_second': 56.189, 'eval_steps_per_second': 1.665, 'epoch': 23.0}\n",
      "{'loss': 0.149, 'learning_rate': 1.657142857142857e-05, 'epoch': 23.4}\n"
     ]
    },
    {
     "data": {
      "application/vnd.jupyter.widget-view+json": {
       "model_id": "d3e6bb5b10794e05afcb389b1a9ed977",
       "version_major": 2,
       "version_minor": 0
      },
      "text/plain": [
       "  0%|          | 0/27 [00:00<?, ?it/s]"
      ]
     },
     "metadata": {},
     "output_type": "display_data"
    },
    {
     "name": "stdout",
     "output_type": "stream",
     "text": [
      "{'eval_loss': 0.2519102096557617, 'eval_f1': 0.2628046304944167, 'eval_runtime': 17.7497, 'eval_samples_per_second': 51.325, 'eval_steps_per_second': 1.521, 'epoch': 24.0}\n",
      "{'loss': 0.1485, 'learning_rate': 1.5178571428571429e-05, 'epoch': 24.38}\n"
     ]
    },
    {
     "data": {
      "application/vnd.jupyter.widget-view+json": {
       "model_id": "37285c39392e4d77a84c4cf9845f8a2a",
       "version_major": 2,
       "version_minor": 0
      },
      "text/plain": [
       "  0%|          | 0/27 [00:00<?, ?it/s]"
      ]
     },
     "metadata": {},
     "output_type": "display_data"
    },
    {
     "name": "stdout",
     "output_type": "stream",
     "text": [
      "{'eval_loss': 0.25225523114204407, 'eval_f1': 0.25982847893289, 'eval_runtime': 17.2467, 'eval_samples_per_second': 52.822, 'eval_steps_per_second': 1.566, 'epoch': 25.0}\n",
      "{'loss': 0.1497, 'learning_rate': 1.3785714285714285e-05, 'epoch': 25.35}\n"
     ]
    },
    {
     "data": {
      "application/vnd.jupyter.widget-view+json": {
       "model_id": "a24fe8e8cec34148a7fda6934bc21791",
       "version_major": 2,
       "version_minor": 0
      },
      "text/plain": [
       "  0%|          | 0/27 [00:00<?, ?it/s]"
      ]
     },
     "metadata": {},
     "output_type": "display_data"
    },
    {
     "name": "stdout",
     "output_type": "stream",
     "text": [
      "{'eval_loss': 0.2518731653690338, 'eval_f1': 0.2764074698500928, 'eval_runtime': 17.1962, 'eval_samples_per_second': 52.977, 'eval_steps_per_second': 1.57, 'epoch': 26.0}\n",
      "{'loss': 0.1462, 'learning_rate': 1.2392857142857143e-05, 'epoch': 26.32}\n"
     ]
    },
    {
     "data": {
      "application/vnd.jupyter.widget-view+json": {
       "model_id": "9691ca219b964453aa07bbce9691ca47",
       "version_major": 2,
       "version_minor": 0
      },
      "text/plain": [
       "  0%|          | 0/27 [00:00<?, ?it/s]"
      ]
     },
     "metadata": {},
     "output_type": "display_data"
    },
    {
     "name": "stdout",
     "output_type": "stream",
     "text": [
      "{'eval_loss': 0.25268933176994324, 'eval_f1': 0.3064510536506687, 'eval_runtime': 16.6588, 'eval_samples_per_second': 54.686, 'eval_steps_per_second': 1.621, 'epoch': 27.0}\n",
      "{'loss': 0.1452, 'learning_rate': 1.1000000000000001e-05, 'epoch': 27.3}\n"
     ]
    },
    {
     "data": {
      "application/vnd.jupyter.widget-view+json": {
       "model_id": "d25cee597df741e599d8cc3ee05f46a4",
       "version_major": 2,
       "version_minor": 0
      },
      "text/plain": [
       "  0%|          | 0/27 [00:00<?, ?it/s]"
      ]
     },
     "metadata": {},
     "output_type": "display_data"
    },
    {
     "name": "stdout",
     "output_type": "stream",
     "text": [
      "{'eval_loss': 0.25304728746414185, 'eval_f1': 0.3309551413858094, 'eval_runtime': 19.5063, 'eval_samples_per_second': 46.703, 'eval_steps_per_second': 1.384, 'epoch': 28.0}\n",
      "{'loss': 0.1429, 'learning_rate': 9.607142857142858e-06, 'epoch': 28.27}\n"
     ]
    },
    {
     "data": {
      "application/vnd.jupyter.widget-view+json": {
       "model_id": "b7dcf7deeae140369ff4c777dd8e0f18",
       "version_major": 2,
       "version_minor": 0
      },
      "text/plain": [
       "  0%|          | 0/27 [00:00<?, ?it/s]"
      ]
     },
     "metadata": {},
     "output_type": "display_data"
    },
    {
     "name": "stdout",
     "output_type": "stream",
     "text": [
      "{'eval_loss': 0.25026455521583557, 'eval_f1': 0.3225763244879613, 'eval_runtime': 17.2773, 'eval_samples_per_second': 52.728, 'eval_steps_per_second': 1.563, 'epoch': 29.0}\n",
      "{'loss': 0.1405, 'learning_rate': 8.214285714285714e-06, 'epoch': 29.25}\n"
     ]
    },
    {
     "data": {
      "application/vnd.jupyter.widget-view+json": {
       "model_id": "0d95fba148934eb599c3d24918c6d423",
       "version_major": 2,
       "version_minor": 0
      },
      "text/plain": [
       "  0%|          | 0/27 [00:00<?, ?it/s]"
      ]
     },
     "metadata": {},
     "output_type": "display_data"
    },
    {
     "name": "stdout",
     "output_type": "stream",
     "text": [
      "{'eval_loss': 0.2571837604045868, 'eval_f1': 0.3231473209779339, 'eval_runtime': 18.5414, 'eval_samples_per_second': 49.133, 'eval_steps_per_second': 1.456, 'epoch': 30.0}\n",
      "{'loss': 0.1387, 'learning_rate': 6.821428571428572e-06, 'epoch': 30.23}\n"
     ]
    },
    {
     "data": {
      "application/vnd.jupyter.widget-view+json": {
       "model_id": "8d1c6b36d04644bb9b641efe96a034b3",
       "version_major": 2,
       "version_minor": 0
      },
      "text/plain": [
       "  0%|          | 0/27 [00:00<?, ?it/s]"
      ]
     },
     "metadata": {},
     "output_type": "display_data"
    },
    {
     "name": "stdout",
     "output_type": "stream",
     "text": [
      "{'eval_loss': 0.2577473521232605, 'eval_f1': 0.3259411883976023, 'eval_runtime': 18.9084, 'eval_samples_per_second': 48.18, 'eval_steps_per_second': 1.428, 'epoch': 31.0}\n",
      "{'loss': 0.1382, 'learning_rate': 5.428571428571429e-06, 'epoch': 31.2}\n"
     ]
    },
    {
     "data": {
      "application/vnd.jupyter.widget-view+json": {
       "model_id": "4bfb47a66a0745268e7ba555f8484451",
       "version_major": 2,
       "version_minor": 0
      },
      "text/plain": [
       "  0%|          | 0/27 [00:00<?, ?it/s]"
      ]
     },
     "metadata": {},
     "output_type": "display_data"
    },
    {
     "name": "stdout",
     "output_type": "stream",
     "text": [
      "{'eval_loss': 0.257885605096817, 'eval_f1': 0.3377280190501717, 'eval_runtime': 18.5501, 'eval_samples_per_second': 49.11, 'eval_steps_per_second': 1.456, 'epoch': 32.0}\n",
      "{'loss': 0.1375, 'learning_rate': 4.035714285714285e-06, 'epoch': 32.17}\n"
     ]
    },
    {
     "data": {
      "application/vnd.jupyter.widget-view+json": {
       "model_id": "9d4d96af1a3a4c3189fdc7f5cdcf30e6",
       "version_major": 2,
       "version_minor": 0
      },
      "text/plain": [
       "  0%|          | 0/27 [00:00<?, ?it/s]"
      ]
     },
     "metadata": {},
     "output_type": "display_data"
    },
    {
     "name": "stdout",
     "output_type": "stream",
     "text": [
      "{'eval_loss': 0.25858980417251587, 'eval_f1': 0.3322886071113022, 'eval_runtime': 16.9076, 'eval_samples_per_second': 53.881, 'eval_steps_per_second': 1.597, 'epoch': 33.0}\n",
      "{'loss': 0.1382, 'learning_rate': 2.642857142857143e-06, 'epoch': 33.15}\n"
     ]
    },
    {
     "data": {
      "application/vnd.jupyter.widget-view+json": {
       "model_id": "eacc366b568a49acb23236f4950be0de",
       "version_major": 2,
       "version_minor": 0
      },
      "text/plain": [
       "  0%|          | 0/27 [00:00<?, ?it/s]"
      ]
     },
     "metadata": {},
     "output_type": "display_data"
    },
    {
     "name": "stdout",
     "output_type": "stream",
     "text": [
      "{'eval_loss': 0.2589997351169586, 'eval_f1': 0.3357174815493796, 'eval_runtime': 18.6498, 'eval_samples_per_second': 48.848, 'eval_steps_per_second': 1.448, 'epoch': 34.0}\n",
      "{'loss': 0.1333, 'learning_rate': 1.25e-06, 'epoch': 34.12}\n"
     ]
    },
    {
     "data": {
      "application/vnd.jupyter.widget-view+json": {
       "model_id": "95d3779f3ca743f0a6398634ecfc882b",
       "version_major": 2,
       "version_minor": 0
      },
      "text/plain": [
       "  0%|          | 0/27 [00:00<?, ?it/s]"
      ]
     },
     "metadata": {},
     "output_type": "display_data"
    },
    {
     "name": "stdout",
     "output_type": "stream",
     "text": [
      "{'eval_loss': 0.2590310871601105, 'eval_f1': 0.3365620371564866, 'eval_runtime': 20.7304, 'eval_samples_per_second': 43.945, 'eval_steps_per_second': 1.302, 'epoch': 35.0}\n",
      "{'train_runtime': 3472.8456, 'train_samples_per_second': 13.888, 'train_steps_per_second': 0.403, 'train_loss': 0.3572042451586042, 'epoch': 35.0}\n"
     ]
    },
    {
     "data": {
      "application/vnd.jupyter.widget-view+json": {
       "model_id": "fc95969f7e9d4dc4818c83784c960b76",
       "version_major": 2,
       "version_minor": 0
      },
      "text/plain": [
       "Map:   0%|          | 0/911 [00:00<?, ? examples/s]"
      ]
     },
     "metadata": {},
     "output_type": "display_data"
    },
    {
     "name": "stdout",
     "output_type": "stream",
     "text": [
      "    Epoch  Training Loss  Validation Loss        F1  \\\n",
      "0       1         1.5208         1.269489  0.000000   \n",
      "1       1         1.5208         1.269489  0.000000   \n",
      "2       2         1.2446         1.081780  0.000000   \n",
      "3       2         1.2446         1.081780  0.000000   \n",
      "4       3         1.0813         0.892456  0.000000   \n",
      "..    ...            ...              ...       ...   \n",
      "66     33         0.1382         0.259000  0.335717   \n",
      "67     34         0.1382         0.259000  0.335717   \n",
      "68     34         0.1333         0.259031  0.336562   \n",
      "69     35         0.1333         0.259031  0.336562   \n",
      "70     35         0.1333         0.259031  0.336562   \n",
      "\n",
      "                                                Model  \n",
      "0   distilbert-base-uncased_ds_down_sample_additio...  \n",
      "1   distilbert-base-uncased_ds_down_sample_additio...  \n",
      "2   distilbert-base-uncased_ds_down_sample_additio...  \n",
      "3   distilbert-base-uncased_ds_down_sample_additio...  \n",
      "4   distilbert-base-uncased_ds_down_sample_additio...  \n",
      "..                                                ...  \n",
      "66  distilbert-base-uncased_ds_down_sample_additio...  \n",
      "67  distilbert-base-uncased_ds_down_sample_additio...  \n",
      "68  distilbert-base-uncased_ds_down_sample_additio...  \n",
      "69  distilbert-base-uncased_ds_down_sample_additio...  \n",
      "70  distilbert-base-uncased_ds_down_sample_additio...  \n",
      "\n",
      "[71 rows x 5 columns]\n"
     ]
    },
    {
     "data": {
      "application/vnd.jupyter.widget-view+json": {
       "model_id": "d31d3902aca34855b027bdf9bf3d02f2",
       "version_major": 2,
       "version_minor": 0
      },
      "text/plain": [
       "Map:   0%|          | 0/1378 [00:00<?, ? examples/s]"
      ]
     },
     "metadata": {},
     "output_type": "display_data"
    },
    {
     "data": {
      "application/vnd.jupyter.widget-view+json": {
       "model_id": "73956568094245ff8ca8afba00f9f46d",
       "version_major": 2,
       "version_minor": 0
      },
      "text/plain": [
       "Map:   0%|          | 0/911 [00:00<?, ? examples/s]"
      ]
     },
     "metadata": {},
     "output_type": "display_data"
    },
    {
     "data": {
      "application/vnd.jupyter.widget-view+json": {
       "model_id": "77a3b4581c1842138593a3d0eaa755d5",
       "version_major": 2,
       "version_minor": 0
      },
      "text/plain": [
       "Map:   0%|          | 0/800 [00:00<?, ? examples/s]"
      ]
     },
     "metadata": {},
     "output_type": "display_data"
    },
    {
     "name": "stdout",
     "output_type": "stream",
     "text": [
      "distilbert-base-uncased_ds_down_sample_lstm_2_e35_ld001_wF\n"
     ]
    },
    {
     "name": "stderr",
     "output_type": "stream",
     "text": [
      "/Users/tina.vu/work/fun/sentilens_env_wipp/lib/python3.9/site-packages/transformers/optimization.py:391: FutureWarning: This implementation of AdamW is deprecated and will be removed in a future version. Use the PyTorch implementation torch.optim.AdamW instead, or set `no_deprecation_warning=True` to disable this warning\n",
      "  warnings.warn(\n"
     ]
    },
    {
     "data": {
      "application/vnd.jupyter.widget-view+json": {
       "model_id": "8d7dfcd9b0834cb4b53761fe10da849e",
       "version_major": 2,
       "version_minor": 0
      },
      "text/plain": [
       "  0%|          | 0/1400 [00:00<?, ?it/s]"
      ]
     },
     "metadata": {},
     "output_type": "display_data"
    },
    {
     "name": "stdout",
     "output_type": "stream",
     "text": [
      "{'loss': 1.4437, 'learning_rate': 4.860714285714286e-05, 'epoch': 0.97}\n"
     ]
    },
    {
     "data": {
      "application/vnd.jupyter.widget-view+json": {
       "model_id": "eed740d66aa24844af418d7165d17f54",
       "version_major": 2,
       "version_minor": 0
      },
      "text/plain": [
       "  0%|          | 0/27 [00:00<?, ?it/s]"
      ]
     },
     "metadata": {},
     "output_type": "display_data"
    },
    {
     "name": "stdout",
     "output_type": "stream",
     "text": [
      "{'eval_loss': 1.207250714302063, 'eval_f1': 0.0, 'eval_runtime': 19.5272, 'eval_samples_per_second': 46.653, 'eval_steps_per_second': 1.383, 'epoch': 1.0}\n",
      "{'loss': 1.1627, 'learning_rate': 4.721428571428572e-05, 'epoch': 1.95}\n"
     ]
    },
    {
     "data": {
      "application/vnd.jupyter.widget-view+json": {
       "model_id": "538298183efa4916b280d77c9ca08863",
       "version_major": 2,
       "version_minor": 0
      },
      "text/plain": [
       "  0%|          | 0/27 [00:00<?, ?it/s]"
      ]
     },
     "metadata": {},
     "output_type": "display_data"
    },
    {
     "name": "stdout",
     "output_type": "stream",
     "text": [
      "{'eval_loss': 1.0595216751098633, 'eval_f1': 0.0, 'eval_runtime': 22.5975, 'eval_samples_per_second': 40.314, 'eval_steps_per_second': 1.195, 'epoch': 2.0}\n",
      "{'loss': 1.0393, 'learning_rate': 4.582142857142858e-05, 'epoch': 2.92}\n"
     ]
    },
    {
     "data": {
      "application/vnd.jupyter.widget-view+json": {
       "model_id": "3dd0ef18a35a4334973a98273f30c262",
       "version_major": 2,
       "version_minor": 0
      },
      "text/plain": [
       "  0%|          | 0/27 [00:00<?, ?it/s]"
      ]
     },
     "metadata": {},
     "output_type": "display_data"
    },
    {
     "name": "stdout",
     "output_type": "stream",
     "text": [
      "{'eval_loss': 0.9445732235908508, 'eval_f1': 0.0, 'eval_runtime': 22.6789, 'eval_samples_per_second': 40.169, 'eval_steps_per_second': 1.191, 'epoch': 3.0}\n",
      "{'loss': 0.9345, 'learning_rate': 4.442857142857143e-05, 'epoch': 3.9}\n"
     ]
    },
    {
     "data": {
      "application/vnd.jupyter.widget-view+json": {
       "model_id": "2f4d226b557d423c87e37547e3f2e080",
       "version_major": 2,
       "version_minor": 0
      },
      "text/plain": [
       "  0%|          | 0/27 [00:00<?, ?it/s]"
      ]
     },
     "metadata": {},
     "output_type": "display_data"
    },
    {
     "name": "stdout",
     "output_type": "stream",
     "text": [
      "{'eval_loss': 0.8452856540679932, 'eval_f1': 0.0, 'eval_runtime': 20.8334, 'eval_samples_per_second': 43.728, 'eval_steps_per_second': 1.296, 'epoch': 4.0}\n",
      "{'loss': 0.8517, 'learning_rate': 4.303571428571429e-05, 'epoch': 4.88}\n"
     ]
    },
    {
     "data": {
      "application/vnd.jupyter.widget-view+json": {
       "model_id": "e73cfe8fa6334165951f9925ca10a5b1",
       "version_major": 2,
       "version_minor": 0
      },
      "text/plain": [
       "  0%|          | 0/27 [00:00<?, ?it/s]"
      ]
     },
     "metadata": {},
     "output_type": "display_data"
    },
    {
     "name": "stdout",
     "output_type": "stream",
     "text": [
      "{'eval_loss': 0.7596632242202759, 'eval_f1': 0.0, 'eval_runtime': 20.0557, 'eval_samples_per_second': 45.423, 'eval_steps_per_second': 1.346, 'epoch': 5.0}\n",
      "{'loss': 0.7786, 'learning_rate': 4.1642857142857144e-05, 'epoch': 5.85}\n"
     ]
    },
    {
     "data": {
      "application/vnd.jupyter.widget-view+json": {
       "model_id": "28d8ac43eadc4e2797f84f649326b6ce",
       "version_major": 2,
       "version_minor": 0
      },
      "text/plain": [
       "  0%|          | 0/27 [00:00<?, ?it/s]"
      ]
     },
     "metadata": {},
     "output_type": "display_data"
    },
    {
     "name": "stdout",
     "output_type": "stream",
     "text": [
      "{'eval_loss': 0.6886932253837585, 'eval_f1': 0.0, 'eval_runtime': 19.991, 'eval_samples_per_second': 45.571, 'eval_steps_per_second': 1.351, 'epoch': 6.0}\n",
      "{'loss': 0.7151, 'learning_rate': 4.025e-05, 'epoch': 6.83}\n"
     ]
    },
    {
     "data": {
      "application/vnd.jupyter.widget-view+json": {
       "model_id": "fb639ebb2bce4d339a3eb6ff27f0ca1d",
       "version_major": 2,
       "version_minor": 0
      },
      "text/plain": [
       "  0%|          | 0/27 [00:00<?, ?it/s]"
      ]
     },
     "metadata": {},
     "output_type": "display_data"
    },
    {
     "name": "stdout",
     "output_type": "stream",
     "text": [
      "{'eval_loss': 0.6291698217391968, 'eval_f1': 0.0, 'eval_runtime': 20.4377, 'eval_samples_per_second': 44.575, 'eval_steps_per_second': 1.321, 'epoch': 7.0}\n",
      "{'loss': 0.6612, 'learning_rate': 3.885714285714286e-05, 'epoch': 7.8}\n"
     ]
    },
    {
     "data": {
      "application/vnd.jupyter.widget-view+json": {
       "model_id": "3cb79e2cd1fe419cb369126112329644",
       "version_major": 2,
       "version_minor": 0
      },
      "text/plain": [
       "  0%|          | 0/27 [00:00<?, ?it/s]"
      ]
     },
     "metadata": {},
     "output_type": "display_data"
    },
    {
     "name": "stdout",
     "output_type": "stream",
     "text": [
      "{'eval_loss': 0.5792474746704102, 'eval_f1': 0.0, 'eval_runtime': 19.7437, 'eval_samples_per_second': 46.141, 'eval_steps_per_second': 1.368, 'epoch': 8.0}\n",
      "{'loss': 0.6177, 'learning_rate': 3.746428571428572e-05, 'epoch': 8.78}\n"
     ]
    },
    {
     "data": {
      "application/vnd.jupyter.widget-view+json": {
       "model_id": "d08ca2568f0846e09aba85c3fadad221",
       "version_major": 2,
       "version_minor": 0
      },
      "text/plain": [
       "  0%|          | 0/27 [00:00<?, ?it/s]"
      ]
     },
     "metadata": {},
     "output_type": "display_data"
    },
    {
     "name": "stdout",
     "output_type": "stream",
     "text": [
      "{'eval_loss': 0.539425790309906, 'eval_f1': 0.0, 'eval_runtime': 19.4607, 'eval_samples_per_second': 46.812, 'eval_steps_per_second': 1.387, 'epoch': 9.0}\n",
      "{'loss': 0.5807, 'learning_rate': 3.607142857142857e-05, 'epoch': 9.75}\n"
     ]
    },
    {
     "data": {
      "application/vnd.jupyter.widget-view+json": {
       "model_id": "14f49908ac484478ac4d466194fe32fe",
       "version_major": 2,
       "version_minor": 0
      },
      "text/plain": [
       "  0%|          | 0/27 [00:00<?, ?it/s]"
      ]
     },
     "metadata": {},
     "output_type": "display_data"
    },
    {
     "name": "stdout",
     "output_type": "stream",
     "text": [
      "{'eval_loss': 0.5077818632125854, 'eval_f1': 0.0, 'eval_runtime': 20.0611, 'eval_samples_per_second': 45.411, 'eval_steps_per_second': 1.346, 'epoch': 10.0}\n",
      "{'loss': 0.5577, 'learning_rate': 3.4678571428571435e-05, 'epoch': 10.72}\n"
     ]
    },
    {
     "data": {
      "application/vnd.jupyter.widget-view+json": {
       "model_id": "ab053de296a84a1f9255a5d9c3899f1d",
       "version_major": 2,
       "version_minor": 0
      },
      "text/plain": [
       "  0%|          | 0/27 [00:00<?, ?it/s]"
      ]
     },
     "metadata": {},
     "output_type": "display_data"
    },
    {
     "name": "stdout",
     "output_type": "stream",
     "text": [
      "{'eval_loss': 0.4831252098083496, 'eval_f1': 0.0, 'eval_runtime': 20.7394, 'eval_samples_per_second': 43.926, 'eval_steps_per_second': 1.302, 'epoch': 11.0}\n",
      "{'loss': 0.5282, 'learning_rate': 3.3285714285714286e-05, 'epoch': 11.7}\n"
     ]
    },
    {
     "data": {
      "application/vnd.jupyter.widget-view+json": {
       "model_id": "815f9347bf7e49d7a9350f5da32e6a6e",
       "version_major": 2,
       "version_minor": 0
      },
      "text/plain": [
       "  0%|          | 0/27 [00:00<?, ?it/s]"
      ]
     },
     "metadata": {},
     "output_type": "display_data"
    },
    {
     "name": "stdout",
     "output_type": "stream",
     "text": [
      "{'eval_loss': 0.46472808718681335, 'eval_f1': 0.0, 'eval_runtime': 18.2545, 'eval_samples_per_second': 49.905, 'eval_steps_per_second': 1.479, 'epoch': 12.0}\n",
      "{'loss': 0.5319, 'learning_rate': 3.1892857142857145e-05, 'epoch': 12.68}\n"
     ]
    },
    {
     "data": {
      "application/vnd.jupyter.widget-view+json": {
       "model_id": "e869bdca9824476fb94698237fc3243f",
       "version_major": 2,
       "version_minor": 0
      },
      "text/plain": [
       "  0%|          | 0/27 [00:00<?, ?it/s]"
      ]
     },
     "metadata": {},
     "output_type": "display_data"
    },
    {
     "name": "stdout",
     "output_type": "stream",
     "text": [
      "{'eval_loss': 0.45217186212539673, 'eval_f1': 0.0, 'eval_runtime': 19.73, 'eval_samples_per_second': 46.173, 'eval_steps_per_second': 1.368, 'epoch': 13.0}\n",
      "{'loss': 0.5144, 'learning_rate': 3.05e-05, 'epoch': 13.65}\n"
     ]
    },
    {
     "data": {
      "application/vnd.jupyter.widget-view+json": {
       "model_id": "25d6b5a53974478ebc32b936dd77044d",
       "version_major": 2,
       "version_minor": 0
      },
      "text/plain": [
       "  0%|          | 0/27 [00:00<?, ?it/s]"
      ]
     },
     "metadata": {},
     "output_type": "display_data"
    },
    {
     "name": "stdout",
     "output_type": "stream",
     "text": [
      "{'eval_loss': 0.44342976808547974, 'eval_f1': 0.0, 'eval_runtime': 19.4349, 'eval_samples_per_second': 46.874, 'eval_steps_per_second': 1.389, 'epoch': 14.0}\n",
      "{'loss': 0.4888, 'learning_rate': 2.910714285714286e-05, 'epoch': 14.62}\n"
     ]
    },
    {
     "data": {
      "application/vnd.jupyter.widget-view+json": {
       "model_id": "cc822833d0c6407ba1dae18a55fcf1a3",
       "version_major": 2,
       "version_minor": 0
      },
      "text/plain": [
       "  0%|          | 0/27 [00:00<?, ?it/s]"
      ]
     },
     "metadata": {},
     "output_type": "display_data"
    },
    {
     "name": "stdout",
     "output_type": "stream",
     "text": [
      "{'eval_loss': 0.4370768666267395, 'eval_f1': 0.0, 'eval_runtime': 19.0624, 'eval_samples_per_second': 47.79, 'eval_steps_per_second': 1.416, 'epoch': 15.0}\n",
      "{'loss': 0.5099, 'learning_rate': 2.7714285714285716e-05, 'epoch': 15.6}\n"
     ]
    },
    {
     "data": {
      "application/vnd.jupyter.widget-view+json": {
       "model_id": "0ef0cabe77ac4429bfe010f554309225",
       "version_major": 2,
       "version_minor": 0
      },
      "text/plain": [
       "  0%|          | 0/27 [00:00<?, ?it/s]"
      ]
     },
     "metadata": {},
     "output_type": "display_data"
    },
    {
     "name": "stdout",
     "output_type": "stream",
     "text": [
      "{'eval_loss': 0.43258702754974365, 'eval_f1': 0.0, 'eval_runtime': 20.417, 'eval_samples_per_second': 44.62, 'eval_steps_per_second': 1.322, 'epoch': 16.0}\n",
      "{'loss': 0.4877, 'learning_rate': 2.6321428571428574e-05, 'epoch': 16.57}\n"
     ]
    },
    {
     "data": {
      "application/vnd.jupyter.widget-view+json": {
       "model_id": "2001642024024b29912b0899224a19f4",
       "version_major": 2,
       "version_minor": 0
      },
      "text/plain": [
       "  0%|          | 0/27 [00:00<?, ?it/s]"
      ]
     },
     "metadata": {},
     "output_type": "display_data"
    },
    {
     "name": "stdout",
     "output_type": "stream",
     "text": [
      "{'eval_loss': 0.42908406257629395, 'eval_f1': 0.0, 'eval_runtime': 20.6208, 'eval_samples_per_second': 44.179, 'eval_steps_per_second': 1.309, 'epoch': 17.0}\n",
      "{'loss': 0.4819, 'learning_rate': 2.492857142857143e-05, 'epoch': 17.55}\n"
     ]
    },
    {
     "data": {
      "application/vnd.jupyter.widget-view+json": {
       "model_id": "89d2ce91810d44c593d54770b1d08c84",
       "version_major": 2,
       "version_minor": 0
      },
      "text/plain": [
       "  0%|          | 0/27 [00:00<?, ?it/s]"
      ]
     },
     "metadata": {},
     "output_type": "display_data"
    },
    {
     "name": "stdout",
     "output_type": "stream",
     "text": [
      "{'eval_loss': 0.42638182640075684, 'eval_f1': 0.0, 'eval_runtime': 20.4477, 'eval_samples_per_second': 44.553, 'eval_steps_per_second': 1.32, 'epoch': 18.0}\n",
      "{'loss': 0.4912, 'learning_rate': 2.3535714285714287e-05, 'epoch': 18.52}\n"
     ]
    },
    {
     "data": {
      "application/vnd.jupyter.widget-view+json": {
       "model_id": "b155a9f681ec4e3e89bc64c2e611da6c",
       "version_major": 2,
       "version_minor": 0
      },
      "text/plain": [
       "  0%|          | 0/27 [00:00<?, ?it/s]"
      ]
     },
     "metadata": {},
     "output_type": "display_data"
    },
    {
     "name": "stdout",
     "output_type": "stream",
     "text": [
      "{'eval_loss': 0.4243515729904175, 'eval_f1': 0.0, 'eval_runtime': 27.7316, 'eval_samples_per_second': 32.851, 'eval_steps_per_second': 0.974, 'epoch': 19.0}\n",
      "{'loss': 0.4852, 'learning_rate': 2.214285714285714e-05, 'epoch': 19.5}\n"
     ]
    },
    {
     "data": {
      "application/vnd.jupyter.widget-view+json": {
       "model_id": "2a5756ee4fac4ac58cb62de405c27914",
       "version_major": 2,
       "version_minor": 0
      },
      "text/plain": [
       "  0%|          | 0/27 [00:00<?, ?it/s]"
      ]
     },
     "metadata": {},
     "output_type": "display_data"
    },
    {
     "name": "stdout",
     "output_type": "stream",
     "text": [
      "{'eval_loss': 0.4227479100227356, 'eval_f1': 0.0, 'eval_runtime': 19.5299, 'eval_samples_per_second': 46.647, 'eval_steps_per_second': 1.382, 'epoch': 20.0}\n",
      "{'loss': 0.4771, 'learning_rate': 2.075e-05, 'epoch': 20.48}\n"
     ]
    },
    {
     "data": {
      "application/vnd.jupyter.widget-view+json": {
       "model_id": "81fa76a3fdb442ac9aba6fbc102a98ae",
       "version_major": 2,
       "version_minor": 0
      },
      "text/plain": [
       "  0%|          | 0/27 [00:00<?, ?it/s]"
      ]
     },
     "metadata": {},
     "output_type": "display_data"
    },
    {
     "name": "stdout",
     "output_type": "stream",
     "text": [
      "{'eval_loss': 0.42134320735931396, 'eval_f1': 0.0, 'eval_runtime': 18.6985, 'eval_samples_per_second': 48.721, 'eval_steps_per_second': 1.444, 'epoch': 21.0}\n",
      "{'loss': 0.4889, 'learning_rate': 1.9357142857142858e-05, 'epoch': 21.45}\n"
     ]
    },
    {
     "data": {
      "application/vnd.jupyter.widget-view+json": {
       "model_id": "cf9b3c34d98c477a9e8f0b8041e02d93",
       "version_major": 2,
       "version_minor": 0
      },
      "text/plain": [
       "  0%|          | 0/27 [00:00<?, ?it/s]"
      ]
     },
     "metadata": {},
     "output_type": "display_data"
    },
    {
     "name": "stdout",
     "output_type": "stream",
     "text": [
      "{'eval_loss': 0.4203030467033386, 'eval_f1': 0.0, 'eval_runtime': 18.5546, 'eval_samples_per_second': 49.098, 'eval_steps_per_second': 1.455, 'epoch': 22.0}\n",
      "{'loss': 0.4818, 'learning_rate': 1.7964285714285712e-05, 'epoch': 22.43}\n"
     ]
    },
    {
     "data": {
      "application/vnd.jupyter.widget-view+json": {
       "model_id": "fda1668a4a01467c93e0851a1883216e",
       "version_major": 2,
       "version_minor": 0
      },
      "text/plain": [
       "  0%|          | 0/27 [00:00<?, ?it/s]"
      ]
     },
     "metadata": {},
     "output_type": "display_data"
    },
    {
     "name": "stdout",
     "output_type": "stream",
     "text": [
      "{'eval_loss': 0.41944417357444763, 'eval_f1': 0.0, 'eval_runtime': 18.6613, 'eval_samples_per_second': 48.818, 'eval_steps_per_second': 1.447, 'epoch': 23.0}\n",
      "{'loss': 0.4959, 'learning_rate': 1.657142857142857e-05, 'epoch': 23.4}\n"
     ]
    },
    {
     "data": {
      "application/vnd.jupyter.widget-view+json": {
       "model_id": "617da1e948ea4217b8968b2e7eca0f3f",
       "version_major": 2,
       "version_minor": 0
      },
      "text/plain": [
       "  0%|          | 0/27 [00:00<?, ?it/s]"
      ]
     },
     "metadata": {},
     "output_type": "display_data"
    },
    {
     "name": "stdout",
     "output_type": "stream",
     "text": [
      "{'eval_loss': 0.4187367558479309, 'eval_f1': 0.0, 'eval_runtime': 19.1157, 'eval_samples_per_second': 47.657, 'eval_steps_per_second': 1.412, 'epoch': 24.0}\n",
      "{'loss': 0.4671, 'learning_rate': 1.5178571428571429e-05, 'epoch': 24.38}\n"
     ]
    },
    {
     "data": {
      "application/vnd.jupyter.widget-view+json": {
       "model_id": "c4f4220caba94099bafb5bb5a155dd2b",
       "version_major": 2,
       "version_minor": 0
      },
      "text/plain": [
       "  0%|          | 0/27 [00:00<?, ?it/s]"
      ]
     },
     "metadata": {},
     "output_type": "display_data"
    },
    {
     "name": "stdout",
     "output_type": "stream",
     "text": [
      "{'eval_loss': 0.4180944859981537, 'eval_f1': 0.0, 'eval_runtime': 19.3971, 'eval_samples_per_second': 46.966, 'eval_steps_per_second': 1.392, 'epoch': 25.0}\n",
      "{'loss': 0.478, 'learning_rate': 1.3785714285714285e-05, 'epoch': 25.35}\n"
     ]
    },
    {
     "data": {
      "application/vnd.jupyter.widget-view+json": {
       "model_id": "6ad59f99c6ac46689f47affa06c43e2c",
       "version_major": 2,
       "version_minor": 0
      },
      "text/plain": [
       "  0%|          | 0/27 [00:00<?, ?it/s]"
      ]
     },
     "metadata": {},
     "output_type": "display_data"
    },
    {
     "name": "stdout",
     "output_type": "stream",
     "text": [
      "{'eval_loss': 0.4176176190376282, 'eval_f1': 0.0, 'eval_runtime': 18.3773, 'eval_samples_per_second': 49.572, 'eval_steps_per_second': 1.469, 'epoch': 26.0}\n",
      "{'loss': 0.4903, 'learning_rate': 1.2392857142857143e-05, 'epoch': 26.32}\n"
     ]
    },
    {
     "data": {
      "application/vnd.jupyter.widget-view+json": {
       "model_id": "8966dce91a6747a9b81cf6538dd4cf39",
       "version_major": 2,
       "version_minor": 0
      },
      "text/plain": [
       "  0%|          | 0/27 [00:00<?, ?it/s]"
      ]
     },
     "metadata": {},
     "output_type": "display_data"
    },
    {
     "name": "stdout",
     "output_type": "stream",
     "text": [
      "{'eval_loss': 0.41721832752227783, 'eval_f1': 0.0, 'eval_runtime': 17.4134, 'eval_samples_per_second': 52.316, 'eval_steps_per_second': 1.551, 'epoch': 27.0}\n",
      "{'loss': 0.4739, 'learning_rate': 1.1000000000000001e-05, 'epoch': 27.3}\n"
     ]
    },
    {
     "data": {
      "application/vnd.jupyter.widget-view+json": {
       "model_id": "2006332b92c74dddabefb61776c228c2",
       "version_major": 2,
       "version_minor": 0
      },
      "text/plain": [
       "  0%|          | 0/27 [00:00<?, ?it/s]"
      ]
     },
     "metadata": {},
     "output_type": "display_data"
    },
    {
     "name": "stdout",
     "output_type": "stream",
     "text": [
      "{'eval_loss': 0.416869580745697, 'eval_f1': 0.0, 'eval_runtime': 17.6198, 'eval_samples_per_second': 51.703, 'eval_steps_per_second': 1.532, 'epoch': 28.0}\n",
      "{'loss': 0.4805, 'learning_rate': 9.607142857142858e-06, 'epoch': 28.27}\n"
     ]
    },
    {
     "data": {
      "application/vnd.jupyter.widget-view+json": {
       "model_id": "52b942d9d1e24ec780588ee1cbe372fc",
       "version_major": 2,
       "version_minor": 0
      },
      "text/plain": [
       "  0%|          | 0/27 [00:00<?, ?it/s]"
      ]
     },
     "metadata": {},
     "output_type": "display_data"
    },
    {
     "name": "stdout",
     "output_type": "stream",
     "text": [
      "{'eval_loss': 0.4166150689125061, 'eval_f1': 0.0, 'eval_runtime': 18.1187, 'eval_samples_per_second': 50.28, 'eval_steps_per_second': 1.49, 'epoch': 29.0}\n",
      "{'loss': 0.4838, 'learning_rate': 8.214285714285714e-06, 'epoch': 29.25}\n"
     ]
    },
    {
     "data": {
      "application/vnd.jupyter.widget-view+json": {
       "model_id": "821f2c68db0948938723c6ba4ace53a9",
       "version_major": 2,
       "version_minor": 0
      },
      "text/plain": [
       "  0%|          | 0/27 [00:00<?, ?it/s]"
      ]
     },
     "metadata": {},
     "output_type": "display_data"
    },
    {
     "name": "stdout",
     "output_type": "stream",
     "text": [
      "{'eval_loss': 0.41640177369117737, 'eval_f1': 0.0, 'eval_runtime': 18.4625, 'eval_samples_per_second': 49.343, 'eval_steps_per_second': 1.462, 'epoch': 30.0}\n",
      "{'loss': 0.4782, 'learning_rate': 6.821428571428572e-06, 'epoch': 30.23}\n"
     ]
    },
    {
     "data": {
      "application/vnd.jupyter.widget-view+json": {
       "model_id": "3ce28d7a73cb4b10bb462cbe7c69e790",
       "version_major": 2,
       "version_minor": 0
      },
      "text/plain": [
       "  0%|          | 0/27 [00:00<?, ?it/s]"
      ]
     },
     "metadata": {},
     "output_type": "display_data"
    },
    {
     "name": "stdout",
     "output_type": "stream",
     "text": [
      "{'eval_loss': 0.4162178635597229, 'eval_f1': 0.0, 'eval_runtime': 16.5917, 'eval_samples_per_second': 54.907, 'eval_steps_per_second': 1.627, 'epoch': 31.0}\n",
      "{'loss': 0.4799, 'learning_rate': 5.428571428571429e-06, 'epoch': 31.2}\n"
     ]
    },
    {
     "data": {
      "application/vnd.jupyter.widget-view+json": {
       "model_id": "d6a356507a734fcfbc52073c6160ce47",
       "version_major": 2,
       "version_minor": 0
      },
      "text/plain": [
       "  0%|          | 0/27 [00:00<?, ?it/s]"
      ]
     },
     "metadata": {},
     "output_type": "display_data"
    },
    {
     "name": "stdout",
     "output_type": "stream",
     "text": [
      "{'eval_loss': 0.4160914719104767, 'eval_f1': 0.0, 'eval_runtime': 16.5166, 'eval_samples_per_second': 55.156, 'eval_steps_per_second': 1.635, 'epoch': 32.0}\n",
      "{'loss': 0.4747, 'learning_rate': 4.035714285714285e-06, 'epoch': 32.17}\n"
     ]
    },
    {
     "data": {
      "application/vnd.jupyter.widget-view+json": {
       "model_id": "12a375b78281463d8f9b69cad21558af",
       "version_major": 2,
       "version_minor": 0
      },
      "text/plain": [
       "  0%|          | 0/27 [00:00<?, ?it/s]"
      ]
     },
     "metadata": {},
     "output_type": "display_data"
    },
    {
     "name": "stdout",
     "output_type": "stream",
     "text": [
      "{'eval_loss': 0.415996789932251, 'eval_f1': 0.0, 'eval_runtime': 18.2249, 'eval_samples_per_second': 49.986, 'eval_steps_per_second': 1.481, 'epoch': 33.0}\n",
      "{'loss': 0.4776, 'learning_rate': 2.642857142857143e-06, 'epoch': 33.15}\n"
     ]
    },
    {
     "data": {
      "application/vnd.jupyter.widget-view+json": {
       "model_id": "ff711aa9942d42dda067a020c438bc72",
       "version_major": 2,
       "version_minor": 0
      },
      "text/plain": [
       "  0%|          | 0/27 [00:00<?, ?it/s]"
      ]
     },
     "metadata": {},
     "output_type": "display_data"
    },
    {
     "name": "stdout",
     "output_type": "stream",
     "text": [
      "{'eval_loss': 0.4159396290779114, 'eval_f1': 0.0, 'eval_runtime': 17.3497, 'eval_samples_per_second': 52.508, 'eval_steps_per_second': 1.556, 'epoch': 34.0}\n",
      "{'loss': 0.4831, 'learning_rate': 1.25e-06, 'epoch': 34.12}\n"
     ]
    },
    {
     "data": {
      "application/vnd.jupyter.widget-view+json": {
       "model_id": "bfa0672924b24378b59c81623e27b94d",
       "version_major": 2,
       "version_minor": 0
      },
      "text/plain": [
       "  0%|          | 0/27 [00:00<?, ?it/s]"
      ]
     },
     "metadata": {},
     "output_type": "display_data"
    },
    {
     "name": "stdout",
     "output_type": "stream",
     "text": [
      "{'eval_loss': 0.4159213900566101, 'eval_f1': 0.0, 'eval_runtime': 18.4124, 'eval_samples_per_second': 49.478, 'eval_steps_per_second': 1.466, 'epoch': 35.0}\n",
      "{'train_runtime': 6009.7452, 'train_samples_per_second': 8.025, 'train_steps_per_second': 0.233, 'train_loss': 0.5989043985094343, 'epoch': 35.0}\n"
     ]
    },
    {
     "data": {
      "application/vnd.jupyter.widget-view+json": {
       "model_id": "a5fa508414ac4d64a76d134731e34a05",
       "version_major": 2,
       "version_minor": 0
      },
      "text/plain": [
       "Map:   0%|          | 0/911 [00:00<?, ? examples/s]"
      ]
     },
     "metadata": {},
     "output_type": "display_data"
    },
    {
     "name": "stdout",
     "output_type": "stream",
     "text": [
      "    Epoch  Training Loss  Validation Loss   F1  \\\n",
      "0       1         1.4437         1.207251  0.0   \n",
      "1       1         1.4437         1.207251  0.0   \n",
      "2       2         1.1627         1.059522  0.0   \n",
      "3       2         1.1627         1.059522  0.0   \n",
      "4       3         1.0393         0.944573  0.0   \n",
      "..    ...            ...              ...  ...   \n",
      "66     33         0.4776         0.415940  0.0   \n",
      "67     34         0.4776         0.415940  0.0   \n",
      "68     34         0.4831         0.415921  0.0   \n",
      "69     35         0.4831         0.415921  0.0   \n",
      "70     35         0.4831         0.415921  0.0   \n",
      "\n",
      "                                                Model  \n",
      "0   distilbert-base-uncased_ds_down_sample_lstm_2_...  \n",
      "1   distilbert-base-uncased_ds_down_sample_lstm_2_...  \n",
      "2   distilbert-base-uncased_ds_down_sample_lstm_2_...  \n",
      "3   distilbert-base-uncased_ds_down_sample_lstm_2_...  \n",
      "4   distilbert-base-uncased_ds_down_sample_lstm_2_...  \n",
      "..                                                ...  \n",
      "66  distilbert-base-uncased_ds_down_sample_lstm_2_...  \n",
      "67  distilbert-base-uncased_ds_down_sample_lstm_2_...  \n",
      "68  distilbert-base-uncased_ds_down_sample_lstm_2_...  \n",
      "69  distilbert-base-uncased_ds_down_sample_lstm_2_...  \n",
      "70  distilbert-base-uncased_ds_down_sample_lstm_2_...  \n",
      "\n",
      "[71 rows x 5 columns]\n"
     ]
    }
   ],
   "source": [
    "weight_decays = [0.01]\n",
    "model_architectures = {'linear': None\n",
    "                       ,'additional_linear':'additional_linear'\n",
    "                       ,'lstm':'lstm'}\n",
    "epoch = 35\n",
    "\n",
    "trainer_res = pd.DataFrame()\n",
    "batch_size = 35\n",
    "datasets = {'down_sample': downsample_ds\n",
    "            # ,'normal': ds\n",
    "            }\n",
    "\n",
    "# Define token weights for loss calculation\n",
    "# flatten_tags = sum(ds['train']['tags'],[])\n",
    "# inverse_weights = Counter(flatten_tags)\n",
    "# inverse_weights = [inverse_weights[x] for x in tags.names]\n",
    "# inverse_weights = 1 / np.array(inverse_weights)\n",
    "\n",
    "token_weights_options = {\n",
    "                        'no_weight': []\n",
    "                        }\n",
    "\n",
    "i = 0\n",
    "for model_architecture in model_architectures:\n",
    "  for dataset in datasets:\n",
    "    model_name_input = '_ds_'+ dataset + '_' + model_architecture + '_' + str(i)\n",
    "    for weight_decay in weight_decays:\n",
    "        \n",
    "      for loss_token_weights in token_weights_options:\n",
    "            # Clear cache\n",
    "        torch.mps.empty_cache()\n",
    "        os.environ['PYTORCH_MPS_HIGH_WATERMARK_RATIO'] = '0.0' # this setting is needed to run NN on my Mac\n",
    "        device = torch.device('mps') # This is required for Mac\n",
    "        \n",
    "        model_name, _, trainer_res_df,_,_, df_validation_metrics = modelTuning.fine_tune_model(datasets[dataset], model_name_input, model_architecture, epoch,batch_size,weight_decay,token_weights_options[loss_token_weights])\n",
    "        trainer_res_df['Model'] = model_name\n",
    "        df_validation_metrics[['input_tokens','predicted_label_txt']].to_csv('models/predictions/'+ model_name +'.csv')\n",
    "        # trainer_res = pd.concat([trainer_res, trainer_res_df])\n",
    "        trainer_res_df.to_csv(f'models/tuning_results_{model_name}.csv')\n",
    "        print(trainer_res_df)\n",
    "        i += 1\n",
    "modelPerformanceLog = modelTuning.modelPerformanceLog\n",
    "modelTuning.modelPerformanceLog.get_logs()\n",
    "trainer_res_df.to_csv('models/tuning_results_v2.csv')"
   ]
  },
  {
   "cell_type": "markdown",
   "metadata": {},
   "source": [
    "## 7.5. <a id='toc7_5_'></a>[Error analysis](#toc0_)"
   ]
  },
  {
   "cell_type": "markdown",
   "metadata": {},
   "source": [
    "### 7.5.1. <a id='toc7_5_1_'></a>[Group by word token](#toc0_)"
   ]
  },
  {
   "cell_type": "code",
   "execution_count": null,
   "metadata": {},
   "outputs": [],
   "source": [
    "# (\n",
    "#     df_tokens.groupby(\"input_tokens\")[[\"loss\"]]\n",
    "#     .agg([\"count\", \"mean\", \"sum\"])\n",
    "#     .droplevel(level=0, axis=1)  # Get rid of multi-level columns\n",
    "#     .sort_values(by=\"sum\", ascending=False)\n",
    "#     .reset_index()\n",
    "#     .round(2)\n",
    "#     .head(10)\n",
    "#     .T\n",
    "# )"
   ]
  },
  {
   "cell_type": "code",
   "execution_count": null,
   "metadata": {},
   "outputs": [],
   "source": [
    "# (\n",
    "#   df_tokens[df_tokens['input_tokens']=='battery'].groupby([\"predicted_label\", 'labels'])[[\"loss\"]]\n",
    "#     .agg([\"count\", \"mean\", \"sum\"])\n",
    "#     .droplevel(level=0, axis=1)  # Get rid of multi-level columns\n",
    "#     .sort_values(by=\"sum\", ascending=False)\n",
    "#     .reset_index()\n",
    "#     .round(2)\n",
    "#     .head(10)\n",
    "#     .T\n",
    "# )"
   ]
  },
  {
   "cell_type": "markdown",
   "metadata": {},
   "source": [
    "### 7.5.2. <a id='toc7_5_2_'></a>[Group by Tag ID](#toc0_)"
   ]
  },
  {
   "cell_type": "code",
   "execution_count": null,
   "metadata": {},
   "outputs": [],
   "source": [
    "# (\n",
    "#     df_tokens.groupby(\"labels\")[[\"loss\"]] \n",
    "#     .agg([\"count\", \"mean\", \"sum\"])\n",
    "#     .droplevel(level=0, axis=1)\n",
    "#     .sort_values(by=\"mean\", ascending=False)\n",
    "#     .reset_index()\n",
    "#     .round(2)\n",
    "#     .T\n",
    "# )"
   ]
  },
  {
   "cell_type": "code",
   "execution_count": null,
   "metadata": {},
   "outputs": [],
   "source": [
    "# def plot_confusion_matrix(y_preds, y_true, labels):\n",
    "#     cm = confusion_matrix(y_true, y_preds, normalize=\"true\")\n",
    "#     fig, ax = plt.subplots(figsize=(6, 6))\n",
    "#     disp = ConfusionMatrixDisplay(confusion_matrix=cm, display_labels=labels)\n",
    "#     disp.plot(cmap=\"Blues\", values_format=\".2f\", ax=ax, colorbar=False)\n",
    "#     plt.title(\"Normalized confusion matrix\")\n",
    "#     plt.show()"
   ]
  },
  {
   "cell_type": "code",
   "execution_count": null,
   "metadata": {},
   "outputs": [],
   "source": [
    "# plot_confusion_matrix(df_tokens[\"labels\"], df_tokens[\"predicted_label\"],\n",
    "#                       list(tag2index.keys()))\n"
   ]
  },
  {
   "cell_type": "code",
   "execution_count": null,
   "metadata": {},
   "outputs": [],
   "source": [
    "# def get_samples(df):\n",
    "#     for _, row in df.iterrows():\n",
    "#         labels, preds, tokens, losses = [], [], [], []\n",
    "#         for i, mask in enumerate(row[\"attention_mask\"]):\n",
    "#             if i not in {0, len(row[\"attention_mask\"])}:\n",
    "#                 labels.append(row[\"labels\"][i])\n",
    "#                 preds.append(row[\"predicted_label\"][i])\n",
    "#                 tokens.append(row[\"input_tokens\"][i])\n",
    "#                 losses.append(f\"{row['loss'][i]:.2f}\")\n",
    "#         df_tmp = pd.DataFrame({\"tokens\": tokens, \"labels\": labels, \n",
    "#                                \"preds\": preds, \"losses\": losses}).T\n",
    "#         yield df_tmp\n",
    "\n",
    "# df_validation[\"total_loss\"] = df_validation[\"loss\"].apply(sum)\n",
    "# df_tmp = df_validation.sort_values(by=\"total_loss\", ascending=False).head(3)\n",
    "\n",
    "# for sample in get_samples(df_tmp):\n",
    "#     display(sample.T)\n",
    "     "
   ]
  },
  {
   "cell_type": "markdown",
   "metadata": {},
   "source": [
    "Errors could be from human / annotation errors: United Nations is ORG, not PER, similar to Central African Republic. This can happen as data was annotated using rule based, it is better with human annotations, but mistakes can always occur."
   ]
  },
  {
   "cell_type": "code",
   "execution_count": null,
   "metadata": {},
   "outputs": [],
   "source": [
    "# df_tmp = df_validation.loc[df_validation[\"input_tokens\"].apply(lambda x: u\"\\u2581(\" in x)].head(2)\n",
    "# for sample in get_samples(df_tmp):\n",
    "#     display(sample.T)"
   ]
  },
  {
   "cell_type": "markdown",
   "metadata": {},
   "source": [
    "## 7.6. <a id='toc7_6_'></a>[Load saved model](#toc0_)"
   ]
  },
  {
   "cell_type": "markdown",
   "metadata": {},
   "source": [
    "### 7.6.1. <a id='toc7_6_1_'></a>[Load model manually](#toc0_)"
   ]
  },
  {
   "cell_type": "code",
   "execution_count": null,
   "metadata": {},
   "outputs": [],
   "source": [
    "# from transformers import AutoModelForTokenClassification\n",
    "\n",
    "# # Reload the model\n",
    "# loaded_model = AutoModelForTokenClassification.from_pretrained('model/distilbert-base-uncased-absa-downsample-1-3').to(device) #output_model_dir\n",
    "# loaded_tokenizer = AutoTokenizer.from_pretrained('model/distilbert-base-uncased-absa-downsample-1-3')\n"
   ]
  },
  {
   "cell_type": "code",
   "execution_count": null,
   "metadata": {},
   "outputs": [],
   "source": [
    "# num = 99\n",
    "# sample_input = df_train.iloc[num]['text']\n",
    "# print(sample_input)\n",
    "# print(df_train.iloc[num]['aspects'])"
   ]
  },
  {
   "cell_type": "code",
   "execution_count": null,
   "metadata": {},
   "outputs": [],
   "source": [
    "# # Assuming you have some input data\n",
    "# input_data = [sample_input]\n",
    "\n",
    "# # Tokenize and get predictions\n",
    "# inputs = loaded_tokenizer(input_data, is_split_into_words=True, return_tensors=\"pt\")\n",
    "\n",
    "# input_ids = inputs[\"input_ids\"].to(device)\n",
    "# attention_mask = inputs[\"attention_mask\"].to(device)\n",
    "\n",
    "# # Make predictions\n",
    "# with torch.no_grad():\n",
    "#   outputs = loaded_model(input_ids, attention_mask)\n",
    "\n",
    "# predicted_label_idx = torch.argmax(outputs.logits, axis=-1).cpu().numpy()\n",
    "# df_res = pd.DataFrame({'predicted_label': predicted_label_idx.tolist(), \n",
    "#                       'input_ids': inputs['input_ids'].numpy().tolist()}\n",
    "#                       )"
   ]
  },
  {
   "cell_type": "code",
   "execution_count": null,
   "metadata": {},
   "outputs": [],
   "source": [
    "# index2tag_new = loaded_model.config.id2label.copy()\n",
    "# index2tag_new[-100] = \"IGN\"\n",
    "# df_res[\"input_tokens\"] = df_res[\"input_ids\"].apply(\n",
    "#     lambda x: loaded_tokenizer.convert_ids_to_tokens(x))\n",
    "# df_res[\"predicted_label_text\"] = df_res[\"predicted_label\"].apply(\n",
    "#     lambda x: [index2tag_new[i] for i in x])\n",
    "# df_res['predicted_label'] = df_res.apply(\n",
    "#     lambda x: x['predicted_label'][:len(x['input_ids'])], axis=1)\n",
    "# df_res['predicted_label_text'] = df_res.apply(\n",
    "#     lambda x: x['predicted_label_text'][:len(x['input_ids'])], axis=1)\n",
    "\n",
    "# df_res_tokens = df_res.apply(pd.Series.explode)\n",
    "\n",
    "# df_res_tokens"
   ]
  },
  {
   "cell_type": "markdown",
   "metadata": {},
   "source": [
    "### 7.6.2. <a id='toc7_6_2_'></a>[Pipeline](#toc0_)"
   ]
  },
  {
   "cell_type": "code",
   "execution_count": null,
   "metadata": {},
   "outputs": [],
   "source": [
    "# from transformers import pipeline\n",
    "\n",
    "# token_classifier = pipeline(\n",
    "#     \"token-classification\", model='model/distilbert-base-uncased-absa-downsample-1-3', aggregation_strategy=\"simple\"\n",
    "# )\n",
    "# token_classifier(sample_input)"
   ]
  }
 ],
 "metadata": {
  "kernelspec": {
   "display_name": "sentilens_env",
   "language": "python",
   "name": "python3"
  },
  "language_info": {
   "codemirror_mode": {
    "name": "ipython",
    "version": 3
   },
   "file_extension": ".py",
   "mimetype": "text/x-python",
   "name": "python",
   "nbconvert_exporter": "python",
   "pygments_lexer": "ipython3",
   "version": "3.9.18"
  }
 },
 "nbformat": 4,
 "nbformat_minor": 2
}
