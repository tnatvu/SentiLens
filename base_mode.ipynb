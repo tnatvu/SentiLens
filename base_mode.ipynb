{
 "cells": [
  {
   "cell_type": "markdown",
   "metadata": {},
   "source": [
    "<div style='font-size: 3em'>SentiLens - Uncover reviews' hidden emotion</div>\n",
    "\n",
    "__Prepared by:__ Tina Vu</br>\n",
    "__Date:__ 20231208</br>\n",
    "\n",
    "Employing aspect-based sentiment analysis (ABSA) to extract valuable feature insights from e-commerce product reviews, thereby empowering consumers to make more informed purchasing decisions and enhancing their overall user experience on the platform.\n",
    "\n",
    "Utilizing manually annotated reviews for aspect sentiment analysis to extract aspects and predict sentiments from reviews. This enables consumers to obtain a condensed overview of sentiments related to various product features, eliminating the need to delve into an extensive array of reviews. As a result, the decision-making process becomes more streamlined and user-friendly.\n",
    "\n",
    "__Phase:__\n",
    "1. Supervised ABSA (What, How): Aspect term extration and aspect term sentiment classification\n",
    "2. Unsupervised ABSA\n",
    "3. Add 'Why' into ABSA\n",
    "\n",
    "This notebook/ project may only aim to complete the first phase.\n",
    "\n",
    "<div style='font-size: 2em'>Phase 1 - Aspect Extration</div>"
   ]
  },
  {
   "cell_type": "markdown",
   "metadata": {},
   "source": [
    "**Table of contents**<a id='toc0_'></a>    \n",
    "- 1. [Import & prepare dataset](#toc1_)    \n",
    "  - 1.1. [Import data](#toc1_1_)    \n",
    "  - 1.2. [Preparing dataset for modelling](#toc1_2_)    \n",
    "    - 1.2.1. [BIO tagging encode](#toc1_2_1_)    \n",
    "    - 1.2.2. [Word features](#toc1_2_2_)    \n",
    "    - 1.2.3. [Define data processing functions](#toc1_2_3_)    \n",
    "    - 1.2.4. [Complete data preparation](#toc1_2_4_)    \n",
    "- 2. [Exploratory data analysis](#toc2_)    \n",
    "  - 2.1. [Flatten word features](#toc2_1_)    \n",
    "  - 2.2. [Aspect word distribution](#toc2_2_)    \n",
    "  - 2.3. [Part-of-speech](#toc2_3_)    \n",
    "  - 2.4. [Opinion Lexicon - Sentiment](#toc2_4_)    \n",
    "- 3. [Split data](#toc3_)    \n",
    "- 4. [Random forest](#toc4_)    \n",
    "  - 4.1. [Data prepration](#toc4_1_)    \n",
    "    - 4.1.1. [Flattening](#toc4_1_1_)    \n",
    "    - 4.1.2. [Oversampling](#toc4_1_2_)    \n",
    "    - 4.1.3. [Scaling](#toc4_1_3_)    \n",
    "  - 4.2. [Model](#toc4_2_)    \n",
    "  - 4.3. [Test](#toc4_3_)    \n",
    "  - 4.4. [Feature importance](#toc4_4_)    \n",
    "- 5. [CRF model](#toc5_)    \n",
    "  - 5.1. [Model](#toc5_1_)    \n",
    "  - 5.2. [Test](#toc5_2_)    \n",
    "  - 5.3. [Further look into the model's mistakes](#toc5_3_)    \n",
    "  - 5.4. [BIO construction violations](#toc5_4_)    \n",
    "- 6. [Model evaluation](#toc6_)    \n",
    "  - 6.1. [Metric for model evaluation](#toc6_1_)    \n",
    "- 7. [Sample visualization](#toc7_)    \n",
    "- 8. [Next steps](#toc8_)    \n",
    "\n",
    "<!-- vscode-jupyter-toc-config\n",
    "\tnumbering=true\n",
    "\tanchor=true\n",
    "\tflat=false\n",
    "\tminLevel=1\n",
    "\tmaxLevel=6\n",
    "\t/vscode-jupyter-toc-config -->\n",
    "<!-- THIS CELL WILL BE REPLACED ON TOC UPDATE. DO NOT WRITE YOUR TEXT IN THIS CELL -->"
   ]
  },
  {
   "cell_type": "code",
   "execution_count": 49,
   "metadata": {},
   "outputs": [
    {
     "name": "stderr",
     "output_type": "stream",
     "text": [
      "[nltk_data] Downloading package punkt to /Users/tina.vu/nltk_data...\n",
      "[nltk_data]   Package punkt is already up-to-date!\n",
      "[nltk_data] Downloading package opinion_lexicon to\n",
      "[nltk_data]     /Users/tina.vu/nltk_data...\n",
      "[nltk_data]   Package opinion_lexicon is already up-to-date!\n"
     ]
    }
   ],
   "source": [
    "import numpy as np\n",
    "import pandas as pd\n",
    "import re\n",
    "import string\n",
    "import random\n",
    "\n",
    "import plotly.graph_objects as go\n",
    "from plotly.subplots import make_subplots\n",
    "import plotly.express as px\n",
    "import matplotlib\n",
    "import matplotlib.pyplot as plt\n",
    "import seaborn as sns\n",
    "from highlight_text import HighlightText, ax_text, fig_text\n",
    "\n",
    "import nltk\n",
    "from collections import Counter\n",
    "from nltk.tokenize import word_tokenize\n",
    "from nltk.corpus import stopwords, opinion_lexicon\n",
    "\n",
    "# Download NLTK resources (if not already downloaded)\n",
    "nltk.download('punkt')\n",
    "nltk.download('opinion_lexicon')\n",
    "# nltk.download()\n",
    "\n",
    "# Load positive and negative words from the opinion lexicon\n",
    "POSITIVE_WORDS = set(opinion_lexicon.positive())\n",
    "NEGATIVE_WORDS = set(opinion_lexicon.negative())\n",
    "# Load common stop words in english\n",
    "EN_STOP_WORDS = set(stopwords.words('english'))\n",
    "# Define context switching words\n",
    "CONTEXT_SWITCHING_WORDS = ['but', 'yet', 'however', 'nevertheless', 'still', 'nonetheless', 'although', 'though', 'even though', 'while']\n",
    "\n",
    "\n",
    "\n",
    "from sklearn.model_selection import train_test_split\n",
    "from sklearn.preprocessing import StandardScaler\n",
    "from sklearn.decomposition import PCA\n",
    "from sklearn.metrics import confusion_matrix\n",
    "from sklearn.metrics import accuracy_score, classification_report\n",
    "\n",
    "from imblearn.over_sampling import SMOTE\n",
    "\n",
    "from sklearn_crfsuite import CRF\n",
    "from sklearn.ensemble import RandomForestClassifier\n",
    "from sklearn.preprocessing import OneHotEncoder\n",
    "\n"
   ]
  },
  {
   "cell_type": "code",
   "execution_count": 50,
   "metadata": {},
   "outputs": [],
   "source": [
    "def vizualize_samples (sentences, tag_dict):\n",
    "\n",
    "  fig, ax = plt.subplots(figsize=(30,10))\n",
    "  font = {'family' : 'arial',\n",
    "          'size'   : 16}\n",
    "  matplotlib.rc('font', **font)\n",
    "  final_text = []\n",
    "  color = []\n",
    "  pos_element = {\"bbox\": {\"edgecolor\": \"Green\", \"facecolor\": \"#99FF00\", \"linewidth\": 1.5, \"pad\": 1}} \n",
    "  neu_element = {\"bbox\": {\"edgecolor\": \"Orange\", \"facecolor\": \"Yellow\", \"linewidth\": 1.5, \"pad\": 1.5}} \n",
    "  neg_element = {\"bbox\": {\"edgecolor\": \"Red\", \"facecolor\": \"#FF99CC\", \"linewidth\": 1.5, \"pad\": 1}}\n",
    "  con_element = {\"bbox\": {\"edgecolor\": \"#6600FF\", \"facecolor\": \"#99FFFF\", \"linewidth\": 1.5, \"pad\": 1}}\n",
    "  \n",
    "  color_map = {'POS': pos_element, 'NEU': neu_element, 'NEG':neg_element, 'CON': con_element}\n",
    "\n",
    "  final_text.append('\\n---------------\\n')\n",
    "  final_text.append(f'  <positive>  ')\n",
    "  color.append(pos_element)\n",
    "  final_text.append(f'  <negative>  ')\n",
    "  color.append(neg_element)\n",
    "  final_text.append(f'  <neutral>  ')\n",
    "  color.append(neu_element)\n",
    "  final_text.append(f'  <conflict>  ')\n",
    "  color.append(con_element)\n",
    "  final_text.append('\\n---------------\\n\\n\\n')\n",
    "\n",
    "  for s in range(0, len(sentences)):\n",
    "    \n",
    "    chunk = []\n",
    "    next_tag = ''\n",
    "    \n",
    "    for k in tag_dict:\n",
    "      # print(k)\n",
    "      tags = tag_dict[k]\n",
    "      final_text.append(f'\\n({k}) ')\n",
    "      for w in range(0, len(sentences[s])):\n",
    "        word = sentences[s][w]\n",
    "        tag = tags[s][w]\n",
    "\n",
    "        if w + 1 < len(sentences[s]):\n",
    "          next_tag = tags[s][w+1]\n",
    "        else:\n",
    "          next_tag = 'O'\n",
    "\n",
    "\n",
    "        if tag == 'O':\n",
    "          final_text.append(word)\n",
    "        elif (tag[:1] in ['B','I']):\n",
    "          chunk.append(word)\n",
    "\n",
    "        if (next_tag[:1] in ['B','O']) & (len(chunk) > 0):\n",
    "          final_text.append(f'< {\" \".join(chunk)}> ')\n",
    "          color.append(color_map[tag[2:]])\n",
    "          chunk = []\n",
    "    \n",
    "    final_text.append('\\n---------------\\n')\n",
    "\n",
    "\n",
    "    HighlightText(x=0, y=1,\n",
    "                s=' '.join(final_text),\n",
    "                highlight_textprops=color,\n",
    "                ax=ax)\n",
    "                \n",
    "    plt.axis('off')"
   ]
  },
  {
   "cell_type": "markdown",
   "metadata": {},
   "source": [
    "# 1. <a id='toc1_'></a>[Import & prepare dataset](#toc0_)"
   ]
  },
  {
   "cell_type": "markdown",
   "metadata": {},
   "source": [
    "## 1.1. <a id='toc1_1_'></a>[Import data](#toc0_)\n",
    "\n",
    "We will load laptop reviews dataset with aspect term & sentiment annotations.\n",
    "\n",
    "The dataset comes in two parts:\n",
    "- train: 3,048 records\n",
    "- test: 800 records\n",
    "\n",
    "Each record is a sentence with zero, one or multiple aspect terms. Each aspect term has the following features:\n",
    "- start character index\n",
    "- end character index\n",
    "- sentiment/ polarity (positive or negative)"
   ]
  },
  {
   "cell_type": "code",
   "execution_count": 51,
   "metadata": {},
   "outputs": [
    {
     "name": "stdout",
     "output_type": "stream",
     "text": [
      "df_train shape:  (3048, 3)\n",
      "df_val shape:  (800, 2)\n"
     ]
    }
   ],
   "source": [
    "df_train = pd.read_json('data/laptop/train.json')\n",
    "print('df_train shape: ', df_train.shape)\n",
    "\n",
    "df_val = pd.read_json('data/laptop/validate.json') # This will only be used for the very last step to evaluate how well the model is, but is input now for validating the BIO tagging to ensure the function works properly\n",
    "df_val.set_index('id', inplace=True)\n",
    "print('df_val shape: ', df_val.shape)"
   ]
  },
  {
   "cell_type": "code",
   "execution_count": 52,
   "metadata": {},
   "outputs": [
    {
     "data": {
      "text/html": [
       "<div>\n",
       "<style scoped>\n",
       "    .dataframe tbody tr th:only-of-type {\n",
       "        vertical-align: middle;\n",
       "    }\n",
       "\n",
       "    .dataframe tbody tr th {\n",
       "        vertical-align: top;\n",
       "    }\n",
       "\n",
       "    .dataframe thead th {\n",
       "        text-align: right;\n",
       "    }\n",
       "</style>\n",
       "<table border=\"1\" class=\"dataframe\">\n",
       "  <thead>\n",
       "    <tr style=\"text-align: right;\">\n",
       "      <th></th>\n",
       "      <th>id</th>\n",
       "      <th>text</th>\n",
       "      <th>aspects</th>\n",
       "    </tr>\n",
       "  </thead>\n",
       "  <tbody>\n",
       "    <tr>\n",
       "      <th>0</th>\n",
       "      <td>2339</td>\n",
       "      <td>I charge it at night and skip taking the cord ...</td>\n",
       "      <td>[{'term': 'cord', 'polarity': 'neutral', 'from...</td>\n",
       "    </tr>\n",
       "    <tr>\n",
       "      <th>1</th>\n",
       "      <td>812</td>\n",
       "      <td>I bought a HP Pavilion DV4-1222nr laptop and h...</td>\n",
       "      <td>[{'term': '', 'polarity': '', 'from': 0, 'to':...</td>\n",
       "    </tr>\n",
       "    <tr>\n",
       "      <th>2</th>\n",
       "      <td>1316</td>\n",
       "      <td>The tech guy then said the service center does...</td>\n",
       "      <td>[{'term': 'service center', 'polarity': 'negat...</td>\n",
       "    </tr>\n",
       "    <tr>\n",
       "      <th>3</th>\n",
       "      <td>2328</td>\n",
       "      <td>I investigated netbooks and saw the Toshiba NB...</td>\n",
       "      <td>[{'term': '', 'polarity': '', 'from': 0, 'to':...</td>\n",
       "    </tr>\n",
       "    <tr>\n",
       "      <th>4</th>\n",
       "      <td>2193</td>\n",
       "      <td>The other day I had a presentation to do for a...</td>\n",
       "      <td>[{'term': '', 'polarity': '', 'from': 0, 'to':...</td>\n",
       "    </tr>\n",
       "  </tbody>\n",
       "</table>\n",
       "</div>"
      ],
      "text/plain": [
       "     id                                               text  \\\n",
       "0  2339  I charge it at night and skip taking the cord ...   \n",
       "1   812  I bought a HP Pavilion DV4-1222nr laptop and h...   \n",
       "2  1316  The tech guy then said the service center does...   \n",
       "3  2328  I investigated netbooks and saw the Toshiba NB...   \n",
       "4  2193  The other day I had a presentation to do for a...   \n",
       "\n",
       "                                             aspects  \n",
       "0  [{'term': 'cord', 'polarity': 'neutral', 'from...  \n",
       "1  [{'term': '', 'polarity': '', 'from': 0, 'to':...  \n",
       "2  [{'term': 'service center', 'polarity': 'negat...  \n",
       "3  [{'term': '', 'polarity': '', 'from': 0, 'to':...  \n",
       "4  [{'term': '', 'polarity': '', 'from': 0, 'to':...  "
      ]
     },
     "execution_count": 52,
     "metadata": {},
     "output_type": "execute_result"
    }
   ],
   "source": [
    "df_train.head()"
   ]
  },
  {
   "cell_type": "markdown",
   "metadata": {},
   "source": [
    "## 1.2. <a id='toc1_2_'></a>[Preparing dataset for modelling](#toc0_)\n",
    "\n",
    "The task we are solving is Named Entity Recognition (NER) which is a sequential labeling task, a.k.a we would like to predict whether a token (word) in each sentence is part of an aspect term or not.\n",
    "\n",
    "In order to prepare the data for NER task, we need to label our tokens. Here, I implemented a unified BIO tagging technique which combines aspect boundaries and aspect sentiment.\n",
    "\n",
    "Word boundaries:\n",
    "- B: indicates the 1st word in the aspect term\n",
    "- I: indicates the subsequent word in the aspect term\n",
    "- O: indicates words that are not part of any aspect term\n",
    "\n",
    "Aspect sentiment:\n",
    "- POS: positive\n",
    "- NEU: neutral\n",
    "- NEG: conflict\n",
    "\n",
    "This BIO label technique is more effective in recognizing unigram and n-gram aspect terms comparing to a binary classification (whether a token is part of an aspect). By using a unified a approach, we can combine two tasks: aspect extraction and sentiment classification into one task."
   ]
  },
  {
   "cell_type": "code",
   "execution_count": 53,
   "metadata": {},
   "outputs": [
    {
     "data": {
      "text/plain": [
       "(3036, 3)"
      ]
     },
     "execution_count": 53,
     "metadata": {},
     "output_type": "execute_result"
    }
   ],
   "source": [
    "# First, I will need to drop some duplicated data in our training dataset, as identified in the EDA process.\n",
    "df_train.drop_duplicates(subset='text', inplace=True)\n",
    "\n",
    "# We have removed 12 duplicated records in our training dataset\n",
    "df_train.shape"
   ]
  },
  {
   "cell_type": "markdown",
   "metadata": {},
   "source": [
    "### 1.2.1. <a id='toc1_2_1_'></a>[BIO tagging encode](#toc0_)"
   ]
  },
  {
   "cell_type": "markdown",
   "metadata": {},
   "source": [
    "Here, I defined a function to encode our sentences' aspects using a unified BIO tagging technique (<a href='https://arxiv.org/pdf/1811.05082.pdf'>reference</a>) that combines aspect boundaries and aspect sentiment in a single label.\n",
    "\n",
    "Word boundaries:\n",
    "- B: indicates the 1st word in the aspect term\n",
    "- I: indicates the subsequent word in the aspect term\n",
    "- O: indicates words that are not part of any aspect term\n",
    "\n",
    "Aspect sentiment:\n",
    "- POS: positive\n",
    "- NEU: neutral\n",
    "- NEG: conflict\n",
    "\n",
    "Unified BIO tagging will be like: B-NEU, I-NEU\n",
    "\n",
    "For example:\n",
    "['I', 'charge', 'it', 'at', 'night', 'and', 'skip', 'taking', 'the', 'cord', 'with', 'me', 'because', 'of', 'the', 'good', 'battery', 'life', '.']\n",
    "['O', 'O', 'O', 'O', 'O', 'O', 'O', 'O', 'O', 'B-NEU', 'I-NEU', 'O', 'O', 'O', 'O', 'O', 'B-POS', 'I-POS', 'I-POS']"
   ]
  },
  {
   "cell_type": "markdown",
   "metadata": {},
   "source": [
    "Since the dataset provides a full sentence and annotates aspect term using character index, we cannot perform word_tokenize directly on the raw text due to:\n",
    "  1. Word_tokenize separates punctuation as a single normal token which makes it difficult to re-string (combine) word tokens (using ' '.join(tokens)) for character index, as it adds extra spaces between word and punctuations, thus invalidate character index for aspect terms. This makes it very difficult to align the aspect term character index and word index accurately.</br>\n",
    "  E.g. \"I love pizza, cheese.\", term indexes are (7,12),(16,22), re-string tokens from word_tokenize (' '.join(tokens)) can turn the sentence into \"I love pizza__\\<extra space\\>__, cheese__\\<extra space\\>__.\". The char index of the aspect terms now become (7,12), `(17,23)`.\n",
    "  \n",
    "  2. Word_tokenize tends to not separate words that have special characters between them (other than space and common punctuations like <,.:;>), while some terms treated those chunks as separated terms. \n",
    "  E.g. \"size/screen\" is a single token based on word_tokenize, while terms defined this as two separate tokens. \n",
    "\n",
    "Therefore, I applied the below approach to acoomodate the above short commings:\n",
    "  1. Add aspect_prefix & aspect_suffix (with additional spaces in order to overcome issue #2) to the start & end of each aspect term (to overcome issue #1) in the sentence using from, to char index as supplied by the dataset\n",
    "  2. Perform word_tokenize on the new aspect_annotated_sentence\n",
    "  3. Perform BIO tagging on the sentence token\n",
    "  \n",
    "  \\* I have also looked into removing punctuation tokens out of the training data, however, after reviewing some of the samples, punctuation is actually important for the model to learn and break down aspect terms into different chunks. For example: \"window, screen\", without punctuation token, the model tend to predict them as a single aspect term: \"window screen\", however, they should be 2 separated terms: \"window\" & \"screen\". Therefore, I believe it is very important to retain punctuation in the training data set. As the same time, I have also added `is_punctuation` feature to our training data."
   ]
  },
  {
   "cell_type": "code",
   "execution_count": 54,
   "metadata": {},
   "outputs": [],
   "source": [
    "def encode_unified_BIO (x, sentiment_tag=False):\n",
    "  '''  This function puts aspect's details into a dictionary, and multiple aspect as an array\n",
    "  \n",
    "  Parameter:\n",
    "  - ASPECTS: dictionary array\n",
    "    dictionary of\n",
    "    - term\n",
    "    - polarity\n",
    "    - term_start\n",
    "    - term_end\n",
    "\n",
    "    For example:\n",
    "    [\n",
    "      {'term':'cord', 'polarity':'neutral', 'from': 41, 'to': 45},\n",
    "      {'term':'battery life', 'polarity':'positive', 'from': 74, 'to': 86}\n",
    "    ]\n",
    "  - SENTIMENT_TAG: boolean\n",
    "    True: if we want to return sentiment polarity with BIO tagging (unified BIO)\n",
    "    False: if we do not want to return sentiment polarity with BIO tagging (just pure BIO)\n",
    "    \n",
    "  Output: \n",
    "  - TEXT_TOKENS: array of string\n",
    "    Sentence tokens\n",
    "    E.g. ['Boot', 'time', 'is', 'super', 'fast', ',', 'around', 'anywhere', 'from', '35', 'seconds', 'to', '1', 'minute', '.']\n",
    "    \n",
    "  - TAGS: array of string\n",
    "    Unified BIO tags (if sentiment_tag paratement is set to True) or BIO tags (if sentiment_tag is set to False)\n",
    "      Aspect boundaries:\n",
    "        B: beginning of aspect term\n",
    "        I: subsequent words of aspect term\n",
    "        O: outside of aspect term\n",
    "      Sentiment:\n",
    "        POS: positive\n",
    "        NEG: negative\n",
    "        NEU: neutral\n",
    "        CON: conflict\n",
    "    E.g. ['B-POS', 'I-POS', 'O', 'O', 'O', 'O', 'O', 'O', 'O', 'O', 'O', 'O', 'O', 'O', 'O']\n",
    "\n",
    "  - ASPECT_COMPUTE_PAIRS: tuple of two strings\n",
    "    1st String combining of all aspect terms as provided by the dataset\n",
    "    2nd String combining of all aspect terms from annotated BIO tagged using text_token\n",
    "    E.g.(' Boot time', ' Boot time')\n",
    "\n",
    "  - IS_INCORRECT_TAGGING: boolean\n",
    "    True: when ASPECT_COMPUTE_PAIRS is different from each other\n",
    "    False: when ASPECT_COMPUTE_PAIRS is exactly like each other\n",
    "    This may return False, when there is some special characters in aspect term that causing them to be splitted into a different token.\n",
    "    E.g. aspect_term `15\" TV`, computed_term can return `15 \" TV`. Thus, they are not exactly matching each other, but they should be okay\n",
    "  '''\n",
    "\n",
    "  aspects = x['aspects']\n",
    "  aspects = sorted(aspects, key=lambda d: int(d['from']))  # sort aspects based on from, some aspects are not sorted: later terms in the sentence sometimes are placed before terms appear earlier. \n",
    "  \n",
    "  text = x['text']\n",
    "\n",
    "  sentiment_tag_map = {'neutral': '-NEU'\n",
    "                       ,'conflict':'-CON'\n",
    "                       ,'positive':'-POS'\n",
    "                       ,'negative':'-NEG'}\n",
    "  \n",
    "  aspect_prefix = ' XXATBXX' # add leading space to break words if they are in the same chunk. E.g. \"size/window\" --> \"size / window\"\n",
    "  aspect_suffix = 'XXATEXX ' # add trailing space\n",
    "\n",
    "  # these are for validation to ensure the BIO tagging is accurate\n",
    "  aspect_terms = ''\n",
    "  aspect_terms_compute = ''\n",
    "\n",
    "  # we cannot perform word_tokenize directly on the raw text due to:\n",
    "  # 1. there is no space between punctuation and word, which makes it difficult to calculate word index from char index when concatenating word tokens for word index search\n",
    "  # 2. terms can be partial of a word token, e.g. \"size/screen\" is a single token based on word_token, while terms defined this as two separate terms. \n",
    "  # Therefore, I applied the below approach:\n",
    "  # 1. Add aspect_prefix & aspect_suffix to the start & end of each aspect term in the sentence using from, to char index as supplied by the dataset\n",
    "  # 2. Perform word_tokenize on the new aspect_annotated_sentence\n",
    "  # 3. Perform BIO tagging on the sentence token\n",
    "\n",
    "  # 1. Add aspect prefix & suffix to the sentence\n",
    "  aspect_annotated_sentence = text\n",
    "\n",
    "  for i, k in enumerate(aspects):\n",
    "    term = k['term']\n",
    "    \n",
    "    if k['term'] != '': # there are empty aspects but still have an empty dict structure, so we only perform tagging for those that has `term` != ''\n",
    "      # this is for validation purposes only\n",
    "      aspect_terms += ' ' + term \n",
    "\n",
    "      if k['polarity'] == '':\n",
    "        print(k['id'])\n",
    "\n",
    "      polarity = sentiment_tag_map[k['polarity']] if sentiment_tag == True else '' # get polarity encode\n",
    "  \n",
    "      i_from = int(k['from']) + i * (len(aspect_prefix) + len(aspect_suffix) + len(polarity)) # re-calculate from & by shifting them by the length of additional character added for aspect prefix & suffix\n",
    "      i_to = int(k['to']) + i * (len(aspect_prefix) + len(aspect_suffix) + len(polarity))\n",
    "      \n",
    "      aspect_annotated_sentence = aspect_annotated_sentence[:i_from] + aspect_prefix+ polarity + aspect_annotated_sentence[i_from:i_to] + aspect_suffix + aspect_annotated_sentence[i_to:]\n",
    "  \n",
    "  # Tokenize aspect annotated sentence\n",
    "  text_tokens = word_tokenize(aspect_annotated_sentence)\n",
    "\n",
    "  # Perfom BIO tagging\n",
    "  aspect_start = False\n",
    "  polarity = ''\n",
    "  token_BIO_pairs = []\n",
    "\n",
    "  for i,k in enumerate(text_tokens):\n",
    "    tag = 'O' # default token tag as 'O' outside of aspect term\n",
    "\n",
    "    if k[:7] == aspect_prefix.strip(): # if we see aspect prefix in a term, update tag as 'B' & set aspect_start as True\n",
    "      aspect_start = True\n",
    "      polarity = k[7:11] # extract polarity for next following tokens if there is\n",
    "      tag = 'B' + polarity\n",
    "      \n",
    "    elif aspect_start == True: # if token does not have aspect_prefx, set tag to I if aspect_start is still True\n",
    "      tag = 'I' + polarity\n",
    "      \n",
    "    else: # if aspect_start is False or if there is no aspect prefix\n",
    "      tag = 'O'\n",
    "\n",
    "    text_tokens[i] = re.sub(aspect_prefix.strip() + '.{4}', '',text_tokens[i]).replace(aspect_suffix.strip(),'') # clean text token by removing aspect prefix, polarity & aspect suffix if any\n",
    "\n",
    "    token_BIO_pairs.append((text_tokens[i], tag))\n",
    "    \n",
    "    if k[-7:] == aspect_suffix.strip(): # If token contains aspect_suffix, restart aspect_start as False and polarity as empty\n",
    "      aspect_start = False\n",
    "      polarity = ''\n",
    "    \n",
    "  # This is for validation purposes only\n",
    "  for i, k in enumerate(token_BIO_pairs):\n",
    "    if k[1] != 'O':\n",
    "      aspect_terms_compute += ' ' + k[0]\n",
    "  \n",
    "  # This is for validation purposes only\n",
    "  aspect_compute_pairs = (aspect_terms, aspect_terms_compute)\n",
    "  is_incorrect_tagging = True if aspect_terms != aspect_terms_compute  else False\n",
    "\n",
    "  return pd.Series([token_BIO_pairs, aspect_compute_pairs, is_incorrect_tagging])"
   ]
  },
  {
   "cell_type": "code",
   "execution_count": 55,
   "metadata": {},
   "outputs": [],
   "source": [
    "df_train[['token_BIO_pairs', 'aspect_compute_pairs','is_incorrect_tagging']] = df_train.apply(lambda x: encode_unified_BIO(x, True), axis=1)\n",
    "df_val[['token_BIO_pairs', 'aspect_compute_pairs','is_incorrect_tagging']] = df_val.apply(lambda x: encode_unified_BIO(x, True), axis=1)"
   ]
  },
  {
   "cell_type": "markdown",
   "metadata": {},
   "source": [
    "After performing BIO encode, we want to check if there is any misclassification using is_incorrect_tagging.\n",
    "\n",
    "There are only 20 possible inccorect BIO labels in df_train and 10 for df_val.\n",
    "\n",
    "Looking through a few examples, it seems like the issues are mainly around special characters inside aspect terms that cause the comparision strings to be different, however, the BIO labels are still accurate. "
   ]
  },
  {
   "cell_type": "code",
   "execution_count": 56,
   "metadata": {},
   "outputs": [
    {
     "name": "stdout",
     "output_type": "stream",
     "text": [
      "# of possible incorrect labels in df_train:  20\n",
      "# of possible incorrect labels in df_train:  10\n",
      "\n",
      "\n",
      " Some examples\n",
      "The tech guy then said the service center does not do 1-to-1 exchange and I have to direct my concern to the \"sales\" team, which is the retail shop which I bought my netbook from.\n",
      "[{'term': 'service center', 'polarity': 'negative', 'from': '27', 'to': '41'}, {'term': '\"sales\" team', 'polarity': 'negative', 'from': '109', 'to': '121'}, {'term': 'tech guy', 'polarity': 'neutral', 'from': '4', 'to': '12'}]\n",
      "(' tech guy service center \"sales\" team', \" tech guy service center  '' sales '' team\")\n",
      "[('The', 'O'), ('tech', 'B-NEU'), ('guy', 'I-NEU'), ('then', 'O'), ('said', 'O'), ('the', 'O'), ('service', 'B-NEG'), ('center', 'I-NEG'), ('does', 'O'), ('not', 'O'), ('do', 'O'), ('1-to-1', 'O'), ('exchange', 'O'), ('and', 'O'), ('I', 'O'), ('have', 'O'), ('to', 'O'), ('direct', 'O'), ('my', 'O'), ('concern', 'O'), ('to', 'O'), ('the', 'O'), ('', 'B-NEG'), (\"''\", 'I-NEG'), ('sales', 'I-NEG'), (\"''\", 'I-NEG'), ('team', 'I-NEG'), (',', 'O'), ('which', 'O'), ('is', 'O'), ('the', 'O'), ('retail', 'O'), ('shop', 'O'), ('which', 'O'), ('I', 'O'), ('bought', 'O'), ('my', 'O'), ('netbook', 'O'), ('from', 'O'), ('.', 'O')]\n",
      "\n",
      "\n",
      "I also got the added bonus of a 30\" HD Monitor, which really helps to extend my screen and keep my eyes fresh!\n",
      "[{'term': '30\" HD Monitor', 'polarity': 'positive', 'from': '32', 'to': '46'}, {'term': 'screen', 'polarity': 'neutral', 'from': '80', 'to': '86'}]\n",
      "(' 30\" HD Monitor screen', \" 30 '' HD Monitor screen\")\n",
      "[('I', 'O'), ('also', 'O'), ('got', 'O'), ('the', 'O'), ('added', 'O'), ('bonus', 'O'), ('of', 'O'), ('a', 'O'), ('30', 'B-POS'), (\"''\", 'I-POS'), ('HD', 'I-POS'), ('Monitor', 'I-POS'), (',', 'O'), ('which', 'O'), ('really', 'O'), ('helps', 'O'), ('to', 'O'), ('extend', 'O'), ('my', 'O'), ('screen', 'B-NEU'), ('and', 'O'), ('keep', 'O'), ('my', 'O'), ('eyes', 'O'), ('fresh', 'O'), ('!', 'O')]\n",
      "\n",
      "\n"
     ]
    }
   ],
   "source": [
    "print('# of possible incorrect labels in df_train: ', df_train['is_incorrect_tagging'].sum())\n",
    "print('# of possible incorrect labels in df_train: ', df_val['is_incorrect_tagging'].sum())\n",
    "print('\\n\\n Some examples')\n",
    "\n",
    "n_samples = 2\n",
    "sample = df_train[df_train['is_incorrect_tagging']].copy().reset_index()\n",
    "\n",
    "for i in range(0, n_samples):\n",
    "  s = sample.iloc[i]\n",
    "  print(s['text'])\n",
    "  print(s['aspects'])\n",
    "  print(s['aspect_compute_pairs'])\n",
    "  print(s['token_BIO_pairs'])\n",
    "  print('\\n')"
   ]
  },
  {
   "cell_type": "markdown",
   "metadata": {},
   "source": [
    "### 1.2.2. <a id='toc1_2_2_'></a>[Word features](#toc0_)\n",
    "Here we will populate some word features for each token (word) in the sentence, such as:\n",
    "- word\n",
    "- stemming / lemming versions of word\n",
    "- part of speech (POS) of word\n",
    "- words sentiment lexicon\n",
    "- context words within a pre-defined window (5 words surrounding the token)\n",
    "- context words stemming/ lemming\n",
    "- context words POS\n",
    "- context words sentiment lexicon\n",
    "- ...\n",
    "\n",
    "The list is not exhaustive, and is an iterative process as we perform EDA and go back and refining/ adding more features."
   ]
  },
  {
   "cell_type": "code",
   "execution_count": 57,
   "metadata": {},
   "outputs": [],
   "source": [
    "# Function to convert sentences into features\n",
    "def word2features(sent, i, backward_window_size=5, forward_window_size=5): \n",
    "    word = sent[i][0]\n",
    "\n",
    "    _, pos = zip(*nltk.pos_tag([x[0] for x in sent]))\n",
    "\n",
    "    tag_sentiment = lambda word: 'POS' if word in POSITIVE_WORDS else 'NEG' if word in NEGATIVE_WORDS else 'NEU'\n",
    "    features = {\n",
    "        'word.lower()': word.lower(), # word\n",
    "        'word.index()': i,\n",
    "        'word.reverseindex()': len(sent) - 1 - i, # reverse index - nth word from end of sentence\n",
    "        'word.pos': pos[i],\n",
    "        'word.opinionlexicon': tag_sentiment(word.lower()),\n",
    "        'word.contextswitching': word.lower() in CONTEXT_SWITCHING_WORDS,\n",
    "        'word.isstopword()': word.lower() in EN_STOP_WORDS,\n",
    "        'word[-3:]': word[-3:], # last 4 char\n",
    "        'word[-2:]': word[-2:], # last 3 char - in case of -ing, -ion, etc.\n",
    "        'word.isupper()': word.isupper(), # is the word in upper case\n",
    "        'word.istitle()': word.istitle(), # is the first letter of the word in upper case\n",
    "        'word.isdigit()': word.isdigit(), # is the word full of digit\n",
    "        'word.ispunctuation()': word.lower() in string.punctuation, # is punctuation\n",
    "    }\n",
    "\n",
    "    if i > 0:\n",
    "        for k in range(1, min(backward_window_size, i)+1):\n",
    "            prev_word = sent[i - k][0]\n",
    "            prev_pos = pos[i - k]\n",
    "            \n",
    "            features.update({\n",
    "                f'-{k}:word.lower()': prev_word.lower(),\n",
    "                f'-{k}:word.pos': prev_pos,\n",
    "                f'-{k}:word.opinionlexicon': tag_sentiment(word.lower()),\n",
    "                f'-{k}:word.contextswitching': prev_word.lower() in CONTEXT_SWITCHING_WORDS,\n",
    "                f'-{k}:word.isstopword()': prev_word in EN_STOP_WORDS,\n",
    "                f'-{k}:word.istitle()': prev_word.istitle(),\n",
    "                f'-{k}:word.isupper()': prev_word.isupper(),\n",
    "                f'-{k}:word.ispunctuation()': prev_word.lower() in string.punctuation, # is punctuation\n",
    "            })\n",
    "    else:\n",
    "        features['BOS'] = True  # Beginning of sentence\n",
    "\n",
    "    if i < len(sent) - 1:\n",
    "        for k in range(1, min(forward_window_size, len(sent) - i - 1)+1):\n",
    "            next_word = sent[i + k][0]\n",
    "            next_pos = pos[i + k]\n",
    "\n",
    "            features.update({\n",
    "                f'+{k}:word.lower()': next_word.lower(),\n",
    "                f'+{k}:word.pos': next_pos,\n",
    "                f'+{k}:word.opinionlexicon': tag_sentiment(word.lower()),\n",
    "                f'+{k}:word.contextswitching': next_word.lower() in CONTEXT_SWITCHING_WORDS,\n",
    "                f'+{k}:word.isstopword()': next_word in EN_STOP_WORDS,\n",
    "                f'+{k}:word.istitle()': next_word.istitle(),\n",
    "                f'+{k}:word.isupper()': next_word.isupper(),\n",
    "                f'+{k}:word.ispunctuation()': next_word.lower() in string.punctuation, # is punctuation\n",
    "            })\n",
    "    else:\n",
    "        features['EOS'] = True  # End of sentence\n",
    "\n",
    "    return features\n",
    "\n",
    "# Function to convert sentences into feature sequences\n",
    "def sent2features(sent, backward_window_size=5, forward_window_size=5):\n",
    "    return [word2features(sent, i, backward_window_size, forward_window_size) for i in range(len(sent))]"
   ]
  },
  {
   "cell_type": "markdown",
   "metadata": {},
   "source": [
    "### 1.2.3. <a id='toc1_2_3_'></a>[Define data processing functions](#toc0_)\n",
    "These functions help us streamline and ensure consistencies in our data preparation"
   ]
  },
  {
   "cell_type": "code",
   "execution_count": 58,
   "metadata": {},
   "outputs": [],
   "source": [
    "def prepare_df(df_input, backward_window_size=5, forward_window_size=5, show_BIO_errors=False):\n",
    "  df = df_input.copy()\n",
    "  df[['token_BIO_pairs','aspect_compute_pairs', 'is_incorrect_tagging']] = df.apply(lambda x: encode_unified_BIO(x, True), axis=1)\n",
    "\n",
    "  X = [sent2features(sentence, backward_window_size, forward_window_size) for sentence in df['token_BIO_pairs']]\n",
    "  y = [[word[1] for word in sentence] for sentence in df['token_BIO_pairs']] \n",
    "\n",
    "  # These are for showing examples if there are any issues during BIO tagging\n",
    "  errors = df['is_incorrect_tagging'].sum()\n",
    "  print('# of possible incorrect labels in df: ', errors, f'({errors/len(df)*100:.0f}% total records)')\n",
    "  print('\\n\\n Some incorrect examples')\n",
    "\n",
    "  if (errors > 0) & (show_BIO_errors == True):\n",
    "    n_samples = 3\n",
    "    sample = df[df['is_incorrect_tagging']].copy().reset_index()\n",
    "\n",
    "    for i in range(0, n_samples):\n",
    "      s = sample.iloc[i]\n",
    "      print('Text: ', s['token_BIO_pairs'])\n",
    "      print('Dataset provided aspects - original form: ', s['aspects'])\n",
    "      print('Dataset provided aspects - Computed aspects: ', s['aspect_compute_pairs'])\n",
    "      print('Unified BIO tagging: ', s['token_BIO_pairs'])\n",
    "      # print('Unified BIO tagging clean: ', s['token_BIO_pairs_clean'])\n",
    "      print('Total text tokens: ', len(s['token_BIO_pairs']))\n",
    "      print('\\n')\n",
    "\n",
    "  return pd.Series([X, y])"
   ]
  },
  {
   "cell_type": "code",
   "execution_count": 59,
   "metadata": {},
   "outputs": [],
   "source": [
    "def sentences_to_features(string_sentences, backward_window_size=5, forward_window_size=5):\n",
    "  sentences_token = [word_tokenize(sentence) for sentence in string_sentences]\n",
    "  X =  [sent2features(sentence, backward_window_size, forward_window_size) for sentence in sentences_token]\n",
    "  return X"
   ]
  },
  {
   "cell_type": "markdown",
   "metadata": {},
   "source": [
    "### 1.2.4. <a id='toc1_2_4_'></a>[Complete data preparation](#toc0_)\n",
    "\n",
    "df_train looks ok with the errors we have found previously."
   ]
  },
  {
   "cell_type": "code",
   "execution_count": 60,
   "metadata": {},
   "outputs": [
    {
     "name": "stdout",
     "output_type": "stream",
     "text": [
      "# of possible incorrect labels in df:  20 (1% total records)\n",
      "\n",
      "\n",
      " Some incorrect examples\n",
      "Text:  [('The', 'O'), ('tech', 'B-NEU'), ('guy', 'I-NEU'), ('then', 'O'), ('said', 'O'), ('the', 'O'), ('service', 'B-NEG'), ('center', 'I-NEG'), ('does', 'O'), ('not', 'O'), ('do', 'O'), ('1-to-1', 'O'), ('exchange', 'O'), ('and', 'O'), ('I', 'O'), ('have', 'O'), ('to', 'O'), ('direct', 'O'), ('my', 'O'), ('concern', 'O'), ('to', 'O'), ('the', 'O'), ('', 'B-NEG'), (\"''\", 'I-NEG'), ('sales', 'I-NEG'), (\"''\", 'I-NEG'), ('team', 'I-NEG'), (',', 'O'), ('which', 'O'), ('is', 'O'), ('the', 'O'), ('retail', 'O'), ('shop', 'O'), ('which', 'O'), ('I', 'O'), ('bought', 'O'), ('my', 'O'), ('netbook', 'O'), ('from', 'O'), ('.', 'O')]\n",
      "Dataset provided aspects - original form:  [{'term': 'service center', 'polarity': 'negative', 'from': '27', 'to': '41'}, {'term': '\"sales\" team', 'polarity': 'negative', 'from': '109', 'to': '121'}, {'term': 'tech guy', 'polarity': 'neutral', 'from': '4', 'to': '12'}]\n",
      "Dataset provided aspects - Computed aspects:  (' tech guy service center \"sales\" team', \" tech guy service center  '' sales '' team\")\n",
      "Unified BIO tagging:  [('The', 'O'), ('tech', 'B-NEU'), ('guy', 'I-NEU'), ('then', 'O'), ('said', 'O'), ('the', 'O'), ('service', 'B-NEG'), ('center', 'I-NEG'), ('does', 'O'), ('not', 'O'), ('do', 'O'), ('1-to-1', 'O'), ('exchange', 'O'), ('and', 'O'), ('I', 'O'), ('have', 'O'), ('to', 'O'), ('direct', 'O'), ('my', 'O'), ('concern', 'O'), ('to', 'O'), ('the', 'O'), ('', 'B-NEG'), (\"''\", 'I-NEG'), ('sales', 'I-NEG'), (\"''\", 'I-NEG'), ('team', 'I-NEG'), (',', 'O'), ('which', 'O'), ('is', 'O'), ('the', 'O'), ('retail', 'O'), ('shop', 'O'), ('which', 'O'), ('I', 'O'), ('bought', 'O'), ('my', 'O'), ('netbook', 'O'), ('from', 'O'), ('.', 'O')]\n",
      "Total text tokens:  40\n",
      "\n",
      "\n",
      "Text:  [('I', 'O'), ('also', 'O'), ('got', 'O'), ('the', 'O'), ('added', 'O'), ('bonus', 'O'), ('of', 'O'), ('a', 'O'), ('30', 'B-POS'), (\"''\", 'I-POS'), ('HD', 'I-POS'), ('Monitor', 'I-POS'), (',', 'O'), ('which', 'O'), ('really', 'O'), ('helps', 'O'), ('to', 'O'), ('extend', 'O'), ('my', 'O'), ('screen', 'B-NEU'), ('and', 'O'), ('keep', 'O'), ('my', 'O'), ('eyes', 'O'), ('fresh', 'O'), ('!', 'O')]\n",
      "Dataset provided aspects - original form:  [{'term': '30\" HD Monitor', 'polarity': 'positive', 'from': '32', 'to': '46'}, {'term': 'screen', 'polarity': 'neutral', 'from': '80', 'to': '86'}]\n",
      "Dataset provided aspects - Computed aspects:  (' 30\" HD Monitor screen', \" 30 '' HD Monitor screen\")\n",
      "Unified BIO tagging:  [('I', 'O'), ('also', 'O'), ('got', 'O'), ('the', 'O'), ('added', 'O'), ('bonus', 'O'), ('of', 'O'), ('a', 'O'), ('30', 'B-POS'), (\"''\", 'I-POS'), ('HD', 'I-POS'), ('Monitor', 'I-POS'), (',', 'O'), ('which', 'O'), ('really', 'O'), ('helps', 'O'), ('to', 'O'), ('extend', 'O'), ('my', 'O'), ('screen', 'B-NEU'), ('and', 'O'), ('keep', 'O'), ('my', 'O'), ('eyes', 'O'), ('fresh', 'O'), ('!', 'O')]\n",
      "Total text tokens:  26\n",
      "\n",
      "\n",
      "Text:  [('And', 'O'), ('if', 'O'), ('you', 'O'), ('do', 'O'), ('a', 'O'), ('lot', 'O'), ('of', 'O'), ('writing', 'O'), (',', 'O'), ('editing', 'B-NEG'), ('is', 'O'), ('a', 'O'), ('problem', 'O'), ('since', 'O'), ('there', 'O'), ('is', 'O'), ('no', 'O'), ('forward', 'O'), ('delete', 'B-NEG'), ('key', 'I-NEG'), ('.', 'O')]\n",
      "Dataset provided aspects - original form:  [{'term': 'delete  key', 'polarity': 'negative', 'from': '80', 'to': '91'}, {'term': 'editing', 'polarity': 'negative', 'from': '32', 'to': '39'}]\n",
      "Dataset provided aspects - Computed aspects:  (' editing delete  key', ' editing delete key')\n",
      "Unified BIO tagging:  [('And', 'O'), ('if', 'O'), ('you', 'O'), ('do', 'O'), ('a', 'O'), ('lot', 'O'), ('of', 'O'), ('writing', 'O'), (',', 'O'), ('editing', 'B-NEG'), ('is', 'O'), ('a', 'O'), ('problem', 'O'), ('since', 'O'), ('there', 'O'), ('is', 'O'), ('no', 'O'), ('forward', 'O'), ('delete', 'B-NEG'), ('key', 'I-NEG'), ('.', 'O')]\n",
      "Total text tokens:  21\n",
      "\n",
      "\n"
     ]
    }
   ],
   "source": [
    "# Reload the data to make sure we have the clean data\n",
    "df_train = pd.read_json('data/laptop/train.json')\n",
    "\n",
    "# Drop duplicates as we identified and inspected previously\n",
    "df_train.drop_duplicates(subset='text',inplace=True)\n",
    "\n",
    "# Prepare the data: BIO tagging & get word features\n",
    "backward_window_size = 5 # look backward 5 words\n",
    "forward_window_size = 5 # look forward 5 words\n",
    "df_train[['features', 'unified_BIO_tag']] = prepare_df(df_train, backward_window_size, forward_window_size, True)"
   ]
  },
  {
   "cell_type": "code",
   "execution_count": 61,
   "metadata": {},
   "outputs": [
    {
     "data": {
      "text/html": [
       "<div>\n",
       "<style scoped>\n",
       "    .dataframe tbody tr th:only-of-type {\n",
       "        vertical-align: middle;\n",
       "    }\n",
       "\n",
       "    .dataframe tbody tr th {\n",
       "        vertical-align: top;\n",
       "    }\n",
       "\n",
       "    .dataframe thead th {\n",
       "        text-align: right;\n",
       "    }\n",
       "</style>\n",
       "<table border=\"1\" class=\"dataframe\">\n",
       "  <thead>\n",
       "    <tr style=\"text-align: right;\">\n",
       "      <th></th>\n",
       "      <th>id</th>\n",
       "      <th>text</th>\n",
       "      <th>aspects</th>\n",
       "      <th>features</th>\n",
       "      <th>unified_BIO_tag</th>\n",
       "    </tr>\n",
       "  </thead>\n",
       "  <tbody>\n",
       "    <tr>\n",
       "      <th>0</th>\n",
       "      <td>2339</td>\n",
       "      <td>I charge it at night and skip taking the cord ...</td>\n",
       "      <td>[{'term': 'cord', 'polarity': 'neutral', 'from...</td>\n",
       "      <td>[{'word.lower()': 'i', 'word.index()': 0, 'wor...</td>\n",
       "      <td>[O, O, O, O, O, O, O, O, O, B-NEU, O, O, O, O,...</td>\n",
       "    </tr>\n",
       "    <tr>\n",
       "      <th>1</th>\n",
       "      <td>812</td>\n",
       "      <td>I bought a HP Pavilion DV4-1222nr laptop and h...</td>\n",
       "      <td>[{'term': '', 'polarity': '', 'from': 0, 'to':...</td>\n",
       "      <td>[{'word.lower()': 'i', 'word.index()': 0, 'wor...</td>\n",
       "      <td>[O, O, O, O, O, O, O, O, O, O, O, O, O, O, O, ...</td>\n",
       "    </tr>\n",
       "    <tr>\n",
       "      <th>2</th>\n",
       "      <td>1316</td>\n",
       "      <td>The tech guy then said the service center does...</td>\n",
       "      <td>[{'term': 'service center', 'polarity': 'negat...</td>\n",
       "      <td>[{'word.lower()': 'the', 'word.index()': 0, 'w...</td>\n",
       "      <td>[O, B-NEU, I-NEU, O, O, O, B-NEG, I-NEG, O, O,...</td>\n",
       "    </tr>\n",
       "    <tr>\n",
       "      <th>3</th>\n",
       "      <td>2328</td>\n",
       "      <td>I investigated netbooks and saw the Toshiba NB...</td>\n",
       "      <td>[{'term': '', 'polarity': '', 'from': 0, 'to':...</td>\n",
       "      <td>[{'word.lower()': 'i', 'word.index()': 0, 'wor...</td>\n",
       "      <td>[O, O, O, O, O, O, O, O, O]</td>\n",
       "    </tr>\n",
       "    <tr>\n",
       "      <th>4</th>\n",
       "      <td>2193</td>\n",
       "      <td>The other day I had a presentation to do for a...</td>\n",
       "      <td>[{'term': '', 'polarity': '', 'from': 0, 'to':...</td>\n",
       "      <td>[{'word.lower()': 'the', 'word.index()': 0, 'w...</td>\n",
       "      <td>[O, O, O, O, O, O, O, O, O, O, O, O, O, O, O, ...</td>\n",
       "    </tr>\n",
       "  </tbody>\n",
       "</table>\n",
       "</div>"
      ],
      "text/plain": [
       "     id                                               text  \\\n",
       "0  2339  I charge it at night and skip taking the cord ...   \n",
       "1   812  I bought a HP Pavilion DV4-1222nr laptop and h...   \n",
       "2  1316  The tech guy then said the service center does...   \n",
       "3  2328  I investigated netbooks and saw the Toshiba NB...   \n",
       "4  2193  The other day I had a presentation to do for a...   \n",
       "\n",
       "                                             aspects  \\\n",
       "0  [{'term': 'cord', 'polarity': 'neutral', 'from...   \n",
       "1  [{'term': '', 'polarity': '', 'from': 0, 'to':...   \n",
       "2  [{'term': 'service center', 'polarity': 'negat...   \n",
       "3  [{'term': '', 'polarity': '', 'from': 0, 'to':...   \n",
       "4  [{'term': '', 'polarity': '', 'from': 0, 'to':...   \n",
       "\n",
       "                                            features  \\\n",
       "0  [{'word.lower()': 'i', 'word.index()': 0, 'wor...   \n",
       "1  [{'word.lower()': 'i', 'word.index()': 0, 'wor...   \n",
       "2  [{'word.lower()': 'the', 'word.index()': 0, 'w...   \n",
       "3  [{'word.lower()': 'i', 'word.index()': 0, 'wor...   \n",
       "4  [{'word.lower()': 'the', 'word.index()': 0, 'w...   \n",
       "\n",
       "                                     unified_BIO_tag  \n",
       "0  [O, O, O, O, O, O, O, O, O, B-NEU, O, O, O, O,...  \n",
       "1  [O, O, O, O, O, O, O, O, O, O, O, O, O, O, O, ...  \n",
       "2  [O, B-NEU, I-NEU, O, O, O, B-NEG, I-NEG, O, O,...  \n",
       "3                        [O, O, O, O, O, O, O, O, O]  \n",
       "4  [O, O, O, O, O, O, O, O, O, O, O, O, O, O, O, ...  "
      ]
     },
     "execution_count": 61,
     "metadata": {},
     "output_type": "execute_result"
    }
   ],
   "source": [
    "df_train.head()"
   ]
  },
  {
   "cell_type": "markdown",
   "metadata": {},
   "source": [
    "# 2. <a id='toc2_'></a>[Exploratory data analysis](#toc0_)"
   ]
  },
  {
   "cell_type": "markdown",
   "metadata": {},
   "source": [
    "## 2.1. <a id='toc2_1_'></a>[Flatten word features](#toc0_)\n",
    "\n",
    "We are going to flatten our word features into a pandas dataframe for easier exploration."
   ]
  },
  {
   "cell_type": "code",
   "execution_count": 62,
   "metadata": {},
   "outputs": [],
   "source": [
    "def features2df(sentence_index, X):\n",
    "  '''\n",
    "  This function takes in array of (array of dictionary) and flattens it to a pandas dataframe with all features as columns.\n",
    "  Each element in an array is a sentence which is an array of dictionaries of each word and its features\n",
    "  Missing features will have a null value.\n",
    "\n",
    "  INPUT: \n",
    "  -----------------------\n",
    "  SENTENCE INDEX: int\n",
    "  This give the index of the sentence\n",
    "\n",
    "  '''\n",
    "  df = pd.DataFrame(X)\n",
    "  df['nth_sentence'] = sentence_index\n",
    "  return df"
   ]
  },
  {
   "cell_type": "code",
   "execution_count": 63,
   "metadata": {},
   "outputs": [],
   "source": [
    "# Convert word features into data frame\n",
    "df_features = pd.concat([features2df(df_train.iloc[i]['id'], df_train.iloc[i]['features']) for i in range(0, len(df_train))], ignore_index=True)\n",
    "df_features['unified_BIO_tag'] = [tag for sentence in df_train['unified_BIO_tag'] for tag in sentence]\n",
    "\n",
    "# Generalized aspect tag\n",
    "df_features['is_aspect'] = df_features['unified_BIO_tag'].str[:1].apply(lambda x: 'aspect' if x in ['B','I'] else 'non-aspect')\n",
    "df_features['sentiment'] = df_features['unified_BIO_tag'].str[-3:]"
   ]
  },
  {
   "cell_type": "code",
   "execution_count": 64,
   "metadata": {},
   "outputs": [
    {
     "data": {
      "text/html": [
       "<div>\n",
       "<style scoped>\n",
       "    .dataframe tbody tr th:only-of-type {\n",
       "        vertical-align: middle;\n",
       "    }\n",
       "\n",
       "    .dataframe tbody tr th {\n",
       "        vertical-align: top;\n",
       "    }\n",
       "\n",
       "    .dataframe thead th {\n",
       "        text-align: right;\n",
       "    }\n",
       "</style>\n",
       "<table border=\"1\" class=\"dataframe\">\n",
       "  <thead>\n",
       "    <tr style=\"text-align: right;\">\n",
       "      <th></th>\n",
       "      <th>word.lower()</th>\n",
       "      <th>word.index()</th>\n",
       "      <th>word.reverseindex()</th>\n",
       "      <th>word.pos</th>\n",
       "      <th>word.opinionlexicon</th>\n",
       "      <th>word.contextswitching</th>\n",
       "      <th>word.isstopword()</th>\n",
       "      <th>word[-3:]</th>\n",
       "      <th>word[-2:]</th>\n",
       "      <th>word.isupper()</th>\n",
       "      <th>...</th>\n",
       "      <th>-5:word.contextswitching</th>\n",
       "      <th>-5:word.isstopword()</th>\n",
       "      <th>-5:word.istitle()</th>\n",
       "      <th>-5:word.isupper()</th>\n",
       "      <th>-5:word.ispunctuation()</th>\n",
       "      <th>EOS</th>\n",
       "      <th>nth_sentence</th>\n",
       "      <th>unified_BIO_tag</th>\n",
       "      <th>is_aspect</th>\n",
       "      <th>sentiment</th>\n",
       "    </tr>\n",
       "  </thead>\n",
       "  <tbody>\n",
       "    <tr>\n",
       "      <th>0</th>\n",
       "      <td>i</td>\n",
       "      <td>0</td>\n",
       "      <td>18</td>\n",
       "      <td>PRP</td>\n",
       "      <td>NEU</td>\n",
       "      <td>False</td>\n",
       "      <td>True</td>\n",
       "      <td>I</td>\n",
       "      <td>I</td>\n",
       "      <td>True</td>\n",
       "      <td>...</td>\n",
       "      <td>NaN</td>\n",
       "      <td>NaN</td>\n",
       "      <td>NaN</td>\n",
       "      <td>NaN</td>\n",
       "      <td>NaN</td>\n",
       "      <td>NaN</td>\n",
       "      <td>2339</td>\n",
       "      <td>O</td>\n",
       "      <td>non-aspect</td>\n",
       "      <td>O</td>\n",
       "    </tr>\n",
       "    <tr>\n",
       "      <th>1</th>\n",
       "      <td>charge</td>\n",
       "      <td>1</td>\n",
       "      <td>17</td>\n",
       "      <td>VBP</td>\n",
       "      <td>NEU</td>\n",
       "      <td>False</td>\n",
       "      <td>False</td>\n",
       "      <td>rge</td>\n",
       "      <td>ge</td>\n",
       "      <td>False</td>\n",
       "      <td>...</td>\n",
       "      <td>NaN</td>\n",
       "      <td>NaN</td>\n",
       "      <td>NaN</td>\n",
       "      <td>NaN</td>\n",
       "      <td>NaN</td>\n",
       "      <td>NaN</td>\n",
       "      <td>2339</td>\n",
       "      <td>O</td>\n",
       "      <td>non-aspect</td>\n",
       "      <td>O</td>\n",
       "    </tr>\n",
       "    <tr>\n",
       "      <th>2</th>\n",
       "      <td>it</td>\n",
       "      <td>2</td>\n",
       "      <td>16</td>\n",
       "      <td>PRP</td>\n",
       "      <td>NEU</td>\n",
       "      <td>False</td>\n",
       "      <td>True</td>\n",
       "      <td>it</td>\n",
       "      <td>it</td>\n",
       "      <td>False</td>\n",
       "      <td>...</td>\n",
       "      <td>NaN</td>\n",
       "      <td>NaN</td>\n",
       "      <td>NaN</td>\n",
       "      <td>NaN</td>\n",
       "      <td>NaN</td>\n",
       "      <td>NaN</td>\n",
       "      <td>2339</td>\n",
       "      <td>O</td>\n",
       "      <td>non-aspect</td>\n",
       "      <td>O</td>\n",
       "    </tr>\n",
       "    <tr>\n",
       "      <th>3</th>\n",
       "      <td>at</td>\n",
       "      <td>3</td>\n",
       "      <td>15</td>\n",
       "      <td>IN</td>\n",
       "      <td>NEU</td>\n",
       "      <td>False</td>\n",
       "      <td>True</td>\n",
       "      <td>at</td>\n",
       "      <td>at</td>\n",
       "      <td>False</td>\n",
       "      <td>...</td>\n",
       "      <td>NaN</td>\n",
       "      <td>NaN</td>\n",
       "      <td>NaN</td>\n",
       "      <td>NaN</td>\n",
       "      <td>NaN</td>\n",
       "      <td>NaN</td>\n",
       "      <td>2339</td>\n",
       "      <td>O</td>\n",
       "      <td>non-aspect</td>\n",
       "      <td>O</td>\n",
       "    </tr>\n",
       "    <tr>\n",
       "      <th>4</th>\n",
       "      <td>night</td>\n",
       "      <td>4</td>\n",
       "      <td>14</td>\n",
       "      <td>NN</td>\n",
       "      <td>NEU</td>\n",
       "      <td>False</td>\n",
       "      <td>False</td>\n",
       "      <td>ght</td>\n",
       "      <td>ht</td>\n",
       "      <td>False</td>\n",
       "      <td>...</td>\n",
       "      <td>NaN</td>\n",
       "      <td>NaN</td>\n",
       "      <td>NaN</td>\n",
       "      <td>NaN</td>\n",
       "      <td>NaN</td>\n",
       "      <td>NaN</td>\n",
       "      <td>2339</td>\n",
       "      <td>O</td>\n",
       "      <td>non-aspect</td>\n",
       "      <td>O</td>\n",
       "    </tr>\n",
       "  </tbody>\n",
       "</table>\n",
       "<p>5 rows × 99 columns</p>\n",
       "</div>"
      ],
      "text/plain": [
       "  word.lower()  word.index()  word.reverseindex() word.pos  \\\n",
       "0            i             0                   18      PRP   \n",
       "1       charge             1                   17      VBP   \n",
       "2           it             2                   16      PRP   \n",
       "3           at             3                   15       IN   \n",
       "4        night             4                   14       NN   \n",
       "\n",
       "  word.opinionlexicon  word.contextswitching  word.isstopword() word[-3:]  \\\n",
       "0                 NEU                  False               True         I   \n",
       "1                 NEU                  False              False       rge   \n",
       "2                 NEU                  False               True        it   \n",
       "3                 NEU                  False               True        at   \n",
       "4                 NEU                  False              False       ght   \n",
       "\n",
       "  word[-2:]  word.isupper()  ...  -5:word.contextswitching  \\\n",
       "0         I            True  ...                       NaN   \n",
       "1        ge           False  ...                       NaN   \n",
       "2        it           False  ...                       NaN   \n",
       "3        at           False  ...                       NaN   \n",
       "4        ht           False  ...                       NaN   \n",
       "\n",
       "   -5:word.isstopword()  -5:word.istitle() -5:word.isupper()  \\\n",
       "0                   NaN                NaN               NaN   \n",
       "1                   NaN                NaN               NaN   \n",
       "2                   NaN                NaN               NaN   \n",
       "3                   NaN                NaN               NaN   \n",
       "4                   NaN                NaN               NaN   \n",
       "\n",
       "  -5:word.ispunctuation()  EOS nth_sentence unified_BIO_tag   is_aspect  \\\n",
       "0                     NaN  NaN         2339               O  non-aspect   \n",
       "1                     NaN  NaN         2339               O  non-aspect   \n",
       "2                     NaN  NaN         2339               O  non-aspect   \n",
       "3                     NaN  NaN         2339               O  non-aspect   \n",
       "4                     NaN  NaN         2339               O  non-aspect   \n",
       "\n",
       "  sentiment  \n",
       "0         O  \n",
       "1         O  \n",
       "2         O  \n",
       "3         O  \n",
       "4         O  \n",
       "\n",
       "[5 rows x 99 columns]"
      ]
     },
     "execution_count": 64,
     "metadata": {},
     "output_type": "execute_result"
    }
   ],
   "source": [
    "df_features.head()"
   ]
  },
  {
   "cell_type": "markdown",
   "metadata": {},
   "source": [
    "## 2.2. <a id='toc2_2_'></a>[Aspect word distribution](#toc0_)"
   ]
  },
  {
   "cell_type": "markdown",
   "metadata": {},
   "source": [
    "It is a good idea to look into the dataset to understand what are the distributions of all the word tags. \n",
    "\n",
    "- \"O\" (non-aspect term) words are dominant in the dataset, while, conflict aspect terms are very few, which will be a challenge in training and evaluating the model.\n",
    "- \"B\" tags are more common than \"I\" tags which indicates that the dataset has a lot of singular aspect terms comparing to multi-word aspect terms."
   ]
  },
  {
   "cell_type": "code",
   "execution_count": 65,
   "metadata": {},
   "outputs": [
    {
     "data": {
      "image/png": "[encoded data removed]",
      "text/plain": [
       "<Figure size 640x480 with 1 Axes>"
      ]
     },
     "metadata": {},
     "output_type": "display_data"
    }
   ],
   "source": [
    "plt.hist(df_features['unified_BIO_tag'].sort_values())\n",
    "plt.yscale(\"log\")\n",
    "plt.xticks(rotation=90)\n",
    "plt.title('Very few \"conflict\" aspect words, while dominant by non-aspect words')\n",
    "plt.show()"
   ]
  },
  {
   "cell_type": "markdown",
   "metadata": {},
   "source": [
    "## 2.3. <a id='toc2_3_'></a>[Part-of-speech](#toc0_)\n",
    "\n",
    "Aspect terms are often nouns and are verb objectives or subject. Let's inspect their part of speech to confirm this.\n",
    "\n",
    "Same definition of POS tags:\n",
    "- __CD__: Cardinal number (e.g., \"one\", \"two\", \"3\")\n",
    "- __DT__: Determiner (e.g., \"the\", \"a\", \"this\")\n",
    "- __IN__: Preposition or subordinating conjunction (e.g., \"in\", \"on\", \"at\")\n",
    "- __IN__: Preposition or subordinating conjunction (e.g., \"in\", \"on\", \"at\")\n",
    "- __JJ__: Adjective (e.g., \"big\", \"happy\", \"green\")\n",
    "- __NN__: Noun, singular or mass (e.g., \"dog\", \"city\", \"love\")\n",
    "- __NNP__: Proper noun, singular (e.g., \"John\", \"Paris\", \"December\")\n",
    "- __NNS__: Noun, plural (e.g., \"dogs\", \"cities\", \"loves\")\n",
    "- __PRP__: Personal pronoun (e.g., \"I\", \"you\", \"he\")\n",
    "- __RB__: Adverb (e.g., \"quickly\", \"very\", \"well\")\n",
    "- __VB__: Verb, base form (e.g., \"eat\", \"run\", \"play\")\n",
    "\n",
    "\\>80% aspect terms are nouns, while non-aspect words have very uniform distribution for all part-of-speech."
   ]
  },
  {
   "cell_type": "markdown",
   "metadata": {},
   "source": [
    "\\* ***WARNING*** * \n",
    "\n",
    "*If you see this error running the below cell: `ValueError: Mime type rendering requires nbformat>=4.2.0 but it is not installed`.*\n",
    "\n",
    "*Try run this command: `pip install --upgrade nbformat` and restart your kernal/VS code.*"
   ]
  },
  {
   "cell_type": "code",
   "execution_count": 66,
   "metadata": {},
   "outputs": [
    {
     "data": {
      "application/vnd.plotly.v1+json": {
       "config": {
        "plotlyServerURL": "https://plot.ly"
       },
       "data": [
        {
         "direction": "clockwise",
         "domain": {
          "x": [
           0,
           0.45
          ],
          "y": [
           0,
           1
          ]
         },
         "hole": 0.4,
         "labels": [
          "''",
          "(",
          ")",
          ",",
          "CC",
          "CD",
          "DT",
          "FW",
          "IN",
          "JJ",
          "JJS",
          "NN",
          "NNP",
          "NNS",
          "POS",
          "PRP",
          "PRP$",
          "RB",
          "RP",
          "TO",
          "VB",
          "VBD",
          "VBG",
          "VBN",
          "VBP",
          "VBZ",
          "``"
         ],
         "name": "aspects",
         "showlegend": false,
         "textinfo": "label+percent",
         "textposition": "inside",
         "type": "pie",
         "values": [
          12,
          1,
          2,
          1,
          5,
          73,
          25,
          1,
          36,
          251,
          1,
          1923,
          522,
          372,
          5,
          1,
          3,
          4,
          20,
          5,
          107,
          16,
          55,
          30,
          13,
          44,
          4
         ]
        },
        {
         "direction": "clockwise",
         "domain": {
          "x": [
           0.55,
           1
          ],
          "y": [
           0,
           1
          ]
         },
         "hole": 0.4,
         "labels": [
          "#",
          "$",
          "''",
          "(",
          ")",
          ",",
          ".",
          ":",
          "CC",
          "CD",
          "DT",
          "EX",
          "FW",
          "IN",
          "JJ",
          "JJR",
          "JJS",
          "LS",
          "MD",
          "NN",
          "NNP",
          "NNPS",
          "NNS",
          "PDT",
          "POS",
          "PRP",
          "PRP$",
          "RB",
          "RBR",
          "RBS",
          "RP",
          "TO",
          "UH",
          "VB",
          "VBD",
          "VBG",
          "VBN",
          "VBP",
          "VBZ",
          "WDT",
          "WP",
          "WRB",
          "``"
         ],
         "name": "non aspects",
         "showlegend": false,
         "textinfo": "label+percent",
         "textposition": "inside",
         "type": "pie",
         "values": [
          2,
          55,
          66,
          160,
          165,
          1614,
          2992,
          175,
          1782,
          718,
          4612,
          66,
          28,
          4383,
          3104,
          217,
          132,
          2,
          716,
          4660,
          1537,
          1,
          1309,
          54,
          39,
          4126,
          771,
          3375,
          81,
          14,
          246,
          1286,
          20,
          2007,
          1850,
          799,
          801,
          1441,
          1568,
          203,
          131,
          234,
          71
         ]
        }
       ],
       "layout": {
        "annotations": [
         {
          "font": {
           "size": 16
          },
          "showarrow": false,
          "text": "Aspect",
          "x": 0.188,
          "y": 0.5
         },
         {
          "font": {
           "size": 16
          },
          "showarrow": false,
          "text": "Non-aspect",
          "x": 0.83,
          "y": 0.5
         }
        ],
        "height": 500,
        "template": {
         "data": {
          "bar": [
           {
            "error_x": {
             "color": "#2a3f5f"
            },
            "error_y": {
             "color": "#2a3f5f"
            },
            "marker": {
             "line": {
              "color": "#E5ECF6",
              "width": 0.5
             },
             "pattern": {
              "fillmode": "overlay",
              "size": 10,
              "solidity": 0.2
             }
            },
            "type": "bar"
           }
          ],
          "barpolar": [
           {
            "marker": {
             "line": {
              "color": "#E5ECF6",
              "width": 0.5
             },
             "pattern": {
              "fillmode": "overlay",
              "size": 10,
              "solidity": 0.2
             }
            },
            "type": "barpolar"
           }
          ],
          "carpet": [
           {
            "aaxis": {
             "endlinecolor": "#2a3f5f",
             "gridcolor": "white",
             "linecolor": "white",
             "minorgridcolor": "white",
             "startlinecolor": "#2a3f5f"
            },
            "baxis": {
             "endlinecolor": "#2a3f5f",
             "gridcolor": "white",
             "linecolor": "white",
             "minorgridcolor": "white",
             "startlinecolor": "#2a3f5f"
            },
            "type": "carpet"
           }
          ],
          "choropleth": [
           {
            "colorbar": {
             "outlinewidth": 0,
             "ticks": ""
            },
            "type": "choropleth"
           }
          ],
          "contour": [
           {
            "colorbar": {
             "outlinewidth": 0,
             "ticks": ""
            },
            "colorscale": [
             [
              0,
              "#0d0887"
             ],
             [
              0.1111111111111111,
              "#46039f"
             ],
             [
              0.2222222222222222,
              "#7201a8"
             ],
             [
              0.3333333333333333,
              "#9c179e"
             ],
             [
              0.4444444444444444,
              "#bd3786"
             ],
             [
              0.5555555555555556,
              "#d8576b"
             ],
             [
              0.6666666666666666,
              "#ed7953"
             ],
             [
              0.7777777777777778,
              "#fb9f3a"
             ],
             [
              0.8888888888888888,
              "#fdca26"
             ],
             [
              1,
              "#f0f921"
             ]
            ],
            "type": "contour"
           }
          ],
          "contourcarpet": [
           {
            "colorbar": {
             "outlinewidth": 0,
             "ticks": ""
            },
            "type": "contourcarpet"
           }
          ],
          "heatmap": [
           {
            "colorbar": {
             "outlinewidth": 0,
             "ticks": ""
            },
            "colorscale": [
             [
              0,
              "#0d0887"
             ],
             [
              0.1111111111111111,
              "#46039f"
             ],
             [
              0.2222222222222222,
              "#7201a8"
             ],
             [
              0.3333333333333333,
              "#9c179e"
             ],
             [
              0.4444444444444444,
              "#bd3786"
             ],
             [
              0.5555555555555556,
              "#d8576b"
             ],
             [
              0.6666666666666666,
              "#ed7953"
             ],
             [
              0.7777777777777778,
              "#fb9f3a"
             ],
             [
              0.8888888888888888,
              "#fdca26"
             ],
             [
              1,
              "#f0f921"
             ]
            ],
            "type": "heatmap"
           }
          ],
          "heatmapgl": [
           {
            "colorbar": {
             "outlinewidth": 0,
             "ticks": ""
            },
            "colorscale": [
             [
              0,
              "#0d0887"
             ],
             [
              0.1111111111111111,
              "#46039f"
             ],
             [
              0.2222222222222222,
              "#7201a8"
             ],
             [
              0.3333333333333333,
              "#9c179e"
             ],
             [
              0.4444444444444444,
              "#bd3786"
             ],
             [
              0.5555555555555556,
              "#d8576b"
             ],
             [
              0.6666666666666666,
              "#ed7953"
             ],
             [
              0.7777777777777778,
              "#fb9f3a"
             ],
             [
              0.8888888888888888,
              "#fdca26"
             ],
             [
              1,
              "#f0f921"
             ]
            ],
            "type": "heatmapgl"
           }
          ],
          "histogram": [
           {
            "marker": {
             "pattern": {
              "fillmode": "overlay",
              "size": 10,
              "solidity": 0.2
             }
            },
            "type": "histogram"
           }
          ],
          "histogram2d": [
           {
            "colorbar": {
             "outlinewidth": 0,
             "ticks": ""
            },
            "colorscale": [
             [
              0,
              "#0d0887"
             ],
             [
              0.1111111111111111,
              "#46039f"
             ],
             [
              0.2222222222222222,
              "#7201a8"
             ],
             [
              0.3333333333333333,
              "#9c179e"
             ],
             [
              0.4444444444444444,
              "#bd3786"
             ],
             [
              0.5555555555555556,
              "#d8576b"
             ],
             [
              0.6666666666666666,
              "#ed7953"
             ],
             [
              0.7777777777777778,
              "#fb9f3a"
             ],
             [
              0.8888888888888888,
              "#fdca26"
             ],
             [
              1,
              "#f0f921"
             ]
            ],
            "type": "histogram2d"
           }
          ],
          "histogram2dcontour": [
           {
            "colorbar": {
             "outlinewidth": 0,
             "ticks": ""
            },
            "colorscale": [
             [
              0,
              "#0d0887"
             ],
             [
              0.1111111111111111,
              "#46039f"
             ],
             [
              0.2222222222222222,
              "#7201a8"
             ],
             [
              0.3333333333333333,
              "#9c179e"
             ],
             [
              0.4444444444444444,
              "#bd3786"
             ],
             [
              0.5555555555555556,
              "#d8576b"
             ],
             [
              0.6666666666666666,
              "#ed7953"
             ],
             [
              0.7777777777777778,
              "#fb9f3a"
             ],
             [
              0.8888888888888888,
              "#fdca26"
             ],
             [
              1,
              "#f0f921"
             ]
            ],
            "type": "histogram2dcontour"
           }
          ],
          "mesh3d": [
           {
            "colorbar": {
             "outlinewidth": 0,
             "ticks": ""
            },
            "type": "mesh3d"
           }
          ],
          "parcoords": [
           {
            "line": {
             "colorbar": {
              "outlinewidth": 0,
              "ticks": ""
             }
            },
            "type": "parcoords"
           }
          ],
          "pie": [
           {
            "automargin": true,
            "type": "pie"
           }
          ],
          "scatter": [
           {
            "fillpattern": {
             "fillmode": "overlay",
             "size": 10,
             "solidity": 0.2
            },
            "type": "scatter"
           }
          ],
          "scatter3d": [
           {
            "line": {
             "colorbar": {
              "outlinewidth": 0,
              "ticks": ""
             }
            },
            "marker": {
             "colorbar": {
              "outlinewidth": 0,
              "ticks": ""
             }
            },
            "type": "scatter3d"
           }
          ],
          "scattercarpet": [
           {
            "marker": {
             "colorbar": {
              "outlinewidth": 0,
              "ticks": ""
             }
            },
            "type": "scattercarpet"
           }
          ],
          "scattergeo": [
           {
            "marker": {
             "colorbar": {
              "outlinewidth": 0,
              "ticks": ""
             }
            },
            "type": "scattergeo"
           }
          ],
          "scattergl": [
           {
            "marker": {
             "colorbar": {
              "outlinewidth": 0,
              "ticks": ""
             }
            },
            "type": "scattergl"
           }
          ],
          "scattermapbox": [
           {
            "marker": {
             "colorbar": {
              "outlinewidth": 0,
              "ticks": ""
             }
            },
            "type": "scattermapbox"
           }
          ],
          "scatterpolar": [
           {
            "marker": {
             "colorbar": {
              "outlinewidth": 0,
              "ticks": ""
             }
            },
            "type": "scatterpolar"
           }
          ],
          "scatterpolargl": [
           {
            "marker": {
             "colorbar": {
              "outlinewidth": 0,
              "ticks": ""
             }
            },
            "type": "scatterpolargl"
           }
          ],
          "scatterternary": [
           {
            "marker": {
             "colorbar": {
              "outlinewidth": 0,
              "ticks": ""
             }
            },
            "type": "scatterternary"
           }
          ],
          "surface": [
           {
            "colorbar": {
             "outlinewidth": 0,
             "ticks": ""
            },
            "colorscale": [
             [
              0,
              "#0d0887"
             ],
             [
              0.1111111111111111,
              "#46039f"
             ],
             [
              0.2222222222222222,
              "#7201a8"
             ],
             [
              0.3333333333333333,
              "#9c179e"
             ],
             [
              0.4444444444444444,
              "#bd3786"
             ],
             [
              0.5555555555555556,
              "#d8576b"
             ],
             [
              0.6666666666666666,
              "#ed7953"
             ],
             [
              0.7777777777777778,
              "#fb9f3a"
             ],
             [
              0.8888888888888888,
              "#fdca26"
             ],
             [
              1,
              "#f0f921"
             ]
            ],
            "type": "surface"
           }
          ],
          "table": [
           {
            "cells": {
             "fill": {
              "color": "#EBF0F8"
             },
             "line": {
              "color": "white"
             }
            },
            "header": {
             "fill": {
              "color": "#C8D4E3"
             },
             "line": {
              "color": "white"
             }
            },
            "type": "table"
           }
          ]
         },
         "layout": {
          "annotationdefaults": {
           "arrowcolor": "#2a3f5f",
           "arrowhead": 0,
           "arrowwidth": 1
          },
          "autotypenumbers": "strict",
          "coloraxis": {
           "colorbar": {
            "outlinewidth": 0,
            "ticks": ""
           }
          },
          "colorscale": {
           "diverging": [
            [
             0,
             "#8e0152"
            ],
            [
             0.1,
             "#c51b7d"
            ],
            [
             0.2,
             "#de77ae"
            ],
            [
             0.3,
             "#f1b6da"
            ],
            [
             0.4,
             "#fde0ef"
            ],
            [
             0.5,
             "#f7f7f7"
            ],
            [
             0.6,
             "#e6f5d0"
            ],
            [
             0.7,
             "#b8e186"
            ],
            [
             0.8,
             "#7fbc41"
            ],
            [
             0.9,
             "#4d9221"
            ],
            [
             1,
             "#276419"
            ]
           ],
           "sequential": [
            [
             0,
             "#0d0887"
            ],
            [
             0.1111111111111111,
             "#46039f"
            ],
            [
             0.2222222222222222,
             "#7201a8"
            ],
            [
             0.3333333333333333,
             "#9c179e"
            ],
            [
             0.4444444444444444,
             "#bd3786"
            ],
            [
             0.5555555555555556,
             "#d8576b"
            ],
            [
             0.6666666666666666,
             "#ed7953"
            ],
            [
             0.7777777777777778,
             "#fb9f3a"
            ],
            [
             0.8888888888888888,
             "#fdca26"
            ],
            [
             1,
             "#f0f921"
            ]
           ],
           "sequentialminus": [
            [
             0,
             "#0d0887"
            ],
            [
             0.1111111111111111,
             "#46039f"
            ],
            [
             0.2222222222222222,
             "#7201a8"
            ],
            [
             0.3333333333333333,
             "#9c179e"
            ],
            [
             0.4444444444444444,
             "#bd3786"
            ],
            [
             0.5555555555555556,
             "#d8576b"
            ],
            [
             0.6666666666666666,
             "#ed7953"
            ],
            [
             0.7777777777777778,
             "#fb9f3a"
            ],
            [
             0.8888888888888888,
             "#fdca26"
            ],
            [
             1,
             "#f0f921"
            ]
           ]
          },
          "colorway": [
           "#636efa",
           "#EF553B",
           "#00cc96",
           "#ab63fa",
           "#FFA15A",
           "#19d3f3",
           "#FF6692",
           "#B6E880",
           "#FF97FF",
           "#FECB52"
          ],
          "font": {
           "color": "#2a3f5f"
          },
          "geo": {
           "bgcolor": "white",
           "lakecolor": "white",
           "landcolor": "#E5ECF6",
           "showlakes": true,
           "showland": true,
           "subunitcolor": "white"
          },
          "hoverlabel": {
           "align": "left"
          },
          "hovermode": "closest",
          "mapbox": {
           "style": "light"
          },
          "paper_bgcolor": "white",
          "plot_bgcolor": "#E5ECF6",
          "polar": {
           "angularaxis": {
            "gridcolor": "white",
            "linecolor": "white",
            "ticks": ""
           },
           "bgcolor": "#E5ECF6",
           "radialaxis": {
            "gridcolor": "white",
            "linecolor": "white",
            "ticks": ""
           }
          },
          "scene": {
           "xaxis": {
            "backgroundcolor": "#E5ECF6",
            "gridcolor": "white",
            "gridwidth": 2,
            "linecolor": "white",
            "showbackground": true,
            "ticks": "",
            "zerolinecolor": "white"
           },
           "yaxis": {
            "backgroundcolor": "#E5ECF6",
            "gridcolor": "white",
            "gridwidth": 2,
            "linecolor": "white",
            "showbackground": true,
            "ticks": "",
            "zerolinecolor": "white"
           },
           "zaxis": {
            "backgroundcolor": "#E5ECF6",
            "gridcolor": "white",
            "gridwidth": 2,
            "linecolor": "white",
            "showbackground": true,
            "ticks": "",
            "zerolinecolor": "white"
           }
          },
          "shapedefaults": {
           "line": {
            "color": "#2a3f5f"
           }
          },
          "ternary": {
           "aaxis": {
            "gridcolor": "white",
            "linecolor": "white",
            "ticks": ""
           },
           "baxis": {
            "gridcolor": "white",
            "linecolor": "white",
            "ticks": ""
           },
           "bgcolor": "#E5ECF6",
           "caxis": {
            "gridcolor": "white",
            "linecolor": "white",
            "ticks": ""
           }
          },
          "title": {
           "x": 0.05
          },
          "xaxis": {
           "automargin": true,
           "gridcolor": "white",
           "linecolor": "white",
           "ticks": "",
           "title": {
            "standoff": 15
           },
           "zerolinecolor": "white",
           "zerolinewidth": 2
          },
          "yaxis": {
           "automargin": true,
           "gridcolor": "white",
           "linecolor": "white",
           "ticks": "",
           "title": {
            "standoff": 15
           },
           "zerolinecolor": "white",
           "zerolinewidth": 2
          }
         }
        },
        "title": {
         "text": "Part-of-speech per word tag"
        },
        "width": 1000
       }
      }
     },
     "metadata": {},
     "output_type": "display_data"
    }
   ],
   "source": [
    "# Count words per each POS per each tag\n",
    "pos_counts = df_features.groupby(['is_aspect', 'word.pos']).agg(word_count=pd.NamedAgg(column='is_aspect', aggfunc='count')).reset_index()\n",
    "\n",
    "# Separate data to aspect & non-aspect words\n",
    "aspect_pos_counts = pos_counts[pos_counts['is_aspect'] == 'aspect']\n",
    "non_aspect_pos_counts = pos_counts[pos_counts['is_aspect'] == 'non-aspect']\n",
    "\n",
    "# Plot POS per word type\n",
    "fig = make_subplots(rows=1, cols=2, specs=[[{'type':'domain'}, {'type':'domain'}]])\n",
    "# Aspects\n",
    "fig.add_trace(go.Pie(labels=aspect_pos_counts['word.pos'], values=aspect_pos_counts['word_count'], name=\"aspects\"),\n",
    "              1, 1)\n",
    "# Non-aspects\n",
    "fig.add_trace(go.Pie(labels=non_aspect_pos_counts['word.pos'], values=non_aspect_pos_counts['word_count'], name=\"non aspects\"),\n",
    "              1, 2)\n",
    "\n",
    "fig.update_traces(hole=.4, direction='clockwise', textinfo='label+percent', textposition='inside',showlegend = False)\n",
    "fig.update_layout(\n",
    "    width=1000,\n",
    "    height=500,\n",
    "    title_text=\"Part-of-speech per word tag\",\n",
    "    annotations=[dict(text='Aspect', x=0.188, y=0.5, font_size=16, showarrow=False),\n",
    "                 dict(text='Non-aspect', x=0.83, y=0.5, font_size=16, showarrow=False)])\n",
    "fig.show()"
   ]
  },
  {
   "cell_type": "markdown",
   "metadata": {},
   "source": [
    "## 2.4. <a id='toc2_4_'></a>[Opinion Lexicon - Sentiment](#toc0_)"
   ]
  },
  {
   "cell_type": "markdown",
   "metadata": {},
   "source": [
    "Sentiment of an aspect term in a sentence can be extract from their context words. \n",
    "\n",
    "Here I built the feature set using 4 preceding and 4 succeeding words and their sentiment lexicon. I also filtered out only words that are tagged as \"B\" for this exploration, as it is easier to understand the relationshop with n-words from the starting of a term that give us the sentiment for the aspect term."
   ]
  },
  {
   "cell_type": "code",
   "execution_count": 67,
   "metadata": {},
   "outputs": [
    {
     "data": {
      "text/html": [
       "<div>\n",
       "<style scoped>\n",
       "    .dataframe tbody tr th:only-of-type {\n",
       "        vertical-align: middle;\n",
       "    }\n",
       "\n",
       "    .dataframe tbody tr th {\n",
       "        vertical-align: top;\n",
       "    }\n",
       "\n",
       "    .dataframe thead th {\n",
       "        text-align: right;\n",
       "    }\n",
       "</style>\n",
       "<table border=\"1\" class=\"dataframe\">\n",
       "  <thead>\n",
       "    <tr style=\"text-align: right;\">\n",
       "      <th></th>\n",
       "      <th>POS_word_counts</th>\n",
       "      <th>NEG_word_counts</th>\n",
       "      <th>NEU_word_counts</th>\n",
       "    </tr>\n",
       "    <tr>\n",
       "      <th>sentiment</th>\n",
       "      <th></th>\n",
       "      <th></th>\n",
       "      <th></th>\n",
       "    </tr>\n",
       "  </thead>\n",
       "  <tbody>\n",
       "    <tr>\n",
       "      <th>CON</th>\n",
       "      <td>0.000000</td>\n",
       "      <td>0.022222</td>\n",
       "      <td>0.977778</td>\n",
       "    </tr>\n",
       "    <tr>\n",
       "      <th>NEU</th>\n",
       "      <td>0.010799</td>\n",
       "      <td>0.041037</td>\n",
       "      <td>0.948164</td>\n",
       "    </tr>\n",
       "    <tr>\n",
       "      <th>NEG</th>\n",
       "      <td>0.025404</td>\n",
       "      <td>0.030023</td>\n",
       "      <td>0.944573</td>\n",
       "    </tr>\n",
       "    <tr>\n",
       "      <th>POS</th>\n",
       "      <td>0.028340</td>\n",
       "      <td>0.011134</td>\n",
       "      <td>0.960526</td>\n",
       "    </tr>\n",
       "  </tbody>\n",
       "</table>\n",
       "</div>"
      ],
      "text/plain": [
       "           POS_word_counts  NEG_word_counts  NEU_word_counts\n",
       "sentiment                                                   \n",
       "CON               0.000000         0.022222         0.977778\n",
       "NEU               0.010799         0.041037         0.948164\n",
       "NEG               0.025404         0.030023         0.944573\n",
       "POS               0.028340         0.011134         0.960526"
      ]
     },
     "execution_count": 67,
     "metadata": {},
     "output_type": "execute_result"
    }
   ],
   "source": [
    "opnion_lexicon_columns = [x for x in list(df_features.columns) if re.match('.*opinionlexicon.*', x)]\n",
    "opnion_lexicon_columns.remove('word.opinionlexicon')\n",
    "\n",
    "df_aspects = df_features[df_features['unified_BIO_tag'].str.match(r'B.*')].copy()\n",
    "df_opnions = df_aspects[opnion_lexicon_columns]\n",
    "df_aspects['POS_word_counts'] = df_opnions.map(lambda cell: bool(re.match('POS', str(cell)))).max(axis=1)\n",
    "df_aspects['NEG_word_counts'] = df_opnions.map(lambda cell: bool(re.match('NEG', str(cell)))).max(axis=1)\n",
    "df_aspects['NEU_word_counts'] = df_opnions.map(lambda cell: bool(re.match('NEU', str(cell)))).max(axis=1)\n",
    "\n",
    "df_aspects.groupby('sentiment')[['POS_word_counts','NEG_word_counts','NEU_word_counts']].agg('mean').sort_values(by=['POS_word_counts'])"
   ]
  },
  {
   "cell_type": "markdown",
   "metadata": {},
   "source": [
    "In the above table, I computed the % of aspect term's head word whether they have any positve/ negative/ neutral words within 4 words around them.\n",
    "- We noticed that \"negative\" aspect terms has the highest rate of having at least one negative words around it comparing to others.\n",
    "- While, positive aspect terms have much higher rate of positive words comparing to negative words around them\n",
    "- Neutral aspect terms have event higher rate of having negative context words (ignoring that the sample size is really small), while their positive context word seems to be lower comparing to negative aspect terms\n",
    "- What about conflict aspect term? Why does its chances of having positive context words is almost zero?\n",
    "\n",
    "Let's look into a few conflict aspect term examples."
   ]
  },
  {
   "cell_type": "code",
   "execution_count": 68,
   "metadata": {},
   "outputs": [
    {
     "name": "stdout",
     "output_type": "stream",
     "text": [
      "It will be returned in the state to which it was shipped Michigan.\n",
      "[{'term': '', 'polarity': '', 'from': 0, 'to': 0}]\n",
      "\n",
      "If you check you will find the same notebook with the above missing ports and a dual core AMD or Intel processor.\n",
      "[{'term': 'ports', 'polarity': 'neutral', 'from': '68', 'to': '73'}, {'term': 'processor', 'polarity': 'neutral', 'from': '103', 'to': '112'}]\n",
      "\n",
      "another problem.\n",
      "[{'term': '', 'polarity': '', 'from': 0, 'to': 0}]\n",
      "\n"
     ]
    }
   ],
   "source": [
    "for id in [1054, 325, 1196]: # nth sentence\n",
    "  print(df_train['text'][id])\n",
    "  print(df_train['aspects'][id])\n",
    "  print()"
   ]
  },
  {
   "cell_type": "markdown",
   "metadata": {},
   "source": [
    "One thing I noticed from these samples is that all four samples have a \"context switching\" conjunction: \"but\" which makes a lot of sense. Therefore, I added a new feature into our word feature set: `is_context_switching` words by matching it with a list of words like: but, however, although, nevertheless,....\n",
    "\n",
    "Re-run the above analysis with context switching conjunctions, we saw that ~35% of conflict aspect terms have context switching words within 4 words from the head word."
   ]
  },
  {
   "cell_type": "code",
   "execution_count": 69,
   "metadata": {},
   "outputs": [
    {
     "data": {
      "application/vnd.plotly.v1+json": {
       "config": {
        "plotlyServerURL": "https://plot.ly"
       },
       "data": [
        {
         "alignmentgroup": "True",
         "hovertemplate": "Word Count Type=POS_word_counts<br>Sentiment=%{x}<br>Mean Word Count=%{y}<extra></extra>",
         "legendgroup": "POS_word_counts",
         "marker": {
          "color": "#636efa",
          "pattern": {
           "shape": ""
          }
         },
         "name": "POS_word_counts",
         "offsetgroup": "POS_word_counts",
         "orientation": "v",
         "showlegend": true,
         "textposition": "auto",
         "type": "bar",
         "x": [
          "CON",
          "NEU",
          "NEG",
          "POS"
         ],
         "xaxis": "x",
         "y": [
          0,
          0.01079913606911447,
          0.025404157043879907,
          0.02834008097165992
         ],
         "yaxis": "y"
        },
        {
         "alignmentgroup": "True",
         "hovertemplate": "Word Count Type=NEG_word_counts<br>Sentiment=%{x}<br>Mean Word Count=%{y}<extra></extra>",
         "legendgroup": "NEG_word_counts",
         "marker": {
          "color": "#EF553B",
          "pattern": {
           "shape": ""
          }
         },
         "name": "NEG_word_counts",
         "offsetgroup": "NEG_word_counts",
         "orientation": "v",
         "showlegend": true,
         "textposition": "auto",
         "type": "bar",
         "x": [
          "CON",
          "NEU",
          "NEG",
          "POS"
         ],
         "xaxis": "x",
         "y": [
          0.022222222222222223,
          0.04103671706263499,
          0.03002309468822171,
          0.011133603238866396
         ],
         "yaxis": "y"
        },
        {
         "alignmentgroup": "True",
         "hovertemplate": "Word Count Type=contextswitching_word_counts<br>Sentiment=%{x}<br>Mean Word Count=%{y}<extra></extra>",
         "legendgroup": "contextswitching_word_counts",
         "marker": {
          "color": "#00cc96",
          "pattern": {
           "shape": ""
          }
         },
         "name": "contextswitching_word_counts",
         "offsetgroup": "contextswitching_word_counts",
         "orientation": "v",
         "showlegend": true,
         "textposition": "auto",
         "type": "bar",
         "x": [
          "CON",
          "NEU",
          "NEG",
          "POS"
         ],
         "xaxis": "x",
         "y": [
          0.4666666666666667,
          0.056155507559395246,
          0.07736720554272518,
          0.048582995951417005
         ],
         "yaxis": "y"
        }
       ],
       "layout": {
        "barmode": "group",
        "legend": {
         "title": {
          "text": "Word Count Type"
         },
         "tracegroupgap": 0
        },
        "template": {
         "data": {
          "bar": [
           {
            "error_x": {
             "color": "#2a3f5f"
            },
            "error_y": {
             "color": "#2a3f5f"
            },
            "marker": {
             "line": {
              "color": "#E5ECF6",
              "width": 0.5
             },
             "pattern": {
              "fillmode": "overlay",
              "size": 10,
              "solidity": 0.2
             }
            },
            "type": "bar"
           }
          ],
          "barpolar": [
           {
            "marker": {
             "line": {
              "color": "#E5ECF6",
              "width": 0.5
             },
             "pattern": {
              "fillmode": "overlay",
              "size": 10,
              "solidity": 0.2
             }
            },
            "type": "barpolar"
           }
          ],
          "carpet": [
           {
            "aaxis": {
             "endlinecolor": "#2a3f5f",
             "gridcolor": "white",
             "linecolor": "white",
             "minorgridcolor": "white",
             "startlinecolor": "#2a3f5f"
            },
            "baxis": {
             "endlinecolor": "#2a3f5f",
             "gridcolor": "white",
             "linecolor": "white",
             "minorgridcolor": "white",
             "startlinecolor": "#2a3f5f"
            },
            "type": "carpet"
           }
          ],
          "choropleth": [
           {
            "colorbar": {
             "outlinewidth": 0,
             "ticks": ""
            },
            "type": "choropleth"
           }
          ],
          "contour": [
           {
            "colorbar": {
             "outlinewidth": 0,
             "ticks": ""
            },
            "colorscale": [
             [
              0,
              "#0d0887"
             ],
             [
              0.1111111111111111,
              "#46039f"
             ],
             [
              0.2222222222222222,
              "#7201a8"
             ],
             [
              0.3333333333333333,
              "#9c179e"
             ],
             [
              0.4444444444444444,
              "#bd3786"
             ],
             [
              0.5555555555555556,
              "#d8576b"
             ],
             [
              0.6666666666666666,
              "#ed7953"
             ],
             [
              0.7777777777777778,
              "#fb9f3a"
             ],
             [
              0.8888888888888888,
              "#fdca26"
             ],
             [
              1,
              "#f0f921"
             ]
            ],
            "type": "contour"
           }
          ],
          "contourcarpet": [
           {
            "colorbar": {
             "outlinewidth": 0,
             "ticks": ""
            },
            "type": "contourcarpet"
           }
          ],
          "heatmap": [
           {
            "colorbar": {
             "outlinewidth": 0,
             "ticks": ""
            },
            "colorscale": [
             [
              0,
              "#0d0887"
             ],
             [
              0.1111111111111111,
              "#46039f"
             ],
             [
              0.2222222222222222,
              "#7201a8"
             ],
             [
              0.3333333333333333,
              "#9c179e"
             ],
             [
              0.4444444444444444,
              "#bd3786"
             ],
             [
              0.5555555555555556,
              "#d8576b"
             ],
             [
              0.6666666666666666,
              "#ed7953"
             ],
             [
              0.7777777777777778,
              "#fb9f3a"
             ],
             [
              0.8888888888888888,
              "#fdca26"
             ],
             [
              1,
              "#f0f921"
             ]
            ],
            "type": "heatmap"
           }
          ],
          "heatmapgl": [
           {
            "colorbar": {
             "outlinewidth": 0,
             "ticks": ""
            },
            "colorscale": [
             [
              0,
              "#0d0887"
             ],
             [
              0.1111111111111111,
              "#46039f"
             ],
             [
              0.2222222222222222,
              "#7201a8"
             ],
             [
              0.3333333333333333,
              "#9c179e"
             ],
             [
              0.4444444444444444,
              "#bd3786"
             ],
             [
              0.5555555555555556,
              "#d8576b"
             ],
             [
              0.6666666666666666,
              "#ed7953"
             ],
             [
              0.7777777777777778,
              "#fb9f3a"
             ],
             [
              0.8888888888888888,
              "#fdca26"
             ],
             [
              1,
              "#f0f921"
             ]
            ],
            "type": "heatmapgl"
           }
          ],
          "histogram": [
           {
            "marker": {
             "pattern": {
              "fillmode": "overlay",
              "size": 10,
              "solidity": 0.2
             }
            },
            "type": "histogram"
           }
          ],
          "histogram2d": [
           {
            "colorbar": {
             "outlinewidth": 0,
             "ticks": ""
            },
            "colorscale": [
             [
              0,
              "#0d0887"
             ],
             [
              0.1111111111111111,
              "#46039f"
             ],
             [
              0.2222222222222222,
              "#7201a8"
             ],
             [
              0.3333333333333333,
              "#9c179e"
             ],
             [
              0.4444444444444444,
              "#bd3786"
             ],
             [
              0.5555555555555556,
              "#d8576b"
             ],
             [
              0.6666666666666666,
              "#ed7953"
             ],
             [
              0.7777777777777778,
              "#fb9f3a"
             ],
             [
              0.8888888888888888,
              "#fdca26"
             ],
             [
              1,
              "#f0f921"
             ]
            ],
            "type": "histogram2d"
           }
          ],
          "histogram2dcontour": [
           {
            "colorbar": {
             "outlinewidth": 0,
             "ticks": ""
            },
            "colorscale": [
             [
              0,
              "#0d0887"
             ],
             [
              0.1111111111111111,
              "#46039f"
             ],
             [
              0.2222222222222222,
              "#7201a8"
             ],
             [
              0.3333333333333333,
              "#9c179e"
             ],
             [
              0.4444444444444444,
              "#bd3786"
             ],
             [
              0.5555555555555556,
              "#d8576b"
             ],
             [
              0.6666666666666666,
              "#ed7953"
             ],
             [
              0.7777777777777778,
              "#fb9f3a"
             ],
             [
              0.8888888888888888,
              "#fdca26"
             ],
             [
              1,
              "#f0f921"
             ]
            ],
            "type": "histogram2dcontour"
           }
          ],
          "mesh3d": [
           {
            "colorbar": {
             "outlinewidth": 0,
             "ticks": ""
            },
            "type": "mesh3d"
           }
          ],
          "parcoords": [
           {
            "line": {
             "colorbar": {
              "outlinewidth": 0,
              "ticks": ""
             }
            },
            "type": "parcoords"
           }
          ],
          "pie": [
           {
            "automargin": true,
            "type": "pie"
           }
          ],
          "scatter": [
           {
            "fillpattern": {
             "fillmode": "overlay",
             "size": 10,
             "solidity": 0.2
            },
            "type": "scatter"
           }
          ],
          "scatter3d": [
           {
            "line": {
             "colorbar": {
              "outlinewidth": 0,
              "ticks": ""
             }
            },
            "marker": {
             "colorbar": {
              "outlinewidth": 0,
              "ticks": ""
             }
            },
            "type": "scatter3d"
           }
          ],
          "scattercarpet": [
           {
            "marker": {
             "colorbar": {
              "outlinewidth": 0,
              "ticks": ""
             }
            },
            "type": "scattercarpet"
           }
          ],
          "scattergeo": [
           {
            "marker": {
             "colorbar": {
              "outlinewidth": 0,
              "ticks": ""
             }
            },
            "type": "scattergeo"
           }
          ],
          "scattergl": [
           {
            "marker": {
             "colorbar": {
              "outlinewidth": 0,
              "ticks": ""
             }
            },
            "type": "scattergl"
           }
          ],
          "scattermapbox": [
           {
            "marker": {
             "colorbar": {
              "outlinewidth": 0,
              "ticks": ""
             }
            },
            "type": "scattermapbox"
           }
          ],
          "scatterpolar": [
           {
            "marker": {
             "colorbar": {
              "outlinewidth": 0,
              "ticks": ""
             }
            },
            "type": "scatterpolar"
           }
          ],
          "scatterpolargl": [
           {
            "marker": {
             "colorbar": {
              "outlinewidth": 0,
              "ticks": ""
             }
            },
            "type": "scatterpolargl"
           }
          ],
          "scatterternary": [
           {
            "marker": {
             "colorbar": {
              "outlinewidth": 0,
              "ticks": ""
             }
            },
            "type": "scatterternary"
           }
          ],
          "surface": [
           {
            "colorbar": {
             "outlinewidth": 0,
             "ticks": ""
            },
            "colorscale": [
             [
              0,
              "#0d0887"
             ],
             [
              0.1111111111111111,
              "#46039f"
             ],
             [
              0.2222222222222222,
              "#7201a8"
             ],
             [
              0.3333333333333333,
              "#9c179e"
             ],
             [
              0.4444444444444444,
              "#bd3786"
             ],
             [
              0.5555555555555556,
              "#d8576b"
             ],
             [
              0.6666666666666666,
              "#ed7953"
             ],
             [
              0.7777777777777778,
              "#fb9f3a"
             ],
             [
              0.8888888888888888,
              "#fdca26"
             ],
             [
              1,
              "#f0f921"
             ]
            ],
            "type": "surface"
           }
          ],
          "table": [
           {
            "cells": {
             "fill": {
              "color": "#EBF0F8"
             },
             "line": {
              "color": "white"
             }
            },
            "header": {
             "fill": {
              "color": "#C8D4E3"
             },
             "line": {
              "color": "white"
             }
            },
            "type": "table"
           }
          ]
         },
         "layout": {
          "annotationdefaults": {
           "arrowcolor": "#2a3f5f",
           "arrowhead": 0,
           "arrowwidth": 1
          },
          "autotypenumbers": "strict",
          "coloraxis": {
           "colorbar": {
            "outlinewidth": 0,
            "ticks": ""
           }
          },
          "colorscale": {
           "diverging": [
            [
             0,
             "#8e0152"
            ],
            [
             0.1,
             "#c51b7d"
            ],
            [
             0.2,
             "#de77ae"
            ],
            [
             0.3,
             "#f1b6da"
            ],
            [
             0.4,
             "#fde0ef"
            ],
            [
             0.5,
             "#f7f7f7"
            ],
            [
             0.6,
             "#e6f5d0"
            ],
            [
             0.7,
             "#b8e186"
            ],
            [
             0.8,
             "#7fbc41"
            ],
            [
             0.9,
             "#4d9221"
            ],
            [
             1,
             "#276419"
            ]
           ],
           "sequential": [
            [
             0,
             "#0d0887"
            ],
            [
             0.1111111111111111,
             "#46039f"
            ],
            [
             0.2222222222222222,
             "#7201a8"
            ],
            [
             0.3333333333333333,
             "#9c179e"
            ],
            [
             0.4444444444444444,
             "#bd3786"
            ],
            [
             0.5555555555555556,
             "#d8576b"
            ],
            [
             0.6666666666666666,
             "#ed7953"
            ],
            [
             0.7777777777777778,
             "#fb9f3a"
            ],
            [
             0.8888888888888888,
             "#fdca26"
            ],
            [
             1,
             "#f0f921"
            ]
           ],
           "sequentialminus": [
            [
             0,
             "#0d0887"
            ],
            [
             0.1111111111111111,
             "#46039f"
            ],
            [
             0.2222222222222222,
             "#7201a8"
            ],
            [
             0.3333333333333333,
             "#9c179e"
            ],
            [
             0.4444444444444444,
             "#bd3786"
            ],
            [
             0.5555555555555556,
             "#d8576b"
            ],
            [
             0.6666666666666666,
             "#ed7953"
            ],
            [
             0.7777777777777778,
             "#fb9f3a"
            ],
            [
             0.8888888888888888,
             "#fdca26"
            ],
            [
             1,
             "#f0f921"
            ]
           ]
          },
          "colorway": [
           "#636efa",
           "#EF553B",
           "#00cc96",
           "#ab63fa",
           "#FFA15A",
           "#19d3f3",
           "#FF6692",
           "#B6E880",
           "#FF97FF",
           "#FECB52"
          ],
          "font": {
           "color": "#2a3f5f"
          },
          "geo": {
           "bgcolor": "white",
           "lakecolor": "white",
           "landcolor": "#E5ECF6",
           "showlakes": true,
           "showland": true,
           "subunitcolor": "white"
          },
          "hoverlabel": {
           "align": "left"
          },
          "hovermode": "closest",
          "mapbox": {
           "style": "light"
          },
          "paper_bgcolor": "white",
          "plot_bgcolor": "#E5ECF6",
          "polar": {
           "angularaxis": {
            "gridcolor": "white",
            "linecolor": "white",
            "ticks": ""
           },
           "bgcolor": "#E5ECF6",
           "radialaxis": {
            "gridcolor": "white",
            "linecolor": "white",
            "ticks": ""
           }
          },
          "scene": {
           "xaxis": {
            "backgroundcolor": "#E5ECF6",
            "gridcolor": "white",
            "gridwidth": 2,
            "linecolor": "white",
            "showbackground": true,
            "ticks": "",
            "zerolinecolor": "white"
           },
           "yaxis": {
            "backgroundcolor": "#E5ECF6",
            "gridcolor": "white",
            "gridwidth": 2,
            "linecolor": "white",
            "showbackground": true,
            "ticks": "",
            "zerolinecolor": "white"
           },
           "zaxis": {
            "backgroundcolor": "#E5ECF6",
            "gridcolor": "white",
            "gridwidth": 2,
            "linecolor": "white",
            "showbackground": true,
            "ticks": "",
            "zerolinecolor": "white"
           }
          },
          "shapedefaults": {
           "line": {
            "color": "#2a3f5f"
           }
          },
          "ternary": {
           "aaxis": {
            "gridcolor": "white",
            "linecolor": "white",
            "ticks": ""
           },
           "baxis": {
            "gridcolor": "white",
            "linecolor": "white",
            "ticks": ""
           },
           "bgcolor": "#E5ECF6",
           "caxis": {
            "gridcolor": "white",
            "linecolor": "white",
            "ticks": ""
           }
          },
          "title": {
           "x": 0.05
          },
          "xaxis": {
           "automargin": true,
           "gridcolor": "white",
           "linecolor": "white",
           "ticks": "",
           "title": {
            "standoff": 15
           },
           "zerolinecolor": "white",
           "zerolinewidth": 2
          },
          "yaxis": {
           "automargin": true,
           "gridcolor": "white",
           "linecolor": "white",
           "ticks": "",
           "title": {
            "standoff": 15
           },
           "zerolinecolor": "white",
           "zerolinewidth": 2
          }
         }
        },
        "title": {
         "text": "% aspect words contains positive, negative, and context switching context words by Sentiment"
        },
        "xaxis": {
         "anchor": "y",
         "domain": [
          0,
          1
         ],
         "title": {
          "text": "Sentiment"
         }
        },
        "yaxis": {
         "anchor": "x",
         "domain": [
          0,
          1
         ],
         "title": {
          "text": "Mean Word Count"
         }
        }
       }
      }
     },
     "metadata": {},
     "output_type": "display_data"
    }
   ],
   "source": [
    "context_switching_columns = [x for x in list(df_features.columns) if re.match('.*contextswitching.*', x)]\n",
    "\n",
    "df_aspects['contextswitching_word_counts'] = df_aspects[context_switching_columns].max(axis=1)\n",
    "sentiment_context_summary = df_aspects.groupby('sentiment')[['POS_word_counts','NEG_word_counts','contextswitching_word_counts']].agg('mean').sort_values(by=['POS_word_counts'])\n",
    "\n",
    "fig = px.bar( sentiment_context_summary.astype(float), x=sentiment_context_summary.index, y=['POS_word_counts', 'NEG_word_counts', 'contextswitching_word_counts'],\n",
    "             title='% aspect words contains positive, negative, and context switching context words by Sentiment',\n",
    "             labels={'value': 'Mean Word Count', 'variable': 'Word Count Type', 'sentiment': 'Sentiment'},\n",
    "             barmode='group')\n",
    "\n",
    "# Show the plot\n",
    "fig.show()"
   ]
  },
  {
   "cell_type": "markdown",
   "metadata": {},
   "source": [
    "# 3. <a id='toc3_'></a>[Split data](#toc0_)"
   ]
  },
  {
   "cell_type": "markdown",
   "metadata": {},
   "source": [
    "As we have learned and confirmed some of our hypothesis on the influences of aspect terms and their sentiments. We will now load the full dataset and prepare it again for our modelling process."
   ]
  },
  {
   "cell_type": "code",
   "execution_count": 70,
   "metadata": {},
   "outputs": [
    {
     "name": "stdout",
     "output_type": "stream",
     "text": [
      "# of possible incorrect labels in df:  20 (1% total records)\n",
      "\n",
      "\n",
      " Some incorrect examples\n",
      "2428 2428\n",
      "608 608\n"
     ]
    }
   ],
   "source": [
    "# Reload the data to make sure we have the clean data\n",
    "df_train = pd.read_json('data/laptop/train.json')\n",
    "\n",
    "# Drop duplicates as we identified and inspected previously\n",
    "df_train.drop_duplicates(subset='text',inplace=True)\n",
    "\n",
    "# Prepare the data: BIO tagging & get word features\n",
    "df_train[['features', 'unified_BIO_tag']] = prepare_df(df_train, 9, True)\n",
    "\n",
    "df_train, df_test = train_test_split(df_train, test_size=0.2, random_state=42)\n",
    "\n",
    "X_train = df_train[['id', 'features']]\n",
    "y_train = df_train['unified_BIO_tag']\n",
    "print(len(X_train), len(y_train))\n",
    "\n",
    "X_test = df_test[['id', 'features']]\n",
    "y_test = df_test['unified_BIO_tag']\n",
    "print(len(X_test), len(y_test))"
   ]
  },
  {
   "cell_type": "code",
   "execution_count": 71,
   "metadata": {},
   "outputs": [
    {
     "data": {
      "text/html": [
       "<div>\n",
       "<style scoped>\n",
       "    .dataframe tbody tr th:only-of-type {\n",
       "        vertical-align: middle;\n",
       "    }\n",
       "\n",
       "    .dataframe tbody tr th {\n",
       "        vertical-align: top;\n",
       "    }\n",
       "\n",
       "    .dataframe thead th {\n",
       "        text-align: right;\n",
       "    }\n",
       "</style>\n",
       "<table border=\"1\" class=\"dataframe\">\n",
       "  <thead>\n",
       "    <tr style=\"text-align: right;\">\n",
       "      <th></th>\n",
       "      <th>id</th>\n",
       "      <th>features</th>\n",
       "    </tr>\n",
       "  </thead>\n",
       "  <tbody>\n",
       "    <tr>\n",
       "      <th>228</th>\n",
       "      <td>2465</td>\n",
       "      <td>[{'word.lower()': 'since', 'word.index()': 0, ...</td>\n",
       "    </tr>\n",
       "    <tr>\n",
       "      <th>366</th>\n",
       "      <td>924</td>\n",
       "      <td>[{'word.lower()': 'no', 'word.index()': 0, 'wo...</td>\n",
       "    </tr>\n",
       "    <tr>\n",
       "      <th>2935</th>\n",
       "      <td>112</td>\n",
       "      <td>[{'word.lower()': 'the', 'word.index()': 0, 'w...</td>\n",
       "    </tr>\n",
       "    <tr>\n",
       "      <th>2507</th>\n",
       "      <td>2689</td>\n",
       "      <td>[{'word.lower()': 'i', 'word.index()': 0, 'wor...</td>\n",
       "    </tr>\n",
       "    <tr>\n",
       "      <th>2005</th>\n",
       "      <td>254</td>\n",
       "      <td>[{'word.lower()': 'maybe', 'word.index()': 0, ...</td>\n",
       "    </tr>\n",
       "  </tbody>\n",
       "</table>\n",
       "</div>"
      ],
      "text/plain": [
       "        id                                           features\n",
       "228   2465  [{'word.lower()': 'since', 'word.index()': 0, ...\n",
       "366    924  [{'word.lower()': 'no', 'word.index()': 0, 'wo...\n",
       "2935   112  [{'word.lower()': 'the', 'word.index()': 0, 'w...\n",
       "2507  2689  [{'word.lower()': 'i', 'word.index()': 0, 'wor...\n",
       "2005   254  [{'word.lower()': 'maybe', 'word.index()': 0, ..."
      ]
     },
     "execution_count": 71,
     "metadata": {},
     "output_type": "execute_result"
    }
   ],
   "source": [
    "X_train.head()"
   ]
  },
  {
   "cell_type": "code",
   "execution_count": 72,
   "metadata": {},
   "outputs": [
    {
     "data": {
      "text/plain": [
       "228     [O, O, O, O, O, O, O, O, O, O, O, O, O, O, O, ...\n",
       "366                                             [O, O, O]\n",
       "2935       [O, B-NEG, O, O, O, O, O, O, O, O, O, O, O, O]\n",
       "2507                  [O, O, O, B-NEG, O, B-NEG, O, O, O]\n",
       "2005           [O, O, O, O, O, O, O, O, O, O, O, O, O, O]\n",
       "Name: unified_BIO_tag, dtype: object"
      ]
     },
     "execution_count": 72,
     "metadata": {},
     "output_type": "execute_result"
    }
   ],
   "source": [
    "y_train[:5]"
   ]
  },
  {
   "cell_type": "markdown",
   "metadata": {},
   "source": [
    "# 4. <a id='toc4_'></a>[Random forest](#toc0_)\n",
    "\n",
    "First, we can try applying basic ML algorithm to get a sense of the data. I am selecting Random Forest as it is easy to setup & understand and is also quite powerful in classification tasks."
   ]
  },
  {
   "cell_type": "markdown",
   "metadata": {},
   "source": [
    "## 4.1. <a id='toc4_1_'></a>[Data prepration](#toc0_)"
   ]
  },
  {
   "cell_type": "markdown",
   "metadata": {},
   "source": [
    "In order to perform random forest, we need to flatten our word feature dataset so that it can be ussed for training the model."
   ]
  },
  {
   "cell_type": "markdown",
   "metadata": {},
   "source": [
    "### 4.1.1. <a id='toc4_1_1_'></a>[Flattening](#toc0_)"
   ]
  },
  {
   "cell_type": "markdown",
   "metadata": {},
   "source": [
    "Since the feature set involves a lot of categorical data like: word, its context words, its endings, ..., the flatten dataset can be very wide if we need to perform one-hot-encoding all the data. \n",
    "For simplicity and also from our EDA, we noticed that word's POS is very important, and its context' sentiment lexicon. \n",
    "\n",
    "I will perform one-hot-encoding on the words, and retaining POS and sentiment lexicon features, while dropping all other categorical features. "
   ]
  },
  {
   "cell_type": "code",
   "execution_count": 73,
   "metadata": {},
   "outputs": [],
   "source": [
    "# Convert word features into data frame\n",
    "def data_prep_rf(X, y, one_hot_encoder=None):\n",
    "  X_rf = pd.concat([features2df(X.iloc[i]['id'], X.iloc[i]['features']) for i in range(0, len(X))], ignore_index=True)\n",
    "  y_rf = [tag for sentence in y for tag in sentence]\n",
    "\n",
    "  X_rf.replace(True,1, inplace=True)\n",
    "  X_rf.replace(False,0, inplace=True)\n",
    "\n",
    "  # Fill NaN values in object-type columns with a 'missing'\n",
    "  object_columns = X_rf.select_dtypes(include=['object']).columns\n",
    "  X_rf[object_columns] = X_rf[object_columns].fillna(value='missing')\n",
    "\n",
    "  # Fill the rest NaN with -1, since most of missing features are boolean\n",
    "  X_rf = X_rf.fillna(-1)\n",
    "  \n",
    "  # We renove all categorical columns that are not POS, or sentiment lexicon + nth_sentence which the number of the sentence we we use to string back the data at the end, but is not needed for training\n",
    "  drop_cols = [x for x in list(X_rf.columns) if re.match('(.*word\\.lower\\(\\))|(.*word\\[-\\d\\:])', x)] + ['nth_sentence'] # word columns\n",
    "  X_rf = X_rf.drop(columns=drop_cols, axis=1)\n",
    "\n",
    "  # Perform one-hot-encoder on the reamining columns\n",
    "  if one_hot_encoder is None: # This is to make sure we use the same one-hot-encoder for both train & test split (avoiding data leakage)\n",
    "    one_hot_encoder = OneHotEncoder(sparse_output=False, drop='first')  # 'drop' parameter is optional, set to 'first' to avoid multicollinearity\n",
    "    encoded_data = one_hot_encoder.fit_transform(X_rf.select_dtypes(include=['object']))\n",
    "\n",
    "  else: # when we perform data prep for test data, we can reuse the one-hot-encoder used during training data preparation\n",
    "    encoded_data = one_hot_encoder.transform(X_rf.select_dtypes(include=['object']))\n",
    "\n",
    "  # Re-added one-hot-encoding data back to the main dataframe\n",
    "  df_encoded = pd.DataFrame(encoded_data, columns=one_hot_encoder.get_feature_names_out(X_rf.select_dtypes(include=['object']).columns))\n",
    "  X_rf = pd.concat([X_rf, df_encoded], axis=1)\n",
    "\n",
    "  # Dropped all the categorical features that have already been one-hot-encoded\n",
    "  X_rf.drop(columns=X_rf.select_dtypes(include=['object']).columns, inplace=True)\n",
    "\n",
    "  return X_rf, y_rf, one_hot_encoder"
   ]
  },
  {
   "cell_type": "code",
   "execution_count": 74,
   "metadata": {},
   "outputs": [],
   "source": [
    "X_train_rf, y_train_rf, one_hot_encoder = data_prep_rf(X_train, y_train)\n",
    "X_test_rf, y_test_rf, _ = data_prep_rf(X_test, y_test, one_hot_encoder)"
   ]
  },
  {
   "cell_type": "markdown",
   "metadata": {},
   "source": [
    "### 4.1.2. <a id='toc4_1_2_'></a>[Oversampling](#toc0_)"
   ]
  },
  {
   "cell_type": "markdown",
   "metadata": {},
   "source": [
    "As noticed in our EDA process, our data is very skewed with lots of \"O\" (non-aspect) words and very few \"conflict\" aspect terms. \n",
    "So, I am applying oversampling with a hope to improve the model performance a bit.\n",
    "We can see that after applying SMOTE over sampling, we now have a uniform distribution of all aspect tags."
   ]
  },
  {
   "cell_type": "code",
   "execution_count": 75,
   "metadata": {},
   "outputs": [
    {
     "name": "stdout",
     "output_type": "stream",
     "text": [
      "Class distribution before oversampling: Counter({'O': 38080, 'B-POS': 789, 'B-NEG': 651, 'I-NEG': 352, 'B-NEU': 348, 'I-POS': 286, 'I-NEU': 218, 'B-CON': 36, 'I-CON': 14})\n",
      "Class distribution after oversampling: Counter({'O': 38080, 'B-POS': 38080, 'I-POS': 38080, 'B-NEG': 38080, 'B-NEU': 38080, 'I-NEU': 38080, 'I-NEG': 38080, 'B-CON': 38080, 'I-CON': 38080})\n"
     ]
    }
   ],
   "source": [
    "# Display class distribution before oversampling\n",
    "print(\"Class distribution before oversampling:\", Counter(y_train_rf))\n",
    "\n",
    "# Apply SMOTE to upsample the minority class\n",
    "smote = SMOTE(random_state=42)\n",
    "X_train_rf_resampled, y_train_rf_resampled = smote.fit_resample(X_train_rf, y_train_rf)\n",
    "\n",
    "# Display class distribution after oversampling\n",
    "print(\"Class distribution after oversampling:\", Counter(y_train_rf_resampled))"
   ]
  },
  {
   "cell_type": "markdown",
   "metadata": {},
   "source": [
    "### 4.1.3. <a id='toc4_1_3_'></a>[Scaling](#toc0_)"
   ]
  },
  {
   "cell_type": "markdown",
   "metadata": {},
   "source": [
    "Other than binary features, we still have a few features around word index within a sentence, therefore, scaling can help bring all features to similar scales."
   ]
  },
  {
   "cell_type": "code",
   "execution_count": 76,
   "metadata": {},
   "outputs": [
    {
     "name": "stdout",
     "output_type": "stream",
     "text": [
      "(342720, 554) 342720\n",
      "(10371, 554) 10371\n"
     ]
    }
   ],
   "source": [
    "# Initialize the StandardScaler\n",
    "scaler = StandardScaler()\n",
    "\n",
    "# Fit and transform the features\n",
    "X_train_rf_scaled = scaler.fit_transform(X_train_rf_resampled)\n",
    "X_test_rf_scaled = scaler.transform(X_test_rf) # Double check why we are seeing more columns in test????\n",
    "\n",
    "print(X_train_rf_scaled.shape, len(y_train_rf_resampled))\n",
    "print(X_test_rf_scaled.shape, len(y_test_rf))"
   ]
  },
  {
   "cell_type": "markdown",
   "metadata": {},
   "source": [
    "## 4.2. <a id='toc4_2_'></a>[Model](#toc0_)"
   ]
  },
  {
   "cell_type": "code",
   "execution_count": 77,
   "metadata": {},
   "outputs": [
    {
     "data": {
      "text/html": [
       "<style>#sk-container-id-1 {color: black;}#sk-container-id-1 pre{padding: 0;}#sk-container-id-1 div.sk-toggleable {background-color: white;}#sk-container-id-1 label.sk-toggleable__label {cursor: pointer;display: block;width: 100%;margin-bottom: 0;padding: 0.3em;box-sizing: border-box;text-align: center;}#sk-container-id-1 label.sk-toggleable__label-arrow:before {content: \"▸\";float: left;margin-right: 0.25em;color: #696969;}#sk-container-id-1 label.sk-toggleable__label-arrow:hover:before {color: black;}#sk-container-id-1 div.sk-estimator:hover label.sk-toggleable__label-arrow:before {color: black;}#sk-container-id-1 div.sk-toggleable__content {max-height: 0;max-width: 0;overflow: hidden;text-align: left;background-color: #f0f8ff;}#sk-container-id-1 div.sk-toggleable__content pre {margin: 0.2em;color: black;border-radius: 0.25em;background-color: #f0f8ff;}#sk-container-id-1 input.sk-toggleable__control:checked~div.sk-toggleable__content {max-height: 200px;max-width: 100%;overflow: auto;}#sk-container-id-1 input.sk-toggleable__control:checked~label.sk-toggleable__label-arrow:before {content: \"▾\";}#sk-container-id-1 div.sk-estimator input.sk-toggleable__control:checked~label.sk-toggleable__label {background-color: #d4ebff;}#sk-container-id-1 div.sk-label input.sk-toggleable__control:checked~label.sk-toggleable__label {background-color: #d4ebff;}#sk-container-id-1 input.sk-hidden--visually {border: 0;clip: rect(1px 1px 1px 1px);clip: rect(1px, 1px, 1px, 1px);height: 1px;margin: -1px;overflow: hidden;padding: 0;position: absolute;width: 1px;}#sk-container-id-1 div.sk-estimator {font-family: monospace;background-color: #f0f8ff;border: 1px dotted black;border-radius: 0.25em;box-sizing: border-box;margin-bottom: 0.5em;}#sk-container-id-1 div.sk-estimator:hover {background-color: #d4ebff;}#sk-container-id-1 div.sk-parallel-item::after {content: \"\";width: 100%;border-bottom: 1px solid gray;flex-grow: 1;}#sk-container-id-1 div.sk-label:hover label.sk-toggleable__label {background-color: #d4ebff;}#sk-container-id-1 div.sk-serial::before {content: \"\";position: absolute;border-left: 1px solid gray;box-sizing: border-box;top: 0;bottom: 0;left: 50%;z-index: 0;}#sk-container-id-1 div.sk-serial {display: flex;flex-direction: column;align-items: center;background-color: white;padding-right: 0.2em;padding-left: 0.2em;position: relative;}#sk-container-id-1 div.sk-item {position: relative;z-index: 1;}#sk-container-id-1 div.sk-parallel {display: flex;align-items: stretch;justify-content: center;background-color: white;position: relative;}#sk-container-id-1 div.sk-item::before, #sk-container-id-1 div.sk-parallel-item::before {content: \"\";position: absolute;border-left: 1px solid gray;box-sizing: border-box;top: 0;bottom: 0;left: 50%;z-index: -1;}#sk-container-id-1 div.sk-parallel-item {display: flex;flex-direction: column;z-index: 1;position: relative;background-color: white;}#sk-container-id-1 div.sk-parallel-item:first-child::after {align-self: flex-end;width: 50%;}#sk-container-id-1 div.sk-parallel-item:last-child::after {align-self: flex-start;width: 50%;}#sk-container-id-1 div.sk-parallel-item:only-child::after {width: 0;}#sk-container-id-1 div.sk-dashed-wrapped {border: 1px dashed gray;margin: 0 0.4em 0.5em 0.4em;box-sizing: border-box;padding-bottom: 0.4em;background-color: white;}#sk-container-id-1 div.sk-label label {font-family: monospace;font-weight: bold;display: inline-block;line-height: 1.2em;}#sk-container-id-1 div.sk-label-container {text-align: center;}#sk-container-id-1 div.sk-container {/* jupyter's `normalize.less` sets `[hidden] { display: none; }` but bootstrap.min.css set `[hidden] { display: none !important; }` so we also need the `!important` here to be able to override the default hidden behavior on the sphinx rendered scikit-learn.org. See: https://github.com/scikit-learn/scikit-learn/issues/21755 */display: inline-block !important;position: relative;}#sk-container-id-1 div.sk-text-repr-fallback {display: none;}</style><div id=\"sk-container-id-1\" class=\"sk-top-container\"><div class=\"sk-text-repr-fallback\"><pre>RandomForestClassifier(max_depth=10, min_samples_leaf=5, min_samples_split=5,\n",
       "                       random_state=42)</pre><b>In a Jupyter environment, please rerun this cell to show the HTML representation or trust the notebook. <br />On GitHub, the HTML representation is unable to render, please try loading this page with nbviewer.org.</b></div><div class=\"sk-container\" hidden><div class=\"sk-item\"><div class=\"sk-estimator sk-toggleable\"><input class=\"sk-toggleable__control sk-hidden--visually\" id=\"sk-estimator-id-1\" type=\"checkbox\" checked><label for=\"sk-estimator-id-1\" class=\"sk-toggleable__label sk-toggleable__label-arrow\">RandomForestClassifier</label><div class=\"sk-toggleable__content\"><pre>RandomForestClassifier(max_depth=10, min_samples_leaf=5, min_samples_split=5,\n",
       "                       random_state=42)</pre></div></div></div></div></div>"
      ],
      "text/plain": [
       "RandomForestClassifier(max_depth=10, min_samples_leaf=5, min_samples_split=5,\n",
       "                       random_state=42)"
      ]
     },
     "execution_count": 77,
     "metadata": {},
     "output_type": "execute_result"
    }
   ],
   "source": [
    "rf_classifier = RandomForestClassifier(n_estimators=100, max_depth=10, min_samples_split=5, min_samples_leaf=5, random_state=42)\n",
    "rf_classifier.fit(X_train_rf_scaled, y_train_rf_resampled)"
   ]
  },
  {
   "cell_type": "code",
   "execution_count": 78,
   "metadata": {},
   "outputs": [
    {
     "name": "stdout",
     "output_type": "stream",
     "text": [
      "Accuracy: 0.8497052987861812\n",
      "Classification Report:\n",
      "              precision    recall  f1-score   support\n",
      "\n",
      "       B-CON       0.95      0.99      0.97     38080\n",
      "       B-NEG       0.79      0.69      0.74     38080\n",
      "       B-NEU       0.71      0.91      0.80     38080\n",
      "       B-POS       0.80      0.53      0.64     38080\n",
      "       I-CON       1.00      1.00      1.00     38080\n",
      "       I-NEG       0.93      0.82      0.87     38080\n",
      "       I-NEU       0.76      0.95      0.85     38080\n",
      "       I-POS       0.84      0.88      0.86     38080\n",
      "           O       0.90      0.89      0.89     38080\n",
      "\n",
      "    accuracy                           0.85    342720\n",
      "   macro avg       0.85      0.85      0.85    342720\n",
      "weighted avg       0.85      0.85      0.85    342720\n",
      "\n"
     ]
    },
    {
     "data": {
      "image/png": "[encoded data removed]",
      "text/plain": [
       "<Figure size 800x600 with 2 Axes>"
      ]
     },
     "metadata": {},
     "output_type": "display_data"
    }
   ],
   "source": [
    "# Make predictions on the test set\n",
    "y_train_rf_pred = rf_classifier.predict(X_train_rf_scaled)\n",
    "\n",
    "# Evaluate the model\n",
    "accuracy = accuracy_score(y_train_rf_resampled, y_train_rf_pred)\n",
    "classification_rep = classification_report(y_train_rf_resampled, y_train_rf_pred)\n",
    "\n",
    "print(f\"Accuracy: {accuracy}\")\n",
    "print(\"Classification Report:\")\n",
    "print(classification_rep)\n",
    "\n",
    "# Compute confusion matrix\n",
    "conf_matrix = confusion_matrix(y_train_rf_resampled, y_train_rf_pred, labels=rf_classifier.classes_)\n",
    "\n",
    "# Plot the confusion matrix with seaborn\n",
    "plt.figure(figsize=(8, 6))\n",
    "sns.heatmap(conf_matrix, annot=True, fmt='d', cmap='Blues', xticklabels=rf_classifier.classes_, yticklabels=rf_classifier.classes_)\n",
    "plt.title('Confusion Matrix')\n",
    "plt.xlabel('Predicted Label')\n",
    "plt.ylabel('True Label')\n",
    "plt.show()"
   ]
  },
  {
   "cell_type": "markdown",
   "metadata": {},
   "source": [
    "The model performance looks very good on all metrics and all aspect tags. Can the model perform close to that on test data?"
   ]
  },
  {
   "cell_type": "markdown",
   "metadata": {},
   "source": [
    "## 4.3. <a id='toc4_3_'></a>[Test](#toc0_)"
   ]
  },
  {
   "cell_type": "code",
   "execution_count": 79,
   "metadata": {},
   "outputs": [
    {
     "name": "stdout",
     "output_type": "stream",
     "text": [
      "Accuracy: 0.8342493491466589\n",
      "Classification Report:\n",
      "              precision    recall  f1-score   support\n",
      "\n",
      "       B-CON       0.00      0.00      0.00         9\n",
      "       B-NEG       0.15      0.23      0.18       215\n",
      "       B-NEU       0.10      0.37      0.15       115\n",
      "       B-POS       0.19      0.24      0.21       199\n",
      "       I-CON       0.00      0.00      0.00         7\n",
      "       I-NEG       0.22      0.21      0.21       105\n",
      "       I-NEU       0.12      0.46      0.19        89\n",
      "       I-POS       0.12      0.28      0.17        99\n",
      "           O       0.97      0.88      0.93      9533\n",
      "\n",
      "    accuracy                           0.83     10371\n",
      "   macro avg       0.21      0.30      0.23     10371\n",
      "weighted avg       0.90      0.83      0.87     10371\n",
      "\n"
     ]
    },
    {
     "data": {
      "image/png": "[encoded data removed]",
      "text/plain": [
       "<Figure size 800x600 with 2 Axes>"
      ]
     },
     "metadata": {},
     "output_type": "display_data"
    }
   ],
   "source": [
    "# Make predictions on the test set\n",
    "y_pred_rf = rf_classifier.predict(X_test_rf_scaled)\n",
    "\n",
    "# Evaluate the model\n",
    "accuracy = accuracy_score(y_test_rf, y_pred_rf)\n",
    "classification_rep = classification_report(y_test_rf, y_pred_rf)\n",
    "\n",
    "print(f\"Accuracy: {accuracy}\")\n",
    "print(\"Classification Report:\")\n",
    "print(classification_rep)\n",
    "\n",
    "# Compute confusion matrix\n",
    "conf_matrix = confusion_matrix(y_test_rf, y_pred_rf, labels=rf_classifier.classes_)\n",
    "\n",
    "# Plot the confusion matrix with seaborn\n",
    "plt.figure(figsize=(8, 6))\n",
    "sns.heatmap(conf_matrix, annot=True, fmt='d', cmap='Blues', xticklabels=rf_classifier.classes_, yticklabels=rf_classifier.classes_, vmax=100, vmin=1)\n",
    "plt.title('Confusion Matrix')\n",
    "plt.xlabel('Predicted Label')\n",
    "plt.ylabel('True Label')\n",
    "plt.show()\n"
   ]
  },
  {
   "cell_type": "markdown",
   "metadata": {},
   "source": [
    "Due to the nature of the very skewed dataset identified earlier, the model could not make any prediction on \"I-CON\" which is expected as the chances of having those tags in the results is also very rare. \n",
    "\n",
    "However, we can see that the model predict most words to be \"O\", and for those that it was able to predict not \"O\", it oftens confused between \"B\" & \"I\" and would almost predicting all results evenly between different sentiments.\n",
    "\n",
    "In the end, the model performance has dropped significantly comparing to training set. The model was way overfitting, and it looks like the model could not learn much from the training data."
   ]
  },
  {
   "cell_type": "markdown",
   "metadata": {},
   "source": [
    "## 4.4. <a id='toc4_4_'></a>[Feature importance](#toc0_)"
   ]
  },
  {
   "cell_type": "code",
   "execution_count": 80,
   "metadata": {},
   "outputs": [
    {
     "data": {
      "text/plain": [
       "Text(0.5, 1.0, 'Top 10 important features')"
      ]
     },
     "execution_count": 80,
     "metadata": {},
     "output_type": "execute_result"
    },
    {
     "data": {
      "image/png": "[encoded data removed]",
      "text/plain": [
       "<Figure size 640x480 with 1 Axes>"
      ]
     },
     "metadata": {},
     "output_type": "display_data"
    }
   ],
   "source": [
    "rf_feature_importance = pd.DataFrame({'feature': X_train_rf.columns, 'importance':rf_classifier.feature_importances_})\n",
    "rf_feature_importance = rf_feature_importance.sort_values(by=['importance'], ascending=False)\n",
    "plt.barh(rf_feature_importance['feature'][:10], rf_feature_importance['importance'][:10])\n",
    "plt.title('Top 10 important features')"
   ]
  },
  {
   "cell_type": "markdown",
   "metadata": {},
   "source": [
    "This shows that the random forest use information around whether the word is a noun or not for the prediction:\n",
    "- \\-1:word.pos_DT: whether word-1 is a determiner, e.g. the, a\n",
    "- word.pos_NN: whether word is noun\n",
    "- \\+ 1:word.pos_VBD: next word is a verb, a.k.a word is a subject\n",
    "...\n",
    "\n",
    "This could explain why we see the model confused so much around the polarity."
   ]
  },
  {
   "cell_type": "markdown",
   "metadata": {},
   "source": [
    "# 5. <a id='toc5_'></a>[CRF model](#toc0_)"
   ]
  },
  {
   "cell_type": "markdown",
   "metadata": {},
   "source": [
    "Conditional Random Field (CRF) model is a very famous algorithm for NER classification task. It is a type of discriminative undirected probabilistic graphical model.\n",
    "\n",
    "Let's apply this model on our dataset and see how it will perform."
   ]
  },
  {
   "cell_type": "markdown",
   "metadata": {},
   "source": [
    "## 5.1. <a id='toc5_1_'></a>[Model](#toc0_)"
   ]
  },
  {
   "cell_type": "code",
   "execution_count": 81,
   "metadata": {},
   "outputs": [],
   "source": [
    "# Create and train CRF model\n",
    "crf_model = CRF(algorithm='lbfgs',\n",
    "                max_iterations=100,\n",
    "                c1=0.5,\n",
    "                c2=0.05)\n",
    "\n",
    "# There is this error existing with this library: 'CRF' object has no attribute 'keep_tempfiles'\n",
    "# which has not been resolved and we can bypass it using this trick.\n",
    "try:\n",
    "  crf_model.fit(X_train['features'], y_train)\n",
    "except AttributeError:\n",
    "  pass"
   ]
  },
  {
   "cell_type": "code",
   "execution_count": 82,
   "metadata": {},
   "outputs": [
    {
     "name": "stdout",
     "output_type": "stream",
     "text": [
      "Accuracy: 0.9937214891842842\n",
      "Classification Report:\n",
      "              precision    recall  f1-score   support\n",
      "\n",
      "       B-CON       0.95      0.56      0.70        36\n",
      "       B-NEG       0.97      0.87      0.92       651\n",
      "       B-NEU       1.00      0.88      0.93       348\n",
      "       B-POS       0.94      0.91      0.93       789\n",
      "       I-CON       1.00      0.86      0.92        14\n",
      "       I-NEG       0.99      0.96      0.97       352\n",
      "       I-NEU       0.99      0.97      0.98       218\n",
      "       I-POS       0.95      0.98      0.97       286\n",
      "           O       1.00      1.00      1.00     38080\n",
      "\n",
      "    accuracy                           0.99     40774\n",
      "   macro avg       0.98      0.89      0.92     40774\n",
      "weighted avg       0.99      0.99      0.99     40774\n",
      "\n"
     ]
    },
    {
     "data": {
      "image/png": "[encoded data removed]",
      "text/plain": [
       "<Figure size 800x600 with 2 Axes>"
      ]
     },
     "metadata": {},
     "output_type": "display_data"
    }
   ],
   "source": [
    "y_train_crf_pred = crf_model.predict(X_train['features'])\n",
    "\n",
    "y_train_flat = [tag for sentence in y_train for tag in sentence]\n",
    "y_train_crf_pred_flat = [tag for sentence in y_train_crf_pred for tag in sentence]\n",
    "\n",
    "\n",
    "# Evaluate the model\n",
    "accuracy = accuracy_score(y_train_flat, y_train_crf_pred_flat)\n",
    "classification_rep = classification_report(y_train_flat, y_train_crf_pred_flat)\n",
    "\n",
    "print(f\"Accuracy: {accuracy}\")\n",
    "print(\"Classification Report:\")\n",
    "print(classification_rep)\n",
    "\n",
    "# Compute confusion matrix\n",
    "conf_matrix = confusion_matrix(y_train_flat, y_train_crf_pred_flat, labels=crf_model.classes_)\n",
    "\n",
    "# Plot the confusion matrix with seaborn\n",
    "plt.figure(figsize=(8, 6))\n",
    "sns.heatmap(conf_matrix, annot=True, fmt='d', cmap='Blues', xticklabels=crf_model.classes_, yticklabels=crf_model.classes_, vmax=100, vmin=1)\n",
    "plt.title('Confusion Matrix')\n",
    "plt.xlabel('Predicted Label')\n",
    "plt.ylabel('True Label')\n",
    "plt.show()\n"
   ]
  },
  {
   "cell_type": "markdown",
   "metadata": {},
   "source": [
    "This CRF model also performs \"super\" well on our training data just like Random Forest. Are we going to see a significant drop in performance simiarly to Random Forest on test data as well?"
   ]
  },
  {
   "cell_type": "markdown",
   "metadata": {},
   "source": [
    "## 5.2. <a id='toc5_2_'></a>[Test](#toc0_)"
   ]
  },
  {
   "cell_type": "code",
   "execution_count": 83,
   "metadata": {},
   "outputs": [
    {
     "name": "stderr",
     "output_type": "stream",
     "text": [
      "/Users/tina.vu/work/fun/sentilens_env/lib/python3.9/site-packages/sklearn/metrics/_classification.py:1471: UndefinedMetricWarning:\n",
      "\n",
      "Precision and F-score are ill-defined and being set to 0.0 in labels with no predicted samples. Use `zero_division` parameter to control this behavior.\n",
      "\n",
      "/Users/tina.vu/work/fun/sentilens_env/lib/python3.9/site-packages/sklearn/metrics/_classification.py:1471: UndefinedMetricWarning:\n",
      "\n",
      "Precision and F-score are ill-defined and being set to 0.0 in labels with no predicted samples. Use `zero_division` parameter to control this behavior.\n",
      "\n",
      "/Users/tina.vu/work/fun/sentilens_env/lib/python3.9/site-packages/sklearn/metrics/_classification.py:1471: UndefinedMetricWarning:\n",
      "\n",
      "Precision and F-score are ill-defined and being set to 0.0 in labels with no predicted samples. Use `zero_division` parameter to control this behavior.\n",
      "\n"
     ]
    },
    {
     "name": "stdout",
     "output_type": "stream",
     "text": [
      "Accuracy: 0.9391572654517404\n",
      "Classification Report:\n",
      "              precision    recall  f1-score   support\n",
      "\n",
      "       B-CON       0.00      0.00      0.00         9\n",
      "       B-NEG       0.50      0.32      0.39       215\n",
      "       B-NEU       0.36      0.22      0.27       115\n",
      "       B-POS       0.56      0.48      0.52       199\n",
      "       I-CON       0.00      0.00      0.00         7\n",
      "       I-NEG       0.39      0.39      0.39       105\n",
      "       I-NEU       0.52      0.36      0.42        89\n",
      "       I-POS       0.46      0.31      0.37        99\n",
      "           O       0.97      0.99      0.98      9533\n",
      "\n",
      "    accuracy                           0.94     10371\n",
      "   macro avg       0.42      0.34      0.37     10371\n",
      "weighted avg       0.93      0.94      0.93     10371\n",
      "\n"
     ]
    },
    {
     "data": {
      "image/png": "[encoded data removed]",
      "text/plain": [
       "<Figure size 800x600 with 2 Axes>"
      ]
     },
     "metadata": {},
     "output_type": "display_data"
    }
   ],
   "source": [
    "y_test_crf_pred = crf_model.predict(X_test['features'])\n",
    "\n",
    "y_test_flat = [tag for sentence in y_test for tag in sentence]\n",
    "y_test_crf_pred_flat = [tag for sentence in y_test_crf_pred for tag in sentence]\n",
    "\n",
    "\n",
    "# Evaluate the model\n",
    "accuracy = accuracy_score(y_test_flat, y_test_crf_pred_flat)\n",
    "classification_rep = classification_report(y_test_flat, y_test_crf_pred_flat)\n",
    "\n",
    "print(f\"Accuracy: {accuracy}\")\n",
    "print(\"Classification Report:\")\n",
    "print(classification_rep)\n",
    "\n",
    "# Compute confusion matrix\n",
    "conf_matrix = confusion_matrix(y_test_flat, y_test_crf_pred_flat, labels=crf_model.classes_)\n",
    "\n",
    "# Plot the confusion matrix with seaborn\n",
    "plt.figure(figsize=(8, 6))\n",
    "sns.heatmap(conf_matrix, annot=True, fmt='d', cmap='Blues', xticklabels=crf_model.classes_, yticklabels=crf_model.classes_, vmax=100, vmin=1)\n",
    "plt.title('Confusion Matrix')\n",
    "plt.xlabel('Predicted Label')\n",
    "plt.ylabel('True Label')\n",
    "plt.show()\n"
   ]
  },
  {
   "cell_type": "markdown",
   "metadata": {},
   "source": [
    "Similarly to Random Forest mode, CRF performance has also dropped a lot. It also tend to classify most records to \"O\" class, while there was no words predicted as \"conflict\". \"B\" & \"I\" seem to be pre\n",
    "\n",
    "The model also could not distinguish the aspect sentiments very well. However, we can see that fewer \"I\" words are being predicted as \"B\" and vice versa.\n",
    "\n",
    "So in general, CRF does have a slightly better improvement comparing to Random Forest and that \"conflict\" aspects are almost impossible to be predicted given how scarce the label is. We may want to incorporate \"conflict\" into \"negative\" as they seems to match their profile better, and will make it easier for the model to perform."
   ]
  },
  {
   "cell_type": "markdown",
   "metadata": {},
   "source": [
    "## 5.3. <a id='toc5_3_'></a>[Further look into the model's mistakes](#toc0_)"
   ]
  },
  {
   "cell_type": "code",
   "execution_count": 84,
   "metadata": {},
   "outputs": [
    {
     "name": "stdout",
     "output_type": "stream",
     "text": [
      "Label transition proability score:\n",
      "B-NEG  -> I-NEG   6.935725\n",
      "B-POS  -> I-POS   6.599966\n",
      "I-POS  -> I-POS   6.333174\n",
      "B-NEU  -> I-NEU   6.235767\n",
      "B-CON  -> I-CON   6.065738\n",
      "I-NEG  -> I-NEG   5.992701\n",
      "I-NEU  -> I-NEU   5.284141\n",
      "I-CON  -> I-CON   2.609678\n",
      "O      -> B-POS   2.561054\n",
      "O      -> O       2.489118\n",
      "O      -> B-NEG   1.718510\n",
      "O      -> B-NEU   1.500756\n",
      "O      -> B-CON   0.926945\n",
      "B-NEG  -> O       0.212987\n",
      "B-POS  -> O       -0.001109\n",
      "I-NEG  -> O       -0.180419\n",
      "I-NEU  -> O       -0.219391\n",
      "I-POS  -> O       -0.262960\n",
      "B-NEU  -> O       -0.334603\n",
      "B-CON  -> O       -1.007125\n",
      "I-CON  -> O       -1.506421\n"
     ]
    }
   ],
   "source": [
    "def print_transitions(trans_features):\n",
    "    for (label_from, label_to), weight in trans_features:\n",
    "        print(\"%-6s -> %-7s %0.6f\" % (label_from, label_to, weight))\n",
    "\n",
    "print(\"Label transition proability score:\")\n",
    "print_transitions(Counter(crf_model.transition_features_).most_common())\n"
   ]
  },
  {
   "cell_type": "markdown",
   "metadata": {},
   "source": [
    "- We can see that it is very unlikely that once a model predicted a word as an aspect term to be non-aspect term. However, there are some decent chances that non-aspect term can be predicted as aspect terms. We can also look into some other types of model like Uhmm which will return a probability for each class prediction and may make some adjustment to remove lower proprability prediction of class \"O\" and pick the next highest probabable class prediction in the post-processing steps.\n",
    "\n",
    "- Additionally, we can also see that there are high chances that the \"B\" words can be predicted as \"I\" as well. Per construction, every \"I\" word chain has to have a preceding \"B\", therefore, if there was no \"B\" that \"I\" chunk can be invalid. On the otherhand, we may also need to look into whether our chunks have been broken down too much, as whether we are ppredicting more singular aspect terms than multi-word aspect terms. This can also be re-adjusted based on our post-processing steps to ensure the construction rule is followed."
   ]
  },
  {
   "cell_type": "markdown",
   "metadata": {},
   "source": [
    "## 5.4. <a id='toc5_4_'></a>[BIO construction violations](#toc0_)"
   ]
  },
  {
   "cell_type": "markdown",
   "metadata": {},
   "source": [
    "Just a quick look to see if there is any BIO construction violations in our predictions:\n",
    "- BI: every \"I\" word chain has to have a preceding \"B\", therefore, if there was no \"B\" that \"I\" chunk can be invalid.\n",
    "- BB: it is very unlikely that two consecutive aspect terms do not have any seperator (another token in between)."
   ]
  },
  {
   "cell_type": "code",
   "execution_count": 85,
   "metadata": {},
   "outputs": [],
   "source": [
    "def check_BIO_construction_violations (tags):\n",
    "  # Convert to BIO tag - removing sentiment\n",
    "  bio_y = [[word[:1] for word in sentence]for sentence in tags]\n",
    "  # Join all tags in sentence to make a string of BIO tags\n",
    "  bio_str = [''.join(sentence) for sentence in bio_y]\n",
    "\n",
    "  # Test if all \"I\" chunks have preceeding \"B\"\n",
    "  # Find in string if there is any \"I\" in the first word or \"I\" with \"O\" preceding\n",
    "  bi_violations = [i  for i,sentence in enumerate(bio_str) if (re.match('^I.*',sentence) or re.match('.*OI.*',sentence))] # return sentence index if any violations found\n",
    "  print('BI violations in data: ', len(bi_violations))\n",
    "\n",
    "  # Test if there are any \"BB\", a.k.a consecutive aspect terms. This can happen in reality, but also is very rare, as they are normally separated by some kind punctuations\n",
    "  # if there is any violations we can look into it \n",
    "  bb_violations = [i for i, sentence in enumerate(bio_str) if (re.match('.*BB.*',sentence))]\n",
    "  print('BB violations in data: ', len(bb_violations))\n",
    "\n",
    "  return bi_violations, bb_violations, bio_str\n"
   ]
  },
  {
   "cell_type": "code",
   "execution_count": 86,
   "metadata": {},
   "outputs": [
    {
     "name": "stdout",
     "output_type": "stream",
     "text": [
      "Check for BIO construction violations in predicted training data prediction\n",
      "BI violations in data:  0\n",
      "BB violations in data:  1\n",
      "\n",
      "Check for BIO construction violations in predicted test data prediction\n",
      "BI violations in data:  0\n",
      "BB violations in data:  0\n",
      "\n",
      "Check for BIO construction violations in training data prediction\n",
      "BI violations in data:  0\n",
      "BB violations in data:  1\n",
      "\n",
      "Check for BIO construction violations in test data prediction\n",
      "BI violations in data:  0\n",
      "BB violations in data:  0\n"
     ]
    }
   ],
   "source": [
    "print('Check for BIO construction violations in predicted training data prediction')\n",
    "train_pred_bi_violations, train_pred_bb_violations, train_pred_bio_string = check_BIO_construction_violations(y_train_crf_pred)\n",
    "\n",
    "print('\\nCheck for BIO construction violations in predicted test data prediction')\n",
    "test_pred_bi_violations, test_pred_bb_violations, test_pred_bio_string = check_BIO_construction_violations(y_test_crf_pred)\n",
    "\n",
    "print('\\nCheck for BIO construction violations in training data prediction')\n",
    "train_bi_violations, train_bb_violations, train_bio_string = check_BIO_construction_violations(y_train.array)\n",
    "\n",
    "print('\\nCheck for BIO construction violations in test data prediction')\n",
    "test_bi_violations, test_bb_violations, test_bio_string = check_BIO_construction_violations(y_test.array)"
   ]
  },
  {
   "cell_type": "markdown",
   "metadata": {},
   "source": [
    "It is intersting that we do not have \"BI\" violations. But there is one in the training dataset as well as 1 in our training prediction as well. \n",
    "\n",
    "Let's have a look at these sentences."
   ]
  },
  {
   "cell_type": "code",
   "execution_count": 87,
   "metadata": {},
   "outputs": [
    {
     "data": {
      "image/png": "[encoded data removed]",
      "text/plain": [
       "<Figure size 3000x1000 with 1 Axes>"
      ]
     },
     "metadata": {},
     "output_type": "display_data"
    }
   ],
   "source": [
    "tags = [y_train_crf_pred[train_pred_bb_violations[0]]]\n",
    "sentences = [[x['word.lower()'] for x in X_train.iloc[train_pred_bb_violations[0]]['features']]]\n",
    "vizualize_samples(sentences, {'Training prediction': tags})\n"
   ]
  },
  {
   "cell_type": "markdown",
   "metadata": {},
   "source": [
    "This is prediction value so we expect this to happen."
   ]
  },
  {
   "cell_type": "code",
   "execution_count": 88,
   "metadata": {},
   "outputs": [
    {
     "data": {
      "image/png": "[encoded data removed]",
      "text/plain": [
       "<Figure size 3000x1000 with 1 Axes>"
      ]
     },
     "metadata": {},
     "output_type": "display_data"
    }
   ],
   "source": [
    "tags = [y_train.iloc[train_bb_violations[0]]]\n",
    "sentences = [[x['word.lower()'] for x in X_train.iloc[train_bb_violations[0]]['features']]]\n",
    "vizualize_samples(sentences, {'Actual': tags})\n"
   ]
  },
  {
   "cell_type": "markdown",
   "metadata": {},
   "source": [
    "# 6. <a id='toc6_'></a>[Model evaluation](#toc0_)"
   ]
  },
  {
   "cell_type": "markdown",
   "metadata": {},
   "source": [
    "## 6.1. <a id='toc6_1_'></a>[Metric for model evaluation](#toc0_)"
   ]
  },
  {
   "cell_type": "markdown",
   "metadata": {},
   "source": [
    "Since NER is a multi-class classification task, we cannot look into each individual tag's metrics to evaluate different models. We need a single metric that can unified other individual tag's performance.\n",
    "\n",
    "Here I would use __macro average f1-score__ for our model evaluation and selection:\n",
    "- f1-score is a harmonic metric that gives us a balance view on our imbalanced dataset\n",
    "- Also a macro average is selected in order to combine all idividual tag metrics together. I selected \"macro\" instead of \"micro\" average as it gives more balanced evaluation regardless of the imbalanced distribution of the tags in the dataset & the likelyhood of correctly predicting the dominant class."
   ]
  },
  {
   "cell_type": "code",
   "execution_count": 93,
   "metadata": {},
   "outputs": [
    {
     "name": "stdout",
     "output_type": "stream",
     "text": [
      "Macro avg f1-score:\n",
      "Random Forest:  0.22742393733290278\n",
      "CRF          :  0.37158571427681064\n"
     ]
    }
   ],
   "source": [
    "from sklearn.metrics import f1_score\n",
    "\n",
    "print('Macro avg f1-score:')\n",
    "print('Random Forest: ', f1_score(y_test_rf, y_pred_rf, average='macro'))\n",
    "print('CRF          : ', f1_score(y_test_flat, y_test_crf_pred_flat, average='macro'))"
   ]
  },
  {
   "cell_type": "markdown",
   "metadata": {},
   "source": [
    "From this metric, we can see that a default CRF model has already improved the performance by > 1.5x times comparing to Random Forest. \n",
    "\n",
    "If we were to provided better word embeddings (features) to the model, and tuning the context windows, and other hyper-parameters, I believe the model performance will improve significantly."
   ]
  },
  {
   "cell_type": "markdown",
   "metadata": {},
   "source": [
    "# 7. <a id='toc7_'></a>[Sample visualization](#toc0_)"
   ]
  },
  {
   "cell_type": "markdown",
   "metadata": {},
   "source": [
    "Let's have a look at a few examples to see how our CRF model did."
   ]
  },
  {
   "cell_type": "code",
   "execution_count": 94,
   "metadata": {},
   "outputs": [
    {
     "name": "stdout",
     "output_type": "stream",
     "text": [
      "177\n"
     ]
    },
    {
     "data": {
      "image/png": "[encoded data removed]",
      "text/plain": [
       "<Figure size 3000x1000 with 1 Axes>"
      ]
     },
     "metadata": {},
     "output_type": "display_data"
    }
   ],
   "source": [
    "samples = 5\n",
    "integer = 177\n",
    "# integer = random.randint(0,len(X_test) - samples) # Enable this & disable prev line, to generate random samples\n",
    "tags = y_test[integer:integer+samples].array\n",
    "pred_tags = crf_model.predict(X_test['features'][integer:integer+samples])\n",
    "sentences = [[x['word.lower()'] for x in sentence] for sentence in X_test['features'][integer:integer+samples]]\n",
    "\n",
    "print(integer)\n",
    "vizualize_samples(sentences, {'CRF  ':pred_tags, 'Actual': tags})\n"
   ]
  },
  {
   "cell_type": "markdown",
   "metadata": {},
   "source": [
    "The results do not look so bad. \n",
    "\n",
    "On the first sentence, the model seems to not being able to extract any aspect. \n",
    "The fourth sentence, \"battery life\" was predicted as \"negative\" instead of \"conflict\". Given the scarcity of \"conflict\", I may want to classify \"conflict\" as \"negative\" in the next iteration. For \"neutral\" aspects, I may also consider removing them all together, as we want to provide opinionated aspects, otherwise it is not as valuable to our end users. But these will be covered in the next model iterations."
   ]
  },
  {
   "cell_type": "markdown",
   "metadata": {},
   "source": [
    "# 8. <a id='toc8_'></a>[Next steps](#toc0_)\n",
    "__Feature improvement__</br>\n",
    "Add more features:  head words,  Google Word2Vec word embeddings\n",
    "\n",
    "__Unsupervised training__</br>\n",
    "Re-train model using rule-based aspect term extraction on larger dataset\n",
    "\n",
    "__Productionize__</br>\n",
    "An app to allow users to look for specific product reviews & filter review by aspects + summarize aspect sentiments\n"
   ]
  },
  {
   "cell_type": "markdown",
   "metadata": {},
   "source": []
  }
 ],
 "metadata": {
  "kernelspec": {
   "display_name": "brainstation_capstone",
   "language": "python",
   "name": "python3"
  },
  "language_info": {
   "codemirror_mode": {
    "name": "ipython",
    "version": 3
   },
   "file_extension": ".py",
   "mimetype": "text/x-python",
   "name": "python",
   "nbconvert_exporter": "python",
   "pygments_lexer": "ipython3",
   "version": "3.9.18"
  }
 },
 "nbformat": 4,
 "nbformat_minor": 2
}
