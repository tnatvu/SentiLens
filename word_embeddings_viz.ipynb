{
 "cells": [
  {
   "cell_type": "code",
   "execution_count": null,
   "metadata": {},
   "outputs": [],
   "source": [
    "word_list = ['onion', 'sauce', 'fish', 'chicken'] #example\n",
    "\n",
    "plt.subplots(len(word_list), 1, figsize=(20, 5)) #plot\n",
    "\n",
    "for i, word in enumerate(word_list): #for loop to get each word in the list\n",
    "    plt.subplot(len(word_list), 1, i + 1) #subplot\n",
    "    plt.imshow(np.tile(fasttext_model.get_word_vector(word), (10, 1))) #data\n",
    "    plt.xticks([]) #no xticks\n",
    "    plt.yticks([]) #no yticks\n",
    "    plt.title(f\"\\\"{word}\\\" embedding vector\") #title\n",
    "\n",
    "plt.tight_layout()\n",
    "plt.show()"
   ]
  },
  {
   "cell_type": "markdown",
   "metadata": {},
   "source": [
    "# Viz class prediction output"
   ]
  },
  {
   "cell_type": "code",
   "execution_count": null,
   "metadata": {},
   "outputs": [],
   "source": [
    "def plot_value_array(sentence, predictions_array, true_label):\n",
    "  true_label = tag_to_number[true_label]\n",
    "  plt.grid(False)\n",
    "  plt.xticks(range(10))\n",
    "  plt.yticks([])\n",
    "  thisplot = plt.bar(range(number_of_tags), predictions_array, color=\"#777777\")\n",
    "  plt.ylim([0, 1])\n",
    "  predicted_label = np.argmax(predictions_array)\n",
    "  \n",
    "  thisplot[predicted_label].set_color('red')\n",
    "  thisplot[true_label].set_color('blue')\n",
    "\n",
    "  plt.xticks(range(number_of_tags),['UNK'] + list(tag_to_number.keys()))\n",
    "  plt.title(sentence)\n",
    "  \n",
    "\n",
    "i = 0\n",
    "plt.figure(figsize=(6,3))\n",
    "# plt.subplot(1,2,2)\n",
    "plot_value_array(output_phrase, predict_proba,  'O')\n",
    "plt.show()"
   ]
  }
 ],
 "metadata": {
  "language_info": {
   "name": "python"
  }
 },
 "nbformat": 4,
 "nbformat_minor": 2
}
